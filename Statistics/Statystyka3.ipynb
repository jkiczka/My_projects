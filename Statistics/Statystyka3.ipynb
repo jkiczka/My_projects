{
 "cells": [
  {
   "cell_type": "markdown",
   "id": "051ebd2f-b72c-4bca-ab40-2d0e812d6145",
   "metadata": {},
   "source": [
    "### Zadanie 1 (przedział ufności dla średniej przy znanej wariancji)"
   ]
  },
  {
   "cell_type": "markdown",
   "id": "ff0afb73-85f1-47fd-9810-b305b24bffbd",
   "metadata": {},
   "source": [
    "Wiemy, że zmiennna losowa $ Y=\\frac{\\bar{X}-\\mu}{\\frac{\\sigma}{\\sqrt{n}}}$ ma rozkład normany $N(0,1)$, ponieważ $\\bar{X} \\sim N(\\mu,\\frac{\\sigma}{\\sqrt{n}})$. \n",
    "\n",
    "Korzystając z tego faktu, możemy obliczyć  $\\mathbb{P } (z_{\\frac{\\alpha}{2}} \\leq Y \\leq z_{1-\\frac{\\alpha}{2}})=1-\\alpha$"
   ]
  },
  {
   "cell_type": "markdown",
   "id": "5eab9ef9-b331-4aa6-97d5-4adb5a90ada1",
   "metadata": {},
   "source": [
    "Ze względu na symetrię rozkładu normalnego, mamy $ z_{\\frac{\\alpha}{2}} = -z_{1-\\frac{\\alpha}{2}}$. Po wykonaniu przekształceń otzrymujemy:"
   ]
  },
  {
   "cell_type": "markdown",
   "id": "017e18af-389f-403f-9cc6-1081e41f3fd9",
   "metadata": {},
   "source": [
    "$ \\mathbb{P } (\\bar{X}-z_{1-\\frac{\\alpha}{2}}\\frac{\\sigma}{\\sqrt{n}} \\leq \\mu \\leq \\bar{X}+z_{1-\\frac{\\alpha}{2}}{\\frac{\\sigma}{\\sqrt{n}}}) $"
   ]
  },
  {
   "cell_type": "markdown",
   "id": "bab6bb01-ec94-4d44-8335-25d53b1357d0",
   "metadata": {},
   "source": [
    "Wobec tego szukanym przedziałem ufności jest: $ [\\bar{X}-z_{1-\\frac{\\alpha}{2}}\\frac{\\sigma}{\\sqrt{n}}, \\bar{X}+z_{1-\\frac{\\alpha}{2}}{\\frac{\\sigma}{\\sqrt{n}}}] $. Możemy zaobserwować, że długość przedziału ufności rośnie wraz ze wzrostem parametru odchylenia standardowego $\\sigma$ i maleje wraz ze wzrostem liczebności próby $n$."
   ]
  },
  {
   "cell_type": "markdown",
   "id": "1d06c6b1-78cf-4aeb-a22a-009e3239b04b",
   "metadata": {},
   "source": [
    "### Zadanie 2"
   ]
  },
  {
   "cell_type": "code",
   "execution_count": 29,
   "id": "f867721e-0ba5-4412-b8c7-c6a43729be4a",
   "metadata": {},
   "outputs": [],
   "source": [
    "def confidence_interval(data, sigma, alpha=0.05):\n",
    "    x=np.mean(data)\n",
    "    q_value=1-alpha/2\n",
    "    quantile=stats.norm.ppf(q_value)\n",
    "    return (x-quantile*sigma/np.sqrt(len(data)),x+quantile*sigma/np.sqrt(len(data)))"
   ]
  },
  {
   "cell_type": "code",
   "execution_count": 30,
   "id": "141713a6-7119-4862-ba32-71a6663a988f",
   "metadata": {},
   "outputs": [
    {
     "name": "stdout",
     "output_type": "stream",
     "text": [
      "Podpunkt i)\n",
      "Prawdopodobieństwo pokrycia ́sredniej przez przedział ufności: 0.9492\n",
      "Średnia długość przedziału ufności: 0.554361529739871\n",
      "Podpunkt ii)\n",
      "Prawdopodobieństwo pokrycia ́sredniej przez przedział ufności: 0.9492\n",
      "Średnia długość przedziału ufności: 1.108723059479742\n",
      "Podpunkt iii)\n",
      "Prawdopodobieństwo pokrycia ́sredniej przez przedział ufności: 0.9492\n",
      "Średnia długość przedziału ufności: 1.663084589219614\n"
     ]
    }
   ],
   "source": [
    "import numpy as np\n",
    "import scipy.stats as stats\n",
    "from scipy.stats import cauchy\n",
    "n = 50\n",
    "N = 10000\n",
    "mi=0\n",
    "name = ['i)', 'ii)', 'iii)']\n",
    "sigma=[1,2,3]\n",
    "\n",
    "cauchy_mi=[]\n",
    "cauchy_var=[]\n",
    "for j in range(3):\n",
    "    s=0\n",
    "    z=0\n",
    "    for i in range(N):\n",
    "                np.random.seed(i)\n",
    "                data=cauchy.rvs(0,sigma[j],n)\n",
    "                s+=np.mean(data)\n",
    "                z+=np.var(data)\n",
    "    s=s/N\n",
    "    z=z/N\n",
    "    cauchy_mi.append(s)\n",
    "    cauchy_var.append(z)\n",
    "    \n",
    "            \n",
    "\n",
    "def task2_1(f,mi,sigma,std):\n",
    "    for j in range(3):\n",
    "        ci_len=[]\n",
    "        mi_in=0\n",
    "        print('Podpunkt', name[j])\n",
    "        for i in range(N):\n",
    "            np.random.seed(i)\n",
    "            data = f(mi, sigma[j], n)\n",
    "            a,b=confidence_interval(data, std[j])\n",
    "            if (mi<=b and mi>=a):\n",
    "                mi_in+=1\n",
    "            ci_len.append(b-a)\n",
    "        print('Prawdopodobieństwo pokrycia ́sredniej przez przedział ufności:', mi_in/N)\n",
    "        print('Średnia długość przedziału ufności:', np.mean(ci_len))\n",
    "\n",
    "def task2_c(f,mi,sigma,mic,std):\n",
    "    for j in range(3):\n",
    "        ci_len=[]\n",
    "        mi_in=0\n",
    "        print('Podpunkt', name[j])\n",
    "        for i in range(N):\n",
    "            np.random.seed(i)\n",
    "            data = f(mi, sigma[j], n)\n",
    "            a,b=confidence_interval(data, std[j])\n",
    "            if (mic[j]<=b and mic[j]>=a):\n",
    "                mi_in+=1\n",
    "            ci_len.append(b-a)\n",
    "        print('Prawdopodobieństwo pokrycia ́sredniej przez przedział ufności:', mi_in/N)\n",
    "        print('Średnia długość przedziału ufności:', np.mean(ci_len))\n",
    "        \n",
    "\n",
    "\n",
    "def task2_2(f,mi,sigma,std):\n",
    "    for j in range(3):\n",
    "        ci_len=[]\n",
    "        mi_in=0\n",
    "        print('Podpunkt', name[j])\n",
    "        for i in range(N):\n",
    "            np.random.seed(i)\n",
    "            data = f(sigma[j], n)\n",
    "            a,b=confidence_interval(data, std[j])\n",
    "            if (mi[j]<=b and mi[j]>=a):\n",
    "                mi_in+=1\n",
    "            ci_len.append(b-a)\n",
    "        print('Prawdopodobieństwo pokrycia ́sredniej przez przedział ufności:', mi_in/N)\n",
    "        print('Średnia długość przedziału ufności:', np.mean(ci_len))\n",
    "\n",
    "\n",
    "def task2_3(f,mi,sigma,std):\n",
    "    for j in range(3):\n",
    "        ci_len=[]\n",
    "        mi_in=0\n",
    "        print('Podpunkt', name[j])\n",
    "        for i in range(N):\n",
    "            np.random.seed(i)\n",
    "            data = f(sigma[j], n)\n",
    "            a,b=confidence_interval(data, 2*sigma[j])\n",
    "            if (mi[j]<=b and mi[j]>=a):\n",
    "                mi_in+=1\n",
    "            ci_len.append(b-a)\n",
    "        print('Prawdopodobieństwo pokrycia ́sredniej przez przedział ufności:', mi_in/N)\n",
    "        print('Średnia długość przedziału ufności:', np.mean(ci_len))\n",
    "\n",
    "\n",
    "\n",
    "task2_1(np.random.normal, mi, sigma, sigma)\n",
    "        "
   ]
  },
  {
   "cell_type": "code",
   "execution_count": 31,
   "id": "145ac564-553b-4a9a-9e1c-30778a102571",
   "metadata": {},
   "outputs": [
    {
     "name": "stdout",
     "output_type": "stream",
     "text": [
      "Podpunkt i)\n",
      "Prawdopodobieństwo pokrycia ́sredniej przez przedział ufności: 0.9513\n",
      "Średnia długość przedziału ufności: 1.005500590198087\n",
      "Podpunkt ii)\n",
      "Prawdopodobieństwo pokrycia ́sredniej przez przedział ufności: 0.9513\n",
      "Średnia długość przedziału ufności: 2.011001180396174\n",
      "Podpunkt iii)\n",
      "Prawdopodobieństwo pokrycia ́sredniej przez przedział ufności: 0.9513\n",
      "Średnia długość przedziału ufności: 3.0165017705942603\n"
     ]
    }
   ],
   "source": [
    "task2_1(np.random.logistic, mi, sigma, [np.sqrt((i*np.pi)**2/3) for i in sigma])"
   ]
  },
  {
   "cell_type": "code",
   "execution_count": 32,
   "id": "2fee2b25-f79b-4795-b14f-465b91cd10f2",
   "metadata": {},
   "outputs": [
    {
     "name": "stdout",
     "output_type": "stream",
     "text": [
      "Podpunkt i)\n",
      "Prawdopodobieństwo pokrycia ́sredniej przez przedział ufności: 0.9993\n",
      "Średnia długość przedziału ufności: 1769.511799326498\n",
      "Podpunkt ii)\n",
      "Prawdopodobieństwo pokrycia ́sredniej przez przedział ufności: 0.9993\n",
      "Średnia długość przedziału ufności: 3539.023598652996\n",
      "Podpunkt iii)\n",
      "Prawdopodobieństwo pokrycia ́sredniej przez przedział ufności: 0.9993\n",
      "Średnia długość przedziału ufności: 5308.535397979516\n"
     ]
    }
   ],
   "source": [
    "task2_c(cauchy.rvs, mi, sigma, cauchy_mi, [np.sqrt(i) for i in cauchy_var])"
   ]
  },
  {
   "cell_type": "code",
   "execution_count": 33,
   "id": "aea538c8-54e4-4190-96ac-07fa62417234",
   "metadata": {},
   "outputs": [
    {
     "name": "stdout",
     "output_type": "stream",
     "text": [
      "Podpunkt i)\n",
      "Prawdopodobieństwo pokrycia ́sredniej przez przedział ufności: 0.9993\n",
      "Średnia długość przedziału ufności: 1769.511799326498\n",
      "Podpunkt ii)\n",
      "Prawdopodobieństwo pokrycia ́sredniej przez przedział ufności: 0.9993\n",
      "Średnia długość przedziału ufności: 3539.023598652996\n",
      "Podpunkt iii)\n",
      "Prawdopodobieństwo pokrycia ́sredniej przez przedział ufności: 0.9993\n",
      "Średnia długość przedziału ufności: 5308.535397979516\n"
     ]
    }
   ],
   "source": [
    "task2_1(cauchy.rvs,mi,sigma, [np.sqrt(i) for i in cauchy_var])"
   ]
  },
  {
   "cell_type": "code",
   "execution_count": 34,
   "id": "d8917576-188c-465b-826d-adb6f41f24fd",
   "metadata": {},
   "outputs": [
    {
     "name": "stdout",
     "output_type": "stream",
     "text": [
      "Podpunkt i)\n",
      "Prawdopodobieństwo pokrycia ́sredniej przez przedział ufności: 0.9503\n",
      "Średnia długość przedziału ufności: 0.5543615297398712\n",
      "Podpunkt ii)\n",
      "Prawdopodobieństwo pokrycia ́sredniej przez przedział ufności: 0.9503\n",
      "Średnia długość przedziału ufności: 1.1087230594797424\n",
      "Podpunkt iii)\n",
      "Prawdopodobieństwo pokrycia ́sredniej przez przedział ufności: 0.9503\n",
      "Średnia długość przedziału ufności: 1.6630845892196136\n"
     ]
    }
   ],
   "source": [
    "task2_2(np.random.exponential,sigma, sigma, sigma)"
   ]
  },
  {
   "cell_type": "code",
   "execution_count": 35,
   "id": "d9090981-3f52-4208-9513-449142508b78",
   "metadata": {},
   "outputs": [
    {
     "name": "stdout",
     "output_type": "stream",
     "text": [
      "Podpunkt i)\n",
      "Prawdopodobieństwo pokrycia ́sredniej przez przedział ufności: 0.9519\n",
      "Średnia długość przedziału ufności: 0.7839855938160216\n",
      "Podpunkt ii)\n",
      "Prawdopodobieństwo pokrycia ́sredniej przez przedział ufności: 0.9503\n",
      "Średnia długość przedziału ufności: 1.1087230594797424\n",
      "Podpunkt iii)\n",
      "Prawdopodobieństwo pokrycia ́sredniej przez przedział ufności: 0.9523\n",
      "Średnia długość przedziału ufności: 1.3579028808914058\n"
     ]
    }
   ],
   "source": [
    "task2_2(np.random.chisquare,sigma, sigma, [np.sqrt(2*i) for i in sigma])"
   ]
  },
  {
   "cell_type": "markdown",
   "id": "8d9c2c48-ef7d-4e58-9bc5-a60dc90c2a48",
   "metadata": {},
   "source": [
    "Długość przedziału ufności rośnie wraz ze wzrostem parametru wariancji $\\sigma$. Możemy to zaobserwować dla każdego z rozkładów - generalnie przy ustalonym $n=50$ to odchylenie standardowe decyduje o długości przedziału. Dla rozkładu normalnego, wykładniczego, logistycznego i chi-kwadrat dostajemy prawdopodobieństwo pokrycia rzędu $\\approx 0.95 $, czyli bliskie $1-\\alpha$. Możemy zaobserwować, że dla rozkładów symetrycznych, przedziały ufności dla średniej oparte na kwantylach z rozkładu normalnego są wyznaczone dostatecznie dokładnie, ze względu na szybką zbieżność w Centralnym Twierdzeniu Granicznym. Dla rozkładu Cauchy'ego średnia i wariancja nie są zdefiniowane. Dlatego wyliczam je wcześniej eksperymentalnie dla niezależnie wygenerowanych próbek. Przyjmując za wartość średnią paramter lokacji, otrzymujemy prawdopodobieństwo pokrycia $\\approx 0.99$. Dla wcześniej niezależnie wyliczonej średniej, prawdopodobieństwo pokrycia to również $\\approx 0.99$. Ze względu na nieograniczoną wariancję przedziały stają się bardzo duże i nietrudno jest nam pokryć obliczoną eksperymentalnie wcześniej wartość średniej."
   ]
  },
  {
   "cell_type": "markdown",
   "id": "71b7ebb0-09b5-4c29-83c7-4bb6dc12c840",
   "metadata": {},
   "source": [
    "### Zadanie 3 (przedział ufności dla średniej przy nieznanej wariancji)"
   ]
  },
  {
   "cell_type": "markdown",
   "id": "03255293-f74b-499d-a05c-51ae1e3b6160",
   "metadata": {},
   "source": [
    "Teraz, w przeciwieństwie do zadania 1, nie znamy wariancji. Możemy posłużyć się nieobciążonym estymatorem wariancji dla próbki: $S^2=\\frac{1}{n-1}\\sum_{i=1}^{n} (X_i-\\bar{X})^2$. Rozważamy teraz zmienną $ T=\\frac{\\bar{X}-\\mu}{\\frac{S}{\\sqrt{n}}}$. Dla małych próbek wykorzytamy kwantyle z rozkładu t-Studenta, dla dużych (takich jak nasze n=50) - z rozkładu normalnego."
   ]
  },
  {
   "cell_type": "markdown",
   "id": "493669b8-8ce3-4846-969e-7203a8caf2e1",
   "metadata": {},
   "source": [
    "$\\mathbb{P } (t_{\\frac{\\alpha}{2}, {n-1}} \\leq T \\leq t_{{1-\\frac{\\alpha}{2}}, {n-1}})=1-\\alpha$ daje nam przedział ufności $ [\\bar{X}-t_{1-\\frac{\\alpha}{2}}\\frac{S}{\\sqrt{n}}, \\bar{X}+t_{1-\\frac{\\alpha}{2}}{\\frac{S}{\\sqrt{n}}}] $"
   ]
  },
  {
   "cell_type": "markdown",
   "id": "6319cc20-70a7-4f01-ac52-b0e5e1f485c4",
   "metadata": {},
   "source": [
    "Ponieważ rozproszenie estmatora $S^2$ maleje wraz ze wzrostem\n",
    "liczności próby n, estymator ten dąży do prawdziwej wartości wariancji rozkładu $σ^2$. Stąd gęstość\n",
    "rozkładu $t_{n−1}$ dąży do gęstości rozkładu $N(0, 1)$, czyli kwantyle\n",
    "rozkładu t dążą do kwantyli tego samego rzędu rozkładu $N (0, 1)$.\n",
    "Zatem, dla dostatecznie dużej liczności próby, można w przypadku\n",
    "nieznajomości odchylenia standardowego rozważać przedział ufności $ [\\bar{X}-z_{1-\\frac{\\alpha}{2}}\\frac{S}{\\sqrt{n}}, \\bar{X}+z_{1-\\frac{\\alpha}{2}}{\\frac{S}{\\sqrt{n}}}] $"
   ]
  },
  {
   "cell_type": "markdown",
   "id": "c51389ed-3b69-4d57-8b13-0bca32855b7c",
   "metadata": {},
   "source": [
    "### Zadanie 4"
   ]
  },
  {
   "cell_type": "code",
   "execution_count": 23,
   "id": "4a330867-c664-4cf8-960b-906f801894cd",
   "metadata": {},
   "outputs": [
    {
     "name": "stdout",
     "output_type": "stream",
     "text": [
      "Podpunkt i)\n",
      "Prawdopodobieństwo pokrycia ́sredniej przez przedział ufności: 0.9428\n",
      "Średnia długość przedziału ufności: 0.5519423173695407\n",
      "Podpunkt ii)\n",
      "Prawdopodobieństwo pokrycia ́sredniej przez przedział ufności: 0.9428\n",
      "Średnia długość przedziału ufności: 1.1038846347390814\n",
      "Podpunkt iii)\n",
      "Prawdopodobieństwo pokrycia ́sredniej przez przedział ufności: 0.9428\n",
      "Średnia długość przedziału ufności: 1.6558269521086222\n"
     ]
    }
   ],
   "source": [
    "n = 50\n",
    "N = 10000\n",
    "mi=0\n",
    "name = ['i)', 'ii)', 'iii)']\n",
    "sigma=[1,2,3]\n",
    "\n",
    "def task4_1(f,mi,sigma):\n",
    "    for j in range(3):\n",
    "        ci_len=[]\n",
    "        mi_in=0\n",
    "        print('Podpunkt', name[j])\n",
    "        for i in range(N):\n",
    "            np.random.seed(i)\n",
    "            data = f(mi, sigma[j], n)\n",
    "            a,b=confidence_interval(data, np.sqrt(np.var(data, ddof=1)))\n",
    "            if (mi<=b and mi>=a):\n",
    "                mi_in+=1\n",
    "            ci_len.append(b-a)\n",
    "        print('Prawdopodobieństwo pokrycia ́sredniej przez przedział ufności:', mi_in/N)\n",
    "        print('Średnia długość przedziału ufności:', np.mean(ci_len))\n",
    "\n",
    "def task4_c(f,mi,sigma,mc):\n",
    "    for j in range(3):\n",
    "        ci_len=[]\n",
    "        mi_in=0\n",
    "        print('Podpunkt', name[j])\n",
    "        for i in range(N):\n",
    "            np.random.seed(i)\n",
    "            data = f(mi, sigma[j], n)\n",
    "            a,b=confidence_interval(data, np.sqrt(np.var(data, ddof=1)))\n",
    "            if (mc[j]<=b and mi>=mc[j]):\n",
    "                mi_in+=1\n",
    "            ci_len.append(b-a)\n",
    "        print('Prawdopodobieństwo pokrycia ́sredniej przez przedział ufności:', mi_in/N)\n",
    "        print('Średnia długość przedziału ufności:', np.mean(ci_len))\n",
    "\n",
    "\n",
    "def task4_2(f,mi,sigma):\n",
    "    for j in range(3):\n",
    "        ci_len=[]\n",
    "        mi_in=0\n",
    "        print('Podpunkt', name[j])\n",
    "        for i in range(N):\n",
    "            np.random.seed(i)\n",
    "            data = f(sigma[j], n)\n",
    "            a,b=confidence_interval(data, np.sqrt(np.var(data, ddof=1)))\n",
    "            if (mi[j]<=b and mi[j]>=a):\n",
    "                mi_in+=1\n",
    "            ci_len.append(b-a)\n",
    "        print('Prawdopodobieństwo pokrycia ́sredniej przez przedział ufności:', mi_in/N)\n",
    "        print('Średnia długość przedziału ufności:', np.mean(ci_len))\n",
    "\n",
    "\n",
    "\n",
    "\n",
    "\n",
    "task4_1(np.random.normal, mi, sigma)\n"
   ]
  },
  {
   "cell_type": "code",
   "execution_count": 24,
   "id": "7429a454-2fd9-4442-a373-c54fe10e2eb1",
   "metadata": {},
   "outputs": [
    {
     "name": "stdout",
     "output_type": "stream",
     "text": [
      "Podpunkt i)\n",
      "Prawdopodobieństwo pokrycia ́sredniej przez przedział ufności: 0.945\n",
      "Średnia długość przedziału ufności: 0.9983269063500287\n",
      "Podpunkt ii)\n",
      "Prawdopodobieństwo pokrycia ́sredniej przez przedział ufności: 0.945\n",
      "Średnia długość przedziału ufności: 1.9966538127000575\n",
      "Podpunkt iii)\n",
      "Prawdopodobieństwo pokrycia ́sredniej przez przedział ufności: 0.945\n",
      "Średnia długość przedziału ufności: 2.994980719050086\n"
     ]
    }
   ],
   "source": [
    "task4_1(np.random.logistic, mi, sigma)"
   ]
  },
  {
   "cell_type": "code",
   "execution_count": 25,
   "id": "d4149d3c-725e-4b65-9e67-2d326a952087",
   "metadata": {},
   "outputs": [
    {
     "name": "stdout",
     "output_type": "stream",
     "text": [
      "Podpunkt i)\n",
      "Prawdopodobieństwo pokrycia ́sredniej przez przedział ufności: 0.9753\n",
      "Średnia długość przedziału ufności: 37.96416700940141\n",
      "Podpunkt ii)\n",
      "Prawdopodobieństwo pokrycia ́sredniej przez przedział ufności: 0.9753\n",
      "Średnia długość przedziału ufności: 75.92833401880281\n",
      "Podpunkt iii)\n",
      "Prawdopodobieństwo pokrycia ́sredniej przez przedział ufności: 0.9753\n",
      "Średnia długość przedziału ufności: 113.8925010282043\n"
     ]
    }
   ],
   "source": [
    "task4_1(cauchy.rvs, mi, sigma)"
   ]
  },
  {
   "cell_type": "code",
   "execution_count": 26,
   "id": "0d1d60ea-a5a5-424a-a370-2cb4ed29d1a9",
   "metadata": {},
   "outputs": [
    {
     "name": "stdout",
     "output_type": "stream",
     "text": [
      "Podpunkt i)\n",
      "Prawdopodobieństwo pokrycia ́sredniej przez przedział ufności: 1.0\n",
      "Średnia długość przedziału ufności: 37.96416700940141\n",
      "Podpunkt ii)\n",
      "Prawdopodobieństwo pokrycia ́sredniej przez przedział ufności: 1.0\n",
      "Średnia długość przedziału ufności: 75.92833401880281\n",
      "Podpunkt iii)\n",
      "Prawdopodobieństwo pokrycia ́sredniej przez przedział ufności: 1.0\n",
      "Średnia długość przedziału ufności: 113.8925010282043\n"
     ]
    }
   ],
   "source": [
    "task4_c(cauchy.rvs,mi,sigma,cauchy_mi)"
   ]
  },
  {
   "cell_type": "code",
   "execution_count": 27,
   "id": "77e10c07-fc21-4a41-841d-5aa2dd90b9e3",
   "metadata": {},
   "outputs": [
    {
     "name": "stdout",
     "output_type": "stream",
     "text": [
      "Podpunkt i)\n",
      "Prawdopodobieństwo pokrycia ́sredniej przez przedział ufności: 0.9311\n",
      "Średnia długość przedziału ufności: 0.5457496467712064\n",
      "Podpunkt ii)\n",
      "Prawdopodobieństwo pokrycia ́sredniej przez przedział ufności: 0.9311\n",
      "Średnia długość przedziału ufności: 1.0914992935424128\n",
      "Podpunkt iii)\n",
      "Prawdopodobieństwo pokrycia ́sredniej przez przedział ufności: 0.9311\n",
      "Średnia długość przedziału ufności: 1.6372489403136192\n"
     ]
    }
   ],
   "source": [
    "task4_2(np.random.exponential,sigma, sigma)"
   ]
  },
  {
   "cell_type": "code",
   "execution_count": 28,
   "id": "e21264b9-1a6e-488b-b6e8-f8cbc00d5d8e",
   "metadata": {},
   "outputs": [
    {
     "name": "stdout",
     "output_type": "stream",
     "text": [
      "Podpunkt i)\n",
      "Prawdopodobieństwo pokrycia ́sredniej przez przedział ufności: 0.917\n",
      "Średnia długość przedziału ufności: 0.762208732071163\n",
      "Podpunkt ii)\n",
      "Prawdopodobieństwo pokrycia ́sredniej przez przedział ufności: 0.9311\n",
      "Średnia długość przedziału ufności: 1.0914992935424128\n",
      "Podpunkt iii)\n",
      "Prawdopodobieństwo pokrycia ́sredniej przez przedział ufności: 0.9379\n",
      "Średnia długość przedziału ufności: 1.3404032277234426\n"
     ]
    }
   ],
   "source": [
    "mi=sigma\n",
    "task4_2(np.random.chisquare,mi, sigma)"
   ]
  },
  {
   "cell_type": "markdown",
   "id": "fa81caa3-ddf2-4727-b43d-507345d305df",
   "metadata": {},
   "source": [
    "Dostajemy nieco gorsze wyniki niż w zadaniu 2, czyli znajomość wariancji pozwala nam na efektywniejsze wyznaczenie średniej.\n",
    "\n",
    "Rozkład Cauchego posiada ,,ciężkie ogony'', co oznacza, że prawdopodobieństwo otrzymania skrajnych wartości jest stosunkowo wysokie. Z tego powodu wariancja dla tego rozkładu nie jest zdefiniowana, gdyż nie jest skończona. Możemy dostrzec to w wynikach eksperymentów, gdyż długość przedziału ufności staje się ogromna dla zmiennych z rozkładu Cauchy'ego i tym razem eksperymentalne prawdopodobieństwo pokrycia średniej wyliczonej wcześniej dla niezależnie generowanych próbek z rozkładu Cauchy'ego wynosi 1. Dla parametru lokacji też dostajemy wysoki wynik. W przypadku pozostałych rozkładów - normalnego, wykładniczego, logistycznego i chi-kwadrat otrzymujemy odpowiednio dłuższe przedziały dla próbek pochodzących z rozkładów o większym parametrze skali. "
   ]
  },
  {
   "cell_type": "markdown",
   "id": "3199e6f4-885f-44a0-82fb-03bc3fc97cbf",
   "metadata": {},
   "source": [
    "### Zadanie 5 (przedział ufności dla wariancji przy znanej średniej)"
   ]
  },
  {
   "cell_type": "markdown",
   "id": "a976f138-1ca7-4229-8a48-029d53f18769",
   "metadata": {},
   "source": [
    "W przypadku, gdy mamy niezależne zmienne losowe $X_i​$, pochodzące ze standardowego rozkładu normalnego, zmienna losowa $\\sum_{i=1}^{n}{X_i}^2​ $ ma tzw. rozkład chi-kwadrat o n stopniach swobody $\\chi^2_n$. Wobec tego zmienna losowa: $\\sum_{i=1}^{n}\\left(\\frac{X_i - \\mu}{\\sigma}\\right)^2$, gdzie $X_i \\sim N(\\mu, \\sigma) $ również ma rozkład chi-kwadrat  o n stopniach swobody $\\chi^2_n$. Jeśli chcemy oszacować wariancję populacji $\\sigma^2$ dla niezależnych zmiennych losowych $X_i$ o rozkładzie normalnym $N(μ,σ)$, możemy skorzystać z estymatora wariancji przy znanej średniej, który jest dany wzorem $S^2 = \\frac{1}{n} \\sum_{i=1}^{n}(X_i - \\mu)^2$. Możemy zapisać wariancję próby w formie rozkładu chi-kwadrat o n stopniach swobody: $\\frac{nS^2}{\\sigma^2} \\sim \\chi^2_{n}$. \n",
    "\n",
    "Mamy wobec tego: $\\mathbb{P } (\\chi_{\\frac{\\alpha}{2},n} \\leq \\chi^2_{n} \\leq \\chi_{1-\\frac{\\alpha}{2}, n})=\\mathbb{P } (\\chi_{\\frac{\\alpha}{2}, n} \\leq \\frac{nS^2}{\\sigma^2} \\leq \\chi_{1-\\frac{\\alpha}{2}, n})=1-\\alpha$, co po przekształcenaich pozwoli nam uzyskać: $\\mathbb{P } (\\frac{nS^2}{\\chi_{1-\\frac{\\alpha}{2}, n}} \\leq {\\sigma^2} \\leq \\frac{nS^2}{\\chi_{\\frac{\\alpha}{2}, n}})=1-\\alpha$, wobec tego poszukiwany przedział ufności dla wariancji to $[ \\frac{nS^2}{\\chi_{1-\\frac{\\alpha}{2}, n}}, \\frac{nS^2}{\\chi_{\\frac{\\alpha}{2}, n}}]$\n"
   ]
  },
  {
   "cell_type": "markdown",
   "id": "884ede84-056c-4d8c-a03e-969a1e2c266d",
   "metadata": {},
   "source": [
    "### Zadanie 6"
   ]
  },
  {
   "cell_type": "code",
   "execution_count": 51,
   "id": "eff243d8-e348-4463-9ba7-ac72ff7e3e01",
   "metadata": {},
   "outputs": [
    {
     "name": "stdout",
     "output_type": "stream",
     "text": [
      "Podpunkt i)\n",
      "Prawdopodobieństwo pokrycia wariancji przez przedział ufności: 0.9451\n",
      "Średnia długość przedziału ufności: 0.8464888682869812\n",
      "Podpunkt ii)\n",
      "Prawdopodobieństwo pokrycia wariancji przez przedział ufności: 0.9451\n",
      "Średnia długość przedziału ufności: 3.385955473147925\n",
      "Podpunkt iii)\n",
      "Prawdopodobieństwo pokrycia wariancji przez przedział ufności: 0.9451\n",
      "Średnia długość przedziału ufności: 7.61839981458283\n"
     ]
    }
   ],
   "source": [
    "n = 50\n",
    "N = 10000\n",
    "mi=0\n",
    "name = ['i)', 'ii)', 'iii)']\n",
    "sigma=[1,2,3]\n",
    "\n",
    "def confidence_interval2(data, var, alpha=0.05):\n",
    "    n=len(data)\n",
    "    q_value1=alpha/2\n",
    "    q_value2=1-alpha/2\n",
    "    quantile1=stats.chi2.ppf(q_value1, n)\n",
    "    quantile2=stats.chi2.ppf(q_value2, n)\n",
    "    return (n*var/quantile2,n*var/quantile1)\n",
    "\n",
    "def variance(data,mi):\n",
    "    s=0\n",
    "    for i in data:\n",
    "        s+=(i-mi)**2\n",
    "    return s/len(data)\n",
    "    \n",
    "\n",
    "def task6_1(f,mi,sigma, vari):\n",
    "    for j in range(3):\n",
    "        ci_len=[]\n",
    "        mi_in=0\n",
    "        print('Podpunkt', name[j])\n",
    "        for i in range(N):\n",
    "            np.random.seed(i)\n",
    "            data = f(mi, sigma[j], n)\n",
    "            a,b=confidence_interval2(data, variance(data,mi))\n",
    "            if (vari[j]<=b and vari[j]>=a):\n",
    "                mi_in+=1\n",
    "            ci_len.append(b-a)\n",
    "        print('Prawdopodobieństwo pokrycia wariancji przez przedział ufności:', mi_in/N)\n",
    "        print('Średnia długość przedziału ufności:', np.mean(ci_len))\n",
    "\n",
    "\n",
    "\n",
    "\n",
    "def task6_2(f,mi,sigma,vari):\n",
    "    for j in range(3):\n",
    "        ci_len=[]\n",
    "        mi_in=0\n",
    "        print('Podpunkt', name[j])\n",
    "        for i in range(N):\n",
    "            np.random.seed(i)\n",
    "            data = f(sigma[j], n)\n",
    "            a,b=confidence_interval2(data, variance(data,mi[j]))\n",
    "            if (vari[j]<=b and vari[j]>=a):\n",
    "                mi_in+=1\n",
    "            ci_len.append(b-a)\n",
    "        print('Prawdopodobieństwo pokrycia wariancji przez przedział ufności:', mi_in/N)\n",
    "        print('Średnia długość przedziału ufności:', np.mean(ci_len))\n",
    "\n",
    "\n",
    "\n",
    "task6_1(np.random.normal, mi, sigma, [i**2 for i in sigma])\n"
   ]
  },
  {
   "cell_type": "code",
   "execution_count": 52,
   "id": "6787f15b-ef41-4139-b180-f5c27d5c0c75",
   "metadata": {},
   "outputs": [
    {
     "name": "stdout",
     "output_type": "stream",
     "text": [
      "Podpunkt i)\n",
      "Prawdopodobieństwo pokrycia wariancji przez przedział ufności: 0.8885\n",
      "Średnia długość przedziału ufności: 2.7846124296430927\n",
      "Podpunkt ii)\n",
      "Prawdopodobieństwo pokrycia wariancji przez przedział ufności: 0.8885\n",
      "Średnia długość przedziału ufności: 11.138449718572371\n",
      "Podpunkt iii)\n",
      "Prawdopodobieństwo pokrycia wariancji przez przedział ufności: 0.8885\n",
      "Średnia długość przedziału ufności: 25.06151186678784\n"
     ]
    }
   ],
   "source": [
    "task6_1(np.random.logistic, mi, sigma, [(i*np.pi)**2/3 for i in sigma])"
   ]
  },
  {
   "cell_type": "code",
   "execution_count": 53,
   "id": "513ae142-a17e-4741-a936-41afc666b5d1",
   "metadata": {},
   "outputs": [
    {
     "name": "stdout",
     "output_type": "stream",
     "text": [
      "Podpunkt i)\n",
      "Prawdopodobieństwo pokrycia wariancji przez przedział ufności: 0.0004\n",
      "Średnia długość przedziału ufności: 8786896.872256974\n",
      "Podpunkt ii)\n",
      "Prawdopodobieństwo pokrycia wariancji przez przedział ufności: 0.0004\n",
      "Średnia długość przedziału ufności: 35147587.489027895\n",
      "Podpunkt iii)\n",
      "Prawdopodobieństwo pokrycia wariancji przez przedział ufności: 0.0004\n",
      "Średnia długość przedziału ufności: 79082071.85031275\n"
     ]
    }
   ],
   "source": [
    "task6_1(cauchy.rvs, mi, sigma,cauchy_var)"
   ]
  },
  {
   "cell_type": "code",
   "execution_count": 54,
   "id": "2dcbc80c-c255-4921-8fc6-bee451aa5ccf",
   "metadata": {},
   "outputs": [
    {
     "name": "stdout",
     "output_type": "stream",
     "text": [
      "Podpunkt i)\n",
      "Prawdopodobieństwo pokrycia wariancji przez przedział ufności: 0.7013\n",
      "Średnia długość przedziału ufności: 0.8500459943280655\n",
      "Podpunkt ii)\n",
      "Prawdopodobieństwo pokrycia wariancji przez przedział ufności: 0.7013\n",
      "Średnia długość przedziału ufności: 3.400183977312262\n",
      "Podpunkt iii)\n",
      "Prawdopodobieństwo pokrycia wariancji przez przedział ufności: 0.7013\n",
      "Średnia długość przedziału ufności: 7.65041394895259\n"
     ]
    }
   ],
   "source": [
    "task6_2(np.random.exponential,sigma,sigma,[i**2 for i in sigma])"
   ]
  },
  {
   "cell_type": "code",
   "execution_count": 55,
   "id": "c286db01-fcf3-408e-b2d2-147355d8c262",
   "metadata": {},
   "outputs": [
    {
     "name": "stdout",
     "output_type": "stream",
     "text": [
      "Podpunkt i)\n",
      "Prawdopodobieństwo pokrycia wariancji przez przedział ufności: 0.5688\n",
      "Średnia długość przedziału ufności: 1.700553059524393\n",
      "Podpunkt ii)\n",
      "Prawdopodobieństwo pokrycia wariancji przez przedział ufności: 0.7013\n",
      "Średnia długość przedziału ufności: 3.400183977312262\n",
      "Podpunkt iii)\n",
      "Prawdopodobieństwo pokrycia wariancji przez przedział ufności: 0.7727\n",
      "Średnia długość przedziału ufności: 5.079830142576397\n"
     ]
    }
   ],
   "source": [
    "task6_2(np.random.chisquare,sigma, sigma,[2*i for i in sigma])"
   ]
  },
  {
   "cell_type": "markdown",
   "id": "b4ac1ea8-3d28-4107-8661-e495319bc2d2",
   "metadata": {},
   "source": [
    "Teraz eksperymentalne prawdopodobieństwo pokrycia dla wszystkich rozkładów poza normalnym odbiega już znacznie od teoretycznego $1-\\alpha$, estymacja wariancji przy znanej średniej jest trudniejsza niż estymacja średniej przy znanej wariancji. Możemy zaobserwować, że dla rozkładów symetrycznych, przedziały ufności dla średniej oparte na kwantylach z rozkładu normalnego są wyznaczone dostatecznie dokładnie, ze względu na szybką zbieżność w Centralnym Twierdzeniu Granicznym. Dla wariancji mamy nieco mniejszą dokładność - wariancje rozważanych przez nas rozkładów różnią się od wariancji rozkładu normalnego, choć oczywiście zachodzi CTG i estymacja przy większej liczebności próby przyniesie dokładniejsze wyniki."
   ]
  },
  {
   "cell_type": "markdown",
   "id": "6177cce7-7766-450d-8a5d-04decfe6dccf",
   "metadata": {},
   "source": [
    "### Zadanie 7 (przedział ufności dla wariancji przy nieznanej średniej)"
   ]
  },
  {
   "cell_type": "markdown",
   "id": "adef5e42-20ad-41a3-9add-6bac31c111e8",
   "metadata": {},
   "source": [
    "W przypadku, gdy mamy niezależne zmienne losowe $X_i​$, pochodzące ze standardowego rozkładu normalnego, zmienna losowa $\\sum_{i=1}^{n}{X_i}^2​ $ ma tzw. rozkład chi-kwadrat o n stopniach swobody $\\chi^2_n$. Wobec tego zmienna losowa: $\\sum_{i=1}^{n}\\left(\\frac{X_i - \\mu}{\\sigma}\\right)^2$, gdzie $X_i \\sim N(\\mu, \\sigma) $ również ma rozkład chi-kwadrat  o n stopniach swobody $\\chi^2_n$. Jeśli chcemy oszacować wariancję populacji $\\sigma^2$ dla niezależnych zmiennych losowych $X_i$ o rozkładzie normalnym $N(μ,σ)$, możemy skorzystać z estymatora wariancji w próbkowej, który jest dany wzorem $S^2 = \\frac{1}{n-1} \\sum_{i=1}^{n}(X_i - \\bar{X})^2$, gdzie n to liczność próby, a  $\\bar{X}$ to  średnia próby. Możemy zapisać wariancję próby w formie rozkładu chi-kwadrat o n-1 stopniach swobody: $\\frac{(n-1)S^2}{\\sigma^2} \\sim \\chi^2_{n-1}$. \n",
    "\n",
    "Mamy wobec tego: $\\mathbb{P } (\\chi_{\\frac{\\alpha}{2},n-1} \\leq \\chi^2_{n-1} \\leq \\chi_{1-\\frac{\\alpha}{2}, n-1})=\\mathbb{P } (\\chi_{\\frac{\\alpha}{2}, n-1} \\leq \\frac{(n-1)S^2}{\\sigma^2} \\leq \\chi_{1-\\frac{\\alpha}{2}, n-1})=1-\\alpha$, co po przekształcenaich pozwoli nam uzyskać: $\\mathbb{P } (\\frac{(n-1)S^2}{\\chi_{\\frac{\\alpha}{2}, n-1}} \\leq {\\sigma^2} \\leq \\frac{(n-1)S^2}{\\chi_{1-\\frac{\\alpha}{2}, n-1}})=1-\\alpha$, wobec tego poszukiwany przedział ufności dla wariancji to $[ \\frac{(n-1)S^2}{\\chi_{1-\\frac{\\alpha}{2}, n-1}}, \\frac{(n-1)S^2}{\\chi_{\\frac{\\alpha}{2}, n-1}}]$"
   ]
  },
  {
   "cell_type": "markdown",
   "id": "83bcd01b-2756-4ce4-b381-1450b991858e",
   "metadata": {},
   "source": [
    "### Zadanie 8"
   ]
  },
  {
   "cell_type": "code",
   "execution_count": 50,
   "id": "59abd944-ab04-4a2c-b6b9-bf4bb72b6322",
   "metadata": {},
   "outputs": [
    {
     "name": "stdout",
     "output_type": "stream",
     "text": [
      "Podpunkt i)\n",
      "Prawdopodobieństwo pokrycia wariancji przez przedział ufności: 0.9464\n",
      "Średnia długość przedziału ufności: 0.8563399664109372\n",
      "Podpunkt ii)\n",
      "Prawdopodobieństwo pokrycia wariancji przez przedział ufności: 0.9464\n",
      "Średnia długość przedziału ufności: 3.425359865643749\n",
      "Podpunkt iii)\n",
      "Prawdopodobieństwo pokrycia wariancji przez przedział ufności: 0.9464\n",
      "Średnia długość przedziału ufności: 7.707059697698437\n"
     ]
    }
   ],
   "source": [
    "n = 50\n",
    "N = 10000\n",
    "mi=0\n",
    "name = ['i)', 'ii)', 'iii)']\n",
    "sigma=[1,2,3]\n",
    "\n",
    "def confidence_interval2(data, var, alpha=0.05):\n",
    "    n=len(data)\n",
    "    q_value1=alpha/2\n",
    "    q_value2=1-alpha/2\n",
    "    quantile1=stats.chi2.ppf(q_value1, n-1)\n",
    "    quantile2=stats.chi2.ppf(q_value2, n-1)\n",
    "    return ((n-1)*var/quantile2,(n-1)*var/quantile1)\n",
    "\n",
    "    \n",
    "\n",
    "def task8_1(f,sigma,vari):\n",
    "    for j in range(3):\n",
    "        ci_len=[]\n",
    "        mi_in=0\n",
    "        print('Podpunkt', name[j])\n",
    "        for i in range(N):\n",
    "            np.random.seed(i)\n",
    "            data = f(mi, sigma[j], n)\n",
    "            a,b=confidence_interval2(data, np.var(data,ddof=1))\n",
    "            if (vari[j]<=b and vari[j]>=a):\n",
    "                mi_in+=1\n",
    "            ci_len.append(b-a)\n",
    "        print('Prawdopodobieństwo pokrycia wariancji przez przedział ufności:', mi_in/N)\n",
    "        print('Średnia długość przedziału ufności:', np.mean(ci_len))\n",
    "\n",
    "\n",
    "def task8_2(f,sigma,vari):\n",
    "    for j in range(3):\n",
    "        ci_len=[]\n",
    "        mi_in=0\n",
    "        print('Podpunkt', name[j])\n",
    "        for i in range(N):\n",
    "            np.random.seed(i)\n",
    "            data = f(sigma[j], n)\n",
    "            a,b=confidence_interval2(data, np.var(data,ddof=1))\n",
    "            if (vari[j]<=b and vari[j]>=a):\n",
    "                mi_in+=1\n",
    "            ci_len.append(b-a)\n",
    "        print('Prawdopodobieństwo pokrycia wariancji przez przedział ufności:', mi_in/N)\n",
    "        print('Średnia długość przedziału ufności:', np.mean(ci_len))\n",
    "\n",
    "\n",
    "\n",
    "task8_1(np.random.normal, sigma, [i**2 for i in sigma])\n"
   ]
  },
  {
   "cell_type": "code",
   "execution_count": 51,
   "id": "0e2f5abb-7b17-44a2-9d19-31f2ca1dce46",
   "metadata": {},
   "outputs": [
    {
     "name": "stdout",
     "output_type": "stream",
     "text": [
      "Podpunkt i)\n",
      "Prawdopodobieństwo pokrycia wariancji przez przedział ufności: 0.8901\n",
      "Średnia długość przedziału ufności: 2.81736684806155\n",
      "Podpunkt ii)\n",
      "Prawdopodobieństwo pokrycia wariancji przez przedział ufności: 0.8901\n",
      "Średnia długość przedziału ufności: 11.2694673922462\n",
      "Podpunkt iii)\n",
      "Prawdopodobieństwo pokrycia wariancji przez przedział ufności: 0.8901\n",
      "Średnia długość przedziału ufności: 25.356301632553954\n"
     ]
    }
   ],
   "source": [
    "task8_1(np.random.logistic, sigma, [(i*np.pi)**2/3 for i in sigma])"
   ]
  },
  {
   "cell_type": "code",
   "execution_count": 52,
   "id": "6d239065-3763-450e-bfae-6c5dc9e23715",
   "metadata": {},
   "outputs": [
    {
     "name": "stdout",
     "output_type": "stream",
     "text": [
      "Podpunkt i)\n",
      "Prawdopodobieństwo pokrycia wariancji przez przedział ufności: 0.0005\n",
      "Średnia długość przedziału ufności: 8889841.867350826\n",
      "Podpunkt ii)\n",
      "Prawdopodobieństwo pokrycia wariancji przez przedział ufności: 0.0005\n",
      "Średnia długość przedziału ufności: 35559367.469403304\n",
      "Podpunkt iii)\n",
      "Prawdopodobieństwo pokrycia wariancji przez przedział ufności: 0.0005\n",
      "Średnia długość przedziału ufności: 80008576.80615748\n"
     ]
    }
   ],
   "source": [
    "task8_1(cauchy.rvs, sigma, cauchy_var)"
   ]
  },
  {
   "cell_type": "code",
   "execution_count": 71,
   "id": "9c173673-ceeb-4ae9-88bd-270bc92495a7",
   "metadata": {},
   "outputs": [
    {
     "name": "stdout",
     "output_type": "stream",
     "text": [
      "Podpunkt i)\n",
      "Prawdopodobieństwo pokrycia wariancji przez przedział ufności: 0.7\n",
      "Średnia długość przedziału ufności: 0.8774791772514523\n",
      "Podpunkt ii)\n",
      "Prawdopodobieństwo pokrycia wariancji przez przedział ufności: 0.7\n",
      "Średnia długość przedziału ufności: 3.509916709005809\n",
      "Podpunkt iii)\n",
      "Prawdopodobieństwo pokrycia wariancji przez przedział ufności: 0.7\n",
      "Średnia długość przedziału ufności: 7.897312595263074\n"
     ]
    }
   ],
   "source": [
    "task8_2(np.random.exponential,sigma,[i**2 for i in sigma])"
   ]
  },
  {
   "cell_type": "code",
   "execution_count": 54,
   "id": "76b99d64-f081-4e15-8d83-be85cc08dc9f",
   "metadata": {},
   "outputs": [
    {
     "name": "stdout",
     "output_type": "stream",
     "text": [
      "Podpunkt i)\n",
      "Prawdopodobieństwo pokrycia wariancji przez przedział ufności: 0.5754\n",
      "Średnia długość przedziału ufności: 1.7203509420034384\n",
      "Podpunkt ii)\n",
      "Prawdopodobieństwo pokrycia wariancji przez przedział ufności: 0.6999\n",
      "Średnia długość przedziału ufności: 3.439718374825694\n",
      "Podpunkt iii)\n",
      "Prawdopodobieństwo pokrycia wariancji przez przedział ufności: 0.7684\n",
      "Średnia długość przedziału ufności: 5.14257055631058\n"
     ]
    }
   ],
   "source": [
    "task8_2(np.random.chisquare, sigma, [2*i for i in sigma])"
   ]
  },
  {
   "cell_type": "markdown",
   "id": "d4ade081-6034-43b2-8fe9-c6356e008e0e",
   "metadata": {},
   "source": [
    "Możemy zaobserwować, że używając próbkowego estymatora wariancji (czyli inaczej niż w zadaniu 6, bo teraz nie znamy średniej) - otrzymujemy porównywalne, nawet nieco dokładniejsze wyniki."
   ]
  },
  {
   "cell_type": "markdown",
   "id": "3feb4da1-0382-41c2-8c6f-c7c2c853f2bd",
   "metadata": {},
   "source": [
    "### Zadanie 9 (przedział ufności dla proporcji)"
   ]
  },
  {
   "cell_type": "markdown",
   "id": "bb1cfd2c-6b66-4fbc-aa0b-85ba6262009d",
   "metadata": {},
   "source": [
    "Punktowym, nieobciążonym estymatorem proporcji p jest częstość $\\hat{p}$.\n",
    "\n",
    "Częstością występowania nazywamy statystykę $\\hat{p}=\\frac{1}{n}\\sum_{i=1}^{n} X_i$.\n",
    "Zakładamy, że próba losowa niezależnych zmiennych ma rozkład\n",
    "dwupunktowy $ \\mathbb{P }(X_i = 1) = 1 − \\mathbb{P }(X_i = 0) = p $, i = 1, 2, ..., n \n",
    "oraz jest dostatecznie liczna, by móc skorzystać z przybliżenia rozkładu\n",
    "statystyki $ P=\\frac{\\hat{p}-p}{\\sqrt{\\frac{\\hat{p}(1-\\hat{p})}{n}}}$ starnadrdowym rozkładem normalnym. Rozważamy $\\mathbb{P } (-z_{1-\\frac{\\alpha}{2}} \\leq P \\leq z_{1-\\frac{\\alpha}{2}})\\approx1-\\alpha$. \n",
    "Stąd dla dostatecznie dużej liczności próby losowej , przybliżony przedział ufności na\n",
    "poziomie ufności $1 − α$ dla proporcji $p$ ma postać $[\\hat{p}-z_{1-\\frac{\\alpha}{2}}{\\sqrt{\\frac{\\hat{p}(1-\\hat{p})}{n}}},\\hat{p}+z_{1-\\frac{\\alpha}{2}}{\\sqrt{\\frac{\\hat{p}(1-\\hat{p})}{n}}}]$.\n",
    "\n"
   ]
  },
  {
   "cell_type": "markdown",
   "id": "fa407f35-7df7-42fd-b173-12b39bae8a44",
   "metadata": {},
   "source": [
    "### Zadanie 10"
   ]
  },
  {
   "cell_type": "markdown",
   "id": "6033c3cd-71c8-49a5-8750-f49b8eaa63a8",
   "metadata": {},
   "source": [
    "Wszystkie te rozkłady są symetryczne, więc spodziewamy się otrzymać $\\hat{p}=\\frac{1}{2}$. Zakładamy, że próba losowa niezależnych zmiennych ma rozkład dwupunktowy $ \\mathbb{P }(X_i = 1) = 1 − \\mathbb{P }(X_i = 0) = p $, i = 1, 2, ..., n oraz że $X_i=1$ gdy zmienna z naszej próbki jest dodatnia, więc w skrócie za $p$ przyjmujemy liczbę dodatnich obserwacji z naszej próbki i będziemy sprawdzać, czy właściwa wartość proporcji=$\\frac{1}{2}$ należy do wyznaczonego w ten sposób przedziału ufności."
   ]
  },
  {
   "cell_type": "code",
   "execution_count": 156,
   "id": "c3ffbb31-4967-476b-a763-e91884c53960",
   "metadata": {},
   "outputs": [
    {
     "name": "stdout",
     "output_type": "stream",
     "text": [
      "Podpunkt i)\n",
      "Prawdopodobieństwo pokrycia ́sredniej przez przedział ufności: 0.9444\n",
      "Średnia długość przedziału ufności: 0.19501475164298454\n",
      "Podpunkt ii)\n",
      "Prawdopodobieństwo pokrycia ́sredniej przez przedział ufności: 0.9444\n",
      "Średnia długość przedziału ufności: 0.19501475164298454\n",
      "Podpunkt iii)\n",
      "Prawdopodobieństwo pokrycia ́sredniej przez przedział ufności: 0.9444\n",
      "Średnia długość przedziału ufności: 0.19501475164298454\n"
     ]
    }
   ],
   "source": [
    "from scipy.stats import cauchy\n",
    "n = 100\n",
    "N = 10000\n",
    "mi=0\n",
    "name = ['i)', 'ii)', 'iii)']\n",
    "sigma=[1,2,3]\n",
    "val=0.5\n",
    "\n",
    "def czestosc(data):\n",
    "    s=0\n",
    "    for i in data:\n",
    "        if (i>0):\n",
    "            s+=1\n",
    "    return s/len(data)\n",
    "\n",
    "def confidence_interval3(data, alpha=0.05):\n",
    "    p=czestosc(data)\n",
    "    q_value=1-alpha/2\n",
    "    quantile=stats.norm.ppf(q_value)\n",
    "    pp=np.sqrt(p*(1-p)/n)\n",
    "    return (p-quantile*pp, p+quantile*pp)\n",
    "\n",
    "def task10(f,mi,sigma):\n",
    "    for j in range(3):\n",
    "        ci_len=[]\n",
    "        val_in=0\n",
    "        print('Podpunkt', name[j])\n",
    "        for i in range(N):\n",
    "            np.random.seed(i)\n",
    "            data = f(mi, sigma[j], n)\n",
    "            a,b=confidence_interval3(data)\n",
    "            if (val<=b and val>=a):\n",
    "                val_in+=1\n",
    "            ci_len.append(b-a)\n",
    "        print('Prawdopodobieństwo pokrycia ́sredniej przez przedział ufności:', val_in/N)\n",
    "        print('Średnia długość przedziału ufności:', np.mean(ci_len))\n",
    "\n",
    "\n",
    "task10(np.random.normal, mi, sigma)"
   ]
  },
  {
   "cell_type": "code",
   "execution_count": 157,
   "id": "496db1a0-c668-43a1-9044-ae07e5accb89",
   "metadata": {},
   "outputs": [
    {
     "name": "stdout",
     "output_type": "stream",
     "text": [
      "Podpunkt i)\n",
      "Prawdopodobieństwo pokrycia ́sredniej przez przedział ufności: 0.941\n",
      "Średnia długość przedziału ufności: 0.19501315024442348\n",
      "Podpunkt ii)\n",
      "Prawdopodobieństwo pokrycia ́sredniej przez przedział ufności: 0.941\n",
      "Średnia długość przedziału ufności: 0.19501315024442348\n",
      "Podpunkt iii)\n",
      "Prawdopodobieństwo pokrycia ́sredniej przez przedział ufności: 0.941\n",
      "Średnia długość przedziału ufności: 0.19501315024442348\n"
     ]
    }
   ],
   "source": [
    "task10(np.random.logistic, mi, sigma)"
   ]
  },
  {
   "cell_type": "code",
   "execution_count": 158,
   "id": "ab30a9e0-282c-43ce-932d-5dacf61574d4",
   "metadata": {},
   "outputs": [
    {
     "name": "stdout",
     "output_type": "stream",
     "text": [
      "Podpunkt i)\n",
      "Prawdopodobieństwo pokrycia ́sredniej przez przedział ufności: 0.941\n",
      "Średnia długość przedziału ufności: 0.19501315024442348\n",
      "Podpunkt ii)\n",
      "Prawdopodobieństwo pokrycia ́sredniej przez przedział ufności: 0.941\n",
      "Średnia długość przedziału ufności: 0.19501315024442348\n",
      "Podpunkt iii)\n",
      "Prawdopodobieństwo pokrycia ́sredniej przez przedział ufności: 0.941\n",
      "Średnia długość przedziału ufności: 0.19501315024442348\n"
     ]
    }
   ],
   "source": [
    "task10(cauchy.rvs, mi,sigma)"
   ]
  },
  {
   "cell_type": "markdown",
   "id": "e315ed18-953d-4b50-b210-5cbd20814536",
   "metadata": {},
   "source": [
    "Możemy zaobserwować niemalże jednakowe wyniki dla każdego z trzech rozważanych rozkładów. Jak się okazuje, największe znaczenie ma w przypadku rozważanej przez nas proporcji ma symetryczność rozkładu, a nie skąd konkretnie pochodzą dane. Długość przedziałów ufności nie zmienia się ze względu na wartość parametru skali jak w poprzednich przykładach, co wynika wprost z definicji przedziału ufności dla proporcji."
   ]
  },
  {
   "cell_type": "markdown",
   "id": "0b0f3d49-0839-43f1-91d1-b937ee52154c",
   "metadata": {},
   "source": [
    "### Zadanie 11"
   ]
  },
  {
   "cell_type": "markdown",
   "id": "2ec610a7-f219-4926-8e7c-ec19009ad60c",
   "metadata": {},
   "source": [
    "Zad. 2 - Dla n=20 przedziały ufności są większe, ale prawdopodobieństwo pokrycia średniej nie zmienia się znacząco. Dla n=100 prawdopodobieństwo pokrycia nieznacznie rośnie, przedział maleje.\n"
   ]
  },
  {
   "cell_type": "markdown",
   "id": "659dd864-1b80-4dd6-a4c9-e11147ed3dea",
   "metadata": {},
   "source": [
    "Zad. 4 - Dla n=20 prawdopodobieństwo pokrycia maleje, długość przedziału rośnie, dla n=100 prawdopodobieństwo pokrycia rośnie, długość przedziału maleje."
   ]
  },
  {
   "cell_type": "code",
   "execution_count": 46,
   "id": "547ef128-4b34-480a-b03b-2be8cb4406fa",
   "metadata": {},
   "outputs": [
    {
     "name": "stdout",
     "output_type": "stream",
     "text": [
      "Podpunkt i)\n",
      "Prawdopodobieństwo pokrycia ́sredniej przez przedział ufności: 0.9501\n",
      "Średnia długość przedziału ufności: 0.9224888164552136\n",
      "Podpunkt ii)\n",
      "Prawdopodobieństwo pokrycia ́sredniej przez przedział ufności: 0.9501\n",
      "Średnia długość przedziału ufności: 1.8449776329104273\n",
      "Podpunkt iii)\n",
      "Prawdopodobieństwo pokrycia ́sredniej przez przedział ufności: 0.9501\n",
      "Średnia długość przedziału ufności: 2.767466449365641\n"
     ]
    }
   ],
   "source": [
    "from scipy.stats import t\n",
    "n = 20\n",
    "N = 10000\n",
    "mi=0\n",
    "name = ['i)', 'ii)', 'iii)']\n",
    "sigma=[1,2,3]\n",
    "\n",
    "def confidence_intervalt(data, sigma, alpha=0.05):\n",
    "    x=np.mean(data)\n",
    "    q_value=1-alpha/2\n",
    "    quantile=t.ppf(q_value, len(data)-1)\n",
    "    return (x-quantile*sigma/np.sqrt(len(data)),x+quantile*sigma/np.sqrt(len(data)))\n",
    "\n",
    "def task4_1(f,mi,sigma):\n",
    "    for j in range(3):\n",
    "        ci_len=[]\n",
    "        mi_in=0\n",
    "        print('Podpunkt', name[j])\n",
    "        for i in range(N):\n",
    "            np.random.seed(i)\n",
    "            data = f(mi, sigma[j], n)\n",
    "            a,b=confidence_intervalt(data, np.sqrt(np.var(data, ddof=1)))\n",
    "            if (mi<=b and mi>=a):\n",
    "                mi_in+=1\n",
    "            ci_len.append(b-a)\n",
    "        print('Prawdopodobieństwo pokrycia ́sredniej przez przedział ufności:', mi_in/N)\n",
    "        print('Średnia długość przedziału ufności:', np.mean(ci_len))\n",
    "\n",
    "def task4_c(f,mi,sigma,mc):\n",
    "    for j in range(3):\n",
    "        ci_len=[]\n",
    "        mi_in=0\n",
    "        print('Podpunkt', name[j])\n",
    "        for i in range(N):\n",
    "            np.random.seed(i)\n",
    "            data = f(mi, sigma[j], n)\n",
    "            a,b=confidence_intervalt(data, np.sqrt(np.var(data, ddof=1)))\n",
    "            if (mc[j]<=b and mi>=mc[j]):\n",
    "                mi_in+=1\n",
    "            ci_len.append(b-a)\n",
    "        print('Prawdopodobieństwo pokrycia ́sredniej przez przedział ufności:', mi_in/N)\n",
    "        print('Średnia długość przedziału ufności:', np.mean(ci_len))\n",
    "\n",
    "\n",
    "def task4_2(f,mi,sigma):\n",
    "    for j in range(3):\n",
    "        ci_len=[]\n",
    "        mi_in=0\n",
    "        print('Podpunkt', name[j])\n",
    "        for i in range(N):\n",
    "            np.random.seed(i)\n",
    "            data = f(sigma[j], n)\n",
    "            a,b=confidence_intervalt(data, np.var(data, ddof=1))\n",
    "            if (mi[j]<=b and mi[j]>=a):\n",
    "                mi_in+=1\n",
    "            ci_len.append(b-a)\n",
    "        print('Prawdopodobieństwo pokrycia ́sredniej przez przedział ufności:', mi_in/N)\n",
    "        print('Średnia długość przedziału ufności:', np.mean(ci_len))\n",
    "\n",
    "\n",
    "\n",
    "\n",
    "\n",
    "task4_1(np.random.normal, mi, sigma)\n"
   ]
  },
  {
   "cell_type": "code",
   "execution_count": 47,
   "id": "1784795b-95c7-408d-8836-1a00654d2784",
   "metadata": {},
   "outputs": [
    {
     "name": "stdout",
     "output_type": "stream",
     "text": [
      "Podpunkt i)\n",
      "Prawdopodobieństwo pokrycia ́sredniej przez przedział ufności: 0.9468\n",
      "Średnia długość przedziału ufności: 1.6665206536886996\n",
      "Podpunkt ii)\n",
      "Prawdopodobieństwo pokrycia ́sredniej przez przedział ufności: 0.9468\n",
      "Średnia długość przedziału ufności: 3.3330413073773992\n",
      "Podpunkt iii)\n",
      "Prawdopodobieństwo pokrycia ́sredniej przez przedział ufności: 0.9468\n",
      "Średnia długość przedziału ufności: 4.9995619610660995\n"
     ]
    }
   ],
   "source": [
    "task4_1(np.random.logistic, mi, sigma)"
   ]
  },
  {
   "cell_type": "code",
   "execution_count": 48,
   "id": "ed45ce98-634b-4c0b-9bb5-565b9a02f76f",
   "metadata": {},
   "outputs": [
    {
     "name": "stdout",
     "output_type": "stream",
     "text": [
      "Podpunkt i)\n",
      "Prawdopodobieństwo pokrycia ́sredniej przez przedział ufności: 0.9782\n",
      "Średnia długość przedziału ufności: 20.481019816047564\n",
      "Podpunkt ii)\n",
      "Prawdopodobieństwo pokrycia ́sredniej przez przedział ufności: 0.9782\n",
      "Średnia długość przedziału ufności: 40.96203963209513\n",
      "Podpunkt iii)\n",
      "Prawdopodobieństwo pokrycia ́sredniej przez przedział ufności: 0.9782\n",
      "Średnia długość przedziału ufności: 61.44305944814269\n"
     ]
    }
   ],
   "source": [
    "task4_1(cauchy.rvs, mi, sigma)"
   ]
  },
  {
   "cell_type": "code",
   "execution_count": 49,
   "id": "d2305f46-d0b0-414a-b9d4-ffbe06a560cd",
   "metadata": {},
   "outputs": [
    {
     "name": "stdout",
     "output_type": "stream",
     "text": [
      "Podpunkt i)\n",
      "Prawdopodobieństwo pokrycia ́sredniej przez przedział ufności: 1.0\n",
      "Średnia długość przedziału ufności: 20.481019816047564\n",
      "Podpunkt ii)\n",
      "Prawdopodobieństwo pokrycia ́sredniej przez przedział ufności: 1.0\n",
      "Średnia długość przedziału ufności: 40.96203963209513\n",
      "Podpunkt iii)\n",
      "Prawdopodobieństwo pokrycia ́sredniej przez przedział ufności: 1.0\n",
      "Średnia długość przedziału ufności: 61.44305944814269\n"
     ]
    }
   ],
   "source": [
    "task4_c(cauchy.rvs,mi,sigma,cauchy_mi)"
   ]
  },
  {
   "cell_type": "code",
   "execution_count": 50,
   "id": "eb428059-c03e-447f-9540-012450630fe0",
   "metadata": {},
   "outputs": [
    {
     "name": "stdout",
     "output_type": "stream",
     "text": [
      "Podpunkt i)\n",
      "Prawdopodobieństwo pokrycia ́sredniej przez przedział ufności: 0.8517\n",
      "Średnia długość przedziału ufności: 0.9419232186427029\n",
      "Podpunkt ii)\n",
      "Prawdopodobieństwo pokrycia ́sredniej przez przedział ufności: 0.5842\n",
      "Średnia długość przedziału ufności: 3.7676928745708116\n",
      "Podpunkt iii)\n",
      "Prawdopodobieństwo pokrycia ́sredniej przez przedział ufności: 0.7773\n",
      "Średnia długość przedziału ufności: 8.477308967784326\n"
     ]
    }
   ],
   "source": [
    "task4_2(np.random.exponential,[1/i for i in sigma],sigma)"
   ]
  },
  {
   "cell_type": "code",
   "execution_count": 51,
   "id": "33c8345c-2ef6-469e-a4a0-1831979d4e57",
   "metadata": {},
   "outputs": [
    {
     "name": "stdout",
     "output_type": "stream",
     "text": [
      "Podpunkt i)\n",
      "Prawdopodobieństwo pokrycia ́sredniej przez przedział ufności: 0.8635\n",
      "Średnia długość przedziału ufności: 1.894847826120058\n",
      "Podpunkt ii)\n",
      "Prawdopodobieństwo pokrycia ́sredniej przez przedział ufności: 0.9483\n",
      "Średnia długość przedziału ufności: 3.7676928745708116\n",
      "Podpunkt iii)\n",
      "Prawdopodobieństwo pokrycia ́sredniej przez przedział ufności: 0.9807\n",
      "Średnia długość przedziału ufności: 5.630280707174261\n"
     ]
    }
   ],
   "source": [
    "mi=sigma\n",
    "task4_2(np.random.chisquare,mi, sigma)"
   ]
  },
  {
   "cell_type": "markdown",
   "id": "23d59d3c-1bfb-485c-840a-e458f84c5354",
   "metadata": {},
   "source": [
    "Dla małej próbki czyli n=20 zastosowałam rozkład t-Studenta. W większości przypadków rzeczywiście otrzymujemy zdecydowanie większe prawdopodobieństwo pokrycia, długość przedziału rośnie."
   ]
  },
  {
   "cell_type": "markdown",
   "id": "151af10a-ec44-4d8d-8350-99a9696f9f0a",
   "metadata": {},
   "source": [
    "Zad.6 - dla n=20 zarówno długość przedziału jak i prawdopodobieństwo pokrycia rośnie, dla n=100 prawdopodobieństwo prawdopodbieństwo pokrycia jest zbliżone (raz nieco rośnie, raz nieco maleje), długość przedziału maleje."
   ]
  },
  {
   "cell_type": "markdown",
   "id": "706b5aa3-50e1-4e1c-861f-ffbd6fa93643",
   "metadata": {},
   "source": [
    "Zad. 8 - n=20 zarówno długość przedziału jak i prawdopodobieństwo pokrycia rośnie, dla n=100 prawdopodbieństwo pokrycia jest zbliżone (raz nieco rośnie, raz nieco maleje), długość przedziału maleje."
   ]
  },
  {
   "cell_type": "markdown",
   "id": "1fe03b9b-238c-43d1-9100-f5f397931b83",
   "metadata": {},
   "source": [
    "Zad.10 - n=20 długość przedziału i prawdopodobieństwo pokrycia rośnie, n=100 długość przedziału maleje, prawdopodobieństwo pokrycia rośnie."
   ]
  },
  {
   "cell_type": "markdown",
   "id": "dbf61be5-c8d2-4f28-9f6c-2d44074f9e63",
   "metadata": {},
   "source": [
    "W kontekście przedziałów ufności, często zauważamy, że wraz ze wzrostem liczby próbek obserwujemy ogólny trend malejącej długości przedziałów ufności oraz wzrostu lub utrzymania się stałego poziomu prawdopodobieństwa pokrycia. Ten związek sugeruje, że większa liczba próbek sprzyja dokładniejszej estymacji - skracają się przedziały ufności i otrzymujemy zwiększoną pewność w dokładności naszych estymacji. W przypadku rozkładów innych niż normalny, mamy szansę dostrzeżenia asymptotycznych zachowań rozkładów wynikających z CTG. Oczywiście czasem zdarza się, że eksperymentalnie wyznaczona długość przedziału jest tak zaburzona, że bezpośrednio wpływa na prawdopodobieństwo pokrycia - np. w wielu ekperymentach dotyczących rozkładu Cauchy'ego ze względu na nieskończoną wariancję otrzymywaliśmy ogromne przedziały, co skutkowało prawdopodobieństwem pokrycia bliskim 1. "
   ]
  }
 ],
 "metadata": {
  "kernelspec": {
   "display_name": "Python 3 (ipykernel)",
   "language": "python",
   "name": "python3"
  },
  "language_info": {
   "codemirror_mode": {
    "name": "ipython",
    "version": 3
   },
   "file_extension": ".py",
   "mimetype": "text/x-python",
   "name": "python",
   "nbconvert_exporter": "python",
   "pygments_lexer": "ipython3",
   "version": "3.11.2"
  }
 },
 "nbformat": 4,
 "nbformat_minor": 5
}
