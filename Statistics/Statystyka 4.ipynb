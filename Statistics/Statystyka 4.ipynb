{
 "cells": [
  {
   "cell_type": "markdown",
   "id": "575e3fd4-783e-43bc-bf5f-99cc52b7eeec",
   "metadata": {},
   "source": [
    "### Zadanie 1: przedział ufności dla $\\mu_1-\\mu_2$ przy znanych $\\sigma_1, \\sigma_2$"
   ]
  },
  {
   "cell_type": "markdown",
   "id": "a312e9bd-fa97-40d2-8289-3f49e9eb8364",
   "metadata": {},
   "source": [
    "Gdy rozważamy dwie niezależne próby losowe $X_1, X_2, ..., X_{n_1}$ oraz $Y_1, Y_2, ..., Y_{n_2}$, które pochodzą odpowiednio z rozkładów $N(\\mu_1,\\sigma_1)$ oraz $N(\\mu_2,\\sigma_2)$, to statystyka zdefiniowana jako ${Z=\\frac{(\\bar{X}-\\bar{Y})-(\\mu_1-\\mu_2)}{\\sqrt{\\frac{\\sigma_1^2}{n_1}+\\frac{\\sigma_2^2}{n_2}}}}$ ma rozkład $N(0,1)$. Rozważając $\\mathbb{P } (z_{\\frac{\\alpha}{2}} \\leq Z \\leq z_{1-\\frac{\\alpha}{2}})=1-\\alpha$ i dokonując odpowiednich przekształceń otrzymamy przedział ufności dla różnicy średnich $\\mu_1-\\mu_2$ na poziomie ufności $1-\\alpha$ ma postać $[(\\bar{x}-\\bar{y})-z_{1-\\frac{\\alpha}{2}}\\sqrt{{\\frac{\\sigma_1^2}{n_1}+\\frac{\\sigma_2^2}{n_2}}},(\\bar{x}-\\bar{y})+z_{1-\\frac{\\alpha}{2}}\\sqrt{{\\frac{\\sigma_1^2}{n_1}+\\frac{\\sigma_2^2}{n_2}}}]$"
   ]
  },
  {
   "cell_type": "markdown",
   "id": "9195ec97-24e6-4a47-a1a8-d7fae2436ac5",
   "metadata": {},
   "source": [
    "### Zadanie 2 a) (i), (iv), b) (i), (iv)"
   ]
  },
  {
   "cell_type": "code",
   "execution_count": 2,
   "id": "f4689cf4-7015-45c2-935e-0fee817fdfac",
   "metadata": {
    "scrolled": true
   },
   "outputs": [
    {
     "name": "stdout",
     "output_type": "stream",
     "text": [
      "a) - (i)\n",
      "Prawdopodobieństwo pokrycia ́sredniej przez przedział ufności: 0.9495\n",
      "Średnia długość przedziału ufności: 0.7839855938160216\n",
      "a) - (iv)\n",
      "Prawdopodobieństwo pokrycia ́sredniej przez przedział ufności: 0.9498\n",
      "Średnia długość przedziału ufności: 1.2395900646091236\n",
      "b) - (i)\n",
      "Prawdopodobieństwo pokrycia ́sredniej przez przedział ufności: 0.9504\n",
      "Średnia długość przedziału ufności: 1.4219925716322854\n",
      "b) - (iv)\n",
      "Prawdopodobieństwo pokrycia ́sredniej przez przedział ufności: 0.9525\n",
      "Średnia długość przedziału ufności: 2.248367671099081\n"
     ]
    }
   ],
   "source": [
    "import numpy as np\n",
    "import scipy.stats as stats\n",
    "\n",
    "n1=50\n",
    "n2=50\n",
    "i_1=[0,1]\n",
    "i_2=i_1\n",
    "iv_1=i_1\n",
    "iv_2=[1,2]\n",
    "N=10000\n",
    "\n",
    "def confidence_interval2(d1,d2, v1,v2, alpha=0.05):\n",
    "    n1=len(d1)\n",
    "    n2=len(d2)\n",
    "    x=np.mean(d1)\n",
    "    y=np.mean(d2)\n",
    "    q_value=1-alpha/2\n",
    "    quantile=stats.norm.ppf(q_value)\n",
    "    s=np.sqrt(v1/n1+v2/n2)\n",
    "    a=x-y\n",
    "    return (a-quantile*s,a+quantile*s)\n",
    "\n",
    "def task2(f,t1,t2,v1,v2):\n",
    "    mi_in=0\n",
    "    ci_len=[]\n",
    "    for i in range(N):\n",
    "        np.random.seed(i)\n",
    "        d1=f(t1[0],t1[1],n1)\n",
    "        d2=f(t2[0],t2[1],n2)\n",
    "        a,b=confidence_interval2(d1,d2,v1,v2)\n",
    "        mi=t1[0]-t2[0]\n",
    "        if (mi<=b and mi>=a):\n",
    "                mi_in+=1\n",
    "        ci_len.append(b-a)\n",
    "    print('Prawdopodobieństwo pokrycia ́sredniej przez przedział ufności:', mi_in/N)\n",
    "    print('Średnia długość przedziału ufności:', np.mean(ci_len))\n",
    "\n",
    "print(\"a) - (i)\")\n",
    "task2(np.random.normal,i_1, i_2,i_1[1]**2,i_2[1]**2)\n",
    "print(\"a) - (iv)\")\n",
    "task2(np.random.normal,iv_1, iv_2,iv_1[1]**2,iv_2[1]**2)\n",
    "\n",
    "\n",
    "print(\"b) - (i)\")\n",
    "task2(np.random.logistic,i_1, i_2,(i_1[1]*np.pi)**2/3,(i_2[1]*np.pi)**2/3)\n",
    "print(\"b) - (iv)\")\n",
    "task2(np.random.logistic,iv_1, iv_2,(iv_1[1]*np.pi)**2/3,(iv_2[1]*np.pi)**2/3)\n",
    "    "
   ]
  },
  {
   "cell_type": "markdown",
   "id": "1b58f67a-1c2c-41ed-819f-029e351ea2cc",
   "metadata": {},
   "source": [
    "Możemy zaobserwować, że zarówno dla rozkładu normalnego, jak i logistycznego prawdopodobieństwo eksperymentalne jest bliskie teoretycznemu $1-\\alpha$. Dla ustalonej liczności próby, długość przedziałów staje się większa, gdy rośnie wariancja któregoś z rozważanych rozkładów. Użycie kwantyli rozkładu normalego daje nam dostatecznie dobre wyniki również dla rozkładu logistycznego."
   ]
  },
  {
   "cell_type": "markdown",
   "id": "1734c693-ed4c-4408-869d-0f15bf9473dc",
   "metadata": {},
   "source": [
    "### Zadanie 5: przedział ufności dla $\\mu_1-\\mu_2$ przy nieznanych $\\sigma_1, \\sigma_2$"
   ]
  },
  {
   "cell_type": "markdown",
   "id": "731b4ba7-13d7-4c03-9ded-482db8c6c988",
   "metadata": {},
   "source": [
    "Dla znanych wariancji przedział ufności przyjął postać: $[(\\bar{x}-\\bar{y})-z_{1-\\frac{\\alpha}{2}}\\sqrt{{\\frac{\\sigma_1^2}{n_1}+\\frac{\\sigma_2^2}{n_2}}},(\\bar{x}-\\bar{y})+z_{1-\\frac{\\alpha}{2}}\\sqrt{{\\frac{\\sigma_1^2}{n_1}+\\frac{\\sigma_2^2}{n_2}}}]$. Teraz, gdy nie znamy wariancji przedział przyjmuje postać $[(\\bar{x}-\\bar{y})-t_{{1-\\frac{\\alpha}{2}},\\nu}\\sqrt{{\\frac{s_1^2}{n_1}+\\frac{s_2^2}{n_2}}},(\\bar{x}-\\bar{y})+t_{{1-\\frac{\\alpha}{2}},\\nu}\\sqrt{{\\frac{s_1^2}{n_1}+\\frac{s_2^2}{n_2}}}]$. Jak zwykle przy nieznanych wariancjach, używamy estymatorów wariancji $S_1^2$ i $S_2^2$. Przy wyliczaniu stopni swobody $\\nu$ musimy uwzględnić wielkość prób i ich stopnie swobody. Liczba stopni swobody $\\nu $ związana z tą estymatą wariancji jest przybliżana za pomocą równania Welcha-Satterthwaite’a: $\\nu = \\frac{\\left( \\frac{s_1^2}{n_1} + \\frac{s_2^2}{n_2}\\right)^2}{\\frac{s_1^4}{n_1^2 (n_1-1)}+\\frac{s_2^4}{n_2^2 (n_2-1)}}$\n",
    "\n",
    "\n"
   ]
  },
  {
   "cell_type": "markdown",
   "id": "42118c68-5221-4229-8219-3b1ce16a103d",
   "metadata": {},
   "source": [
    "### Zadanie 6"
   ]
  },
  {
   "cell_type": "code",
   "execution_count": 3,
   "id": "aaa914d6-ab62-4b26-bd46-b2b78f71f063",
   "metadata": {},
   "outputs": [
    {
     "name": "stdout",
     "output_type": "stream",
     "text": [
      "a) - (i)\n",
      "Prawdopodobieństwo pokrycia ́sredniej przez przedział ufności: 0.9513\n",
      "Średnia długość przedziału ufności: 0.7926278823248506\n",
      "a) - (iv)\n",
      "Prawdopodobieństwo pokrycia ́sredniej przez przedział ufności: 0.9508\n",
      "Średnia długość przedziału ufności: 1.2576192564362176\n",
      "b) - (i)\n",
      "Prawdopodobieństwo pokrycia ́sredniej przez przedział ufności: 0.9507\n",
      "Średnia długość przedziału ufności: 1.4351665676207086\n",
      "b) - (iv)\n",
      "Prawdopodobieństwo pokrycia ́sredniej przez przedział ufności: 0.9502\n",
      "Średnia długość przedziału ufności: 2.2750073161305755\n"
     ]
    }
   ],
   "source": [
    "from scipy.stats import t\n",
    "\n",
    "def confidence_interval5(d1,d2,alpha=0.05):\n",
    "    n1=len(d1)\n",
    "    n2=len(d2)\n",
    "    x=np.mean(d1)\n",
    "    y=np.mean(d2)\n",
    "    q_value=1-alpha/2\n",
    "    v1=np.var(d1, ddof=1)\n",
    "    v2=np.var(d2, ddof=1)\n",
    "    k=v1/n1+v2/n2\n",
    "    s=np.sqrt(k)\n",
    "    dof=k**2/(v1**2/(n1**2*(n1-1))+v2**2/(n2**2*(n2-1)))\n",
    "    a=x-y\n",
    "    quantile=t.ppf(q_value,dof)\n",
    "    return (a-quantile*s,a+quantile*s)\n",
    "\n",
    "def task5(f,t1,t2):\n",
    "    mi_in=0\n",
    "    ci_len=[]\n",
    "    for i in range(N):\n",
    "        np.random.seed(i)\n",
    "        d1=f(t1[0],t1[1],n1)\n",
    "        d2=f(t2[0],t2[1],n2)\n",
    "        a,b=confidence_interval5(d1,d2)\n",
    "        mi=t1[0]-t2[0]\n",
    "        if (mi<=b and mi>=a):\n",
    "                mi_in+=1\n",
    "        ci_len.append(b-a)\n",
    "    print('Prawdopodobieństwo pokrycia ́sredniej przez przedział ufności:', mi_in/N)\n",
    "    print('Średnia długość przedziału ufności:', np.mean(ci_len))\n",
    "\n",
    "print(\"a) - (i)\")\n",
    "task5(np.random.normal,i_1, i_2)\n",
    "print(\"a) - (iv)\")\n",
    "task5(np.random.normal,iv_1, iv_2)\n",
    "\n",
    "\n",
    "print(\"b) - (i)\")\n",
    "task5(np.random.logistic,i_1, i_2)\n",
    "print(\"b) - (iv)\")\n",
    "task5(np.random.logistic,iv_1, iv_2)\n",
    "    "
   ]
  },
  {
   "cell_type": "markdown",
   "id": "21ecd3f1-c838-4600-8021-e3b8c481740e",
   "metadata": {},
   "source": [
    "Możemy zaobserwować, że zarówno dla rozkładu normalnego, jak i logistycznego prawdopodobieństwo eksperymentalne jest bliskie teoretycznemu $1-\\alpha$. Dostajemy wyniki względnie podobne do zadania 2, w którym wariancje były znane, zatem mimo braku znajomości wariancji, jesteśmy w stanie rozważać przedział ufności dla różnicy średnich z dużą dokładnością."
   ]
  },
  {
   "cell_type": "markdown",
   "id": "6f7761bb-3504-4141-bab4-6db40ecb1e6f",
   "metadata": {},
   "source": [
    "### Zadanie 9: przedział ufności dla $\\frac{\\sigma_2^2}{\\sigma_1^2}$ przy nieznanych $\\mu_1, \\mu_2$ "
   ]
  },
  {
   "cell_type": "markdown",
   "id": "945e25cd-957c-481a-bb34-2fddf1dc19b3",
   "metadata": {},
   "source": [
    "Rozważamy dwie niezależne próby losowe o rozkładach odpowiednio $N(\\mu_1, \\sigma_1)$ oraz $N(\\mu_2, \\sigma_2)$ o licznościach $n_1,n_2$. Do konstrukcji przedziału ufności dla ilorazu $\\frac{\\sigma_2^2}{\\sigma_1^2}$ można użyć ilorazu $\\frac{S_1^2}{S_2^2}$ dla odpowiednich wariancji próbkowych $S_1^2, S_2^2$. Wiemy, że wariancje próbkowe mają rozkład $\\chi^2$. Skorzystamy z faktu, że iloraz zmiennych losowych $V_1,V_2$ rozkładzie $\\chi^2$ ze stopniami swobody $\\nu_1, \\nu_2$, to zmienna losowa $\\frac{V_1/\\nu_1}{V_2/\\nu_2}$ ma rozkład F (Snedecora) z $\\nu_1$ i $\\nu_2$ stopniami swobody. Wobec tego $Z=\\frac{S_1^2/\\sigma_1^2}{S_2^2/\\sigma_2^2}$ ma rozkład $F$ z $\\nu_1=n_1-1$ i $\\nu_2=n_2-1$ stopniami swobody. Stąd   rozważając $\\mathbb{P } (f_{{\\frac{\\alpha}{2},\\nu_1,\\nu_2}} \\leq Z \\leq f_{{1-\\frac{\\alpha}{2}},\\nu_1,\\nu_2})=1-\\alpha$. Po przekształceniach otrzymujemy przedział ufności $[\\frac{s_2^2}{s_1^2}f_{\\alpha/2},\\frac{s_2^2}{s_1^2}f_{1-\\alpha/2} ]$."
   ]
  },
  {
   "cell_type": "markdown",
   "id": "995ae378-b4ad-473a-b2ed-57f3fa11a04f",
   "metadata": {},
   "source": [
    "### Zadanie 10"
   ]
  },
  {
   "cell_type": "code",
   "execution_count": 15,
   "id": "487c40ab-aa6e-49c2-9774-da34223c9169",
   "metadata": {},
   "outputs": [
    {
     "name": "stdout",
     "output_type": "stream",
     "text": [
      "a) - (i)\n",
      "Prawdopodobieństwo pokrycia ́sredniej przez przedział ufności: 0.9461\n",
      "Średnia długość przedziału ufności: 0.0784523517003459\n",
      "a) - (iv)\n",
      "Prawdopodobieństwo pokrycia ́sredniej przez przedział ufności: 0.9461\n",
      "Średnia długość przedziału ufności: 0.3138094068013836\n",
      "b) - (i)\n",
      "Prawdopodobieństwo pokrycia ́sredniej przez przedział ufności: 0.8741\n",
      "Średnia długość przedziału ufności: 0.07842778150001772\n",
      "b) - (iv)\n",
      "Prawdopodobieństwo pokrycia ́sredniej przez przedział ufności: 0.8741\n",
      "Średnia długość przedziału ufności: 0.3137111260000709\n"
     ]
    }
   ],
   "source": [
    "def confidence_interval10(d1,d2,alpha=0.05):\n",
    "    n1=len(d1)\n",
    "    n2=len(d2)\n",
    "    q_1=alpha/2\n",
    "    q_2=1-alpha/2\n",
    "    v1=np.var(d1, ddof=1)\n",
    "    v2=np.var(d2, ddof=1)\n",
    "    s=v2/v1\n",
    "    quantile1 = stats.f.ppf(q_1, n1-1, n2-1)\n",
    "    quantile2 = stats.f.ppf(q_2, n1-1, n2-1)\n",
    "    return (s*quantile1,s*quantile2)\n",
    "\n",
    "def task10(f,t1,t2):\n",
    "    si_in=0\n",
    "    ci_len=[]\n",
    "    for i in range(N):\n",
    "        np.random.seed(i)\n",
    "        d1=f(t1[0],t1[1],n1)\n",
    "        d2=f(t2[0],t2[1],n2)\n",
    "        a,b=confidence_interval10(d1,d2)\n",
    "        si=(t2[1])**2/(t1[1])**2\n",
    "        if (si<=b and si>=a):\n",
    "                si_in+=1\n",
    "        ci_len.append(b-a)\n",
    "    print('Prawdopodobieństwo pokrycia ́sredniej przez przedział ufności:', si_in/N)\n",
    "    print('Średnia długość przedziału ufności:', np.mean(ci_len))\n",
    "\n",
    "print(\"a) - (i)\")\n",
    "task10(np.random.normal,i_1, i_2)\n",
    "print(\"a) - (iv)\")\n",
    "task10(np.random.normal,iv_1, iv_2)\n",
    "\n",
    "\n",
    "print(\"b) - (i)\")\n",
    "task10(np.random.logistic,i_1, i_2)\n",
    "print(\"b) - (iv)\")\n",
    "task10(np.random.logistic,iv_1, iv_2)\n",
    "    "
   ]
  },
  {
   "cell_type": "markdown",
   "id": "9112fc5b-c4dc-446e-bb70-d5a138cfb93e",
   "metadata": {},
   "source": [
    "Możemy zaobserwować, że zarówno dla rozkładu normalnego eksperymentalne prawdopodobieństwo pokrycia jest bliskie teoretycznemu $1-\\alpha$. W przypadku rozkładu logistycznego otrzymujemy $\\approx 0.87$, więc mamy do czynienia z mniejszą dokładnością niż w poprzednich zadaniach. Może to wynikać z faktu, że czynimy założenia na temat normalności rozkładu zmiennej losowej, co prowadzi nas do użycia konkretnych rozkładów (chi-kwadrat), a potem ilorazu rozkładów chi-kwadrat (Snedecora), które niekoniecznie muszą odpowiadać rozkładom, które powstaną w wyniku rozważanych przez nas arytmetycznych przekształceń rozkładu logistycznego."
   ]
  },
  {
   "cell_type": "markdown",
   "id": "2a45fd90-3f23-47b3-a59c-8d9bc78fb214",
   "metadata": {},
   "source": [
    "### Zadanie 12"
   ]
  },
  {
   "cell_type": "markdown",
   "id": "429fbc7c-0fba-4661-84c9-60009e806219",
   "metadata": {},
   "source": [
    "Metoda delta dotyczy wyznaczania przybliżonego rozkładu prawdopodobieństwa funkcji asymptotycznie normalnego estymatora statystycznego na podstawie wiedzy o wariancji granicznej tego estymatora. Formalnie, twierdzenie  4.3.9 w podręczniku mówi, że dla ciągu zmiennych losowych ${X_n}$, który spełnia: $\\sqrt{n}[X_n-\\theta]\\xrightarrow{D} N(0,\\sigma^2)$ i funkcji różniczkowalnej w punkcie $\\theta$ spełniającej $g'(\\theta)\\neq 0$. Wtedy zachodzi  $\\sqrt{n}[g(X_n)-g(\\theta)]\\xrightarrow{D} N(0,\\sigma^2[g'(\\theta)]^2)$"
   ]
  },
  {
   "cell_type": "markdown",
   "id": "c00b6d7a-dbd4-4f24-bf58-f15ed5d9b4e0",
   "metadata": {},
   "source": [
    "**Przykład :**\n",
    "Możemy zastosować tę metodę do wyznaczania przedziałów ufności - np. rozważmy zmienną losową $Z_n \\sim \\chi_n^2$. Wówczas unormowana zmienna losowa $Y=\\frac{Z_n-n}{\\sqrt{2n}}$ spełnia $\\sqrt{n}{[\\frac{1}{\\sqrt{2}n}Z_n-\\frac{1}{\\sqrt{2}}]}\\xrightarrow{D} N(0,1)$. Teraz, gdy chielibyśmy badać przedział ufności dla pierwiastka $Z_n$, możemy przyjąć $g(t)=\\sqrt{t}$, $W_n=g(\\frac{Z_n}{\\sqrt{2}n})=(\\frac{Z_n}{\\sqrt{2}n})^{\\frac{1}{2}}$, $g({\\frac{1}{\\sqrt{2}}})=\\frac{1}{2^{1/4}}$, $g'({\\frac{1}{\\sqrt{2}}})=\\frac{1}{2^{-3/4}}$. Zatem, stosując metodę delta, otrzymujemy: $\\sqrt{n}[W_n-\\frac{1}{2^{1/4}}]\\xrightarrow{D} N(0,\\frac{1}{2^{-3/4}})$, a to pozwoli nam zastosować kwantyle rozkładu normalnego o znanych już teraz parametrach przy wyliczaniu przedziału ufności. Graniczny rozkład normalny użyty przez nas w CTG będzie zadany właśnie tymi parametrami. \n",
    "\n",
    "**Podsumowując:** Możemy zastosować to twierdzenie do wyznaczania przedziałów ufności dla przekształconych zmiennych losowych, gdyż pozwala nam na zdeterminowanie paramtetrów kwantyli rozkładu normalnego, które definiują interesujące nas przedziały ufności."
   ]
  }
 ],
 "metadata": {
  "kernelspec": {
   "display_name": "Python 3 (ipykernel)",
   "language": "python",
   "name": "python3"
  },
  "language_info": {
   "codemirror_mode": {
    "name": "ipython",
    "version": 3
   },
   "file_extension": ".py",
   "mimetype": "text/x-python",
   "name": "python",
   "nbconvert_exporter": "python",
   "pygments_lexer": "ipython3",
   "version": "3.11.2"
  }
 },
 "nbformat": 4,
 "nbformat_minor": 5
}
