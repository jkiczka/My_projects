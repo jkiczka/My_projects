{
  "cells": [
    {
      "cell_type": "markdown",
      "metadata": {
        "id": "CzR6cZvYkyl6"
      },
      "source": [
        "## Assignment 2\n",
        "**Submission deadlines:**\n",
        "**Submission deadlines:**\n",
        "- get at least **4** points by lab session (week 24-28.03.2025)\n",
        "- remaining points: by lab session (week 31.03-04.04.2025)\n",
        "\n",
        "**Points:** Aim to get 16 out of 18+ possible points\n",
        "\n",
        "## Submission instructions\n",
        "The class is held on-site in lab rooms. Please prepare you notebook on your computer or anywhere in the cloud (try using DeepNote or Google Colab).\n",
        "\n",
        "Make sure you know all the questions and answers, and that the notebook contains results; before presentation do `Runtime -> Restart and run all`\n",
        "\n",
        "![Alt text](data:image/png;base64,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)\n",
        "\n",
        "We provide starter code, however you are not required to use it as long as you properly solve the tasks.\n",
        "\n",
        "## Extra points\n",
        "\n",
        "You can earn extra 2 points if all your experiments are logged with [Weights and Biases](http://wandb.ai)\n"
      ]
    },
    {
      "cell_type": "markdown",
      "metadata": {
        "id": "eJ7DqCH7NDlC"
      },
      "source": [
        "# Problems"
      ]
    },
    {
      "cell_type": "markdown",
      "metadata": {
        "id": "YXr1RwyMFITD"
      },
      "source": [
        "\n",
        "## Problem 1 [2p]:\n",
        "\n",
        "Let's see why GPUs are useful in deep learning. Compare matrix multiplication speed for a few matrix shapes when implemented:\n",
        "1. as loops in Python\n",
        "2. using np.einsum\n",
        "3. using numpy on CPU\n",
        "4. using pytorch on CPU\n",
        "5. using pytorch on GPU\n",
        "\n",
        "Finally, consider two square matrices, $A$ and $B$. We have 4 possibilities of multiplying them or their transpositions:\n",
        "1. $AB$\n",
        "2. $A^TB$\n",
        "3. $AB^T$\n",
        "4. $A^TB^T$\n",
        "\n",
        "Which option is the fastest? Why?"
      ]
    },
    {
      "cell_type": "code",
      "execution_count": null,
      "metadata": {
        "colab": {
          "base_uri": "https://localhost:8080/",
          "height": 577
        },
        "id": "QBEX2L2XqtsY",
        "outputId": "8675a01b-0256-47a9-85fe-65527a2dcf7b"
      },
      "outputs": [
        {
          "data": {
            "text/html": [
              "Tracking run with wandb version 0.19.8"
            ],
            "text/plain": [
              "<IPython.core.display.HTML object>"
            ]
          },
          "metadata": {},
          "output_type": "display_data"
        },
        {
          "data": {
            "text/html": [
              "Run data is saved locally in <code>/content/wandb/run-20250322_111503-a07avs6o</code>"
            ],
            "text/plain": [
              "<IPython.core.display.HTML object>"
            ]
          },
          "metadata": {},
          "output_type": "display_data"
        },
        {
          "data": {
            "text/html": [
              "Syncing run <strong><a href='https://wandb.ai/kicza/matrix-multiplication-benchmark/runs/a07avs6o' target=\"_blank\">peachy-aardvark-1</a></strong> to <a href='https://wandb.ai/kicza/matrix-multiplication-benchmark' target=\"_blank\">Weights & Biases</a> (<a href='https://wandb.me/developer-guide' target=\"_blank\">docs</a>)<br>"
            ],
            "text/plain": [
              "<IPython.core.display.HTML object>"
            ]
          },
          "metadata": {},
          "output_type": "display_data"
        },
        {
          "data": {
            "text/html": [
              " View project at <a href='https://wandb.ai/kicza/matrix-multiplication-benchmark' target=\"_blank\">https://wandb.ai/kicza/matrix-multiplication-benchmark</a>"
            ],
            "text/plain": [
              "<IPython.core.display.HTML object>"
            ]
          },
          "metadata": {},
          "output_type": "display_data"
        },
        {
          "data": {
            "text/html": [
              " View run at <a href='https://wandb.ai/kicza/matrix-multiplication-benchmark/runs/a07avs6o' target=\"_blank\">https://wandb.ai/kicza/matrix-multiplication-benchmark/runs/a07avs6o</a>"
            ],
            "text/plain": [
              "<IPython.core.display.HTML object>"
            ]
          },
          "metadata": {},
          "output_type": "display_data"
        },
        {
          "data": {
            "text/html": [],
            "text/plain": [
              "<IPython.core.display.HTML object>"
            ]
          },
          "metadata": {},
          "output_type": "display_data"
        },
        {
          "data": {
            "text/html": [
              "<br>    <style><br>        .wandb-row {<br>            display: flex;<br>            flex-direction: row;<br>            flex-wrap: wrap;<br>            justify-content: flex-start;<br>            width: 100%;<br>        }<br>        .wandb-col {<br>            display: flex;<br>            flex-direction: column;<br>            flex-basis: 100%;<br>            flex: 1;<br>            padding: 10px;<br>        }<br>    </style><br><div class=\"wandb-row\"><div class=\"wandb-col\"><h3>Run history:</h3><br/><table class=\"wandb\"><tr><td>NumPy @</td><td>▁▅█</td></tr><tr><td>NumPy einsum</td><td>▁▁█</td></tr><tr><td>PyTorch CPU</td><td>▂▁█</td></tr><tr><td>PyTorch GPU</td><td>▂▁█</td></tr><tr><td>Python Loops</td><td>▁▁█</td></tr></table><br/></div><div class=\"wandb-col\"><h3>Run summary:</h3><br/><table class=\"wandb\"><tr><td>NumPy @</td><td>0.04147</td></tr><tr><td>NumPy einsum</td><td>0.37262</td></tr><tr><td>PyTorch CPU</td><td>0.02645</td></tr><tr><td>PyTorch GPU</td><td>0.00109</td></tr><tr><td>Python Loops</td><td>154.99177</td></tr></table><br/></div></div>"
            ],
            "text/plain": [
              "<IPython.core.display.HTML object>"
            ]
          },
          "metadata": {},
          "output_type": "display_data"
        },
        {
          "data": {
            "text/html": [
              " View run <strong style=\"color:#cdcd00\">peachy-aardvark-1</strong> at: <a href='https://wandb.ai/kicza/matrix-multiplication-benchmark/runs/a07avs6o' target=\"_blank\">https://wandb.ai/kicza/matrix-multiplication-benchmark/runs/a07avs6o</a><br> View project at: <a href='https://wandb.ai/kicza/matrix-multiplication-benchmark' target=\"_blank\">https://wandb.ai/kicza/matrix-multiplication-benchmark</a><br>Synced 5 W&B file(s), 0 media file(s), 0 artifact file(s) and 0 other file(s)"
            ],
            "text/plain": [
              "<IPython.core.display.HTML object>"
            ]
          },
          "metadata": {},
          "output_type": "display_data"
        },
        {
          "data": {
            "text/html": [
              "Find logs at: <code>./wandb/run-20250322_111503-a07avs6o/logs</code>"
            ],
            "text/plain": [
              "<IPython.core.display.HTML object>"
            ]
          },
          "metadata": {},
          "output_type": "display_data"
        }
      ],
      "source": [
        "import numpy as np\n",
        "import torch\n",
        "import time\n",
        "import wandb\n",
        "\n",
        "wandb.init(project=\"matrix-multiplication-benchmark\")\n",
        "\n",
        "matrix_sizes = [(32, 32), (128, 128), (1024, 1024)]\n",
        "\n",
        "\n",
        "def python_loops_mult(A, B):\n",
        "    n, m = len(A), len(B[0])\n",
        "    C = [[0] * m for _ in range(n)]\n",
        "    for i in range(n):\n",
        "        for j in range(m):\n",
        "            for k in range(len(B)):\n",
        "                C[i][j] += A[i][k] * B[k][j]\n",
        "    return C\n",
        "\n",
        "\n",
        "device = torch.device(\"cuda\" if torch.cuda.is_available() else \"cpu\")\n",
        "\n",
        "for size in matrix_sizes:\n",
        "    A_np = np.random.rand(*size)\n",
        "    B_np = np.random.rand(*size)\n",
        "\n",
        "    A_torch = torch.tensor(A_np, dtype=torch.float32)\n",
        "    B_torch = torch.tensor(B_np, dtype=torch.float32)\n",
        "\n",
        "    A_torch_cuda = A_torch.to(device)\n",
        "    B_torch_cuda = B_torch.to(device)\n",
        "\n",
        "    times = {}\n",
        "\n",
        "    A_list = A_np.tolist()\n",
        "    B_list = B_np.tolist()\n",
        "    start = time.time()\n",
        "    python_loops_mult(A_list, B_list)\n",
        "    times[\"Python Loops\"] = time.time() - start\n",
        "\n",
        "    start = time.time()\n",
        "    np.einsum('ij,jk->ik', A_np, B_np)\n",
        "    times[\"NumPy einsum\"] = time.time() - start\n",
        "\n",
        "    start = time.time()\n",
        "    A_np @ B_np\n",
        "    times[\"NumPy @\"] = time.time() - start\n",
        "\n",
        "    start = time.time()\n",
        "    torch.matmul(A_torch, B_torch)\n",
        "    times[\"PyTorch CPU\"] = time.time() - start\n",
        "\n",
        "    if torch.cuda.is_available():\n",
        "        torch.cuda.synchronize()\n",
        "        start = time.time()\n",
        "        torch.matmul(A_torch_cuda, B_torch_cuda)\n",
        "        torch.cuda.synchronize()\n",
        "        times[\"PyTorch GPU\"] = time.time() - start\n",
        "\n",
        "    wandb.log({\"matrix_size\": size, **times})\n",
        "\n",
        "wandb.finish()\n"
      ]
    },
    {
      "cell_type": "markdown",
      "metadata": {
        "id": "gxJPjzb-s2xB"
      },
      "source": [
        "- Dla małych macierzy GPU nie ma przewagi, bo czas kopiowania danych do pamięci GPU oraz synchronizacja pochłaniają potencjalne zyski z równoległego przetwarzania.\n",
        "-@ jest wyraźnie szybszy niż einsum, szczególnie dla większych macierzy, ponieważ korzysta z zoptymalizowanych operacji NumPy (BLAS) i dodatkowo einsum musi analizować wyrażenie Einsteina i wykonywać bardziej elastyczne operacje tensorowe"
      ]
    },
    {
      "cell_type": "code",
      "execution_count": null,
      "metadata": {
        "colab": {
          "base_uri": "https://localhost:8080/",
          "height": 667
        },
        "id": "LxBg-KJ6s0IY",
        "outputId": "99f425be-d3cc-451d-fdb7-cba8cd8193e2"
      },
      "outputs": [
        {
          "data": {
            "text/html": [
              "Tracking run with wandb version 0.19.8"
            ],
            "text/plain": [
              "<IPython.core.display.HTML object>"
            ]
          },
          "metadata": {},
          "output_type": "display_data"
        },
        {
          "data": {
            "text/html": [
              "Run data is saved locally in <code>/content/wandb/run-20250322_111742-cgfclel3</code>"
            ],
            "text/plain": [
              "<IPython.core.display.HTML object>"
            ]
          },
          "metadata": {},
          "output_type": "display_data"
        },
        {
          "data": {
            "text/html": [
              "Syncing run <strong><a href='https://wandb.ai/kicza/matrix-multiplication-benchmark/runs/cgfclel3' target=\"_blank\">jolly-yogurt-2</a></strong> to <a href='https://wandb.ai/kicza/matrix-multiplication-benchmark' target=\"_blank\">Weights & Biases</a> (<a href='https://wandb.me/developer-guide' target=\"_blank\">docs</a>)<br>"
            ],
            "text/plain": [
              "<IPython.core.display.HTML object>"
            ]
          },
          "metadata": {},
          "output_type": "display_data"
        },
        {
          "data": {
            "text/html": [
              " View project at <a href='https://wandb.ai/kicza/matrix-multiplication-benchmark' target=\"_blank\">https://wandb.ai/kicza/matrix-multiplication-benchmark</a>"
            ],
            "text/plain": [
              "<IPython.core.display.HTML object>"
            ]
          },
          "metadata": {},
          "output_type": "display_data"
        },
        {
          "data": {
            "text/html": [
              " View run at <a href='https://wandb.ai/kicza/matrix-multiplication-benchmark/runs/cgfclel3' target=\"_blank\">https://wandb.ai/kicza/matrix-multiplication-benchmark/runs/cgfclel3</a>"
            ],
            "text/plain": [
              "<IPython.core.display.HTML object>"
            ]
          },
          "metadata": {},
          "output_type": "display_data"
        },
        {
          "name": "stdout",
          "output_type": "stream",
          "text": [
            "                   AB     A^T B     A B^T   A^T B^T\n",
            "Matrix Size                                        \n",
            "256          0.000698  0.000783  0.000726  0.000762\n",
            "512          0.004709  0.004790  0.004731  0.005006\n",
            "1024         0.042701  0.043350  0.044139  0.043990\n"
          ]
        },
        {
          "data": {
            "text/html": [],
            "text/plain": [
              "<IPython.core.display.HTML object>"
            ]
          },
          "metadata": {},
          "output_type": "display_data"
        },
        {
          "data": {
            "text/html": [
              "<br>    <style><br>        .wandb-row {<br>            display: flex;<br>            flex-direction: row;<br>            flex-wrap: wrap;<br>            justify-content: flex-start;<br>            width: 100%;<br>        }<br>        .wandb-col {<br>            display: flex;<br>            flex-direction: column;<br>            flex-basis: 100%;<br>            flex: 1;<br>            padding: 10px;<br>        }<br>    </style><br><div class=\"wandb-row\"><div class=\"wandb-col\"><h3>Run history:</h3><br/><table class=\"wandb\"><tr><td>A B^T</td><td>▁▂█</td></tr><tr><td>AB</td><td>▁▂█</td></tr><tr><td>A^T B</td><td>▁▂█</td></tr><tr><td>A^T B^T</td><td>▁▂█</td></tr><tr><td>matrix_size</td><td>▁▃█</td></tr></table><br/></div><div class=\"wandb-col\"><h3>Run summary:</h3><br/><table class=\"wandb\"><tr><td>A B^T</td><td>0.04414</td></tr><tr><td>AB</td><td>0.0427</td></tr><tr><td>A^T B</td><td>0.04335</td></tr><tr><td>A^T B^T</td><td>0.04399</td></tr><tr><td>matrix_size</td><td>1024</td></tr></table><br/></div></div>"
            ],
            "text/plain": [
              "<IPython.core.display.HTML object>"
            ]
          },
          "metadata": {},
          "output_type": "display_data"
        },
        {
          "data": {
            "text/html": [
              " View run <strong style=\"color:#cdcd00\">jolly-yogurt-2</strong> at: <a href='https://wandb.ai/kicza/matrix-multiplication-benchmark/runs/cgfclel3' target=\"_blank\">https://wandb.ai/kicza/matrix-multiplication-benchmark/runs/cgfclel3</a><br> View project at: <a href='https://wandb.ai/kicza/matrix-multiplication-benchmark' target=\"_blank\">https://wandb.ai/kicza/matrix-multiplication-benchmark</a><br>Synced 5 W&B file(s), 0 media file(s), 0 artifact file(s) and 0 other file(s)"
            ],
            "text/plain": [
              "<IPython.core.display.HTML object>"
            ]
          },
          "metadata": {},
          "output_type": "display_data"
        },
        {
          "data": {
            "text/html": [
              "Find logs at: <code>./wandb/run-20250322_111742-cgfclel3/logs</code>"
            ],
            "text/plain": [
              "<IPython.core.display.HTML object>"
            ]
          },
          "metadata": {},
          "output_type": "display_data"
        }
      ],
      "source": [
        "import numpy as np\n",
        "import time\n",
        "import pandas as pd\n",
        "import wandb\n",
        "\n",
        "wandb.init(project=\"matrix-multiplication-benchmark\")\n",
        "\n",
        "sizes = [256, 512, 1024]\n",
        "results = {}\n",
        "repetitions = 100\n",
        "\n",
        "for size in sizes:\n",
        "    A = np.random.rand(size, size)\n",
        "    B = np.random.rand(size, size)\n",
        "\n",
        "    times = {\"AB\": [], \"A^T B\": [], \"A B^T\": [], \"A^T B^T\": []}\n",
        "\n",
        "    for _ in range(repetitions):\n",
        "        start = time.time()\n",
        "        A @ B\n",
        "        times[\"AB\"].append(time.time() - start)\n",
        "\n",
        "        start = time.time()\n",
        "        A.T @ B\n",
        "        times[\"A^T B\"].append(time.time() - start)\n",
        "\n",
        "        start = time.time()\n",
        "        A @ B.T\n",
        "        times[\"A B^T\"].append(time.time() - start)\n",
        "\n",
        "        start = time.time()\n",
        "        A.T @ B.T\n",
        "        times[\"A^T B^T\"].append(time.time() - start)\n",
        "\n",
        "    avg_times = {key: np.mean(value) for key, value in times.items()}\n",
        "    results[size] = avg_times\n",
        "    wandb.log({\"matrix_size\": size, **avg_times})\n",
        "\n",
        "df = pd.DataFrame(results).T\n",
        "df.index.name = 'Matrix Size'\n",
        "\n",
        "print(df)\n",
        "wandb.finish()\n"
      ]
    },
    {
      "cell_type": "markdown",
      "metadata": {
        "id": "W6lupSdZs_lU"
      },
      "source": [
        "- Dla mniejszych macierzy (np. 256x256), różnice w czasie są stosunkowo niewielkie. Optymalizacja pamięci cache i zoptymalizowane algorytmy przyczyniają się do podobnych wyników.\n",
        "- Dla większych macierzy (np. 1024x1024), transponowanie obydwu macierzy (A^T B^T) powoduje nieznacznie większy czas wykonania, ale ogólnie operacje są bardzo podobne."
      ]
    },
    {
      "cell_type": "markdown",
      "metadata": {
        "id": "eQa69LGTaiym"
      },
      "source": [
        "## Problem 2: Stochastic Gradient Descent (training MNIST digits) [2p]\n",
        "\n",
        "We provide below starter code that trains a classification model (with softmat + cross entropy loss). Alternatively, implement your own training loop and use it to solve this problem jointly with the next one.\n",
        "\n",
        "Implement the following additions to the SGD code provided:\n",
        "  1. **[1p]** momentum\n",
        "  2. **[0.5p]** learning rate schedule\n",
        "  3. **[0.5p]** weight decay, in which we additionally minimize for each weight matrix (but typically not the bias) the sum of its elements squared. One way to implement it is to use the function `model.named_parameters` and select all parameters whose names contain \"`weight`\" rather than \"`bias`\"."
      ]
    },
    {
      "cell_type": "markdown",
      "metadata": {
        "id": "YsLt4dGsaosv"
      },
      "source": [
        "## Problem 3: Tuning the Network for MNIST [2p]\n",
        "\n",
        "Tune the following network to reach **validation error rate below 1.9%**.\n",
        "This should result in a **test error rate below 2%**. To\n",
        "tune the network you will need to:\n",
        "1. Choose the number of layers (more than 1, less than 5);\n",
        "2. Choose the number of neurons in each layer (more than 100,\n",
        "    less than 5000);\n",
        "3. Pick proper weight initialization;\n",
        "4. Pick proper learning rate schedule (need to decay over time,\n",
        "    a good range to check on MNIST is about 1e-2 ... 1e-1 at the beginning and\n",
        "    half of that after 10000 batches);\n",
        "5. Pick a momentum constant (probably a constant one will be OK).\n",
        "\n",
        "\n",
        "Please note: there are many hyperparameter settings that give the desired answer, some may require tuning all hyperparameters, some only a few."
      ]
    },
    {
      "cell_type": "markdown",
      "metadata": {
        "id": "YrUQloaln1UA"
      },
      "source": [
        "## Problem 4: Convolutional Network [2p]\n",
        "\n",
        "Use convolutional and max-pooling layers (`Conv2d`, `Max_pool2d` or their functional variants) and (without dropout) get a test error rate below 1.5%."
      ]
    },
    {
      "cell_type": "markdown",
      "metadata": {
        "id": "mB3T_HuYawyQ"
      },
      "source": [
        "## Problem 5: Data Augmentation [1p]\n",
        "\n",
        "Apply data augmentation methods (e.g. rotations, noise, crops) when training networks on MNIST, to significantly reduce test error rate for your network. You can use functions from the [torchvision.transforms](http://pytorch.org/docs/master/torchvision/transforms.html) module.\n",
        "\n",
        "Please note: when using random transformations during training, make sure they are re-computed in every epoch. Consider applying augmentation either in the training loop or in the `InMemDataLoader`. For the second case, function `InMemDataLoader.__iter__` is a good place to do it."
      ]
    },
    {
      "cell_type": "markdown",
      "metadata": {
        "id": "ouOMyad8qZ_1"
      },
      "source": [
        "\n",
        "## Problem 6: Dropout [2p]\n",
        "\n",
        "Learn about dropout:\n",
        "\n",
        "- implement a **dropout** layer\n",
        "- or use `nn.Dropout` (then the exercise is worth 1.5 points)\n",
        "\n",
        "and try to train a\n",
        "network getting below 1.5% test error rates with dropout, but no convolutions, or below 1% when dropout is used jointly with convolutions!\n",
        "\n",
        "Remember to turn off dropout during testing, using `model.train()` and `model.eval()`!\n",
        "\n",
        "Hint: Use [torch.nn.functional.dropout](http://pytorch.org/docs/master/nn.html#torch.nn.functional.dropout).\n",
        "\n",
        "Details: http://arxiv.org/pdf/1207.0580.pdf."
      ]
    },
    {
      "cell_type": "markdown",
      "metadata": {
        "id": "Af7itFE7a0eY"
      },
      "source": [
        "## Problem 7: Batch Normalization [2p]\n",
        "\n",
        "[Batch Normalization](https://arxiv.org/abs/1502.03167) helps training neural networks because it [normalizes layer activation magnitudes](https://papers.nips.cc/paper/7515-how-does-batch-normalization-help-optimization.pdf). It typically allows to train networks faster and/or with higher learning rates, lessens the importance\n",
        "of initialization and might eliminate the need for Dropout.\n",
        "\n",
        "Implement Batch Normalization and compare with regular training of MNIST models.\n",
        "\n",
        "Remember to use the batch statistics during model training and to use an average of training batch statistics during model evaluation. For details please consult the paper."
      ]
    },
    {
      "cell_type": "markdown",
      "metadata": {
        "id": "CD1Ke8R4a1-Q"
      },
      "source": [
        "## Problem 8: Norm Constraints [1p]\n",
        "\n",
        "Implement norm constraints, i.e. instead of weight decay, that tries to set all weights to small values, apply a limit on the total\n",
        "norm of connections incoming to a neuron. In our case, this\n",
        "corresponds to clipping the norm of *rows* of weight\n",
        "matrices. An easy way of implementing it is to make a gradient\n",
        "step, then look at the norm of rows and scale down those that are\n",
        "over the threshold (this technique is called \"projected gradient descent\").\n",
        "\n",
        "Please consult the Dropout paper (http://arxiv.org/pdf/1207.0580.pdf) for details."
      ]
    },
    {
      "cell_type": "markdown",
      "metadata": {
        "id": "w7LoH9DIa88J"
      },
      "source": [
        "## Problem 9: Hyperparameter tuner [2p]\n",
        "\n",
        "Implement a hyper-parameter tuner able to optimize the learning rate schedule, number of neurons, and similar hyperparameters. To start, use a random search (please see http://jmlr.csail.mit.edu/papers/volume13/bergstra12a/bergstra12a.pdf and especially Fig 1. for intuitions on why random search is better than grid search). It may be a good idea to use a fixed maximum number of epochs (or training time) for each optimization trial to prevent selecting hyperparameters that yield slowly converging solutions. A good result will be a set of hyperparameters that reach on MNIST solutions with test errors less than $1.3\\%$ in no more than 50 epochs."
      ]
    },
    {
      "cell_type": "markdown",
      "metadata": {
        "id": "mzJTDu2aE8sk"
      },
      "source": [
        "## Problem 10: Pruning [1p]\n",
        "\n",
        "Prune the MNIST network to retain validation accuracy no worse than 0.1 percentage point at maximum sparsity (maximal number of weights removed from the network).\n",
        "\n",
        "One way to do it is to\n",
        "1. train the network,\n",
        "2. set to zero the smallest weights (typically you can zero up to 50% of weights)\n",
        "3. retrain the network, keeping the zeroed weights zeroed, and repeat"
      ]
    },
    {
      "cell_type": "markdown",
      "metadata": {
        "id": "aotfN2N2FCM6"
      },
      "source": [
        "## Problem 11: Other tricks [1p-many]\n",
        "\n",
        "The neural network literature is full of tricks for training neural networks. Find some and implement them. Please note: the number of points depends on the hardness of the extension you want to implement. If in doubt, consult the TA beforehand"
      ]
    },
    {
      "cell_type": "markdown",
      "metadata": {
        "id": "NNfw6pY9sRJe"
      },
      "source": [
        "# Starter code\n",
        "\n",
        "The code below trains a SoftMax regression model in PyTorch. It can easily be extended into a full multilayer neural network."
      ]
    },
    {
      "cell_type": "code",
      "execution_count": null,
      "metadata": {
        "id": "iEUPZksWm9YU"
      },
      "outputs": [],
      "source": [
        "%matplotlib inline"
      ]
    },
    {
      "cell_type": "code",
      "execution_count": null,
      "metadata": {
        "id": "039umgT_lsH2"
      },
      "outputs": [],
      "source": [
        "import os\n",
        "import time\n",
        "\n",
        "import matplotlib.pyplot as plt\n",
        "import numpy as np\n",
        "from IPython.display import clear_output\n",
        "from tqdm.auto import tqdm\n",
        "\n",
        "import torch\n",
        "import torch.nn.functional as F\n",
        "import torchvision.datasets\n",
        "from torch import nn"
      ]
    },
    {
      "cell_type": "code",
      "execution_count": null,
      "metadata": {
        "id": "tPOMFqLZsfuj"
      },
      "outputs": [],
      "source": [
        "def compute_error_rate(model, data_loader, device=\"cpu\"):\n",
        "    \"\"\"Evaluate model on all samples from the data loader.\n",
        "    \"\"\"\n",
        "    # Put the model in eval mode, and move to the evaluation device.\n",
        "    model.eval()\n",
        "    model.to(device)\n",
        "    if isinstance(data_loader, InMemDataLoader):\n",
        "        data_loader.to(device)\n",
        "\n",
        "    num_errs = 0.0\n",
        "    num_examples = 0\n",
        "    # we don't need gradient during eval!\n",
        "    with torch.no_grad():\n",
        "        for x, y in data_loader:\n",
        "            x = x.to(device)\n",
        "            y = y.to(device)\n",
        "            outputs = model.forward(x)\n",
        "            _, predictions = outputs.data.max(dim=1)\n",
        "            num_errs += (predictions != y.data).sum().item()\n",
        "            num_examples += x.size(0)\n",
        "    return num_errs / num_examples\n",
        "\n",
        "\n",
        "def plot_history(history):\n",
        "    \"\"\"Helper to plot the trainig progress over time.\"\"\"\n",
        "    plt.figure(figsize=(16, 4))\n",
        "    plt.subplot(1, 2, 1)\n",
        "    train_loss = np.array(history[\"train_losses\"])\n",
        "    plt.semilogy(np.arange(train_loss.shape[0]), train_loss, label=\"batch train loss\")\n",
        "    plt.legend()\n",
        "\n",
        "    plt.subplot(1, 2, 2)\n",
        "    train_errs = np.array(history[\"train_errs\"])\n",
        "    plt.plot(np.arange(train_errs.shape[0]), train_errs, label=\"batch train error rate\")\n",
        "    val_errs = np.array(history[\"val_errs\"])\n",
        "    plt.plot(val_errs[:, 0], val_errs[:, 1], label=\"validation error rate\", color=\"r\")\n",
        "    plt.ylim(0, 0.20)\n",
        "    plt.legend()"
      ]
    },
    {
      "cell_type": "markdown",
      "metadata": {
        "id": "OT6R09JnnYs9"
      },
      "source": [
        "## Data loading\n",
        "\n",
        "Training speed is important. By default, data is loaded on the CPU, then shipped in batches to the GPU. For this exercise, we will load the full dataset onto the GPU, which speeds up training."
      ]
    },
    {
      "cell_type": "code",
      "execution_count": null,
      "metadata": {
        "id": "OPh9uR8ZorL7"
      },
      "outputs": [],
      "source": [
        "class InMemDataLoader(object):\n",
        "    \"\"\"\n",
        "    A data loader that keeps all data in CPU or GPU memory.\n",
        "    \"\"\"\n",
        "\n",
        "    __initialized = False\n",
        "\n",
        "    def __init__(\n",
        "        self,\n",
        "        dataset,\n",
        "        batch_size=1,\n",
        "        shuffle=False,\n",
        "        sampler=None,\n",
        "        batch_sampler=None,\n",
        "        drop_last=False,\n",
        "    ):\n",
        "        \"\"\"A torch dataloader that fetches data from memory.\"\"\"\n",
        "        batches = []\n",
        "        for i in tqdm(range(len(dataset))):\n",
        "            batch = [torch.tensor(t) for t in dataset[i]]\n",
        "            batches.append(batch)\n",
        "        tensors = [torch.stack(ts) for ts in zip(*batches)]\n",
        "        dataset = torch.utils.data.TensorDataset(*tensors)\n",
        "        self.dataset = dataset\n",
        "        self.batch_size = batch_size\n",
        "        self.drop_last = drop_last\n",
        "\n",
        "        if batch_sampler is not None:\n",
        "            if batch_size > 1 or shuffle or sampler is not None or drop_last:\n",
        "                raise ValueError(\n",
        "                    \"batch_sampler option is mutually exclusive \"\n",
        "                    \"with batch_size, shuffle, sampler, and \"\n",
        "                    \"drop_last\"\n",
        "                )\n",
        "            self.batch_size = None\n",
        "            self.drop_last = None\n",
        "\n",
        "        if sampler is not None and shuffle:\n",
        "            raise ValueError(\"sampler option is mutually exclusive with \" \"shuffle\")\n",
        "\n",
        "        if batch_sampler is None:\n",
        "            if sampler is None:\n",
        "                if shuffle:\n",
        "                    sampler = torch.utils.data.RandomSampler(dataset)\n",
        "                else:\n",
        "                    sampler = torch.utils.data.SequentialSampler(dataset)\n",
        "            batch_sampler = torch.utils.data.BatchSampler(\n",
        "                sampler, batch_size, drop_last\n",
        "            )\n",
        "\n",
        "        self.sampler = sampler\n",
        "        self.batch_sampler = batch_sampler\n",
        "        self.__initialized = True\n",
        "\n",
        "    def __setattr__(self, attr, val):\n",
        "        if self.__initialized and attr in (\"batch_size\", \"sampler\", \"drop_last\"):\n",
        "            raise ValueError(\n",
        "                \"{} attribute should not be set after {} is \"\n",
        "                \"initialized\".format(attr, self.__class__.__name__)\n",
        "            )\n",
        "\n",
        "        super(InMemDataLoader, self).__setattr__(attr, val)\n",
        "\n",
        "    def __iter__(self):\n",
        "        for batch_indices in self.batch_sampler:\n",
        "            yield self.dataset[batch_indices]\n",
        "\n",
        "    def __len__(self):\n",
        "        return len(self.batch_sampler)\n",
        "\n",
        "    def to(self, device):\n",
        "        self.dataset.tensors = tuple(t.to(device) for t in self.dataset.tensors)\n",
        "        return self"
      ]
    },
    {
      "cell_type": "markdown",
      "metadata": {
        "id": "d4RuDI9YpPhe"
      },
      "source": [
        "```python\n",
        "# Monkey-patch MNIST to use a more robust MNIST mirror\n",
        "torchvision.datasets.MNIST.resources = [\n",
        "    (\n",
        "        \"https://web.archive.org/web/20150906081542/http://yann.lecun.com/exdb/mnist/train-images-idx3-ubyte.gz\",\n",
        "        \"f68b3c2dcbeaaa9fbdd348bbdeb94873\",\n",
        "    ),\n",
        "    (\n",
        "        \"https://web.archive.org/web/20150906081542/http://yann.lecun.com/exdb/mnist/train-labels-idx1-ubyte.gz\",\n",
        "        \"d53e105ee54ea40749a09fcbcd1e9432\",\n",
        "    ),\n",
        "    (\n",
        "        \"https://web.archive.org/web/20150906081542/http://yann.lecun.com/exdb/mnist/t10k-images-idx3-ubyte.gz\",\n",
        "        \"9fb629c4189551a2d022fa330f9573f3\",\n",
        "    ),\n",
        "    (\n",
        "        \"https://web.archive.org/web/20150906081542/http://yann.lecun.com/exdb/mnist/t10k-labels-idx1-ubyte.gz\",\n",
        "        \"ec29112dd5afa0611ce80d1b7f02629c\",\n",
        "    ),\n",
        "]\n",
        "```"
      ]
    },
    {
      "cell_type": "code",
      "execution_count": null,
      "metadata": {
        "colab": {
          "base_uri": "https://localhost:8080/",
          "height": 168,
          "referenced_widgets": [
            "aff929258f704995a6cf063e8f34c454",
            "61ce93e181094fdc9d13f5ead7599d01",
            "a1bdbe3b509c4723a8249e8e90126266",
            "edbc3530ed9e4d939b9b99e33ca9747f",
            "b1475419873044c0aede9894fd1dd494",
            "34b1024de0434ed89f182912d7d7977d",
            "4cc886205ad14606b066e1bce3a2b2f2",
            "b48bcb8821ba4c7c937744b5862c7663",
            "f29f6a32791143bf8d71d133da81bdb6",
            "9e5806296c0d43b5afd5936b2e4e2fda",
            "1e6e983efd554cf19d851fb3f940e334",
            "638230abb5044a389bdd81ce6b2cb3fd",
            "dd05569a813444d6a13e0a5e8408ed4a",
            "d83aa1e4af574a71b3fbf9f9aea851e5",
            "db4df82838634e49b9019f383d4848ba",
            "30145fd162b142709b3539dead38f5b3",
            "f4633e23eed44b61a6aa405858adfee0",
            "275e811b5afa4caf9566a56248fa57e6",
            "728d0d00d8184ae6ad6b216963914c1c",
            "b5fc0f0b70114c0bbde994e744e8005c",
            "a47e8a3d65b04f4bb3b2a0eebfee25f2",
            "709efa4f4f484dcfbd154a0ffaea8c0e",
            "510913cee3404dbea642fad100ae76c2",
            "ee43ee209735450098f55809abfc4354",
            "2c7619df820f4eb18386135b4fb05e49",
            "be3944f5a1ad4733a249fa88dbed88d0",
            "faacf750ed99463b8c92c2681820b958",
            "6b65d74acbdf4b2e868527c29471f629",
            "371e68bdd2a34a03a29f97bd18cb2a2a",
            "72e68207bfca41a6aa5a2ecb4610aa4b",
            "18dfc8b266224a1ab2983b5b82716eb2",
            "94dcb88680bc4d279ca4d0a756ce7286",
            "e2f612d8c22d4769a3cd4286f79fd536"
          ]
        },
        "id": "wDM2KTPQm8V3",
        "outputId": "b13b927e-6ca7-4f53-ad3b-ddd0d28f50c6"
      },
      "outputs": [
        {
          "output_type": "display_data",
          "data": {
            "text/plain": [
              "  0%|          | 0/50000 [00:00<?, ?it/s]"
            ],
            "application/vnd.jupyter.widget-view+json": {
              "version_major": 2,
              "version_minor": 0,
              "model_id": "aff929258f704995a6cf063e8f34c454"
            }
          },
          "metadata": {}
        },
        {
          "output_type": "stream",
          "name": "stderr",
          "text": [
            "<ipython-input-3-f2b633125296>:20: UserWarning: To copy construct from a tensor, it is recommended to use sourceTensor.clone().detach() or sourceTensor.clone().detach().requires_grad_(True), rather than torch.tensor(sourceTensor).\n",
            "  batch = [torch.tensor(t) for t in dataset[i]]\n"
          ]
        },
        {
          "output_type": "display_data",
          "data": {
            "text/plain": [
              "  0%|          | 0/10000 [00:00<?, ?it/s]"
            ],
            "application/vnd.jupyter.widget-view+json": {
              "version_major": 2,
              "version_minor": 0,
              "model_id": "638230abb5044a389bdd81ce6b2cb3fd"
            }
          },
          "metadata": {}
        },
        {
          "output_type": "display_data",
          "data": {
            "text/plain": [
              "  0%|          | 0/10000 [00:00<?, ?it/s]"
            ],
            "application/vnd.jupyter.widget-view+json": {
              "version_major": 2,
              "version_minor": 0,
              "model_id": "510913cee3404dbea642fad100ae76c2"
            }
          },
          "metadata": {}
        }
      ],
      "source": [
        "# Load the data\n",
        "\n",
        "batch_size = 128\n",
        "data_path = \"./data\"\n",
        "\n",
        "transform = torchvision.transforms.Compose(\n",
        "    [\n",
        "        torchvision.transforms.ToTensor(),\n",
        "        torchvision.transforms.Normalize((0.1307,), (0.3081,)),\n",
        "    ]\n",
        ")\n",
        "\n",
        "_test = torchvision.datasets.MNIST(\n",
        "    data_path, train=False, download=True, transform=transform\n",
        ")\n",
        "\n",
        "# Load training data, split into train and valid sets\n",
        "_train = torchvision.datasets.MNIST(\n",
        "    data_path, train=True, download=True, transform=transform\n",
        ")\n",
        "_train.data = _train.data[:50000]\n",
        "_train.targets = _train.targets[:50000]\n",
        "\n",
        "_valid = torchvision.datasets.MNIST(\n",
        "    data_path, train=True, download=True, transform=transform\n",
        ")\n",
        "_valid.data = _valid.data[50000:]\n",
        "_valid.targets = _valid.targets[50000:]\n",
        "\n",
        "mnist_loaders = {\n",
        "    \"train\": InMemDataLoader(_train, batch_size=batch_size, shuffle=True),\n",
        "    \"valid\": InMemDataLoader(_valid, batch_size=batch_size, shuffle=False),\n",
        "    \"test\": InMemDataLoader(_test, batch_size=batch_size, shuffle=False),\n",
        "}"
      ]
    },
    {
      "cell_type": "markdown",
      "metadata": {
        "id": "rRYr7XmnnGO_"
      },
      "source": [
        "## SGD implementation\n",
        "\n",
        "We provide below a scaffolding for SGD. You will need to fill the TODOs while solving the assignments."
      ]
    },
    {
      "cell_type": "code",
      "execution_count": null,
      "metadata": {
        "id": "WY1xG-cqnRoE"
      },
      "outputs": [],
      "source": [
        "import wandb\n",
        "\n",
        "\n",
        "\n",
        "def SGD(\n",
        "    model,\n",
        "    data_loaders,\n",
        "    alpha=1e-4,\n",
        "    epsilon=0.0,\n",
        "    decay=0.0,\n",
        "    num_epochs=1,\n",
        "    max_num_epochs=np.nan,\n",
        "    patience_expansion=1.5,\n",
        "    log_every=100,\n",
        "    device=\"cpu\",\n",
        "    name=\"\"\n",
        "):\n",
        "    # Put the model in train mode, and move to the evaluation device.\n",
        "    model.train()\n",
        "    model.to(device)\n",
        "    for data_loader in data_loaders.values():\n",
        "        if isinstance(data_loader, InMemDataLoader):\n",
        "            data_loader.to(device)\n",
        "\n",
        "    wandb.init(project=\"SGD-Training\", name=name, config={\"alpha\": alpha, \"epsilon\": epsilon, \"decay\": decay})\n",
        "    #\n",
        "    # TODO for Problem 2.2: Initialize momentum variables\n",
        "    # Hint: You need one velocity matrix for each parameter\n",
        "    #\n",
        "    velocities = [torch.zeros(p.shape, device=device) for p in model.parameters()]\n",
        "    iter_ = 0\n",
        "    epoch = 0\n",
        "    best_params = None\n",
        "    best_val_err = np.inf\n",
        "    history = {\"train_losses\": [], \"train_errs\": [], \"val_errs\": []}\n",
        "    print(\"Training the model!\")\n",
        "    print(\"Interrupt at any time to evaluate the best validation model so far.\")\n",
        "\n",
        "    wandb.watch(model, log=\"all\")\n",
        "\n",
        "    try:\n",
        "        tstart = time.time()\n",
        "        siter = iter_\n",
        "        while epoch < num_epochs:\n",
        "            model.train()\n",
        "            epoch += 1\n",
        "            if epoch > max_num_epochs:\n",
        "                break\n",
        "            #\n",
        "            # TODO: You can implement learning rate control here (it is updated\n",
        "            # once per epoch), or below in the loop over minibatches.\n",
        "            #\n",
        "\n",
        "            if epoch % 5 == 0:\n",
        "                alpha *= 0.5\n",
        "\n",
        "            for x, y in data_loaders[\"train\"]:\n",
        "                x = x.to(device)\n",
        "                y = y.to(device)\n",
        "                iter_ += 1\n",
        "                # This calls the `forward` function: https://pytorch.org/tutorials/beginner/examples_nn/two_layer_net_module.html\n",
        "                out = model(x)\n",
        "                loss = model.loss(out, y)\n",
        "                loss.backward()\n",
        "                _, predictions = out.max(dim=1)\n",
        "                batch_err_rate = (predictions != y).sum().item() / out.size(0)\n",
        "\n",
        "                history[\"train_losses\"].append(loss.item())\n",
        "                history[\"train_errs\"].append(batch_err_rate)\n",
        "\n",
        "                wandb.log({\"loss\": loss.item(), \"error_rate\": batch_err_rate})\n",
        "\n",
        "                with torch.no_grad():\n",
        "                    for (name, p), v in zip(model.named_parameters(), velocities):\n",
        "                        if \"weight\" in name:\n",
        "                            #\n",
        "                            # TODO for Problem 2.3: Implement weight decay (L2 regularization\n",
        "                            # on weights by changing the gradients\n",
        "                            # p.grad += TODO\n",
        "                            #\n",
        "                            p.grad += 2 * p * decay  # L2 regularization\n",
        "\n",
        "                        #\n",
        "                        # TODO for Problem 2.2: Implement a learning rate schedule\n",
        "                        # Hint: You can use the iteration or epoch counters\n",
        "                        # alpha = TODO => it is the loop above, depending on epoch\n",
        "                        #\n",
        "\n",
        "                        #\n",
        "                        # TODO for Problem 2.1: If needed, implement here a momentum schedule\n",
        "                        # epsilon = 0.999* epsilon\n",
        "                        #\n",
        "\n",
        "                        #\n",
        "                        # TODO for Problem 2.1: Implement velocity updates for momentum\n",
        "                        # lease make sure to modify the contents of v, not the v pointer!!!\n",
        "                        #\n",
        "                        # v[...] = TODO\n",
        "                        v_prev = v[...]\n",
        "                        v[...] = epsilon * v[...] - alpha * p.grad\n",
        "\n",
        "                        #\n",
        "                        # TODO for Problem 2: Set a more sensible learning rule here,\n",
        "                        #       using your learning rate schedule and momentum\n",
        "                        #\n",
        "                        #p -= alpha * p.grad\n",
        "                        #p += - epsilon * v_prev + (1 + epsilon) * v[...]\n",
        "                        #p = p  + (1 + epsilon) * v[...] - epsilon * v_prev\n",
        "                        p += (1 + epsilon) * v[...] - epsilon * v_prev\n",
        "\n",
        "                        # Zero gradients for the next iteration\n",
        "                        p.grad.zero_()\n",
        "\n",
        "                if iter_ % log_every == 0:\n",
        "                    num_iter = iter_ - siter + 1\n",
        "                    print(\n",
        "                        \"Minibatch {0: >6}  | loss {1: >5.2f} | err rate {2: >5.2f}%, steps/s {3: >5.2f}\".format(\n",
        "                            iter_,\n",
        "                            loss.item(),\n",
        "                            batch_err_rate * 100.0,\n",
        "                            num_iter / (time.time() - tstart),\n",
        "                        )\n",
        "                    )\n",
        "                    tstart = time.time()\n",
        "\n",
        "            val_err_rate = compute_error_rate(model, data_loaders[\"valid\"], device)\n",
        "            history[\"val_errs\"].append((iter_, val_err_rate))\n",
        "            wandb.log({\"val_error_rate\": val_err_rate})\n",
        "\n",
        "            if val_err_rate < best_val_err:\n",
        "                # Adjust num of epochs\n",
        "                num_epochs = int(np.maximum(num_epochs, epoch * patience_expansion + 1))\n",
        "                best_epoch = epoch\n",
        "                best_val_err = val_err_rate\n",
        "                best_params = [p.detach().cpu() for p in model.parameters()]\n",
        "            clear_output(True)\n",
        "            m = \"After epoch {0: >2} | valid err rate: {1: >5.2f}% | doing {2: >3} epochs\".format(\n",
        "                epoch, val_err_rate * 100.0, num_epochs\n",
        "            )\n",
        "            print(\"{0}\\n{1}\\n{0}\".format(\"-\" * len(m), m))\n",
        "\n",
        "    except KeyboardInterrupt:\n",
        "        pass\n",
        "\n",
        "    if best_params is not None:\n",
        "        print(\"\\nLoading best params on validation set (epoch %d)\\n\" % (best_epoch))\n",
        "        with torch.no_grad():\n",
        "            for param, best_param in zip(model.parameters(), best_params):\n",
        "                param[...] = best_param\n",
        "\n",
        "    test_err_rate = compute_error_rate(model, mnist_loaders[\"test\"])\n",
        "    m = (\n",
        "        f\"Test error rate: {test_err_rate * 100.0:.3f}%, \"\n",
        "        f\"training took {time.time() - t_start:.0f}s.\"\n",
        "    )\n",
        "    print(\"{0}\\n{1}\\n{0}\".format(\"-\" * len(m), m))\n",
        "    wandb.log({\n",
        "        \"test_err_rate\": test_err_rate,\n",
        "        \"training_time\": time.time() - tstart\n",
        "    })\n",
        "    plot_history(history)\n",
        "    wandb.finish()"
      ]
    },
    {
      "cell_type": "code",
      "execution_count": null,
      "metadata": {
        "colab": {
          "base_uri": "https://localhost:8080/",
          "height": 1000
        },
        "id": "2gmDmR2K6CVQ",
        "outputId": "cf38c1e0-85eb-4aea-9014-7e9850e8ed1e"
      },
      "outputs": [
        {
          "name": "stdout",
          "output_type": "stream",
          "text": [
            "----------------------------------------------------------\n",
            "After epoch 31 | valid err rate:  1.86% | doing  31 epochs\n",
            "----------------------------------------------------------\n",
            "\n",
            "Loading best params on validation set (epoch 20)\n",
            "\n",
            "-------------------------------------------\n",
            "Test error rate: 1.790%, training took 30s.\n",
            "-------------------------------------------\n"
          ]
        },
        {
          "data": {
            "text/html": [],
            "text/plain": [
              "<IPython.core.display.HTML object>"
            ]
          },
          "metadata": {},
          "output_type": "display_data"
        },
        {
          "data": {
            "text/html": [
              "<br>    <style><br>        .wandb-row {<br>            display: flex;<br>            flex-direction: row;<br>            flex-wrap: wrap;<br>            justify-content: flex-start;<br>            width: 100%;<br>        }<br>        .wandb-col {<br>            display: flex;<br>            flex-direction: column;<br>            flex-basis: 100%;<br>            flex: 1;<br>            padding: 10px;<br>        }<br>    </style><br><div class=\"wandb-row\"><div class=\"wandb-col\"><h3>Run history:</h3><br/><table class=\"wandb\"><tr><td>error_rate</td><td>█▅▇▆▃▅▂▂▃▃▁▁▁▂▁▁▁▁▁▁▁▁▁▁▁▁▁▁▁▁▁▁▁▁▁▁▁▁▁▁</td></tr><tr><td>loss</td><td>█▁▁▁▁▁▁▁▁▁▁▁▁▁▁▁▁▁▁▁▁▁▁▁▁▁▁▁▁▁▁▁▁▁▁▁▁▁▁▁</td></tr><tr><td>test_err_rate</td><td>▁</td></tr><tr><td>training_time</td><td>▁</td></tr><tr><td>val_error_rate</td><td>█▆▄▂▂▂▁▁▁▁▁▁▁▁▁▁▁▁▁▁▁▁▁▁▁▁▁▁▁▁▁</td></tr></table><br/></div><div class=\"wandb-col\"><h3>Run summary:</h3><br/><table class=\"wandb\"><tr><td>error_rate</td><td>0</td></tr><tr><td>loss</td><td>0.02439</td></tr><tr><td>test_err_rate</td><td>0.0179</td></tr><tr><td>training_time</td><td>0.30691</td></tr><tr><td>val_error_rate</td><td>0.0186</td></tr></table><br/></div></div>"
            ],
            "text/plain": [
              "<IPython.core.display.HTML object>"
            ]
          },
          "metadata": {},
          "output_type": "display_data"
        },
        {
          "data": {
            "text/html": [
              " View run <strong style=\"color:#cdcd00\">standard</strong> at: <a href='https://wandb.ai/kicza/SGD-Training/runs/0ryy44cg' target=\"_blank\">https://wandb.ai/kicza/SGD-Training/runs/0ryy44cg</a><br> View project at: <a href='https://wandb.ai/kicza/SGD-Training' target=\"_blank\">https://wandb.ai/kicza/SGD-Training</a><br>Synced 5 W&B file(s), 0 media file(s), 0 artifact file(s) and 0 other file(s)"
            ],
            "text/plain": [
              "<IPython.core.display.HTML object>"
            ]
          },
          "metadata": {},
          "output_type": "display_data"
        },
        {
          "data": {
            "text/html": [
              "Find logs at: <code>./wandb/run-20250322_111823-0ryy44cg/logs</code>"
            ],
            "text/plain": [
              "<IPython.core.display.HTML object>"
            ]
          },
          "metadata": {},
          "output_type": "display_data"
        },
        {
          "name": "stdout",
          "output_type": "stream",
          "text": [
            "-------------------------------------------\n",
            "Test error rate: 1.790%, training took 32s.\n",
            "-------------------------------------------\n"
          ]
        },
        {
          "data": {
            "image/png": "[encoded data removed]",
            "text/plain": [
              "<Figure size 1600x400 with 2 Axes>"
            ]
          },
          "metadata": {},
          "output_type": "display_data"
        }
      ],
      "source": [
        "class Model(nn.Module):\n",
        "    def __init__(self, *args, **kwargs):\n",
        "        super(Model, self).__init__()\n",
        "        self.layers = nn.Sequential(*args, **kwargs)\n",
        "\n",
        "    def forward(self, X):\n",
        "        X = X.view(X.size(0), -1)\n",
        "        return self.layers.forward(X)\n",
        "\n",
        "    def loss(self, Out, Targets):\n",
        "        return F.cross_entropy(Out, Targets)\n",
        "\n",
        "\n",
        "model = Model(\n",
        "    nn.Linear(28*28, 1000),\n",
        "    nn.ReLU(),\n",
        "    nn.Linear(1000, 10)\n",
        "    )\n",
        "\n",
        "with torch.no_grad():\n",
        "    # Initialize parameters\n",
        "    for name, p in model.named_parameters():\n",
        "        if \"weight\" in name:\n",
        "            p.normal_(0, 0.5)\n",
        "        elif \"bias\" in name:\n",
        "            p.zero_()\n",
        "        else:\n",
        "            raise ValueError('Unknown parameter name \"%s\"' % name)\n",
        "\n",
        "# On GPU enabled devices set device='cuda' else set device='cpu'\n",
        "t_start = time.time()\n",
        "SGD(model, mnist_loaders, alpha=0.01, epsilon=0.99, max_num_epochs=50,\n",
        "    device='cuda', decay=0.0005, name=\"standard\")\n",
        "\n",
        "\n",
        "test_err_rate = compute_error_rate(model, mnist_loaders[\"test\"])\n",
        "m = (\n",
        "    f\"Test error rate: {test_err_rate * 100.0:.3f}%, \"\n",
        "    f\"training took {time.time() - t_start:.0f}s.\"\n",
        ")\n",
        "print(\"{0}\\n{1}\\n{0}\".format(\"-\" * len(m), m))"
      ]
    },
    {
      "cell_type": "code",
      "execution_count": null,
      "metadata": {
        "colab": {
          "base_uri": "https://localhost:8080/",
          "height": 1000
        },
        "id": "6mOYwlycf115",
        "outputId": "2a4a0791-7191-40b3-81ec-9c1b1f99eefc"
      },
      "outputs": [
        {
          "name": "stdout",
          "output_type": "stream",
          "text": [
            "----------------------------------------------------------\n",
            "After epoch 38 | valid err rate:  1.74% | doing  38 epochs\n",
            "----------------------------------------------------------\n",
            "\n",
            "Loading best params on validation set (epoch 25)\n",
            "\n",
            "-------------------------------------------\n",
            "Test error rate: 1.790%, training took 35s.\n",
            "-------------------------------------------\n"
          ]
        },
        {
          "data": {
            "text/html": [],
            "text/plain": [
              "<IPython.core.display.HTML object>"
            ]
          },
          "metadata": {},
          "output_type": "display_data"
        },
        {
          "data": {
            "text/html": [
              "<br>    <style><br>        .wandb-row {<br>            display: flex;<br>            flex-direction: row;<br>            flex-wrap: wrap;<br>            justify-content: flex-start;<br>            width: 100%;<br>        }<br>        .wandb-col {<br>            display: flex;<br>            flex-direction: column;<br>            flex-basis: 100%;<br>            flex: 1;<br>            padding: 10px;<br>        }<br>    </style><br><div class=\"wandb-row\"><div class=\"wandb-col\"><h3>Run history:</h3><br/><table class=\"wandb\"><tr><td>error_rate</td><td>█▆▆▃▃▃▂▂▁▁▁▂▂▃▃▁▁▁▂▁▁▁▁▁▁▂▁▁▂▁▁▁▁▁▁▁▁▁▁▁</td></tr><tr><td>loss</td><td>█▂▁▁▁▁▁▁▁▁▁▁▁▁▁▁▁▁▁▁▁▁▁▁▁▁▁▁▁▁▁▁▁▁▁▁▁▁▁▁</td></tr><tr><td>test_err_rate</td><td>▁</td></tr><tr><td>training_time</td><td>▁</td></tr><tr><td>val_error_rate</td><td>█▆▄▃▂▂▂▂▁▁▁▁▁▁▁▁▁▁▁▁▁▁▁▁▁▁▁▁▁▁▁▁▁▁▁▁▁▁</td></tr></table><br/></div><div class=\"wandb-col\"><h3>Run summary:</h3><br/><table class=\"wandb\"><tr><td>error_rate</td><td>0</td></tr><tr><td>loss</td><td>0.03013</td></tr><tr><td>test_err_rate</td><td>0.0179</td></tr><tr><td>training_time</td><td>0.40998</td></tr><tr><td>val_error_rate</td><td>0.0174</td></tr></table><br/></div></div>"
            ],
            "text/plain": [
              "<IPython.core.display.HTML object>"
            ]
          },
          "metadata": {},
          "output_type": "display_data"
        },
        {
          "data": {
            "text/html": [
              " View run <strong style=\"color:#cdcd00\">standard_v2</strong> at: <a href='https://wandb.ai/kicza/SGD-Training/runs/hyjalv94' target=\"_blank\">https://wandb.ai/kicza/SGD-Training/runs/hyjalv94</a><br> View project at: <a href='https://wandb.ai/kicza/SGD-Training' target=\"_blank\">https://wandb.ai/kicza/SGD-Training</a><br>Synced 5 W&B file(s), 0 media file(s), 0 artifact file(s) and 0 other file(s)"
            ],
            "text/plain": [
              "<IPython.core.display.HTML object>"
            ]
          },
          "metadata": {},
          "output_type": "display_data"
        },
        {
          "data": {
            "text/html": [
              "Find logs at: <code>./wandb/run-20250322_111856-hyjalv94/logs</code>"
            ],
            "text/plain": [
              "<IPython.core.display.HTML object>"
            ]
          },
          "metadata": {},
          "output_type": "display_data"
        },
        {
          "name": "stdout",
          "output_type": "stream",
          "text": [
            "-------------------------------------------\n",
            "Test error rate: 1.790%, training took 37s.\n",
            "-------------------------------------------\n"
          ]
        },
        {
          "data": {
            "image/png": "[encoded data removed]",
            "text/plain": [
              "<Figure size 1600x400 with 2 Axes>"
            ]
          },
          "metadata": {},
          "output_type": "display_data"
        }
      ],
      "source": [
        "import wandb\n",
        "import torch\n",
        "import time\n",
        "import numpy as np\n",
        "from IPython.display import clear_output\n",
        "import torch.nn as nn\n",
        "import torch.nn.functional as F\n",
        "\n",
        "# Initialize Weights & Biases\n",
        "\n",
        "def SGD(\n",
        "    model,\n",
        "    data_loaders,\n",
        "    alpha=1e-4,\n",
        "    epsilon=0.0,\n",
        "    decay=0.0,\n",
        "    num_epochs=1,\n",
        "    max_num_epochs=np.nan,\n",
        "    patience_expansion=1.5,\n",
        "    log_every=100,\n",
        "    device=\"cpu\",\n",
        "    name=\"\"\n",
        "):\n",
        "\n",
        "    model.train()\n",
        "    model.to(device)\n",
        "    for data_loader in data_loaders.values():\n",
        "        if isinstance(data_loader, InMemDataLoader):\n",
        "            data_loader.to(device)\n",
        "\n",
        "    wandb.init(project=\"SGD-Training\", name=name, config={\"alpha\": alpha, \"epsilon\": epsilon, \"decay\": decay})\n",
        "\n",
        "    velocities = [torch.zeros(p.shape, device=device) for p in model.parameters()]\n",
        "    iter_ = 0\n",
        "    epoch = 0\n",
        "    best_params = None\n",
        "    best_val_err = np.inf\n",
        "    history = {\"train_losses\": [], \"train_errs\": [], \"val_errs\": []}\n",
        "\n",
        "    wandb.watch(model, log=\"all\")\n",
        "    print(\"Training the model!\")\n",
        "    print(\"Interrupt at any time to evaluate the best validation model so far.\")\n",
        "\n",
        "    try:\n",
        "        tstart = time.time()\n",
        "        siter = iter_\n",
        "        while epoch < num_epochs:\n",
        "            model.train()\n",
        "            epoch += 1\n",
        "            if epoch > max_num_epochs:\n",
        "                break\n",
        "\n",
        "            if epoch % 3 == 0:\n",
        "                alpha *= 0.7\n",
        "\n",
        "            for x, y in data_loaders[\"train\"]:\n",
        "                x = x.to(device)\n",
        "                y = y.to(device)\n",
        "                iter_ += 1\n",
        "                out = model(x)\n",
        "                loss = model.loss(out, y)\n",
        "                loss.backward()\n",
        "                _, predictions = out.max(dim=1)\n",
        "                batch_err_rate = (predictions != y).sum().item() / out.size(0)\n",
        "\n",
        "                history[\"train_losses\"].append(loss.item())\n",
        "                history[\"train_errs\"].append(batch_err_rate)\n",
        "\n",
        "                wandb.log({\"loss\": loss.item(), \"error_rate\": batch_err_rate})\n",
        "\n",
        "                with torch.no_grad():\n",
        "                    for (name, p), v in zip(model.named_parameters(), velocities):\n",
        "                        if \"weight\" in name:\n",
        "                            # TODO for Problem 2.3: Implement weight decay (L2 regularization\n",
        "                            # on weights by changing the gradients\n",
        "                            # p.grad += TODO\n",
        "                            p.grad += 2 * p * decay  # L2 regularization\n",
        "\n",
        "                        # TODO for Problem 2.2: Implement a learning rate schedule\n",
        "                        # Hint: You can use the iteration or epoch counters\n",
        "                        # alpha = TODO => it is the loop above, depending on epoch\n",
        "\n",
        "                        # TODO for Problem 2.1: If needed, implement here a momentum schedule\n",
        "                        # epsilon = 0.999* epsilon\n",
        "\n",
        "                        # TODO for Problem 2.1: Implement velocity updates for momentum\n",
        "                        # lease make sure to modify the contents of v, not the v pointer!!!\n",
        "                        v_prev = v[...]\n",
        "                        v[...] = epsilon * v[...] - alpha * p.grad\n",
        "                        p += (1 + epsilon) * v[...] - epsilon * v_prev\n",
        "\n",
        "                        p.grad.zero_()\n",
        "\n",
        "                if iter_ % log_every == 0:\n",
        "                    num_iter = iter_ - siter + 1\n",
        "                    print(\n",
        "                        \"Minibatch {0: >6}  | loss {1: >5.2f} | err rate {2: >5.2f}%, steps/s {3: >5.2f}\".format(\n",
        "                            iter_,\n",
        "                            loss.item(),\n",
        "                            batch_err_rate * 100.0,\n",
        "                            num_iter / (time.time() - tstart),\n",
        "                        )\n",
        "                    )\n",
        "                    tstart = time.time()\n",
        "\n",
        "            val_err_rate = compute_error_rate(model, data_loaders[\"valid\"], device)\n",
        "            history[\"val_errs\"].append((iter_, val_err_rate))\n",
        "            wandb.log({\"val_error_rate\": val_err_rate})\n",
        "\n",
        "            if val_err_rate < best_val_err:\n",
        "                num_epochs = int(np.maximum(num_epochs, epoch * patience_expansion + 1))\n",
        "                best_epoch = epoch\n",
        "                best_val_err = val_err_rate\n",
        "                best_params = [p.detach().cpu() for p in model.parameters()]\n",
        "\n",
        "            clear_output(True)\n",
        "            m = \"After epoch {0: >2} | valid err rate: {1: >5.2f}% | doing {2: >3} epochs\".format(\n",
        "                epoch, val_err_rate * 100.0, num_epochs\n",
        "            )\n",
        "            print(\"{0}\\n{1}\\n{0}\".format(\"-\" * len(m), m))\n",
        "\n",
        "    except KeyboardInterrupt:\n",
        "        pass\n",
        "\n",
        "    if best_params is not None:\n",
        "        print(\"\\nLoading best params on validation set (epoch %d)\\n\" % (best_epoch))\n",
        "        with torch.no_grad():\n",
        "            for param, best_param in zip(model.parameters(), best_params):\n",
        "                param[...] = best_param\n",
        "    plot_history(history)\n",
        "    test_err_rate = compute_error_rate(model, mnist_loaders[\"test\"])\n",
        "    m = (\n",
        "        f\"Test error rate: {test_err_rate * 100.0:.3f}%, \"\n",
        "        f\"training took {time.time() - t_start:.0f}s.\"\n",
        "    )\n",
        "    print(\"{0}\\n{1}\\n{0}\".format(\"-\" * len(m), m))\n",
        "    wandb.log({\n",
        "        \"test_err_rate\": test_err_rate,\n",
        "        \"training_time\": time.time() - tstart\n",
        "    })\n",
        "    wandb.finish()\n",
        "\n",
        "\n",
        "class Model(nn.Module):\n",
        "    def __init__(self, *args, **kwargs):\n",
        "        super(Model, self).__init__()\n",
        "        self.layers = nn.Sequential(*args, **kwargs)\n",
        "\n",
        "    def forward(self, X):\n",
        "        X = X.view(X.size(0), -1)\n",
        "        return self.layers.forward(X)\n",
        "\n",
        "    def loss(self, Out, Targets):\n",
        "        return F.cross_entropy(Out, Targets)\n",
        "\n",
        "\n",
        "model = Model(\n",
        "    nn.Linear(28*28, 1000),\n",
        "    nn.ReLU(),\n",
        "    nn.Linear(1000, 10)\n",
        ")\n",
        "\n",
        "with torch.no_grad():\n",
        "    for name, p in model.named_parameters():\n",
        "        if \"weight\" in name:\n",
        "            p.normal_(0, 0.5)\n",
        "        elif \"bias\" in name:\n",
        "            p.zero_()\n",
        "        else:\n",
        "            raise ValueError('Unknown parameter name \"%s\"' % name)\n",
        "\n",
        "t_start = time.time()\n",
        "SGD(model, mnist_loaders, alpha=0.01, epsilon=0.99, max_num_epochs=50,\n",
        "    device='cuda', decay=0.0005, name=\"standard_v2\")\n",
        "\n",
        "test_err_rate = compute_error_rate(model, mnist_loaders[\"test\"])\n",
        "m = (\n",
        "    f\"Test error rate: {test_err_rate * 100.0:.3f}%, \"\n",
        "    f\"training took {time.time() - t_start:.0f}s.\"\n",
        ")\n",
        "print(\"{0}\\n{1}\\n{0}\".format(\"-\" * len(m), m))\n"
      ]
    },
    {
      "cell_type": "markdown",
      "metadata": {
        "id": "F02ojk4UuVWu"
      },
      "source": [
        "#CNNs & MaxPool - zad. 4"
      ]
    },
    {
      "cell_type": "code",
      "execution_count": null,
      "metadata": {
        "colab": {
          "base_uri": "https://localhost:8080/",
          "height": 1000
        },
        "id": "g7K29S9oyf7Y",
        "outputId": "5865238c-c0f3-4a1e-d4d9-5712d34cde6b"
      },
      "outputs": [
        {
          "output_type": "stream",
          "name": "stdout",
          "text": [
            "----------------------------------------------------------\n",
            "After epoch 25 | valid err rate:  1.18% | doing  25 epochs\n",
            "----------------------------------------------------------\n",
            "\n",
            "Loading best params on validation set (epoch 16)\n",
            "\n",
            "-------------------------------------------\n",
            "Test error rate: 1.040%, training took 90s.\n",
            "-------------------------------------------\n"
          ]
        },
        {
          "output_type": "display_data",
          "data": {
            "text/plain": [
              "<IPython.core.display.HTML object>"
            ],
            "text/html": []
          },
          "metadata": {}
        },
        {
          "output_type": "display_data",
          "data": {
            "text/plain": [
              "<IPython.core.display.HTML object>"
            ],
            "text/html": [
              "<br>    <style><br>        .wandb-row {<br>            display: flex;<br>            flex-direction: row;<br>            flex-wrap: wrap;<br>            justify-content: flex-start;<br>            width: 100%;<br>        }<br>        .wandb-col {<br>            display: flex;<br>            flex-direction: column;<br>            flex-basis: 100%;<br>            flex: 1;<br>            padding: 10px;<br>        }<br>    </style><br><div class=\"wandb-row\"><div class=\"wandb-col\"><h3>Run history:</h3><br/><table class=\"wandb\"><tr><td>error_rate</td><td>█▂▂▁▂▁▁▁▁▁▁▁▁▁▁▁▁▁▁▁▁▁▁▁▁▁▁▁▁▁▁▁▁▁▁▁▁▁▁▁</td></tr><tr><td>loss</td><td>█▄▃▄▂▃▁▁▁▁▂▁▁▁▂▂▁▁▂▁▁▁▁▁▁▁▁▁▁▁▁▂▁▁▁▁▁▁▁▁</td></tr><tr><td>test_err_rate</td><td>▁</td></tr><tr><td>training_time</td><td>▁</td></tr><tr><td>val_error_rate</td><td>█▅▂▃▂▂▂▁▁▁▁▁▁▁▁▁▁▁▁▁▁▁▁▁▁</td></tr></table><br/></div><div class=\"wandb-col\"><h3>Run summary:</h3><br/><table class=\"wandb\"><tr><td>error_rate</td><td>0</td></tr><tr><td>loss</td><td>0.01983</td></tr><tr><td>test_err_rate</td><td>0.0104</td></tr><tr><td>training_time</td><td>3.68174</td></tr><tr><td>val_error_rate</td><td>0.0118</td></tr></table><br/></div></div>"
            ]
          },
          "metadata": {}
        },
        {
          "output_type": "display_data",
          "data": {
            "text/plain": [
              "<IPython.core.display.HTML object>"
            ],
            "text/html": [
              " View run <strong style=\"color:#cdcd00\">CNN</strong> at: <a href='https://wandb.ai/kicza/SGD-Training/runs/khqao547' target=\"_blank\">https://wandb.ai/kicza/SGD-Training/runs/khqao547</a><br> View project at: <a href='https://wandb.ai/kicza/SGD-Training' target=\"_blank\">https://wandb.ai/kicza/SGD-Training</a><br>Synced 5 W&B file(s), 0 media file(s), 0 artifact file(s) and 0 other file(s)"
            ]
          },
          "metadata": {}
        },
        {
          "output_type": "display_data",
          "data": {
            "text/plain": [
              "<IPython.core.display.HTML object>"
            ],
            "text/html": [
              "Find logs at: <code>./wandb/run-20250325_203515-khqao547/logs</code>"
            ]
          },
          "metadata": {}
        },
        {
          "output_type": "stream",
          "name": "stdout",
          "text": [
            "-------------------------------------------\n",
            "Test error rate: 1.040%, training took 93s.\n",
            "-------------------------------------------\n"
          ]
        },
        {
          "output_type": "display_data",
          "data": {
            "text/plain": [
              "<Figure size 1600x400 with 2 Axes>"
            ],
            "image/png": "[encoded data removed]"
          },
          "metadata": {}
        }
      ],
      "source": [
        "import torch.nn.init as init\n",
        "\n",
        "class CNN(nn.Module):\n",
        "    def __init__(self):\n",
        "        super(CNN, self).__init__()\n",
        "        self.conv1 = nn.Sequential(\n",
        "            nn.Conv2d(1, 20, 5, 1, 2),\n",
        "            nn.ReLU(),\n",
        "        )\n",
        "        self.maxpool1 = nn.MaxPool2d(2)\n",
        "\n",
        "        self.conv2 = nn.Sequential(\n",
        "            nn.Conv2d(20, 40, 5, 1, 2),\n",
        "            nn.ReLU(),\n",
        "        )\n",
        "        self.maxpool2 = nn.MaxPool2d(2)\n",
        "\n",
        "        self.out = nn.Linear(40 * 7 * 7, 10)\n",
        "\n",
        "    def forward(self, X):\n",
        "        X = self.conv1(X)\n",
        "        X = self.maxpool1(X)\n",
        "        X = self.conv2(X)\n",
        "        X = self.maxpool2(X)\n",
        "        X = X.view(X.size(0), -1)\n",
        "        return self.out(X)\n",
        "\n",
        "    def loss(self, Out, Targets):\n",
        "        return F.cross_entropy(Out, Targets)\n",
        "\n",
        "model = CNN()\n",
        "\n",
        "\n",
        "def initialize_weights(model):\n",
        "    for layer in model.modules():\n",
        "        if isinstance(layer, nn.Conv2d) or isinstance(layer, nn.Linear):\n",
        "            nn.init.kaiming_normal_(layer.weight, nonlinearity='relu')\n",
        "            if layer.bias is not None:\n",
        "                nn.init.zeros_(layer.bias)\n",
        "\n",
        "with torch.no_grad():\n",
        "    initialize_weights(model)\n",
        "\n",
        "\n",
        "t_start = time.time()\n",
        "SGD(model, mnist_loaders, alpha=1e-1, num_epochs=15, max_num_epochs=30, device=\"cuda\", name=\"CNN\")\n",
        "\n",
        "\n",
        "test_err_rate = compute_error_rate(model, mnist_loaders[\"test\"])\n",
        "m = (\n",
        "    f\"Test error rate: {test_err_rate * 100.0:.3f}%, \"\n",
        "    f\"training took {time.time() - t_start:.0f}s.\"\n",
        ")\n",
        "print(\"{0}\\n{1}\\n{0}\".format(\"-\" * len(m), m))"
      ]
    },
    {
      "cell_type": "markdown",
      "metadata": {
        "id": "dwIcQUQA48N7"
      },
      "source": [
        "# ZAD. 5 - DATA AUGMENTATION\n"
      ]
    },
    {
      "cell_type": "code",
      "execution_count": null,
      "metadata": {
        "id": "VyF108K25ByJ"
      },
      "outputs": [],
      "source": [
        "import torch\n",
        "import torchvision.transforms as transforms\n",
        "from tqdm import tqdm\n",
        "\n",
        "class InMemDataLoader(object):\n",
        "    \"\"\"\n",
        "    A data loader that keeps all data in CPU or GPU memory.\n",
        "    \"\"\"\n",
        "\n",
        "    __initialized = False\n",
        "\n",
        "    def __init__(\n",
        "        self,\n",
        "        dataset,\n",
        "        batch_size=1,\n",
        "        shuffle=False,\n",
        "        sampler=None,\n",
        "        batch_sampler=None,\n",
        "        drop_last=False,\n",
        "        augment=False,\n",
        "    ):\n",
        "        \"\"\"A torch dataloader that fetches data from memory.\"\"\"\n",
        "        self.augment = augment\n",
        "\n",
        "        batches = []\n",
        "        for i in tqdm(range(len(dataset))):\n",
        "            batch = [torch.tensor(t) for t in dataset[i]]\n",
        "            batches.append(batch)\n",
        "        tensors = [torch.stack(ts) for ts in zip(*batches)]\n",
        "        dataset = torch.utils.data.TensorDataset(*tensors)\n",
        "        self.dataset = dataset\n",
        "        self.batch_size = batch_size\n",
        "        self.drop_last = drop_last\n",
        "\n",
        "        if batch_sampler is not None:\n",
        "            if batch_size > 1 or shuffle or sampler is not None or drop_last:\n",
        "                raise ValueError(\n",
        "                    \"batch_sampler option is mutually exclusive \"\n",
        "                    \"with batch_size, shuffle, sampler, and \"\n",
        "                    \"drop_last\"\n",
        "                )\n",
        "            self.batch_size = None\n",
        "            self.drop_last = None\n",
        "\n",
        "        if sampler is not None and shuffle:\n",
        "            raise ValueError(\"sampler option is mutually exclusive with shuffle\")\n",
        "\n",
        "        if batch_sampler is None:\n",
        "            if sampler is None:\n",
        "                if shuffle:\n",
        "                    sampler = torch.utils.data.RandomSampler(dataset)\n",
        "                else:\n",
        "                    sampler = torch.utils.data.SequentialSampler(dataset)\n",
        "            batch_sampler = torch.utils.data.BatchSampler(\n",
        "                sampler, batch_size, drop_last\n",
        "            )\n",
        "\n",
        "        self.sampler = sampler\n",
        "        self.batch_sampler = batch_sampler\n",
        "        self.__initialized = True\n",
        "\n",
        "        # Define augmentation transforms\n",
        "        self.transform = transforms.Compose([\n",
        "            transforms.RandomRotation(15),       # Random rotation (-15° to +15°)\n",
        "            transforms.RandomAffine(0, translate=(0.1, 0.1)),  # Random translation\n",
        "            transforms.RandomHorizontalFlip(),   # Horizontal flip (does nothing for MNIST)\n",
        "            transforms.RandomResizedCrop(28, scale=(0.9, 1.1)),  # Slight random resizing\n",
        "            transforms.ToTensor()\n",
        "        ])\n",
        "\n",
        "    def __setattr__(self, attr, val):\n",
        "        if self.__initialized and attr in (\"batch_size\", \"sampler\", \"drop_last\"):\n",
        "            raise ValueError(\n",
        "                \"{} attribute should not be set after {} is \"\n",
        "                \"initialized\".format(attr, self.__class__.__name__)\n",
        "            )\n",
        "\n",
        "        super(InMemDataLoader, self).__setattr__(attr, val)\n",
        "\n",
        "    def __iter__(self):\n",
        "        for batch_indices in self.batch_sampler:\n",
        "            batch = self.dataset[batch_indices]\n",
        "            X, y = batch[0], batch[1]\n",
        "\n",
        "            if self.augment:\n",
        "                X_aug = torch.stack([self.transform(x.cpu()) for x in X])\n",
        "                X = X_aug.to(X.device)\n",
        "\n",
        "            yield X, y\n",
        "\n",
        "    def __len__(self):\n",
        "        return len(self.batch_sampler)\n",
        "\n",
        "    def to(self, device):\n",
        "        self.dataset.tensors = tuple(t.to(device) for t in self.dataset.tensors)\n",
        "        return self\n"
      ]
    },
    {
      "cell_type": "code",
      "execution_count": null,
      "metadata": {
        "colab": {
          "base_uri": "https://localhost:8080/"
        },
        "id": "zQnyEpXp5Iom",
        "outputId": "01664feb-e4d3-4e31-f77d-54864cfd583e"
      },
      "outputs": [
        {
          "name": "stderr",
          "output_type": "stream",
          "text": [
            "  0%|          | 0/50000 [00:00<?, ?it/s]<ipython-input-98-e8cb39f43c71>:27: UserWarning: To copy construct from a tensor, it is recommended to use sourceTensor.clone().detach() or sourceTensor.clone().detach().requires_grad_(True), rather than torch.tensor(sourceTensor).\n",
            "  batch = [torch.tensor(t) for t in dataset[i]]\n",
            "100%|██████████| 50000/50000 [00:11<00:00, 4204.24it/s]\n",
            "100%|██████████| 10000/10000 [00:02<00:00, 4330.52it/s]\n",
            "100%|██████████| 10000/10000 [00:02<00:00, 4709.26it/s]\n"
          ]
        }
      ],
      "source": [
        "# Load the data\n",
        "\n",
        "batch_size = 128\n",
        "data_path = \"./data\"\n",
        "\n",
        "transform = torchvision.transforms.Compose(\n",
        "    [\n",
        "        torchvision.transforms.ToTensor(),\n",
        "        torchvision.transforms.Normalize((0.1307,), (0.3081,)),\n",
        "    ]\n",
        ")\n",
        "\n",
        "_test = torchvision.datasets.MNIST(\n",
        "    data_path, train=False, download=True, transform=transform\n",
        ")\n",
        "\n",
        "# Load training data, split into train and valid sets\n",
        "_train = torchvision.datasets.MNIST(\n",
        "    data_path, train=True, download=True, transform=transform\n",
        ")\n",
        "_train.data = _train.data[:50000]\n",
        "_train.targets = _train.targets[:50000]\n",
        "\n",
        "_valid = torchvision.datasets.MNIST(\n",
        "    data_path, train=True, download=True, transform=transform\n",
        ")\n",
        "_valid.data = _valid.data[50000:]\n",
        "_valid.targets = _valid.targets[50000:]\n",
        "\n",
        "mnist_loaders = {\n",
        "    \"train\": InMemDataLoader(_train, batch_size=batch_size, shuffle=True),\n",
        "    \"valid\": InMemDataLoader(_valid, batch_size=batch_size, shuffle=False),\n",
        "    \"test\": InMemDataLoader(_test, batch_size=batch_size, shuffle=False),\n",
        "}"
      ]
    },
    {
      "cell_type": "code",
      "execution_count": null,
      "metadata": {
        "colab": {
          "base_uri": "https://localhost:8080/",
          "height": 1000
        },
        "id": "T-jWAfqM5MUp",
        "outputId": "8b6ef261-d31a-43ac-8034-b8764a2226fa"
      },
      "outputs": [
        {
          "name": "stdout",
          "output_type": "stream",
          "text": [
            "----------------------------------------------------------\n",
            "After epoch 26 | valid err rate:  1.67% | doing  26 epochs\n",
            "----------------------------------------------------------\n",
            "\n",
            "Loading best params on validation set (epoch 17)\n",
            "\n",
            "-------------------------------------------\n",
            "Test error rate: 1.560%, training took 25s.\n",
            "-------------------------------------------\n"
          ]
        },
        {
          "data": {
            "text/html": [],
            "text/plain": [
              "<IPython.core.display.HTML object>"
            ]
          },
          "metadata": {},
          "output_type": "display_data"
        },
        {
          "data": {
            "text/html": [
              "<br>    <style><br>        .wandb-row {<br>            display: flex;<br>            flex-direction: row;<br>            flex-wrap: wrap;<br>            justify-content: flex-start;<br>            width: 100%;<br>        }<br>        .wandb-col {<br>            display: flex;<br>            flex-direction: column;<br>            flex-basis: 100%;<br>            flex: 1;<br>            padding: 10px;<br>        }<br>    </style><br><div class=\"wandb-row\"><div class=\"wandb-col\"><h3>Run history:</h3><br/><table class=\"wandb\"><tr><td>error_rate</td><td>▆▃█▅▂▇▅▃█▁▃▂▃▁▁▂▃▁▁▂▂▁▁▁▂▁▁▁▁▁▁▁▁▁▁▁▁▁▁▁</td></tr><tr><td>loss</td><td>█▇▂▅▃▃▃▃▂▁▁▂▂▂▁▁▂▂▂▁▂▂▁▂▂▁▂▁▁▁▂▂▁▁▁▂▁▁▁▂</td></tr><tr><td>test_err_rate</td><td>▁</td></tr><tr><td>training_time</td><td>▁</td></tr><tr><td>val_error_rate</td><td>█▆▄▃▄▂▂▂▂▂▂▂▂▁▁▂▁▁▁▁▁▁▁▁▁▁</td></tr></table><br/></div><div class=\"wandb-col\"><h3>Run summary:</h3><br/><table class=\"wandb\"><tr><td>error_rate</td><td>0</td></tr><tr><td>loss</td><td>0.01444</td></tr><tr><td>test_err_rate</td><td>0.0156</td></tr><tr><td>training_time</td><td>0.5424</td></tr><tr><td>val_error_rate</td><td>0.0167</td></tr></table><br/></div></div>"
            ],
            "text/plain": [
              "<IPython.core.display.HTML object>"
            ]
          },
          "metadata": {},
          "output_type": "display_data"
        },
        {
          "data": {
            "text/html": [
              " View run <strong style=\"color:#cdcd00\">data_augmentation</strong> at: <a href='https://wandb.ai/kicza/SGD-Training/runs/gqbpw76r' target=\"_blank\">https://wandb.ai/kicza/SGD-Training/runs/gqbpw76r</a><br> View project at: <a href='https://wandb.ai/kicza/SGD-Training' target=\"_blank\">https://wandb.ai/kicza/SGD-Training</a><br>Synced 5 W&B file(s), 0 media file(s), 0 artifact file(s) and 0 other file(s)"
            ],
            "text/plain": [
              "<IPython.core.display.HTML object>"
            ]
          },
          "metadata": {},
          "output_type": "display_data"
        },
        {
          "data": {
            "text/html": [
              "Find logs at: <code>./wandb/run-20250322_112339-gqbpw76r/logs</code>"
            ],
            "text/plain": [
              "<IPython.core.display.HTML object>"
            ]
          },
          "metadata": {},
          "output_type": "display_data"
        },
        {
          "name": "stdout",
          "output_type": "stream",
          "text": [
            "-------------------------------------------\n",
            "Test error rate: 1.560%, training took 27s.\n",
            "-------------------------------------------\n"
          ]
        },
        {
          "data": {
            "image/png": "[encoded data removed]",
            "text/plain": [
              "<Figure size 1600x400 with 2 Axes>"
            ]
          },
          "metadata": {},
          "output_type": "display_data"
        }
      ],
      "source": [
        "class Model(nn.Module):\n",
        "    def __init__(self, *args, **kwargs):\n",
        "        super(Model, self).__init__()\n",
        "        self.layers = nn.Sequential(*args, **kwargs)\n",
        "\n",
        "    def forward(self, X):\n",
        "        X = X.view(X.size(0), -1)\n",
        "        return self.layers.forward(X)\n",
        "\n",
        "    def loss(self, Out, Targets):\n",
        "        return F.cross_entropy(Out, Targets)\n",
        "\n",
        "\n",
        "model = Model(\n",
        "    nn.Linear(28*28, 1000),\n",
        "    nn.ReLU(),\n",
        "    nn.Linear(1000, 10)\n",
        "    )\n",
        "\n",
        "with torch.no_grad():\n",
        "    # Initialize parameters\n",
        "    for name, p in model.named_parameters():\n",
        "        if \"weight\" in name:\n",
        "            p.normal_(0, 0.05)\n",
        "        elif \"bias\" in name:\n",
        "            p.zero_()\n",
        "        else:\n",
        "            raise ValueError('Unknown parameter name \"%s\"' % name)\n",
        "\n",
        "# On GPU enabled devices set device='cuda' else set device='cpu'\n",
        "t_start = time.time()\n",
        "SGD(model, mnist_loaders, alpha=0.01, epsilon=0.99, max_num_epochs=50,\n",
        "    device='cuda', decay=0.0005, name=\"data_augmentation\")\n",
        "\n",
        "test_err_rate = compute_error_rate(model, mnist_loaders[\"test\"])\n",
        "m = (\n",
        "    f\"Test error rate: {test_err_rate * 100.0:.3f}%, \"\n",
        "    f\"training took {time.time() - t_start:.0f}s.\"\n",
        ")\n",
        "print(\"{0}\\n{1}\\n{0}\".format(\"-\" * len(m), m))"
      ]
    },
    {
      "cell_type": "markdown",
      "metadata": {
        "id": "L3qAOwCm54aa"
      },
      "source": [
        "#ZAD. 6 - dropout"
      ]
    },
    {
      "cell_type": "code",
      "execution_count": null,
      "metadata": {
        "id": "GmyFFJ_miORE"
      },
      "outputs": [],
      "source": [
        "import wandb\n",
        "import torch\n",
        "import time\n",
        "import numpy as np\n",
        "from IPython.display import clear_output\n",
        "import torch.nn as nn\n",
        "import torch.nn.functional as F\n",
        "\n",
        "\n",
        "def SGD(\n",
        "    model,\n",
        "    data_loaders,\n",
        "    alpha=1e-4,\n",
        "    epsilon=0.0,\n",
        "    decay=0.0,\n",
        "    num_epochs=1,\n",
        "    max_num_epochs=np.nan,\n",
        "    patience_expansion=1.5,\n",
        "    log_every=100,\n",
        "    device=\"cpu\",\n",
        "    run_name=\"\"\n",
        "):\n",
        "\n",
        "    model.train()\n",
        "    model.to(device)\n",
        "    for data_loader in data_loaders.values():\n",
        "        if isinstance(data_loader, InMemDataLoader):\n",
        "            data_loader.to(device)\n",
        "\n",
        "    wandb.init(project=\"SGD-Training\", name=run_name, config={\"alpha\": alpha, \"epsilon\": epsilon, \"decay\": decay})\n",
        "\n",
        "    velocities = [torch.zeros(p.shape, device=device) for p in model.parameters()]\n",
        "    iter_ = 0\n",
        "    epoch = 0\n",
        "    best_params = None\n",
        "    best_val_err = np.inf\n",
        "    history = {\"train_losses\": [], \"train_errs\": [], \"val_errs\": []}\n",
        "\n",
        "    wandb.watch(model, log=\"all\")\n",
        "    print(\"Training the model!\")\n",
        "    print(\"Interrupt at any time to evaluate the best validation model so far.\")\n",
        "\n",
        "    try:\n",
        "        tstart = time.time()\n",
        "        siter = iter_\n",
        "        dropout = False\n",
        "        try:\n",
        "            if model.dropout_ppb: dropout = True\n",
        "        except:\n",
        "            pass\n",
        "\n",
        "        while epoch < num_epochs:\n",
        "            model.train()\n",
        "            epoch += 1\n",
        "            if epoch > max_num_epochs:\n",
        "                break\n",
        "\n",
        "            if epoch % 3 == 0:\n",
        "                alpha *= 0.7\n",
        "\n",
        "            # Dropout handling\n",
        "            if dropout and model.dropout_ppb != 0:\n",
        "                model.dropout_init(device)\n",
        "                wandb.log({\"dropout_applied\": True, \"dropout_probability\": model.dropout_ppb})\n",
        "            else:\n",
        "                wandb.log({\"dropout_applied\": False})\n",
        "\n",
        "            for x, y in data_loaders[\"train\"]:\n",
        "                x = x.to(device)\n",
        "                y = y.to(device)\n",
        "                iter_ += 1\n",
        "                out = model(x)\n",
        "                loss = model.loss(out, y)\n",
        "                loss.backward()\n",
        "                _, predictions = out.max(dim=1)\n",
        "                batch_err_rate = (predictions != y).sum().item() / out.size(0)\n",
        "\n",
        "                history[\"train_losses\"].append(loss.item())\n",
        "                history[\"train_errs\"].append(batch_err_rate)\n",
        "\n",
        "                wandb.log({\"loss\": loss.item(), \"error_rate\": batch_err_rate})\n",
        "\n",
        "                with torch.no_grad():\n",
        "                    for (name, p), v in zip(model.named_parameters(), velocities):\n",
        "                        if \"weight\" in name:\n",
        "                            p.grad += 2 * p * decay\n",
        "\n",
        "                            v_prev = v[...]\n",
        "\n",
        "                            v[...] = epsilon * v[...] - alpha * p.grad * model.dropout_masks[name]\n",
        "                            p += (-epsilon * v_prev + (1+epsilon) * v[...]) * model.dropout_masks[name]\n",
        "                        else:\n",
        "                            v_prev = v[...]\n",
        "                            v[...] = epsilon * v[...] - alpha * p.grad\n",
        "                            p += (-epsilon * v_prev + (1+epsilon) * v[...])\n",
        "\n",
        "                        p.grad.zero_()\n",
        "\n",
        "                if iter_ % log_every == 0:\n",
        "                    num_iter = iter_ - siter + 1\n",
        "                    print(\n",
        "                        \"Minibatch {0: >6}  | loss {1: >5.2f} | err rate {2: >5.2f}%, steps/s {3: >5.2f}\".format(\n",
        "                            iter_,\n",
        "                            loss.item(),\n",
        "                            batch_err_rate * 100.0,\n",
        "                            num_iter / (time.time() - tstart),\n",
        "                        )\n",
        "                    )\n",
        "                    tstart = time.time()\n",
        "\n",
        "            val_err_rate = compute_error_rate(model, data_loaders[\"valid\"], device)\n",
        "            history[\"val_errs\"].append((iter_, val_err_rate))\n",
        "            wandb.log({\"val_error_rate\": val_err_rate})\n",
        "\n",
        "            if val_err_rate < best_val_err:\n",
        "                num_epochs = int(np.maximum(num_epochs, epoch * patience_expansion + 1))\n",
        "                best_epoch = epoch\n",
        "                best_val_err = val_err_rate\n",
        "                best_params = [p.detach().cpu() for p in model.parameters()]\n",
        "\n",
        "            clear_output(True)\n",
        "            m = \"After epoch {0: >2} | valid err rate: {1: >5.2f}% | doing {2: >3} epochs\".format(\n",
        "                epoch, val_err_rate * 100.0, num_epochs\n",
        "            )\n",
        "            print(\"{0}\\n{1}\\n{0}\".format(\"-\" * len(m), m))\n",
        "\n",
        "    except KeyboardInterrupt:\n",
        "        pass\n",
        "\n",
        "    if best_params is not None:\n",
        "        print(\"\\nLoading best params on validation set (epoch %d)\\n\" % (best_epoch))\n",
        "        with torch.no_grad():\n",
        "            for param, best_param in zip(model.parameters(), best_params):\n",
        "                param[...] = best_param\n",
        "\n",
        "    plot_history(history)\n",
        "\n",
        "    test_err_rate = compute_error_rate(model, mnist_loaders[\"test\"])\n",
        "    m = (\n",
        "    f\"Test error rate: {test_err_rate * 100.0:.3f}%, \"\n",
        "    f\"training took {time.time() - t_start:.0f}s.\"\n",
        "    )\n",
        "    print(\"{0}\\n{1}\\n{0}\".format(\"-\" * len(m), m))\n",
        "    wandb.log({\n",
        "        \"test_err_rate\": test_err_rate,\n",
        "        \"training_time\": time.time() - tstart\n",
        "    })\n",
        "    wandb.finish()\n",
        "\n",
        "\n",
        "class Model(nn.Module):\n",
        "    def __init__(self, *args, **kwargs):\n",
        "        super(Model, self).__init__()\n",
        "        self.layers = nn.Sequential(*args, **kwargs)\n",
        "\n",
        "    def forward(self, X):\n",
        "        X = X.view(X.size(0), -1)\n",
        "        return self.layers.forward(X)\n",
        "\n",
        "    def loss(self, Out, Targets):\n",
        "        return F.cross_entropy(Out, Targets)\n",
        "\n"
      ]
    },
    {
      "cell_type": "code",
      "source": [
        "class SimpleNN(nn.Module):\n",
        "    def __init__(self, input_dim, hidden_dim1, hidden_dim2, output_dim, dropout_ppb=0.5):\n",
        "        super(SimpleNN, self).__init__()\n",
        "        self.fc1 = nn.Linear(input_dim, hidden_dim1)\n",
        "        self.fc2 = nn.Linear(hidden_dim1, hidden_dim2)\n",
        "        self.fc3 = nn.Linear(hidden_dim2, output_dim)\n",
        "        self.dropout_ppb = dropout_ppb\n",
        "        self.dropout_masks = {}\n",
        "\n",
        "    def forward(self, x):\n",
        "        x = x.view(x.size(0), -1)\n",
        "        x = F.relu(self.fc1(x))\n",
        "        x = self.apply_dropout(x, self.dropout_masks.get('fc1'), self.dropout_ppb)\n",
        "        x = F.relu(self.fc2(x))\n",
        "        x = self.apply_dropout(x, self.dropout_masks.get('fc2'), self.dropout_ppb)\n",
        "        x = self.fc3(x)\n",
        "        return x\n",
        "\n",
        "    def loss(self, output, target):\n",
        "        return F.cross_entropy(output, target)\n",
        "\n",
        "    def apply_dropout(self, x, mask, dropout_prob):\n",
        "        if mask is None or dropout_prob == 0 or not self.training:\n",
        "            return x\n",
        "        return x * mask\n",
        "\n",
        "    def dropout_init(self, device):\n",
        "        if self.dropout_ppb != 0:\n",
        "            for name, param in self.named_parameters():\n",
        "                if \"weight\" in name:\n",
        "                    self.dropout_masks[name] = (torch.rand_like(param) > self.dropout_ppb).float().to(device)\n",
        "\n",
        "\n",
        "model = SimpleNN(28*28, 4999, 3000, 10, dropout_ppb=0.4)\n",
        "\n",
        "\n",
        "device = torch.device(\"cuda\" if torch.cuda.is_available() else \"cpu\")\n",
        "model.to(device)\n",
        "\n",
        "\n",
        "with torch.no_grad():\n",
        "    for name, p in model.named_parameters():\n",
        "        if \"weight\" in name:\n",
        "            p.normal_(0, 0.01)\n",
        "        elif \"bias\" in name:\n",
        "            p.zero_()\n",
        "        else:\n",
        "            raise ValueError(f'Unknown parameter name \"{name}\"')\n",
        "\n",
        "\n",
        "t_start = time.time()\n",
        "SGD(\n",
        "    model, mnist_loaders, alpha=0.01, epsilon=0.99, max_num_epochs=200,\n",
        "    device=device, decay=0.0005, run_name=\"dropout\"\n",
        ")"
      ],
      "metadata": {
        "colab": {
          "base_uri": "https://localhost:8080/",
          "height": 1000
        },
        "id": "9u0cb1E0I--D",
        "outputId": "39350a6f-51a5-4983-88d2-4842ac3d35ed"
      },
      "execution_count": null,
      "outputs": [
        {
          "output_type": "stream",
          "name": "stdout",
          "text": [
            "----------------------------------------------------------\n",
            "After epoch 23 | valid err rate:  1.45% | doing  23 epochs\n",
            "----------------------------------------------------------\n",
            "\n",
            "Loading best params on validation set (epoch 15)\n",
            "\n",
            "--------------------------------------------\n",
            "Test error rate: 1.470%, training took 136s.\n",
            "--------------------------------------------\n"
          ]
        },
        {
          "output_type": "display_data",
          "data": {
            "text/plain": [
              "<IPython.core.display.HTML object>"
            ],
            "text/html": []
          },
          "metadata": {}
        },
        {
          "output_type": "display_data",
          "data": {
            "text/plain": [
              "<IPython.core.display.HTML object>"
            ],
            "text/html": [
              "<br>    <style><br>        .wandb-row {<br>            display: flex;<br>            flex-direction: row;<br>            flex-wrap: wrap;<br>            justify-content: flex-start;<br>            width: 100%;<br>        }<br>        .wandb-col {<br>            display: flex;<br>            flex-direction: column;<br>            flex-basis: 100%;<br>            flex: 1;<br>            padding: 10px;<br>        }<br>    </style><br><div class=\"wandb-row\"><div class=\"wandb-col\"><h3>Run history:</h3><br/><table class=\"wandb\"><tr><td>dropout_probability</td><td>▁▁▁▁▁▁▁▁▁▁▁▁▁▁▁▁▁▁▁▁▁▁▁</td></tr><tr><td>error_rate</td><td>█▄▅▄▁▂▁▁▂▁▁▁▁▁▁▁▁▁▁▁▁▁▁▁▁▁▁▁▁▁▁▁▁▁▁▁▁▁▁▁</td></tr><tr><td>loss</td><td>▆█▅▃▂▂▁▃▁▁▁▁▂▂▁▁▂▁▂▁▁▁▁▁▁▁▁▁▁▁▁▁▁▁▁▁▁▁▁▁</td></tr><tr><td>test_err_rate</td><td>▁</td></tr><tr><td>training_time</td><td>▁</td></tr><tr><td>val_error_rate</td><td>█▇▅▃▄▃▂▃▂▂▂▂▂▁▁▁▁▁▁▁▁▁▁</td></tr></table><br/></div><div class=\"wandb-col\"><h3>Run summary:</h3><br/><table class=\"wandb\"><tr><td>dropout_applied</td><td>True</td></tr><tr><td>dropout_probability</td><td>0.4</td></tr><tr><td>error_rate</td><td>0</td></tr><tr><td>loss</td><td>0.00538</td></tr><tr><td>test_err_rate</td><td>0.0147</td></tr><tr><td>training_time</td><td>8.57094</td></tr><tr><td>val_error_rate</td><td>0.0145</td></tr></table><br/></div></div>"
            ]
          },
          "metadata": {}
        },
        {
          "output_type": "display_data",
          "data": {
            "text/plain": [
              "<IPython.core.display.HTML object>"
            ],
            "text/html": [
              " View run <strong style=\"color:#cdcd00\">dropout</strong> at: <a href='https://wandb.ai/kicza/SGD-Training/runs/0o1xxbd7' target=\"_blank\">https://wandb.ai/kicza/SGD-Training/runs/0o1xxbd7</a><br> View project at: <a href='https://wandb.ai/kicza/SGD-Training' target=\"_blank\">https://wandb.ai/kicza/SGD-Training</a><br>Synced 5 W&B file(s), 0 media file(s), 0 artifact file(s) and 0 other file(s)"
            ]
          },
          "metadata": {}
        },
        {
          "output_type": "display_data",
          "data": {
            "text/plain": [
              "<IPython.core.display.HTML object>"
            ],
            "text/html": [
              "Find logs at: <code>./wandb/run-20250325_225925-0o1xxbd7/logs</code>"
            ]
          },
          "metadata": {}
        },
        {
          "output_type": "display_data",
          "data": {
            "text/plain": [
              "<Figure size 1600x400 with 2 Axes>"
            ],
            "image/png": "[encoded data removed]"
          },
          "metadata": {}
        }
      ]
    },
    {
      "cell_type": "markdown",
      "metadata": {
        "id": "G1khkHtIl5vD"
      },
      "source": [
        "#BATCH-NORM"
      ]
    },
    {
      "cell_type": "markdown",
      "metadata": {
        "id": "3NEFrQyNpvV5"
      },
      "source": [
        "![image.png](data:image/png;base64,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)"
      ]
    },
    {
      "cell_type": "code",
      "execution_count": null,
      "metadata": {
        "id": "qN1KjssKle7t"
      },
      "outputs": [],
      "source": [
        "import torch\n",
        "import torch.nn as nn\n",
        "import torch.nn.functional as F\n",
        "\n",
        "\n",
        "'''\n",
        "During inference (evaluation):\n",
        "The running mean and running variance calculated during training are used for normalization,\n",
        "not the batch statistics of the current input. This ensures that the model behaves\n",
        "consistently during evaluation, where the batch size is often 1 and thus the batch statistics\n",
        "wouldn't be reliable.\n",
        "'''\n",
        "\n",
        "\n",
        "import wandb\n",
        "\n",
        "\n",
        "\n",
        "def SGD(\n",
        "    model,\n",
        "    data_loaders,\n",
        "    alpha=1e-4,\n",
        "    epsilon=0.0,\n",
        "    decay=0.0,\n",
        "    num_epochs=1,\n",
        "    max_num_epochs=np.nan,\n",
        "    patience_expansion=2,\n",
        "    log_every=100,\n",
        "    device=\"cpu\",\n",
        "    name=\"\"\n",
        "):\n",
        "    # Put the model in train mode, and move to the evaluation device.\n",
        "    model.train()\n",
        "    model.to(device)\n",
        "    for data_loader in data_loaders.values():\n",
        "        if isinstance(data_loader, InMemDataLoader):\n",
        "            data_loader.to(device)\n",
        "\n",
        "    wandb.init(project=\"SGD-Training\", name=name, config={\"alpha\": alpha, \"epsilon\": epsilon, \"decay\": decay})\n",
        "    #\n",
        "    # TODO for Problem 2.2: Initialize momentum variables\n",
        "    # Hint: You need one velocity matrix for each parameter\n",
        "    #\n",
        "    velocities = [torch.zeros(p.shape, device=device) for p in model.parameters()]\n",
        "    iter_ = 0\n",
        "    epoch = 0\n",
        "    best_params = None\n",
        "    best_val_err = np.inf\n",
        "    history = {\"train_losses\": [], \"train_errs\": [], \"val_errs\": []}\n",
        "    print(\"Training the model!\")\n",
        "    print(\"Interrupt at any time to evaluate the best validation model so far.\")\n",
        "\n",
        "    wandb.watch(model, log=\"all\")\n",
        "\n",
        "    try:\n",
        "        tstart = time.time()\n",
        "        siter = iter_\n",
        "        while epoch < num_epochs:\n",
        "            model.train()\n",
        "            epoch += 1\n",
        "            if epoch > max_num_epochs:\n",
        "                break\n",
        "            #\n",
        "            # TODO: You can implement learning rate control here (it is updated\n",
        "            # once per epoch), or below in the loop over minibatches.\n",
        "            #\n",
        "\n",
        "            if epoch>10 and epoch % 5 == 0:\n",
        "                alpha *= 0.5\n",
        "\n",
        "            for x, y in data_loaders[\"train\"]:\n",
        "                x = x.to(device)\n",
        "                y = y.to(device)\n",
        "                iter_ += 1\n",
        "                # This calls the `forward` function: https://pytorch.org/tutorials/beginner/examples_nn/two_layer_net_module.html\n",
        "                out = model(x)\n",
        "                loss = model.loss(out, y)\n",
        "                loss.backward()\n",
        "                _, predictions = out.max(dim=1)\n",
        "                batch_err_rate = (predictions != y).sum().item() / out.size(0)\n",
        "\n",
        "                history[\"train_losses\"].append(loss.item())\n",
        "                history[\"train_errs\"].append(batch_err_rate)\n",
        "\n",
        "                wandb.log({\"loss\": loss.item(), \"error_rate\": batch_err_rate})\n",
        "\n",
        "                with torch.no_grad():\n",
        "                    for (name, p), v in zip(model.named_parameters(), velocities):\n",
        "                        if \"weight\" in name:\n",
        "                            #\n",
        "                            # TODO for Problem 2.3: Implement weight decay (L2 regularization\n",
        "                            # on weights by changing the gradients\n",
        "                            # p.grad += TODO\n",
        "                            #\n",
        "                            p.grad += 2 * p * decay  # L2 regularization\n",
        "\n",
        "                        #\n",
        "                        # TODO for Problem 2.2: Implement a learning rate schedule\n",
        "                        # Hint: You can use the iteration or epoch counters\n",
        "                        # alpha = TODO => it is the loop above, depending on epoch\n",
        "                        #\n",
        "\n",
        "                        #\n",
        "                        # TODO for Problem 2.1: If needed, implement here a momentum schedule\n",
        "                        # epsilon = 0.999* epsilon\n",
        "                        #\n",
        "\n",
        "                        #\n",
        "                        # TODO for Problem 2.1: Implement velocity updates for momentum\n",
        "                        # lease make sure to modify the contents of v, not the v pointer!!!\n",
        "                        #\n",
        "                        # v[...] = TODO\n",
        "                        v_prev = v[...]\n",
        "                        v[...] = epsilon * v[...] - alpha * p.grad\n",
        "\n",
        "                        #\n",
        "                        # TODO for Problem 2: Set a more sensible learning rule here,\n",
        "                        #       using your learning rate schedule and momentum\n",
        "                        #\n",
        "                        #p -= alpha * p.grad\n",
        "                        #p += - epsilon * v_prev + (1 + epsilon) * v[...]\n",
        "                        #p = p  + (1 + epsilon) * v[...] - epsilon * v_prev\n",
        "                        p += (1 + epsilon) * v[...] - epsilon * v_prev\n",
        "\n",
        "                        # Zero gradients for the next iteration\n",
        "                        p.grad.zero_()\n",
        "\n",
        "                if iter_ % log_every == 0:\n",
        "                    num_iter = iter_ - siter + 1\n",
        "                    print(\n",
        "                        \"Minibatch {0: >6}  | loss {1: >5.2f} | err rate {2: >5.2f}%, steps/s {3: >5.2f}\".format(\n",
        "                            iter_,\n",
        "                            loss.item(),\n",
        "                            batch_err_rate * 100.0,\n",
        "                            num_iter / (time.time() - tstart),\n",
        "                        )\n",
        "                    )\n",
        "                    tstart = time.time()\n",
        "\n",
        "            val_err_rate = compute_error_rate(model, data_loaders[\"valid\"], device)\n",
        "            history[\"val_errs\"].append((iter_, val_err_rate))\n",
        "            wandb.log({\"val_error_rate\": val_err_rate})\n",
        "\n",
        "            if val_err_rate < best_val_err:\n",
        "                # Adjust num of epochs\n",
        "                num_epochs = int(np.maximum(num_epochs, epoch * patience_expansion + 1))\n",
        "                best_epoch = epoch\n",
        "                best_val_err = val_err_rate\n",
        "                best_params = [p.detach().cpu() for p in model.parameters()]\n",
        "            clear_output(True)\n",
        "            m = \"After epoch {0: >2} | valid err rate: {1: >5.2f}% | doing {2: >3} epochs\".format(\n",
        "                epoch, val_err_rate * 100.0, num_epochs\n",
        "            )\n",
        "            print(\"{0}\\n{1}\\n{0}\".format(\"-\" * len(m), m))\n",
        "\n",
        "    except KeyboardInterrupt:\n",
        "        pass\n",
        "\n",
        "    if best_params is not None:\n",
        "        print(\"\\nLoading best params on validation set (epoch %d)\\n\" % (best_epoch))\n",
        "        with torch.no_grad():\n",
        "            for param, best_param in zip(model.parameters(), best_params):\n",
        "                param[...] = best_param\n",
        "\n",
        "    test_err_rate = compute_error_rate(model, mnist_loaders[\"test\"])\n",
        "    m = (\n",
        "        f\"Test error rate: {test_err_rate * 100.0:.3f}%, \"\n",
        "        f\"training took {time.time() - t_start:.0f}s.\"\n",
        "    )\n",
        "    print(\"{0}\\n{1}\\n{0}\".format(\"-\" * len(m), m))\n",
        "    wandb.log({\n",
        "        \"test_err_rate\": test_err_rate,\n",
        "        \"training_time\": time.time() - tstart\n",
        "    })\n",
        "    plot_history(history)\n",
        "    wandb.finish()\n",
        "\n",
        "class Model(nn.Module):\n",
        "    def __init__(self, *args, **kwargs):\n",
        "        super(Model, self).__init__()\n",
        "        self.layers = nn.Sequential(*args, **kwargs)\n",
        "\n",
        "    def forward(self, X):\n",
        "        X = X.view(X.size(0), -1)\n",
        "        return self.layers.forward(X)\n",
        "\n",
        "    def loss(self, Out, Targets):\n",
        "        return F.cross_entropy(Out, Targets)\n",
        "\n",
        "class BatchNorm(nn.Module):\n",
        "    def __init__(self, num_features, eps=1e-10, momentum=0.5):\n",
        "        super(BatchNorm, self).__init__()\n",
        "        self.gamma = nn.Parameter(torch.ones(num_features))\n",
        "        self.beta = nn.Parameter(torch.zeros(num_features))\n",
        "        self.eps = eps\n",
        "        self.momentum = momentum\n",
        "        self.register_buffer(\"running_mean\", torch.zeros(num_features))\n",
        "        self.register_buffer(\"running_var\", torch.ones(num_features))\n",
        "\n",
        "    def forward(self, x):\n",
        "        if self.training:\n",
        "            mean = x.mean(dim=0, keepdim=True)\n",
        "            var = x.var(dim=0, keepdim=True, unbiased=False)\n",
        "            self.running_mean = (1 - self.momentum) * self.running_mean + self.momentum * mean.detach()\n",
        "            self.running_var = (1 - self.momentum) * self.running_var + self.momentum * var.detach()\n",
        "        else:\n",
        "            mean = self.running_mean\n",
        "            var = self.running_var\n",
        "        x_hat = (x - mean) / torch.sqrt(var + self.eps)\n",
        "        return self.gamma * x_hat + self.beta\n",
        "\n",
        "\n",
        "class Model(nn.Module):\n",
        "    def __init__(self, input_dim, hidden_dim1, hidden_dim2, output_dim):\n",
        "        super(Model, self).__init__()\n",
        "        self.fc1 = nn.Linear(input_dim, hidden_dim1)\n",
        "        self.bn1 = BatchNorm(hidden_dim1)\n",
        "        self.fc2 = nn.Linear(hidden_dim1, hidden_dim2)\n",
        "        self.bn2 = BatchNorm(hidden_dim2)\n",
        "        self.fc3 = nn.Linear(hidden_dim2, output_dim)\n",
        "\n",
        "    def forward(self, x):\n",
        "        x = x.view(x.size(0), -1)\n",
        "        x = F.relu(self.bn1(self.fc1(x)))\n",
        "        x = F.relu(self.bn2(self.fc2(x)))\n",
        "        x = self.fc3(x)\n",
        "        return x\n",
        "\n",
        "    def loss(self, output, target):\n",
        "        return F.cross_entropy(output, target)\n",
        "\n",
        "\n",
        "model = Model(28*28, 2000, 1000, 10)"
      ]
    },
    {
      "cell_type": "code",
      "execution_count": null,
      "metadata": {
        "colab": {
          "base_uri": "https://localhost:8080/",
          "height": 1000
        },
        "id": "es-MDuv0mbHU",
        "outputId": "22e7f698-900c-4b21-f09d-7665a7ae2222"
      },
      "outputs": [
        {
          "name": "stdout",
          "output_type": "stream",
          "text": [
            "-----------------------------------------------------------\n",
            "After epoch 122 | valid err rate:  1.29% | doing 165 epochs\n",
            "-----------------------------------------------------------\n",
            "\n",
            "Loading best params on validation set (epoch 82)\n",
            "\n",
            "--------------------------------------------\n",
            "Test error rate: 1.320%, training took 268s.\n",
            "--------------------------------------------\n"
          ]
        },
        {
          "data": {
            "text/html": [],
            "text/plain": [
              "<IPython.core.display.HTML object>"
            ]
          },
          "metadata": {},
          "output_type": "display_data"
        },
        {
          "data": {
            "text/html": [
              "<br>    <style><br>        .wandb-row {<br>            display: flex;<br>            flex-direction: row;<br>            flex-wrap: wrap;<br>            justify-content: flex-start;<br>            width: 100%;<br>        }<br>        .wandb-col {<br>            display: flex;<br>            flex-direction: column;<br>            flex-basis: 100%;<br>            flex: 1;<br>            padding: 10px;<br>        }<br>    </style><br><div class=\"wandb-row\"><div class=\"wandb-col\"><h3>Run history:</h3><br/><table class=\"wandb\"><tr><td>error_rate</td><td>▇█▂▁▁▁▁▁▁▁▁▁▁▁▁▁▁▁▁▁▁▁▁▁▁▁▁▁▁▁▁▁▁▁▁▁▁▁▁▁</td></tr><tr><td>loss</td><td>▃▇█▄▄▁▁▁▁▁▁▁▁▁▁▁▁▁▁▁▁▁▁▁▁▁▁▁▁▁▁▁▁▁▁▁▁▁▁▁</td></tr><tr><td>test_err_rate</td><td>▁</td></tr><tr><td>training_time</td><td>▁</td></tr><tr><td>val_error_rate</td><td>▆▇█▆▅▄▂▂▃▂▂▂▂▂▂▂▂▂▂▂▁▃▁▂▁▂▂▂▂▂▂▂▂▁▂▂▂▂▂▁</td></tr></table><br/></div><div class=\"wandb-col\"><h3>Run summary:</h3><br/><table class=\"wandb\"><tr><td>error_rate</td><td>0</td></tr><tr><td>loss</td><td>0.00115</td></tr><tr><td>test_err_rate</td><td>0.0132</td></tr><tr><td>training_time</td><td>1.29128</td></tr><tr><td>val_error_rate</td><td>0.0129</td></tr></table><br/></div></div>"
            ],
            "text/plain": [
              "<IPython.core.display.HTML object>"
            ]
          },
          "metadata": {},
          "output_type": "display_data"
        },
        {
          "data": {
            "text/html": [
              " View run <strong style=\"color:#cdcd00\">batch-norm</strong> at: <a href='https://wandb.ai/kicza/SGD-Training/runs/wum66lsp' target=\"_blank\">https://wandb.ai/kicza/SGD-Training/runs/wum66lsp</a><br> View project at: <a href='https://wandb.ai/kicza/SGD-Training' target=\"_blank\">https://wandb.ai/kicza/SGD-Training</a><br>Synced 5 W&B file(s), 0 media file(s), 0 artifact file(s) and 0 other file(s)"
            ],
            "text/plain": [
              "<IPython.core.display.HTML object>"
            ]
          },
          "metadata": {},
          "output_type": "display_data"
        },
        {
          "data": {
            "text/html": [
              "Find logs at: <code>./wandb/run-20250322_114224-wum66lsp/logs</code>"
            ],
            "text/plain": [
              "<IPython.core.display.HTML object>"
            ]
          },
          "metadata": {},
          "output_type": "display_data"
        },
        {
          "name": "stdout",
          "output_type": "stream",
          "text": [
            "--------------------------------------------\n",
            "Test error rate: 1.320%, training took 270s.\n",
            "--------------------------------------------\n"
          ]
        },
        {
          "data": {
            "image/png": "[encoded data removed]",
            "text/plain": [
              "<Figure size 1600x400 with 2 Axes>"
            ]
          },
          "metadata": {},
          "output_type": "display_data"
        }
      ],
      "source": [
        "\n",
        "device = torch.device(\"cuda\" if torch.cuda.is_available() else \"cpu\")\n",
        "model.to(device)\n",
        "\n",
        "\n",
        "with torch.no_grad():\n",
        "    for name, p in model.named_parameters():\n",
        "        if \"weight\" or \"gamma\" in name:\n",
        "            p.normal_(0, 0.02)\n",
        "        elif \"bias\" in name:\n",
        "            p.zero_()\n",
        "        else:\n",
        "            raise ValueError(f'Unknown parameter name \"{name}\"')\n",
        "\n",
        "\n",
        "t_start = time.time()\n",
        "SGD(\n",
        "    model, mnist_loaders, alpha=0.005, epsilon=0.99, max_num_epochs=200,\n",
        "    device=device, decay=0.0005, name=\"batch-norm\"\n",
        ")\n",
        "\n",
        "\n",
        "test_err_rate = compute_error_rate(model, mnist_loaders[\"test\"])\n",
        "m = (\n",
        "    f\"Test error rate: {test_err_rate * 100.0:.3f}%, \"\n",
        "    f\"training took {time.time() - t_start:.0f}s.\"\n",
        ")\n",
        "print(\"{0}\\n{1}\\n{0}\".format(\"-\" * len(m), m))\n"
      ]
    },
    {
      "cell_type": "markdown",
      "metadata": {
        "id": "hpjtCwIN0f5R"
      },
      "source": [
        "# NORM CONSTRAINTS"
      ]
    },
    {
      "cell_type": "code",
      "execution_count": null,
      "metadata": {
        "id": "mSMhAhv7seiO"
      },
      "outputs": [],
      "source": [
        "import wandb\n",
        "\n",
        "\n",
        "\n",
        "def SGD(\n",
        "    model,\n",
        "    data_loaders,\n",
        "    alpha=1e-4,\n",
        "    epsilon=0.0,\n",
        "    decay=0.0,\n",
        "    num_epochs=1,\n",
        "    max_num_epochs=np.nan,\n",
        "    patience_expansion=1.5,\n",
        "    log_every=100,\n",
        "    device=\"cpu\",\n",
        "    name=\"\"\n",
        "):\n",
        "    # Put the model in train mode, and move to the evaluation device.\n",
        "    model.train()\n",
        "    model.to(device)\n",
        "    for data_loader in data_loaders.values():\n",
        "        if isinstance(data_loader, InMemDataLoader):\n",
        "            data_loader.to(device)\n",
        "\n",
        "    wandb.init(project=\"SGD-Training\", name=name, config={\"alpha\": alpha, \"epsilon\": epsilon, \"decay\": decay})\n",
        "    #\n",
        "    # TODO for Problem 2.2: Initialize momentum variables\n",
        "    # Hint: You need one velocity matrix for each parameter\n",
        "    #\n",
        "    velocities = [torch.zeros(p.shape, device=device) for p in model.parameters()]\n",
        "    iter_ = 0\n",
        "    epoch = 0\n",
        "    best_params = None\n",
        "    best_val_err = np.inf\n",
        "    history = {\"train_losses\": [], \"train_errs\": [], \"val_errs\": []}\n",
        "    print(\"Training the model!\")\n",
        "    print(\"Interrupt at any time to evaluate the best validation model so far.\")\n",
        "\n",
        "    wandb.watch(model, log=\"all\")\n",
        "\n",
        "    try:\n",
        "        tstart = time.time()\n",
        "        siter = iter_\n",
        "        while epoch < num_epochs:\n",
        "            model.train()\n",
        "            epoch += 1\n",
        "            if epoch > max_num_epochs:\n",
        "                break\n",
        "            #\n",
        "            # TODO: You can implement learning rate control here (it is updated\n",
        "            # once per epoch), or below in the loop over minibatches.\n",
        "            #\n",
        "\n",
        "            if epoch % 5 == 0:\n",
        "                alpha *= 0.5\n",
        "\n",
        "            for x, y in data_loaders[\"train\"]:\n",
        "                x = x.to(device)\n",
        "                y = y.to(device)\n",
        "                iter_ += 1\n",
        "                # This calls the `forward` function: https://pytorch.org/tutorials/beginner/examples_nn/two_layer_net_module.html\n",
        "                out = model(x)\n",
        "                loss = model.loss(out, y)\n",
        "                loss.backward()\n",
        "                _, predictions = out.max(dim=1)\n",
        "                batch_err_rate = (predictions != y).sum().item() / out.size(0)\n",
        "\n",
        "                history[\"train_losses\"].append(loss.item())\n",
        "                history[\"train_errs\"].append(batch_err_rate)\n",
        "\n",
        "                wandb.log({\"loss\": loss.item(), \"error_rate\": batch_err_rate})\n",
        "\n",
        "                with torch.no_grad():\n",
        "                    for (name, p), v in zip(model.named_parameters(), velocities):\n",
        "                        if \"weight\" in name:\n",
        "                            #\n",
        "                            # TODO for Problem 2.3: Implement weight decay (L2 regularization\n",
        "                            # on weights by changing the gradients\n",
        "                            # p.grad += TODO\n",
        "                            #\n",
        "                           tau = 3.0\n",
        "                           if p.dim() == 2:  # Apply only to weight matrices -  L2 norm of each row is constrained to be at most tau\n",
        "                                row_norms = torch.norm(p, p=2, dim=1, keepdim=True)\n",
        "                                scaling_factors = torch.clamp(tau / row_norms, max=1.0)\n",
        "                                p *= scaling_factors\n",
        "\n",
        "                        #\n",
        "                        # TODO for Problem 2.2: Implement a learning rate schedule\n",
        "                        # Hint: You can use the iteration or epoch counters\n",
        "                        # alpha = TODO => it is the loop above, depending on epoch\n",
        "                        #\n",
        "\n",
        "                        #\n",
        "                        # TODO for Problem 2.1: If needed, implement here a momentum schedule\n",
        "                        # epsilon = 0.999* epsilon\n",
        "                        #\n",
        "\n",
        "                        #\n",
        "                        # TODO for Problem 2.1: Implement velocity updates for momentum\n",
        "                        # lease make sure to modify the contents of v, not the v pointer!!!\n",
        "                        #\n",
        "                        # v[...] = TODO\n",
        "                        v_prev = v[...]\n",
        "                        v[...] = epsilon * v[...] - alpha * p.grad\n",
        "\n",
        "                        #\n",
        "                        # TODO for Problem 2: Set a more sensible learning rule here,\n",
        "                        #       using your learning rate schedule and momentum\n",
        "                        #\n",
        "                        #p -= alpha * p.grad\n",
        "                        #p += - epsilon * v_prev + (1 + epsilon) * v[...]\n",
        "                        #p = p  + (1 + epsilon) * v[...] - epsilon * v_prev\n",
        "                        p += (1 + epsilon) * v[...] - epsilon * v_prev\n",
        "\n",
        "                        # Zero gradients for the next iteration\n",
        "                        p.grad.zero_()\n",
        "\n",
        "                if iter_ % log_every == 0:\n",
        "                    num_iter = iter_ - siter + 1\n",
        "                    print(\n",
        "                        \"Minibatch {0: >6}  | loss {1: >5.2f} | err rate {2: >5.2f}%, steps/s {3: >5.2f}\".format(\n",
        "                            iter_,\n",
        "                            loss.item(),\n",
        "                            batch_err_rate * 100.0,\n",
        "                            num_iter / (time.time() - tstart),\n",
        "                        )\n",
        "                    )\n",
        "                    tstart = time.time()\n",
        "\n",
        "            val_err_rate = compute_error_rate(model, data_loaders[\"valid\"], device)\n",
        "            history[\"val_errs\"].append((iter_, val_err_rate))\n",
        "            wandb.log({\"val_error_rate\": val_err_rate})\n",
        "\n",
        "            if val_err_rate < best_val_err:\n",
        "                # Adjust num of epochs\n",
        "                num_epochs = int(np.maximum(num_epochs, epoch * patience_expansion + 1))\n",
        "                best_epoch = epoch\n",
        "                best_val_err = val_err_rate\n",
        "                best_params = [p.detach().cpu() for p in model.parameters()]\n",
        "            clear_output(True)\n",
        "            m = \"After epoch {0: >2} | valid err rate: {1: >5.2f}% | doing {2: >3} epochs\".format(\n",
        "                epoch, val_err_rate * 100.0, num_epochs\n",
        "            )\n",
        "            print(\"{0}\\n{1}\\n{0}\".format(\"-\" * len(m), m))\n",
        "\n",
        "    except KeyboardInterrupt:\n",
        "        pass\n",
        "\n",
        "    if best_params is not None:\n",
        "        print(\"\\nLoading best params on validation set (epoch %d)\\n\" % (best_epoch))\n",
        "        with torch.no_grad():\n",
        "            for param, best_param in zip(model.parameters(), best_params):\n",
        "                param[...] = best_param\n",
        "\n",
        "    test_err_rate = compute_error_rate(model, mnist_loaders[\"test\"])\n",
        "    m = (\n",
        "        f\"Test error rate: {test_err_rate * 100.0:.3f}%, \"\n",
        "        f\"training took {time.time() - t_start:.0f}s.\"\n",
        "    )\n",
        "    print(\"{0}\\n{1}\\n{0}\".format(\"-\" * len(m), m))\n",
        "    wandb.log({\n",
        "        \"test_err_rate\": test_err_rate,\n",
        "        \"training_time\": time.time() - tstart\n",
        "    })\n",
        "    plot_history(history)\n",
        "    wandb.finish()"
      ]
    },
    {
      "cell_type": "code",
      "execution_count": null,
      "metadata": {
        "colab": {
          "base_uri": "https://localhost:8080/",
          "height": 1000
        },
        "id": "_FRZLidc0OYY",
        "outputId": "d20d077a-50db-40d4-c686-7897a21870bf"
      },
      "outputs": [
        {
          "name": "stdout",
          "output_type": "stream",
          "text": [
            "----------------------------------------------------------\n",
            "After epoch 22 | valid err rate:  1.70% | doing  22 epochs\n",
            "----------------------------------------------------------\n",
            "\n",
            "Loading best params on validation set (epoch 14)\n",
            "\n",
            "-------------------------------------------\n",
            "Test error rate: 1.600%, training took 27s.\n",
            "-------------------------------------------\n"
          ]
        },
        {
          "data": {
            "text/html": [],
            "text/plain": [
              "<IPython.core.display.HTML object>"
            ]
          },
          "metadata": {},
          "output_type": "display_data"
        },
        {
          "data": {
            "text/html": [
              "<br>    <style><br>        .wandb-row {<br>            display: flex;<br>            flex-direction: row;<br>            flex-wrap: wrap;<br>            justify-content: flex-start;<br>            width: 100%;<br>        }<br>        .wandb-col {<br>            display: flex;<br>            flex-direction: column;<br>            flex-basis: 100%;<br>            flex: 1;<br>            padding: 10px;<br>        }<br>    </style><br><div class=\"wandb-row\"><div class=\"wandb-col\"><h3>Run history:</h3><br/><table class=\"wandb\"><tr><td>error_rate</td><td>█▇▇▂▁▂▁▁▁▁▁▁▁▁▁▁▁▁▁▁▁▁▁▁▁▁▁▁▁▁▁▁▁▁▁▁▁▁▁▁</td></tr><tr><td>loss</td><td>█▆▄▃▂▁▁▁▁▁▁▁▁▁▁▁▁▁▁▁▁▁▁▁▁▁▁▁▁▁▁▁▁▁▁▁▁▁▁▁</td></tr><tr><td>test_err_rate</td><td>▁</td></tr><tr><td>training_time</td><td>▁</td></tr><tr><td>val_error_rate</td><td>█▆▄▅▂▂▁▁▁▁▁▁▁▁▁▁▁▁▁▁▁▁</td></tr></table><br/></div><div class=\"wandb-col\"><h3>Run summary:</h3><br/><table class=\"wandb\"><tr><td>error_rate</td><td>0</td></tr><tr><td>loss</td><td>0.0016</td></tr><tr><td>test_err_rate</td><td>0.016</td></tr><tr><td>training_time</td><td>0.39141</td></tr><tr><td>val_error_rate</td><td>0.017</td></tr></table><br/></div></div>"
            ],
            "text/plain": [
              "<IPython.core.display.HTML object>"
            ]
          },
          "metadata": {},
          "output_type": "display_data"
        },
        {
          "data": {
            "text/html": [
              " View run <strong style=\"color:#cdcd00\">norm-constraint</strong> at: <a href='https://wandb.ai/kicza/SGD-Training/runs/vs6wbp5h' target=\"_blank\">https://wandb.ai/kicza/SGD-Training/runs/vs6wbp5h</a><br> View project at: <a href='https://wandb.ai/kicza/SGD-Training' target=\"_blank\">https://wandb.ai/kicza/SGD-Training</a><br>Synced 5 W&B file(s), 0 media file(s), 0 artifact file(s) and 0 other file(s)"
            ],
            "text/plain": [
              "<IPython.core.display.HTML object>"
            ]
          },
          "metadata": {},
          "output_type": "display_data"
        },
        {
          "data": {
            "text/html": [
              "Find logs at: <code>./wandb/run-20250322_115329-vs6wbp5h/logs</code>"
            ],
            "text/plain": [
              "<IPython.core.display.HTML object>"
            ]
          },
          "metadata": {},
          "output_type": "display_data"
        },
        {
          "name": "stdout",
          "output_type": "stream",
          "text": [
            "-------------------------------------------\n",
            "Test error rate: 1.600%, training took 29s.\n",
            "-------------------------------------------\n"
          ]
        },
        {
          "data": {
            "image/png": "[encoded data removed]",
            "text/plain": [
              "<Figure size 1600x400 with 2 Axes>"
            ]
          },
          "metadata": {},
          "output_type": "display_data"
        }
      ],
      "source": [
        "class Model(nn.Module):\n",
        "    def __init__(self, *args, **kwargs):\n",
        "        super(Model, self).__init__()\n",
        "        self.layers = nn.Sequential(*args, **kwargs)\n",
        "\n",
        "    def forward(self, X):\n",
        "        X = X.view(X.size(0), -1)\n",
        "        return self.layers.forward(X)\n",
        "\n",
        "    def loss(self, Out, Targets):\n",
        "        return F.cross_entropy(Out, Targets)\n",
        "\n",
        "\n",
        "model = Model(\n",
        "    nn.Linear(28*28, 1000),\n",
        "    nn.ReLU(),\n",
        "    nn.Linear(1000, 10)\n",
        "    )\n",
        "\n",
        "with torch.no_grad():\n",
        "    # Initialize parameters\n",
        "    for name, p in model.named_parameters():\n",
        "        if \"weight\" in name:\n",
        "            p.normal_(0, 0.05)\n",
        "        elif \"bias\" in name:\n",
        "            p.zero_()\n",
        "        else:\n",
        "            raise ValueError('Unknown parameter name \"%s\"' % name)\n",
        "\n",
        "# On GPU enabled devices set device='cuda' else set device='cpu'\n",
        "t_start = time.time()\n",
        "SGD(model, mnist_loaders, alpha=0.01, epsilon=0.99, max_num_epochs=50,\n",
        "    device='cuda', decay=0.0005, name=\"norm-constraint\")\n",
        "\n",
        "\n",
        "test_err_rate = compute_error_rate(model, mnist_loaders[\"test\"])\n",
        "m = (\n",
        "    f\"Test error rate: {test_err_rate * 100.0:.3f}%, \"\n",
        "    f\"training took {time.time() - t_start:.0f}s.\"\n",
        ")\n",
        "print(\"{0}\\n{1}\\n{0}\".format(\"-\" * len(m), m))"
      ]
    },
    {
      "cell_type": "markdown",
      "metadata": {
        "id": "_o2rhbb4t-Fn"
      },
      "source": [
        "# PRUNING\n"
      ]
    },
    {
      "cell_type": "code",
      "execution_count": null,
      "metadata": {
        "colab": {
          "base_uri": "https://localhost:8080/",
          "height": 1000
        },
        "id": "3gfmGR3muCB3",
        "outputId": "ae215756-6858-4d71-cb86-68e9d1cc2b81"
      },
      "outputs": [
        {
          "name": "stdout",
          "output_type": "stream",
          "text": [
            "----------------------------------------------------------\n",
            "After epoch 50 | valid err rate:  1.67% | doing  50 epochs\n",
            "----------------------------------------------------------\n",
            "\n",
            "Loading best params on validation set (epoch 18)\n",
            "\n",
            "------------------------------------------\n",
            "Test error rate: 1.620%, training took 0s.\n",
            "------------------------------------------\n"
          ]
        },
        {
          "data": {
            "text/html": [],
            "text/plain": [
              "<IPython.core.display.HTML object>"
            ]
          },
          "metadata": {},
          "output_type": "display_data"
        },
        {
          "data": {
            "text/html": [
              "<br>    <style><br>        .wandb-row {<br>            display: flex;<br>            flex-direction: row;<br>            flex-wrap: wrap;<br>            justify-content: flex-start;<br>            width: 100%;<br>        }<br>        .wandb-col {<br>            display: flex;<br>            flex-direction: column;<br>            flex-basis: 100%;<br>            flex: 1;<br>            padding: 10px;<br>        }<br>    </style><br><div class=\"wandb-row\"><div class=\"wandb-col\"><h3>Run history:</h3><br/><table class=\"wandb\"><tr><td>error_rate</td><td>█▃▁▁▃▁▁▁▁▁▃▁▁▁▁▁▁▁▁▁▁▁▁▁▁▁▁▁▁▁▁▁▁▁▁▁▁▁▁▁</td></tr><tr><td>loss</td><td>▃█▂▆▄▂▂▂▁▂▁▂▂▂▁▁▂▂▂▁▁▁▁▂▁▁▁▂▁▁▂▁▁▁▁▁▂▁▂▂</td></tr><tr><td>test_err_rate</td><td>▁</td></tr><tr><td>training_time</td><td>▁</td></tr><tr><td>val_error_rate</td><td>▇▅█▂▁▃▂▂▂▁▁▁▁▁▂▁▁▁▁▁▁▁▁▁▁▁▁▁▁▁▁▁▁▁▁▁▁▁▁▁</td></tr></table><br/></div><div class=\"wandb-col\"><h3>Run summary:</h3><br/><table class=\"wandb\"><tr><td>error_rate</td><td>0</td></tr><tr><td>loss</td><td>0.00661</td></tr><tr><td>test_err_rate</td><td>0.0162</td></tr><tr><td>training_time</td><td>0.31397</td></tr><tr><td>val_error_rate</td><td>0.0167</td></tr></table><br/></div></div>"
            ],
            "text/plain": [
              "<IPython.core.display.HTML object>"
            ]
          },
          "metadata": {},
          "output_type": "display_data"
        },
        {
          "data": {
            "text/html": [
              " View run <strong style=\"color:#cdcd00\">Pruning_Iteration_4</strong> at: <a href='https://wandb.ai/kicza/SGD-Training/runs/b17g020m' target=\"_blank\">https://wandb.ai/kicza/SGD-Training/runs/b17g020m</a><br> View project at: <a href='https://wandb.ai/kicza/SGD-Training' target=\"_blank\">https://wandb.ai/kicza/SGD-Training</a><br>Synced 5 W&B file(s), 0 media file(s), 0 artifact file(s) and 0 other file(s)"
            ],
            "text/plain": [
              "<IPython.core.display.HTML object>"
            ]
          },
          "metadata": {},
          "output_type": "display_data"
        },
        {
          "data": {
            "text/html": [
              "Find logs at: <code>./wandb/run-20250322_121629-b17g020m/logs</code>"
            ],
            "text/plain": [
              "<IPython.core.display.HTML object>"
            ]
          },
          "metadata": {},
          "output_type": "display_data"
        },
        {
          "name": "stdout",
          "output_type": "stream",
          "text": [
            "Validation error rate after pruning iteration 4: 1.62%\n"
          ]
        },
        {
          "ename": "AttributeError",
          "evalue": "'NoneType' object has no attribute '_log'",
          "output_type": "error",
          "traceback": [
            "\u001b[0;31m---------------------------------------------------------------------------\u001b[0m",
            "\u001b[0;31mAttributeError\u001b[0m                            Traceback (most recent call last)",
            "\u001b[0;32m<ipython-input-147-910610011638>\u001b[0m in \u001b[0;36m<cell line: 0>\u001b[0;34m()\u001b[0m\n\u001b[1;32m    194\u001b[0m \u001b[0mtrain_and_prune\u001b[0m\u001b[0;34m(\u001b[0m\u001b[0mmodel\u001b[0m\u001b[0;34m,\u001b[0m \u001b[0mmnist_loaders\u001b[0m\u001b[0;34m,\u001b[0m \u001b[0malpha\u001b[0m\u001b[0;34m=\u001b[0m\u001b[0;36m0.01\u001b[0m\u001b[0;34m,\u001b[0m \u001b[0mepsilon\u001b[0m\u001b[0;34m=\u001b[0m\u001b[0;36m0.99\u001b[0m\u001b[0;34m,\u001b[0m \u001b[0mdecay\u001b[0m\u001b[0;34m=\u001b[0m\u001b[0;36m0.0005\u001b[0m\u001b[0;34m,\u001b[0m \u001b[0mnum_epochs\u001b[0m\u001b[0;34m=\u001b[0m\u001b[0;36m50\u001b[0m\u001b[0;34m,\u001b[0m \u001b[0mmax_num_epochs\u001b[0m\u001b[0;34m=\u001b[0m\u001b[0;36m50\u001b[0m\u001b[0;34m,\u001b[0m \u001b[0mdevice\u001b[0m\u001b[0;34m=\u001b[0m\u001b[0mdevice\u001b[0m\u001b[0;34m,\u001b[0m \u001b[0mpruning_percentage\u001b[0m\u001b[0;34m=\u001b[0m\u001b[0;36m0.5\u001b[0m\u001b[0;34m)\u001b[0m\u001b[0;34m\u001b[0m\u001b[0;34m\u001b[0m\u001b[0m\n\u001b[1;32m    195\u001b[0m \u001b[0;34m\u001b[0m\u001b[0m\n\u001b[0;32m--> 196\u001b[0;31m \u001b[0mtest_err_rate\u001b[0m \u001b[0;34m=\u001b[0m \u001b[0mcompute_error_rate\u001b[0m\u001b[0;34m(\u001b[0m\u001b[0mmodel\u001b[0m\u001b[0;34m,\u001b[0m \u001b[0mmnist_loaders\u001b[0m\u001b[0;34m[\u001b[0m\u001b[0;34m\"test\"\u001b[0m\u001b[0;34m]\u001b[0m\u001b[0;34m,\u001b[0m \u001b[0mdevice\u001b[0m\u001b[0;34m)\u001b[0m\u001b[0;34m\u001b[0m\u001b[0;34m\u001b[0m\u001b[0m\n\u001b[0m\u001b[1;32m    197\u001b[0m \u001b[0mprint\u001b[0m\u001b[0;34m(\u001b[0m\u001b[0;34mf\"Final test error rate: {test_err_rate * 100:.3f}%\"\u001b[0m\u001b[0;34m)\u001b[0m\u001b[0;34m\u001b[0m\u001b[0;34m\u001b[0m\u001b[0m\n",
            "\u001b[0;32m<ipython-input-147-910610011638>\u001b[0m in \u001b[0;36mcompute_error_rate\u001b[0;34m(model, data_loader, device)\u001b[0m\n\u001b[1;32m     13\u001b[0m         \u001b[0;32mfor\u001b[0m \u001b[0mx\u001b[0m\u001b[0;34m,\u001b[0m \u001b[0my\u001b[0m \u001b[0;32min\u001b[0m \u001b[0mdata_loader\u001b[0m\u001b[0;34m:\u001b[0m\u001b[0;34m\u001b[0m\u001b[0;34m\u001b[0m\u001b[0m\n\u001b[1;32m     14\u001b[0m             \u001b[0mx\u001b[0m\u001b[0;34m,\u001b[0m \u001b[0my\u001b[0m \u001b[0;34m=\u001b[0m \u001b[0mx\u001b[0m\u001b[0;34m.\u001b[0m\u001b[0mto\u001b[0m\u001b[0;34m(\u001b[0m\u001b[0mdevice\u001b[0m\u001b[0;34m)\u001b[0m\u001b[0;34m,\u001b[0m \u001b[0my\u001b[0m\u001b[0;34m.\u001b[0m\u001b[0mto\u001b[0m\u001b[0;34m(\u001b[0m\u001b[0mdevice\u001b[0m\u001b[0;34m)\u001b[0m\u001b[0;34m\u001b[0m\u001b[0;34m\u001b[0m\u001b[0m\n\u001b[0;32m---> 15\u001b[0;31m             \u001b[0mout\u001b[0m \u001b[0;34m=\u001b[0m \u001b[0mmodel\u001b[0m\u001b[0;34m(\u001b[0m\u001b[0mx\u001b[0m\u001b[0;34m)\u001b[0m\u001b[0;34m\u001b[0m\u001b[0;34m\u001b[0m\u001b[0m\n\u001b[0m\u001b[1;32m     16\u001b[0m             \u001b[0m_\u001b[0m\u001b[0;34m,\u001b[0m \u001b[0mpredictions\u001b[0m \u001b[0;34m=\u001b[0m \u001b[0mout\u001b[0m\u001b[0;34m.\u001b[0m\u001b[0mmax\u001b[0m\u001b[0;34m(\u001b[0m\u001b[0mdim\u001b[0m\u001b[0;34m=\u001b[0m\u001b[0;36m1\u001b[0m\u001b[0;34m)\u001b[0m\u001b[0;34m\u001b[0m\u001b[0;34m\u001b[0m\u001b[0m\n\u001b[1;32m     17\u001b[0m             \u001b[0mtotal\u001b[0m \u001b[0;34m+=\u001b[0m \u001b[0my\u001b[0m\u001b[0;34m.\u001b[0m\u001b[0msize\u001b[0m\u001b[0;34m(\u001b[0m\u001b[0;36m0\u001b[0m\u001b[0;34m)\u001b[0m\u001b[0;34m\u001b[0m\u001b[0;34m\u001b[0m\u001b[0m\n",
            "\u001b[0;32m/usr/local/lib/python3.11/dist-packages/torch/nn/modules/module.py\u001b[0m in \u001b[0;36m_wrapped_call_impl\u001b[0;34m(self, *args, **kwargs)\u001b[0m\n\u001b[1;32m   1737\u001b[0m             \u001b[0;32mreturn\u001b[0m \u001b[0mself\u001b[0m\u001b[0;34m.\u001b[0m\u001b[0m_compiled_call_impl\u001b[0m\u001b[0;34m(\u001b[0m\u001b[0;34m*\u001b[0m\u001b[0margs\u001b[0m\u001b[0;34m,\u001b[0m \u001b[0;34m**\u001b[0m\u001b[0mkwargs\u001b[0m\u001b[0;34m)\u001b[0m  \u001b[0;31m# type: ignore[misc]\u001b[0m\u001b[0;34m\u001b[0m\u001b[0;34m\u001b[0m\u001b[0m\n\u001b[1;32m   1738\u001b[0m         \u001b[0;32melse\u001b[0m\u001b[0;34m:\u001b[0m\u001b[0;34m\u001b[0m\u001b[0;34m\u001b[0m\u001b[0m\n\u001b[0;32m-> 1739\u001b[0;31m             \u001b[0;32mreturn\u001b[0m \u001b[0mself\u001b[0m\u001b[0;34m.\u001b[0m\u001b[0m_call_impl\u001b[0m\u001b[0;34m(\u001b[0m\u001b[0;34m*\u001b[0m\u001b[0margs\u001b[0m\u001b[0;34m,\u001b[0m \u001b[0;34m**\u001b[0m\u001b[0mkwargs\u001b[0m\u001b[0;34m)\u001b[0m\u001b[0;34m\u001b[0m\u001b[0;34m\u001b[0m\u001b[0m\n\u001b[0m\u001b[1;32m   1740\u001b[0m \u001b[0;34m\u001b[0m\u001b[0m\n\u001b[1;32m   1741\u001b[0m     \u001b[0;31m# torchrec tests the code consistency with the following code\u001b[0m\u001b[0;34m\u001b[0m\u001b[0;34m\u001b[0m\u001b[0m\n",
            "\u001b[0;32m/usr/local/lib/python3.11/dist-packages/torch/nn/modules/module.py\u001b[0m in \u001b[0;36m_call_impl\u001b[0;34m(self, *args, **kwargs)\u001b[0m\n\u001b[1;32m   1843\u001b[0m \u001b[0;34m\u001b[0m\u001b[0m\n\u001b[1;32m   1844\u001b[0m         \u001b[0;32mtry\u001b[0m\u001b[0;34m:\u001b[0m\u001b[0;34m\u001b[0m\u001b[0;34m\u001b[0m\u001b[0m\n\u001b[0;32m-> 1845\u001b[0;31m             \u001b[0;32mreturn\u001b[0m \u001b[0minner\u001b[0m\u001b[0;34m(\u001b[0m\u001b[0;34m)\u001b[0m\u001b[0;34m\u001b[0m\u001b[0;34m\u001b[0m\u001b[0m\n\u001b[0m\u001b[1;32m   1846\u001b[0m         \u001b[0;32mexcept\u001b[0m \u001b[0mException\u001b[0m\u001b[0;34m:\u001b[0m\u001b[0;34m\u001b[0m\u001b[0;34m\u001b[0m\u001b[0m\n\u001b[1;32m   1847\u001b[0m             \u001b[0;31m# run always called hooks if they have not already been run\u001b[0m\u001b[0;34m\u001b[0m\u001b[0;34m\u001b[0m\u001b[0m\n",
            "\u001b[0;32m/usr/local/lib/python3.11/dist-packages/torch/nn/modules/module.py\u001b[0m in \u001b[0;36minner\u001b[0;34m()\u001b[0m\n\u001b[1;32m   1804\u001b[0m                         \u001b[0mhook_result\u001b[0m \u001b[0;34m=\u001b[0m \u001b[0mhook\u001b[0m\u001b[0;34m(\u001b[0m\u001b[0mself\u001b[0m\u001b[0;34m,\u001b[0m \u001b[0margs\u001b[0m\u001b[0;34m,\u001b[0m \u001b[0mkwargs\u001b[0m\u001b[0;34m,\u001b[0m \u001b[0mresult\u001b[0m\u001b[0;34m)\u001b[0m\u001b[0;34m\u001b[0m\u001b[0;34m\u001b[0m\u001b[0m\n\u001b[1;32m   1805\u001b[0m                     \u001b[0;32melse\u001b[0m\u001b[0;34m:\u001b[0m\u001b[0;34m\u001b[0m\u001b[0;34m\u001b[0m\u001b[0m\n\u001b[0;32m-> 1806\u001b[0;31m                         \u001b[0mhook_result\u001b[0m \u001b[0;34m=\u001b[0m \u001b[0mhook\u001b[0m\u001b[0;34m(\u001b[0m\u001b[0mself\u001b[0m\u001b[0;34m,\u001b[0m \u001b[0margs\u001b[0m\u001b[0;34m,\u001b[0m \u001b[0mresult\u001b[0m\u001b[0;34m)\u001b[0m\u001b[0;34m\u001b[0m\u001b[0;34m\u001b[0m\u001b[0m\n\u001b[0m\u001b[1;32m   1807\u001b[0m \u001b[0;34m\u001b[0m\u001b[0m\n\u001b[1;32m   1808\u001b[0m                     \u001b[0;32mif\u001b[0m \u001b[0mhook_result\u001b[0m \u001b[0;32mis\u001b[0m \u001b[0;32mnot\u001b[0m \u001b[0;32mNone\u001b[0m\u001b[0;34m:\u001b[0m\u001b[0;34m\u001b[0m\u001b[0;34m\u001b[0m\u001b[0m\n",
            "\u001b[0;32m/usr/local/lib/python3.11/dist-packages/wandb/integration/torch/wandb_torch.py\u001b[0m in \u001b[0;36m<lambda>\u001b[0;34m(mod, inp, outp)\u001b[0m\n\u001b[1;32m    111\u001b[0m         \u001b[0;32mtry\u001b[0m\u001b[0;34m:\u001b[0m\u001b[0;34m\u001b[0m\u001b[0;34m\u001b[0m\u001b[0m\n\u001b[1;32m    112\u001b[0m             hook = module.register_forward_hook(\n\u001b[0;32m--> 113\u001b[0;31m                 lambda mod, inp, outp: parameter_log_hook(\n\u001b[0m\u001b[1;32m    114\u001b[0m                     \u001b[0mmod\u001b[0m\u001b[0;34m,\u001b[0m \u001b[0minp\u001b[0m\u001b[0;34m,\u001b[0m \u001b[0moutp\u001b[0m\u001b[0;34m,\u001b[0m \u001b[0mlog_track_params\u001b[0m\u001b[0;34m\u001b[0m\u001b[0;34m\u001b[0m\u001b[0m\n\u001b[1;32m    115\u001b[0m                 )\n",
            "\u001b[0;32m/usr/local/lib/python3.11/dist-packages/wandb/integration/torch/wandb_torch.py\u001b[0m in \u001b[0;36mparameter_log_hook\u001b[0;34m(module, input_, output, log_track)\u001b[0m\n\u001b[1;32m    106\u001b[0m                 \u001b[0;32melse\u001b[0m\u001b[0;34m:\u001b[0m\u001b[0;34m\u001b[0m\u001b[0;34m\u001b[0m\u001b[0m\n\u001b[1;32m    107\u001b[0m                     \u001b[0mdata\u001b[0m \u001b[0;34m=\u001b[0m \u001b[0mparameter\u001b[0m\u001b[0;34m\u001b[0m\u001b[0;34m\u001b[0m\u001b[0m\n\u001b[0;32m--> 108\u001b[0;31m                 \u001b[0mself\u001b[0m\u001b[0;34m.\u001b[0m\u001b[0mlog_tensor_stats\u001b[0m\u001b[0;34m(\u001b[0m\u001b[0mdata\u001b[0m\u001b[0;34m.\u001b[0m\u001b[0mcpu\u001b[0m\u001b[0;34m(\u001b[0m\u001b[0;34m)\u001b[0m\u001b[0;34m,\u001b[0m \u001b[0;34m\"parameters/\"\u001b[0m \u001b[0;34m+\u001b[0m \u001b[0mprefix\u001b[0m \u001b[0;34m+\u001b[0m \u001b[0mname\u001b[0m\u001b[0;34m)\u001b[0m\u001b[0;34m\u001b[0m\u001b[0;34m\u001b[0m\u001b[0m\n\u001b[0m\u001b[1;32m    109\u001b[0m \u001b[0;34m\u001b[0m\u001b[0m\n\u001b[1;32m    110\u001b[0m         \u001b[0mlog_track_params\u001b[0m \u001b[0;34m=\u001b[0m \u001b[0mlog_track_init\u001b[0m\u001b[0;34m(\u001b[0m\u001b[0mlog_freq\u001b[0m\u001b[0;34m)\u001b[0m\u001b[0;34m\u001b[0m\u001b[0;34m\u001b[0m\u001b[0m\n",
            "\u001b[0;32m/usr/local/lib/python3.11/dist-packages/wandb/integration/torch/wandb_torch.py\u001b[0m in \u001b[0;36mlog_tensor_stats\u001b[0;34m(self, tensor, name)\u001b[0m\n\u001b[1;32m    252\u001b[0m             \u001b[0mbins\u001b[0m \u001b[0;34m=\u001b[0m \u001b[0mtorch\u001b[0m\u001b[0;34m.\u001b[0m\u001b[0mTensor\u001b[0m\u001b[0;34m(\u001b[0m\u001b[0mbins_np\u001b[0m\u001b[0;34m)\u001b[0m\u001b[0;34m\u001b[0m\u001b[0;34m\u001b[0m\u001b[0m\n\u001b[1;32m    253\u001b[0m \u001b[0;34m\u001b[0m\u001b[0m\n\u001b[0;32m--> 254\u001b[0;31m         wandb.run._log(\n\u001b[0m\u001b[1;32m    255\u001b[0m             \u001b[0;34m{\u001b[0m\u001b[0mname\u001b[0m\u001b[0;34m:\u001b[0m \u001b[0mwandb\u001b[0m\u001b[0;34m.\u001b[0m\u001b[0mHistogram\u001b[0m\u001b[0;34m(\u001b[0m\u001b[0mnp_histogram\u001b[0m\u001b[0;34m=\u001b[0m\u001b[0;34m(\u001b[0m\u001b[0mtensor\u001b[0m\u001b[0;34m.\u001b[0m\u001b[0mtolist\u001b[0m\u001b[0;34m(\u001b[0m\u001b[0;34m)\u001b[0m\u001b[0;34m,\u001b[0m \u001b[0mbins\u001b[0m\u001b[0;34m.\u001b[0m\u001b[0mtolist\u001b[0m\u001b[0;34m(\u001b[0m\u001b[0;34m)\u001b[0m\u001b[0;34m)\u001b[0m\u001b[0;34m)\u001b[0m\u001b[0;34m}\u001b[0m\u001b[0;34m,\u001b[0m\u001b[0;34m\u001b[0m\u001b[0;34m\u001b[0m\u001b[0m\n\u001b[1;32m    256\u001b[0m             \u001b[0mcommit\u001b[0m\u001b[0;34m=\u001b[0m\u001b[0;32mFalse\u001b[0m\u001b[0;34m,\u001b[0m\u001b[0;34m\u001b[0m\u001b[0;34m\u001b[0m\u001b[0m\n",
            "\u001b[0;31mAttributeError\u001b[0m: 'NoneType' object has no attribute '_log'"
          ]
        }
      ],
      "source": [
        "import torch\n",
        "import torch.nn as nn\n",
        "import torch.nn.functional as F\n",
        "import torch.optim as optim\n",
        "import wandb\n",
        "import numpy as np\n",
        "import time\n",
        "\n",
        "def compute_error_rate(model, data_loader, device):\n",
        "    model.eval()\n",
        "    total, correct = 0, 0\n",
        "    with torch.no_grad():\n",
        "        for x, y in data_loader:\n",
        "            x, y = x.to(device), y.to(device)\n",
        "            out = model(x)\n",
        "            _, predictions = out.max(dim=1)\n",
        "            total += y.size(0)\n",
        "            correct += (predictions == y).sum().item()\n",
        "    return 1 - correct / total\n",
        "\n",
        "def prune_weights(model, pruning_percentage=0.5):\n",
        "    for name, param in model.named_parameters():\n",
        "        if 'weight' in name:\n",
        "            weight_abs = param.abs()\n",
        "            num_prune = int(pruning_percentage * weight_abs.numel())\n",
        "            threshold = torch.topk(weight_abs.view(-1), num_prune, largest=False).values[-1]\n",
        "            mask = weight_abs >= threshold\n",
        "            param.data *= mask.view_as(param)\n",
        "\n",
        "def SGD(\n",
        "    model,\n",
        "    data_loaders,\n",
        "    alpha=1e-4,\n",
        "    epsilon=0.0,\n",
        "    decay=0.0,\n",
        "    num_epochs=1,\n",
        "    max_num_epochs=np.nan,\n",
        "    patience_expansion=1.5,\n",
        "    log_every=100,\n",
        "    device=\"cpu\",\n",
        "    name=\"\"\n",
        "):\n",
        "    model.train()\n",
        "    model.to(device)\n",
        "    for data_loader in data_loaders.values():\n",
        "        if isinstance(data_loader, InMemDataLoader):\n",
        "            data_loader.to(device)\n",
        "\n",
        "    wandb.init(project=\"SGD-Training\", name=name, config={\"alpha\": alpha, \"epsilon\": epsilon, \"decay\": decay})\n",
        "\n",
        "    velocities = [torch.zeros(p.shape, device=device) for p in model.parameters()]\n",
        "    iter_ = 0\n",
        "    epoch = 0\n",
        "    best_params = None\n",
        "    best_val_err = np.inf\n",
        "    history = {\"train_losses\": [], \"train_errs\": [], \"val_errs\": []}\n",
        "    wandb.watch(model, log=\"all\")\n",
        "\n",
        "    try:\n",
        "        tstart = time.time()\n",
        "        siter = iter_\n",
        "        while epoch < num_epochs:\n",
        "            model.train()\n",
        "            epoch += 1\n",
        "            if epoch > max_num_epochs:\n",
        "                break\n",
        "\n",
        "            if epoch % 5 == 0:\n",
        "                alpha *= 0.5\n",
        "\n",
        "            for x, y in data_loaders[\"train\"]:\n",
        "                x = x.to(device)\n",
        "                y = y.to(device)\n",
        "                iter_ += 1\n",
        "                out = model(x)\n",
        "                loss = model.loss(out, y)\n",
        "                loss.backward()\n",
        "                _, predictions = out.max(dim=1)\n",
        "                batch_err_rate = (predictions != y).sum().item() / out.size(0)\n",
        "\n",
        "                history[\"train_losses\"].append(loss.item())\n",
        "                history[\"train_errs\"].append(batch_err_rate)\n",
        "\n",
        "                wandb.log({\"loss\": loss.item(), \"error_rate\": batch_err_rate})\n",
        "\n",
        "                with torch.no_grad():\n",
        "                    for (name, p), v in zip(model.named_parameters(), velocities):\n",
        "                        if \"weight\" in name:\n",
        "                            p.grad += 2 * p * decay\n",
        "\n",
        "                        v_prev = v[...]\n",
        "                        v[...] = epsilon * v[...] - alpha * p.grad\n",
        "                        p += (1 + epsilon) * v[...] - epsilon * v_prev\n",
        "\n",
        "                        p.grad.zero_()\n",
        "\n",
        "                if iter_ % log_every == 0:\n",
        "                    num_iter = iter_ - siter + 1\n",
        "                    print(\n",
        "                        \"Minibatch {0: >6}  | loss {1: >5.2f} | err rate {2: >5.2f}%, steps/s {3: >5.2f}\".format(\n",
        "                            iter_,\n",
        "                            loss.item(),\n",
        "                            batch_err_rate * 100.0,\n",
        "                            num_iter / (time.time() - tstart),\n",
        "                        )\n",
        "                    )\n",
        "                    tstart = time.time()\n",
        "\n",
        "            val_err_rate = compute_error_rate(model, data_loaders[\"valid\"], device)\n",
        "            history[\"val_errs\"].append((iter_, val_err_rate))\n",
        "            wandb.log({\"val_error_rate\": val_err_rate})\n",
        "\n",
        "            if val_err_rate < best_val_err:\n",
        "                num_epochs = int(np.maximum(num_epochs, epoch * patience_expansion + 1))\n",
        "                best_epoch = epoch\n",
        "                best_val_err = val_err_rate\n",
        "                best_params = [p.detach().cpu() for p in model.parameters()]\n",
        "            clear_output(True)\n",
        "            m = \"After epoch {0: >2} | valid err rate: {1: >5.2f}% | doing {2: >3} epochs\".format(\n",
        "                epoch, val_err_rate * 100.0, num_epochs\n",
        "            )\n",
        "            print(\"{0}\\n{1}\\n{0}\".format(\"-\" * len(m), m))\n",
        "\n",
        "    except KeyboardInterrupt:\n",
        "        pass\n",
        "\n",
        "    if best_params is not None:\n",
        "        print(\"\\nLoading best params on validation set (epoch %d)\\n\" % (best_epoch))\n",
        "        with torch.no_grad():\n",
        "            for param, best_param in zip(model.parameters(), best_params):\n",
        "                param[...] = best_param\n",
        "\n",
        "    test_err_rate = compute_error_rate(model, data_loaders[\"test\"], device)\n",
        "    m = (\n",
        "        f\"Test error rate: {test_err_rate * 100.0:.3f}%, \"\n",
        "        f\"training took {time.time() - tstart:.0f}s.\"\n",
        "    )\n",
        "    print(\"{0}\\n{1}\\n{0}\".format(\"-\" * len(m), m))\n",
        "    wandb.log({\n",
        "        \"test_err_rate\": test_err_rate,\n",
        "        \"training_time\": time.time() - tstart\n",
        "    })\n",
        "    wandb.finish()\n",
        "\n",
        "def train_and_prune(model, data_loaders, alpha=1e-4, epsilon=0.0, num_epochs=1, max_num_epochs=np.nan, patience_expansion=1.5, log_every=100, device=\"cpu\", pruning_percentage=0.5, decay=0.0):\n",
        "    SGD(model, data_loaders, alpha=alpha, epsilon=epsilon, num_epochs=num_epochs, max_num_epochs=max_num_epochs, patience_expansion=patience_expansion, log_every=log_every, device=device, name=\"Initial_Training\", decay=decay)\n",
        "\n",
        "    best_val_err = np.inf\n",
        "    prune_iterations = 0\n",
        "    while prune_iterations < 4:\n",
        "        print(f\"Pruning iteration {prune_iterations + 1}\")\n",
        "        prune_weights(model, pruning_percentage)\n",
        "\n",
        "        print(\"Retraining after pruning...\")\n",
        "        SGD(model, data_loaders, alpha=alpha, epsilon=epsilon, num_epochs=num_epochs, max_num_epochs=max_num_epochs, patience_expansion=patience_expansion, log_every=log_every, device=device, name=f\"Pruning_Iteration_{prune_iterations + 1}\", decay=decay)\n",
        "\n",
        "        val_err_rate = compute_error_rate(model, data_loaders[\"valid\"], device)\n",
        "        print(f\"Validation error rate after pruning iteration {prune_iterations + 1}: {val_err_rate * 100:.2f}%\")\n",
        "\n",
        "        if val_err_rate < best_val_err + 0.001:\n",
        "            best_val_err = val_err_rate\n",
        "            prune_iterations += 1\n",
        "        else:\n",
        "            print(\"Validation error rate increased after pruning. Stopping pruning.\")\n",
        "            break\n",
        "\n",
        "class Model(nn.Module):\n",
        "    def __init__(self, *args, **kwargs):\n",
        "        super(Model, self).__init__()\n",
        "        self.layers = nn.Sequential(*args, **kwargs)\n",
        "\n",
        "    def forward(self, X):\n",
        "        X = X.view(X.size(0), -1)\n",
        "        return self.layers(X)\n",
        "\n",
        "    def loss(self, Out, Targets):\n",
        "        return F.cross_entropy(Out, Targets)\n",
        "\n",
        "model = Model(\n",
        "    nn.Linear(28*28, 1000),\n",
        "    nn.ReLU(),\n",
        "    nn.Linear(1000, 10)\n",
        ")\n",
        "\n",
        "with torch.no_grad():\n",
        "    for name, p in model.named_parameters():\n",
        "        if \"weight\" in name:\n",
        "            p.normal_(0, 0.5)\n",
        "        elif \"bias\" in name:\n",
        "            p.zero_()\n",
        "\n",
        "device = 'cuda' if torch.cuda.is_available() else 'cpu'\n",
        "\n",
        "train_and_prune(model, mnist_loaders, alpha=0.01, epsilon=0.99, decay=0.0005, num_epochs=50, max_num_epochs=50, device=device, pruning_percentage=0.5)\n",
        "\n",
        "test_err_rate = compute_error_rate(model, mnist_loaders[\"test\"], device)\n",
        "print(f\"Final test error rate: {test_err_rate * 100:.3f}%\")\n"
      ]
    },
    {
      "cell_type": "markdown",
      "metadata": {
        "id": "VEjeKUlltFil"
      },
      "source": [
        "# HYPERPARAMETER_TUNER"
      ]
    },
    {
      "cell_type": "code",
      "execution_count": null,
      "metadata": {
        "colab": {
          "background_save": true,
          "base_uri": "https://localhost:8080/",
          "height": 1000
        },
        "id": "k8GerXlMAf9P",
        "outputId": "8beb540f-ca41-4040-a408-84fac30e9478"
      },
      "outputs": [
        {
          "data": {
            "text/html": [],
            "text/plain": [
              "<IPython.core.display.HTML object>"
            ]
          },
          "metadata": {},
          "output_type": "display_data"
        },
        {
          "data": {
            "text/html": [
              "<br>    <style><br>        .wandb-row {<br>            display: flex;<br>            flex-direction: row;<br>            flex-wrap: wrap;<br>            justify-content: flex-start;<br>            width: 100%;<br>        }<br>        .wandb-col {<br>            display: flex;<br>            flex-direction: column;<br>            flex-basis: 100%;<br>            flex: 1;<br>            padding: 10px;<br>        }<br>    </style><br><div class=\"wandb-row\"><div class=\"wandb-col\"><h3>Run history:</h3><br/><table class=\"wandb\"><tr><td>test_error_rate</td><td>▁</td></tr><tr><td>train_error_rate</td><td>█▂▁▂▂▁▁▂▁▁▁▁▁▂▁▁▁▁▁▁▁▁▁▂▁▁▁▁▁▁▁▁▁▁▁▁▁▁▁▁</td></tr><tr><td>train_loss</td><td>█▇▄▅▃▃▂▃▃▄▂▁▂▂▃▂▃▃▃▂▂▃▃▂▂▂▁▂▁▂▁▁▁▁▁▁▂▁▂▁</td></tr><tr><td>val_error_rate</td><td>█▅▄▃▂▂▂▂▁▁▁▁▁▁▁▁▁▁▁▁</td></tr></table><br/></div><div class=\"wandb-col\"><h3>Run summary:</h3><br/><table class=\"wandb\"><tr><td>test_error_rate</td><td>0.0243</td></tr><tr><td>train_error_rate</td><td>0.0125</td></tr><tr><td>train_loss</td><td>0.05567</td></tr><tr><td>val_error_rate</td><td>0.0257</td></tr></table><br/></div></div>"
            ],
            "text/plain": [
              "<IPython.core.display.HTML object>"
            ]
          },
          "metadata": {},
          "output_type": "display_data"
        },
        {
          "data": {
            "text/html": [
              " View run <strong style=\"color:#cdcd00\">playful-disco-21</strong> at: <a href='https://wandb.ai/kicza/hypertuner/runs/wf7oo7x9' target=\"_blank\">https://wandb.ai/kicza/hypertuner/runs/wf7oo7x9</a><br> View project at: <a href='https://wandb.ai/kicza/hypertuner' target=\"_blank\">https://wandb.ai/kicza/hypertuner</a><br>Synced 5 W&B file(s), 0 media file(s), 0 artifact file(s) and 0 other file(s)"
            ],
            "text/plain": [
              "<IPython.core.display.HTML object>"
            ]
          },
          "metadata": {},
          "output_type": "display_data"
        },
        {
          "data": {
            "text/html": [
              "Find logs at: <code>./wandb/run-20250322_134131-wf7oo7x9/logs</code>"
            ],
            "text/plain": [
              "<IPython.core.display.HTML object>"
            ]
          },
          "metadata": {},
          "output_type": "display_data"
        },
        {
          "name": "stdout",
          "output_type": "stream",
          "text": [
            "Best hyperparameters found: {'learning_rate': 0.024366089795417968, 'filters_1': 49, 'filters_2': 54, 'kernel_size_1': 5, 'kernel_size_2': 5, 'activation': <class 'torch.nn.modules.activation.ReLU'>, 'fc_neurons': 1641}\n",
            "Best test accuracy: 1.15%\n"
          ]
        }
      ],
      "source": [
        "import random\n",
        "import torch\n",
        "import torch.nn as nn\n",
        "import time\n",
        "import numpy as np\n",
        "import wandb\n",
        "from torch.utils.data import DataLoader\n",
        "from torchvision import datasets, transforms\n",
        "\n",
        "\n",
        "def random_search_space():\n",
        "    return {\n",
        "        'learning_rate': 10 ** random.uniform(-5, -1),\n",
        "        'filters_1': random.randint(8, 64),  # Number of filters in the first convolutional layer\n",
        "        'filters_2': random.randint(16, 128),  # Number of filters in the second convolutional layer\n",
        "        'kernel_size_1': random.choice([3, 5]),  # Kernel size for first convolution layer\n",
        "        'kernel_size_2': random.choice([3, 5]),  # Kernel size for second convolution layer\n",
        "        'activation': random.choice([nn.ReLU, nn.Sigmoid]),  # Choose activation function\n",
        "        'fc_neurons': random.randint(128, 2048),  # Neurons in the fully connected layer\n",
        "    }\n",
        "\n",
        "\n",
        "class ConvModel(nn.Module):\n",
        "    def __init__(self, filters_1, filters_2, kernel_size_1, kernel_size_2, activation, fc_neurons):\n",
        "        super(ConvModel, self).__init__()\n",
        "\n",
        "        self.conv1 = nn.Sequential(\n",
        "            nn.Conv2d(in_channels=1, out_channels=filters_1, kernel_size=kernel_size_1, stride=1, padding=kernel_size_1 // 2),\n",
        "            activation(),\n",
        "        )\n",
        "        self.maxpool1 = nn.MaxPool2d(kernel_size=2)\n",
        "\n",
        "        self.conv2 = nn.Sequential(\n",
        "            nn.Conv2d(filters_1, filters_2, kernel_size_2, stride=1, padding=kernel_size_2 // 2),\n",
        "            activation(),\n",
        "        )\n",
        "        self.maxpool2 = nn.MaxPool2d(2)\n",
        "\n",
        "        self.fc = nn.Linear(filters_2 * 7 * 7, fc_neurons)\n",
        "        self.out = nn.Linear(fc_neurons, 10)\n",
        "\n",
        "    def forward(self, X):\n",
        "        X = self.conv1(X)\n",
        "        X = self.maxpool1(X)\n",
        "        X = self.conv2(X)\n",
        "        X = self.maxpool2(X)\n",
        "        X = X.view(X.size(0), -1)\n",
        "        X = self.fc(X)\n",
        "        output = self.out(X)\n",
        "        return output\n",
        "\n",
        "    def loss(self, Out, Targets):\n",
        "        return F.cross_entropy(Out, Targets)\n",
        "\n",
        "\n",
        "def compute_error_rate(model, data_loader, device=\"cpu\"):\n",
        "    model.eval()\n",
        "    model.to(device)\n",
        "    num_errs = 0.0\n",
        "    num_examples = 0\n",
        "    with torch.no_grad():\n",
        "        for x, y in data_loader:\n",
        "            x = x.to(device)\n",
        "            y = y.to(device)\n",
        "            outputs = model(x)\n",
        "            _, predictions = outputs.data.max(dim=1)\n",
        "            num_errs += (predictions != y.data).sum().item()\n",
        "            num_examples += x.size(0)\n",
        "    return num_errs / num_examples\n",
        "\n",
        "\n",
        "def SGD(\n",
        "    model,\n",
        "    data_loaders,\n",
        "    alpha=1e-4,\n",
        "    epsilon=0.0,\n",
        "    decay=0.0,\n",
        "    num_epochs=1,\n",
        "    max_num_epochs=20,\n",
        "    patience_expansion=1.5,\n",
        "    log_every=100,\n",
        "    device=\"cpu\",\n",
        "):\n",
        "\n",
        "    model.train()\n",
        "    model.to(device)\n",
        "    for data_loader in data_loaders.values():\n",
        "        if isinstance(data_loader, InMemDataLoader):\n",
        "            data_loader.to(device)\n",
        "\n",
        "    velocities = [torch.zeros(p.shape, device=device) for p in model.parameters()]\n",
        "    iter_ = 0\n",
        "    epoch = 0\n",
        "    best_params = None\n",
        "    best_val_err = np.inf\n",
        "    history = {\"train_losses\": [], \"train_errs\": [], \"val_errs\": []}\n",
        "    print(\"Training the model!\")\n",
        "    print(\"Interrupt at any time to evaluate the best validation model so far.\")\n",
        "    try:\n",
        "        tstart = time.time()\n",
        "        siter = iter_\n",
        "        while epoch < num_epochs:\n",
        "            model.train()\n",
        "            epoch += 1\n",
        "            if epoch > max_num_epochs:\n",
        "                break\n",
        "\n",
        "            if epoch % 5 == 0:\n",
        "                alpha *= 0.5\n",
        "\n",
        "            for x, y in data_loaders[\"train\"]:\n",
        "                x = x.to(device)\n",
        "                y = y.to(device)\n",
        "                iter_ += 1\n",
        "                out = model(x)\n",
        "                loss = model.loss(out, y)\n",
        "                loss.backward()\n",
        "                _, predictions = out.max(dim=1)\n",
        "                batch_err_rate = (predictions != y).sum().item() / out.size(0)\n",
        "\n",
        "                history[\"train_losses\"].append(loss.item())\n",
        "                history[\"train_errs\"].append(batch_err_rate)\n",
        "\n",
        "\n",
        "                wandb.log({\"train_loss\": loss.item(), \"train_error_rate\": batch_err_rate})\n",
        "\n",
        "                with torch.no_grad():\n",
        "                    for (name, p), v in zip(model.named_parameters(), velocities):\n",
        "                        if \"weight\" in name:\n",
        "                            p.grad += 2 * p * decay\n",
        "\n",
        "                        v_prev = v[...]\n",
        "                        v[...] = epsilon * v[...] - alpha * p.grad\n",
        "                        p += (1 + epsilon) * v[...] - epsilon * v_prev\n",
        "                        p.grad.zero_()\n",
        "\n",
        "                if iter_ % log_every == 0:\n",
        "                    num_iter = iter_ - siter + 1\n",
        "                    print(\n",
        "                        \"Minibatch {0: >6}  | loss {1: >5.2f} | err rate {2: >5.2f}%, steps/s {3: >5.2f}\".format(\n",
        "                            iter_,\n",
        "                            loss.item(),\n",
        "                            batch_err_rate * 100.0,\n",
        "                            num_iter / (time.time() - tstart),\n",
        "                        )\n",
        "                    )\n",
        "                    tstart = time.time()\n",
        "\n",
        "            val_err_rate = compute_error_rate(model, data_loaders[\"valid\"], device)\n",
        "            history[\"val_errs\"].append((iter_, val_err_rate))\n",
        "\n",
        "\n",
        "            wandb.log({\"val_error_rate\": val_err_rate})\n",
        "\n",
        "            if val_err_rate < best_val_err:\n",
        "                num_epochs = int(np.maximum(num_epochs, epoch * patience_expansion + 1))\n",
        "                best_epoch = epoch\n",
        "                best_val_err = val_err_rate\n",
        "                best_params = [p.detach().cpu() for p in model.parameters()]\n",
        "            clear_output(True)\n",
        "            m = \"After epoch {0: >2} | valid err rate: {1: >5.2f}% | doing {2: >3} epochs\".format(\n",
        "                epoch, val_err_rate * 100.0, num_epochs\n",
        "            )\n",
        "            print(\"{0}\\n{1}\\n{0}\".format(\"-\" * len(m), m))\n",
        "\n",
        "    except KeyboardInterrupt:\n",
        "        pass\n",
        "\n",
        "    if best_params is not None:\n",
        "        print(\"\\nLoading best params on validation set (epoch %d)\\n\" % (best_epoch))\n",
        "        with torch.no_grad():\n",
        "            for param, best_param in zip(model.parameters(), best_params):\n",
        "                param[...] = best_param\n",
        "    return history\n",
        "\n",
        "\n",
        "def random_search(num_trials=10, max_epochs=50):\n",
        "    best_val_accuracy = float('inf')\n",
        "    best_params = None\n",
        "    for trial in range(num_trials):\n",
        "        params = random_search_space()\n",
        "\n",
        "\n",
        "        wandb.init(project=\"hypertuner\", entity=\"kicza\", config=params)\n",
        "\n",
        "        model = ConvModel(\n",
        "            filters_1=params[\"filters_1\"],\n",
        "            filters_2=params[\"filters_2\"],\n",
        "            kernel_size_1=params[\"kernel_size_1\"],\n",
        "            kernel_size_2=params[\"kernel_size_2\"],\n",
        "            activation=params[\"activation\"],\n",
        "            fc_neurons=params[\"fc_neurons\"]\n",
        "        )\n",
        "\n",
        "        device = torch.device(\"cuda\" if torch.cuda.is_available() else \"cpu\")\n",
        "\n",
        "        history = SGD(model, mnist_loaders, alpha=params[\"learning_rate\"],\n",
        "                      num_epochs=max_epochs, device=device)\n",
        "\n",
        "        test_error_rate = compute_error_rate(model, mnist_loaders[\"test\"], device)\n",
        "\n",
        "        print(f\"Trial with Params: {params}\")\n",
        "        print(f\"Test Error Rate: {test_error_rate * 100:.2f}%\")\n",
        "\n",
        "\n",
        "        wandb.log({\"test_error_rate\": test_error_rate})\n",
        "\n",
        "        if test_error_rate < best_val_accuracy:\n",
        "            best_val_accuracy = test_error_rate\n",
        "            best_params = params\n",
        "\n",
        "\n",
        "        wandb.finish()\n",
        "\n",
        "    return best_params, best_val_accuracy\n",
        "\n",
        "\n",
        "best_params, best_val_accuracy = random_search(num_trials=20)\n",
        "\n",
        "\n",
        "print(\"Best hyperparameters found:\", best_params)\n",
        "print(f\"Best test accuracy: {best_val_accuracy * 100:.2f}%\")\n"
      ]
    }
  ],
  "metadata": {
    "accelerator": "GPU",
    "colab": {
      "gpuType": "T4",
      "provenance": [],
      "toc_visible": true
    },
    "deepnote": {},
    "deepnote_execution_queue": [],
    "deepnote_notebook_id": "ffaf5b3e-ad2e-45f4-b61f-77edfc82388b",
    "kernelspec": {
      "display_name": "Python 3",
      "name": "python3"
    },
    "language_info": {
      "codemirror_mode": {
        "name": "ipython",
        "version": 3
      },
      "file_extension": ".py",
      "mimetype": "text/x-python",
      "name": "python",
      "nbconvert_exporter": "python",
      "pygments_lexer": "ipython3",
      "version": "3.9.16"
    },
    "widgets": {
      "application/vnd.jupyter.widget-state+json": {
        "aff929258f704995a6cf063e8f34c454": {
          "model_module": "@jupyter-widgets/controls",
          "model_name": "HBoxModel",
          "model_module_version": "1.5.0",
          "state": {
            "_dom_classes": [],
            "_model_module": "@jupyter-widgets/controls",
            "_model_module_version": "1.5.0",
            "_model_name": "HBoxModel",
            "_view_count": null,
            "_view_module": "@jupyter-widgets/controls",
            "_view_module_version": "1.5.0",
            "_view_name": "HBoxView",
            "box_style": "",
            "children": [
              "IPY_MODEL_61ce93e181094fdc9d13f5ead7599d01",
              "IPY_MODEL_a1bdbe3b509c4723a8249e8e90126266",
              "IPY_MODEL_edbc3530ed9e4d939b9b99e33ca9747f"
            ],
            "layout": "IPY_MODEL_b1475419873044c0aede9894fd1dd494"
          }
        },
        "61ce93e181094fdc9d13f5ead7599d01": {
          "model_module": "@jupyter-widgets/controls",
          "model_name": "HTMLModel",
          "model_module_version": "1.5.0",
          "state": {
            "_dom_classes": [],
            "_model_module": "@jupyter-widgets/controls",
            "_model_module_version": "1.5.0",
            "_model_name": "HTMLModel",
            "_view_count": null,
            "_view_module": "@jupyter-widgets/controls",
            "_view_module_version": "1.5.0",
            "_view_name": "HTMLView",
            "description": "",
            "description_tooltip": null,
            "layout": "IPY_MODEL_34b1024de0434ed89f182912d7d7977d",
            "placeholder": "​",
            "style": "IPY_MODEL_4cc886205ad14606b066e1bce3a2b2f2",
            "value": "100%"
          }
        },
        "a1bdbe3b509c4723a8249e8e90126266": {
          "model_module": "@jupyter-widgets/controls",
          "model_name": "FloatProgressModel",
          "model_module_version": "1.5.0",
          "state": {
            "_dom_classes": [],
            "_model_module": "@jupyter-widgets/controls",
            "_model_module_version": "1.5.0",
            "_model_name": "FloatProgressModel",
            "_view_count": null,
            "_view_module": "@jupyter-widgets/controls",
            "_view_module_version": "1.5.0",
            "_view_name": "ProgressView",
            "bar_style": "success",
            "description": "",
            "description_tooltip": null,
            "layout": "IPY_MODEL_b48bcb8821ba4c7c937744b5862c7663",
            "max": 50000,
            "min": 0,
            "orientation": "horizontal",
            "style": "IPY_MODEL_f29f6a32791143bf8d71d133da81bdb6",
            "value": 50000
          }
        },
        "edbc3530ed9e4d939b9b99e33ca9747f": {
          "model_module": "@jupyter-widgets/controls",
          "model_name": "HTMLModel",
          "model_module_version": "1.5.0",
          "state": {
            "_dom_classes": [],
            "_model_module": "@jupyter-widgets/controls",
            "_model_module_version": "1.5.0",
            "_model_name": "HTMLModel",
            "_view_count": null,
            "_view_module": "@jupyter-widgets/controls",
            "_view_module_version": "1.5.0",
            "_view_name": "HTMLView",
            "description": "",
            "description_tooltip": null,
            "layout": "IPY_MODEL_9e5806296c0d43b5afd5936b2e4e2fda",
            "placeholder": "​",
            "style": "IPY_MODEL_1e6e983efd554cf19d851fb3f940e334",
            "value": " 50000/50000 [00:23&lt;00:00, 4551.30it/s]"
          }
        },
        "b1475419873044c0aede9894fd1dd494": {
          "model_module": "@jupyter-widgets/base",
          "model_name": "LayoutModel",
          "model_module_version": "1.2.0",
          "state": {
            "_model_module": "@jupyter-widgets/base",
            "_model_module_version": "1.2.0",
            "_model_name": "LayoutModel",
            "_view_count": null,
            "_view_module": "@jupyter-widgets/base",
            "_view_module_version": "1.2.0",
            "_view_name": "LayoutView",
            "align_content": null,
            "align_items": null,
            "align_self": null,
            "border": null,
            "bottom": null,
            "display": null,
            "flex": null,
            "flex_flow": null,
            "grid_area": null,
            "grid_auto_columns": null,
            "grid_auto_flow": null,
            "grid_auto_rows": null,
            "grid_column": null,
            "grid_gap": null,
            "grid_row": null,
            "grid_template_areas": null,
            "grid_template_columns": null,
            "grid_template_rows": null,
            "height": null,
            "justify_content": null,
            "justify_items": null,
            "left": null,
            "margin": null,
            "max_height": null,
            "max_width": null,
            "min_height": null,
            "min_width": null,
            "object_fit": null,
            "object_position": null,
            "order": null,
            "overflow": null,
            "overflow_x": null,
            "overflow_y": null,
            "padding": null,
            "right": null,
            "top": null,
            "visibility": null,
            "width": null
          }
        },
        "34b1024de0434ed89f182912d7d7977d": {
          "model_module": "@jupyter-widgets/base",
          "model_name": "LayoutModel",
          "model_module_version": "1.2.0",
          "state": {
            "_model_module": "@jupyter-widgets/base",
            "_model_module_version": "1.2.0",
            "_model_name": "LayoutModel",
            "_view_count": null,
            "_view_module": "@jupyter-widgets/base",
            "_view_module_version": "1.2.0",
            "_view_name": "LayoutView",
            "align_content": null,
            "align_items": null,
            "align_self": null,
            "border": null,
            "bottom": null,
            "display": null,
            "flex": null,
            "flex_flow": null,
            "grid_area": null,
            "grid_auto_columns": null,
            "grid_auto_flow": null,
            "grid_auto_rows": null,
            "grid_column": null,
            "grid_gap": null,
            "grid_row": null,
            "grid_template_areas": null,
            "grid_template_columns": null,
            "grid_template_rows": null,
            "height": null,
            "justify_content": null,
            "justify_items": null,
            "left": null,
            "margin": null,
            "max_height": null,
            "max_width": null,
            "min_height": null,
            "min_width": null,
            "object_fit": null,
            "object_position": null,
            "order": null,
            "overflow": null,
            "overflow_x": null,
            "overflow_y": null,
            "padding": null,
            "right": null,
            "top": null,
            "visibility": null,
            "width": null
          }
        },
        "4cc886205ad14606b066e1bce3a2b2f2": {
          "model_module": "@jupyter-widgets/controls",
          "model_name": "DescriptionStyleModel",
          "model_module_version": "1.5.0",
          "state": {
            "_model_module": "@jupyter-widgets/controls",
            "_model_module_version": "1.5.0",
            "_model_name": "DescriptionStyleModel",
            "_view_count": null,
            "_view_module": "@jupyter-widgets/base",
            "_view_module_version": "1.2.0",
            "_view_name": "StyleView",
            "description_width": ""
          }
        },
        "b48bcb8821ba4c7c937744b5862c7663": {
          "model_module": "@jupyter-widgets/base",
          "model_name": "LayoutModel",
          "model_module_version": "1.2.0",
          "state": {
            "_model_module": "@jupyter-widgets/base",
            "_model_module_version": "1.2.0",
            "_model_name": "LayoutModel",
            "_view_count": null,
            "_view_module": "@jupyter-widgets/base",
            "_view_module_version": "1.2.0",
            "_view_name": "LayoutView",
            "align_content": null,
            "align_items": null,
            "align_self": null,
            "border": null,
            "bottom": null,
            "display": null,
            "flex": null,
            "flex_flow": null,
            "grid_area": null,
            "grid_auto_columns": null,
            "grid_auto_flow": null,
            "grid_auto_rows": null,
            "grid_column": null,
            "grid_gap": null,
            "grid_row": null,
            "grid_template_areas": null,
            "grid_template_columns": null,
            "grid_template_rows": null,
            "height": null,
            "justify_content": null,
            "justify_items": null,
            "left": null,
            "margin": null,
            "max_height": null,
            "max_width": null,
            "min_height": null,
            "min_width": null,
            "object_fit": null,
            "object_position": null,
            "order": null,
            "overflow": null,
            "overflow_x": null,
            "overflow_y": null,
            "padding": null,
            "right": null,
            "top": null,
            "visibility": null,
            "width": null
          }
        },
        "f29f6a32791143bf8d71d133da81bdb6": {
          "model_module": "@jupyter-widgets/controls",
          "model_name": "ProgressStyleModel",
          "model_module_version": "1.5.0",
          "state": {
            "_model_module": "@jupyter-widgets/controls",
            "_model_module_version": "1.5.0",
            "_model_name": "ProgressStyleModel",
            "_view_count": null,
            "_view_module": "@jupyter-widgets/base",
            "_view_module_version": "1.2.0",
            "_view_name": "StyleView",
            "bar_color": null,
            "description_width": ""
          }
        },
        "9e5806296c0d43b5afd5936b2e4e2fda": {
          "model_module": "@jupyter-widgets/base",
          "model_name": "LayoutModel",
          "model_module_version": "1.2.0",
          "state": {
            "_model_module": "@jupyter-widgets/base",
            "_model_module_version": "1.2.0",
            "_model_name": "LayoutModel",
            "_view_count": null,
            "_view_module": "@jupyter-widgets/base",
            "_view_module_version": "1.2.0",
            "_view_name": "LayoutView",
            "align_content": null,
            "align_items": null,
            "align_self": null,
            "border": null,
            "bottom": null,
            "display": null,
            "flex": null,
            "flex_flow": null,
            "grid_area": null,
            "grid_auto_columns": null,
            "grid_auto_flow": null,
            "grid_auto_rows": null,
            "grid_column": null,
            "grid_gap": null,
            "grid_row": null,
            "grid_template_areas": null,
            "grid_template_columns": null,
            "grid_template_rows": null,
            "height": null,
            "justify_content": null,
            "justify_items": null,
            "left": null,
            "margin": null,
            "max_height": null,
            "max_width": null,
            "min_height": null,
            "min_width": null,
            "object_fit": null,
            "object_position": null,
            "order": null,
            "overflow": null,
            "overflow_x": null,
            "overflow_y": null,
            "padding": null,
            "right": null,
            "top": null,
            "visibility": null,
            "width": null
          }
        },
        "1e6e983efd554cf19d851fb3f940e334": {
          "model_module": "@jupyter-widgets/controls",
          "model_name": "DescriptionStyleModel",
          "model_module_version": "1.5.0",
          "state": {
            "_model_module": "@jupyter-widgets/controls",
            "_model_module_version": "1.5.0",
            "_model_name": "DescriptionStyleModel",
            "_view_count": null,
            "_view_module": "@jupyter-widgets/base",
            "_view_module_version": "1.2.0",
            "_view_name": "StyleView",
            "description_width": ""
          }
        },
        "638230abb5044a389bdd81ce6b2cb3fd": {
          "model_module": "@jupyter-widgets/controls",
          "model_name": "HBoxModel",
          "model_module_version": "1.5.0",
          "state": {
            "_dom_classes": [],
            "_model_module": "@jupyter-widgets/controls",
            "_model_module_version": "1.5.0",
            "_model_name": "HBoxModel",
            "_view_count": null,
            "_view_module": "@jupyter-widgets/controls",
            "_view_module_version": "1.5.0",
            "_view_name": "HBoxView",
            "box_style": "",
            "children": [
              "IPY_MODEL_dd05569a813444d6a13e0a5e8408ed4a",
              "IPY_MODEL_d83aa1e4af574a71b3fbf9f9aea851e5",
              "IPY_MODEL_db4df82838634e49b9019f383d4848ba"
            ],
            "layout": "IPY_MODEL_30145fd162b142709b3539dead38f5b3"
          }
        },
        "dd05569a813444d6a13e0a5e8408ed4a": {
          "model_module": "@jupyter-widgets/controls",
          "model_name": "HTMLModel",
          "model_module_version": "1.5.0",
          "state": {
            "_dom_classes": [],
            "_model_module": "@jupyter-widgets/controls",
            "_model_module_version": "1.5.0",
            "_model_name": "HTMLModel",
            "_view_count": null,
            "_view_module": "@jupyter-widgets/controls",
            "_view_module_version": "1.5.0",
            "_view_name": "HTMLView",
            "description": "",
            "description_tooltip": null,
            "layout": "IPY_MODEL_f4633e23eed44b61a6aa405858adfee0",
            "placeholder": "​",
            "style": "IPY_MODEL_275e811b5afa4caf9566a56248fa57e6",
            "value": "100%"
          }
        },
        "d83aa1e4af574a71b3fbf9f9aea851e5": {
          "model_module": "@jupyter-widgets/controls",
          "model_name": "FloatProgressModel",
          "model_module_version": "1.5.0",
          "state": {
            "_dom_classes": [],
            "_model_module": "@jupyter-widgets/controls",
            "_model_module_version": "1.5.0",
            "_model_name": "FloatProgressModel",
            "_view_count": null,
            "_view_module": "@jupyter-widgets/controls",
            "_view_module_version": "1.5.0",
            "_view_name": "ProgressView",
            "bar_style": "success",
            "description": "",
            "description_tooltip": null,
            "layout": "IPY_MODEL_728d0d00d8184ae6ad6b216963914c1c",
            "max": 10000,
            "min": 0,
            "orientation": "horizontal",
            "style": "IPY_MODEL_b5fc0f0b70114c0bbde994e744e8005c",
            "value": 10000
          }
        },
        "db4df82838634e49b9019f383d4848ba": {
          "model_module": "@jupyter-widgets/controls",
          "model_name": "HTMLModel",
          "model_module_version": "1.5.0",
          "state": {
            "_dom_classes": [],
            "_model_module": "@jupyter-widgets/controls",
            "_model_module_version": "1.5.0",
            "_model_name": "HTMLModel",
            "_view_count": null,
            "_view_module": "@jupyter-widgets/controls",
            "_view_module_version": "1.5.0",
            "_view_name": "HTMLView",
            "description": "",
            "description_tooltip": null,
            "layout": "IPY_MODEL_a47e8a3d65b04f4bb3b2a0eebfee25f2",
            "placeholder": "​",
            "style": "IPY_MODEL_709efa4f4f484dcfbd154a0ffaea8c0e",
            "value": " 10000/10000 [00:02&lt;00:00, 4708.58it/s]"
          }
        },
        "30145fd162b142709b3539dead38f5b3": {
          "model_module": "@jupyter-widgets/base",
          "model_name": "LayoutModel",
          "model_module_version": "1.2.0",
          "state": {
            "_model_module": "@jupyter-widgets/base",
            "_model_module_version": "1.2.0",
            "_model_name": "LayoutModel",
            "_view_count": null,
            "_view_module": "@jupyter-widgets/base",
            "_view_module_version": "1.2.0",
            "_view_name": "LayoutView",
            "align_content": null,
            "align_items": null,
            "align_self": null,
            "border": null,
            "bottom": null,
            "display": null,
            "flex": null,
            "flex_flow": null,
            "grid_area": null,
            "grid_auto_columns": null,
            "grid_auto_flow": null,
            "grid_auto_rows": null,
            "grid_column": null,
            "grid_gap": null,
            "grid_row": null,
            "grid_template_areas": null,
            "grid_template_columns": null,
            "grid_template_rows": null,
            "height": null,
            "justify_content": null,
            "justify_items": null,
            "left": null,
            "margin": null,
            "max_height": null,
            "max_width": null,
            "min_height": null,
            "min_width": null,
            "object_fit": null,
            "object_position": null,
            "order": null,
            "overflow": null,
            "overflow_x": null,
            "overflow_y": null,
            "padding": null,
            "right": null,
            "top": null,
            "visibility": null,
            "width": null
          }
        },
        "f4633e23eed44b61a6aa405858adfee0": {
          "model_module": "@jupyter-widgets/base",
          "model_name": "LayoutModel",
          "model_module_version": "1.2.0",
          "state": {
            "_model_module": "@jupyter-widgets/base",
            "_model_module_version": "1.2.0",
            "_model_name": "LayoutModel",
            "_view_count": null,
            "_view_module": "@jupyter-widgets/base",
            "_view_module_version": "1.2.0",
            "_view_name": "LayoutView",
            "align_content": null,
            "align_items": null,
            "align_self": null,
            "border": null,
            "bottom": null,
            "display": null,
            "flex": null,
            "flex_flow": null,
            "grid_area": null,
            "grid_auto_columns": null,
            "grid_auto_flow": null,
            "grid_auto_rows": null,
            "grid_column": null,
            "grid_gap": null,
            "grid_row": null,
            "grid_template_areas": null,
            "grid_template_columns": null,
            "grid_template_rows": null,
            "height": null,
            "justify_content": null,
            "justify_items": null,
            "left": null,
            "margin": null,
            "max_height": null,
            "max_width": null,
            "min_height": null,
            "min_width": null,
            "object_fit": null,
            "object_position": null,
            "order": null,
            "overflow": null,
            "overflow_x": null,
            "overflow_y": null,
            "padding": null,
            "right": null,
            "top": null,
            "visibility": null,
            "width": null
          }
        },
        "275e811b5afa4caf9566a56248fa57e6": {
          "model_module": "@jupyter-widgets/controls",
          "model_name": "DescriptionStyleModel",
          "model_module_version": "1.5.0",
          "state": {
            "_model_module": "@jupyter-widgets/controls",
            "_model_module_version": "1.5.0",
            "_model_name": "DescriptionStyleModel",
            "_view_count": null,
            "_view_module": "@jupyter-widgets/base",
            "_view_module_version": "1.2.0",
            "_view_name": "StyleView",
            "description_width": ""
          }
        },
        "728d0d00d8184ae6ad6b216963914c1c": {
          "model_module": "@jupyter-widgets/base",
          "model_name": "LayoutModel",
          "model_module_version": "1.2.0",
          "state": {
            "_model_module": "@jupyter-widgets/base",
            "_model_module_version": "1.2.0",
            "_model_name": "LayoutModel",
            "_view_count": null,
            "_view_module": "@jupyter-widgets/base",
            "_view_module_version": "1.2.0",
            "_view_name": "LayoutView",
            "align_content": null,
            "align_items": null,
            "align_self": null,
            "border": null,
            "bottom": null,
            "display": null,
            "flex": null,
            "flex_flow": null,
            "grid_area": null,
            "grid_auto_columns": null,
            "grid_auto_flow": null,
            "grid_auto_rows": null,
            "grid_column": null,
            "grid_gap": null,
            "grid_row": null,
            "grid_template_areas": null,
            "grid_template_columns": null,
            "grid_template_rows": null,
            "height": null,
            "justify_content": null,
            "justify_items": null,
            "left": null,
            "margin": null,
            "max_height": null,
            "max_width": null,
            "min_height": null,
            "min_width": null,
            "object_fit": null,
            "object_position": null,
            "order": null,
            "overflow": null,
            "overflow_x": null,
            "overflow_y": null,
            "padding": null,
            "right": null,
            "top": null,
            "visibility": null,
            "width": null
          }
        },
        "b5fc0f0b70114c0bbde994e744e8005c": {
          "model_module": "@jupyter-widgets/controls",
          "model_name": "ProgressStyleModel",
          "model_module_version": "1.5.0",
          "state": {
            "_model_module": "@jupyter-widgets/controls",
            "_model_module_version": "1.5.0",
            "_model_name": "ProgressStyleModel",
            "_view_count": null,
            "_view_module": "@jupyter-widgets/base",
            "_view_module_version": "1.2.0",
            "_view_name": "StyleView",
            "bar_color": null,
            "description_width": ""
          }
        },
        "a47e8a3d65b04f4bb3b2a0eebfee25f2": {
          "model_module": "@jupyter-widgets/base",
          "model_name": "LayoutModel",
          "model_module_version": "1.2.0",
          "state": {
            "_model_module": "@jupyter-widgets/base",
            "_model_module_version": "1.2.0",
            "_model_name": "LayoutModel",
            "_view_count": null,
            "_view_module": "@jupyter-widgets/base",
            "_view_module_version": "1.2.0",
            "_view_name": "LayoutView",
            "align_content": null,
            "align_items": null,
            "align_self": null,
            "border": null,
            "bottom": null,
            "display": null,
            "flex": null,
            "flex_flow": null,
            "grid_area": null,
            "grid_auto_columns": null,
            "grid_auto_flow": null,
            "grid_auto_rows": null,
            "grid_column": null,
            "grid_gap": null,
            "grid_row": null,
            "grid_template_areas": null,
            "grid_template_columns": null,
            "grid_template_rows": null,
            "height": null,
            "justify_content": null,
            "justify_items": null,
            "left": null,
            "margin": null,
            "max_height": null,
            "max_width": null,
            "min_height": null,
            "min_width": null,
            "object_fit": null,
            "object_position": null,
            "order": null,
            "overflow": null,
            "overflow_x": null,
            "overflow_y": null,
            "padding": null,
            "right": null,
            "top": null,
            "visibility": null,
            "width": null
          }
        },
        "709efa4f4f484dcfbd154a0ffaea8c0e": {
          "model_module": "@jupyter-widgets/controls",
          "model_name": "DescriptionStyleModel",
          "model_module_version": "1.5.0",
          "state": {
            "_model_module": "@jupyter-widgets/controls",
            "_model_module_version": "1.5.0",
            "_model_name": "DescriptionStyleModel",
            "_view_count": null,
            "_view_module": "@jupyter-widgets/base",
            "_view_module_version": "1.2.0",
            "_view_name": "StyleView",
            "description_width": ""
          }
        },
        "510913cee3404dbea642fad100ae76c2": {
          "model_module": "@jupyter-widgets/controls",
          "model_name": "HBoxModel",
          "model_module_version": "1.5.0",
          "state": {
            "_dom_classes": [],
            "_model_module": "@jupyter-widgets/controls",
            "_model_module_version": "1.5.0",
            "_model_name": "HBoxModel",
            "_view_count": null,
            "_view_module": "@jupyter-widgets/controls",
            "_view_module_version": "1.5.0",
            "_view_name": "HBoxView",
            "box_style": "",
            "children": [
              "IPY_MODEL_ee43ee209735450098f55809abfc4354",
              "IPY_MODEL_2c7619df820f4eb18386135b4fb05e49",
              "IPY_MODEL_be3944f5a1ad4733a249fa88dbed88d0"
            ],
            "layout": "IPY_MODEL_faacf750ed99463b8c92c2681820b958"
          }
        },
        "ee43ee209735450098f55809abfc4354": {
          "model_module": "@jupyter-widgets/controls",
          "model_name": "HTMLModel",
          "model_module_version": "1.5.0",
          "state": {
            "_dom_classes": [],
            "_model_module": "@jupyter-widgets/controls",
            "_model_module_version": "1.5.0",
            "_model_name": "HTMLModel",
            "_view_count": null,
            "_view_module": "@jupyter-widgets/controls",
            "_view_module_version": "1.5.0",
            "_view_name": "HTMLView",
            "description": "",
            "description_tooltip": null,
            "layout": "IPY_MODEL_6b65d74acbdf4b2e868527c29471f629",
            "placeholder": "​",
            "style": "IPY_MODEL_371e68bdd2a34a03a29f97bd18cb2a2a",
            "value": "100%"
          }
        },
        "2c7619df820f4eb18386135b4fb05e49": {
          "model_module": "@jupyter-widgets/controls",
          "model_name": "FloatProgressModel",
          "model_module_version": "1.5.0",
          "state": {
            "_dom_classes": [],
            "_model_module": "@jupyter-widgets/controls",
            "_model_module_version": "1.5.0",
            "_model_name": "FloatProgressModel",
            "_view_count": null,
            "_view_module": "@jupyter-widgets/controls",
            "_view_module_version": "1.5.0",
            "_view_name": "ProgressView",
            "bar_style": "success",
            "description": "",
            "description_tooltip": null,
            "layout": "IPY_MODEL_72e68207bfca41a6aa5a2ecb4610aa4b",
            "max": 10000,
            "min": 0,
            "orientation": "horizontal",
            "style": "IPY_MODEL_18dfc8b266224a1ab2983b5b82716eb2",
            "value": 10000
          }
        },
        "be3944f5a1ad4733a249fa88dbed88d0": {
          "model_module": "@jupyter-widgets/controls",
          "model_name": "HTMLModel",
          "model_module_version": "1.5.0",
          "state": {
            "_dom_classes": [],
            "_model_module": "@jupyter-widgets/controls",
            "_model_module_version": "1.5.0",
            "_model_name": "HTMLModel",
            "_view_count": null,
            "_view_module": "@jupyter-widgets/controls",
            "_view_module_version": "1.5.0",
            "_view_name": "HTMLView",
            "description": "",
            "description_tooltip": null,
            "layout": "IPY_MODEL_94dcb88680bc4d279ca4d0a756ce7286",
            "placeholder": "​",
            "style": "IPY_MODEL_e2f612d8c22d4769a3cd4286f79fd536",
            "value": " 10000/10000 [00:02&lt;00:00, 4598.38it/s]"
          }
        },
        "faacf750ed99463b8c92c2681820b958": {
          "model_module": "@jupyter-widgets/base",
          "model_name": "LayoutModel",
          "model_module_version": "1.2.0",
          "state": {
            "_model_module": "@jupyter-widgets/base",
            "_model_module_version": "1.2.0",
            "_model_name": "LayoutModel",
            "_view_count": null,
            "_view_module": "@jupyter-widgets/base",
            "_view_module_version": "1.2.0",
            "_view_name": "LayoutView",
            "align_content": null,
            "align_items": null,
            "align_self": null,
            "border": null,
            "bottom": null,
            "display": null,
            "flex": null,
            "flex_flow": null,
            "grid_area": null,
            "grid_auto_columns": null,
            "grid_auto_flow": null,
            "grid_auto_rows": null,
            "grid_column": null,
            "grid_gap": null,
            "grid_row": null,
            "grid_template_areas": null,
            "grid_template_columns": null,
            "grid_template_rows": null,
            "height": null,
            "justify_content": null,
            "justify_items": null,
            "left": null,
            "margin": null,
            "max_height": null,
            "max_width": null,
            "min_height": null,
            "min_width": null,
            "object_fit": null,
            "object_position": null,
            "order": null,
            "overflow": null,
            "overflow_x": null,
            "overflow_y": null,
            "padding": null,
            "right": null,
            "top": null,
            "visibility": null,
            "width": null
          }
        },
        "6b65d74acbdf4b2e868527c29471f629": {
          "model_module": "@jupyter-widgets/base",
          "model_name": "LayoutModel",
          "model_module_version": "1.2.0",
          "state": {
            "_model_module": "@jupyter-widgets/base",
            "_model_module_version": "1.2.0",
            "_model_name": "LayoutModel",
            "_view_count": null,
            "_view_module": "@jupyter-widgets/base",
            "_view_module_version": "1.2.0",
            "_view_name": "LayoutView",
            "align_content": null,
            "align_items": null,
            "align_self": null,
            "border": null,
            "bottom": null,
            "display": null,
            "flex": null,
            "flex_flow": null,
            "grid_area": null,
            "grid_auto_columns": null,
            "grid_auto_flow": null,
            "grid_auto_rows": null,
            "grid_column": null,
            "grid_gap": null,
            "grid_row": null,
            "grid_template_areas": null,
            "grid_template_columns": null,
            "grid_template_rows": null,
            "height": null,
            "justify_content": null,
            "justify_items": null,
            "left": null,
            "margin": null,
            "max_height": null,
            "max_width": null,
            "min_height": null,
            "min_width": null,
            "object_fit": null,
            "object_position": null,
            "order": null,
            "overflow": null,
            "overflow_x": null,
            "overflow_y": null,
            "padding": null,
            "right": null,
            "top": null,
            "visibility": null,
            "width": null
          }
        },
        "371e68bdd2a34a03a29f97bd18cb2a2a": {
          "model_module": "@jupyter-widgets/controls",
          "model_name": "DescriptionStyleModel",
          "model_module_version": "1.5.0",
          "state": {
            "_model_module": "@jupyter-widgets/controls",
            "_model_module_version": "1.5.0",
            "_model_name": "DescriptionStyleModel",
            "_view_count": null,
            "_view_module": "@jupyter-widgets/base",
            "_view_module_version": "1.2.0",
            "_view_name": "StyleView",
            "description_width": ""
          }
        },
        "72e68207bfca41a6aa5a2ecb4610aa4b": {
          "model_module": "@jupyter-widgets/base",
          "model_name": "LayoutModel",
          "model_module_version": "1.2.0",
          "state": {
            "_model_module": "@jupyter-widgets/base",
            "_model_module_version": "1.2.0",
            "_model_name": "LayoutModel",
            "_view_count": null,
            "_view_module": "@jupyter-widgets/base",
            "_view_module_version": "1.2.0",
            "_view_name": "LayoutView",
            "align_content": null,
            "align_items": null,
            "align_self": null,
            "border": null,
            "bottom": null,
            "display": null,
            "flex": null,
            "flex_flow": null,
            "grid_area": null,
            "grid_auto_columns": null,
            "grid_auto_flow": null,
            "grid_auto_rows": null,
            "grid_column": null,
            "grid_gap": null,
            "grid_row": null,
            "grid_template_areas": null,
            "grid_template_columns": null,
            "grid_template_rows": null,
            "height": null,
            "justify_content": null,
            "justify_items": null,
            "left": null,
            "margin": null,
            "max_height": null,
            "max_width": null,
            "min_height": null,
            "min_width": null,
            "object_fit": null,
            "object_position": null,
            "order": null,
            "overflow": null,
            "overflow_x": null,
            "overflow_y": null,
            "padding": null,
            "right": null,
            "top": null,
            "visibility": null,
            "width": null
          }
        },
        "18dfc8b266224a1ab2983b5b82716eb2": {
          "model_module": "@jupyter-widgets/controls",
          "model_name": "ProgressStyleModel",
          "model_module_version": "1.5.0",
          "state": {
            "_model_module": "@jupyter-widgets/controls",
            "_model_module_version": "1.5.0",
            "_model_name": "ProgressStyleModel",
            "_view_count": null,
            "_view_module": "@jupyter-widgets/base",
            "_view_module_version": "1.2.0",
            "_view_name": "StyleView",
            "bar_color": null,
            "description_width": ""
          }
        },
        "94dcb88680bc4d279ca4d0a756ce7286": {
          "model_module": "@jupyter-widgets/base",
          "model_name": "LayoutModel",
          "model_module_version": "1.2.0",
          "state": {
            "_model_module": "@jupyter-widgets/base",
            "_model_module_version": "1.2.0",
            "_model_name": "LayoutModel",
            "_view_count": null,
            "_view_module": "@jupyter-widgets/base",
            "_view_module_version": "1.2.0",
            "_view_name": "LayoutView",
            "align_content": null,
            "align_items": null,
            "align_self": null,
            "border": null,
            "bottom": null,
            "display": null,
            "flex": null,
            "flex_flow": null,
            "grid_area": null,
            "grid_auto_columns": null,
            "grid_auto_flow": null,
            "grid_auto_rows": null,
            "grid_column": null,
            "grid_gap": null,
            "grid_row": null,
            "grid_template_areas": null,
            "grid_template_columns": null,
            "grid_template_rows": null,
            "height": null,
            "justify_content": null,
            "justify_items": null,
            "left": null,
            "margin": null,
            "max_height": null,
            "max_width": null,
            "min_height": null,
            "min_width": null,
            "object_fit": null,
            "object_position": null,
            "order": null,
            "overflow": null,
            "overflow_x": null,
            "overflow_y": null,
            "padding": null,
            "right": null,
            "top": null,
            "visibility": null,
            "width": null
          }
        },
        "e2f612d8c22d4769a3cd4286f79fd536": {
          "model_module": "@jupyter-widgets/controls",
          "model_name": "DescriptionStyleModel",
          "model_module_version": "1.5.0",
          "state": {
            "_model_module": "@jupyter-widgets/controls",
            "_model_module_version": "1.5.0",
            "_model_name": "DescriptionStyleModel",
            "_view_count": null,
            "_view_module": "@jupyter-widgets/base",
            "_view_module_version": "1.2.0",
            "_view_name": "StyleView",
            "description_width": ""
          }
        }
      }
    }
  },
  "nbformat": 4,
  "nbformat_minor": 0
}