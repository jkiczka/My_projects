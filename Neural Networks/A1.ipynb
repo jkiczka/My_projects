{
  "cells": [
    {
      "cell_type": "markdown",
      "metadata": {
        "cell_id": "00001-caefeb56-f9c5-4f9e-a096-b89246dc63d7",
        "deepnote_app_coordinates": {
          "h": 5,
          "w": 12,
          "x": 0,
          "y": 6
        },
        "deepnote_cell_type": "markdown",
        "id": "CGXgWugfJ0Vl"
      },
      "source": [
        "## Assignment 1\n",
        "\n",
        "**Submission deadlines:**\n",
        "- get at least **2** points by Tuesday, 11.03.2025\n",
        "- remaining points: last lab session before or on Tuesday, 18.03.2025\n",
        "\n",
        "**Points:** Aim to get 8 out of 14 possible points\n",
        "\n",
        "## Submission instructions\n",
        "The class is held on-site in lab rooms. Please prepare you notebook on your computer or anywhere in the cloud (try using DeepNote or Google Colab).\n",
        "\n",
        "Make sure you know all the questions and answers, and that the notebook contains results; before presentation do `Runtime -> Restart and run all`\n",
        "![Picture title](image-20220302-183151.png)\n",
        "\n",
        "We provide starter code, however you are not required to use it as long as you properly solve the tasks.\n"
      ]
    },
    {
      "cell_type": "markdown",
      "metadata": {
        "cell_id": "00002-c92cc86e-f65f-4e16-9124-9ca4d4265c88",
        "deepnote_app_coordinates": {
          "h": 5,
          "w": 12,
          "x": 0,
          "y": 12
        },
        "deepnote_cell_type": "markdown",
        "id": "5S8iRaCPyO2a"
      },
      "source": [
        "# Task description\n",
        "\n",
        "## TLDR\n",
        "Implement and train a neural network using pure `torch`."
      ]
    },
    {
      "cell_type": "markdown",
      "metadata": {
        "cell_id": "00003-1893a0a0-4515-4960-bce8-37f660543eea",
        "deepnote_app_coordinates": {
          "h": 5,
          "w": 12,
          "x": 0,
          "y": 18
        },
        "deepnote_cell_type": "markdown",
        "id": "JHcz7I2V-bVM"
      },
      "source": [
        "\n",
        "## Problem 1 [2p]\n",
        "Implement a two-layer network, manually set weights and biases to solve the XOR task.\n",
        "\n",
        "A two-layer neural network implementes a function $f: \\mathbb{R}^D \\rightarrow \\mathbb{R}^O$ where $D$ is the input dimensionality and $O$ is the output dinemsionality. The output goes through an intermediate representation (the hidden layer) with dimensionality $H$.\n",
        "\n",
        "The computations are as follows:\n",
        "$$\n",
        "\\begin{aligned}\n",
        "A_1 &= x W_1^T + b_1  & \\qquad\\text{Total input to neurons in the hidden layer (network's first layer)} \\\\\n",
        "O_1 &= \\sigma_1(A_1)  & \\qquad\\text{Output of the hidden layer} \\\\\n",
        "A_2 &= O_1 W_2^T + b_2 & \\qquad\\text{Total input to neurons in the output layer (network's second layer)}\\\\\n",
        "O_2 &= \\sigma_2(A_2)  & \\qquad\\text{Output of the network}\n",
        "\\end{aligned}\n",
        "$$\n",
        "\n",
        "Where $W$ are weight matrices, $b$ are bias vectors, $\\sigma$ are non-linear activation functions (e.g. the logistic sigmoid applied element-wise, or softmax).\n",
        "\n",
        "For the 2D xor problem the network will:\n",
        "- have 2 inputs, 2 hidden neurons, one output\n",
        "- use the logistic sigmoid everywhere (that way we, when hand-designig the weights, we can assume that neurons' outputs are binary).\n",
        "\n",
        "Therrefore the shapes of the data flowing through the network will be:\n",
        "- input: $x\\in\\mathbb{}R^{2}$\n",
        "- hidden layer parameters: $W_1\\in\\mathbb{}R^{2\\times 2}$ and $b_1\\in\\mathbb{}R^{2}$\n",
        "- representations in the hidden layer: $A_1\\in\\mathbb{}R^{2}$ and $O_1\\in\\mathbb{}R^{2}$\n",
        "- output layer parameters: $W_2\\in\\mathbb{}R^{1\\times 2}$ and $b_2\\in\\mathbb{}R^{1}$\n",
        "- representations in the output layer: $A_2\\in\\mathbb{}R^{1}$ and $O_2\\in\\mathbb{}R^{1}$\n",
        "\n",
        "The network can be seen as a logistic regression model, prefixed by a nonlinear transformation of the data.\n",
        "\n",
        "The first tasks consists of:\n",
        "- implementing the network\n",
        "- selecting parametwrs ($W_1, b_1, W_2, b_2$) such that $f(x)\\approx XOR(x_1, x_2)$ where the approximation is die to the sigmoids - the output may be close to 0 or 1, but doesn't need to saturate at 0 or 1.\n",
        "\n",
        "NB: the convention on weight matrix shapes follows linear [layers in PyTorch](https://pytorch.org/docs/stable/generated/torch.nn.Linear.html).\n"
      ]
    },
    {
      "cell_type": "markdown",
      "metadata": {
        "cell_id": "00004-0d502510-cfd1-44da-b88c-da6aaf275617",
        "deepnote_app_coordinates": {
          "h": 5,
          "w": 12,
          "x": 0,
          "y": 24
        },
        "deepnote_cell_type": "markdown",
        "id": "0QSpZxuH-bLe"
      },
      "source": [
        "## Problem 2 [2p]\n",
        "1. Add a backward pass.\n",
        "2. Use a sensible random initialization for weights and biases.\n",
        "3. Numerically check the correctness of your gradient computation.\n",
        "\n",
        "There is nice article about taking derivative over vectors and vector chain rule: https://explained.ai/matrix-calculus/ if someone don't have experience with such calculus.\n"
      ]
    },
    {
      "cell_type": "markdown",
      "metadata": {
        "cell_id": "00005-96083315-f850-4103-946e-cc9b11377543",
        "deepnote_app_coordinates": {
          "h": 5,
          "w": 12,
          "x": 0,
          "y": 30
        },
        "deepnote_cell_type": "markdown",
        "id": "s1Tn8j0m-bAy"
      },
      "source": [
        "## Problem 3 [2p]\n",
        "1. Implement gradient descent\n",
        "2. Train your network to solve 3D XOR\n",
        "3. Try several hidden layer sizes, for each size record the fracton of successful trainings. Then answer:\n",
        "    - What is the minimal hidden size required to solve 3D XOR (even with low reliability, when the training has to be repeated multiple times)\n",
        "    - What is the minimal hidden size required to reliably solve 3D XOR\n",
        "    - Which networks are easier to train - small or large ones? Why?\n"
      ]
    },
    {
      "cell_type": "markdown",
      "metadata": {
        "cell_id": "00006-94cc4eb9-0202-4308-9a9e-007db44a6a98",
        "deepnote_app_coordinates": {
          "h": 5,
          "w": 12,
          "x": 0,
          "y": 36
        },
        "deepnote_cell_type": "markdown",
        "id": "RP9Pvpmf-a2A"
      },
      "source": [
        "## Problem 4 [1p]\n",
        "Replace the first nonlinearity with the [ReLU](https://en.wikipedia.org/wiki/Rectifier_(neural_networks)) activation function. Find a network architecture which reliably learns the 3D XOR problem.\n"
      ]
    },
    {
      "cell_type": "markdown",
      "metadata": {
        "cell_id": "00007-9e6e984c-5131-4333-837b-7e57c4bfb650",
        "deepnote_app_coordinates": {
          "h": 5,
          "w": 12,
          "x": 0,
          "y": 42
        },
        "deepnote_cell_type": "markdown",
        "id": "cGgtpe-w-asB"
      },
      "source": [
        "## Problem 5 [1p]\n",
        "Add a second hidden layer to your network, implement the forward and backward pass, then demonstrate training.\n"
      ]
    },
    {
      "cell_type": "markdown",
      "metadata": {
        "cell_id": "00008-86ea4bdd-83dc-4197-baad-d216fbacc786",
        "deepnote_app_coordinates": {
          "h": 5,
          "w": 12,
          "x": 0,
          "y": 48
        },
        "deepnote_cell_type": "markdown",
        "id": "Pe-pcFeO-aiE"
      },
      "source": [
        "## Problem 6 [2p]\n",
        "Implement a way to have a _variable number_ of hidden layers. Check how deep sigmoid or ReLU networks you  can train. For simplicity you can assume that all hidden layers have the same number of neurons, and use the same activation function.\n"
      ]
    },
    {
      "cell_type": "markdown",
      "metadata": {
        "id": "TGaE3iiZPSnB"
      },
      "source": [
        "## Problem 7 [2p]\n",
        "Consider the following function $\\boldsymbol f: \\mathbb R^n \\to \\mathbb R^k$:\n",
        "$$ \\hat{\\boldsymbol y} := \\boldsymbol f(\\boldsymbol x\\,;\\,\\,W, \\boldsymbol b) = \\mathrm{softmax}(\\boldsymbol z) \\qquad (\\boldsymbol x \\in \\mathbb R^{n}, \\, W \\in\\mathbb R^{k\\times n}, \\, \\boldsymbol b \\in \\mathbb R^k), $$\n",
        "where $$ \\boldsymbol z = W  \\boldsymbol x + \\boldsymbol b $$\n",
        "and $W, \\boldsymbol b$ are the parameters.\n",
        "\n",
        "Analytically derive the form of the following gradients:\n",
        "\n",
        "$$ \\frac{\\partial \\hat{\\boldsymbol y}}{\\boldsymbol z} = \\ldots $$\n",
        "\n",
        "\n",
        "\n",
        "#### 1a) Definition of Softmax Function\n",
        "\n",
        "The softmax function is defined as:\n",
        "$$\n",
        "\\hat{y}_i = \\frac{e^{z_i}}{\\sum_{j=1}^k e^{z_j}}\n",
        "$$\n",
        "\n",
        "where:\n",
        " $$ \\boldsymbol{z} = [z_1, z_2, \\dots, z_k] \\space \\text{is a vector of inputs} $$ and\n",
        " $$ \\hat{\\boldsymbol{y}} = [\\hat{y}_1, \\hat{y}_2, \\dots, \\hat{y}_k] \\space  \\text{ is the output probability vector} $$\n",
        "\n",
        "#### 1b) Derivative of $ \\hat{y}_i $ with Respect to $ z_j $\n",
        "\n",
        "To compute $ \\frac{\\partial \\hat{y}_i}{\\partial z_j} $, let's differentiate the softmax function:\n",
        "\n",
        "$$\n",
        "\\hat{y}_i = \\frac{e^{z_i}}{\\sum_{j=1}^k e^{z_j}}\n",
        "$$\n",
        "\n",
        "### 1c) Case 1: $ i = j $\n",
        "\n",
        "When differentiating with respect to $ z_i $:\n",
        "\n",
        "$$\n",
        "\\frac{\\partial \\hat{y}_i}{\\partial z_i} = \\frac{e^{z_i} \\sum_{j=1}^k e^{z_j} - e^{z_i} e^{z_i}}{\\left(\\sum_{j=1}^k e^{z_j}\\right)^2}\n",
        "$$\n",
        "\n",
        "Simplifying:\n",
        "\n",
        "$$\n",
        "\\frac{\\partial \\hat{y}_i}{\\partial z_i} = \\hat{y}_i \\left(1 - \\hat{y}_i\\right)\n",
        "$$\n",
        "\n",
        "### 1d) Case 2: $i \\neq j$\n",
        "\n",
        "When differentiating with respect to $ z_j $ for $ i \\neq j $:\n",
        "\n",
        "$$\n",
        "\\frac{\\partial \\hat{y}_i}{\\partial z_j} = \\frac{-e^{z_i} e^{z_j}}{\\left(\\sum_{k=1}^k e^{z_k}\\right)^2}\n",
        "$$\n",
        "\n",
        "This can be rewritten as:\n",
        "\n",
        "$$\n",
        "\\frac{\\partial \\hat{y}_i}{\\partial z_j} = -\\hat{y}_i \\hat{y}_j\n",
        "$$\n",
        "\n",
        "### 1e) Matrix Form of $ \\frac{\\partial \\hat{\\boldsymbol{y}}}{\\partial \\boldsymbol{z}} $\n",
        "\n",
        "Combining the results:\n",
        "\n",
        "$$\n",
        "\\frac{\\partial \\hat{\\boldsymbol{y}}}{\\partial \\boldsymbol{z}} =\n",
        "\\begin{cases}\n",
        "\\hat{y}_i (1 - \\hat{y}_i) & \\text{for } i = j \\\\\n",
        "-\\hat{y}_i \\hat{y}_j & \\text{for } i \\neq j\n",
        "\\end{cases}\n",
        "$$\n",
        "\n",
        "This can be compactly represented as:\n",
        "\n",
        "$$\n",
        "\\frac{\\partial \\hat{\\boldsymbol{y}}}{\\partial \\boldsymbol{z}} = \\text{diag}(\\hat{\\boldsymbol{y}}) - \\hat{\\boldsymbol{y}} \\hat{\\boldsymbol{y}}^T\n",
        "$$\n",
        "\n",
        "Where:\n",
        "- $\\text{diag}(\\hat{\\boldsymbol{y}}) $ is a diagonal matrix with $ \\hat{y}_i $ on the diagonal.\n",
        "- $ \\hat{\\boldsymbol{y}} \\hat{\\boldsymbol{y}}^T $ is an outer product matrix.\n",
        "\n",
        "\n",
        "$$ \\frac{\\partial \\hat{\\boldsymbol y}}{W_{ij}} = \\ldots $$\n",
        "\n",
        "$$\n",
        "\\frac{\\partial \\hat{\\boldsymbol{y}}}{\\partial W_{ij}} = \\frac{\\partial \\hat{\\boldsymbol{y}}}{\\partial \\boldsymbol{z}} \\cdot \\frac{\\partial \\boldsymbol{z}}{\\partial W_{ij}}\n",
        "$$\n",
        "\n",
        "$$\n",
        "\\frac{\\partial \\hat{\\boldsymbol{y}}}{\\partial W_{ij}} = \\left( \\hat{y}_i(1 - \\hat{y}_i) - \\hat{y}_i \\hat{y}_j \\right) \\cdot x_j\n",
        "$$\n",
        "\n",
        "\n",
        "$$ \\frac{\\partial \\hat{\\boldsymbol y}}{\\boldsymbol b} = \\ldots $$\n",
        "\n",
        "$$\n",
        "\\frac{\\partial \\hat{\\boldsymbol{y}}}{\\partial \\boldsymbol{b}} = \\frac{\\partial \\hat{\\boldsymbol{y}}}{\\partial \\boldsymbol{z}} \\cdot \\frac{\\partial \\boldsymbol{z}}{\\partial \\boldsymbol{b}}\n",
        "$$\n",
        "\n",
        "$$\n",
        "\\frac{\\partial \\hat{\\boldsymbol{y}}}{\\partial \\boldsymbol{b}} = \\text{diag}(\\hat{\\boldsymbol{y}}) - \\hat{\\boldsymbol{y}} \\hat{\\boldsymbol{y}}^T\n",
        "$$\n",
        "\n"
      ]
    },
    {
      "cell_type": "markdown",
      "metadata": {
        "cell_id": "00010-954fd65b-4d81-4bbc-bf6b-4d10d50be9b8",
        "deepnote_app_coordinates": {
          "h": 5,
          "w": 12,
          "x": 0,
          "y": 60
        },
        "deepnote_cell_type": "markdown",
        "id": "rXJaoHSH0DZO"
      },
      "source": [
        "# Solutions and starter code"
      ]
    },
    {
      "cell_type": "code",
      "execution_count": null,
      "metadata": {
        "ExecuteTime": {
          "end_time": "2024-02-17T11:44:28.263962Z",
          "start_time": "2024-02-17T11:44:27.307173Z"
        },
        "cell_id": "00011-97f2c7fe-a3d5-4a6b-bc12-8a96bfeed475",
        "deepnote_app_coordinates": {
          "h": 5,
          "w": 12,
          "x": 0,
          "y": 66
        },
        "deepnote_cell_type": "code",
        "id": "YiTEWD2oqW0Y"
      },
      "outputs": [],
      "source": [
        "import matplotlib.pyplot as plt\n",
        "import torch"
      ]
    },
    {
      "cell_type": "markdown",
      "metadata": {
        "cell_id": "00012-8bc44e88-e665-483d-89fc-c866879ad335",
        "deepnote_app_coordinates": {
          "h": 5,
          "w": 12,
          "x": 0,
          "y": 72
        },
        "deepnote_cell_type": "markdown",
        "id": "eqtfJKR40J3x"
      },
      "source": [
        "XOR dataset creation"
      ]
    },
    {
      "cell_type": "code",
      "execution_count": null,
      "metadata": {
        "ExecuteTime": {
          "end_time": "2024-02-17T11:46:08.448211Z",
          "start_time": "2024-02-17T11:46:08.287486Z"
        },
        "id": "9qX3ozcRPSnD",
        "colab": {
          "base_uri": "https://localhost:8080/",
          "height": 466
        },
        "outputId": "23e0e296-9b75-4a0e-bd5d-fbe634b4e2eb"
      },
      "outputs": [
        {
          "output_type": "execute_result",
          "data": {
            "text/plain": [
              "(-0.05, 1.05, -0.05, 1.05)"
            ]
          },
          "metadata": {},
          "execution_count": 3
        },
        {
          "output_type": "display_data",
          "data": {
            "text/plain": [
              "<Figure size 640x480 with 1 Axes>"
            ],
            "image/png": "[encoded data removed]"
          },
          "metadata": {}
        }
      ],
      "source": [
        "# Let's define a XOR dataset\n",
        "\n",
        "# X will be matrix of N 2-dimensional inputs\n",
        "X = torch.tensor([[0, 0], [0, 1], [1, 0], [1, 1],], dtype=torch.float64)\n",
        "# Y is a matrix of N numners - answers\n",
        "Y = torch.tensor([[0], [1], [1], [0],], dtype=torch.float64)\n",
        "\n",
        "\n",
        "plt.scatter(\n",
        "    X[:, 0], X[:, 1], c=Y[:, 0],\n",
        ")\n",
        "plt.xlabel(\"X[0]\")\n",
        "plt.ylabel(\"X[1]\")\n",
        "plt.axis(\"square\")"
      ]
    },
    {
      "cell_type": "markdown",
      "metadata": {
        "cell_id": "00014-fe501b87-4247-497d-a7c7-f528483d31cc",
        "deepnote_app_coordinates": {
          "h": 5,
          "w": 12,
          "x": 0,
          "y": 84
        },
        "deepnote_cell_type": "markdown",
        "id": "Rb3azMn929_I"
      },
      "source": [
        "## Problem 1"
      ]
    },
    {
      "cell_type": "markdown",
      "metadata": {
        "cell_id": "00015-97a3483d-0ae6-4bee-afd5-6226abc622a5",
        "deepnote_app_coordinates": {
          "h": 5,
          "w": 12,
          "x": 0,
          "y": 90
        },
        "deepnote_cell_type": "markdown",
        "id": "RZCM_hdELE04"
      },
      "source": [
        "The code below contains a mock-up of a two-layer neural network. Fill in the code and manually set weights to solve the XOR problem.\n",
        "\n",
        "Please note: the shapes are set to be compatible with PyTorch's conventions:\n",
        "* a batch containing $N$ $D$-dimensional examples has shape $N\\times D$ (each example is a row!)\n",
        "* a weight matrix in a linear layer with $I$ inputs and $O$ outputs has shape $O \\times I$\n",
        "* a bias vector is a 1D vector. Please note that [broadcasting rules](https://docs.scipy.org/doc/numpy/user/basics.broadcasting.html) allow us to think about it as a $1 \\times D$ matrix."
      ]
    },
    {
      "cell_type": "code",
      "source": [
        "def sigmoid(x):\n",
        "    return 1 / (1 + torch.exp(-x))\n",
        "\n",
        "\n",
        "class SmallNet:\n",
        "    def __init__(self, in_features: int, num_hidden: int, dtype=torch.float32):\n",
        "        self.W1 = torch.zeros((num_hidden, in_features), dtype=dtype)\n",
        "        self.b1 = torch.zeros((num_hidden,), dtype=dtype)\n",
        "        self.W2 = torch.zeros((1, num_hidden), dtype=dtype)\n",
        "        self.b2 = torch.zeros((1,), dtype=dtype)\n",
        "        self.init_params()\n",
        "\n",
        "    def init_params(self):\n",
        "        # TODO for Problem 2:\n",
        "        # set all parameters to small random values, e.g. from N(0, 0.5)\n",
        "        self.W1 = torch.randn(self.W1.shape, dtype=self.W1.dtype) * 0.5\n",
        "        self.b1 = torch.randn(self.b1.shape, dtype=self.b1.dtype) * 0.5\n",
        "        self.W2 = torch.randn(self.W2.shape, dtype=self.W2.dtype) * 0.5\n",
        "        self.b2 = torch.randn(self.b2.shape, dtype=self.b2.dtype) * 0.5\n",
        "\n",
        "    def forward(self, X, Y=None, do_backward=False):\n",
        "        # TODO Problem 1: Fill in details of forward propagation\n",
        "\n",
        "        # Input to neurons in 1st layer\n",
        "        A1 = X @ self.W1.T + self.b1\n",
        "        # Outputs after the sigmoid non-linearity\n",
        "        O1 = sigmoid(A1)\n",
        "        # Inputs to neuron in the second layer\n",
        "        A2 = O1 @ self.W2.T + self.b2\n",
        "        # Outputs after the sigmoid non-linearity\n",
        "        O2 = sigmoid(A2)\n",
        "\n",
        "        # When Y is none, simply return the predictions. Else compute the loss\n",
        "        if Y is not None:\n",
        "            loss = -Y * torch.log(O2) - (1 - Y) * torch.log(1 - O2)\n",
        "            # normalize loss by batch size\n",
        "            loss = loss.sum() / X.shape[0]\n",
        "        else:\n",
        "            loss = torch.nan\n",
        "\n",
        "        if do_backward:\n",
        "            # TODO in Problem 2:\n",
        "            # fill in the gradient computation\n",
        "            # Please note, that there is a correspondance between\n",
        "            # the forward and backward pass: with backward computations happening\n",
        "            # in reverse order.\n",
        "            # We save the gradients with respect to the parameters as fields of self.\n",
        "            # It is not very elegant, but simplifies training code later on.\n",
        "\n",
        "            # A2_grad is the gradient of loss with respect to A2\n",
        "            # Hint: there is a concise formula for the gradient\n",
        "            # of logistic sigmoid and cross-entropy loss\n",
        "            A2_grad = (O2 - Y) / X.shape[0]\n",
        "            self.b2_grad = A2_grad.sum(0)\n",
        "            self.W2_grad = A2_grad.T @ O1\n",
        "            O1_grad = A2_grad @ self.W2\n",
        "            A1_grad = O1_grad * O1 * (1 - O1) ##  = dLoss/dO1 * dO1/dA1 = dLoss/dO1 * O1 * (1 - O1)\n",
        "            self.b1_grad = A1_grad.sum(0)\n",
        "            self.W1_grad = A1_grad.T @ X\n",
        "\n",
        "        return O2, loss"
      ],
      "metadata": {
        "id": "wXtaGtpiM9KR"
      },
      "execution_count": null,
      "outputs": []
    },
    {
      "cell_type": "markdown",
      "source": [
        "\\begin{align*}\n",
        "\\text{Loss}(Y, O2) &= - Y \\log(O2) - (1 - Y) \\log(1 - O2) \\\\\n",
        "\\frac{\\partial \\text{Loss}}{\\partial O2} &= - \\frac{Y}{O2} + \\frac{1 - Y}{1 - O2} \\\\\n",
        "\\frac{\\partial O2}{\\partial A2} &= O2 \\cdot (1 - O2) \\\\\n",
        "\\frac{\\partial \\text{Loss}}{\\partial A2} &= \\frac{\\partial \\text{Loss}}{\\partial O2} \\cdot \\frac{\\partial O2}{\\partial A2} \\\\\n",
        "\\frac{\\partial \\text{Loss}}{\\partial A2} &= -Y(1-O2)+(1-Y)O2=-Y+O2Y+O2-O2Y=O2-Y\n",
        "\\end{align*}\n",
        "\n",
        "\n"
      ],
      "metadata": {
        "id": "VPpoCU7oDaF8"
      }
    },
    {
      "cell_type": "code",
      "execution_count": null,
      "metadata": {
        "cell_id": "00017-32ce9293-0a37-4397-aeac-25eef428e8d4",
        "deepnote_app_coordinates": {
          "h": 5,
          "w": 12,
          "x": 0,
          "y": 102
        },
        "deepnote_cell_type": "code",
        "id": "jJswvBk0oiIY",
        "colab": {
          "base_uri": "https://localhost:8080/"
        },
        "outputId": "e4689676-d400-44d2-f6d2-d988cdc1527b"
      },
      "outputs": [
        {
          "output_type": "stream",
          "name": "stdout",
          "text": [
            "XORnet(tensor([0., 0.], dtype=torch.float64)) = 4.543910487654591e-05\n",
            "XORnet(tensor([0., 1.], dtype=torch.float64)) = 0.999954519621495\n",
            "XORnet(tensor([1., 0.], dtype=torch.float64)) = 0.999954519621495\n",
            "XORnet(tensor([1., 1.], dtype=torch.float64)) = 4.543910487654591e-05\n"
          ]
        }
      ],
      "source": [
        "# TODO Problem 1:\n",
        "# Set the weight values to solve the XOR problem\n",
        "\n",
        "net = SmallNet(2, 2, dtype=torch.float64)\n",
        "net.W1 = torch.tensor([[20.0, 20.0], [-20.0, -20.0]], dtype=torch.float64)\n",
        "net.b1 = torch.tensor([-10.0, 30.0], dtype=torch.float64)\n",
        "net.W2 = torch.tensor([[20.0, 20.0]], dtype=torch.float64)\n",
        "net.b2 = torch.tensor([-30.0], dtype=torch.float64)\n",
        "\n",
        "\n",
        "\n",
        "#weight matrix:\n",
        "#[20,20]\n",
        "#[-20,-20]\n",
        "\n",
        "#bias vector\n",
        "# [-10,30]\n",
        "\n",
        "\n",
        "#first line: 20x +20y -10 = 0 => y=1/2-x\n",
        "#second line: -20x -20 y +30 = 0  => y=3/2-x\n",
        "\n",
        "# Hint: since we use the logistic sigmoid activation, the weights may need to\n",
        "# be fairly large\n",
        "\n",
        "\n",
        "predictions, loss = net.forward(X, Y, do_backward=True)\n",
        "for x, p in zip(X, predictions):\n",
        "    print(f\"XORnet({x}) = {p[0]}\")"
      ]
    },
    {
      "cell_type": "markdown",
      "source": [
        "\\[\n",
        "\\begin{aligned}\n",
        "&\\sigma(20 \\cdot 0 + 20 \\cdot 0 - 10) \\approx 0 \\quad &\\sigma(-20 \\cdot 0 - 20 \\cdot 0 + 30) \\approx 1 \\quad &\\sigma(20 \\cdot 0 + 20 \\cdot 1 - 30) \\approx 0 \\\\\n",
        "&\\sigma(20 \\cdot 1 + 20 \\cdot 1 - 10) \\approx 1 \\quad &\\sigma(-20 \\cdot 1 - 20 \\cdot 1 + 30) \\approx 0 \\quad &\\sigma(20 \\cdot 1 + 20 \\cdot 0 - 30) \\approx 0 \\\\\n",
        "&\\sigma(20 \\cdot 0 + 20 \\cdot 1 - 10) \\approx 1 \\quad &\\sigma(-20 \\cdot 0 - 20 \\cdot 1 + 30) \\approx 1 \\quad &\\sigma(20 \\cdot 1 + 20 \\cdot 1 - 30) \\approx 1 \\\\\n",
        "&\\sigma(20 \\cdot 1 + 20 \\cdot 0 - 10) \\approx 1 \\quad &\\sigma(-20 \\cdot 1 - 20 \\cdot 0 + 30) \\approx 1 \\quad &\\sigma(20 \\cdot 1 + 20 \\cdot 1 - 30) \\approx 1\n",
        "\\end{aligned}\n",
        "\\]\n"
      ],
      "metadata": {
        "id": "kMrtRNvbi-rV"
      }
    },
    {
      "cell_type": "markdown",
      "metadata": {
        "cell_id": "00018-9f8740d2-90e7-4d20-a535-002df8547aba",
        "deepnote_app_coordinates": {
          "h": 5,
          "w": 12,
          "x": 0,
          "y": 108
        },
        "deepnote_cell_type": "markdown",
        "id": "wmxCi5Vl6_xB"
      },
      "source": [
        "## Problem 2"
      ]
    },
    {
      "cell_type": "code",
      "execution_count": null,
      "metadata": {
        "cell_id": "00019-8f804996-a00a-4bb5-a524-ad056659e023",
        "deepnote_app_coordinates": {
          "h": 5,
          "w": 12,
          "x": 0,
          "y": 114
        },
        "deepnote_cell_type": "code",
        "id": "eSM5hgJ1mrhY"
      },
      "outputs": [],
      "source": [
        "def check_grad(net, param_name, X, Y, eps=1e-5):\n",
        "    \"\"\"A gradient checking routine\"\"\"\n",
        "\n",
        "    param = getattr(net, param_name)\n",
        "    param_flat_accessor = param.reshape(-1)\n",
        "\n",
        "    grad = torch.empty_like(param)\n",
        "    grad_flat_accessor = grad.reshape(-1)\n",
        "\n",
        "    net.forward(X, Y, do_backward=True)\n",
        "    orig_grad = getattr(net, param_name + \"_grad\")\n",
        "    assert param.shape == orig_grad.shape\n",
        "\n",
        "    for i in range(param_flat_accessor.shape[0]):\n",
        "        orig_val = param_flat_accessor[i].item()\n",
        "        param_flat_accessor[i] = orig_val + eps\n",
        "        _, loss_positive = net.forward(X, Y)\n",
        "        param_flat_accessor[i] = orig_val - eps\n",
        "        _, loss_negative = net.forward(X, Y)\n",
        "        param_flat_accessor[i] = orig_val\n",
        "        grad_flat_accessor[i] = (loss_positive - loss_negative) / (2 * eps) #derivative approx check\n",
        "    assert torch.allclose(grad, orig_grad)\n",
        "    return grad, orig_grad"
      ]
    },
    {
      "cell_type": "code",
      "execution_count": null,
      "metadata": {
        "cell_id": "00020-1c4174cf-f129-4cad-adad-4734810a8ce1",
        "deepnote_app_coordinates": {
          "h": 5,
          "w": 12,
          "x": 0,
          "y": 120
        },
        "deepnote_cell_type": "code",
        "id": "TTZu0jFEvgXF"
      },
      "outputs": [],
      "source": [
        "# Hint: use float64 for checking the correctness of the gradient\n",
        "net = SmallNet(2, 2, dtype=torch.float64)\n",
        "\n",
        "for param_name in [\"W1\", \"b1\", \"W2\", \"b2\"]:\n",
        "    check_grad(net, param_name, X, Y)"
      ]
    },
    {
      "cell_type": "markdown",
      "metadata": {
        "cell_id": "00021-145837f8-c83f-4aab-8e62-0114e59f30fe",
        "deepnote_app_coordinates": {
          "h": 5,
          "w": 12,
          "x": 0,
          "y": 126
        },
        "deepnote_cell_type": "markdown",
        "id": "8mUOs3cVvjM2"
      },
      "source": [
        "## Problem 3"
      ]
    },
    {
      "cell_type": "code",
      "execution_count": null,
      "metadata": {
        "cell_id": "00022-91b3eba0-6025-4839-847c-f5cb275fad07",
        "deepnote_app_coordinates": {
          "h": 5,
          "w": 12,
          "x": 0,
          "y": 132
        },
        "deepnote_cell_type": "code",
        "id": "nn2AAoZo0vjU",
        "colab": {
          "base_uri": "https://localhost:8080/"
        },
        "outputId": "da7b2020-9542-4760-a485-6faae14205b0"
      },
      "outputs": [
        {
          "output_type": "stream",
          "name": "stdout",
          "text": [
            "after 0 steps \tloss=0.7016899066867248\n",
            "after 5000 steps \tloss=0.049807699160981656\n",
            "after 10000 steps \tloss=0.011078852301853796\n",
            "after 15000 steps \tloss=0.005857475380271677\n",
            "after 20000 steps \tloss=0.00391221642297882\n",
            "after 25000 steps \tloss=0.0029129002847010834\n",
            "after 30000 steps \tloss=0.002309233326825985\n",
            "after 35000 steps \tloss=0.0019068925389352392\n",
            "after 40000 steps \tloss=0.0016203928372648974\n",
            "after 45000 steps \tloss=0.0014064358326156946\n",
            "after 50000 steps \tloss=0.0012408131357625769\n",
            "after 55000 steps \tloss=0.0011089593027027401\n",
            "after 60000 steps \tloss=0.0010015991123267687\n",
            "after 65000 steps \tloss=0.0009125527758983964\n",
            "after 70000 steps \tloss=0.0008375479358825632\n",
            "after 75000 steps \tloss=0.000773538686677613\n",
            "after 80000 steps \tloss=0.0007182962955877917\n",
            "after 85000 steps \tloss=0.000670153225542718\n",
            "after 90000 steps \tloss=0.000627837504690063\n",
            "after 95000 steps \tloss=0.0005903623635939178\n"
          ]
        }
      ],
      "source": [
        "net = SmallNet(2, 10, dtype=torch.float64)\n",
        "\n",
        "alpha = 0.1  # set a learning rate\n",
        "\n",
        "for i in range(100000):\n",
        "    _, loss = net.forward(X, Y, do_backward=True)\n",
        "    if (i % 5000) == 0:\n",
        "        print(f\"after {i} steps \\tloss={loss}\")\n",
        "    for param_name in [\"W1\", \"b1\", \"W2\", \"b2\"]:\n",
        "        param = getattr(net, param_name)\n",
        "        # Hint: use the construct `param[:]` to change the contents of the array!\n",
        "        # Doing instead `param = new_val` simply changes to what the variable\n",
        "        # param points to, without affecting the network!\n",
        "        # alternatively, you could do setattr(net, param_name, new_value)\n",
        "        grad = getattr(net, param_name + \"_grad\")\n",
        "        param[:] = param - alpha * grad  # Update parameters with gradient descent"
      ]
    },
    {
      "cell_type": "code",
      "execution_count": null,
      "metadata": {
        "cell_id": "00023-c92941a8-24d1-46e8-a410-d189c1d87b08",
        "deepnote_app_coordinates": {
          "h": 5,
          "w": 12,
          "x": 0,
          "y": 138
        },
        "deepnote_cell_type": "code",
        "id": "TwpEjpkU1JvK",
        "colab": {
          "base_uri": "https://localhost:8080/"
        },
        "outputId": "cc113460-aeae-4480-f2cd-06c8bbd04939"
      },
      "outputs": [
        {
          "output_type": "stream",
          "name": "stdout",
          "text": [
            "XORnet(tensor([0., 0.], dtype=torch.float64)) = 0.0004863988318024002\n",
            "XORnet(tensor([0., 1.], dtype=torch.float64)) = 0.9996378139775108\n",
            "XORnet(tensor([1., 0.], dtype=torch.float64)) = 0.9992448197421481\n",
            "XORnet(tensor([1., 1.], dtype=torch.float64)) = 0.0006233744456113561\n"
          ]
        }
      ],
      "source": [
        "predictions, loss = net.forward(X, Y, do_backward=True)\n",
        "for x, p in zip(X, predictions):\n",
        "    print(f\"XORnet({x}) = {p[0]}\")"
      ]
    },
    {
      "cell_type": "code",
      "source": [
        "X3 = torch.tensor([\n",
        "    [0, 0, 0],\n",
        "    [0, 0, 1],\n",
        "    [0, 1, 0],\n",
        "    [0, 1, 1],\n",
        "    [1, 0, 0],\n",
        "    [1, 0, 1],\n",
        "    [1, 1, 0],\n",
        "    [1, 1, 1]\n",
        "], dtype=torch.float64)\n",
        "\n",
        "Y3 = torch.tensor([\n",
        "    [0],\n",
        "    [1],\n",
        "    [1],\n",
        "    [0],\n",
        "    [1],\n",
        "    [0],\n",
        "    [0],\n",
        "    [1]\n",
        "], dtype=torch.float64)\n",
        "\n",
        "\n",
        "net = SmallNet(3, 10, dtype=torch.float64)\n",
        "\n",
        "alpha = 0.1  # set a learning rate\n",
        "\n",
        "for i in range(100000):\n",
        "    _, loss = net.forward(X3, Y3, do_backward=True)\n",
        "    if (i % 5000) == 0:\n",
        "        print(f\"after {i} steps \\tloss={loss}\")\n",
        "    for param_name in [\"W1\", \"b1\", \"W2\", \"b2\"]:\n",
        "        param = getattr(net, param_name)\n",
        "        # Hint: use the construct `param[:]` to change the contents of the array!\n",
        "        # Doing instead `param = new_val` simply changes to what the variable\n",
        "        # param points to, without affecting the network!\n",
        "        # alternatively, you could do setattr(net, param_name, new_value)\n",
        "        grad = getattr(net, param_name + \"_grad\")\n",
        "        param[:] = param - alpha * grad  # Update parameters with gradient descent"
      ],
      "metadata": {
        "colab": {
          "base_uri": "https://localhost:8080/"
        },
        "id": "bRDc1iWLWlfc",
        "outputId": "4702ffa9-d91f-4c5f-992b-47b63295d90c"
      },
      "execution_count": null,
      "outputs": [
        {
          "output_type": "stream",
          "name": "stdout",
          "text": [
            "after 0 steps \tloss=1.0597320872065574\n",
            "after 5000 steps \tloss=0.09500148542956201\n",
            "after 10000 steps \tloss=0.013634167063971452\n",
            "after 15000 steps \tloss=0.0064897893757311365\n",
            "after 20000 steps \tloss=0.004133286020244554\n",
            "after 25000 steps \tloss=0.0029947476489530847\n",
            "after 30000 steps \tloss=0.002332597964235277\n",
            "after 35000 steps \tloss=0.0019026624187119575\n",
            "after 40000 steps \tloss=0.0016023421553867814\n",
            "after 45000 steps \tloss=0.0013813583377863408\n",
            "after 50000 steps \tloss=0.0012122982945646774\n",
            "after 55000 steps \tloss=0.0010789943930847473\n",
            "after 60000 steps \tloss=0.0009713173501840802\n",
            "after 65000 steps \tloss=0.0008826093566950714\n",
            "after 70000 steps \tloss=0.0008083203399120762\n",
            "after 75000 steps \tloss=0.0007452384585619555\n",
            "after 80000 steps \tloss=0.0006910338225422242\n",
            "after 85000 steps \tloss=0.0006439764504502296\n",
            "after 90000 steps \tloss=0.0006027556473375288\n",
            "after 95000 steps \tloss=0.0005663607494439239\n"
          ]
        }
      ]
    },
    {
      "cell_type": "code",
      "source": [
        "predictions, loss = net.forward(X3, Y3, do_backward=True)\n",
        "for x, p in zip(X3, predictions):\n",
        "    print(f\"XORnet({x}) = {p[0]}\")"
      ],
      "metadata": {
        "colab": {
          "base_uri": "https://localhost:8080/"
        },
        "id": "JEXNjmTKX2lL",
        "outputId": "257ee208-e80c-4fd9-c6ac-c3976cb43d9c"
      },
      "execution_count": null,
      "outputs": [
        {
          "output_type": "stream",
          "name": "stdout",
          "text": [
            "XORnet(tensor([0., 0., 0.], dtype=torch.float64)) = 0.0005112043450443523\n",
            "XORnet(tensor([0., 0., 1.], dtype=torch.float64)) = 0.9994413901044121\n",
            "XORnet(tensor([0., 1., 0.], dtype=torch.float64)) = 0.9994191731717995\n",
            "XORnet(tensor([0., 1., 1.], dtype=torch.float64)) = 0.0004641389060751658\n",
            "XORnet(tensor([1., 0., 0.], dtype=torch.float64)) = 0.9993894992095673\n",
            "XORnet(tensor([1., 0., 1.], dtype=torch.float64)) = 0.0004750446919189692\n",
            "XORnet(tensor([1., 1., 0.], dtype=torch.float64)) = 0.0007252050697675595\n",
            "XORnet(tensor([1., 1., 1.], dtype=torch.float64)) = 0.999654713695436\n"
          ]
        }
      ]
    },
    {
      "cell_type": "code",
      "source": [
        "# Function to train the network and estimate success rate\n",
        "def train_network(hidden_dim, num_retries=10, learning_rate=0.1, epochs=10000, success_threshold=0.1):\n",
        "    success_count = 0\n",
        "    for _ in range(num_retries):\n",
        "        net = SmallNet(3, hidden_dim, dtype=torch.float64)\n",
        "        for epoch in range(epochs):\n",
        "            _, loss = net.forward(X3, Y3, do_backward=True)\n",
        "            for param_name in [\"W1\", \"b1\", \"W2\", \"b2\"]:\n",
        "                param = getattr(net, param_name)\n",
        "                grad = getattr(net, param_name + \"_grad\")\n",
        "                param[:] = param - learning_rate * grad\n",
        "\n",
        "        predictions, _ = net.forward(X3)\n",
        "        predicted_classes = (predictions > 0.5).double()\n",
        "        if torch.equal(predicted_classes, Y3):\n",
        "            success_count += 1\n",
        "\n",
        "    return success_count / num_retries\n",
        "\n",
        "# Run experiments for different hidden dimensions\n",
        "for hidden_dim in [2, 3, 5, 10, 20]:\n",
        "    success_rate = train_network(hidden_dim)\n",
        "    print(f\"Hidden size {hidden_dim}: success rate = {success_rate:.2f}\")\n"
      ],
      "metadata": {
        "colab": {
          "base_uri": "https://localhost:8080/"
        },
        "id": "JnlrKAWyYQK7",
        "outputId": "69d443fc-6acc-4695-887b-2997450de738"
      },
      "execution_count": null,
      "outputs": [
        {
          "output_type": "stream",
          "name": "stdout",
          "text": [
            "Hidden size 2: success rate = 0.00\n",
            "Hidden size 3: success rate = 0.40\n",
            "Hidden size 5: success rate = 0.20\n",
            "Hidden size 10: success rate = 0.90\n",
            "Hidden size 20: success rate = 1.00\n"
          ]
        }
      ]
    },
    {
      "cell_type": "markdown",
      "source": [
        "- What is the minimal hidden size required to solve 3D XOR (even with low reliability, when the training has to be repeated multiple times) = 3\n",
        "- What is the minimal hidden size required to reliably solve 3D XOR = 20\n",
        "- Which networks are easier to train - small or large ones? Why? Larger networks are generally easier to train because they have more capacity to model complex relationships, though they come with the risk of overfitting and increased computational cost."
      ],
      "metadata": {
        "id": "5IhOKTh6Y-Qu"
      }
    },
    {
      "cell_type": "markdown",
      "metadata": {
        "cell_id": "00025-9703bd09-6aae-4830-8221-09b53a623e4b",
        "deepnote_app_coordinates": {
          "h": 5,
          "w": 12,
          "x": 0,
          "y": 150
        },
        "deepnote_cell_type": "markdown",
        "id": "UuaLEoV-9DLG"
      },
      "source": [
        "## Problem 4\n"
      ]
    },
    {
      "cell_type": "code",
      "execution_count": null,
      "metadata": {
        "cell_id": "00026-1a2be430-91e0-4209-ab3f-9ef84c39513b",
        "deepnote_app_coordinates": {
          "h": 5,
          "w": 12,
          "x": 0,
          "y": 156
        },
        "deepnote_cell_type": "code",
        "id": "w3lk9_TM-MvK",
        "colab": {
          "base_uri": "https://localhost:8080/"
        },
        "outputId": "e152991e-ea6f-46e0-8602-97640364172a"
      },
      "outputs": [
        {
          "output_type": "stream",
          "name": "stdout",
          "text": [
            "Epoch 0, Loss: 1.126103313941369\n",
            "Epoch 500, Loss: 0.5948494451744374\n",
            "Epoch 1000, Loss: 0.5281680124626815\n",
            "Epoch 1500, Loss: 0.4026048755872965\n",
            "Epoch 2000, Loss: 0.1824472486801365\n",
            "Epoch 2500, Loss: 0.09245830430098853\n",
            "Epoch 3000, Loss: 0.05399786613089863\n",
            "Epoch 3500, Loss: 0.03570538126828205\n",
            "Epoch 4000, Loss: 0.025649254718861238\n",
            "Epoch 4500, Loss: 0.01958938489405761\n",
            "Epoch 5000, Loss: 0.0156479101082528\n",
            "Epoch 5500, Loss: 0.012913251833509849\n",
            "Epoch 6000, Loss: 0.010921890903937172\n",
            "Epoch 6500, Loss: 0.009414187461136037\n",
            "Epoch 7000, Loss: 0.008235234773471361\n",
            "Epoch 7500, Loss: 0.007293899155581474\n",
            "Epoch 8000, Loss: 0.006531088575867538\n",
            "Epoch 8500, Loss: 0.005901163375633274\n",
            "Epoch 9000, Loss: 0.005367618246049607\n",
            "Epoch 9500, Loss: 0.0049178669341589515\n",
            "Predictions after training:\n",
            "tensor([[0.0033],\n",
            "        [0.9975],\n",
            "        [0.9943],\n",
            "        [0.0048],\n",
            "        [0.9962],\n",
            "        [0.0031],\n",
            "        [0.0070],\n",
            "        [0.9940]], dtype=torch.float64)\n"
          ]
        }
      ],
      "source": [
        "import torch\n",
        "import torch.nn as nn\n",
        "import torch.nn.functional as F\n",
        "\n",
        "class SmallNetWithReLU:\n",
        "    def __init__(self, in_features: int, num_hidden: int, dtype=torch.float32):\n",
        "        self.W1 = torch.randn(num_hidden, in_features, dtype=dtype)\n",
        "        self.b1 = torch.zeros(num_hidden, dtype=dtype)\n",
        "        self.W2 = torch.randn(1, num_hidden, dtype=dtype)\n",
        "        self.b2 = torch.zeros(1, dtype=dtype)\n",
        "\n",
        "    def forward(self, X, Y=None, do_backward=False):\n",
        "        A1 = X @ self.W1.T + self.b1\n",
        "        O1 = F.relu(A1)\n",
        "        A2 = O1 @ self.W2.T + self.b2\n",
        "        O2 = torch.sigmoid(A2)\n",
        "\n",
        "        if Y is not None:\n",
        "            loss = - (Y * torch.log(O2) + (1 - Y) * torch.log(1 - O2))\n",
        "            loss = loss.sum() / X.shape[0]\n",
        "        else:\n",
        "            loss = torch.nan\n",
        "\n",
        "        if do_backward:\n",
        "            A2_grad = (O2 - Y) / X.shape[0]\n",
        "            self.b2_grad = A2_grad.sum(0)\n",
        "            self.W2_grad = A2_grad.T @ O1\n",
        "            O1_grad = A2_grad @ self.W2\n",
        "            A1_grad = O1_grad * (O1 > 0).float() ##  = dLoss/dO1 * dO1/dA1 = dLoss/dO1 * (O1 > 0).float() ;; (O1 > 0).float() = derivative of relu\n",
        "            self.b1_grad = A1_grad.sum(0)\n",
        "            self.W1_grad = A1_grad.T @ X\n",
        "\n",
        "        return O2, loss\n",
        "\n",
        "X3 = torch.tensor([\n",
        "    [0, 0, 0],\n",
        "    [0, 0, 1],\n",
        "    [0, 1, 0],\n",
        "    [0, 1, 1],\n",
        "    [1, 0, 0],\n",
        "    [1, 0, 1],\n",
        "    [1, 1, 0],\n",
        "    [1, 1, 1]\n",
        "], dtype=torch.float64)\n",
        "\n",
        "Y3 = torch.tensor([\n",
        "    [0],\n",
        "    [1],\n",
        "    [1],\n",
        "    [0],\n",
        "    [1],\n",
        "    [0],\n",
        "    [0],\n",
        "    [1]\n",
        "], dtype=torch.float64)\n",
        "\n",
        "net = SmallNetWithReLU(3, 10, dtype=torch.float64)\n",
        "\n",
        "alpha = 0.05\n",
        "\n",
        "for epoch in range(10000):\n",
        "    _, loss = net.forward(X3, Y3, do_backward=True)\n",
        "    if (epoch % 500) == 0:\n",
        "        print(f\"Epoch {epoch}, Loss: {loss.item()}\")\n",
        "\n",
        "    for param_name in [\"W1\", \"b1\", \"W2\", \"b2\"]:\n",
        "        param = getattr(net, param_name)\n",
        "        param_grad = getattr(net, param_name + \"_grad\")\n",
        "        param[:] -= alpha * param_grad\n",
        "\n",
        "with torch.no_grad():\n",
        "    predictions, _ = net.forward(X3)\n",
        "    print(\"Predictions after training:\")\n",
        "    print(predictions)\n"
      ]
    },
    {
      "cell_type": "markdown",
      "metadata": {
        "cell_id": "00027-de8a387d-3b6a-48d5-b6c8-fddf13637e38",
        "deepnote_app_coordinates": {
          "h": 5,
          "w": 12,
          "x": 0,
          "y": 162
        },
        "deepnote_cell_type": "markdown",
        "id": "_Hr_iAKX-ND1"
      },
      "source": [
        "## Problem 5"
      ]
    },
    {
      "cell_type": "code",
      "source": [
        "import torch\n",
        "import torch.nn as nn\n",
        "import torch.nn.functional as F\n",
        "\n",
        "class TwoLayerNetWithSigmoid:\n",
        "    def __init__(self, in_features: int, hidden_dim: int, dtype=torch.float32):\n",
        "        self.W1 = torch.randn(hidden_dim, in_features, dtype=dtype)\n",
        "        self.b1 = torch.zeros(hidden_dim, dtype=dtype)\n",
        "        self.W2 = torch.randn(hidden_dim, hidden_dim, dtype=dtype)\n",
        "        self.b2 = torch.zeros(hidden_dim, dtype=dtype)\n",
        "        self.W3 = torch.randn(1, hidden_dim, dtype=dtype)\n",
        "        self.b3 = torch.zeros(1, dtype=dtype)\n",
        "\n",
        "    def forward(self, X, Y=None, do_backward=False):\n",
        "        A1 = X @ self.W1.T + self.b1\n",
        "        O1 = torch.sigmoid(A1)\n",
        "        A2 = O1 @ self.W2.T + self.b2\n",
        "        O2 = torch.sigmoid(A2)\n",
        "        A3 = O2 @ self.W3.T + self.b3\n",
        "        O3 = torch.sigmoid(A3)\n",
        "\n",
        "        if Y is not None:\n",
        "            loss = - (Y * torch.log(O3) + (1 - Y) * torch.log(1 - O3))\n",
        "            loss = loss.sum() / X.shape[0]\n",
        "        else:\n",
        "            loss = torch.nan\n",
        "\n",
        "        if do_backward:\n",
        "            A3_grad = (O3 - Y) / X.shape[0]\n",
        "            self.b3_grad = A3_grad.sum(0)\n",
        "            self.W3_grad = A3_grad.T @ O2\n",
        "            O2_grad = A3_grad @ self.W3\n",
        "            A2_grad = O2_grad * O2 * (1 - O2)\n",
        "            self.b2_grad = A2_grad.sum(0)\n",
        "            self.W2_grad = A2_grad.T @ O1\n",
        "            O1_grad = A2_grad @ self.W2\n",
        "            A1_grad = O1_grad * O1 * (1 - O1)\n",
        "            self.b1_grad = A1_grad.sum(0)\n",
        "            self.W1_grad = A1_grad.T @ X\n",
        "\n",
        "        return O3, loss\n",
        "\n",
        "X3 = torch.tensor([\n",
        "    [0, 0, 0],\n",
        "    [0, 0, 1],\n",
        "    [0, 1, 0],\n",
        "    [0, 1, 1],\n",
        "    [1, 0, 0],\n",
        "    [1, 0, 1],\n",
        "    [1, 1, 0],\n",
        "    [1, 1, 1]\n",
        "], dtype=torch.float64)\n",
        "\n",
        "Y3 = torch.tensor([\n",
        "    [0],\n",
        "    [1],\n",
        "    [1],\n",
        "    [0],\n",
        "    [1],\n",
        "    [0],\n",
        "    [0],\n",
        "    [1]\n",
        "], dtype=torch.float64)\n",
        "\n",
        "def train_network(hidden_dim, epochs=10000, alpha=0.05):\n",
        "    net = TwoLayerNetWithSigmoid(in_features=3, hidden_dim=hidden_dim, dtype=torch.float64)\n",
        "\n",
        "    for epoch in range(epochs):\n",
        "        predictions, loss = net.forward(X3, Y3, do_backward=True)\n",
        "\n",
        "        if (epoch % 500) == 0:\n",
        "            print(f\"Epoch {epoch}, Loss: {loss.item()}\")\n",
        "\n",
        "        with torch.no_grad():\n",
        "            for param, grad in zip([net.W1, net.b1, net.W2, net.b2, net.W3, net.b3],\n",
        "                                   [net.W1_grad, net.b1_grad, net.W2_grad, net.b2_grad, net.W3_grad, net.b3_grad]):\n",
        "                param.data -= alpha * grad\n",
        "\n",
        "    with torch.no_grad():\n",
        "        predictions, _ = net.forward(X3)\n",
        "        print(\"\\nPredictions after training:\")\n",
        "        print(predictions)\n",
        "\n",
        "hidden_dim = 10\n",
        "print(\"\\nTraining network with 2 hidden layers (10 neurons in each hidden layer)\")\n",
        "train_network(hidden_dim)\n"
      ],
      "metadata": {
        "colab": {
          "base_uri": "https://localhost:8080/"
        },
        "id": "s6TSbC1Ob6Bj",
        "outputId": "1631413e-1d72-413a-b098-afa1094e7057"
      },
      "execution_count": null,
      "outputs": [
        {
          "output_type": "stream",
          "name": "stdout",
          "text": [
            "\n",
            "Training network with 2 hidden layers (10 neurons in each hidden layer)\n",
            "Epoch 0, Loss: 0.6925363320747925\n",
            "Epoch 500, Loss: 0.688595470561284\n",
            "Epoch 1000, Loss: 0.6868544318863096\n",
            "Epoch 1500, Loss: 0.6845683997017782\n",
            "Epoch 2000, Loss: 0.6814136329129343\n",
            "Epoch 2500, Loss: 0.676889590561436\n",
            "Epoch 3000, Loss: 0.6701604500324086\n",
            "Epoch 3500, Loss: 0.6597479856617344\n",
            "Epoch 4000, Loss: 0.643005529977792\n",
            "Epoch 4500, Loss: 0.6155310224418421\n",
            "Epoch 5000, Loss: 0.5706460767078705\n",
            "Epoch 5500, Loss: 0.4996451051921566\n",
            "Epoch 6000, Loss: 0.3986721861782587\n",
            "Epoch 6500, Loss: 0.28230322747908526\n",
            "Epoch 7000, Loss: 0.1819794549419098\n",
            "Epoch 7500, Loss: 0.11546386066612992\n",
            "Epoch 8000, Loss: 0.07648271554776662\n",
            "Epoch 8500, Loss: 0.053756007381134625\n",
            "Epoch 9000, Loss: 0.039885724413054255\n",
            "Epoch 9500, Loss: 0.030930860852991023\n",
            "\n",
            "Predictions after training:\n",
            "tensor([[0.0197],\n",
            "        [0.9814],\n",
            "        [0.9724],\n",
            "        [0.0171],\n",
            "        [0.9729],\n",
            "        [0.0192],\n",
            "        [0.0443],\n",
            "        [0.9777]], dtype=torch.float64)\n"
          ]
        }
      ]
    },
    {
      "cell_type": "markdown",
      "metadata": {
        "cell_id": "00029-1de44bc6-5f35-4df3-af9a-408291ccc867",
        "deepnote_app_coordinates": {
          "h": 5,
          "w": 12,
          "x": 0,
          "y": 174
        },
        "deepnote_cell_type": "markdown",
        "id": "4PcNxrCt-NcN"
      },
      "source": [
        "## Problem 6"
      ]
    },
    {
      "cell_type": "code",
      "source": [
        "import torch\n",
        "import torch.nn as nn\n",
        "import torch.nn.functional as F\n",
        "\n",
        "class DeepNetWithSigmoid:\n",
        "    def __init__(self, in_features: int, hidden_dim: int, num_hidden_layers: int, dtype=torch.float32):\n",
        "        self.num_hidden_layers = num_hidden_layers\n",
        "        self.weights = []\n",
        "        self.biases = []\n",
        "\n",
        "        self.weights.append(torch.randn(hidden_dim, in_features, dtype=dtype))\n",
        "        self.biases.append(torch.zeros(hidden_dim, dtype=dtype))\n",
        "\n",
        "        for _ in range(num_hidden_layers - 1):\n",
        "            self.weights.append(torch.randn(hidden_dim, hidden_dim, dtype=dtype))\n",
        "            self.biases.append(torch.zeros(hidden_dim, dtype=dtype))\n",
        "\n",
        "        self.weights.append(torch.randn(1, hidden_dim, dtype=dtype))\n",
        "        self.biases.append(torch.zeros(1, dtype=dtype))\n",
        "\n",
        "    def forward(self, X, Y=None, do_backward=False):\n",
        "        A = []\n",
        "        O = [X]\n",
        "        for i in range(self.num_hidden_layers):\n",
        "            A.append(O[-1] @ self.weights[i].T + self.biases[i])\n",
        "            O.append(torch.sigmoid(A[-1]))\n",
        "\n",
        "        A.append(O[-1] @ self.weights[-1].T + self.biases[-1])\n",
        "        O.append(torch.sigmoid(A[-1]))\n",
        "\n",
        "        if Y is not None:\n",
        "            loss = - (Y * torch.log(O[-1]) + (1 - Y) * torch.log(1 - O[-1]))\n",
        "            loss = loss.sum() / X.shape[0]\n",
        "        else:\n",
        "            loss = torch.nan\n",
        "\n",
        "        if do_backward:\n",
        "            A_grad = [None] * (self.num_hidden_layers + 1)\n",
        "            W_grad = [None] * (self.num_hidden_layers + 1)\n",
        "            b_grad = [None] * (self.num_hidden_layers + 1)\n",
        "\n",
        "            A_grad[-1] = (O[-1] - Y) / X.shape[0]\n",
        "            for i in reversed(range(self.num_hidden_layers + 1)):\n",
        "                W_grad[i] = A_grad[i].T @ O[i]\n",
        "                b_grad[i] = A_grad[i].sum(0)\n",
        "                if i > 0:\n",
        "                    O_grad = A_grad[i] @ self.weights[i]\n",
        "                    A_grad[i - 1] = O_grad * O[i] * (1 - O[i])\n",
        "\n",
        "            self.W_grad = W_grad\n",
        "            self.b_grad = b_grad\n",
        "\n",
        "        return O[-1], loss\n",
        "\n",
        "X3 = torch.tensor([\n",
        "    [0, 0, 0],\n",
        "    [0, 0, 1],\n",
        "    [0, 1, 0],\n",
        "    [0, 1, 1],\n",
        "    [1, 0, 0],\n",
        "    [1, 0, 1],\n",
        "    [1, 1, 0],\n",
        "    [1, 1, 1]\n",
        "], dtype=torch.float32)\n",
        "\n",
        "Y3 = torch.tensor([\n",
        "    [0],\n",
        "    [1],\n",
        "    [1],\n",
        "    [0],\n",
        "    [1],\n",
        "    [0],\n",
        "    [0],\n",
        "    [1]\n",
        "], dtype=torch.float32)\n",
        "\n",
        "def train_network(hidden_dim, num_hidden_layers, epochs=10000, alpha=0.05):\n",
        "    net = DeepNetWithSigmoid(in_features=3, hidden_dim=hidden_dim, num_hidden_layers=num_hidden_layers, dtype=torch.float32)\n",
        "\n",
        "    for epoch in range(epochs):\n",
        "        predictions, loss = net.forward(X3, Y3, do_backward=True)\n",
        "\n",
        "        if (epoch % 500) == 0:\n",
        "            print(f\"Epoch {epoch}, Loss: {loss.item()}\")\n",
        "\n",
        "        with torch.no_grad():\n",
        "            for i in range(len(net.weights)):\n",
        "                net.weights[i] -= alpha * net.W_grad[i]\n",
        "                net.biases[i] -= alpha * net.b_grad[i]\n",
        "\n",
        "    with torch.no_grad():\n",
        "        predictions, _ = net.forward(X3)\n",
        "        print(\"\\nPredictions after training:\")\n",
        "        print(predictions)\n",
        "\n",
        "hidden_dim = 10\n",
        "num_hidden_layers = 3\n",
        "print(\"\\nTraining network with 3 hidden layers (10 neurons in each hidden layer)\")\n",
        "train_network(hidden_dim, num_hidden_layers)\n",
        "\n",
        "\n",
        "hidden_dim = 5\n",
        "num_hidden_layers = 2\n",
        "print(\"\\nTraining network with 2 hidden layers (5 neurons in each hidden layer)\")\n",
        "train_network(hidden_dim, num_hidden_layers, alpha=0.1)\n"
      ],
      "metadata": {
        "colab": {
          "base_uri": "https://localhost:8080/"
        },
        "id": "Eq5w1_sibXC-",
        "outputId": "acd6ec4e-233c-498b-bdec-523648a32ff0"
      },
      "execution_count": null,
      "outputs": [
        {
          "output_type": "stream",
          "name": "stdout",
          "text": [
            "\n",
            "Training network with 3 hidden layers (10 neurons in each hidden layer)\n",
            "Epoch 0, Loss: 0.7228370904922485\n",
            "Epoch 500, Loss: 0.6941176056861877\n",
            "Epoch 1000, Loss: 0.6911745071411133\n",
            "Epoch 1500, Loss: 0.6882231831550598\n",
            "Epoch 2000, Loss: 0.6840925216674805\n",
            "Epoch 2500, Loss: 0.6774453520774841\n",
            "Epoch 3000, Loss: 0.6651928424835205\n",
            "Epoch 3500, Loss: 0.6383246779441833\n",
            "Epoch 4000, Loss: 0.5739147067070007\n",
            "Epoch 4500, Loss: 0.46342307329177856\n",
            "Epoch 5000, Loss: 0.3717484474182129\n",
            "Epoch 5500, Loss: 0.30958762764930725\n",
            "Epoch 6000, Loss: 0.24275875091552734\n",
            "Epoch 6500, Loss: 0.16244901716709137\n",
            "Epoch 7000, Loss: 0.09893820434808731\n",
            "Epoch 7500, Loss: 0.06224633380770683\n",
            "Epoch 8000, Loss: 0.042310893535614014\n",
            "Epoch 8500, Loss: 0.030890919268131256\n",
            "Epoch 9000, Loss: 0.023826543241739273\n",
            "Epoch 9500, Loss: 0.01914609596133232\n",
            "\n",
            "Predictions after training:\n",
            "tensor([[0.0118],\n",
            "        [0.9805],\n",
            "        [0.9890],\n",
            "        [0.0090],\n",
            "        [0.9767],\n",
            "        [0.0290],\n",
            "        [0.0115],\n",
            "        [0.9894]])\n",
            "\n",
            "Training network with 2 hidden layers (5 neurons in each hidden layer)\n",
            "Epoch 0, Loss: 1.2285497188568115\n",
            "Epoch 500, Loss: 0.6942154169082642\n",
            "Epoch 1000, Loss: 0.692038893699646\n",
            "Epoch 1500, Loss: 0.6895726323127747\n",
            "Epoch 2000, Loss: 0.6852157711982727\n",
            "Epoch 2500, Loss: 0.6747943162918091\n",
            "Epoch 3000, Loss: 0.6435250043869019\n",
            "Epoch 3500, Loss: 0.5498017072677612\n",
            "Epoch 4000, Loss: 0.30208924412727356\n",
            "Epoch 4500, Loss: 0.10265785455703735\n",
            "Epoch 5000, Loss: 0.04568059742450714\n",
            "Epoch 5500, Loss: 0.026593785732984543\n",
            "Epoch 6000, Loss: 0.017997652292251587\n",
            "Epoch 6500, Loss: 0.013316627591848373\n",
            "Epoch 7000, Loss: 0.010437551885843277\n",
            "Epoch 7500, Loss: 0.00851363129913807\n",
            "Epoch 8000, Loss: 0.007149026729166508\n",
            "Epoch 8500, Loss: 0.006136819254606962\n",
            "Epoch 9000, Loss: 0.0053595793433487415\n",
            "Epoch 9500, Loss: 0.004745962098240852\n",
            "\n",
            "Predictions after training:\n",
            "tensor([[0.0024],\n",
            "        [0.9942],\n",
            "        [0.9945],\n",
            "        [0.0048],\n",
            "        [0.9950],\n",
            "        [0.0043],\n",
            "        [0.0045],\n",
            "        [0.9983]])\n"
          ]
        }
      ]
    },
    {
      "cell_type": "markdown",
      "metadata": {
        "cell_id": "00031-032edb86-1c56-46e7-8ea3-3e011d72bf5f",
        "deepnote_app_coordinates": {
          "h": 5,
          "w": 12,
          "x": 0,
          "y": 186
        },
        "deepnote_cell_type": "markdown",
        "id": "nWuv7Q77-Nut"
      },
      "source": [
        "## Problem 7"
      ]
    },
    {
      "cell_type": "markdown",
      "source": [
        "solution above, at the beginning of the notebook"
      ],
      "metadata": {
        "id": "j6-paVRkcx77"
      }
    }
  ],
  "metadata": {
    "colab": {
      "provenance": []
    },
    "deepnote": {},
    "deepnote_app_layout": "article",
    "deepnote_execution_queue": [],
    "deepnote_notebook_id": "1f038069-bae5-44e5-92ba-67bdff2c54a6",
    "kernelspec": {
      "display_name": "Python 3 (ipykernel)",
      "language": "python",
      "name": "python3"
    },
    "language_info": {
      "codemirror_mode": {
        "name": "ipython",
        "version": 3
      },
      "file_extension": ".py",
      "mimetype": "text/x-python",
      "name": "python",
      "nbconvert_exporter": "python",
      "pygments_lexer": "ipython3",
      "version": "3.9.16"
    }
  },
  "nbformat": 4,
  "nbformat_minor": 0
}