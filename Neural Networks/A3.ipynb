{
  "cells": [
    {
      "cell_type": "markdown",
      "metadata": {
        "id": "8ulhVYI86xhZ"
      },
      "source": [
        "# Assignment 3\n",
        "\n",
        "**Submission deadlines:**\n",
        "\n",
        "  - Tuesday groups: 22.04.2025\n",
        "  - Friday groups: 18.04.2025\n",
        "\n",
        "**Points:** Aim to get 10 points + 4 extra\n",
        "\n",
        "## Submission instructions\n",
        "The class is held on-site in lab rooms. Please prepare you notebook on your computer or anywhere in the cloud (try using DeepNote or Google Colab).\n",
        "\n",
        "Make sure you know all the questions and answers, and that the notebook contains results; before presentation do `Runtime -> Restart and run all`\n",
        "\n",
        "![Alt text](data:image/png;base64,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)\n",
        "\n",
        "We provide starter code, however you are not required to use it as long as you properly solve the tasks."
      ]
    },
    {
      "cell_type": "markdown",
      "metadata": {
        "id": "6pq455pMGbe2"
      },
      "source": [
        "# Classify the Oxford Flowers dataset (Weight & Biases) [6p]\n",
        "\n",
        "In this task, you will train a convolutional neural network to classify images of flowers from the [Oxford Flowers 102 dataset](https://www.robots.ox.ac.uk/~vgg/data/flowers/102/). The dataset consists of 102 flower categories, and each class has between 40 and 258 images. The images have large scale, pose, and light variations. In addition, there are categories that have large variations within the category and several very similar categories.\n",
        "\n",
        "    \n",
        "The dataset is available in `torchvision.datasets.Flowers102` class; see [Flowers102.html](https://pytorch.org/vision/main/generated/torchvision.datasets.Flowers102.html). You can use the following code to load the dataset:\n",
        "\n",
        "```python\n",
        "import torchvision\n",
        "import torchvision.transforms as transforms\n",
        "\n",
        "dataset = torchvision.datasets.Flowers102(root='./data', download=True, transform=transforms.ToTensor())\n",
        "```\n",
        "\n",
        "**Hint**: The default split of the dataset is 1020, 1020 and 6149 images for training, validation and test sets respectively.\n",
        "If you can handle the bigger training dataset, you can experiment by taking up to 80% of the test set for training.\n",
        "\n",
        "\n",
        "In this task you should run several experiments to classify the images.\n",
        "In order to track the experiments, you can use the `Weight & Biases` library; see the [documentation](https://docs.wandb.ai/quickstart) for more details.\n",
        "\n",
        "Implement your code as a single Python script or a Jupyter notebook. Remember to log the experiment configuration, hyperparameters, and results (e.g., training loss, validation loss, accuracy and test loss, accuracy).\n",
        "For logging, you can use the `wandb.log` function to log the metrics and hyperparameters. You can also log the model architecture, training curves, and other relevant information.\n",
        "\n",
        "* 1. **[1p]**:\n",
        "    * Your task is to implement a convolutional neural network from scratch using PyTorch.\n",
        "    * Your CNN should consist of convolutional layers (Conv2D), pooling layers (MaxPooling2D), activation layers (e.g., ReLU), and fully connected layers (if needed).\n",
        "    \n",
        "* 2. **[2p]**:\n",
        "    * Train your CNN on different training set sized (10%, 20%, 50%, 80%, 100%) and evaluate the performance on the validation set and test set.\n",
        "        * Report the accuracy and loss on the validation set and test set for each training set size.\n",
        "    * Train your CNN on the full training set plus 20%, 50% and 80% of the test set and evaluate the performance on the validation set and the remaining test set.\n",
        "        * Report the accuracy and loss on the validation set and remaining test set for each training set size.\n",
        "    * Compare the performance of your CNN on the different training set sizes and analyze the results.\n",
        "\n",
        "* 3. **[1p]**:\n",
        "    * Implement a baseline AlexNet model using PyTorch.\n",
        "    * Training AlexNet may take a long time, so try to use GPU acceleration if available.\n",
        "\n",
        "* 4. **[1p]**:\n",
        "    * Input normalization: experiment with different input normalization techniques (e.g., mean subtraction, standardization) and analyze their impact on the model's performance.\n",
        "\n",
        "* 5. **[2p]**:\n",
        "    * Experiment with different hyperparameters such as learning rate, batch size, number of epochs, and optimizer choice (e.g., SGD, Adam).\n",
        "\n",
        "* 6. **[2p]**:\n",
        "    * Modify your CNN architecture to include batch normalization and dropout layers.\n",
        "    * Experiment with different dropout rates and analyze their impact on the model's performance.\n",
        "\n",
        "* 7. **[1p]**:\n",
        "    * Implement data augmentation techniques such as random rotations, shifts, flips, and zooms on the training dataset.\n",
        "    * Train your CNN with augmented data and compare the performance with the baseline model trained on the original data.\n",
        "\n",
        "* 8. ***[2p extra points]***:\n",
        "    * Implement residual connections in your CNN architecture; see the [ResNet paper](https://arxiv.org/abs/1512.03385) for more details.\n",
        "    * Implement inception modules in your CNN architecture; see the [GoogLeNet paper](https://arxiv.org/abs/1409.4842) for more details.\n",
        "                \n",
        "\n",
        "Analyze the results obtained from different experiments.\n",
        "Discuss the effects of varying training set size, hyperparameters, batch normalization, dropout, and data augmentation on the CNN's performance.\n",
        "Provide insights into how these factors influence model training, convergence, and generalization.\n",
        "\n",
        "Use the `Weight & Biases` reports to present your findings in a comprehensive report or presentation; see the [documentation](https://docs.wandb.ai/quickstart) for more details.\n",
        "\n",
        "**[2p extra]**: present your findings (for each task) in a report format in Weight & Biases.\n",
        "\n",
        "\n"
      ]
    },
    {
      "cell_type": "markdown",
      "metadata": {
        "id": "VQaf_QBHGbe2"
      },
      "source": [
        "# ZAD.1"
      ]
    },
    {
      "cell_type": "code",
      "source": [
        "import torch\n",
        "import torch.nn as nn\n",
        "import torch.optim as optim\n",
        "from torchvision import datasets, transforms\n",
        "from torch.utils.data import DataLoader\n",
        "import wandb\n",
        "\n",
        "wandb.init(project='flowers102-cnn', entity='kicza', name='zad.1')\n",
        "\n",
        "device = torch.device('cuda' if torch.cuda.is_available() else 'cpu')\n",
        "\n",
        "transform = transforms.Compose([\n",
        "    transforms.Resize((224, 224)),\n",
        "    transforms.ToTensor(),\n",
        "    transforms.Normalize((0.5, 0.5, 0.5), (0.5, 0.5, 0.5))\n",
        "])\n",
        "\n",
        "train_dataset = datasets.Flowers102(root='./data', split='train', download=True, transform=transform)\n",
        "val_dataset = datasets.Flowers102(root='./data', split='val', download=True, transform=transform)\n",
        "test_dataset = datasets.Flowers102(root='./data', split='test', download=True, transform=transform)\n",
        "\n",
        "train_loader = DataLoader(train_dataset, batch_size=32, shuffle=True)\n",
        "val_loader = DataLoader(val_dataset, batch_size=32, shuffle=False)\n",
        "test_loader = DataLoader(test_dataset, batch_size=32, shuffle=False)\n",
        "\n",
        "class SimpleCNN(nn.Module):\n",
        "    def __init__(self, num_classes=102):\n",
        "        super(SimpleCNN, self).__init__()\n",
        "        self.conv1 = nn.Conv2d(in_channels=3, out_channels=16, kernel_size=3, stride=1, padding=1)\n",
        "        self.conv2 = nn.Conv2d(in_channels=16, out_channels=32, kernel_size=3, stride=1, padding=1)\n",
        "        self.pool = nn.MaxPool2d(2, 2)\n",
        "        self.fc1 = nn.Linear(32 * 56 * 56, 128)\n",
        "        self.fc2 = nn.Linear(128, num_classes)\n",
        "        self.relu = nn.ReLU()\n",
        "\n",
        "    def forward(self, x):\n",
        "        x = self.relu(self.conv1(x))\n",
        "        x = self.pool(x)\n",
        "        x = self.relu(self.conv2(x))\n",
        "        x = self.pool(x)\n",
        "        x = x.view(-1, 32 * 56 * 56)\n",
        "        x = self.relu(self.fc1(x))\n",
        "        x = self.fc2(x)\n",
        "        return x\n",
        "\n",
        "model = SimpleCNN(num_classes=102)\n",
        "model = model.to(device)\n",
        "\n",
        "criterion = nn.CrossEntropyLoss()\n",
        "optimizer = optim.Adam(model.parameters(), lr=0.0001)\n",
        "\n",
        "scheduler = optim.lr_scheduler.StepLR(optimizer, step_size=5, gamma=0.1)\n",
        "\n",
        "patience = 5\n",
        "best_val_loss = float('inf')\n",
        "epochs_without_improvement = 0\n",
        "\n",
        "num_epochs = 20\n",
        "\n",
        "for epoch in range(num_epochs):\n",
        "    model.train()\n",
        "    running_loss = 0.0\n",
        "    correct = 0\n",
        "    total = 0\n",
        "\n",
        "    for inputs, labels in train_loader:\n",
        "        inputs, labels = inputs.to(device), labels.to(device)\n",
        "        optimizer.zero_grad()\n",
        "        outputs = model(inputs)\n",
        "        loss = criterion(outputs, labels)\n",
        "        loss.backward()\n",
        "        optimizer.step()\n",
        "        running_loss += loss.item()\n",
        "        _, predicted = torch.max(outputs, 1)\n",
        "        total += labels.size(0)\n",
        "        correct += (predicted == labels).sum().item()\n",
        "\n",
        "    train_loss = running_loss / len(train_loader)\n",
        "    train_accuracy = 100 * correct / total\n",
        "\n",
        "    model.eval()\n",
        "    val_loss = 0.0\n",
        "    correct = 0\n",
        "    total = 0\n",
        "\n",
        "    with torch.no_grad():\n",
        "        for inputs, labels in val_loader:\n",
        "            inputs, labels = inputs.to(device), labels.to(device)\n",
        "            outputs = model(inputs)\n",
        "            loss = criterion(outputs, labels)\n",
        "            val_loss += loss.item()\n",
        "            _, predicted = torch.max(outputs, 1)\n",
        "            total += labels.size(0)\n",
        "            correct += (predicted == labels).sum().item()\n",
        "\n",
        "    val_loss = val_loss / len(val_loader)\n",
        "    val_accuracy = 100 * correct / total\n",
        "\n",
        "    wandb.log({\n",
        "        'epoch': epoch + 1,\n",
        "        'train_loss': train_loss,\n",
        "        'train_accuracy': train_accuracy,\n",
        "        'val_loss': val_loss,\n",
        "        'val_accuracy': val_accuracy\n",
        "    })\n",
        "\n",
        "    print(f'Epoch [{epoch+1}/{num_epochs}], '\n",
        "          f'Training Loss: {train_loss:.4f}, Training Accuracy: {train_accuracy:.2f}%, '\n",
        "          f'Validation Loss: {val_loss:.4f}, Validation Accuracy: {val_accuracy:.2f}%')\n",
        "\n",
        "    if val_loss < best_val_loss:\n",
        "        best_val_loss = val_loss\n",
        "        epochs_without_improvement = 0\n",
        "    else:\n",
        "        epochs_without_improvement += 1\n",
        "\n",
        "    if epochs_without_improvement >= patience:\n",
        "        print(f'Early stopping at epoch {epoch+1} due to no improvement in validation loss')\n",
        "        break\n",
        "\n",
        "    scheduler.step()\n",
        "\n",
        "model.eval()\n",
        "test_loss = 0.0\n",
        "correct = 0\n",
        "total = 0\n",
        "\n",
        "with torch.no_grad():\n",
        "    for inputs, labels in test_loader:\n",
        "        inputs, labels = inputs.to(device), labels.to(device)\n",
        "        outputs = model(inputs)\n",
        "        loss = criterion(outputs, labels)\n",
        "        test_loss += loss.item()\n",
        "        _, predicted = torch.max(outputs, 1)\n",
        "        total += labels.size(0)\n",
        "        correct += (predicted == labels).sum().item()\n",
        "\n",
        "test_loss = test_loss / len(test_loader)\n",
        "test_accuracy = 100 * correct / total\n",
        "\n",
        "wandb.log({\n",
        "    'test_loss': test_loss,\n",
        "    'test_accuracy': test_accuracy\n",
        "})\n",
        "\n",
        "print(f'Test Loss: {test_loss:.4f}, Test Accuracy: {test_accuracy:.2f}%')\n",
        "\n",
        "wandb.finish()\n"
      ],
      "metadata": {
        "colab": {
          "base_uri": "https://localhost:8080/",
          "height": 1000
        },
        "id": "5UZMqRHd4EXN",
        "outputId": "7597c6ac-b8ee-47ed-9acf-cdcd67edbf77"
      },
      "execution_count": null,
      "outputs": [
        {
          "output_type": "display_data",
          "data": {
            "text/plain": [
              "<IPython.core.display.HTML object>"
            ],
            "text/html": []
          },
          "metadata": {}
        },
        {
          "output_type": "display_data",
          "data": {
            "text/plain": [
              "<IPython.core.display.HTML object>"
            ],
            "text/html": [
              "<br>    <style><br>        .wandb-row {<br>            display: flex;<br>            flex-direction: row;<br>            flex-wrap: wrap;<br>            justify-content: flex-start;<br>            width: 100%;<br>        }<br>        .wandb-col {<br>            display: flex;<br>            flex-direction: column;<br>            flex-basis: 100%;<br>            flex: 1;<br>            padding: 10px;<br>        }<br>    </style><br><div class=\"wandb-row\"><div class=\"wandb-col\"><h3>Run history:</h3><br/><table class=\"wandb\"><tr><td>epoch</td><td>▁▂▃▄▅▅▆▇█</td></tr><tr><td>train_accuracy</td><td>▁▁▂▃▄▇▇██</td></tr><tr><td>train_loss</td><td>█▇▇▅▄▂▂▁▁</td></tr><tr><td>val_accuracy</td><td>▁▂▄▅▆████</td></tr><tr><td>val_loss</td><td>█▇▅▃▂▁▁▁▁</td></tr></table><br/></div><div class=\"wandb-col\"><h3>Run summary:</h3><br/><table class=\"wandb\"><tr><td>epoch</td><td>9</td></tr><tr><td>train_accuracy</td><td>64.21569</td></tr><tr><td>train_loss</td><td>2.02586</td></tr><tr><td>val_accuracy</td><td>10.29412</td></tr><tr><td>val_loss</td><td>4.04613</td></tr></table><br/></div></div>"
            ]
          },
          "metadata": {}
        },
        {
          "output_type": "display_data",
          "data": {
            "text/plain": [
              "<IPython.core.display.HTML object>"
            ],
            "text/html": [
              " View run <strong style=\"color:#cdcd00\">zad.1</strong> at: <a href='https://wandb.ai/kicza/flowers102-cnn/runs/ucdibk5z' target=\"_blank\">https://wandb.ai/kicza/flowers102-cnn/runs/ucdibk5z</a><br> View project at: <a href='https://wandb.ai/kicza/flowers102-cnn' target=\"_blank\">https://wandb.ai/kicza/flowers102-cnn</a><br>Synced 5 W&B file(s), 0 media file(s), 0 artifact file(s) and 0 other file(s)"
            ]
          },
          "metadata": {}
        },
        {
          "output_type": "display_data",
          "data": {
            "text/plain": [
              "<IPython.core.display.HTML object>"
            ],
            "text/html": [
              "Find logs at: <code>./wandb/run-20250408_202052-ucdibk5z/logs</code>"
            ]
          },
          "metadata": {}
        },
        {
          "output_type": "display_data",
          "data": {
            "text/plain": [
              "<IPython.core.display.HTML object>"
            ],
            "text/html": [
              "Tracking run with wandb version 0.19.9"
            ]
          },
          "metadata": {}
        },
        {
          "output_type": "display_data",
          "data": {
            "text/plain": [
              "<IPython.core.display.HTML object>"
            ],
            "text/html": [
              "Run data is saved locally in <code>/content/wandb/run-20250408_202248-ez73bfku</code>"
            ]
          },
          "metadata": {}
        },
        {
          "output_type": "display_data",
          "data": {
            "text/plain": [
              "<IPython.core.display.HTML object>"
            ],
            "text/html": [
              "Syncing run <strong><a href='https://wandb.ai/kicza/flowers102-cnn/runs/ez73bfku' target=\"_blank\">zad.1</a></strong> to <a href='https://wandb.ai/kicza/flowers102-cnn' target=\"_blank\">Weights & Biases</a> (<a href='https://wandb.me/developer-guide' target=\"_blank\">docs</a>)<br>"
            ]
          },
          "metadata": {}
        },
        {
          "output_type": "display_data",
          "data": {
            "text/plain": [
              "<IPython.core.display.HTML object>"
            ],
            "text/html": [
              " View project at <a href='https://wandb.ai/kicza/flowers102-cnn' target=\"_blank\">https://wandb.ai/kicza/flowers102-cnn</a>"
            ]
          },
          "metadata": {}
        },
        {
          "output_type": "display_data",
          "data": {
            "text/plain": [
              "<IPython.core.display.HTML object>"
            ],
            "text/html": [
              " View run at <a href='https://wandb.ai/kicza/flowers102-cnn/runs/ez73bfku' target=\"_blank\">https://wandb.ai/kicza/flowers102-cnn/runs/ez73bfku</a>"
            ]
          },
          "metadata": {}
        },
        {
          "output_type": "stream",
          "name": "stdout",
          "text": [
            "Epoch [1/20], Training Loss: 4.6326, Training Accuracy: 2.06%, Validation Loss: 4.5682, Validation Accuracy: 2.06%\n",
            "Epoch [2/20], Training Loss: 4.4589, Training Accuracy: 5.98%, Validation Loss: 4.4646, Validation Accuracy: 3.82%\n",
            "Epoch [3/20], Training Loss: 4.2335, Training Accuracy: 8.24%, Validation Loss: 4.3629, Validation Accuracy: 6.76%\n",
            "Epoch [4/20], Training Loss: 3.8965, Training Accuracy: 14.90%, Validation Loss: 4.2180, Validation Accuracy: 7.16%\n",
            "Epoch [5/20], Training Loss: 3.4705, Training Accuracy: 22.84%, Validation Loss: 4.1233, Validation Accuracy: 8.63%\n",
            "Epoch [6/20], Training Loss: 3.1009, Training Accuracy: 33.63%, Validation Loss: 4.0324, Validation Accuracy: 10.00%\n",
            "Epoch [7/20], Training Loss: 2.9909, Training Accuracy: 39.71%, Validation Loss: 4.0083, Validation Accuracy: 9.22%\n",
            "Epoch [8/20], Training Loss: 2.9284, Training Accuracy: 40.59%, Validation Loss: 3.9944, Validation Accuracy: 9.51%\n",
            "Epoch [9/20], Training Loss: 2.8716, Training Accuracy: 43.53%, Validation Loss: 3.9828, Validation Accuracy: 9.71%\n",
            "Epoch [10/20], Training Loss: 2.8208, Training Accuracy: 44.80%, Validation Loss: 3.9717, Validation Accuracy: 10.00%\n",
            "Epoch [11/20], Training Loss: 2.7756, Training Accuracy: 46.67%, Validation Loss: 3.9702, Validation Accuracy: 10.10%\n",
            "Epoch [12/20], Training Loss: 2.7692, Training Accuracy: 47.06%, Validation Loss: 3.9689, Validation Accuracy: 10.29%\n",
            "Epoch [13/20], Training Loss: 2.7625, Training Accuracy: 46.76%, Validation Loss: 3.9679, Validation Accuracy: 10.29%\n",
            "Epoch [14/20], Training Loss: 2.7579, Training Accuracy: 47.45%, Validation Loss: 3.9667, Validation Accuracy: 10.20%\n",
            "Epoch [15/20], Training Loss: 2.7538, Training Accuracy: 47.35%, Validation Loss: 3.9659, Validation Accuracy: 10.20%\n",
            "Epoch [16/20], Training Loss: 2.7501, Training Accuracy: 47.65%, Validation Loss: 3.9658, Validation Accuracy: 10.20%\n",
            "Epoch [17/20], Training Loss: 2.7489, Training Accuracy: 47.45%, Validation Loss: 3.9657, Validation Accuracy: 10.20%\n",
            "Epoch [18/20], Training Loss: 2.7482, Training Accuracy: 47.45%, Validation Loss: 3.9656, Validation Accuracy: 10.20%\n",
            "Epoch [19/20], Training Loss: 2.7473, Training Accuracy: 47.55%, Validation Loss: 3.9655, Validation Accuracy: 10.20%\n",
            "Epoch [20/20], Training Loss: 2.7483, Training Accuracy: 47.45%, Validation Loss: 3.9654, Validation Accuracy: 10.20%\n",
            "Test Loss: 4.0569, Test Accuracy: 9.60%\n"
          ]
        },
        {
          "output_type": "display_data",
          "data": {
            "text/plain": [
              "<IPython.core.display.HTML object>"
            ],
            "text/html": []
          },
          "metadata": {}
        },
        {
          "output_type": "display_data",
          "data": {
            "text/plain": [
              "<IPython.core.display.HTML object>"
            ],
            "text/html": [
              "<br>    <style><br>        .wandb-row {<br>            display: flex;<br>            flex-direction: row;<br>            flex-wrap: wrap;<br>            justify-content: flex-start;<br>            width: 100%;<br>        }<br>        .wandb-col {<br>            display: flex;<br>            flex-direction: column;<br>            flex-basis: 100%;<br>            flex: 1;<br>            padding: 10px;<br>        }<br>    </style><br><div class=\"wandb-row\"><div class=\"wandb-col\"><h3>Run history:</h3><br/><table class=\"wandb\"><tr><td>epoch</td><td>▁▁▂▂▂▃▃▄▄▄▅▅▅▆▆▇▇▇██</td></tr><tr><td>test_accuracy</td><td>▁</td></tr><tr><td>test_loss</td><td>▁</td></tr><tr><td>train_accuracy</td><td>▁▂▂▃▄▆▇▇▇███████████</td></tr><tr><td>train_loss</td><td>█▇▇▅▄▂▂▂▁▁▁▁▁▁▁▁▁▁▁▁</td></tr><tr><td>val_accuracy</td><td>▁▂▅▅▇█▇▇▇███████████</td></tr><tr><td>val_loss</td><td>█▇▆▄▃▂▁▁▁▁▁▁▁▁▁▁▁▁▁▁</td></tr></table><br/></div><div class=\"wandb-col\"><h3>Run summary:</h3><br/><table class=\"wandb\"><tr><td>epoch</td><td>20</td></tr><tr><td>test_accuracy</td><td>9.59506</td></tr><tr><td>test_loss</td><td>4.05687</td></tr><tr><td>train_accuracy</td><td>47.45098</td></tr><tr><td>train_loss</td><td>2.74828</td></tr><tr><td>val_accuracy</td><td>10.19608</td></tr><tr><td>val_loss</td><td>3.9654</td></tr></table><br/></div></div>"
            ]
          },
          "metadata": {}
        },
        {
          "output_type": "display_data",
          "data": {
            "text/plain": [
              "<IPython.core.display.HTML object>"
            ],
            "text/html": [
              " View run <strong style=\"color:#cdcd00\">zad.1</strong> at: <a href='https://wandb.ai/kicza/flowers102-cnn/runs/ez73bfku' target=\"_blank\">https://wandb.ai/kicza/flowers102-cnn/runs/ez73bfku</a><br> View project at: <a href='https://wandb.ai/kicza/flowers102-cnn' target=\"_blank\">https://wandb.ai/kicza/flowers102-cnn</a><br>Synced 5 W&B file(s), 0 media file(s), 0 artifact file(s) and 0 other file(s)"
            ]
          },
          "metadata": {}
        },
        {
          "output_type": "display_data",
          "data": {
            "text/plain": [
              "<IPython.core.display.HTML object>"
            ],
            "text/html": [
              "Find logs at: <code>./wandb/run-20250408_202248-ez73bfku/logs</code>"
            ]
          },
          "metadata": {}
        }
      ]
    },
    {
      "cell_type": "markdown",
      "source": [
        "# ZAD.2"
      ],
      "metadata": {
        "id": "BuVjPgu3-1Tn"
      }
    },
    {
      "cell_type": "code",
      "source": [
        "import torch\n",
        "import torch.nn as nn\n",
        "import torch.optim as optim\n",
        "from torchvision import datasets, transforms\n",
        "from torch.utils.data import DataLoader, random_split, ConcatDataset\n",
        "import wandb\n",
        "\n",
        "device = torch.device(\"cuda\" if torch.cuda.is_available() else \"cpu\")\n",
        "BATCH_SIZE = 32\n",
        "NUM_EPOCHS = 20\n",
        "PATIENCE = 5\n",
        "\n",
        "transform = transforms.Compose([\n",
        "    transforms.Resize((224, 224)),\n",
        "    transforms.ToTensor(),\n",
        "    transforms.Normalize((0.5, 0.5, 0.5), (0.5, 0.5, 0.5))\n",
        "])\n",
        "\n",
        "full_train_dataset = datasets.Flowers102(root='./data', split='train', download=True, transform=transform)\n",
        "val_dataset = datasets.Flowers102(root='./data', split='val', download=True, transform=transform)\n",
        "full_test_dataset = datasets.Flowers102(root='./data', split='test', download=True, transform=transform)\n",
        "\n",
        "class SimpleCNN(nn.Module):\n",
        "    def __init__(self, num_classes=102):\n",
        "        super(SimpleCNN, self).__init__()\n",
        "        self.conv1 = nn.Conv2d(3, 16, kernel_size=3, padding=1)\n",
        "        self.conv2 = nn.Conv2d(16, 32, kernel_size=3, padding=1)\n",
        "        self.pool = nn.MaxPool2d(2, 2)\n",
        "        self.fc1 = nn.Linear(32 * 56 * 56, 128)\n",
        "        self.fc2 = nn.Linear(128, num_classes)\n",
        "        self.relu = nn.ReLU()\n",
        "\n",
        "    def forward(self, x):\n",
        "        x = self.relu(self.conv1(x))\n",
        "        x = self.pool(x)\n",
        "        x = self.relu(self.conv2(x))\n",
        "        x = self.pool(x)\n",
        "        x = x.view(-1, 32 * 56 * 56)\n",
        "        x = self.relu(self.fc1(x))\n",
        "        x = self.fc2(x)\n",
        "        return x\n",
        "\n",
        "def get_subset(dataset, ratio):\n",
        "    size = int(len(dataset) * ratio)\n",
        "    return random_split(dataset, [size, len(dataset) - size])[0]\n",
        "\n",
        "def run_experiment(train_dataset, val_dataset, test_dataset, run_name):\n",
        "    wandb.init(project='flowers102-cnn', entity='kicza', name=run_name)\n",
        "\n",
        "    train_loader = DataLoader(train_dataset, batch_size=BATCH_SIZE, shuffle=True)\n",
        "    val_loader = DataLoader(val_dataset, batch_size=BATCH_SIZE, shuffle=False)\n",
        "    test_loader = DataLoader(test_dataset, batch_size=BATCH_SIZE, shuffle=False)\n",
        "\n",
        "    model = SimpleCNN(num_classes=102).to(device)\n",
        "    criterion = nn.CrossEntropyLoss()\n",
        "    optimizer = optim.Adam(model.parameters(), lr=0.0001)\n",
        "    scheduler = optim.lr_scheduler.StepLR(optimizer, step_size=5, gamma=0.1)\n",
        "\n",
        "    best_val_loss = float('inf')\n",
        "    epochs_no_improve = 0\n",
        "\n",
        "    for epoch in range(NUM_EPOCHS):\n",
        "        model.train()\n",
        "        running_loss, correct, total = 0.0, 0, 0\n",
        "        for inputs, labels in train_loader:\n",
        "            inputs, labels = inputs.to(device), labels.to(device)\n",
        "            optimizer.zero_grad()\n",
        "            outputs = model(inputs)\n",
        "            loss = criterion(outputs, labels)\n",
        "            loss.backward()\n",
        "            optimizer.step()\n",
        "\n",
        "            running_loss += loss.item()\n",
        "            _, predicted = torch.max(outputs, 1)\n",
        "            total += labels.size(0)\n",
        "            correct += (predicted == labels).sum().item()\n",
        "\n",
        "        train_loss = running_loss / len(train_loader)\n",
        "        train_acc = 100 * correct / total\n",
        "\n",
        "        model.eval()\n",
        "        val_loss, correct, total = 0.0, 0, 0\n",
        "        with torch.no_grad():\n",
        "            for inputs, labels in val_loader:\n",
        "                inputs, labels = inputs.to(device), labels.to(device)\n",
        "                outputs = model(inputs)\n",
        "                loss = criterion(outputs, labels)\n",
        "                val_loss += loss.item()\n",
        "                _, predicted = torch.max(outputs, 1)\n",
        "                total += labels.size(0)\n",
        "                correct += (predicted == labels).sum().item()\n",
        "        val_loss /= len(val_loader)\n",
        "        val_acc = 100 * correct / total\n",
        "\n",
        "        wandb.log({\n",
        "            'epoch': epoch + 1,\n",
        "            'train_loss': train_loss,\n",
        "            'train_accuracy': train_acc,\n",
        "            'val_loss': val_loss,\n",
        "            'val_accuracy': val_acc\n",
        "        })\n",
        "\n",
        "        print(f\"[{epoch+1}/{NUM_EPOCHS}] Train Loss: {train_loss:.4f}, Train Acc: {train_acc:.2f}%, \"\n",
        "              f\"Val Loss: {val_loss:.4f}, Val Acc: {val_acc:.2f}%\")\n",
        "\n",
        "        if val_loss < best_val_loss:\n",
        "            best_val_loss = val_loss\n",
        "            epochs_no_improve = 0\n",
        "        else:\n",
        "            epochs_no_improve += 1\n",
        "        if epochs_no_improve >= PATIENCE:\n",
        "            print(f\"Early stopping at epoch {epoch+1}\")\n",
        "            break\n",
        "\n",
        "        scheduler.step()\n",
        "\n",
        "    model.eval()\n",
        "    test_loss, correct, total = 0.0, 0, 0\n",
        "    with torch.no_grad():\n",
        "        for inputs, labels in test_loader:\n",
        "            inputs, labels = inputs.to(device), labels.to(device)\n",
        "            outputs = model(inputs)\n",
        "            loss = criterion(outputs, labels)\n",
        "            test_loss += loss.item()\n",
        "            _, predicted = torch.max(outputs, 1)\n",
        "            total += labels.size(0)\n",
        "            correct += (predicted == labels).sum().item()\n",
        "\n",
        "    test_loss /= len(test_loader)\n",
        "    test_acc = 100 * correct / total\n",
        "\n",
        "    print(f\"Test Loss: {test_loss:.4f}, Test Accuracy: {test_acc:.2f}%\")\n",
        "\n",
        "    wandb.log({\n",
        "        'final_test_loss': test_loss,\n",
        "        'final_test_accuracy': test_acc\n",
        "    })\n",
        "\n",
        "    wandb.finish()\n",
        "\n",
        "\n",
        "# Part 1: Training on various training sizes\n",
        "for ratio in [0.1, 0.2, 0.5, 0.8, 1.0]:\n",
        "    subset = get_subset(full_train_dataset, ratio)\n",
        "    run_experiment(subset, val_dataset, full_test_dataset, run_name=f\"train_{int(ratio*100)}pct\")\n",
        "\n",
        "# Part 2: Add parts of test set to training\n",
        "for extra_ratio in [0.2, 0.5, 0.8]:\n",
        "    extra_size = int(len(full_test_dataset) * extra_ratio)\n",
        "    remaining_size = len(full_test_dataset) - extra_size\n",
        "    extra_test, remaining_test = random_split(full_test_dataset, [extra_size, remaining_size])\n",
        "    new_train_dataset = ConcatDataset([full_train_dataset, extra_test])\n",
        "    run_experiment(new_train_dataset, val_dataset, remaining_test, run_name=f\"train_full+{int(extra_ratio*100)}pct_test\")\n"
      ],
      "metadata": {
        "colab": {
          "base_uri": "https://localhost:8080/",
          "height": 1000
        },
        "id": "Rh_RyDHz6hBE",
        "outputId": "d4e5daff-221f-4b87-af16-cb1cc9363f1a"
      },
      "execution_count": null,
      "outputs": [
        {
          "output_type": "display_data",
          "data": {
            "text/plain": [
              "<IPython.core.display.HTML object>"
            ],
            "text/html": []
          },
          "metadata": {}
        },
        {
          "output_type": "display_data",
          "data": {
            "text/plain": [
              "<IPython.core.display.HTML object>"
            ],
            "text/html": [
              " View run <strong style=\"color:#cdcd00\">train_10pct</strong> at: <a href='https://wandb.ai/kicza/flowers102-cnn/runs/t872bgci' target=\"_blank\">https://wandb.ai/kicza/flowers102-cnn/runs/t872bgci</a><br> View project at: <a href='https://wandb.ai/kicza/flowers102-cnn' target=\"_blank\">https://wandb.ai/kicza/flowers102-cnn</a><br>Synced 5 W&B file(s), 0 media file(s), 0 artifact file(s) and 0 other file(s)"
            ]
          },
          "metadata": {}
        },
        {
          "output_type": "display_data",
          "data": {
            "text/plain": [
              "<IPython.core.display.HTML object>"
            ],
            "text/html": [
              "Find logs at: <code>./wandb/run-20250409_163707-t872bgci/logs</code>"
            ]
          },
          "metadata": {}
        },
        {
          "output_type": "display_data",
          "data": {
            "text/plain": [
              "<IPython.core.display.HTML object>"
            ],
            "text/html": [
              "Tracking run with wandb version 0.19.9"
            ]
          },
          "metadata": {}
        },
        {
          "output_type": "display_data",
          "data": {
            "text/plain": [
              "<IPython.core.display.HTML object>"
            ],
            "text/html": [
              "Run data is saved locally in <code>/content/wandb/run-20250409_163730-b3u7f51f</code>"
            ]
          },
          "metadata": {}
        },
        {
          "output_type": "display_data",
          "data": {
            "text/plain": [
              "<IPython.core.display.HTML object>"
            ],
            "text/html": [
              "Syncing run <strong><a href='https://wandb.ai/kicza/flowers102-cnn/runs/b3u7f51f' target=\"_blank\">train_10pct</a></strong> to <a href='https://wandb.ai/kicza/flowers102-cnn' target=\"_blank\">Weights & Biases</a> (<a href='https://wandb.me/developer-guide' target=\"_blank\">docs</a>)<br>"
            ]
          },
          "metadata": {}
        },
        {
          "output_type": "display_data",
          "data": {
            "text/plain": [
              "<IPython.core.display.HTML object>"
            ],
            "text/html": [
              " View project at <a href='https://wandb.ai/kicza/flowers102-cnn' target=\"_blank\">https://wandb.ai/kicza/flowers102-cnn</a>"
            ]
          },
          "metadata": {}
        },
        {
          "output_type": "display_data",
          "data": {
            "text/plain": [
              "<IPython.core.display.HTML object>"
            ],
            "text/html": [
              " View run at <a href='https://wandb.ai/kicza/flowers102-cnn/runs/b3u7f51f' target=\"_blank\">https://wandb.ai/kicza/flowers102-cnn/runs/b3u7f51f</a>"
            ]
          },
          "metadata": {}
        },
        {
          "output_type": "stream",
          "name": "stdout",
          "text": [
            "[1/20] Train Loss: 4.6355, Train Acc: 0.00%, Val Loss: 4.6910, Val Acc: 1.47%\n",
            "[2/20] Train Loss: 4.4132, Train Acc: 6.86%, Val Loss: 4.7598, Val Acc: 1.37%\n",
            "[3/20] Train Loss: 4.2202, Train Acc: 8.82%, Val Loss: 4.8076, Val Acc: 2.25%\n",
            "[4/20] Train Loss: 4.0272, Train Acc: 10.78%, Val Loss: 4.8460, Val Acc: 2.25%\n",
            "[5/20] Train Loss: 3.9105, Train Acc: 14.71%, Val Loss: 4.8804, Val Acc: 1.67%\n",
            "[6/20] Train Loss: 3.6812, Train Acc: 15.69%, Val Loss: 4.8805, Val Acc: 1.86%\n",
            "Early stopping at epoch 6\n",
            "Test Loss: 4.7568, Test Accuracy: 1.58%\n"
          ]
        },
        {
          "output_type": "display_data",
          "data": {
            "text/plain": [
              "<IPython.core.display.HTML object>"
            ],
            "text/html": []
          },
          "metadata": {}
        },
        {
          "output_type": "display_data",
          "data": {
            "text/plain": [
              "<IPython.core.display.HTML object>"
            ],
            "text/html": [
              "<br>    <style><br>        .wandb-row {<br>            display: flex;<br>            flex-direction: row;<br>            flex-wrap: wrap;<br>            justify-content: flex-start;<br>            width: 100%;<br>        }<br>        .wandb-col {<br>            display: flex;<br>            flex-direction: column;<br>            flex-basis: 100%;<br>            flex: 1;<br>            padding: 10px;<br>        }<br>    </style><br><div class=\"wandb-row\"><div class=\"wandb-col\"><h3>Run history:</h3><br/><table class=\"wandb\"><tr><td>epoch</td><td>▁▂▄▅▇█</td></tr><tr><td>final_test_accuracy</td><td>▁</td></tr><tr><td>final_test_loss</td><td>▁</td></tr><tr><td>train_accuracy</td><td>▁▄▅▆██</td></tr><tr><td>train_loss</td><td>█▆▅▄▃▁</td></tr><tr><td>val_accuracy</td><td>▂▁██▃▅</td></tr><tr><td>val_loss</td><td>▁▄▅▇██</td></tr></table><br/></div><div class=\"wandb-col\"><h3>Run summary:</h3><br/><table class=\"wandb\"><tr><td>epoch</td><td>6</td></tr><tr><td>final_test_accuracy</td><td>1.57749</td></tr><tr><td>final_test_loss</td><td>4.7568</td></tr><tr><td>train_accuracy</td><td>15.68627</td></tr><tr><td>train_loss</td><td>3.68118</td></tr><tr><td>val_accuracy</td><td>1.86275</td></tr><tr><td>val_loss</td><td>4.88046</td></tr></table><br/></div></div>"
            ]
          },
          "metadata": {}
        },
        {
          "output_type": "display_data",
          "data": {
            "text/plain": [
              "<IPython.core.display.HTML object>"
            ],
            "text/html": [
              " View run <strong style=\"color:#cdcd00\">train_10pct</strong> at: <a href='https://wandb.ai/kicza/flowers102-cnn/runs/b3u7f51f' target=\"_blank\">https://wandb.ai/kicza/flowers102-cnn/runs/b3u7f51f</a><br> View project at: <a href='https://wandb.ai/kicza/flowers102-cnn' target=\"_blank\">https://wandb.ai/kicza/flowers102-cnn</a><br>Synced 5 W&B file(s), 0 media file(s), 0 artifact file(s) and 0 other file(s)"
            ]
          },
          "metadata": {}
        },
        {
          "output_type": "display_data",
          "data": {
            "text/plain": [
              "<IPython.core.display.HTML object>"
            ],
            "text/html": [
              "Find logs at: <code>./wandb/run-20250409_163730-b3u7f51f/logs</code>"
            ]
          },
          "metadata": {}
        },
        {
          "output_type": "display_data",
          "data": {
            "text/plain": [
              "<IPython.core.display.HTML object>"
            ],
            "text/html": [
              "Tracking run with wandb version 0.19.9"
            ]
          },
          "metadata": {}
        },
        {
          "output_type": "display_data",
          "data": {
            "text/plain": [
              "<IPython.core.display.HTML object>"
            ],
            "text/html": [
              "Run data is saved locally in <code>/content/wandb/run-20250409_163852-tndrg216</code>"
            ]
          },
          "metadata": {}
        },
        {
          "output_type": "display_data",
          "data": {
            "text/plain": [
              "<IPython.core.display.HTML object>"
            ],
            "text/html": [
              "Syncing run <strong><a href='https://wandb.ai/kicza/flowers102-cnn/runs/tndrg216' target=\"_blank\">train_20pct</a></strong> to <a href='https://wandb.ai/kicza/flowers102-cnn' target=\"_blank\">Weights & Biases</a> (<a href='https://wandb.me/developer-guide' target=\"_blank\">docs</a>)<br>"
            ]
          },
          "metadata": {}
        },
        {
          "output_type": "display_data",
          "data": {
            "text/plain": [
              "<IPython.core.display.HTML object>"
            ],
            "text/html": [
              " View project at <a href='https://wandb.ai/kicza/flowers102-cnn' target=\"_blank\">https://wandb.ai/kicza/flowers102-cnn</a>"
            ]
          },
          "metadata": {}
        },
        {
          "output_type": "display_data",
          "data": {
            "text/plain": [
              "<IPython.core.display.HTML object>"
            ],
            "text/html": [
              " View run at <a href='https://wandb.ai/kicza/flowers102-cnn/runs/tndrg216' target=\"_blank\">https://wandb.ai/kicza/flowers102-cnn/runs/tndrg216</a>"
            ]
          },
          "metadata": {}
        },
        {
          "output_type": "stream",
          "name": "stdout",
          "text": [
            "[1/20] Train Loss: 4.6938, Train Acc: 0.49%, Val Loss: 4.6695, Val Acc: 1.57%\n",
            "[2/20] Train Loss: 4.4842, Train Acc: 5.39%, Val Loss: 4.6482, Val Acc: 1.76%\n",
            "[3/20] Train Loss: 4.3721, Train Acc: 5.88%, Val Loss: 4.6301, Val Acc: 2.55%\n",
            "[4/20] Train Loss: 4.2102, Train Acc: 11.76%, Val Loss: 4.6335, Val Acc: 2.55%\n",
            "[5/20] Train Loss: 4.0205, Train Acc: 16.18%, Val Loss: 4.6382, Val Acc: 3.14%\n",
            "[6/20] Train Loss: 3.8718, Train Acc: 20.10%, Val Loss: 4.6379, Val Acc: 2.94%\n",
            "[7/20] Train Loss: 3.8441, Train Acc: 21.57%, Val Loss: 4.6353, Val Acc: 3.14%\n",
            "[8/20] Train Loss: 3.8136, Train Acc: 23.04%, Val Loss: 4.6349, Val Acc: 3.14%\n",
            "Early stopping at epoch 8\n",
            "Test Loss: 4.5924, Test Accuracy: 3.01%\n"
          ]
        },
        {
          "output_type": "display_data",
          "data": {
            "text/plain": [
              "<IPython.core.display.HTML object>"
            ],
            "text/html": []
          },
          "metadata": {}
        },
        {
          "output_type": "display_data",
          "data": {
            "text/plain": [
              "<IPython.core.display.HTML object>"
            ],
            "text/html": [
              "<br>    <style><br>        .wandb-row {<br>            display: flex;<br>            flex-direction: row;<br>            flex-wrap: wrap;<br>            justify-content: flex-start;<br>            width: 100%;<br>        }<br>        .wandb-col {<br>            display: flex;<br>            flex-direction: column;<br>            flex-basis: 100%;<br>            flex: 1;<br>            padding: 10px;<br>        }<br>    </style><br><div class=\"wandb-row\"><div class=\"wandb-col\"><h3>Run history:</h3><br/><table class=\"wandb\"><tr><td>epoch</td><td>▁▂▃▄▅▆▇█</td></tr><tr><td>final_test_accuracy</td><td>▁</td></tr><tr><td>final_test_loss</td><td>▁</td></tr><tr><td>train_accuracy</td><td>▁▃▃▅▆▇██</td></tr><tr><td>train_loss</td><td>█▆▅▄▃▁▁▁</td></tr><tr><td>val_accuracy</td><td>▁▂▅▅█▇██</td></tr><tr><td>val_loss</td><td>█▄▁▂▂▂▂▂</td></tr></table><br/></div><div class=\"wandb-col\"><h3>Run summary:</h3><br/><table class=\"wandb\"><tr><td>epoch</td><td>8</td></tr><tr><td>final_test_accuracy</td><td>3.00862</td></tr><tr><td>final_test_loss</td><td>4.59243</td></tr><tr><td>train_accuracy</td><td>23.03922</td></tr><tr><td>train_loss</td><td>3.81357</td></tr><tr><td>val_accuracy</td><td>3.13725</td></tr><tr><td>val_loss</td><td>4.63492</td></tr></table><br/></div></div>"
            ]
          },
          "metadata": {}
        },
        {
          "output_type": "display_data",
          "data": {
            "text/plain": [
              "<IPython.core.display.HTML object>"
            ],
            "text/html": [
              " View run <strong style=\"color:#cdcd00\">train_20pct</strong> at: <a href='https://wandb.ai/kicza/flowers102-cnn/runs/tndrg216' target=\"_blank\">https://wandb.ai/kicza/flowers102-cnn/runs/tndrg216</a><br> View project at: <a href='https://wandb.ai/kicza/flowers102-cnn' target=\"_blank\">https://wandb.ai/kicza/flowers102-cnn</a><br>Synced 5 W&B file(s), 0 media file(s), 0 artifact file(s) and 0 other file(s)"
            ]
          },
          "metadata": {}
        },
        {
          "output_type": "display_data",
          "data": {
            "text/plain": [
              "<IPython.core.display.HTML object>"
            ],
            "text/html": [
              "Find logs at: <code>./wandb/run-20250409_163852-tndrg216/logs</code>"
            ]
          },
          "metadata": {}
        },
        {
          "output_type": "display_data",
          "data": {
            "text/plain": [
              "<IPython.core.display.HTML object>"
            ],
            "text/html": [
              "Tracking run with wandb version 0.19.9"
            ]
          },
          "metadata": {}
        },
        {
          "output_type": "display_data",
          "data": {
            "text/plain": [
              "<IPython.core.display.HTML object>"
            ],
            "text/html": [
              "Run data is saved locally in <code>/content/wandb/run-20250409_164026-x5ajhtnn</code>"
            ]
          },
          "metadata": {}
        },
        {
          "output_type": "display_data",
          "data": {
            "text/plain": [
              "<IPython.core.display.HTML object>"
            ],
            "text/html": [
              "Syncing run <strong><a href='https://wandb.ai/kicza/flowers102-cnn/runs/x5ajhtnn' target=\"_blank\">train_50pct</a></strong> to <a href='https://wandb.ai/kicza/flowers102-cnn' target=\"_blank\">Weights & Biases</a> (<a href='https://wandb.me/developer-guide' target=\"_blank\">docs</a>)<br>"
            ]
          },
          "metadata": {}
        },
        {
          "output_type": "display_data",
          "data": {
            "text/plain": [
              "<IPython.core.display.HTML object>"
            ],
            "text/html": [
              " View project at <a href='https://wandb.ai/kicza/flowers102-cnn' target=\"_blank\">https://wandb.ai/kicza/flowers102-cnn</a>"
            ]
          },
          "metadata": {}
        },
        {
          "output_type": "display_data",
          "data": {
            "text/plain": [
              "<IPython.core.display.HTML object>"
            ],
            "text/html": [
              " View run at <a href='https://wandb.ai/kicza/flowers102-cnn/runs/x5ajhtnn' target=\"_blank\">https://wandb.ai/kicza/flowers102-cnn/runs/x5ajhtnn</a>"
            ]
          },
          "metadata": {}
        },
        {
          "output_type": "stream",
          "name": "stdout",
          "text": [
            "[1/20] Train Loss: 4.6771, Train Acc: 0.98%, Val Loss: 4.6070, Val Acc: 1.96%\n",
            "[2/20] Train Loss: 4.5304, Train Acc: 3.53%, Val Loss: 4.5705, Val Acc: 2.45%\n",
            "[3/20] Train Loss: 4.3918, Train Acc: 5.49%, Val Loss: 4.5429, Val Acc: 2.16%\n",
            "[4/20] Train Loss: 4.2141, Train Acc: 10.39%, Val Loss: 4.5085, Val Acc: 2.45%\n",
            "[5/20] Train Loss: 3.9756, Train Acc: 12.94%, Val Loss: 4.4987, Val Acc: 3.63%\n",
            "[6/20] Train Loss: 3.7445, Train Acc: 22.16%, Val Loss: 4.4782, Val Acc: 4.31%\n",
            "[7/20] Train Loss: 3.6816, Train Acc: 23.92%, Val Loss: 4.4710, Val Acc: 4.71%\n",
            "[8/20] Train Loss: 3.6409, Train Acc: 23.33%, Val Loss: 4.4699, Val Acc: 4.71%\n",
            "[9/20] Train Loss: 3.6019, Train Acc: 26.47%, Val Loss: 4.4665, Val Acc: 5.00%\n",
            "[10/20] Train Loss: 3.5675, Train Acc: 27.65%, Val Loss: 4.4670, Val Acc: 4.90%\n",
            "[11/20] Train Loss: 3.5371, Train Acc: 28.82%, Val Loss: 4.4669, Val Acc: 4.90%\n",
            "[12/20] Train Loss: 3.5319, Train Acc: 28.82%, Val Loss: 4.4667, Val Acc: 5.00%\n",
            "[13/20] Train Loss: 3.5282, Train Acc: 28.82%, Val Loss: 4.4667, Val Acc: 5.00%\n",
            "[14/20] Train Loss: 3.5265, Train Acc: 29.02%, Val Loss: 4.4668, Val Acc: 5.00%\n",
            "Early stopping at epoch 14\n",
            "Test Loss: 4.5743, Test Accuracy: 3.63%\n"
          ]
        },
        {
          "output_type": "display_data",
          "data": {
            "text/plain": [
              "<IPython.core.display.HTML object>"
            ],
            "text/html": []
          },
          "metadata": {}
        },
        {
          "output_type": "display_data",
          "data": {
            "text/plain": [
              "<IPython.core.display.HTML object>"
            ],
            "text/html": [
              "<br>    <style><br>        .wandb-row {<br>            display: flex;<br>            flex-direction: row;<br>            flex-wrap: wrap;<br>            justify-content: flex-start;<br>            width: 100%;<br>        }<br>        .wandb-col {<br>            display: flex;<br>            flex-direction: column;<br>            flex-basis: 100%;<br>            flex: 1;<br>            padding: 10px;<br>        }<br>    </style><br><div class=\"wandb-row\"><div class=\"wandb-col\"><h3>Run history:</h3><br/><table class=\"wandb\"><tr><td>epoch</td><td>▁▂▂▃▃▄▄▅▅▆▆▇▇█</td></tr><tr><td>final_test_accuracy</td><td>▁</td></tr><tr><td>final_test_loss</td><td>▁</td></tr><tr><td>train_accuracy</td><td>▁▂▂▃▄▆▇▇▇█████</td></tr><tr><td>train_loss</td><td>█▇▆▅▄▂▂▂▁▁▁▁▁▁</td></tr><tr><td>val_accuracy</td><td>▁▂▁▂▅▆▇▇██████</td></tr><tr><td>val_loss</td><td>█▆▅▃▃▂▁▁▁▁▁▁▁▁</td></tr></table><br/></div><div class=\"wandb-col\"><h3>Run summary:</h3><br/><table class=\"wandb\"><tr><td>epoch</td><td>14</td></tr><tr><td>final_test_accuracy</td><td>3.62661</td></tr><tr><td>final_test_loss</td><td>4.57434</td></tr><tr><td>train_accuracy</td><td>29.01961</td></tr><tr><td>train_loss</td><td>3.52654</td></tr><tr><td>val_accuracy</td><td>5</td></tr><tr><td>val_loss</td><td>4.46683</td></tr></table><br/></div></div>"
            ]
          },
          "metadata": {}
        },
        {
          "output_type": "display_data",
          "data": {
            "text/plain": [
              "<IPython.core.display.HTML object>"
            ],
            "text/html": [
              " View run <strong style=\"color:#cdcd00\">train_50pct</strong> at: <a href='https://wandb.ai/kicza/flowers102-cnn/runs/x5ajhtnn' target=\"_blank\">https://wandb.ai/kicza/flowers102-cnn/runs/x5ajhtnn</a><br> View project at: <a href='https://wandb.ai/kicza/flowers102-cnn' target=\"_blank\">https://wandb.ai/kicza/flowers102-cnn</a><br>Synced 5 W&B file(s), 0 media file(s), 0 artifact file(s) and 0 other file(s)"
            ]
          },
          "metadata": {}
        },
        {
          "output_type": "display_data",
          "data": {
            "text/plain": [
              "<IPython.core.display.HTML object>"
            ],
            "text/html": [
              "Find logs at: <code>./wandb/run-20250409_164026-x5ajhtnn/logs</code>"
            ]
          },
          "metadata": {}
        },
        {
          "output_type": "display_data",
          "data": {
            "text/plain": [
              "<IPython.core.display.HTML object>"
            ],
            "text/html": [
              "Tracking run with wandb version 0.19.9"
            ]
          },
          "metadata": {}
        },
        {
          "output_type": "display_data",
          "data": {
            "text/plain": [
              "<IPython.core.display.HTML object>"
            ],
            "text/html": [
              "Run data is saved locally in <code>/content/wandb/run-20250409_164310-kzr3w9lc</code>"
            ]
          },
          "metadata": {}
        },
        {
          "output_type": "display_data",
          "data": {
            "text/plain": [
              "<IPython.core.display.HTML object>"
            ],
            "text/html": [
              "Syncing run <strong><a href='https://wandb.ai/kicza/flowers102-cnn/runs/kzr3w9lc' target=\"_blank\">train_80pct</a></strong> to <a href='https://wandb.ai/kicza/flowers102-cnn' target=\"_blank\">Weights & Biases</a> (<a href='https://wandb.me/developer-guide' target=\"_blank\">docs</a>)<br>"
            ]
          },
          "metadata": {}
        },
        {
          "output_type": "display_data",
          "data": {
            "text/plain": [
              "<IPython.core.display.HTML object>"
            ],
            "text/html": [
              " View project at <a href='https://wandb.ai/kicza/flowers102-cnn' target=\"_blank\">https://wandb.ai/kicza/flowers102-cnn</a>"
            ]
          },
          "metadata": {}
        },
        {
          "output_type": "display_data",
          "data": {
            "text/plain": [
              "<IPython.core.display.HTML object>"
            ],
            "text/html": [
              " View run at <a href='https://wandb.ai/kicza/flowers102-cnn/runs/kzr3w9lc' target=\"_blank\">https://wandb.ai/kicza/flowers102-cnn/runs/kzr3w9lc</a>"
            ]
          },
          "metadata": {}
        },
        {
          "output_type": "stream",
          "name": "stdout",
          "text": [
            "[1/20] Train Loss: 4.6181, Train Acc: 1.10%, Val Loss: 4.5341, Val Acc: 3.14%\n",
            "[2/20] Train Loss: 4.3680, Train Acc: 5.88%, Val Loss: 4.4052, Val Acc: 5.39%\n",
            "[3/20] Train Loss: 4.0032, Train Acc: 17.52%, Val Loss: 4.2514, Val Acc: 7.75%\n",
            "[4/20] Train Loss: 3.5009, Train Acc: 25.74%, Val Loss: 4.0939, Val Acc: 9.31%\n",
            "[5/20] Train Loss: 2.8420, Train Acc: 44.98%, Val Loss: 3.9915, Val Acc: 11.27%\n",
            "[6/20] Train Loss: 2.2482, Train Acc: 63.60%, Val Loss: 3.9141, Val Acc: 12.65%\n",
            "[7/20] Train Loss: 2.1270, Train Acc: 69.49%, Val Loss: 3.8941, Val Acc: 13.04%\n",
            "[8/20] Train Loss: 2.0422, Train Acc: 71.32%, Val Loss: 3.8842, Val Acc: 12.84%\n",
            "[9/20] Train Loss: 1.9596, Train Acc: 71.45%, Val Loss: 3.8800, Val Acc: 12.75%\n",
            "[10/20] Train Loss: 1.9012, Train Acc: 73.77%, Val Loss: 3.8667, Val Acc: 12.75%\n",
            "[11/20] Train Loss: 1.8367, Train Acc: 75.61%, Val Loss: 3.8659, Val Acc: 12.75%\n",
            "[12/20] Train Loss: 1.8292, Train Acc: 75.98%, Val Loss: 3.8658, Val Acc: 12.84%\n",
            "[13/20] Train Loss: 1.8259, Train Acc: 76.23%, Val Loss: 3.8651, Val Acc: 13.04%\n",
            "[14/20] Train Loss: 1.8260, Train Acc: 76.23%, Val Loss: 3.8643, Val Acc: 13.24%\n",
            "[15/20] Train Loss: 1.8020, Train Acc: 76.35%, Val Loss: 3.8638, Val Acc: 13.04%\n",
            "[16/20] Train Loss: 1.8011, Train Acc: 76.35%, Val Loss: 3.8638, Val Acc: 13.04%\n",
            "[17/20] Train Loss: 1.8123, Train Acc: 76.35%, Val Loss: 3.8637, Val Acc: 13.04%\n",
            "[18/20] Train Loss: 1.8016, Train Acc: 76.35%, Val Loss: 3.8637, Val Acc: 13.04%\n",
            "[19/20] Train Loss: 1.8042, Train Acc: 76.35%, Val Loss: 3.8636, Val Acc: 13.04%\n",
            "[20/20] Train Loss: 1.8030, Train Acc: 76.35%, Val Loss: 3.8636, Val Acc: 13.14%\n",
            "Test Loss: 4.1685, Test Accuracy: 11.74%\n"
          ]
        },
        {
          "output_type": "display_data",
          "data": {
            "text/plain": [
              "<IPython.core.display.HTML object>"
            ],
            "text/html": []
          },
          "metadata": {}
        },
        {
          "output_type": "display_data",
          "data": {
            "text/plain": [
              "<IPython.core.display.HTML object>"
            ],
            "text/html": [
              "<br>    <style><br>        .wandb-row {<br>            display: flex;<br>            flex-direction: row;<br>            flex-wrap: wrap;<br>            justify-content: flex-start;<br>            width: 100%;<br>        }<br>        .wandb-col {<br>            display: flex;<br>            flex-direction: column;<br>            flex-basis: 100%;<br>            flex: 1;<br>            padding: 10px;<br>        }<br>    </style><br><div class=\"wandb-row\"><div class=\"wandb-col\"><h3>Run history:</h3><br/><table class=\"wandb\"><tr><td>epoch</td><td>▁▁▂▂▂▃▃▄▄▄▅▅▅▆▆▇▇▇██</td></tr><tr><td>final_test_accuracy</td><td>▁</td></tr><tr><td>final_test_loss</td><td>▁</td></tr><tr><td>train_accuracy</td><td>▁▁▃▃▅▇▇█████████████</td></tr><tr><td>train_loss</td><td>█▇▆▅▄▂▂▂▁▁▁▁▁▁▁▁▁▁▁▁</td></tr><tr><td>val_accuracy</td><td>▁▃▄▅▇███████████████</td></tr><tr><td>val_loss</td><td>█▇▅▃▂▂▁▁▁▁▁▁▁▁▁▁▁▁▁▁</td></tr></table><br/></div><div class=\"wandb-col\"><h3>Run summary:</h3><br/><table class=\"wandb\"><tr><td>epoch</td><td>20</td></tr><tr><td>final_test_accuracy</td><td>11.74175</td></tr><tr><td>final_test_loss</td><td>4.1685</td></tr><tr><td>train_accuracy</td><td>76.34804</td></tr><tr><td>train_loss</td><td>1.80301</td></tr><tr><td>val_accuracy</td><td>13.13725</td></tr><tr><td>val_loss</td><td>3.86357</td></tr></table><br/></div></div>"
            ]
          },
          "metadata": {}
        },
        {
          "output_type": "display_data",
          "data": {
            "text/plain": [
              "<IPython.core.display.HTML object>"
            ],
            "text/html": [
              " View run <strong style=\"color:#cdcd00\">train_80pct</strong> at: <a href='https://wandb.ai/kicza/flowers102-cnn/runs/kzr3w9lc' target=\"_blank\">https://wandb.ai/kicza/flowers102-cnn/runs/kzr3w9lc</a><br> View project at: <a href='https://wandb.ai/kicza/flowers102-cnn' target=\"_blank\">https://wandb.ai/kicza/flowers102-cnn</a><br>Synced 5 W&B file(s), 0 media file(s), 0 artifact file(s) and 0 other file(s)"
            ]
          },
          "metadata": {}
        },
        {
          "output_type": "display_data",
          "data": {
            "text/plain": [
              "<IPython.core.display.HTML object>"
            ],
            "text/html": [
              "Find logs at: <code>./wandb/run-20250409_164310-kzr3w9lc/logs</code>"
            ]
          },
          "metadata": {}
        },
        {
          "output_type": "display_data",
          "data": {
            "text/plain": [
              "<IPython.core.display.HTML object>"
            ],
            "text/html": [
              "Tracking run with wandb version 0.19.9"
            ]
          },
          "metadata": {}
        },
        {
          "output_type": "display_data",
          "data": {
            "text/plain": [
              "<IPython.core.display.HTML object>"
            ],
            "text/html": [
              "Run data is saved locally in <code>/content/wandb/run-20250409_164731-64nncdu2</code>"
            ]
          },
          "metadata": {}
        },
        {
          "output_type": "display_data",
          "data": {
            "text/plain": [
              "<IPython.core.display.HTML object>"
            ],
            "text/html": [
              "Syncing run <strong><a href='https://wandb.ai/kicza/flowers102-cnn/runs/64nncdu2' target=\"_blank\">train_100pct</a></strong> to <a href='https://wandb.ai/kicza/flowers102-cnn' target=\"_blank\">Weights & Biases</a> (<a href='https://wandb.me/developer-guide' target=\"_blank\">docs</a>)<br>"
            ]
          },
          "metadata": {}
        },
        {
          "output_type": "display_data",
          "data": {
            "text/plain": [
              "<IPython.core.display.HTML object>"
            ],
            "text/html": [
              " View project at <a href='https://wandb.ai/kicza/flowers102-cnn' target=\"_blank\">https://wandb.ai/kicza/flowers102-cnn</a>"
            ]
          },
          "metadata": {}
        },
        {
          "output_type": "display_data",
          "data": {
            "text/plain": [
              "<IPython.core.display.HTML object>"
            ],
            "text/html": [
              " View run at <a href='https://wandb.ai/kicza/flowers102-cnn/runs/64nncdu2' target=\"_blank\">https://wandb.ai/kicza/flowers102-cnn/runs/64nncdu2</a>"
            ]
          },
          "metadata": {}
        },
        {
          "output_type": "stream",
          "name": "stdout",
          "text": [
            "[1/20] Train Loss: 4.6442, Train Acc: 1.96%, Val Loss: 4.5673, Val Acc: 3.33%\n",
            "[2/20] Train Loss: 4.4897, Train Acc: 3.82%, Val Loss: 4.4802, Val Acc: 2.94%\n",
            "[3/20] Train Loss: 4.3335, Train Acc: 5.88%, Val Loss: 4.3867, Val Acc: 5.29%\n",
            "[4/20] Train Loss: 4.0870, Train Acc: 9.51%, Val Loss: 4.2668, Val Acc: 6.76%\n",
            "[5/20] Train Loss: 3.7901, Train Acc: 16.76%, Val Loss: 4.1629, Val Acc: 7.16%\n",
            "[6/20] Train Loss: 3.4842, Train Acc: 26.08%, Val Loss: 4.1043, Val Acc: 8.82%\n",
            "[7/20] Train Loss: 3.3958, Train Acc: 29.80%, Val Loss: 4.0846, Val Acc: 8.82%\n",
            "[8/20] Train Loss: 3.3429, Train Acc: 30.00%, Val Loss: 4.0720, Val Acc: 9.31%\n",
            "[9/20] Train Loss: 3.3015, Train Acc: 30.69%, Val Loss: 4.0624, Val Acc: 10.00%\n",
            "[10/20] Train Loss: 3.2557, Train Acc: 33.04%, Val Loss: 4.0523, Val Acc: 9.41%\n",
            "[11/20] Train Loss: 3.2169, Train Acc: 34.22%, Val Loss: 4.0513, Val Acc: 9.71%\n",
            "[12/20] Train Loss: 3.2124, Train Acc: 34.31%, Val Loss: 4.0505, Val Acc: 9.71%\n",
            "[13/20] Train Loss: 3.2075, Train Acc: 34.22%, Val Loss: 4.0495, Val Acc: 9.61%\n",
            "[14/20] Train Loss: 3.2022, Train Acc: 34.51%, Val Loss: 4.0485, Val Acc: 9.41%\n",
            "[15/20] Train Loss: 3.2004, Train Acc: 34.61%, Val Loss: 4.0476, Val Acc: 9.71%\n",
            "[16/20] Train Loss: 3.1959, Train Acc: 34.71%, Val Loss: 4.0475, Val Acc: 9.71%\n",
            "[17/20] Train Loss: 3.1952, Train Acc: 34.71%, Val Loss: 4.0475, Val Acc: 9.71%\n",
            "[18/20] Train Loss: 3.1959, Train Acc: 34.80%, Val Loss: 4.0474, Val Acc: 9.71%\n",
            "[19/20] Train Loss: 3.1956, Train Acc: 34.80%, Val Loss: 4.0473, Val Acc: 9.71%\n",
            "[20/20] Train Loss: 3.1947, Train Acc: 34.71%, Val Loss: 4.0472, Val Acc: 9.71%\n",
            "Test Loss: 4.1428, Test Accuracy: 9.04%\n"
          ]
        },
        {
          "output_type": "display_data",
          "data": {
            "text/plain": [
              "<IPython.core.display.HTML object>"
            ],
            "text/html": []
          },
          "metadata": {}
        },
        {
          "output_type": "display_data",
          "data": {
            "text/plain": [
              "<IPython.core.display.HTML object>"
            ],
            "text/html": [
              "<br>    <style><br>        .wandb-row {<br>            display: flex;<br>            flex-direction: row;<br>            flex-wrap: wrap;<br>            justify-content: flex-start;<br>            width: 100%;<br>        }<br>        .wandb-col {<br>            display: flex;<br>            flex-direction: column;<br>            flex-basis: 100%;<br>            flex: 1;<br>            padding: 10px;<br>        }<br>    </style><br><div class=\"wandb-row\"><div class=\"wandb-col\"><h3>Run history:</h3><br/><table class=\"wandb\"><tr><td>epoch</td><td>▁▁▂▂▂▃▃▄▄▄▅▅▅▆▆▇▇▇██</td></tr><tr><td>final_test_accuracy</td><td>▁</td></tr><tr><td>final_test_loss</td><td>▁</td></tr><tr><td>train_accuracy</td><td>▁▁▂▃▄▆▇▇▇███████████</td></tr><tr><td>train_loss</td><td>█▇▆▅▄▂▂▂▂▁▁▁▁▁▁▁▁▁▁▁</td></tr><tr><td>val_accuracy</td><td>▁▁▃▅▅▇▇▇█▇███▇██████</td></tr><tr><td>val_loss</td><td>█▇▆▄▃▂▂▁▁▁▁▁▁▁▁▁▁▁▁▁</td></tr></table><br/></div><div class=\"wandb-col\"><h3>Run summary:</h3><br/><table class=\"wandb\"><tr><td>epoch</td><td>20</td></tr><tr><td>final_test_accuracy</td><td>9.04212</td></tr><tr><td>final_test_loss</td><td>4.14278</td></tr><tr><td>train_accuracy</td><td>34.70588</td></tr><tr><td>train_loss</td><td>3.19468</td></tr><tr><td>val_accuracy</td><td>9.70588</td></tr><tr><td>val_loss</td><td>4.04722</td></tr></table><br/></div></div>"
            ]
          },
          "metadata": {}
        },
        {
          "output_type": "display_data",
          "data": {
            "text/plain": [
              "<IPython.core.display.HTML object>"
            ],
            "text/html": [
              " View run <strong style=\"color:#cdcd00\">train_100pct</strong> at: <a href='https://wandb.ai/kicza/flowers102-cnn/runs/64nncdu2' target=\"_blank\">https://wandb.ai/kicza/flowers102-cnn/runs/64nncdu2</a><br> View project at: <a href='https://wandb.ai/kicza/flowers102-cnn' target=\"_blank\">https://wandb.ai/kicza/flowers102-cnn</a><br>Synced 5 W&B file(s), 0 media file(s), 0 artifact file(s) and 0 other file(s)"
            ]
          },
          "metadata": {}
        },
        {
          "output_type": "display_data",
          "data": {
            "text/plain": [
              "<IPython.core.display.HTML object>"
            ],
            "text/html": [
              "Find logs at: <code>./wandb/run-20250409_164731-64nncdu2/logs</code>"
            ]
          },
          "metadata": {}
        },
        {
          "output_type": "display_data",
          "data": {
            "text/plain": [
              "<IPython.core.display.HTML object>"
            ],
            "text/html": [
              "Tracking run with wandb version 0.19.9"
            ]
          },
          "metadata": {}
        },
        {
          "output_type": "display_data",
          "data": {
            "text/plain": [
              "<IPython.core.display.HTML object>"
            ],
            "text/html": [
              "Run data is saved locally in <code>/content/wandb/run-20250409_165218-fqj37ro9</code>"
            ]
          },
          "metadata": {}
        },
        {
          "output_type": "display_data",
          "data": {
            "text/plain": [
              "<IPython.core.display.HTML object>"
            ],
            "text/html": [
              "Syncing run <strong><a href='https://wandb.ai/kicza/flowers102-cnn/runs/fqj37ro9' target=\"_blank\">train_full+20pct_test</a></strong> to <a href='https://wandb.ai/kicza/flowers102-cnn' target=\"_blank\">Weights & Biases</a> (<a href='https://wandb.me/developer-guide' target=\"_blank\">docs</a>)<br>"
            ]
          },
          "metadata": {}
        },
        {
          "output_type": "display_data",
          "data": {
            "text/plain": [
              "<IPython.core.display.HTML object>"
            ],
            "text/html": [
              " View project at <a href='https://wandb.ai/kicza/flowers102-cnn' target=\"_blank\">https://wandb.ai/kicza/flowers102-cnn</a>"
            ]
          },
          "metadata": {}
        },
        {
          "output_type": "display_data",
          "data": {
            "text/plain": [
              "<IPython.core.display.HTML object>"
            ],
            "text/html": [
              " View run at <a href='https://wandb.ai/kicza/flowers102-cnn/runs/fqj37ro9' target=\"_blank\">https://wandb.ai/kicza/flowers102-cnn/runs/fqj37ro9</a>"
            ]
          },
          "metadata": {}
        },
        {
          "output_type": "stream",
          "name": "stdout",
          "text": [
            "[1/20] Train Loss: 4.6229, Train Acc: 1.51%, Val Loss: 4.6207, Val Acc: 1.86%\n",
            "[2/20] Train Loss: 4.5226, Train Acc: 3.73%, Val Loss: 4.5719, Val Acc: 2.75%\n",
            "[3/20] Train Loss: 4.3715, Train Acc: 5.47%, Val Loss: 4.5228, Val Acc: 3.24%\n",
            "[4/20] Train Loss: 4.1750, Train Acc: 9.38%, Val Loss: 4.4161, Val Acc: 5.29%\n",
            "[5/20] Train Loss: 3.9174, Train Acc: 13.92%, Val Loss: 4.3775, Val Acc: 6.76%\n",
            "[6/20] Train Loss: 3.6832, Train Acc: 19.74%, Val Loss: 4.2898, Val Acc: 7.45%\n",
            "[7/20] Train Loss: 3.6301, Train Acc: 21.12%, Val Loss: 4.2774, Val Acc: 7.35%\n",
            "[8/20] Train Loss: 3.5959, Train Acc: 20.94%, Val Loss: 4.2745, Val Acc: 8.43%\n",
            "[9/20] Train Loss: 3.5670, Train Acc: 22.01%, Val Loss: 4.2623, Val Acc: 7.94%\n",
            "[10/20] Train Loss: 3.5447, Train Acc: 22.41%, Val Loss: 4.2532, Val Acc: 8.53%\n",
            "[11/20] Train Loss: 3.5081, Train Acc: 23.34%, Val Loss: 4.2513, Val Acc: 8.53%\n",
            "[12/20] Train Loss: 3.5040, Train Acc: 23.61%, Val Loss: 4.2504, Val Acc: 8.53%\n",
            "[13/20] Train Loss: 3.4990, Train Acc: 23.70%, Val Loss: 4.2497, Val Acc: 8.73%\n",
            "[14/20] Train Loss: 3.5034, Train Acc: 23.74%, Val Loss: 4.2484, Val Acc: 8.73%\n",
            "[15/20] Train Loss: 3.4983, Train Acc: 23.83%, Val Loss: 4.2480, Val Acc: 8.73%\n",
            "[16/20] Train Loss: 3.4900, Train Acc: 23.79%, Val Loss: 4.2480, Val Acc: 8.73%\n",
            "[17/20] Train Loss: 3.4873, Train Acc: 23.79%, Val Loss: 4.2478, Val Acc: 8.82%\n",
            "[18/20] Train Loss: 3.4855, Train Acc: 23.74%, Val Loss: 4.2478, Val Acc: 8.73%\n",
            "[19/20] Train Loss: 3.4946, Train Acc: 23.79%, Val Loss: 4.2478, Val Acc: 8.73%\n",
            "[20/20] Train Loss: 3.4932, Train Acc: 23.88%, Val Loss: 4.2476, Val Acc: 8.73%\n",
            "Test Loss: 3.9489, Test Accuracy: 13.60%\n"
          ]
        },
        {
          "output_type": "display_data",
          "data": {
            "text/plain": [
              "<IPython.core.display.HTML object>"
            ],
            "text/html": []
          },
          "metadata": {}
        },
        {
          "output_type": "display_data",
          "data": {
            "text/plain": [
              "<IPython.core.display.HTML object>"
            ],
            "text/html": [
              "<br>    <style><br>        .wandb-row {<br>            display: flex;<br>            flex-direction: row;<br>            flex-wrap: wrap;<br>            justify-content: flex-start;<br>            width: 100%;<br>        }<br>        .wandb-col {<br>            display: flex;<br>            flex-direction: column;<br>            flex-basis: 100%;<br>            flex: 1;<br>            padding: 10px;<br>        }<br>    </style><br><div class=\"wandb-row\"><div class=\"wandb-col\"><h3>Run history:</h3><br/><table class=\"wandb\"><tr><td>epoch</td><td>▁▁▂▂▂▃▃▄▄▄▅▅▅▆▆▇▇▇██</td></tr><tr><td>final_test_accuracy</td><td>▁</td></tr><tr><td>final_test_loss</td><td>▁</td></tr><tr><td>train_accuracy</td><td>▁▂▂▃▅▇▇▇▇███████████</td></tr><tr><td>train_loss</td><td>█▇▆▅▄▂▂▂▂▁▁▁▁▁▁▁▁▁▁▁</td></tr><tr><td>val_accuracy</td><td>▁▂▂▄▆▇▇█▇███████████</td></tr><tr><td>val_loss</td><td>█▇▆▄▃▂▂▂▁▁▁▁▁▁▁▁▁▁▁▁</td></tr></table><br/></div><div class=\"wandb-col\"><h3>Run summary:</h3><br/><table class=\"wandb\"><tr><td>epoch</td><td>20</td></tr><tr><td>final_test_accuracy</td><td>13.59756</td></tr><tr><td>final_test_loss</td><td>3.94893</td></tr><tr><td>train_accuracy</td><td>23.87728</td></tr><tr><td>train_loss</td><td>3.49317</td></tr><tr><td>val_accuracy</td><td>8.72549</td></tr><tr><td>val_loss</td><td>4.24761</td></tr></table><br/></div></div>"
            ]
          },
          "metadata": {}
        },
        {
          "output_type": "display_data",
          "data": {
            "text/plain": [
              "<IPython.core.display.HTML object>"
            ],
            "text/html": [
              " View run <strong style=\"color:#cdcd00\">train_full+20pct_test</strong> at: <a href='https://wandb.ai/kicza/flowers102-cnn/runs/fqj37ro9' target=\"_blank\">https://wandb.ai/kicza/flowers102-cnn/runs/fqj37ro9</a><br> View project at: <a href='https://wandb.ai/kicza/flowers102-cnn' target=\"_blank\">https://wandb.ai/kicza/flowers102-cnn</a><br>Synced 5 W&B file(s), 0 media file(s), 0 artifact file(s) and 0 other file(s)"
            ]
          },
          "metadata": {}
        },
        {
          "output_type": "display_data",
          "data": {
            "text/plain": [
              "<IPython.core.display.HTML object>"
            ],
            "text/html": [
              "Find logs at: <code>./wandb/run-20250409_165218-fqj37ro9/logs</code>"
            ]
          },
          "metadata": {}
        },
        {
          "output_type": "display_data",
          "data": {
            "text/plain": [
              "<IPython.core.display.HTML object>"
            ],
            "text/html": [
              "Tracking run with wandb version 0.19.9"
            ]
          },
          "metadata": {}
        },
        {
          "output_type": "display_data",
          "data": {
            "text/plain": [
              "<IPython.core.display.HTML object>"
            ],
            "text/html": [
              "Run data is saved locally in <code>/content/wandb/run-20250409_165943-kmy44zev</code>"
            ]
          },
          "metadata": {}
        },
        {
          "output_type": "display_data",
          "data": {
            "text/plain": [
              "<IPython.core.display.HTML object>"
            ],
            "text/html": [
              "Syncing run <strong><a href='https://wandb.ai/kicza/flowers102-cnn/runs/kmy44zev' target=\"_blank\">train_full+50pct_test</a></strong> to <a href='https://wandb.ai/kicza/flowers102-cnn' target=\"_blank\">Weights & Biases</a> (<a href='https://wandb.me/developer-guide' target=\"_blank\">docs</a>)<br>"
            ]
          },
          "metadata": {}
        },
        {
          "output_type": "display_data",
          "data": {
            "text/plain": [
              "<IPython.core.display.HTML object>"
            ],
            "text/html": [
              " View project at <a href='https://wandb.ai/kicza/flowers102-cnn' target=\"_blank\">https://wandb.ai/kicza/flowers102-cnn</a>"
            ]
          },
          "metadata": {}
        },
        {
          "output_type": "display_data",
          "data": {
            "text/plain": [
              "<IPython.core.display.HTML object>"
            ],
            "text/html": [
              " View run at <a href='https://wandb.ai/kicza/flowers102-cnn/runs/kmy44zev' target=\"_blank\">https://wandb.ai/kicza/flowers102-cnn/runs/kmy44zev</a>"
            ]
          },
          "metadata": {}
        },
        {
          "output_type": "stream",
          "name": "stdout",
          "text": [
            "[1/20] Train Loss: 4.5228, Train Acc: 3.76%, Val Loss: 4.5448, Val Acc: 2.84%\n",
            "[2/20] Train Loss: 4.2254, Train Acc: 8.35%, Val Loss: 4.4322, Val Acc: 5.10%\n",
            "[3/20] Train Loss: 3.8635, Train Acc: 13.95%, Val Loss: 4.2519, Val Acc: 6.76%\n",
            "[4/20] Train Loss: 3.4564, Train Acc: 20.00%, Val Loss: 4.0103, Val Acc: 8.53%\n",
            "[5/20] Train Loss: 3.0440, Train Acc: 27.04%, Val Loss: 3.9024, Val Acc: 11.27%\n",
            "[6/20] Train Loss: 2.6484, Train Acc: 36.79%, Val Loss: 3.7474, Val Acc: 13.73%\n",
            "[7/20] Train Loss: 2.5745, Train Acc: 38.08%, Val Loss: 3.7335, Val Acc: 13.73%\n",
            "[8/20] Train Loss: 2.5241, Train Acc: 40.03%, Val Loss: 3.7264, Val Acc: 13.53%\n",
            "[9/20] Train Loss: 2.4804, Train Acc: 40.91%, Val Loss: 3.7079, Val Acc: 13.82%\n",
            "[10/20] Train Loss: 2.4391, Train Acc: 41.79%, Val Loss: 3.6882, Val Acc: 14.22%\n",
            "[11/20] Train Loss: 2.3998, Train Acc: 42.70%, Val Loss: 3.6815, Val Acc: 14.71%\n",
            "[12/20] Train Loss: 2.3923, Train Acc: 42.82%, Val Loss: 3.6801, Val Acc: 14.61%\n",
            "[13/20] Train Loss: 2.3878, Train Acc: 42.92%, Val Loss: 3.6782, Val Acc: 14.51%\n",
            "[14/20] Train Loss: 2.3836, Train Acc: 42.94%, Val Loss: 3.6778, Val Acc: 14.41%\n",
            "[15/20] Train Loss: 2.3796, Train Acc: 43.36%, Val Loss: 3.6763, Val Acc: 14.51%\n",
            "[16/20] Train Loss: 2.3755, Train Acc: 43.45%, Val Loss: 3.6762, Val Acc: 14.51%\n",
            "[17/20] Train Loss: 2.3750, Train Acc: 43.45%, Val Loss: 3.6760, Val Acc: 14.51%\n",
            "[18/20] Train Loss: 2.3748, Train Acc: 43.45%, Val Loss: 3.6759, Val Acc: 14.51%\n",
            "[19/20] Train Loss: 2.3743, Train Acc: 43.48%, Val Loss: 3.6757, Val Acc: 14.51%\n",
            "[20/20] Train Loss: 2.3739, Train Acc: 43.45%, Val Loss: 3.6756, Val Acc: 14.51%\n",
            "Test Loss: 3.2640, Test Accuracy: 24.29%\n"
          ]
        },
        {
          "output_type": "display_data",
          "data": {
            "text/plain": [
              "<IPython.core.display.HTML object>"
            ],
            "text/html": []
          },
          "metadata": {}
        },
        {
          "output_type": "display_data",
          "data": {
            "text/plain": [
              "<IPython.core.display.HTML object>"
            ],
            "text/html": [
              "<br>    <style><br>        .wandb-row {<br>            display: flex;<br>            flex-direction: row;<br>            flex-wrap: wrap;<br>            justify-content: flex-start;<br>            width: 100%;<br>        }<br>        .wandb-col {<br>            display: flex;<br>            flex-direction: column;<br>            flex-basis: 100%;<br>            flex: 1;<br>            padding: 10px;<br>        }<br>    </style><br><div class=\"wandb-row\"><div class=\"wandb-col\"><h3>Run history:</h3><br/><table class=\"wandb\"><tr><td>epoch</td><td>▁▁▂▂▂▃▃▄▄▄▅▅▅▆▆▇▇▇██</td></tr><tr><td>final_test_accuracy</td><td>▁</td></tr><tr><td>final_test_loss</td><td>▁</td></tr><tr><td>train_accuracy</td><td>▁▂▃▄▅▇▇▇████████████</td></tr><tr><td>train_loss</td><td>█▇▆▅▃▂▂▁▁▁▁▁▁▁▁▁▁▁▁▁</td></tr><tr><td>val_accuracy</td><td>▁▂▃▄▆▇▇▇▇███████████</td></tr><tr><td>val_loss</td><td>█▇▆▄▃▂▁▁▁▁▁▁▁▁▁▁▁▁▁▁</td></tr></table><br/></div><div class=\"wandb-col\"><h3>Run summary:</h3><br/><table class=\"wandb\"><tr><td>epoch</td><td>20</td></tr><tr><td>final_test_accuracy</td><td>24.29268</td></tr><tr><td>final_test_loss</td><td>3.26402</td></tr><tr><td>train_accuracy</td><td>43.45383</td></tr><tr><td>train_loss</td><td>2.37393</td></tr><tr><td>val_accuracy</td><td>14.5098</td></tr><tr><td>val_loss</td><td>3.67565</td></tr></table><br/></div></div>"
            ]
          },
          "metadata": {}
        },
        {
          "output_type": "display_data",
          "data": {
            "text/plain": [
              "<IPython.core.display.HTML object>"
            ],
            "text/html": [
              " View run <strong style=\"color:#cdcd00\">train_full+50pct_test</strong> at: <a href='https://wandb.ai/kicza/flowers102-cnn/runs/kmy44zev' target=\"_blank\">https://wandb.ai/kicza/flowers102-cnn/runs/kmy44zev</a><br> View project at: <a href='https://wandb.ai/kicza/flowers102-cnn' target=\"_blank\">https://wandb.ai/kicza/flowers102-cnn</a><br>Synced 5 W&B file(s), 0 media file(s), 0 artifact file(s) and 0 other file(s)"
            ]
          },
          "metadata": {}
        },
        {
          "output_type": "display_data",
          "data": {
            "text/plain": [
              "<IPython.core.display.HTML object>"
            ],
            "text/html": [
              "Find logs at: <code>./wandb/run-20250409_165943-kmy44zev/logs</code>"
            ]
          },
          "metadata": {}
        },
        {
          "output_type": "display_data",
          "data": {
            "text/plain": [
              "<IPython.core.display.HTML object>"
            ],
            "text/html": [
              "Tracking run with wandb version 0.19.9"
            ]
          },
          "metadata": {}
        },
        {
          "output_type": "display_data",
          "data": {
            "text/plain": [
              "<IPython.core.display.HTML object>"
            ],
            "text/html": [
              "Run data is saved locally in <code>/content/wandb/run-20250409_171105-s309f426</code>"
            ]
          },
          "metadata": {}
        },
        {
          "output_type": "display_data",
          "data": {
            "text/plain": [
              "<IPython.core.display.HTML object>"
            ],
            "text/html": [
              "Syncing run <strong><a href='https://wandb.ai/kicza/flowers102-cnn/runs/s309f426' target=\"_blank\">train_full+80pct_test</a></strong> to <a href='https://wandb.ai/kicza/flowers102-cnn' target=\"_blank\">Weights & Biases</a> (<a href='https://wandb.me/developer-guide' target=\"_blank\">docs</a>)<br>"
            ]
          },
          "metadata": {}
        },
        {
          "output_type": "display_data",
          "data": {
            "text/plain": [
              "<IPython.core.display.HTML object>"
            ],
            "text/html": [
              " View project at <a href='https://wandb.ai/kicza/flowers102-cnn' target=\"_blank\">https://wandb.ai/kicza/flowers102-cnn</a>"
            ]
          },
          "metadata": {}
        },
        {
          "output_type": "display_data",
          "data": {
            "text/plain": [
              "<IPython.core.display.HTML object>"
            ],
            "text/html": [
              " View run at <a href='https://wandb.ai/kicza/flowers102-cnn/runs/s309f426' target=\"_blank\">https://wandb.ai/kicza/flowers102-cnn/runs/s309f426</a>"
            ]
          },
          "metadata": {}
        },
        {
          "output_type": "stream",
          "name": "stdout",
          "text": [
            "[1/20] Train Loss: 4.2104, Train Acc: 8.82%, Val Loss: 4.2372, Val Acc: 6.86%\n",
            "[2/20] Train Loss: 3.4435, Train Acc: 19.57%, Val Loss: 3.7054, Val Acc: 12.35%\n",
            "[3/20] Train Loss: 2.8395, Train Acc: 30.36%, Val Loss: 3.3862, Val Acc: 20.00%\n",
            "[4/20] Train Loss: 2.3684, Train Acc: 40.63%, Val Loss: 3.1761, Val Acc: 22.55%\n",
            "[5/20] Train Loss: 1.9698, Train Acc: 49.96%, Val Loss: 3.0773, Val Acc: 26.37%\n",
            "[6/20] Train Loss: 1.5148, Train Acc: 64.29%, Val Loss: 3.0091, Val Acc: 27.35%\n",
            "[7/20] Train Loss: 1.4388, Train Acc: 66.49%, Val Loss: 3.0029, Val Acc: 27.55%\n",
            "[8/20] Train Loss: 1.3958, Train Acc: 67.10%, Val Loss: 3.0156, Val Acc: 27.84%\n",
            "[9/20] Train Loss: 1.3513, Train Acc: 68.66%, Val Loss: 3.0225, Val Acc: 28.24%\n",
            "[10/20] Train Loss: 1.3087, Train Acc: 69.76%, Val Loss: 3.0270, Val Acc: 28.14%\n",
            "[11/20] Train Loss: 1.2626, Train Acc: 71.16%, Val Loss: 3.0169, Val Acc: 28.14%\n",
            "[12/20] Train Loss: 1.2549, Train Acc: 71.44%, Val Loss: 3.0188, Val Acc: 28.04%\n",
            "Early stopping at epoch 12\n",
            "Test Loss: 2.6600, Test Accuracy: 35.77%\n"
          ]
        },
        {
          "output_type": "display_data",
          "data": {
            "text/plain": [
              "<IPython.core.display.HTML object>"
            ],
            "text/html": []
          },
          "metadata": {}
        },
        {
          "output_type": "display_data",
          "data": {
            "text/plain": [
              "<IPython.core.display.HTML object>"
            ],
            "text/html": [
              "<br>    <style><br>        .wandb-row {<br>            display: flex;<br>            flex-direction: row;<br>            flex-wrap: wrap;<br>            justify-content: flex-start;<br>            width: 100%;<br>        }<br>        .wandb-col {<br>            display: flex;<br>            flex-direction: column;<br>            flex-basis: 100%;<br>            flex: 1;<br>            padding: 10px;<br>        }<br>    </style><br><div class=\"wandb-row\"><div class=\"wandb-col\"><h3>Run history:</h3><br/><table class=\"wandb\"><tr><td>epoch</td><td>▁▂▂▃▄▄▅▅▆▇▇█</td></tr><tr><td>final_test_accuracy</td><td>▁</td></tr><tr><td>final_test_loss</td><td>▁</td></tr><tr><td>train_accuracy</td><td>▁▂▃▅▆▇▇█████</td></tr><tr><td>train_loss</td><td>█▆▅▄▃▂▁▁▁▁▁▁</td></tr><tr><td>val_accuracy</td><td>▁▃▅▆▇███████</td></tr><tr><td>val_loss</td><td>█▅▃▂▁▁▁▁▁▁▁▁</td></tr></table><br/></div><div class=\"wandb-col\"><h3>Run summary:</h3><br/><table class=\"wandb\"><tr><td>epoch</td><td>12</td></tr><tr><td>final_test_accuracy</td><td>35.77236</td></tr><tr><td>final_test_loss</td><td>2.66</td></tr><tr><td>train_accuracy</td><td>71.443</td></tr><tr><td>train_loss</td><td>1.25491</td></tr><tr><td>val_accuracy</td><td>28.03922</td></tr><tr><td>val_loss</td><td>3.01881</td></tr></table><br/></div></div>"
            ]
          },
          "metadata": {}
        },
        {
          "output_type": "display_data",
          "data": {
            "text/plain": [
              "<IPython.core.display.HTML object>"
            ],
            "text/html": [
              " View run <strong style=\"color:#cdcd00\">train_full+80pct_test</strong> at: <a href='https://wandb.ai/kicza/flowers102-cnn/runs/s309f426' target=\"_blank\">https://wandb.ai/kicza/flowers102-cnn/runs/s309f426</a><br> View project at: <a href='https://wandb.ai/kicza/flowers102-cnn' target=\"_blank\">https://wandb.ai/kicza/flowers102-cnn</a><br>Synced 5 W&B file(s), 0 media file(s), 0 artifact file(s) and 0 other file(s)"
            ]
          },
          "metadata": {}
        },
        {
          "output_type": "display_data",
          "data": {
            "text/plain": [
              "<IPython.core.display.HTML object>"
            ],
            "text/html": [
              "Find logs at: <code>./wandb/run-20250409_171105-s309f426/logs</code>"
            ]
          },
          "metadata": {}
        }
      ]
    },
    {
      "cell_type": "markdown",
      "source": [
        "# ZAD. 3 - ALEXNET"
      ],
      "metadata": {
        "id": "erae_HjncunT"
      }
    },
    {
      "cell_type": "code",
      "source": [
        "import torch\n",
        "import torch.nn as nn\n",
        "import torch.optim as optim\n",
        "from torchvision import datasets, transforms\n",
        "from torch.utils.data import DataLoader\n",
        "import wandb\n",
        "\n",
        "wandb.init(project='flowers102-alexnet', entity='kicza', name='zad3-alex')\n",
        "\n",
        "device = torch.device('cuda' if torch.cuda.is_available() else 'cpu')\n",
        "\n",
        "transform = transforms.Compose([\n",
        "    transforms.Resize((224, 224)),\n",
        "    transforms.ToTensor(),\n",
        "    transforms.Normalize((0.5, 0.5, 0.5), (0.5, 0.5, 0.5))\n",
        "])\n",
        "\n",
        "train_dataset = datasets.Flowers102(root='./data', split='train', download=True, transform=transform)\n",
        "val_dataset = datasets.Flowers102(root='./data', split='val', download=True, transform=transform)\n",
        "test_dataset = datasets.Flowers102(root='./data', split='test', download=True, transform=transform)\n",
        "\n",
        "train_loader = DataLoader(train_dataset, batch_size=32, shuffle=True)\n",
        "val_loader = DataLoader(val_dataset, batch_size=32, shuffle=False)\n",
        "test_loader = DataLoader(test_dataset, batch_size=32, shuffle=False)\n",
        "\n",
        "class AlexNet(nn.Module):\n",
        "    def __init__(self, num_classes=102):\n",
        "        super(AlexNet, self).__init__()\n",
        "        self.features = nn.Sequential(\n",
        "            nn.Conv2d(3, 96, kernel_size=11, stride=4, padding=0),\n",
        "            nn.ReLU(inplace=True),\n",
        "            nn.MaxPool2d(kernel_size=3, stride=2),\n",
        "            nn.Conv2d(96, 256, kernel_size=5, padding=2),\n",
        "            nn.ReLU(inplace=True),\n",
        "            nn.MaxPool2d(kernel_size=3, stride=2),\n",
        "            nn.Conv2d(256, 384, kernel_size=3, padding=1),\n",
        "            nn.ReLU(inplace=True),\n",
        "            nn.Conv2d(384, 384, kernel_size=3, padding=1),\n",
        "            nn.ReLU(inplace=True),\n",
        "            nn.Conv2d(384, 256, kernel_size=3, padding=1),\n",
        "            nn.ReLU(inplace=True),\n",
        "            nn.MaxPool2d(kernel_size=3, stride=2)\n",
        "        )\n",
        "        self.classifier = nn.Sequential(\n",
        "            nn.Flatten(),\n",
        "            nn.Linear(256 * 5 * 5, 4096),\n",
        "            nn.ReLU(inplace=True),\n",
        "            nn.Dropout(0.5),\n",
        "            nn.Linear(4096, 4096),\n",
        "            nn.ReLU(inplace=True),\n",
        "            nn.Dropout(0.5),\n",
        "            nn.Linear(4096, num_classes)\n",
        "        )\n",
        "        self._initialize_weights()\n",
        "\n",
        "    def forward(self, x):\n",
        "        x = self.features(x)\n",
        "        x = self.classifier(x)\n",
        "        return x\n",
        "\n",
        "    def _initialize_weights(self):\n",
        "        for m in self.modules():\n",
        "            if isinstance(m, nn.Conv2d) or isinstance(m, nn.Linear):\n",
        "                nn.init.kaiming_normal_(m.weight, nonlinearity='relu')\n",
        "                if m.bias is not None:\n",
        "                    nn.init.zeros_(m.bias)\n",
        "\n",
        "model = AlexNet(num_classes=102).to(device)\n",
        "criterion = nn.CrossEntropyLoss()\n",
        "optimizer = optim.Adam(model.parameters(), lr=0.0001)\n",
        "scheduler = optim.lr_scheduler.StepLR(optimizer, step_size=5, gamma=0.1)\n",
        "\n",
        "patience = 5\n",
        "best_val_loss = float('inf')\n",
        "epochs_without_improvement = 0\n",
        "num_epochs = 20\n",
        "\n",
        "for epoch in range(num_epochs):\n",
        "    model.train()\n",
        "    running_loss = 0.0\n",
        "    correct = 0\n",
        "    total = 0\n",
        "\n",
        "    for inputs, labels in train_loader:\n",
        "        inputs, labels = inputs.to(device), labels.to(device)\n",
        "        optimizer.zero_grad()\n",
        "        outputs = model(inputs)\n",
        "        loss = criterion(outputs, labels)\n",
        "        loss.backward()\n",
        "        optimizer.step()\n",
        "        running_loss += loss.item()\n",
        "        _, predicted = torch.max(outputs, 1)\n",
        "        total += labels.size(0)\n",
        "        correct += (predicted == labels).sum().item()\n",
        "\n",
        "    train_loss = running_loss / len(train_loader)\n",
        "    train_accuracy = 100 * correct / total\n",
        "\n",
        "    model.eval()\n",
        "    val_loss = 0.0\n",
        "    correct = 0\n",
        "    total = 0\n",
        "\n",
        "    with torch.no_grad():\n",
        "        for inputs, labels in val_loader:\n",
        "            inputs, labels = inputs.to(device), labels.to(device)\n",
        "            outputs = model(inputs)\n",
        "            loss = criterion(outputs, labels)\n",
        "            val_loss += loss.item()\n",
        "            _, predicted = torch.max(outputs, 1)\n",
        "            total += labels.size(0)\n",
        "            correct += (predicted == labels).sum().item()\n",
        "\n",
        "    val_loss = val_loss / len(val_loader)\n",
        "    val_accuracy = 100 * correct / total\n",
        "\n",
        "    wandb.log({\n",
        "        'epoch': epoch + 1,\n",
        "        'train_loss': train_loss,\n",
        "        'train_accuracy': train_accuracy,\n",
        "        'val_loss': val_loss,\n",
        "        'val_accuracy': val_accuracy\n",
        "    })\n",
        "\n",
        "    print(f'Epoch [{epoch+1}/{num_epochs}], '\n",
        "          f'Training Loss: {train_loss:.4f}, Training Accuracy: {train_accuracy:.2f}%, '\n",
        "          f'Validation Loss: {val_loss:.4f}, Validation Accuracy: {val_accuracy:.2f}%')\n",
        "\n",
        "    if val_loss < best_val_loss:\n",
        "        best_val_loss = val_loss\n",
        "        epochs_without_improvement = 0\n",
        "    else:\n",
        "        epochs_without_improvement += 1\n",
        "\n",
        "    if epochs_without_improvement >= patience:\n",
        "        print(f'Early stopping at epoch {epoch+1}')\n",
        "        break\n",
        "\n",
        "    scheduler.step()\n",
        "\n",
        "model.eval()\n",
        "test_loss = 0.0\n",
        "correct = 0\n",
        "total = 0\n",
        "\n",
        "with torch.no_grad():\n",
        "    for inputs, labels in test_loader:\n",
        "        inputs, labels = inputs.to(device), labels.to(device)\n",
        "        outputs = model(inputs)\n",
        "        loss = criterion(outputs, labels)\n",
        "        test_loss += loss.item()\n",
        "        _, predicted = torch.max(outputs, 1)\n",
        "        total += labels.size(0)\n",
        "        correct += (predicted == labels).sum().item()\n",
        "\n",
        "test_loss = test_loss / len(test_loader)\n",
        "test_accuracy = 100 * correct / total\n",
        "\n",
        "wandb.log({\n",
        "    'test_loss': test_loss,\n",
        "    'test_accuracy': test_accuracy\n",
        "})\n",
        "\n",
        "print(f'Test Loss: {test_loss:.4f}, Test Accuracy: {test_accuracy:.2f}%')\n",
        "\n",
        "wandb.finish()\n"
      ],
      "metadata": {
        "colab": {
          "base_uri": "https://localhost:8080/",
          "height": 1000
        },
        "id": "l1U5aUVRcqtP",
        "outputId": "70bb2adf-6bc3-4fcc-9bf5-020483a1e347"
      },
      "execution_count": null,
      "outputs": [
        {
          "output_type": "display_data",
          "data": {
            "text/plain": [
              "<IPython.core.display.HTML object>"
            ],
            "text/html": []
          },
          "metadata": {}
        },
        {
          "output_type": "display_data",
          "data": {
            "text/plain": [
              "<IPython.core.display.HTML object>"
            ],
            "text/html": [
              " View run <strong style=\"color:#cdcd00\">zad3-alex</strong> at: <a href='https://wandb.ai/kicza/flowers102-alexnet/runs/o476hpxr' target=\"_blank\">https://wandb.ai/kicza/flowers102-alexnet/runs/o476hpxr</a><br> View project at: <a href='https://wandb.ai/kicza/flowers102-alexnet' target=\"_blank\">https://wandb.ai/kicza/flowers102-alexnet</a><br>Synced 5 W&B file(s), 0 media file(s), 0 artifact file(s) and 0 other file(s)"
            ]
          },
          "metadata": {}
        },
        {
          "output_type": "display_data",
          "data": {
            "text/plain": [
              "<IPython.core.display.HTML object>"
            ],
            "text/html": [
              "Find logs at: <code>./wandb/run-20250415_114945-o476hpxr/logs</code>"
            ]
          },
          "metadata": {}
        },
        {
          "output_type": "display_data",
          "data": {
            "text/plain": [
              "<IPython.core.display.HTML object>"
            ],
            "text/html": [
              "Tracking run with wandb version 0.19.9"
            ]
          },
          "metadata": {}
        },
        {
          "output_type": "display_data",
          "data": {
            "text/plain": [
              "<IPython.core.display.HTML object>"
            ],
            "text/html": [
              "Run data is saved locally in <code>/content/wandb/run-20250415_115106-3zqp2l84</code>"
            ]
          },
          "metadata": {}
        },
        {
          "output_type": "display_data",
          "data": {
            "text/plain": [
              "<IPython.core.display.HTML object>"
            ],
            "text/html": [
              "Syncing run <strong><a href='https://wandb.ai/kicza/flowers102-alexnet/runs/3zqp2l84' target=\"_blank\">zad3-alex</a></strong> to <a href='https://wandb.ai/kicza/flowers102-alexnet' target=\"_blank\">Weights & Biases</a> (<a href='https://wandb.me/developer-guide' target=\"_blank\">docs</a>)<br>"
            ]
          },
          "metadata": {}
        },
        {
          "output_type": "display_data",
          "data": {
            "text/plain": [
              "<IPython.core.display.HTML object>"
            ],
            "text/html": [
              " View project at <a href='https://wandb.ai/kicza/flowers102-alexnet' target=\"_blank\">https://wandb.ai/kicza/flowers102-alexnet</a>"
            ]
          },
          "metadata": {}
        },
        {
          "output_type": "display_data",
          "data": {
            "text/plain": [
              "<IPython.core.display.HTML object>"
            ],
            "text/html": [
              " View run at <a href='https://wandb.ai/kicza/flowers102-alexnet/runs/3zqp2l84' target=\"_blank\">https://wandb.ai/kicza/flowers102-alexnet/runs/3zqp2l84</a>"
            ]
          },
          "metadata": {}
        },
        {
          "output_type": "stream",
          "name": "stdout",
          "text": [
            "Epoch [1/20], Training Loss: 5.5150, Training Accuracy: 0.78%, Validation Loss: 4.5786, Validation Accuracy: 2.84%\n",
            "Epoch [2/20], Training Loss: 4.5373, Training Accuracy: 2.16%, Validation Loss: 4.3396, Validation Accuracy: 4.02%\n",
            "Epoch [3/20], Training Loss: 4.3337, Training Accuracy: 3.33%, Validation Loss: 4.1309, Validation Accuracy: 6.76%\n",
            "Epoch [4/20], Training Loss: 4.1328, Training Accuracy: 5.39%, Validation Loss: 3.9662, Validation Accuracy: 9.12%\n",
            "Epoch [5/20], Training Loss: 3.8825, Training Accuracy: 10.00%, Validation Loss: 3.7507, Validation Accuracy: 11.57%\n",
            "Epoch [6/20], Training Loss: 3.5795, Training Accuracy: 13.73%, Validation Loss: 3.6330, Validation Accuracy: 13.82%\n",
            "Epoch [7/20], Training Loss: 3.4345, Training Accuracy: 16.86%, Validation Loss: 3.5457, Validation Accuracy: 15.78%\n",
            "Epoch [8/20], Training Loss: 3.2892, Training Accuracy: 18.92%, Validation Loss: 3.4956, Validation Accuracy: 17.16%\n",
            "Epoch [9/20], Training Loss: 3.2281, Training Accuracy: 20.69%, Validation Loss: 3.4475, Validation Accuracy: 18.92%\n",
            "Epoch [10/20], Training Loss: 3.1630, Training Accuracy: 21.57%, Validation Loss: 3.4077, Validation Accuracy: 19.71%\n",
            "Epoch [11/20], Training Loss: 3.0736, Training Accuracy: 24.02%, Validation Loss: 3.4039, Validation Accuracy: 19.31%\n",
            "Epoch [12/20], Training Loss: 3.0563, Training Accuracy: 24.41%, Validation Loss: 3.4003, Validation Accuracy: 19.31%\n",
            "Epoch [13/20], Training Loss: 3.0300, Training Accuracy: 25.10%, Validation Loss: 3.3965, Validation Accuracy: 19.71%\n",
            "Epoch [14/20], Training Loss: 3.0661, Training Accuracy: 23.73%, Validation Loss: 3.3928, Validation Accuracy: 20.20%\n",
            "Epoch [15/20], Training Loss: 3.0426, Training Accuracy: 22.94%, Validation Loss: 3.3903, Validation Accuracy: 20.29%\n",
            "Epoch [16/20], Training Loss: 3.0225, Training Accuracy: 23.53%, Validation Loss: 3.3899, Validation Accuracy: 20.29%\n",
            "Epoch [17/20], Training Loss: 2.9681, Training Accuracy: 26.67%, Validation Loss: 3.3895, Validation Accuracy: 20.29%\n",
            "Epoch [18/20], Training Loss: 3.0269, Training Accuracy: 25.29%, Validation Loss: 3.3891, Validation Accuracy: 20.29%\n",
            "Epoch [19/20], Training Loss: 3.0193, Training Accuracy: 27.25%, Validation Loss: 3.3887, Validation Accuracy: 20.29%\n",
            "Epoch [20/20], Training Loss: 3.0167, Training Accuracy: 24.90%, Validation Loss: 3.3884, Validation Accuracy: 20.29%\n",
            "Test Loss: 3.5311, Test Accuracy: 15.60%\n"
          ]
        },
        {
          "output_type": "display_data",
          "data": {
            "text/plain": [
              "<IPython.core.display.HTML object>"
            ],
            "text/html": []
          },
          "metadata": {}
        },
        {
          "output_type": "display_data",
          "data": {
            "text/plain": [
              "<IPython.core.display.HTML object>"
            ],
            "text/html": [
              "<br>    <style><br>        .wandb-row {<br>            display: flex;<br>            flex-direction: row;<br>            flex-wrap: wrap;<br>            justify-content: flex-start;<br>            width: 100%;<br>        }<br>        .wandb-col {<br>            display: flex;<br>            flex-direction: column;<br>            flex-basis: 100%;<br>            flex: 1;<br>            padding: 10px;<br>        }<br>    </style><br><div class=\"wandb-row\"><div class=\"wandb-col\"><h3>Run history:</h3><br/><table class=\"wandb\"><tr><td>epoch</td><td>▁▁▂▂▂▃▃▄▄▄▅▅▅▆▆▇▇▇██</td></tr><tr><td>test_accuracy</td><td>▁</td></tr><tr><td>test_loss</td><td>▁</td></tr><tr><td>train_accuracy</td><td>▁▁▂▂▃▄▅▆▆▆▇▇▇▇▇▇█▇█▇</td></tr><tr><td>train_loss</td><td>█▅▅▄▄▃▂▂▂▂▁▁▁▁▁▁▁▁▁▁</td></tr><tr><td>val_accuracy</td><td>▁▁▃▄▅▅▆▇▇███████████</td></tr><tr><td>val_loss</td><td>█▇▅▄▃▂▂▂▁▁▁▁▁▁▁▁▁▁▁▁</td></tr></table><br/></div><div class=\"wandb-col\"><h3>Run summary:</h3><br/><table class=\"wandb\"><tr><td>epoch</td><td>20</td></tr><tr><td>test_accuracy</td><td>15.59603</td></tr><tr><td>test_loss</td><td>3.5311</td></tr><tr><td>train_accuracy</td><td>24.90196</td></tr><tr><td>train_loss</td><td>3.01674</td></tr><tr><td>val_accuracy</td><td>20.29412</td></tr><tr><td>val_loss</td><td>3.38836</td></tr></table><br/></div></div>"
            ]
          },
          "metadata": {}
        },
        {
          "output_type": "display_data",
          "data": {
            "text/plain": [
              "<IPython.core.display.HTML object>"
            ],
            "text/html": [
              " View run <strong style=\"color:#cdcd00\">zad3-alex</strong> at: <a href='https://wandb.ai/kicza/flowers102-alexnet/runs/3zqp2l84' target=\"_blank\">https://wandb.ai/kicza/flowers102-alexnet/runs/3zqp2l84</a><br> View project at: <a href='https://wandb.ai/kicza/flowers102-alexnet' target=\"_blank\">https://wandb.ai/kicza/flowers102-alexnet</a><br>Synced 5 W&B file(s), 0 media file(s), 0 artifact file(s) and 0 other file(s)"
            ]
          },
          "metadata": {}
        },
        {
          "output_type": "display_data",
          "data": {
            "text/plain": [
              "<IPython.core.display.HTML object>"
            ],
            "text/html": [
              "Find logs at: <code>./wandb/run-20250415_115106-3zqp2l84/logs</code>"
            ]
          },
          "metadata": {}
        }
      ]
    },
    {
      "cell_type": "code",
      "source": [
        "import torch\n",
        "import torch.nn as nn\n",
        "import torch.optim as optim\n",
        "from torchvision import datasets, transforms, models\n",
        "from torch.utils.data import DataLoader\n",
        "import wandb\n",
        "\n",
        "wandb.init(project='flowers102-alexnet', entity='kicza', name='zad3-alexnet-built-in')\n",
        "\n",
        "device = torch.device('cuda' if torch.cuda.is_available() else 'cpu')\n",
        "\n",
        "transform = transforms.Compose([\n",
        "    transforms.Resize((224, 224)),\n",
        "    transforms.ToTensor(),\n",
        "    transforms.Normalize((0.5, 0.5, 0.5), (0.5, 0.5, 0.5))\n",
        "])\n",
        "\n",
        "train_dataset = datasets.Flowers102(root='./data', split='train', download=True, transform=transform)\n",
        "val_dataset = datasets.Flowers102(root='./data', split='val', download=True, transform=transform)\n",
        "test_dataset = datasets.Flowers102(root='./data', split='test', download=True, transform=transform)\n",
        "\n",
        "train_loader = DataLoader(train_dataset, batch_size=32, shuffle=True)\n",
        "val_loader = DataLoader(val_dataset, batch_size=32, shuffle=False)\n",
        "test_loader = DataLoader(test_dataset, batch_size=32, shuffle=False)\n",
        "\n",
        "model = models.alexnet(pretrained=True)\n",
        "model.classifier[6] = nn.Linear(model.classifier[6].in_features, 102)\n",
        "model = model.to(device)\n",
        "\n",
        "criterion = nn.CrossEntropyLoss()\n",
        "optimizer = optim.Adam(model.parameters(), lr=0.0001)\n",
        "scheduler = optim.lr_scheduler.StepLR(optimizer, step_size=5, gamma=0.1)\n",
        "\n",
        "patience = 5\n",
        "best_val_loss = float('inf')\n",
        "epochs_without_improvement = 0\n",
        "num_epochs = 20\n",
        "\n",
        "for epoch in range(num_epochs):\n",
        "    model.train()\n",
        "    running_loss = 0.0\n",
        "    correct = 0\n",
        "    total = 0\n",
        "\n",
        "    for inputs, labels in train_loader:\n",
        "        inputs, labels = inputs.to(device), labels.to(device)\n",
        "        optimizer.zero_grad()\n",
        "        outputs = model(inputs)\n",
        "        loss = criterion(outputs, labels)\n",
        "        loss.backward()\n",
        "        optimizer.step()\n",
        "        running_loss += loss.item()\n",
        "        _, predicted = torch.max(outputs, 1)\n",
        "        total += labels.size(0)\n",
        "        correct += (predicted == labels).sum().item()\n",
        "\n",
        "    train_loss = running_loss / len(train_loader)\n",
        "    train_accuracy = 100 * correct / total\n",
        "\n",
        "    model.eval()\n",
        "    val_loss = 0.0\n",
        "    correct = 0\n",
        "    total = 0\n",
        "\n",
        "    with torch.no_grad():\n",
        "        for inputs, labels in val_loader:\n",
        "            inputs, labels = inputs.to(device), labels.to(device)\n",
        "            outputs = model(inputs)\n",
        "            loss = criterion(outputs, labels)\n",
        "            val_loss += loss.item()\n",
        "            _, predicted = torch.max(outputs, 1)\n",
        "            total += labels.size(0)\n",
        "            correct += (predicted == labels).sum().item()\n",
        "\n",
        "    val_loss = val_loss / len(val_loader)\n",
        "    val_accuracy = 100 * correct / total\n",
        "\n",
        "    wandb.log({\n",
        "        'epoch': epoch + 1,\n",
        "        'train_loss': train_loss,\n",
        "        'train_accuracy': train_accuracy,\n",
        "        'val_loss': val_loss,\n",
        "        'val_accuracy': val_accuracy\n",
        "    })\n",
        "\n",
        "    print(f'Epoch [{epoch+1}/{num_epochs}], '\n",
        "          f'Training Loss: {train_loss:.4f}, Training Accuracy: {train_accuracy:.2f}%, '\n",
        "          f'Validation Loss: {val_loss:.4f}, Validation Accuracy: {val_accuracy:.2f}%')\n",
        "\n",
        "    if val_loss < best_val_loss:\n",
        "        best_val_loss = val_loss\n",
        "        epochs_without_improvement = 0\n",
        "    else:\n",
        "        epochs_without_improvement += 1\n",
        "\n",
        "    if epochs_without_improvement >= patience:\n",
        "        print(f\"Early stopping at epoch {epoch+1} due to no improvement in validation loss\")\n",
        "        break\n",
        "\n",
        "    scheduler.step()\n",
        "\n",
        "model.eval()\n",
        "test_loss = 0.0\n",
        "correct = 0\n",
        "total = 0\n",
        "\n",
        "with torch.no_grad():\n",
        "    for inputs, labels in test_loader:\n",
        "        inputs, labels = inputs.to(device), labels.to(device)\n",
        "        outputs = model(inputs)\n",
        "        loss = criterion(outputs, labels)\n",
        "        test_loss += loss.item()\n",
        "        _, predicted = torch.max(outputs, 1)\n",
        "        total += labels.size(0)\n",
        "        correct += (predicted == labels).sum().item()\n",
        "\n",
        "test_loss = test_loss / len(test_loader)\n",
        "test_accuracy = 100 * correct / total\n",
        "\n",
        "wandb.log({\n",
        "    'test_loss': test_loss,\n",
        "    'test_accuracy': test_accuracy\n",
        "})\n",
        "\n",
        "print(f'Test Loss: {test_loss:.4f}, Test Accuracy: {test_accuracy:.2f}%')\n",
        "\n",
        "wandb.finish()\n"
      ],
      "metadata": {
        "colab": {
          "base_uri": "https://localhost:8080/",
          "height": 1000
        },
        "id": "7pl5pGdelwhV",
        "outputId": "47e358c7-9e95-4f9a-b2e6-6082c481db2d"
      },
      "execution_count": null,
      "outputs": [
        {
          "output_type": "display_data",
          "data": {
            "text/plain": [
              "<IPython.core.display.HTML object>"
            ],
            "text/html": [
              "Tracking run with wandb version 0.19.9"
            ]
          },
          "metadata": {}
        },
        {
          "output_type": "display_data",
          "data": {
            "text/plain": [
              "<IPython.core.display.HTML object>"
            ],
            "text/html": [
              "Run data is saved locally in <code>/content/wandb/run-20250409_173031-3w189dtu</code>"
            ]
          },
          "metadata": {}
        },
        {
          "output_type": "display_data",
          "data": {
            "text/plain": [
              "<IPython.core.display.HTML object>"
            ],
            "text/html": [
              "Syncing run <strong><a href='https://wandb.ai/kicza/flowers102-alexnet/runs/3w189dtu' target=\"_blank\">zad3-alexnet-built-in</a></strong> to <a href='https://wandb.ai/kicza/flowers102-alexnet' target=\"_blank\">Weights & Biases</a> (<a href='https://wandb.me/developer-guide' target=\"_blank\">docs</a>)<br>"
            ]
          },
          "metadata": {}
        },
        {
          "output_type": "display_data",
          "data": {
            "text/plain": [
              "<IPython.core.display.HTML object>"
            ],
            "text/html": [
              " View project at <a href='https://wandb.ai/kicza/flowers102-alexnet' target=\"_blank\">https://wandb.ai/kicza/flowers102-alexnet</a>"
            ]
          },
          "metadata": {}
        },
        {
          "output_type": "display_data",
          "data": {
            "text/plain": [
              "<IPython.core.display.HTML object>"
            ],
            "text/html": [
              " View run at <a href='https://wandb.ai/kicza/flowers102-alexnet/runs/3w189dtu' target=\"_blank\">https://wandb.ai/kicza/flowers102-alexnet/runs/3w189dtu</a>"
            ]
          },
          "metadata": {}
        },
        {
          "output_type": "stream",
          "name": "stderr",
          "text": [
            "/usr/local/lib/python3.11/dist-packages/torchvision/models/_utils.py:208: UserWarning: The parameter 'pretrained' is deprecated since 0.13 and may be removed in the future, please use 'weights' instead.\n",
            "  warnings.warn(\n",
            "/usr/local/lib/python3.11/dist-packages/torchvision/models/_utils.py:223: UserWarning: Arguments other than a weight enum or `None` for 'weights' are deprecated since 0.13 and may be removed in the future. The current behavior is equivalent to passing `weights=AlexNet_Weights.IMAGENET1K_V1`. You can also use `weights=AlexNet_Weights.DEFAULT` to get the most up-to-date weights.\n",
            "  warnings.warn(msg)\n",
            "Downloading: \"https://download.pytorch.org/models/alexnet-owt-7be5be79.pth\" to /root/.cache/torch/hub/checkpoints/alexnet-owt-7be5be79.pth\n",
            "100%|██████████| 233M/233M [00:01<00:00, 175MB/s]\n"
          ]
        },
        {
          "output_type": "stream",
          "name": "stdout",
          "text": [
            "Epoch [1/20], Training Loss: 4.2484, Training Accuracy: 9.22%, Validation Loss: 2.8604, Validation Accuracy: 38.82%\n",
            "Epoch [2/20], Training Loss: 1.6310, Training Accuracy: 57.16%, Validation Loss: 1.4653, Validation Accuracy: 60.59%\n",
            "Epoch [3/20], Training Loss: 0.5691, Training Accuracy: 83.53%, Validation Loss: 1.3324, Validation Accuracy: 66.18%\n",
            "Epoch [4/20], Training Loss: 0.2106, Training Accuracy: 94.12%, Validation Loss: 1.2079, Validation Accuracy: 68.92%\n",
            "Epoch [5/20], Training Loss: 0.0885, Training Accuracy: 97.84%, Validation Loss: 1.3556, Validation Accuracy: 68.24%\n",
            "Epoch [6/20], Training Loss: 0.0643, Training Accuracy: 98.43%, Validation Loss: 1.1397, Validation Accuracy: 71.86%\n",
            "Epoch [7/20], Training Loss: 0.0218, Training Accuracy: 99.51%, Validation Loss: 1.0784, Validation Accuracy: 73.14%\n",
            "Epoch [8/20], Training Loss: 0.0158, Training Accuracy: 99.90%, Validation Loss: 1.0593, Validation Accuracy: 73.92%\n",
            "Epoch [9/20], Training Loss: 0.0143, Training Accuracy: 99.71%, Validation Loss: 1.0634, Validation Accuracy: 73.73%\n",
            "Epoch [10/20], Training Loss: 0.0097, Training Accuracy: 100.00%, Validation Loss: 1.0695, Validation Accuracy: 74.02%\n",
            "Epoch [11/20], Training Loss: 0.0086, Training Accuracy: 99.90%, Validation Loss: 1.0695, Validation Accuracy: 73.92%\n",
            "Epoch [12/20], Training Loss: 0.0121, Training Accuracy: 99.71%, Validation Loss: 1.0700, Validation Accuracy: 73.82%\n",
            "Epoch [13/20], Training Loss: 0.0083, Training Accuracy: 100.00%, Validation Loss: 1.0703, Validation Accuracy: 73.73%\n",
            "Early stopping at epoch 13 due to no improvement in validation loss\n",
            "Test Loss: 1.3160, Test Accuracy: 70.63%\n"
          ]
        },
        {
          "output_type": "display_data",
          "data": {
            "text/plain": [
              "<IPython.core.display.HTML object>"
            ],
            "text/html": []
          },
          "metadata": {}
        },
        {
          "output_type": "display_data",
          "data": {
            "text/plain": [
              "<IPython.core.display.HTML object>"
            ],
            "text/html": [
              "<br>    <style><br>        .wandb-row {<br>            display: flex;<br>            flex-direction: row;<br>            flex-wrap: wrap;<br>            justify-content: flex-start;<br>            width: 100%;<br>        }<br>        .wandb-col {<br>            display: flex;<br>            flex-direction: column;<br>            flex-basis: 100%;<br>            flex: 1;<br>            padding: 10px;<br>        }<br>    </style><br><div class=\"wandb-row\"><div class=\"wandb-col\"><h3>Run history:</h3><br/><table class=\"wandb\"><tr><td>epoch</td><td>▁▂▂▃▃▄▅▅▆▆▇▇█</td></tr><tr><td>test_accuracy</td><td>▁</td></tr><tr><td>test_loss</td><td>▁</td></tr><tr><td>train_accuracy</td><td>▁▅▇██████████</td></tr><tr><td>train_loss</td><td>█▄▂▁▁▁▁▁▁▁▁▁▁</td></tr><tr><td>val_accuracy</td><td>▁▅▆▇▇████████</td></tr><tr><td>val_loss</td><td>█▃▂▂▂▁▁▁▁▁▁▁▁</td></tr></table><br/></div><div class=\"wandb-col\"><h3>Run summary:</h3><br/><table class=\"wandb\"><tr><td>epoch</td><td>13</td></tr><tr><td>test_accuracy</td><td>70.62937</td></tr><tr><td>test_loss</td><td>1.31596</td></tr><tr><td>train_accuracy</td><td>100</td></tr><tr><td>train_loss</td><td>0.00833</td></tr><tr><td>val_accuracy</td><td>73.72549</td></tr><tr><td>val_loss</td><td>1.07031</td></tr></table><br/></div></div>"
            ]
          },
          "metadata": {}
        },
        {
          "output_type": "display_data",
          "data": {
            "text/plain": [
              "<IPython.core.display.HTML object>"
            ],
            "text/html": [
              " View run <strong style=\"color:#cdcd00\">zad3-alexnet-built-in</strong> at: <a href='https://wandb.ai/kicza/flowers102-alexnet/runs/3w189dtu' target=\"_blank\">https://wandb.ai/kicza/flowers102-alexnet/runs/3w189dtu</a><br> View project at: <a href='https://wandb.ai/kicza/flowers102-alexnet' target=\"_blank\">https://wandb.ai/kicza/flowers102-alexnet</a><br>Synced 5 W&B file(s), 0 media file(s), 0 artifact file(s) and 0 other file(s)"
            ]
          },
          "metadata": {}
        },
        {
          "output_type": "display_data",
          "data": {
            "text/plain": [
              "<IPython.core.display.HTML object>"
            ],
            "text/html": [
              "Find logs at: <code>./wandb/run-20250409_173031-3w189dtu/logs</code>"
            ]
          },
          "metadata": {}
        }
      ]
    },
    {
      "cell_type": "markdown",
      "source": [
        "# ZAD. 4"
      ],
      "metadata": {
        "id": "E3ruYnqXRFLb"
      }
    },
    {
      "cell_type": "code",
      "source": [
        "import torch\n",
        "import torch.nn as nn\n",
        "import torch.optim as optim\n",
        "from torchvision import datasets, transforms\n",
        "from torch.utils.data import DataLoader\n",
        "import wandb\n",
        "\n",
        "device = torch.device('cuda' if torch.cuda.is_available() else 'cpu')\n",
        "batch_size = 32\n",
        "num_epochs = 20\n",
        "learning_rate = 0.0001\n",
        "patience = 5\n",
        "\n",
        "def get_mean_std(dataset):\n",
        "    loader = DataLoader(dataset, batch_size=64, shuffle=False)\n",
        "    mean = 0.\n",
        "    std = 0.\n",
        "    total_images = 0\n",
        "    for images, _ in loader:\n",
        "        batch_samples = images.size(0)\n",
        "        images = images.view(batch_samples, images.size(1), -1)\n",
        "        mean += images.mean(2).sum(0)\n",
        "        std += images.std(2).sum(0)\n",
        "        total_images += batch_samples\n",
        "    mean /= total_images\n",
        "    std /= total_images\n",
        "    return mean, std\n",
        "\n",
        "class SimpleCNN(nn.Module):\n",
        "    def __init__(self, num_classes=102):\n",
        "        super(SimpleCNN, self).__init__()\n",
        "        self.conv1 = nn.Conv2d(3, 16, kernel_size=3, stride=1, padding=1)\n",
        "        self.conv2 = nn.Conv2d(16, 32, kernel_size=3, stride=1, padding=1)\n",
        "        self.pool = nn.MaxPool2d(2, 2)\n",
        "        self.fc1 = nn.Linear(32 * 56 * 56, 128)\n",
        "        self.fc2 = nn.Linear(128, num_classes)\n",
        "        self.relu = nn.ReLU()\n",
        "\n",
        "    def forward(self, x):\n",
        "        x = self.relu(self.conv1(x))\n",
        "        x = self.pool(x)\n",
        "        x = self.relu(self.conv2(x))\n",
        "        x = self.pool(x)\n",
        "        x = x.view(-1, 32 * 56 * 56)\n",
        "        x = self.relu(self.fc1(x))\n",
        "        x = self.fc2(x)\n",
        "        return x\n",
        "\n",
        "normalizations = ['no_normalization', 'custom', 'minmax']\n",
        "\n",
        "for norm_type in normalizations:\n",
        "    wandb.init(project='flowers102-cnn', entity='kicza', name=f'norm-{norm_type}', reinit=True)\n",
        "    wandb.config.normalization = norm_type\n",
        "\n",
        "    if norm_type == 'no_normalization':\n",
        "        # No normalization applied\n",
        "        transform = transforms.Compose([\n",
        "            transforms.Resize((224, 224)),\n",
        "            transforms.ToTensor()  # No normalization, just converting image to tensor\n",
        "        ])\n",
        "    elif norm_type == 'custom':\n",
        "        # Custom normalization using mean and std from the dataset\n",
        "        temp_transform = transforms.Compose([\n",
        "            transforms.Resize((224, 224)),\n",
        "            transforms.ToTensor()\n",
        "        ])\n",
        "        temp_dataset = datasets.Flowers102(root='./data', split='train', download=True, transform=temp_transform)\n",
        "        mean, std = get_mean_std(temp_dataset)\n",
        "        transform = transforms.Compose([\n",
        "            transforms.Resize((224, 224)),\n",
        "            transforms.ToTensor(),\n",
        "            transforms.Normalize(mean.tolist(), std.tolist())\n",
        "        ])\n",
        "    elif norm_type == 'minmax':\n",
        "        # Min-Max normalization (scaling pixel values to [-1, 1])\n",
        "        transform = transforms.Compose([\n",
        "            transforms.Resize((224, 224)),\n",
        "            transforms.ToTensor(),  # Scales to [0, 1] by default\n",
        "            transforms.Lambda(lambda x: (x - 0.5) * 2)  # Rescale to [-1, 1]\n",
        "        ])\n",
        "\n",
        "    train_dataset = datasets.Flowers102(root='./data', split='train', download=True, transform=transform)\n",
        "    val_dataset = datasets.Flowers102(root='./data', split='val', download=True, transform=transform)\n",
        "    test_dataset = datasets.Flowers102(root='./data', split='test', download=True, transform=transform)\n",
        "\n",
        "    train_loader = DataLoader(train_dataset, batch_size=batch_size, shuffle=True)\n",
        "    val_loader = DataLoader(val_dataset, batch_size=batch_size, shuffle=False)\n",
        "    test_loader = DataLoader(test_dataset, batch_size=batch_size, shuffle=False)\n",
        "\n",
        "    model = SimpleCNN(num_classes=102).to(device)\n",
        "    criterion = nn.CrossEntropyLoss()\n",
        "    optimizer = optim.Adam(model.parameters(), lr=learning_rate)\n",
        "    scheduler = optim.lr_scheduler.StepLR(optimizer, step_size=5, gamma=0.1)\n",
        "\n",
        "    best_val_loss = float('inf')\n",
        "    epochs_without_improvement = 0\n",
        "\n",
        "    for epoch in range(num_epochs):\n",
        "        model.train()\n",
        "        running_loss = 0.0\n",
        "        correct = 0\n",
        "        total = 0\n",
        "        for inputs, labels in train_loader:\n",
        "            inputs, labels = inputs.to(device), labels.to(device)\n",
        "            optimizer.zero_grad()\n",
        "            outputs = model(inputs)\n",
        "            loss = criterion(outputs, labels)\n",
        "            loss.backward()\n",
        "            optimizer.step()\n",
        "            running_loss += loss.item()\n",
        "            _, predicted = torch.max(outputs, 1)\n",
        "            total += labels.size(0)\n",
        "            correct += (predicted == labels).sum().item()\n",
        "\n",
        "        train_loss = running_loss / len(train_loader)\n",
        "        train_accuracy = 100 * correct / total\n",
        "\n",
        "        model.eval()\n",
        "        val_loss = 0.0\n",
        "        correct = 0\n",
        "        total = 0\n",
        "        with torch.no_grad():\n",
        "            for inputs, labels in val_loader:\n",
        "                inputs, labels = inputs.to(device), labels.to(device)\n",
        "                outputs = model(inputs)\n",
        "                loss = criterion(outputs, labels)\n",
        "                val_loss += loss.item()\n",
        "                _, predicted = torch.max(outputs, 1)\n",
        "                total += labels.size(0)\n",
        "                correct += (predicted == labels).sum().item()\n",
        "\n",
        "        val_loss /= len(val_loader)\n",
        "        val_accuracy = 100 * correct / total\n",
        "\n",
        "        wandb.log({\n",
        "            'epoch': epoch + 1,\n",
        "            'train_loss': train_loss,\n",
        "            'train_accuracy': train_accuracy,\n",
        "            'val_loss': val_loss,\n",
        "            'val_accuracy': val_accuracy\n",
        "        })\n",
        "\n",
        "        print(f'{norm_type} | Epoch {epoch+1} | Train Loss: {train_loss:.4f} | Val Loss: {val_loss:.4f} | Val Acc: {val_accuracy:.2f}%')\n",
        "\n",
        "        if val_loss < best_val_loss:\n",
        "            best_val_loss = val_loss\n",
        "            epochs_without_improvement = 0\n",
        "        else:\n",
        "            epochs_without_improvement += 1\n",
        "\n",
        "        if epochs_without_improvement >= patience:\n",
        "            break\n",
        "\n",
        "        scheduler.step()\n",
        "\n",
        "    model.eval()\n",
        "    test_loss = 0.0\n",
        "    correct = 0\n",
        "    total = 0\n",
        "    with torch.no_grad():\n",
        "        for inputs, labels in test_loader:\n",
        "            inputs, labels = inputs.to(device), labels.to(device)\n",
        "            outputs = model(inputs)\n",
        "            loss = criterion(outputs, labels)\n",
        "            test_loss += loss.item()\n",
        "            _, predicted = torch.max(outputs, 1)\n",
        "            total += labels.size(0)\n",
        "            correct += (predicted == labels).sum().item()\n",
        "\n",
        "    test_loss /= len(test_loader)\n",
        "    test_accuracy = 100 * correct / total\n",
        "\n",
        "    wandb.log({\n",
        "        'test_loss': test_loss,\n",
        "        'test_accuracy': test_accuracy\n",
        "    })\n",
        "\n",
        "    print(f'{norm_type} | Test Loss: {test_loss:.4f} | Test Acc: {test_accuracy:.2f}%')\n",
        "\n",
        "    wandb.finish()\n"
      ],
      "metadata": {
        "id": "ZiA-rR2YRIu5",
        "colab": {
          "base_uri": "https://localhost:8080/",
          "height": 1000
        },
        "outputId": "8df4821e-76ca-4455-f449-075bbebf8707"
      },
      "execution_count": null,
      "outputs": [
        {
          "output_type": "display_data",
          "data": {
            "text/plain": [
              "<IPython.core.display.HTML object>"
            ],
            "text/html": []
          },
          "metadata": {}
        },
        {
          "output_type": "display_data",
          "data": {
            "text/plain": [
              "<IPython.core.display.HTML object>"
            ],
            "text/html": [
              " View run <strong style=\"color:#cdcd00\">norm-no_normalization</strong> at: <a href='https://wandb.ai/kicza/flowers102-cnn/runs/4bnrnama' target=\"_blank\">https://wandb.ai/kicza/flowers102-cnn/runs/4bnrnama</a><br> View project at: <a href='https://wandb.ai/kicza/flowers102-cnn' target=\"_blank\">https://wandb.ai/kicza/flowers102-cnn</a><br>Synced 5 W&B file(s), 0 media file(s), 0 artifact file(s) and 0 other file(s)"
            ]
          },
          "metadata": {}
        },
        {
          "output_type": "display_data",
          "data": {
            "text/plain": [
              "<IPython.core.display.HTML object>"
            ],
            "text/html": [
              "Find logs at: <code>./wandb/run-20250410_110414-4bnrnama/logs</code>"
            ]
          },
          "metadata": {}
        },
        {
          "output_type": "display_data",
          "data": {
            "text/plain": [
              "<IPython.core.display.HTML object>"
            ],
            "text/html": [
              "Tracking run with wandb version 0.19.9"
            ]
          },
          "metadata": {}
        },
        {
          "output_type": "display_data",
          "data": {
            "text/plain": [
              "<IPython.core.display.HTML object>"
            ],
            "text/html": [
              "Run data is saved locally in <code>/content/wandb/run-20250410_110436-bmikejcp</code>"
            ]
          },
          "metadata": {}
        },
        {
          "output_type": "display_data",
          "data": {
            "text/plain": [
              "<IPython.core.display.HTML object>"
            ],
            "text/html": [
              "Syncing run <strong><a href='https://wandb.ai/kicza/flowers102-cnn/runs/bmikejcp' target=\"_blank\">norm-no_normalization</a></strong> to <a href='https://wandb.ai/kicza/flowers102-cnn' target=\"_blank\">Weights & Biases</a> (<a href='https://wandb.me/developer-guide' target=\"_blank\">docs</a>)<br>"
            ]
          },
          "metadata": {}
        },
        {
          "output_type": "display_data",
          "data": {
            "text/plain": [
              "<IPython.core.display.HTML object>"
            ],
            "text/html": [
              " View project at <a href='https://wandb.ai/kicza/flowers102-cnn' target=\"_blank\">https://wandb.ai/kicza/flowers102-cnn</a>"
            ]
          },
          "metadata": {}
        },
        {
          "output_type": "display_data",
          "data": {
            "text/plain": [
              "<IPython.core.display.HTML object>"
            ],
            "text/html": [
              " View run at <a href='https://wandb.ai/kicza/flowers102-cnn/runs/bmikejcp' target=\"_blank\">https://wandb.ai/kicza/flowers102-cnn/runs/bmikejcp</a>"
            ]
          },
          "metadata": {}
        },
        {
          "output_type": "stream",
          "name": "stdout",
          "text": [
            "no_normalization | Epoch 1 | Train Loss: 4.6538 | Val Loss: 4.6118 | Val Acc: 2.25%\n",
            "no_normalization | Epoch 2 | Train Loss: 4.5879 | Val Loss: 4.5799 | Val Acc: 1.47%\n",
            "no_normalization | Epoch 3 | Train Loss: 4.5120 | Val Loss: 4.5230 | Val Acc: 3.14%\n",
            "no_normalization | Epoch 4 | Train Loss: 4.3877 | Val Loss: 4.4423 | Val Acc: 4.31%\n",
            "no_normalization | Epoch 5 | Train Loss: 4.2259 | Val Loss: 4.3675 | Val Acc: 3.82%\n",
            "no_normalization | Epoch 6 | Train Loss: 4.0681 | Val Loss: 4.3375 | Val Acc: 4.51%\n",
            "no_normalization | Epoch 7 | Train Loss: 4.0160 | Val Loss: 4.3264 | Val Acc: 5.20%\n",
            "no_normalization | Epoch 8 | Train Loss: 3.9862 | Val Loss: 4.3167 | Val Acc: 5.59%\n",
            "no_normalization | Epoch 9 | Train Loss: 3.9513 | Val Loss: 4.3036 | Val Acc: 5.69%\n",
            "no_normalization | Epoch 10 | Train Loss: 3.9201 | Val Loss: 4.2946 | Val Acc: 5.10%\n",
            "no_normalization | Epoch 11 | Train Loss: 3.8923 | Val Loss: 4.2936 | Val Acc: 5.29%\n",
            "no_normalization | Epoch 12 | Train Loss: 3.8894 | Val Loss: 4.2931 | Val Acc: 5.10%\n",
            "no_normalization | Epoch 13 | Train Loss: 3.8867 | Val Loss: 4.2924 | Val Acc: 5.20%\n",
            "no_normalization | Epoch 14 | Train Loss: 3.8855 | Val Loss: 4.2918 | Val Acc: 5.29%\n",
            "no_normalization | Epoch 15 | Train Loss: 3.8821 | Val Loss: 4.2911 | Val Acc: 5.10%\n",
            "no_normalization | Epoch 16 | Train Loss: 3.8799 | Val Loss: 4.2911 | Val Acc: 5.10%\n",
            "no_normalization | Epoch 17 | Train Loss: 3.8801 | Val Loss: 4.2910 | Val Acc: 5.10%\n",
            "no_normalization | Epoch 18 | Train Loss: 3.8788 | Val Loss: 4.2909 | Val Acc: 5.10%\n",
            "no_normalization | Epoch 19 | Train Loss: 3.8782 | Val Loss: 4.2909 | Val Acc: 5.10%\n",
            "no_normalization | Epoch 20 | Train Loss: 3.8787 | Val Loss: 4.2908 | Val Acc: 5.10%\n",
            "no_normalization | Test Loss: 4.3308 | Test Acc: 5.12%\n"
          ]
        },
        {
          "output_type": "display_data",
          "data": {
            "text/plain": [
              "<IPython.core.display.HTML object>"
            ],
            "text/html": []
          },
          "metadata": {}
        },
        {
          "output_type": "display_data",
          "data": {
            "text/plain": [
              "<IPython.core.display.HTML object>"
            ],
            "text/html": [
              "<br>    <style><br>        .wandb-row {<br>            display: flex;<br>            flex-direction: row;<br>            flex-wrap: wrap;<br>            justify-content: flex-start;<br>            width: 100%;<br>        }<br>        .wandb-col {<br>            display: flex;<br>            flex-direction: column;<br>            flex-basis: 100%;<br>            flex: 1;<br>            padding: 10px;<br>        }<br>    </style><br><div class=\"wandb-row\"><div class=\"wandb-col\"><h3>Run history:</h3><br/><table class=\"wandb\"><tr><td>epoch</td><td>▁▁▂▂▂▃▃▄▄▄▅▅▅▆▆▇▇▇██</td></tr><tr><td>test_accuracy</td><td>▁</td></tr><tr><td>test_loss</td><td>▁</td></tr><tr><td>train_accuracy</td><td>▁▂▂▃▅▅▆▆▇▇██████████</td></tr><tr><td>train_loss</td><td>█▇▇▆▄▃▂▂▂▁▁▁▁▁▁▁▁▁▁▁</td></tr><tr><td>val_accuracy</td><td>▂▁▄▆▅▆▇██▇▇▇▇▇▇▇▇▇▇▇</td></tr><tr><td>val_loss</td><td>█▇▆▄▃▂▂▂▁▁▁▁▁▁▁▁▁▁▁▁</td></tr></table><br/></div><div class=\"wandb-col\"><h3>Run summary:</h3><br/><table class=\"wandb\"><tr><td>epoch</td><td>20</td></tr><tr><td>test_accuracy</td><td>5.12278</td></tr><tr><td>test_loss</td><td>4.33081</td></tr><tr><td>train_accuracy</td><td>12.35294</td></tr><tr><td>train_loss</td><td>3.87868</td></tr><tr><td>val_accuracy</td><td>5.09804</td></tr><tr><td>val_loss</td><td>4.29081</td></tr></table><br/></div></div>"
            ]
          },
          "metadata": {}
        },
        {
          "output_type": "display_data",
          "data": {
            "text/plain": [
              "<IPython.core.display.HTML object>"
            ],
            "text/html": [
              " View run <strong style=\"color:#cdcd00\">norm-no_normalization</strong> at: <a href='https://wandb.ai/kicza/flowers102-cnn/runs/bmikejcp' target=\"_blank\">https://wandb.ai/kicza/flowers102-cnn/runs/bmikejcp</a><br> View project at: <a href='https://wandb.ai/kicza/flowers102-cnn' target=\"_blank\">https://wandb.ai/kicza/flowers102-cnn</a><br>Synced 5 W&B file(s), 0 media file(s), 0 artifact file(s) and 0 other file(s)"
            ]
          },
          "metadata": {}
        },
        {
          "output_type": "display_data",
          "data": {
            "text/plain": [
              "<IPython.core.display.HTML object>"
            ],
            "text/html": [
              "Find logs at: <code>./wandb/run-20250410_110436-bmikejcp/logs</code>"
            ]
          },
          "metadata": {}
        },
        {
          "output_type": "display_data",
          "data": {
            "text/plain": [
              "<IPython.core.display.HTML object>"
            ],
            "text/html": [
              "Tracking run with wandb version 0.19.9"
            ]
          },
          "metadata": {}
        },
        {
          "output_type": "display_data",
          "data": {
            "text/plain": [
              "<IPython.core.display.HTML object>"
            ],
            "text/html": [
              "Run data is saved locally in <code>/content/wandb/run-20250410_110904-hg8tembt</code>"
            ]
          },
          "metadata": {}
        },
        {
          "output_type": "display_data",
          "data": {
            "text/plain": [
              "<IPython.core.display.HTML object>"
            ],
            "text/html": [
              "Syncing run <strong><a href='https://wandb.ai/kicza/flowers102-cnn/runs/hg8tembt' target=\"_blank\">norm-custom</a></strong> to <a href='https://wandb.ai/kicza/flowers102-cnn' target=\"_blank\">Weights & Biases</a> (<a href='https://wandb.me/developer-guide' target=\"_blank\">docs</a>)<br>"
            ]
          },
          "metadata": {}
        },
        {
          "output_type": "display_data",
          "data": {
            "text/plain": [
              "<IPython.core.display.HTML object>"
            ],
            "text/html": [
              " View project at <a href='https://wandb.ai/kicza/flowers102-cnn' target=\"_blank\">https://wandb.ai/kicza/flowers102-cnn</a>"
            ]
          },
          "metadata": {}
        },
        {
          "output_type": "display_data",
          "data": {
            "text/plain": [
              "<IPython.core.display.HTML object>"
            ],
            "text/html": [
              " View run at <a href='https://wandb.ai/kicza/flowers102-cnn/runs/hg8tembt' target=\"_blank\">https://wandb.ai/kicza/flowers102-cnn/runs/hg8tembt</a>"
            ]
          },
          "metadata": {}
        },
        {
          "output_type": "stream",
          "name": "stdout",
          "text": [
            "custom | Epoch 1 | Train Loss: 4.6546 | Val Loss: 4.5650 | Val Acc: 2.25%\n",
            "custom | Epoch 2 | Train Loss: 4.4473 | Val Loss: 4.4948 | Val Acc: 3.14%\n",
            "custom | Epoch 3 | Train Loss: 4.2154 | Val Loss: 4.4074 | Val Acc: 5.78%\n",
            "custom | Epoch 4 | Train Loss: 3.8789 | Val Loss: 4.3011 | Val Acc: 6.67%\n",
            "custom | Epoch 5 | Train Loss: 3.4105 | Val Loss: 4.2364 | Val Acc: 7.65%\n",
            "custom | Epoch 6 | Train Loss: 2.9176 | Val Loss: 4.1554 | Val Acc: 9.61%\n",
            "custom | Epoch 7 | Train Loss: 2.8004 | Val Loss: 4.1506 | Val Acc: 10.10%\n",
            "custom | Epoch 8 | Train Loss: 2.7310 | Val Loss: 4.1409 | Val Acc: 10.10%\n",
            "custom | Epoch 9 | Train Loss: 2.6671 | Val Loss: 4.1400 | Val Acc: 10.00%\n",
            "custom | Epoch 10 | Train Loss: 2.6056 | Val Loss: 4.1416 | Val Acc: 10.20%\n",
            "custom | Epoch 11 | Train Loss: 2.5504 | Val Loss: 4.1399 | Val Acc: 10.20%\n",
            "custom | Epoch 12 | Train Loss: 2.5424 | Val Loss: 4.1383 | Val Acc: 10.29%\n",
            "custom | Epoch 13 | Train Loss: 2.5368 | Val Loss: 4.1373 | Val Acc: 10.20%\n",
            "custom | Epoch 14 | Train Loss: 2.5309 | Val Loss: 4.1369 | Val Acc: 10.29%\n",
            "custom | Epoch 15 | Train Loss: 2.5232 | Val Loss: 4.1363 | Val Acc: 10.29%\n",
            "custom | Epoch 16 | Train Loss: 2.5180 | Val Loss: 4.1363 | Val Acc: 10.29%\n",
            "custom | Epoch 17 | Train Loss: 2.5167 | Val Loss: 4.1362 | Val Acc: 10.29%\n",
            "custom | Epoch 18 | Train Loss: 2.5180 | Val Loss: 4.1362 | Val Acc: 10.29%\n",
            "custom | Epoch 19 | Train Loss: 2.5160 | Val Loss: 4.1361 | Val Acc: 10.29%\n",
            "custom | Epoch 20 | Train Loss: 2.5171 | Val Loss: 4.1361 | Val Acc: 10.29%\n",
            "custom | Test Loss: 4.3293 | Test Acc: 7.55%\n"
          ]
        },
        {
          "output_type": "display_data",
          "data": {
            "text/plain": [
              "<IPython.core.display.HTML object>"
            ],
            "text/html": []
          },
          "metadata": {}
        },
        {
          "output_type": "display_data",
          "data": {
            "text/plain": [
              "<IPython.core.display.HTML object>"
            ],
            "text/html": [
              "<br>    <style><br>        .wandb-row {<br>            display: flex;<br>            flex-direction: row;<br>            flex-wrap: wrap;<br>            justify-content: flex-start;<br>            width: 100%;<br>        }<br>        .wandb-col {<br>            display: flex;<br>            flex-direction: column;<br>            flex-basis: 100%;<br>            flex: 1;<br>            padding: 10px;<br>        }<br>    </style><br><div class=\"wandb-row\"><div class=\"wandb-col\"><h3>Run history:</h3><br/><table class=\"wandb\"><tr><td>epoch</td><td>▁▁▂▂▂▃▃▄▄▄▅▅▅▆▆▇▇▇██</td></tr><tr><td>test_accuracy</td><td>▁</td></tr><tr><td>test_loss</td><td>▁</td></tr><tr><td>train_accuracy</td><td>▁▂▂▃▄▆▇▇▇███████████</td></tr><tr><td>train_loss</td><td>█▇▇▅▄▂▂▂▁▁▁▁▁▁▁▁▁▁▁▁</td></tr><tr><td>val_accuracy</td><td>▁▂▄▅▆▇██████████████</td></tr><tr><td>val_loss</td><td>█▇▅▄▃▁▁▁▁▁▁▁▁▁▁▁▁▁▁▁</td></tr></table><br/></div><div class=\"wandb-col\"><h3>Run summary:</h3><br/><table class=\"wandb\"><tr><td>epoch</td><td>20</td></tr><tr><td>test_accuracy</td><td>7.54594</td></tr><tr><td>test_loss</td><td>4.32931</td></tr><tr><td>train_accuracy</td><td>53.03922</td></tr><tr><td>train_loss</td><td>2.51707</td></tr><tr><td>val_accuracy</td><td>10.29412</td></tr><tr><td>val_loss</td><td>4.1361</td></tr></table><br/></div></div>"
            ]
          },
          "metadata": {}
        },
        {
          "output_type": "display_data",
          "data": {
            "text/plain": [
              "<IPython.core.display.HTML object>"
            ],
            "text/html": [
              " View run <strong style=\"color:#cdcd00\">norm-custom</strong> at: <a href='https://wandb.ai/kicza/flowers102-cnn/runs/hg8tembt' target=\"_blank\">https://wandb.ai/kicza/flowers102-cnn/runs/hg8tembt</a><br> View project at: <a href='https://wandb.ai/kicza/flowers102-cnn' target=\"_blank\">https://wandb.ai/kicza/flowers102-cnn</a><br>Synced 5 W&B file(s), 0 media file(s), 0 artifact file(s) and 0 other file(s)"
            ]
          },
          "metadata": {}
        },
        {
          "output_type": "display_data",
          "data": {
            "text/plain": [
              "<IPython.core.display.HTML object>"
            ],
            "text/html": [
              "Find logs at: <code>./wandb/run-20250410_110904-hg8tembt/logs</code>"
            ]
          },
          "metadata": {}
        },
        {
          "output_type": "display_data",
          "data": {
            "text/plain": [
              "<IPython.core.display.HTML object>"
            ],
            "text/html": [
              "Tracking run with wandb version 0.19.9"
            ]
          },
          "metadata": {}
        },
        {
          "output_type": "display_data",
          "data": {
            "text/plain": [
              "<IPython.core.display.HTML object>"
            ],
            "text/html": [
              "Run data is saved locally in <code>/content/wandb/run-20250410_111357-n1g9i98u</code>"
            ]
          },
          "metadata": {}
        },
        {
          "output_type": "display_data",
          "data": {
            "text/plain": [
              "<IPython.core.display.HTML object>"
            ],
            "text/html": [
              "Syncing run <strong><a href='https://wandb.ai/kicza/flowers102-cnn/runs/n1g9i98u' target=\"_blank\">norm-minmax</a></strong> to <a href='https://wandb.ai/kicza/flowers102-cnn' target=\"_blank\">Weights & Biases</a> (<a href='https://wandb.me/developer-guide' target=\"_blank\">docs</a>)<br>"
            ]
          },
          "metadata": {}
        },
        {
          "output_type": "display_data",
          "data": {
            "text/plain": [
              "<IPython.core.display.HTML object>"
            ],
            "text/html": [
              " View project at <a href='https://wandb.ai/kicza/flowers102-cnn' target=\"_blank\">https://wandb.ai/kicza/flowers102-cnn</a>"
            ]
          },
          "metadata": {}
        },
        {
          "output_type": "display_data",
          "data": {
            "text/plain": [
              "<IPython.core.display.HTML object>"
            ],
            "text/html": [
              " View run at <a href='https://wandb.ai/kicza/flowers102-cnn/runs/n1g9i98u' target=\"_blank\">https://wandb.ai/kicza/flowers102-cnn/runs/n1g9i98u</a>"
            ]
          },
          "metadata": {}
        },
        {
          "output_type": "stream",
          "name": "stdout",
          "text": [
            "minmax | Epoch 1 | Train Loss: 4.6429 | Val Loss: 4.5765 | Val Acc: 2.84%\n",
            "minmax | Epoch 2 | Train Loss: 4.4968 | Val Loss: 4.4923 | Val Acc: 3.43%\n",
            "minmax | Epoch 3 | Train Loss: 4.3121 | Val Loss: 4.3923 | Val Acc: 5.00%\n",
            "minmax | Epoch 4 | Train Loss: 4.0132 | Val Loss: 4.2801 | Val Acc: 7.45%\n",
            "minmax | Epoch 5 | Train Loss: 3.6219 | Val Loss: 4.1457 | Val Acc: 8.82%\n",
            "minmax | Epoch 6 | Train Loss: 3.1867 | Val Loss: 4.1026 | Val Acc: 9.71%\n",
            "minmax | Epoch 7 | Train Loss: 3.0923 | Val Loss: 4.0844 | Val Acc: 10.59%\n",
            "minmax | Epoch 8 | Train Loss: 3.0333 | Val Loss: 4.0748 | Val Acc: 10.49%\n",
            "minmax | Epoch 9 | Train Loss: 2.9716 | Val Loss: 4.0632 | Val Acc: 10.78%\n",
            "minmax | Epoch 10 | Train Loss: 2.9144 | Val Loss: 4.0574 | Val Acc: 11.18%\n",
            "minmax | Epoch 11 | Train Loss: 2.8692 | Val Loss: 4.0559 | Val Acc: 11.27%\n",
            "minmax | Epoch 12 | Train Loss: 2.8622 | Val Loss: 4.0541 | Val Acc: 11.18%\n",
            "minmax | Epoch 13 | Train Loss: 2.8557 | Val Loss: 4.0531 | Val Acc: 11.08%\n",
            "minmax | Epoch 14 | Train Loss: 2.8500 | Val Loss: 4.0518 | Val Acc: 11.08%\n",
            "minmax | Epoch 15 | Train Loss: 2.8458 | Val Loss: 4.0509 | Val Acc: 11.18%\n",
            "minmax | Epoch 16 | Train Loss: 2.8416 | Val Loss: 4.0508 | Val Acc: 11.08%\n",
            "minmax | Epoch 17 | Train Loss: 2.8427 | Val Loss: 4.0507 | Val Acc: 11.08%\n",
            "minmax | Epoch 18 | Train Loss: 2.8397 | Val Loss: 4.0506 | Val Acc: 11.08%\n",
            "minmax | Epoch 19 | Train Loss: 2.8401 | Val Loss: 4.0505 | Val Acc: 10.98%\n",
            "minmax | Epoch 20 | Train Loss: 2.8413 | Val Loss: 4.0504 | Val Acc: 10.98%\n",
            "minmax | Test Loss: 4.2144 | Test Acc: 8.47%\n"
          ]
        },
        {
          "output_type": "display_data",
          "data": {
            "text/plain": [
              "<IPython.core.display.HTML object>"
            ],
            "text/html": []
          },
          "metadata": {}
        },
        {
          "output_type": "display_data",
          "data": {
            "text/plain": [
              "<IPython.core.display.HTML object>"
            ],
            "text/html": [
              "<br>    <style><br>        .wandb-row {<br>            display: flex;<br>            flex-direction: row;<br>            flex-wrap: wrap;<br>            justify-content: flex-start;<br>            width: 100%;<br>        }<br>        .wandb-col {<br>            display: flex;<br>            flex-direction: column;<br>            flex-basis: 100%;<br>            flex: 1;<br>            padding: 10px;<br>        }<br>    </style><br><div class=\"wandb-row\"><div class=\"wandb-col\"><h3>Run history:</h3><br/><table class=\"wandb\"><tr><td>epoch</td><td>▁▁▂▂▂▃▃▄▄▄▅▅▅▆▆▇▇▇██</td></tr><tr><td>test_accuracy</td><td>▁</td></tr><tr><td>test_loss</td><td>▁</td></tr><tr><td>train_accuracy</td><td>▁▁▂▃▄▆▇▇▇███████████</td></tr><tr><td>train_loss</td><td>█▇▇▆▄▂▂▂▂▁▁▁▁▁▁▁▁▁▁▁</td></tr><tr><td>val_accuracy</td><td>▁▁▃▅▆▇▇▇████████████</td></tr><tr><td>val_loss</td><td>█▇▆▄▂▂▁▁▁▁▁▁▁▁▁▁▁▁▁▁</td></tr></table><br/></div><div class=\"wandb-col\"><h3>Run summary:</h3><br/><table class=\"wandb\"><tr><td>epoch</td><td>20</td></tr><tr><td>test_accuracy</td><td>8.47292</td></tr><tr><td>test_loss</td><td>4.21441</td></tr><tr><td>train_accuracy</td><td>46.37255</td></tr><tr><td>train_loss</td><td>2.84128</td></tr><tr><td>val_accuracy</td><td>10.98039</td></tr><tr><td>val_loss</td><td>4.05039</td></tr></table><br/></div></div>"
            ]
          },
          "metadata": {}
        },
        {
          "output_type": "display_data",
          "data": {
            "text/plain": [
              "<IPython.core.display.HTML object>"
            ],
            "text/html": [
              " View run <strong style=\"color:#cdcd00\">norm-minmax</strong> at: <a href='https://wandb.ai/kicza/flowers102-cnn/runs/n1g9i98u' target=\"_blank\">https://wandb.ai/kicza/flowers102-cnn/runs/n1g9i98u</a><br> View project at: <a href='https://wandb.ai/kicza/flowers102-cnn' target=\"_blank\">https://wandb.ai/kicza/flowers102-cnn</a><br>Synced 5 W&B file(s), 0 media file(s), 0 artifact file(s) and 0 other file(s)"
            ]
          },
          "metadata": {}
        },
        {
          "output_type": "display_data",
          "data": {
            "text/plain": [
              "<IPython.core.display.HTML object>"
            ],
            "text/html": [
              "Find logs at: <code>./wandb/run-20250410_111357-n1g9i98u/logs</code>"
            ]
          },
          "metadata": {}
        }
      ]
    },
    {
      "cell_type": "markdown",
      "source": [
        "#ZAD. 5"
      ],
      "metadata": {
        "id": "tvVIIAkeP1W8"
      }
    },
    {
      "cell_type": "code",
      "source": [
        "!pip install wandb --upgrade\n",
        "\n",
        "import wandb\n",
        "wandb.login()\n",
        "\n",
        "import torch\n",
        "import torch.nn as nn\n",
        "import torch.optim as optim\n",
        "from torchvision import datasets, transforms\n",
        "from torch.utils.data import DataLoader\n",
        "\n",
        "transform = transforms.Compose([\n",
        "    transforms.Resize((224, 224)),\n",
        "    transforms.ToTensor(),\n",
        "    transforms.Normalize((0.5, 0.5, 0.5), (0.5, 0.5, 0.5))\n",
        "])\n",
        "\n",
        "train_dataset = datasets.Flowers102(root='./data', split='train', download=True, transform=transform)\n",
        "val_dataset = datasets.Flowers102(root='./data', split='val', download=True, transform=transform)\n",
        "test_dataset = datasets.Flowers102(root='./data', split='test', download=True, transform=transform)\n",
        "\n",
        "device = torch.device('cuda' if torch.cuda.is_available() else 'cpu')\n",
        "\n",
        "class SimpleCNN(nn.Module):\n",
        "    def __init__(self, num_classes=102):\n",
        "        super(SimpleCNN, self).__init__()\n",
        "        self.conv1 = nn.Conv2d(3, 16, 3, padding=1)\n",
        "        self.conv2 = nn.Conv2d(16, 32, 3, padding=1)\n",
        "        self.pool = nn.MaxPool2d(2, 2)\n",
        "        self.fc1 = nn.Linear(32 * 56 * 56, 128)\n",
        "        self.fc2 = nn.Linear(128, num_classes)\n",
        "        self.relu = nn.ReLU()\n",
        "\n",
        "    def forward(self, x):\n",
        "        x = self.relu(self.conv1(x))\n",
        "        x = self.pool(x)\n",
        "        x = self.relu(self.conv2(x))\n",
        "        x = self.pool(x)\n",
        "        x = x.view(-1, 32 * 56 * 56)\n",
        "        x = self.relu(self.fc1(x))\n",
        "        x = self.fc2(x)\n",
        "        return x\n",
        "\n",
        "\n",
        "sweep_config = {\n",
        "    'method': 'bayes',\n",
        "    'metric': {\n",
        "        'name': 'val_accuracy',\n",
        "        'goal': 'maximize'\n",
        "    },\n",
        "    'parameters': {\n",
        "        'learning_rate': {'min': 1e-5, 'max': 1e-3},\n",
        "        'batch_size': {'values': [32, 64]},\n",
        "        'optimizer': {'values': ['Adam', 'SGD']},\n",
        "        'num_epochs': {'value': 20}\n",
        "    }\n",
        "}\n",
        "\n",
        "\n",
        "def train():\n",
        "    wandb.init(project=\"flowers102-cnn\")\n",
        "    config = wandb.config\n",
        "\n",
        "    train_loader = DataLoader(train_dataset, batch_size=config.batch_size, shuffle=True)\n",
        "    val_loader = DataLoader(val_dataset, batch_size=config.batch_size, shuffle=False)\n",
        "    test_loader = DataLoader(test_dataset, batch_size=config.batch_size, shuffle=False)\n",
        "\n",
        "    model = SimpleCNN().to(device)\n",
        "    criterion = nn.CrossEntropyLoss()\n",
        "    optimizer = getattr(optim, config.optimizer)(model.parameters(), lr=config.learning_rate)\n",
        "    scheduler = optim.lr_scheduler.StepLR(optimizer, step_size=5, gamma=0.1)\n",
        "\n",
        "    best_val_loss = float('inf')\n",
        "    patience = 5\n",
        "    epochs_no_improve = 0\n",
        "\n",
        "    for epoch in range(config.num_epochs):\n",
        "        model.train()\n",
        "        running_loss = 0.0\n",
        "        correct = 0\n",
        "        total = 0\n",
        "\n",
        "        for inputs, labels in train_loader:\n",
        "            inputs, labels = inputs.to(device), labels.to(device)\n",
        "            optimizer.zero_grad()\n",
        "            outputs = model(inputs)\n",
        "            loss = criterion(outputs, labels)\n",
        "            loss.backward()\n",
        "            optimizer.step()\n",
        "\n",
        "            running_loss += loss.item()\n",
        "            _, predicted = torch.max(outputs, 1)\n",
        "            total += labels.size(0)\n",
        "            correct += (predicted == labels).sum().item()\n",
        "\n",
        "        train_loss = running_loss / len(train_loader)\n",
        "        train_accuracy = 100 * correct / total\n",
        "\n",
        "        model.eval()\n",
        "        val_loss = 0.0\n",
        "        correct = 0\n",
        "        total = 0\n",
        "\n",
        "        with torch.no_grad():\n",
        "            for inputs, labels in val_loader:\n",
        "                inputs, labels = inputs.to(device), labels.to(device)\n",
        "                outputs = model(inputs)\n",
        "                loss = criterion(outputs, labels)\n",
        "                val_loss += loss.item()\n",
        "                _, predicted = torch.max(outputs, 1)\n",
        "                total += labels.size(0)\n",
        "                correct += (predicted == labels).sum().item()\n",
        "\n",
        "        val_loss = val_loss / len(val_loader)\n",
        "        val_accuracy = 100 * correct / total\n",
        "\n",
        "        wandb.log({\n",
        "            'epoch': epoch + 1,\n",
        "            'train_loss': train_loss,\n",
        "            'train_accuracy': train_accuracy,\n",
        "            'val_loss': val_loss,\n",
        "            'val_accuracy': val_accuracy\n",
        "        })\n",
        "\n",
        "        if val_loss < best_val_loss:\n",
        "            best_val_loss = val_loss\n",
        "            epochs_no_improve = 0\n",
        "        else:\n",
        "            epochs_no_improve += 1\n",
        "\n",
        "        if epochs_no_improve >= patience:\n",
        "            print(f\"Early stopping at epoch {epoch+1}\")\n",
        "            break\n",
        "\n",
        "        scheduler.step()\n",
        "\n",
        "\n",
        "    model.eval()\n",
        "    test_loss = 0.0\n",
        "    correct = 0\n",
        "    total = 0\n",
        "\n",
        "    with torch.no_grad():\n",
        "        for inputs, labels in test_loader:\n",
        "            inputs, labels = inputs.to(device), labels.to(device)\n",
        "            outputs = model(inputs)\n",
        "            loss = criterion(outputs, labels)\n",
        "            test_loss += loss.item()\n",
        "            _, predicted = torch.max(outputs, 1)\n",
        "            total += labels.size(0)\n",
        "            correct += (predicted == labels).sum().item()\n",
        "\n",
        "    test_loss = test_loss / len(test_loader)\n",
        "    test_accuracy = 100 * correct / total\n",
        "\n",
        "    wandb.log({'test_loss': test_loss, 'test_accuracy': test_accuracy})\n",
        "    wandb.finish()\n",
        "\n",
        "\n",
        "sweep_id = wandb.sweep(sweep_config, project=\"flowers102-cnn\")\n",
        "wandb.agent(sweep_id, function=train)\n"
      ],
      "metadata": {
        "colab": {
          "base_uri": "https://localhost:8080/",
          "height": 1000
        },
        "id": "VgzRwGe9VJPD",
        "outputId": "fce3c1b1-90a4-4dd7-94c7-4d14197546cf"
      },
      "execution_count": null,
      "outputs": [
        {
          "output_type": "stream",
          "name": "stdout",
          "text": [
            "Requirement already satisfied: wandb in /usr/local/lib/python3.11/dist-packages (0.19.9)\n",
            "Requirement already satisfied: click!=8.0.0,>=7.1 in /usr/local/lib/python3.11/dist-packages (from wandb) (8.1.8)\n",
            "Requirement already satisfied: docker-pycreds>=0.4.0 in /usr/local/lib/python3.11/dist-packages (from wandb) (0.4.0)\n",
            "Requirement already satisfied: gitpython!=3.1.29,>=1.0.0 in /usr/local/lib/python3.11/dist-packages (from wandb) (3.1.44)\n",
            "Requirement already satisfied: platformdirs in /usr/local/lib/python3.11/dist-packages (from wandb) (4.3.7)\n",
            "Requirement already satisfied: protobuf!=4.21.0,!=5.28.0,<6,>=3.19.0 in /usr/local/lib/python3.11/dist-packages (from wandb) (5.29.4)\n",
            "Requirement already satisfied: psutil>=5.0.0 in /usr/local/lib/python3.11/dist-packages (from wandb) (5.9.5)\n",
            "Requirement already satisfied: pydantic<3 in /usr/local/lib/python3.11/dist-packages (from wandb) (2.11.2)\n",
            "Requirement already satisfied: pyyaml in /usr/local/lib/python3.11/dist-packages (from wandb) (6.0.2)\n",
            "Requirement already satisfied: requests<3,>=2.0.0 in /usr/local/lib/python3.11/dist-packages (from wandb) (2.32.3)\n",
            "Requirement already satisfied: sentry-sdk>=2.0.0 in /usr/local/lib/python3.11/dist-packages (from wandb) (2.25.1)\n",
            "Requirement already satisfied: setproctitle in /usr/local/lib/python3.11/dist-packages (from wandb) (1.3.5)\n",
            "Requirement already satisfied: setuptools in /usr/local/lib/python3.11/dist-packages (from wandb) (75.2.0)\n",
            "Requirement already satisfied: typing-extensions<5,>=4.4 in /usr/local/lib/python3.11/dist-packages (from wandb) (4.13.1)\n",
            "Requirement already satisfied: six>=1.4.0 in /usr/local/lib/python3.11/dist-packages (from docker-pycreds>=0.4.0->wandb) (1.17.0)\n",
            "Requirement already satisfied: gitdb<5,>=4.0.1 in /usr/local/lib/python3.11/dist-packages (from gitpython!=3.1.29,>=1.0.0->wandb) (4.0.12)\n",
            "Requirement already satisfied: annotated-types>=0.6.0 in /usr/local/lib/python3.11/dist-packages (from pydantic<3->wandb) (0.7.0)\n",
            "Requirement already satisfied: pydantic-core==2.33.1 in /usr/local/lib/python3.11/dist-packages (from pydantic<3->wandb) (2.33.1)\n",
            "Requirement already satisfied: typing-inspection>=0.4.0 in /usr/local/lib/python3.11/dist-packages (from pydantic<3->wandb) (0.4.0)\n",
            "Requirement already satisfied: charset-normalizer<4,>=2 in /usr/local/lib/python3.11/dist-packages (from requests<3,>=2.0.0->wandb) (3.4.1)\n",
            "Requirement already satisfied: idna<4,>=2.5 in /usr/local/lib/python3.11/dist-packages (from requests<3,>=2.0.0->wandb) (3.10)\n",
            "Requirement already satisfied: urllib3<3,>=1.21.1 in /usr/local/lib/python3.11/dist-packages (from requests<3,>=2.0.0->wandb) (2.3.0)\n",
            "Requirement already satisfied: certifi>=2017.4.17 in /usr/local/lib/python3.11/dist-packages (from requests<3,>=2.0.0->wandb) (2025.1.31)\n",
            "Requirement already satisfied: smmap<6,>=3.0.1 in /usr/local/lib/python3.11/dist-packages (from gitdb<5,>=4.0.1->gitpython!=3.1.29,>=1.0.0->wandb) (5.0.2)\n"
          ]
        },
        {
          "output_type": "stream",
          "name": "stderr",
          "text": [
            "\u001b[34m\u001b[1mwandb\u001b[0m: Using wandb-core as the SDK backend.  Please refer to https://wandb.me/wandb-core for more information.\n"
          ]
        },
        {
          "output_type": "display_data",
          "data": {
            "text/plain": [
              "<IPython.core.display.Javascript object>"
            ],
            "application/javascript": [
              "\n",
              "        window._wandbApiKey = new Promise((resolve, reject) => {\n",
              "            function loadScript(url) {\n",
              "            return new Promise(function(resolve, reject) {\n",
              "                let newScript = document.createElement(\"script\");\n",
              "                newScript.onerror = reject;\n",
              "                newScript.onload = resolve;\n",
              "                document.body.appendChild(newScript);\n",
              "                newScript.src = url;\n",
              "            });\n",
              "            }\n",
              "            loadScript(\"https://cdn.jsdelivr.net/npm/postmate/build/postmate.min.js\").then(() => {\n",
              "            const iframe = document.createElement('iframe')\n",
              "            iframe.style.cssText = \"width:0;height:0;border:none\"\n",
              "            document.body.appendChild(iframe)\n",
              "            const handshake = new Postmate({\n",
              "                container: iframe,\n",
              "                url: 'https://wandb.ai/authorize'\n",
              "            });\n",
              "            const timeout = setTimeout(() => reject(\"Couldn't auto authenticate\"), 5000)\n",
              "            handshake.then(function(child) {\n",
              "                child.on('authorize', data => {\n",
              "                    clearTimeout(timeout)\n",
              "                    resolve(data)\n",
              "                });\n",
              "            });\n",
              "            })\n",
              "        });\n",
              "    "
            ]
          },
          "metadata": {}
        },
        {
          "output_type": "stream",
          "name": "stderr",
          "text": [
            "\u001b[34m\u001b[1mwandb\u001b[0m: Logging into wandb.ai. (Learn how to deploy a W&B server locally: https://wandb.me/wandb-server)\n",
            "\u001b[34m\u001b[1mwandb\u001b[0m: You can find your API key in your browser here: https://wandb.ai/authorize\n",
            "wandb: Paste an API key from your profile and hit enter:"
          ]
        },
        {
          "name": "stdout",
          "output_type": "stream",
          "text": [
            " ··········\n"
          ]
        },
        {
          "output_type": "stream",
          "name": "stderr",
          "text": [
            "\u001b[34m\u001b[1mwandb\u001b[0m: \u001b[33mWARNING\u001b[0m If you're specifying your api key in code, ensure this code is not shared publicly.\n",
            "\u001b[34m\u001b[1mwandb\u001b[0m: \u001b[33mWARNING\u001b[0m Consider setting the WANDB_API_KEY environment variable, or running `wandb login` from the command line.\n",
            "\u001b[34m\u001b[1mwandb\u001b[0m: No netrc file found, creating one.\n",
            "\u001b[34m\u001b[1mwandb\u001b[0m: Appending key for api.wandb.ai to your netrc file: /root/.netrc\n",
            "\u001b[34m\u001b[1mwandb\u001b[0m: Currently logged in as: \u001b[33mkicza\u001b[0m to \u001b[32mhttps://api.wandb.ai\u001b[0m. Use \u001b[1m`wandb login --relogin`\u001b[0m to force relogin\n",
            "100%|██████████| 345M/345M [00:21<00:00, 15.9MB/s]\n",
            "100%|██████████| 502/502 [00:00<00:00, 1.05MB/s]\n",
            "100%|██████████| 15.0k/15.0k [00:00<00:00, 25.6MB/s]\n"
          ]
        },
        {
          "output_type": "stream",
          "name": "stdout",
          "text": [
            "Create sweep with ID: vr3xpu9o\n",
            "Sweep URL: https://wandb.ai/kicza/flowers102-cnn/sweeps/vr3xpu9o\n"
          ]
        },
        {
          "output_type": "stream",
          "name": "stderr",
          "text": [
            "\u001b[34m\u001b[1mwandb\u001b[0m: Agent Starting Run: vywkah78 with config:\n",
            "\u001b[34m\u001b[1mwandb\u001b[0m: \tbatch_size: 32\n",
            "\u001b[34m\u001b[1mwandb\u001b[0m: \tlearning_rate: 0.0002771140595913371\n",
            "\u001b[34m\u001b[1mwandb\u001b[0m: \tnum_epochs: 20\n",
            "\u001b[34m\u001b[1mwandb\u001b[0m: \toptimizer: SGD\n"
          ]
        },
        {
          "output_type": "display_data",
          "data": {
            "text/plain": [
              "<IPython.core.display.HTML object>"
            ],
            "text/html": [
              "Ignoring project 'flowers102-cnn' when running a sweep."
            ]
          },
          "metadata": {}
        },
        {
          "output_type": "display_data",
          "data": {
            "text/plain": [
              "<IPython.core.display.HTML object>"
            ],
            "text/html": [
              "Tracking run with wandb version 0.19.9"
            ]
          },
          "metadata": {}
        },
        {
          "output_type": "display_data",
          "data": {
            "text/plain": [
              "<IPython.core.display.HTML object>"
            ],
            "text/html": [
              "Run data is saved locally in <code>/content/wandb/run-20250409_210609-vywkah78</code>"
            ]
          },
          "metadata": {}
        },
        {
          "output_type": "display_data",
          "data": {
            "text/plain": [
              "<IPython.core.display.HTML object>"
            ],
            "text/html": [
              "Syncing run <strong><a href='https://wandb.ai/kicza/flowers102-cnn/runs/vywkah78' target=\"_blank\">super-sweep-1</a></strong> to <a href='https://wandb.ai/kicza/flowers102-cnn' target=\"_blank\">Weights & Biases</a> (<a href='https://wandb.me/developer-guide' target=\"_blank\">docs</a>)<br>Sweep page: <a href='https://wandb.ai/kicza/flowers102-cnn/sweeps/vr3xpu9o' target=\"_blank\">https://wandb.ai/kicza/flowers102-cnn/sweeps/vr3xpu9o</a>"
            ]
          },
          "metadata": {}
        },
        {
          "output_type": "display_data",
          "data": {
            "text/plain": [
              "<IPython.core.display.HTML object>"
            ],
            "text/html": [
              " View project at <a href='https://wandb.ai/kicza/flowers102-cnn' target=\"_blank\">https://wandb.ai/kicza/flowers102-cnn</a>"
            ]
          },
          "metadata": {}
        },
        {
          "output_type": "display_data",
          "data": {
            "text/plain": [
              "<IPython.core.display.HTML object>"
            ],
            "text/html": [
              " View sweep at <a href='https://wandb.ai/kicza/flowers102-cnn/sweeps/vr3xpu9o' target=\"_blank\">https://wandb.ai/kicza/flowers102-cnn/sweeps/vr3xpu9o</a>"
            ]
          },
          "metadata": {}
        },
        {
          "output_type": "display_data",
          "data": {
            "text/plain": [
              "<IPython.core.display.HTML object>"
            ],
            "text/html": [
              " View run at <a href='https://wandb.ai/kicza/flowers102-cnn/runs/vywkah78' target=\"_blank\">https://wandb.ai/kicza/flowers102-cnn/runs/vywkah78</a>"
            ]
          },
          "metadata": {}
        },
        {
          "output_type": "display_data",
          "data": {
            "text/plain": [
              "<IPython.core.display.HTML object>"
            ],
            "text/html": []
          },
          "metadata": {}
        },
        {
          "output_type": "display_data",
          "data": {
            "text/plain": [
              "<IPython.core.display.HTML object>"
            ],
            "text/html": [
              "<br>    <style><br>        .wandb-row {<br>            display: flex;<br>            flex-direction: row;<br>            flex-wrap: wrap;<br>            justify-content: flex-start;<br>            width: 100%;<br>        }<br>        .wandb-col {<br>            display: flex;<br>            flex-direction: column;<br>            flex-basis: 100%;<br>            flex: 1;<br>            padding: 10px;<br>        }<br>    </style><br><div class=\"wandb-row\"><div class=\"wandb-col\"><h3>Run history:</h3><br/><table class=\"wandb\"><tr><td>epoch</td><td>▁▁▂▂▂▃▃▄▄▄▅▅▅▆▆▇▇▇██</td></tr><tr><td>test_accuracy</td><td>▁</td></tr><tr><td>test_loss</td><td>▁</td></tr><tr><td>train_accuracy</td><td>▆▇▆▁▆▆▆▆▇▇▇█████████</td></tr><tr><td>train_loss</td><td>█▇▅▄▃▂▂▁▁▁▁▁▁▁▁▁▁▁▁▁</td></tr><tr><td>val_accuracy</td><td>▃▃▁▃▅▅▆█████████████</td></tr><tr><td>val_loss</td><td>█▆▅▃▂▂▁▁▁▁▁▁▁▁▁▁▁▁▁▁</td></tr></table><br/></div><div class=\"wandb-col\"><h3>Run summary:</h3><br/><table class=\"wandb\"><tr><td>epoch</td><td>20</td></tr><tr><td>test_accuracy</td><td>1.05708</td></tr><tr><td>test_loss</td><td>4.62143</td></tr><tr><td>train_accuracy</td><td>1.37255</td></tr><tr><td>train_loss</td><td>4.61658</td></tr><tr><td>val_accuracy</td><td>1.07843</td></tr><tr><td>val_loss</td><td>4.61931</td></tr></table><br/></div></div>"
            ]
          },
          "metadata": {}
        },
        {
          "output_type": "display_data",
          "data": {
            "text/plain": [
              "<IPython.core.display.HTML object>"
            ],
            "text/html": [
              " View run <strong style=\"color:#cdcd00\">super-sweep-1</strong> at: <a href='https://wandb.ai/kicza/flowers102-cnn/runs/vywkah78' target=\"_blank\">https://wandb.ai/kicza/flowers102-cnn/runs/vywkah78</a><br> View project at: <a href='https://wandb.ai/kicza/flowers102-cnn' target=\"_blank\">https://wandb.ai/kicza/flowers102-cnn</a><br>Synced 5 W&B file(s), 0 media file(s), 0 artifact file(s) and 0 other file(s)"
            ]
          },
          "metadata": {}
        },
        {
          "output_type": "display_data",
          "data": {
            "text/plain": [
              "<IPython.core.display.HTML object>"
            ],
            "text/html": [
              "Find logs at: <code>./wandb/run-20250409_210609-vywkah78/logs</code>"
            ]
          },
          "metadata": {}
        },
        {
          "output_type": "stream",
          "name": "stderr",
          "text": [
            "\u001b[34m\u001b[1mwandb\u001b[0m: Agent Starting Run: wei2tqkz with config:\n",
            "\u001b[34m\u001b[1mwandb\u001b[0m: \tbatch_size: 32\n",
            "\u001b[34m\u001b[1mwandb\u001b[0m: \tlearning_rate: 5.413192931174298e-05\n",
            "\u001b[34m\u001b[1mwandb\u001b[0m: \tnum_epochs: 20\n",
            "\u001b[34m\u001b[1mwandb\u001b[0m: \toptimizer: SGD\n"
          ]
        },
        {
          "output_type": "display_data",
          "data": {
            "text/plain": [
              "<IPython.core.display.HTML object>"
            ],
            "text/html": [
              "Ignoring project 'flowers102-cnn' when running a sweep."
            ]
          },
          "metadata": {}
        },
        {
          "output_type": "display_data",
          "data": {
            "text/plain": [
              "<IPython.core.display.HTML object>"
            ],
            "text/html": [
              "Tracking run with wandb version 0.19.9"
            ]
          },
          "metadata": {}
        },
        {
          "output_type": "display_data",
          "data": {
            "text/plain": [
              "<IPython.core.display.HTML object>"
            ],
            "text/html": [
              "Run data is saved locally in <code>/content/wandb/run-20250409_211057-wei2tqkz</code>"
            ]
          },
          "metadata": {}
        },
        {
          "output_type": "display_data",
          "data": {
            "text/plain": [
              "<IPython.core.display.HTML object>"
            ],
            "text/html": [
              "Syncing run <strong><a href='https://wandb.ai/kicza/flowers102-cnn/runs/wei2tqkz' target=\"_blank\">glamorous-sweep-2</a></strong> to <a href='https://wandb.ai/kicza/flowers102-cnn' target=\"_blank\">Weights & Biases</a> (<a href='https://wandb.me/developer-guide' target=\"_blank\">docs</a>)<br>Sweep page: <a href='https://wandb.ai/kicza/flowers102-cnn/sweeps/vr3xpu9o' target=\"_blank\">https://wandb.ai/kicza/flowers102-cnn/sweeps/vr3xpu9o</a>"
            ]
          },
          "metadata": {}
        },
        {
          "output_type": "display_data",
          "data": {
            "text/plain": [
              "<IPython.core.display.HTML object>"
            ],
            "text/html": [
              " View project at <a href='https://wandb.ai/kicza/flowers102-cnn' target=\"_blank\">https://wandb.ai/kicza/flowers102-cnn</a>"
            ]
          },
          "metadata": {}
        },
        {
          "output_type": "display_data",
          "data": {
            "text/plain": [
              "<IPython.core.display.HTML object>"
            ],
            "text/html": [
              " View sweep at <a href='https://wandb.ai/kicza/flowers102-cnn/sweeps/vr3xpu9o' target=\"_blank\">https://wandb.ai/kicza/flowers102-cnn/sweeps/vr3xpu9o</a>"
            ]
          },
          "metadata": {}
        },
        {
          "output_type": "display_data",
          "data": {
            "text/plain": [
              "<IPython.core.display.HTML object>"
            ],
            "text/html": [
              " View run at <a href='https://wandb.ai/kicza/flowers102-cnn/runs/wei2tqkz' target=\"_blank\">https://wandb.ai/kicza/flowers102-cnn/runs/wei2tqkz</a>"
            ]
          },
          "metadata": {}
        },
        {
          "output_type": "display_data",
          "data": {
            "text/plain": [
              "<IPython.core.display.HTML object>"
            ],
            "text/html": []
          },
          "metadata": {}
        },
        {
          "output_type": "display_data",
          "data": {
            "text/plain": [
              "<IPython.core.display.HTML object>"
            ],
            "text/html": [
              "<br>    <style><br>        .wandb-row {<br>            display: flex;<br>            flex-direction: row;<br>            flex-wrap: wrap;<br>            justify-content: flex-start;<br>            width: 100%;<br>        }<br>        .wandb-col {<br>            display: flex;<br>            flex-direction: column;<br>            flex-basis: 100%;<br>            flex: 1;<br>            padding: 10px;<br>        }<br>    </style><br><div class=\"wandb-row\"><div class=\"wandb-col\"><h3>Run history:</h3><br/><table class=\"wandb\"><tr><td>epoch</td><td>▁▁▂▂▂▃▃▄▄▄▅▅▅▆▆▇▇▇██</td></tr><tr><td>test_accuracy</td><td>▁</td></tr><tr><td>test_loss</td><td>▁</td></tr><tr><td>train_accuracy</td><td>▁▁▃▅████████████████</td></tr><tr><td>train_loss</td><td>█▇▅▄▄▂▂▁▁▁▁▁▁▁▂▁▁▁▁▁</td></tr><tr><td>val_accuracy</td><td>█▁▁▁▁▁▁▁▁▁▁▁▁▁▁▁▁▁▁▁</td></tr><tr><td>val_loss</td><td>█▆▅▃▂▂▂▁▁▁▁▁▁▁▁▁▁▁▁▁</td></tr></table><br/></div><div class=\"wandb-col\"><h3>Run summary:</h3><br/><table class=\"wandb\"><tr><td>epoch</td><td>20</td></tr><tr><td>test_accuracy</td><td>0.65051</td></tr><tr><td>test_loss</td><td>4.62288</td></tr><tr><td>train_accuracy</td><td>1.07843</td></tr><tr><td>train_loss</td><td>4.62467</td></tr><tr><td>val_accuracy</td><td>0.4902</td></tr><tr><td>val_loss</td><td>4.62505</td></tr></table><br/></div></div>"
            ]
          },
          "metadata": {}
        },
        {
          "output_type": "display_data",
          "data": {
            "text/plain": [
              "<IPython.core.display.HTML object>"
            ],
            "text/html": [
              " View run <strong style=\"color:#cdcd00\">glamorous-sweep-2</strong> at: <a href='https://wandb.ai/kicza/flowers102-cnn/runs/wei2tqkz' target=\"_blank\">https://wandb.ai/kicza/flowers102-cnn/runs/wei2tqkz</a><br> View project at: <a href='https://wandb.ai/kicza/flowers102-cnn' target=\"_blank\">https://wandb.ai/kicza/flowers102-cnn</a><br>Synced 5 W&B file(s), 0 media file(s), 0 artifact file(s) and 0 other file(s)"
            ]
          },
          "metadata": {}
        },
        {
          "output_type": "display_data",
          "data": {
            "text/plain": [
              "<IPython.core.display.HTML object>"
            ],
            "text/html": [
              "Find logs at: <code>./wandb/run-20250409_211057-wei2tqkz/logs</code>"
            ]
          },
          "metadata": {}
        },
        {
          "output_type": "stream",
          "name": "stderr",
          "text": [
            "\u001b[34m\u001b[1mwandb\u001b[0m: Agent Starting Run: a1q16yd1 with config:\n",
            "\u001b[34m\u001b[1mwandb\u001b[0m: \tbatch_size: 64\n",
            "\u001b[34m\u001b[1mwandb\u001b[0m: \tlearning_rate: 0.0005264263326796233\n",
            "\u001b[34m\u001b[1mwandb\u001b[0m: \tnum_epochs: 20\n",
            "\u001b[34m\u001b[1mwandb\u001b[0m: \toptimizer: SGD\n"
          ]
        },
        {
          "output_type": "display_data",
          "data": {
            "text/plain": [
              "<IPython.core.display.HTML object>"
            ],
            "text/html": [
              "Ignoring project 'flowers102-cnn' when running a sweep."
            ]
          },
          "metadata": {}
        },
        {
          "output_type": "display_data",
          "data": {
            "text/plain": [
              "<IPython.core.display.HTML object>"
            ],
            "text/html": [
              "Tracking run with wandb version 0.19.9"
            ]
          },
          "metadata": {}
        },
        {
          "output_type": "display_data",
          "data": {
            "text/plain": [
              "<IPython.core.display.HTML object>"
            ],
            "text/html": [
              "Run data is saved locally in <code>/content/wandb/run-20250409_211538-a1q16yd1</code>"
            ]
          },
          "metadata": {}
        },
        {
          "output_type": "display_data",
          "data": {
            "text/plain": [
              "<IPython.core.display.HTML object>"
            ],
            "text/html": [
              "Syncing run <strong><a href='https://wandb.ai/kicza/flowers102-cnn/runs/a1q16yd1' target=\"_blank\">fallen-sweep-3</a></strong> to <a href='https://wandb.ai/kicza/flowers102-cnn' target=\"_blank\">Weights & Biases</a> (<a href='https://wandb.me/developer-guide' target=\"_blank\">docs</a>)<br>Sweep page: <a href='https://wandb.ai/kicza/flowers102-cnn/sweeps/vr3xpu9o' target=\"_blank\">https://wandb.ai/kicza/flowers102-cnn/sweeps/vr3xpu9o</a>"
            ]
          },
          "metadata": {}
        },
        {
          "output_type": "display_data",
          "data": {
            "text/plain": [
              "<IPython.core.display.HTML object>"
            ],
            "text/html": [
              " View project at <a href='https://wandb.ai/kicza/flowers102-cnn' target=\"_blank\">https://wandb.ai/kicza/flowers102-cnn</a>"
            ]
          },
          "metadata": {}
        },
        {
          "output_type": "display_data",
          "data": {
            "text/plain": [
              "<IPython.core.display.HTML object>"
            ],
            "text/html": [
              " View sweep at <a href='https://wandb.ai/kicza/flowers102-cnn/sweeps/vr3xpu9o' target=\"_blank\">https://wandb.ai/kicza/flowers102-cnn/sweeps/vr3xpu9o</a>"
            ]
          },
          "metadata": {}
        },
        {
          "output_type": "display_data",
          "data": {
            "text/plain": [
              "<IPython.core.display.HTML object>"
            ],
            "text/html": [
              " View run at <a href='https://wandb.ai/kicza/flowers102-cnn/runs/a1q16yd1' target=\"_blank\">https://wandb.ai/kicza/flowers102-cnn/runs/a1q16yd1</a>"
            ]
          },
          "metadata": {}
        },
        {
          "output_type": "display_data",
          "data": {
            "text/plain": [
              "<IPython.core.display.HTML object>"
            ],
            "text/html": []
          },
          "metadata": {}
        },
        {
          "output_type": "display_data",
          "data": {
            "text/plain": [
              "<IPython.core.display.HTML object>"
            ],
            "text/html": [
              "<br>    <style><br>        .wandb-row {<br>            display: flex;<br>            flex-direction: row;<br>            flex-wrap: wrap;<br>            justify-content: flex-start;<br>            width: 100%;<br>        }<br>        .wandb-col {<br>            display: flex;<br>            flex-direction: column;<br>            flex-basis: 100%;<br>            flex: 1;<br>            padding: 10px;<br>        }<br>    </style><br><div class=\"wandb-row\"><div class=\"wandb-col\"><h3>Run history:</h3><br/><table class=\"wandb\"><tr><td>epoch</td><td>▁▁▂▂▂▃▃▄▄▄▅▅▅▆▆▇▇▇██</td></tr><tr><td>test_accuracy</td><td>▁</td></tr><tr><td>test_loss</td><td>▁</td></tr><tr><td>train_accuracy</td><td>▅▃▁▃▅████▇██████████</td></tr><tr><td>train_loss</td><td>█▆▅▄▃▂▂▁▁▁▁▁▁▁▁▁▁▁▁▁</td></tr><tr><td>val_accuracy</td><td>▁▁▅▁▁▁▁▁▁███████████</td></tr><tr><td>val_loss</td><td>█▆▅▃▂▂▂▁▁▁▁▁▁▁▁▁▁▁▁▁</td></tr></table><br/></div><div class=\"wandb-col\"><h3>Run summary:</h3><br/><table class=\"wandb\"><tr><td>epoch</td><td>20</td></tr><tr><td>test_accuracy</td><td>1.49618</td></tr><tr><td>test_loss</td><td>4.61672</td></tr><tr><td>train_accuracy</td><td>1.27451</td></tr><tr><td>train_loss</td><td>4.61537</td></tr><tr><td>val_accuracy</td><td>1.27451</td></tr><tr><td>val_loss</td><td>4.61956</td></tr></table><br/></div></div>"
            ]
          },
          "metadata": {}
        },
        {
          "output_type": "display_data",
          "data": {
            "text/plain": [
              "<IPython.core.display.HTML object>"
            ],
            "text/html": [
              " View run <strong style=\"color:#cdcd00\">fallen-sweep-3</strong> at: <a href='https://wandb.ai/kicza/flowers102-cnn/runs/a1q16yd1' target=\"_blank\">https://wandb.ai/kicza/flowers102-cnn/runs/a1q16yd1</a><br> View project at: <a href='https://wandb.ai/kicza/flowers102-cnn' target=\"_blank\">https://wandb.ai/kicza/flowers102-cnn</a><br>Synced 5 W&B file(s), 0 media file(s), 0 artifact file(s) and 0 other file(s)"
            ]
          },
          "metadata": {}
        },
        {
          "output_type": "display_data",
          "data": {
            "text/plain": [
              "<IPython.core.display.HTML object>"
            ],
            "text/html": [
              "Find logs at: <code>./wandb/run-20250409_211538-a1q16yd1/logs</code>"
            ]
          },
          "metadata": {}
        },
        {
          "output_type": "stream",
          "name": "stderr",
          "text": [
            "\u001b[34m\u001b[1mwandb\u001b[0m: Agent Starting Run: zx3hnnhs with config:\n",
            "\u001b[34m\u001b[1mwandb\u001b[0m: \tbatch_size: 32\n",
            "\u001b[34m\u001b[1mwandb\u001b[0m: \tlearning_rate: 0.00020598118673550192\n",
            "\u001b[34m\u001b[1mwandb\u001b[0m: \tnum_epochs: 20\n",
            "\u001b[34m\u001b[1mwandb\u001b[0m: \toptimizer: SGD\n"
          ]
        },
        {
          "output_type": "display_data",
          "data": {
            "text/plain": [
              "<IPython.core.display.HTML object>"
            ],
            "text/html": [
              "Ignoring project 'flowers102-cnn' when running a sweep."
            ]
          },
          "metadata": {}
        },
        {
          "output_type": "display_data",
          "data": {
            "text/plain": [
              "<IPython.core.display.HTML object>"
            ],
            "text/html": [
              "Tracking run with wandb version 0.19.9"
            ]
          },
          "metadata": {}
        },
        {
          "output_type": "display_data",
          "data": {
            "text/plain": [
              "<IPython.core.display.HTML object>"
            ],
            "text/html": [
              "Run data is saved locally in <code>/content/wandb/run-20250409_212031-zx3hnnhs</code>"
            ]
          },
          "metadata": {}
        },
        {
          "output_type": "display_data",
          "data": {
            "text/plain": [
              "<IPython.core.display.HTML object>"
            ],
            "text/html": [
              "Syncing run <strong><a href='https://wandb.ai/kicza/flowers102-cnn/runs/zx3hnnhs' target=\"_blank\">rural-sweep-4</a></strong> to <a href='https://wandb.ai/kicza/flowers102-cnn' target=\"_blank\">Weights & Biases</a> (<a href='https://wandb.me/developer-guide' target=\"_blank\">docs</a>)<br>Sweep page: <a href='https://wandb.ai/kicza/flowers102-cnn/sweeps/vr3xpu9o' target=\"_blank\">https://wandb.ai/kicza/flowers102-cnn/sweeps/vr3xpu9o</a>"
            ]
          },
          "metadata": {}
        },
        {
          "output_type": "display_data",
          "data": {
            "text/plain": [
              "<IPython.core.display.HTML object>"
            ],
            "text/html": [
              " View project at <a href='https://wandb.ai/kicza/flowers102-cnn' target=\"_blank\">https://wandb.ai/kicza/flowers102-cnn</a>"
            ]
          },
          "metadata": {}
        },
        {
          "output_type": "display_data",
          "data": {
            "text/plain": [
              "<IPython.core.display.HTML object>"
            ],
            "text/html": [
              " View sweep at <a href='https://wandb.ai/kicza/flowers102-cnn/sweeps/vr3xpu9o' target=\"_blank\">https://wandb.ai/kicza/flowers102-cnn/sweeps/vr3xpu9o</a>"
            ]
          },
          "metadata": {}
        },
        {
          "output_type": "display_data",
          "data": {
            "text/plain": [
              "<IPython.core.display.HTML object>"
            ],
            "text/html": [
              " View run at <a href='https://wandb.ai/kicza/flowers102-cnn/runs/zx3hnnhs' target=\"_blank\">https://wandb.ai/kicza/flowers102-cnn/runs/zx3hnnhs</a>"
            ]
          },
          "metadata": {}
        },
        {
          "output_type": "display_data",
          "data": {
            "text/plain": [
              "<IPython.core.display.HTML object>"
            ],
            "text/html": []
          },
          "metadata": {}
        },
        {
          "output_type": "display_data",
          "data": {
            "text/plain": [
              "<IPython.core.display.HTML object>"
            ],
            "text/html": [
              "<br>    <style><br>        .wandb-row {<br>            display: flex;<br>            flex-direction: row;<br>            flex-wrap: wrap;<br>            justify-content: flex-start;<br>            width: 100%;<br>        }<br>        .wandb-col {<br>            display: flex;<br>            flex-direction: column;<br>            flex-basis: 100%;<br>            flex: 1;<br>            padding: 10px;<br>        }<br>    </style><br><div class=\"wandb-row\"><div class=\"wandb-col\"><h3>Run history:</h3><br/><table class=\"wandb\"><tr><td>epoch</td><td>▁▁▂▂▂▃▃▄▄▄▅▅▅▆▆▇▇▇██</td></tr><tr><td>test_accuracy</td><td>▁</td></tr><tr><td>test_loss</td><td>▁</td></tr><tr><td>train_accuracy</td><td>█▆▁█▆█████▆▆▆▆▆▆▆▆▆▆</td></tr><tr><td>train_loss</td><td>█▇▅▄▃▂▂▁▁▁▁▁▁▁▁▁▁▁▁▁</td></tr><tr><td>val_accuracy</td><td>█▆▃▃▁▁▁▃▃▃▃▃▃▃▃▃▃▃▃▃</td></tr><tr><td>val_loss</td><td>█▆▅▃▂▂▁▁▁▁▁▁▁▁▁▁▁▁▁▁</td></tr></table><br/></div><div class=\"wandb-col\"><h3>Run summary:</h3><br/><table class=\"wandb\"><tr><td>epoch</td><td>20</td></tr><tr><td>test_accuracy</td><td>0.81314</td></tr><tr><td>test_loss</td><td>4.61772</td></tr><tr><td>train_accuracy</td><td>0.98039</td></tr><tr><td>train_loss</td><td>4.61942</td></tr><tr><td>val_accuracy</td><td>0.88235</td></tr><tr><td>val_loss</td><td>4.6218</td></tr></table><br/></div></div>"
            ]
          },
          "metadata": {}
        },
        {
          "output_type": "display_data",
          "data": {
            "text/plain": [
              "<IPython.core.display.HTML object>"
            ],
            "text/html": [
              " View run <strong style=\"color:#cdcd00\">rural-sweep-4</strong> at: <a href='https://wandb.ai/kicza/flowers102-cnn/runs/zx3hnnhs' target=\"_blank\">https://wandb.ai/kicza/flowers102-cnn/runs/zx3hnnhs</a><br> View project at: <a href='https://wandb.ai/kicza/flowers102-cnn' target=\"_blank\">https://wandb.ai/kicza/flowers102-cnn</a><br>Synced 5 W&B file(s), 0 media file(s), 0 artifact file(s) and 0 other file(s)"
            ]
          },
          "metadata": {}
        },
        {
          "output_type": "display_data",
          "data": {
            "text/plain": [
              "<IPython.core.display.HTML object>"
            ],
            "text/html": [
              "Find logs at: <code>./wandb/run-20250409_212031-zx3hnnhs/logs</code>"
            ]
          },
          "metadata": {}
        },
        {
          "output_type": "stream",
          "name": "stderr",
          "text": [
            "\u001b[34m\u001b[1mwandb\u001b[0m: Agent Starting Run: hxz018ad with config:\n",
            "\u001b[34m\u001b[1mwandb\u001b[0m: \tbatch_size: 64\n",
            "\u001b[34m\u001b[1mwandb\u001b[0m: \tlearning_rate: 0.0006326675110340527\n",
            "\u001b[34m\u001b[1mwandb\u001b[0m: \tnum_epochs: 20\n",
            "\u001b[34m\u001b[1mwandb\u001b[0m: \toptimizer: SGD\n"
          ]
        },
        {
          "output_type": "display_data",
          "data": {
            "text/plain": [
              "<IPython.core.display.HTML object>"
            ],
            "text/html": [
              "Ignoring project 'flowers102-cnn' when running a sweep."
            ]
          },
          "metadata": {}
        },
        {
          "output_type": "display_data",
          "data": {
            "text/plain": [
              "<IPython.core.display.HTML object>"
            ],
            "text/html": [
              "Tracking run with wandb version 0.19.9"
            ]
          },
          "metadata": {}
        },
        {
          "output_type": "display_data",
          "data": {
            "text/plain": [
              "<IPython.core.display.HTML object>"
            ],
            "text/html": [
              "Run data is saved locally in <code>/content/wandb/run-20250409_212512-hxz018ad</code>"
            ]
          },
          "metadata": {}
        },
        {
          "output_type": "display_data",
          "data": {
            "text/plain": [
              "<IPython.core.display.HTML object>"
            ],
            "text/html": [
              "Syncing run <strong><a href='https://wandb.ai/kicza/flowers102-cnn/runs/hxz018ad' target=\"_blank\">smooth-sweep-5</a></strong> to <a href='https://wandb.ai/kicza/flowers102-cnn' target=\"_blank\">Weights & Biases</a> (<a href='https://wandb.me/developer-guide' target=\"_blank\">docs</a>)<br>Sweep page: <a href='https://wandb.ai/kicza/flowers102-cnn/sweeps/vr3xpu9o' target=\"_blank\">https://wandb.ai/kicza/flowers102-cnn/sweeps/vr3xpu9o</a>"
            ]
          },
          "metadata": {}
        },
        {
          "output_type": "display_data",
          "data": {
            "text/plain": [
              "<IPython.core.display.HTML object>"
            ],
            "text/html": [
              " View project at <a href='https://wandb.ai/kicza/flowers102-cnn' target=\"_blank\">https://wandb.ai/kicza/flowers102-cnn</a>"
            ]
          },
          "metadata": {}
        },
        {
          "output_type": "display_data",
          "data": {
            "text/plain": [
              "<IPython.core.display.HTML object>"
            ],
            "text/html": [
              " View sweep at <a href='https://wandb.ai/kicza/flowers102-cnn/sweeps/vr3xpu9o' target=\"_blank\">https://wandb.ai/kicza/flowers102-cnn/sweeps/vr3xpu9o</a>"
            ]
          },
          "metadata": {}
        },
        {
          "output_type": "display_data",
          "data": {
            "text/plain": [
              "<IPython.core.display.HTML object>"
            ],
            "text/html": [
              " View run at <a href='https://wandb.ai/kicza/flowers102-cnn/runs/hxz018ad' target=\"_blank\">https://wandb.ai/kicza/flowers102-cnn/runs/hxz018ad</a>"
            ]
          },
          "metadata": {}
        },
        {
          "output_type": "display_data",
          "data": {
            "text/plain": [
              "<IPython.core.display.HTML object>"
            ],
            "text/html": []
          },
          "metadata": {}
        },
        {
          "output_type": "display_data",
          "data": {
            "text/plain": [
              "<IPython.core.display.HTML object>"
            ],
            "text/html": [
              "<br>    <style><br>        .wandb-row {<br>            display: flex;<br>            flex-direction: row;<br>            flex-wrap: wrap;<br>            justify-content: flex-start;<br>            width: 100%;<br>        }<br>        .wandb-col {<br>            display: flex;<br>            flex-direction: column;<br>            flex-basis: 100%;<br>            flex: 1;<br>            padding: 10px;<br>        }<br>    </style><br><div class=\"wandb-row\"><div class=\"wandb-col\"><h3>Run history:</h3><br/><table class=\"wandb\"><tr><td>epoch</td><td>▁▁▂▂▂▃▃▄▄▄▅▅▅▆▆▇▇▇██</td></tr><tr><td>test_accuracy</td><td>▁</td></tr><tr><td>test_loss</td><td>▁</td></tr><tr><td>train_accuracy</td><td>▁▄▄▅▄██▇▇▇▇▇▇▇▇▇▇▇▇▇</td></tr><tr><td>train_loss</td><td>█▇▅▄▃▂▂▂▁▁▁▁▁▁▁▁▁▁▁▁</td></tr><tr><td>val_accuracy</td><td>█▅▅▁▅▅▁▁▁▁▁▁▁▁▁▁▁▁▁▁</td></tr><tr><td>val_loss</td><td>█▇▅▃▂▂▂▁▁▁▁▁▁▁▁▁▁▁▁▁</td></tr></table><br/></div><div class=\"wandb-col\"><h3>Run summary:</h3><br/><table class=\"wandb\"><tr><td>epoch</td><td>20</td></tr><tr><td>test_accuracy</td><td>1.47992</td></tr><tr><td>test_loss</td><td>4.61803</td></tr><tr><td>train_accuracy</td><td>1.96078</td></tr><tr><td>train_loss</td><td>4.62223</td></tr><tr><td>val_accuracy</td><td>1.07843</td></tr><tr><td>val_loss</td><td>4.62348</td></tr></table><br/></div></div>"
            ]
          },
          "metadata": {}
        },
        {
          "output_type": "display_data",
          "data": {
            "text/plain": [
              "<IPython.core.display.HTML object>"
            ],
            "text/html": [
              " View run <strong style=\"color:#cdcd00\">smooth-sweep-5</strong> at: <a href='https://wandb.ai/kicza/flowers102-cnn/runs/hxz018ad' target=\"_blank\">https://wandb.ai/kicza/flowers102-cnn/runs/hxz018ad</a><br> View project at: <a href='https://wandb.ai/kicza/flowers102-cnn' target=\"_blank\">https://wandb.ai/kicza/flowers102-cnn</a><br>Synced 5 W&B file(s), 0 media file(s), 0 artifact file(s) and 0 other file(s)"
            ]
          },
          "metadata": {}
        },
        {
          "output_type": "display_data",
          "data": {
            "text/plain": [
              "<IPython.core.display.HTML object>"
            ],
            "text/html": [
              "Find logs at: <code>./wandb/run-20250409_212512-hxz018ad/logs</code>"
            ]
          },
          "metadata": {}
        },
        {
          "output_type": "stream",
          "name": "stderr",
          "text": [
            "\u001b[34m\u001b[1mwandb\u001b[0m: Agent Starting Run: sm6p4zn7 with config:\n",
            "\u001b[34m\u001b[1mwandb\u001b[0m: \tbatch_size: 64\n",
            "\u001b[34m\u001b[1mwandb\u001b[0m: \tlearning_rate: 0.00045834381786524016\n",
            "\u001b[34m\u001b[1mwandb\u001b[0m: \tnum_epochs: 20\n",
            "\u001b[34m\u001b[1mwandb\u001b[0m: \toptimizer: SGD\n"
          ]
        },
        {
          "output_type": "display_data",
          "data": {
            "text/plain": [
              "<IPython.core.display.HTML object>"
            ],
            "text/html": [
              "Ignoring project 'flowers102-cnn' when running a sweep."
            ]
          },
          "metadata": {}
        },
        {
          "output_type": "display_data",
          "data": {
            "text/plain": [
              "<IPython.core.display.HTML object>"
            ],
            "text/html": [
              "Tracking run with wandb version 0.19.9"
            ]
          },
          "metadata": {}
        },
        {
          "output_type": "display_data",
          "data": {
            "text/plain": [
              "<IPython.core.display.HTML object>"
            ],
            "text/html": [
              "Run data is saved locally in <code>/content/wandb/run-20250409_213005-sm6p4zn7</code>"
            ]
          },
          "metadata": {}
        },
        {
          "output_type": "display_data",
          "data": {
            "text/plain": [
              "<IPython.core.display.HTML object>"
            ],
            "text/html": [
              "Syncing run <strong><a href='https://wandb.ai/kicza/flowers102-cnn/runs/sm6p4zn7' target=\"_blank\">confused-sweep-6</a></strong> to <a href='https://wandb.ai/kicza/flowers102-cnn' target=\"_blank\">Weights & Biases</a> (<a href='https://wandb.me/developer-guide' target=\"_blank\">docs</a>)<br>Sweep page: <a href='https://wandb.ai/kicza/flowers102-cnn/sweeps/vr3xpu9o' target=\"_blank\">https://wandb.ai/kicza/flowers102-cnn/sweeps/vr3xpu9o</a>"
            ]
          },
          "metadata": {}
        },
        {
          "output_type": "display_data",
          "data": {
            "text/plain": [
              "<IPython.core.display.HTML object>"
            ],
            "text/html": [
              " View project at <a href='https://wandb.ai/kicza/flowers102-cnn' target=\"_blank\">https://wandb.ai/kicza/flowers102-cnn</a>"
            ]
          },
          "metadata": {}
        },
        {
          "output_type": "display_data",
          "data": {
            "text/plain": [
              "<IPython.core.display.HTML object>"
            ],
            "text/html": [
              " View sweep at <a href='https://wandb.ai/kicza/flowers102-cnn/sweeps/vr3xpu9o' target=\"_blank\">https://wandb.ai/kicza/flowers102-cnn/sweeps/vr3xpu9o</a>"
            ]
          },
          "metadata": {}
        },
        {
          "output_type": "display_data",
          "data": {
            "text/plain": [
              "<IPython.core.display.HTML object>"
            ],
            "text/html": [
              " View run at <a href='https://wandb.ai/kicza/flowers102-cnn/runs/sm6p4zn7' target=\"_blank\">https://wandb.ai/kicza/flowers102-cnn/runs/sm6p4zn7</a>"
            ]
          },
          "metadata": {}
        },
        {
          "output_type": "display_data",
          "data": {
            "text/plain": [
              "<IPython.core.display.HTML object>"
            ],
            "text/html": []
          },
          "metadata": {}
        },
        {
          "output_type": "display_data",
          "data": {
            "text/plain": [
              "<IPython.core.display.HTML object>"
            ],
            "text/html": [
              "<br>    <style><br>        .wandb-row {<br>            display: flex;<br>            flex-direction: row;<br>            flex-wrap: wrap;<br>            justify-content: flex-start;<br>            width: 100%;<br>        }<br>        .wandb-col {<br>            display: flex;<br>            flex-direction: column;<br>            flex-basis: 100%;<br>            flex: 1;<br>            padding: 10px;<br>        }<br>    </style><br><div class=\"wandb-row\"><div class=\"wandb-col\"><h3>Run history:</h3><br/><table class=\"wandb\"><tr><td>epoch</td><td>▁▁▂▂▂▃▃▄▄▄▅▅▅▆▆▇▇▇██</td></tr><tr><td>test_accuracy</td><td>▁</td></tr><tr><td>test_loss</td><td>▁</td></tr><tr><td>train_accuracy</td><td>▁█▆▆▆▆▆▆▆▆▆▆▆▆▆▆▆▆▆▆</td></tr><tr><td>train_loss</td><td>█▇▅▄▃▂▂▁▁▁▁▁▁▁▁▁▁▁▁▁</td></tr><tr><td>val_accuracy</td><td>█▅▁▁▁▁▁▁▁▁▁▁▁▁▁▁▁▁▁▁</td></tr><tr><td>val_loss</td><td>█▇▅▃▂▂▂▁▁▁▁▁▁▁▁▁▁▁▁▁</td></tr></table><br/></div><div class=\"wandb-col\"><h3>Run summary:</h3><br/><table class=\"wandb\"><tr><td>epoch</td><td>20</td></tr><tr><td>test_accuracy</td><td>0.50415</td></tr><tr><td>test_loss</td><td>4.62089</td></tr><tr><td>train_accuracy</td><td>1.07843</td></tr><tr><td>train_loss</td><td>4.62205</td></tr><tr><td>val_accuracy</td><td>1.07843</td></tr><tr><td>val_loss</td><td>4.62399</td></tr></table><br/></div></div>"
            ]
          },
          "metadata": {}
        },
        {
          "output_type": "display_data",
          "data": {
            "text/plain": [
              "<IPython.core.display.HTML object>"
            ],
            "text/html": [
              " View run <strong style=\"color:#cdcd00\">confused-sweep-6</strong> at: <a href='https://wandb.ai/kicza/flowers102-cnn/runs/sm6p4zn7' target=\"_blank\">https://wandb.ai/kicza/flowers102-cnn/runs/sm6p4zn7</a><br> View project at: <a href='https://wandb.ai/kicza/flowers102-cnn' target=\"_blank\">https://wandb.ai/kicza/flowers102-cnn</a><br>Synced 5 W&B file(s), 0 media file(s), 0 artifact file(s) and 0 other file(s)"
            ]
          },
          "metadata": {}
        },
        {
          "output_type": "display_data",
          "data": {
            "text/plain": [
              "<IPython.core.display.HTML object>"
            ],
            "text/html": [
              "Find logs at: <code>./wandb/run-20250409_213005-sm6p4zn7/logs</code>"
            ]
          },
          "metadata": {}
        },
        {
          "output_type": "stream",
          "name": "stderr",
          "text": [
            "\u001b[34m\u001b[1mwandb\u001b[0m: Agent Starting Run: ptxm6swm with config:\n",
            "\u001b[34m\u001b[1mwandb\u001b[0m: \tbatch_size: 32\n",
            "\u001b[34m\u001b[1mwandb\u001b[0m: \tlearning_rate: 0.0007635039540354783\n",
            "\u001b[34m\u001b[1mwandb\u001b[0m: \tnum_epochs: 20\n",
            "\u001b[34m\u001b[1mwandb\u001b[0m: \toptimizer: SGD\n"
          ]
        },
        {
          "output_type": "display_data",
          "data": {
            "text/plain": [
              "<IPython.core.display.HTML object>"
            ],
            "text/html": [
              "Ignoring project 'flowers102-cnn' when running a sweep."
            ]
          },
          "metadata": {}
        },
        {
          "output_type": "display_data",
          "data": {
            "text/plain": [
              "<IPython.core.display.HTML object>"
            ],
            "text/html": [
              "Tracking run with wandb version 0.19.9"
            ]
          },
          "metadata": {}
        },
        {
          "output_type": "display_data",
          "data": {
            "text/plain": [
              "<IPython.core.display.HTML object>"
            ],
            "text/html": [
              "Run data is saved locally in <code>/content/wandb/run-20250409_213503-ptxm6swm</code>"
            ]
          },
          "metadata": {}
        },
        {
          "output_type": "display_data",
          "data": {
            "text/plain": [
              "<IPython.core.display.HTML object>"
            ],
            "text/html": [
              "Syncing run <strong><a href='https://wandb.ai/kicza/flowers102-cnn/runs/ptxm6swm' target=\"_blank\">smart-sweep-7</a></strong> to <a href='https://wandb.ai/kicza/flowers102-cnn' target=\"_blank\">Weights & Biases</a> (<a href='https://wandb.me/developer-guide' target=\"_blank\">docs</a>)<br>Sweep page: <a href='https://wandb.ai/kicza/flowers102-cnn/sweeps/vr3xpu9o' target=\"_blank\">https://wandb.ai/kicza/flowers102-cnn/sweeps/vr3xpu9o</a>"
            ]
          },
          "metadata": {}
        },
        {
          "output_type": "display_data",
          "data": {
            "text/plain": [
              "<IPython.core.display.HTML object>"
            ],
            "text/html": [
              " View project at <a href='https://wandb.ai/kicza/flowers102-cnn' target=\"_blank\">https://wandb.ai/kicza/flowers102-cnn</a>"
            ]
          },
          "metadata": {}
        },
        {
          "output_type": "display_data",
          "data": {
            "text/plain": [
              "<IPython.core.display.HTML object>"
            ],
            "text/html": [
              " View sweep at <a href='https://wandb.ai/kicza/flowers102-cnn/sweeps/vr3xpu9o' target=\"_blank\">https://wandb.ai/kicza/flowers102-cnn/sweeps/vr3xpu9o</a>"
            ]
          },
          "metadata": {}
        },
        {
          "output_type": "display_data",
          "data": {
            "text/plain": [
              "<IPython.core.display.HTML object>"
            ],
            "text/html": [
              " View run at <a href='https://wandb.ai/kicza/flowers102-cnn/runs/ptxm6swm' target=\"_blank\">https://wandb.ai/kicza/flowers102-cnn/runs/ptxm6swm</a>"
            ]
          },
          "metadata": {}
        },
        {
          "output_type": "display_data",
          "data": {
            "text/plain": [
              "<IPython.core.display.HTML object>"
            ],
            "text/html": []
          },
          "metadata": {}
        },
        {
          "output_type": "display_data",
          "data": {
            "text/plain": [
              "<IPython.core.display.HTML object>"
            ],
            "text/html": [
              "<br>    <style><br>        .wandb-row {<br>            display: flex;<br>            flex-direction: row;<br>            flex-wrap: wrap;<br>            justify-content: flex-start;<br>            width: 100%;<br>        }<br>        .wandb-col {<br>            display: flex;<br>            flex-direction: column;<br>            flex-basis: 100%;<br>            flex: 1;<br>            padding: 10px;<br>        }<br>    </style><br><div class=\"wandb-row\"><div class=\"wandb-col\"><h3>Run history:</h3><br/><table class=\"wandb\"><tr><td>epoch</td><td>▁▁▂▂▂▃▃▄▄▄▅▅▅▆▆▇▇▇██</td></tr><tr><td>test_accuracy</td><td>▁</td></tr><tr><td>test_loss</td><td>▁</td></tr><tr><td>train_accuracy</td><td>▁▃▄▅▆▇████████▇█████</td></tr><tr><td>train_loss</td><td>█▇▆▄▃▂▂▂▁▁▁▁▁▁▁▁▁▁▁▁</td></tr><tr><td>val_accuracy</td><td>▁▂▅▇█▇▇▇▇▇▇▇▇▇▇▇▇▇▇▇</td></tr><tr><td>val_loss</td><td>█▇▅▄▂▂▂▁▁▁▁▁▁▁▁▁▁▁▁▁</td></tr></table><br/></div><div class=\"wandb-col\"><h3>Run summary:</h3><br/><table class=\"wandb\"><tr><td>epoch</td><td>20</td></tr><tr><td>test_accuracy</td><td>2.86225</td></tr><tr><td>test_loss</td><td>4.61615</td></tr><tr><td>train_accuracy</td><td>3.33333</td></tr><tr><td>train_loss</td><td>4.59977</td></tr><tr><td>val_accuracy</td><td>2.7451</td></tr><tr><td>val_loss</td><td>4.61179</td></tr></table><br/></div></div>"
            ]
          },
          "metadata": {}
        },
        {
          "output_type": "display_data",
          "data": {
            "text/plain": [
              "<IPython.core.display.HTML object>"
            ],
            "text/html": [
              " View run <strong style=\"color:#cdcd00\">smart-sweep-7</strong> at: <a href='https://wandb.ai/kicza/flowers102-cnn/runs/ptxm6swm' target=\"_blank\">https://wandb.ai/kicza/flowers102-cnn/runs/ptxm6swm</a><br> View project at: <a href='https://wandb.ai/kicza/flowers102-cnn' target=\"_blank\">https://wandb.ai/kicza/flowers102-cnn</a><br>Synced 5 W&B file(s), 0 media file(s), 0 artifact file(s) and 0 other file(s)"
            ]
          },
          "metadata": {}
        },
        {
          "output_type": "display_data",
          "data": {
            "text/plain": [
              "<IPython.core.display.HTML object>"
            ],
            "text/html": [
              "Find logs at: <code>./wandb/run-20250409_213503-ptxm6swm/logs</code>"
            ]
          },
          "metadata": {}
        },
        {
          "output_type": "stream",
          "name": "stderr",
          "text": [
            "\u001b[34m\u001b[1mwandb\u001b[0m: Sweep Agent: Waiting for job.\n",
            "\u001b[34m\u001b[1mwandb\u001b[0m: Job received.\n",
            "\u001b[34m\u001b[1mwandb\u001b[0m: Agent Starting Run: 4clol797 with config:\n",
            "\u001b[34m\u001b[1mwandb\u001b[0m: \tbatch_size: 32\n",
            "\u001b[34m\u001b[1mwandb\u001b[0m: \tlearning_rate: 0.000771583093425089\n",
            "\u001b[34m\u001b[1mwandb\u001b[0m: \tnum_epochs: 20\n",
            "\u001b[34m\u001b[1mwandb\u001b[0m: \toptimizer: SGD\n"
          ]
        },
        {
          "output_type": "display_data",
          "data": {
            "text/plain": [
              "<IPython.core.display.HTML object>"
            ],
            "text/html": [
              "Ignoring project 'flowers102-cnn' when running a sweep."
            ]
          },
          "metadata": {}
        },
        {
          "output_type": "display_data",
          "data": {
            "text/plain": [
              "<IPython.core.display.HTML object>"
            ],
            "text/html": [
              "Tracking run with wandb version 0.19.9"
            ]
          },
          "metadata": {}
        },
        {
          "output_type": "display_data",
          "data": {
            "text/plain": [
              "<IPython.core.display.HTML object>"
            ],
            "text/html": [
              "Run data is saved locally in <code>/content/wandb/run-20250409_213954-4clol797</code>"
            ]
          },
          "metadata": {}
        },
        {
          "output_type": "display_data",
          "data": {
            "text/plain": [
              "<IPython.core.display.HTML object>"
            ],
            "text/html": [
              "Syncing run <strong><a href='https://wandb.ai/kicza/flowers102-cnn/runs/4clol797' target=\"_blank\">rich-sweep-8</a></strong> to <a href='https://wandb.ai/kicza/flowers102-cnn' target=\"_blank\">Weights & Biases</a> (<a href='https://wandb.me/developer-guide' target=\"_blank\">docs</a>)<br>Sweep page: <a href='https://wandb.ai/kicza/flowers102-cnn/sweeps/vr3xpu9o' target=\"_blank\">https://wandb.ai/kicza/flowers102-cnn/sweeps/vr3xpu9o</a>"
            ]
          },
          "metadata": {}
        },
        {
          "output_type": "display_data",
          "data": {
            "text/plain": [
              "<IPython.core.display.HTML object>"
            ],
            "text/html": [
              " View project at <a href='https://wandb.ai/kicza/flowers102-cnn' target=\"_blank\">https://wandb.ai/kicza/flowers102-cnn</a>"
            ]
          },
          "metadata": {}
        },
        {
          "output_type": "display_data",
          "data": {
            "text/plain": [
              "<IPython.core.display.HTML object>"
            ],
            "text/html": [
              " View sweep at <a href='https://wandb.ai/kicza/flowers102-cnn/sweeps/vr3xpu9o' target=\"_blank\">https://wandb.ai/kicza/flowers102-cnn/sweeps/vr3xpu9o</a>"
            ]
          },
          "metadata": {}
        },
        {
          "output_type": "display_data",
          "data": {
            "text/plain": [
              "<IPython.core.display.HTML object>"
            ],
            "text/html": [
              " View run at <a href='https://wandb.ai/kicza/flowers102-cnn/runs/4clol797' target=\"_blank\">https://wandb.ai/kicza/flowers102-cnn/runs/4clol797</a>"
            ]
          },
          "metadata": {}
        },
        {
          "output_type": "display_data",
          "data": {
            "text/plain": [
              "<IPython.core.display.HTML object>"
            ],
            "text/html": []
          },
          "metadata": {}
        },
        {
          "output_type": "display_data",
          "data": {
            "text/plain": [
              "<IPython.core.display.HTML object>"
            ],
            "text/html": [
              "<br>    <style><br>        .wandb-row {<br>            display: flex;<br>            flex-direction: row;<br>            flex-wrap: wrap;<br>            justify-content: flex-start;<br>            width: 100%;<br>        }<br>        .wandb-col {<br>            display: flex;<br>            flex-direction: column;<br>            flex-basis: 100%;<br>            flex: 1;<br>            padding: 10px;<br>        }<br>    </style><br><div class=\"wandb-row\"><div class=\"wandb-col\"><h3>Run history:</h3><br/><table class=\"wandb\"><tr><td>epoch</td><td>▁▁▂▂▂▃▃▄▄▄▅▅▅▆▆▇▇▇██</td></tr><tr><td>test_accuracy</td><td>▁</td></tr><tr><td>test_loss</td><td>▁</td></tr><tr><td>train_accuracy</td><td>▂▁▂▆▅▇▇▇█▇██████████</td></tr><tr><td>train_loss</td><td>█▇▅▄▃▂▂▂▁▁▁▁▁▁▁▁▁▁▁▁</td></tr><tr><td>val_accuracy</td><td>▂▁▄▄▆▆▆▇████████████</td></tr><tr><td>val_loss</td><td>█▆▅▃▂▂▂▁▁▁▁▁▁▁▁▁▁▁▁▁</td></tr></table><br/></div><div class=\"wandb-col\"><h3>Run summary:</h3><br/><table class=\"wandb\"><tr><td>epoch</td><td>20</td></tr><tr><td>test_accuracy</td><td>2.91104</td></tr><tr><td>test_loss</td><td>4.60484</td></tr><tr><td>train_accuracy</td><td>4.21569</td></tr><tr><td>train_loss</td><td>4.60083</td></tr><tr><td>val_accuracy</td><td>2.64706</td></tr><tr><td>val_loss</td><td>4.6086</td></tr></table><br/></div></div>"
            ]
          },
          "metadata": {}
        },
        {
          "output_type": "display_data",
          "data": {
            "text/plain": [
              "<IPython.core.display.HTML object>"
            ],
            "text/html": [
              " View run <strong style=\"color:#cdcd00\">rich-sweep-8</strong> at: <a href='https://wandb.ai/kicza/flowers102-cnn/runs/4clol797' target=\"_blank\">https://wandb.ai/kicza/flowers102-cnn/runs/4clol797</a><br> View project at: <a href='https://wandb.ai/kicza/flowers102-cnn' target=\"_blank\">https://wandb.ai/kicza/flowers102-cnn</a><br>Synced 5 W&B file(s), 0 media file(s), 0 artifact file(s) and 0 other file(s)"
            ]
          },
          "metadata": {}
        },
        {
          "output_type": "display_data",
          "data": {
            "text/plain": [
              "<IPython.core.display.HTML object>"
            ],
            "text/html": [
              "Find logs at: <code>./wandb/run-20250409_213954-4clol797/logs</code>"
            ]
          },
          "metadata": {}
        },
        {
          "output_type": "stream",
          "name": "stderr",
          "text": [
            "\u001b[34m\u001b[1mwandb\u001b[0m: Agent Starting Run: spli74zp with config:\n",
            "\u001b[34m\u001b[1mwandb\u001b[0m: \tbatch_size: 64\n",
            "\u001b[34m\u001b[1mwandb\u001b[0m: \tlearning_rate: 0.0007330976177507225\n",
            "\u001b[34m\u001b[1mwandb\u001b[0m: \tnum_epochs: 20\n",
            "\u001b[34m\u001b[1mwandb\u001b[0m: \toptimizer: SGD\n"
          ]
        },
        {
          "output_type": "display_data",
          "data": {
            "text/plain": [
              "<IPython.core.display.HTML object>"
            ],
            "text/html": [
              "Ignoring project 'flowers102-cnn' when running a sweep."
            ]
          },
          "metadata": {}
        },
        {
          "output_type": "display_data",
          "data": {
            "text/plain": [
              "<IPython.core.display.HTML object>"
            ],
            "text/html": [
              "Tracking run with wandb version 0.19.9"
            ]
          },
          "metadata": {}
        },
        {
          "output_type": "display_data",
          "data": {
            "text/plain": [
              "<IPython.core.display.HTML object>"
            ],
            "text/html": [
              "Run data is saved locally in <code>/content/wandb/run-20250409_214438-spli74zp</code>"
            ]
          },
          "metadata": {}
        },
        {
          "output_type": "display_data",
          "data": {
            "text/plain": [
              "<IPython.core.display.HTML object>"
            ],
            "text/html": [
              "Syncing run <strong><a href='https://wandb.ai/kicza/flowers102-cnn/runs/spli74zp' target=\"_blank\">cool-sweep-9</a></strong> to <a href='https://wandb.ai/kicza/flowers102-cnn' target=\"_blank\">Weights & Biases</a> (<a href='https://wandb.me/developer-guide' target=\"_blank\">docs</a>)<br>Sweep page: <a href='https://wandb.ai/kicza/flowers102-cnn/sweeps/vr3xpu9o' target=\"_blank\">https://wandb.ai/kicza/flowers102-cnn/sweeps/vr3xpu9o</a>"
            ]
          },
          "metadata": {}
        },
        {
          "output_type": "display_data",
          "data": {
            "text/plain": [
              "<IPython.core.display.HTML object>"
            ],
            "text/html": [
              " View project at <a href='https://wandb.ai/kicza/flowers102-cnn' target=\"_blank\">https://wandb.ai/kicza/flowers102-cnn</a>"
            ]
          },
          "metadata": {}
        },
        {
          "output_type": "display_data",
          "data": {
            "text/plain": [
              "<IPython.core.display.HTML object>"
            ],
            "text/html": [
              " View sweep at <a href='https://wandb.ai/kicza/flowers102-cnn/sweeps/vr3xpu9o' target=\"_blank\">https://wandb.ai/kicza/flowers102-cnn/sweeps/vr3xpu9o</a>"
            ]
          },
          "metadata": {}
        },
        {
          "output_type": "display_data",
          "data": {
            "text/plain": [
              "<IPython.core.display.HTML object>"
            ],
            "text/html": [
              " View run at <a href='https://wandb.ai/kicza/flowers102-cnn/runs/spli74zp' target=\"_blank\">https://wandb.ai/kicza/flowers102-cnn/runs/spli74zp</a>"
            ]
          },
          "metadata": {}
        },
        {
          "output_type": "display_data",
          "data": {
            "text/plain": [
              "<IPython.core.display.HTML object>"
            ],
            "text/html": []
          },
          "metadata": {}
        },
        {
          "output_type": "display_data",
          "data": {
            "text/plain": [
              "<IPython.core.display.HTML object>"
            ],
            "text/html": [
              "<br>    <style><br>        .wandb-row {<br>            display: flex;<br>            flex-direction: row;<br>            flex-wrap: wrap;<br>            justify-content: flex-start;<br>            width: 100%;<br>        }<br>        .wandb-col {<br>            display: flex;<br>            flex-direction: column;<br>            flex-basis: 100%;<br>            flex: 1;<br>            padding: 10px;<br>        }<br>    </style><br><div class=\"wandb-row\"><div class=\"wandb-col\"><h3>Run history:</h3><br/><table class=\"wandb\"><tr><td>epoch</td><td>▁▁▂▂▂▃▃▄▄▄▅▅▅▆▆▇▇▇██</td></tr><tr><td>test_accuracy</td><td>▁</td></tr><tr><td>test_loss</td><td>▁</td></tr><tr><td>train_accuracy</td><td>▁▃▄▅▇██▇▇▇▇▇▇▇▇▇▇▇▇▇</td></tr><tr><td>train_loss</td><td>█▆▅▄▃▂▂▁▁▁▁▁▁▁▁▁▁▁▁▁</td></tr><tr><td>val_accuracy</td><td>▁▅▃▃▆▆▆▆████████████</td></tr><tr><td>val_loss</td><td>█▆▅▃▂▂▁▁▁▁▁▁▁▁▁▁▁▁▁▁</td></tr></table><br/></div><div class=\"wandb-col\"><h3>Run summary:</h3><br/><table class=\"wandb\"><tr><td>epoch</td><td>20</td></tr><tr><td>test_accuracy</td><td>2.55326</td></tr><tr><td>test_loss</td><td>4.62425</td></tr><tr><td>train_accuracy</td><td>1.27451</td></tr><tr><td>train_loss</td><td>4.61707</td></tr><tr><td>val_accuracy</td><td>1.37255</td></tr><tr><td>val_loss</td><td>4.62252</td></tr></table><br/></div></div>"
            ]
          },
          "metadata": {}
        },
        {
          "output_type": "display_data",
          "data": {
            "text/plain": [
              "<IPython.core.display.HTML object>"
            ],
            "text/html": [
              " View run <strong style=\"color:#cdcd00\">cool-sweep-9</strong> at: <a href='https://wandb.ai/kicza/flowers102-cnn/runs/spli74zp' target=\"_blank\">https://wandb.ai/kicza/flowers102-cnn/runs/spli74zp</a><br> View project at: <a href='https://wandb.ai/kicza/flowers102-cnn' target=\"_blank\">https://wandb.ai/kicza/flowers102-cnn</a><br>Synced 5 W&B file(s), 0 media file(s), 0 artifact file(s) and 0 other file(s)"
            ]
          },
          "metadata": {}
        },
        {
          "output_type": "display_data",
          "data": {
            "text/plain": [
              "<IPython.core.display.HTML object>"
            ],
            "text/html": [
              "Find logs at: <code>./wandb/run-20250409_214438-spli74zp/logs</code>"
            ]
          },
          "metadata": {}
        },
        {
          "output_type": "stream",
          "name": "stderr",
          "text": [
            "\u001b[34m\u001b[1mwandb\u001b[0m: Agent Starting Run: wtxzjhvg with config:\n",
            "\u001b[34m\u001b[1mwandb\u001b[0m: \tbatch_size: 32\n",
            "\u001b[34m\u001b[1mwandb\u001b[0m: \tlearning_rate: 0.0007356586844253648\n",
            "\u001b[34m\u001b[1mwandb\u001b[0m: \tnum_epochs: 20\n",
            "\u001b[34m\u001b[1mwandb\u001b[0m: \toptimizer: SGD\n"
          ]
        },
        {
          "output_type": "display_data",
          "data": {
            "text/plain": [
              "<IPython.core.display.HTML object>"
            ],
            "text/html": [
              "Ignoring project 'flowers102-cnn' when running a sweep."
            ]
          },
          "metadata": {}
        },
        {
          "output_type": "display_data",
          "data": {
            "text/plain": [
              "<IPython.core.display.HTML object>"
            ],
            "text/html": [
              "Tracking run with wandb version 0.19.9"
            ]
          },
          "metadata": {}
        },
        {
          "output_type": "display_data",
          "data": {
            "text/plain": [
              "<IPython.core.display.HTML object>"
            ],
            "text/html": [
              "Run data is saved locally in <code>/content/wandb/run-20250409_214935-wtxzjhvg</code>"
            ]
          },
          "metadata": {}
        },
        {
          "output_type": "display_data",
          "data": {
            "text/plain": [
              "<IPython.core.display.HTML object>"
            ],
            "text/html": [
              "Syncing run <strong><a href='https://wandb.ai/kicza/flowers102-cnn/runs/wtxzjhvg' target=\"_blank\">likely-sweep-10</a></strong> to <a href='https://wandb.ai/kicza/flowers102-cnn' target=\"_blank\">Weights & Biases</a> (<a href='https://wandb.me/developer-guide' target=\"_blank\">docs</a>)<br>Sweep page: <a href='https://wandb.ai/kicza/flowers102-cnn/sweeps/vr3xpu9o' target=\"_blank\">https://wandb.ai/kicza/flowers102-cnn/sweeps/vr3xpu9o</a>"
            ]
          },
          "metadata": {}
        },
        {
          "output_type": "display_data",
          "data": {
            "text/plain": [
              "<IPython.core.display.HTML object>"
            ],
            "text/html": [
              " View project at <a href='https://wandb.ai/kicza/flowers102-cnn' target=\"_blank\">https://wandb.ai/kicza/flowers102-cnn</a>"
            ]
          },
          "metadata": {}
        },
        {
          "output_type": "display_data",
          "data": {
            "text/plain": [
              "<IPython.core.display.HTML object>"
            ],
            "text/html": [
              " View sweep at <a href='https://wandb.ai/kicza/flowers102-cnn/sweeps/vr3xpu9o' target=\"_blank\">https://wandb.ai/kicza/flowers102-cnn/sweeps/vr3xpu9o</a>"
            ]
          },
          "metadata": {}
        },
        {
          "output_type": "display_data",
          "data": {
            "text/plain": [
              "<IPython.core.display.HTML object>"
            ],
            "text/html": [
              " View run at <a href='https://wandb.ai/kicza/flowers102-cnn/runs/wtxzjhvg' target=\"_blank\">https://wandb.ai/kicza/flowers102-cnn/runs/wtxzjhvg</a>"
            ]
          },
          "metadata": {}
        },
        {
          "output_type": "display_data",
          "data": {
            "text/plain": [
              "<IPython.core.display.HTML object>"
            ],
            "text/html": []
          },
          "metadata": {}
        },
        {
          "output_type": "display_data",
          "data": {
            "text/plain": [
              "<IPython.core.display.HTML object>"
            ],
            "text/html": [
              "<br>    <style><br>        .wandb-row {<br>            display: flex;<br>            flex-direction: row;<br>            flex-wrap: wrap;<br>            justify-content: flex-start;<br>            width: 100%;<br>        }<br>        .wandb-col {<br>            display: flex;<br>            flex-direction: column;<br>            flex-basis: 100%;<br>            flex: 1;<br>            padding: 10px;<br>        }<br>    </style><br><div class=\"wandb-row\"><div class=\"wandb-col\"><h3>Run history:</h3><br/><table class=\"wandb\"><tr><td>epoch</td><td>▁▁▂▂▂▃▃▄▄▄▅▅▅▆▆▇▇▇██</td></tr><tr><td>test_accuracy</td><td>▁</td></tr><tr><td>test_loss</td><td>▁</td></tr><tr><td>train_accuracy</td><td>▁▂▂▆▂▇▇▇█▇██████████</td></tr><tr><td>train_loss</td><td>█▇▅▄▃▂▂▁▁▁▁▁▁▁▁▁▁▁▁▁</td></tr><tr><td>val_accuracy</td><td>▃▁▃▆█▆▆▆▆▆▆▆▆▆▆▆▆▆▆▆</td></tr><tr><td>val_loss</td><td>█▆▅▃▂▂▂▁▁▁▁▁▁▁▁▁▁▁▁▁</td></tr></table><br/></div><div class=\"wandb-col\"><h3>Run summary:</h3><br/><table class=\"wandb\"><tr><td>epoch</td><td>20</td></tr><tr><td>test_accuracy</td><td>1.88649</td></tr><tr><td>test_loss</td><td>4.62226</td></tr><tr><td>train_accuracy</td><td>2.2549</td></tr><tr><td>train_loss</td><td>4.60505</td></tr><tr><td>val_accuracy</td><td>1.56863</td></tr><tr><td>val_loss</td><td>4.61435</td></tr></table><br/></div></div>"
            ]
          },
          "metadata": {}
        },
        {
          "output_type": "display_data",
          "data": {
            "text/plain": [
              "<IPython.core.display.HTML object>"
            ],
            "text/html": [
              " View run <strong style=\"color:#cdcd00\">likely-sweep-10</strong> at: <a href='https://wandb.ai/kicza/flowers102-cnn/runs/wtxzjhvg' target=\"_blank\">https://wandb.ai/kicza/flowers102-cnn/runs/wtxzjhvg</a><br> View project at: <a href='https://wandb.ai/kicza/flowers102-cnn' target=\"_blank\">https://wandb.ai/kicza/flowers102-cnn</a><br>Synced 5 W&B file(s), 0 media file(s), 0 artifact file(s) and 0 other file(s)"
            ]
          },
          "metadata": {}
        },
        {
          "output_type": "display_data",
          "data": {
            "text/plain": [
              "<IPython.core.display.HTML object>"
            ],
            "text/html": [
              "Find logs at: <code>./wandb/run-20250409_214935-wtxzjhvg/logs</code>"
            ]
          },
          "metadata": {}
        },
        {
          "output_type": "stream",
          "name": "stderr",
          "text": [
            "\u001b[34m\u001b[1mwandb\u001b[0m: Agent Starting Run: vh4vj4ke with config:\n",
            "\u001b[34m\u001b[1mwandb\u001b[0m: \tbatch_size: 32\n",
            "\u001b[34m\u001b[1mwandb\u001b[0m: \tlearning_rate: 0.0005207205766445922\n",
            "\u001b[34m\u001b[1mwandb\u001b[0m: \tnum_epochs: 20\n",
            "\u001b[34m\u001b[1mwandb\u001b[0m: \toptimizer: Adam\n"
          ]
        },
        {
          "output_type": "display_data",
          "data": {
            "text/plain": [
              "<IPython.core.display.HTML object>"
            ],
            "text/html": [
              "Ignoring project 'flowers102-cnn' when running a sweep."
            ]
          },
          "metadata": {}
        },
        {
          "output_type": "display_data",
          "data": {
            "text/plain": [
              "<IPython.core.display.HTML object>"
            ],
            "text/html": [
              "Tracking run with wandb version 0.19.9"
            ]
          },
          "metadata": {}
        },
        {
          "output_type": "display_data",
          "data": {
            "text/plain": [
              "<IPython.core.display.HTML object>"
            ],
            "text/html": [
              "Run data is saved locally in <code>/content/wandb/run-20250409_215418-vh4vj4ke</code>"
            ]
          },
          "metadata": {}
        },
        {
          "output_type": "display_data",
          "data": {
            "text/plain": [
              "<IPython.core.display.HTML object>"
            ],
            "text/html": [
              "Syncing run <strong><a href='https://wandb.ai/kicza/flowers102-cnn/runs/vh4vj4ke' target=\"_blank\">ruby-sweep-11</a></strong> to <a href='https://wandb.ai/kicza/flowers102-cnn' target=\"_blank\">Weights & Biases</a> (<a href='https://wandb.me/developer-guide' target=\"_blank\">docs</a>)<br>Sweep page: <a href='https://wandb.ai/kicza/flowers102-cnn/sweeps/vr3xpu9o' target=\"_blank\">https://wandb.ai/kicza/flowers102-cnn/sweeps/vr3xpu9o</a>"
            ]
          },
          "metadata": {}
        },
        {
          "output_type": "display_data",
          "data": {
            "text/plain": [
              "<IPython.core.display.HTML object>"
            ],
            "text/html": [
              " View project at <a href='https://wandb.ai/kicza/flowers102-cnn' target=\"_blank\">https://wandb.ai/kicza/flowers102-cnn</a>"
            ]
          },
          "metadata": {}
        },
        {
          "output_type": "display_data",
          "data": {
            "text/plain": [
              "<IPython.core.display.HTML object>"
            ],
            "text/html": [
              " View sweep at <a href='https://wandb.ai/kicza/flowers102-cnn/sweeps/vr3xpu9o' target=\"_blank\">https://wandb.ai/kicza/flowers102-cnn/sweeps/vr3xpu9o</a>"
            ]
          },
          "metadata": {}
        },
        {
          "output_type": "display_data",
          "data": {
            "text/plain": [
              "<IPython.core.display.HTML object>"
            ],
            "text/html": [
              " View run at <a href='https://wandb.ai/kicza/flowers102-cnn/runs/vh4vj4ke' target=\"_blank\">https://wandb.ai/kicza/flowers102-cnn/runs/vh4vj4ke</a>"
            ]
          },
          "metadata": {}
        },
        {
          "output_type": "stream",
          "name": "stdout",
          "text": [
            "Early stopping at epoch 12\n"
          ]
        },
        {
          "output_type": "display_data",
          "data": {
            "text/plain": [
              "<IPython.core.display.HTML object>"
            ],
            "text/html": []
          },
          "metadata": {}
        },
        {
          "output_type": "display_data",
          "data": {
            "text/plain": [
              "<IPython.core.display.HTML object>"
            ],
            "text/html": [
              "<br>    <style><br>        .wandb-row {<br>            display: flex;<br>            flex-direction: row;<br>            flex-wrap: wrap;<br>            justify-content: flex-start;<br>            width: 100%;<br>        }<br>        .wandb-col {<br>            display: flex;<br>            flex-direction: column;<br>            flex-basis: 100%;<br>            flex: 1;<br>            padding: 10px;<br>        }<br>    </style><br><div class=\"wandb-row\"><div class=\"wandb-col\"><h3>Run history:</h3><br/><table class=\"wandb\"><tr><td>epoch</td><td>▁▂▂▃▄▄▅▅▆▇▇█</td></tr><tr><td>test_accuracy</td><td>▁</td></tr><tr><td>test_loss</td><td>▁</td></tr><tr><td>train_accuracy</td><td>▁▁▁▂▃▆▇▇▇███</td></tr><tr><td>train_loss</td><td>██▇▆▄▃▂▂▂▁▁▁</td></tr><tr><td>val_accuracy</td><td>▁▁▃▄▅▇██████</td></tr><tr><td>val_loss</td><td>█▇▆▄▃▁▁▁▁▁▁▁</td></tr></table><br/></div><div class=\"wandb-col\"><h3>Run summary:</h3><br/><table class=\"wandb\"><tr><td>epoch</td><td>12</td></tr><tr><td>test_accuracy</td><td>11.70922</td></tr><tr><td>test_loss</td><td>4.04241</td></tr><tr><td>train_accuracy</td><td>74.11765</td></tr><tr><td>train_loss</td><td>1.39318</td></tr><tr><td>val_accuracy</td><td>13.82353</td></tr><tr><td>val_loss</td><td>3.87638</td></tr></table><br/></div></div>"
            ]
          },
          "metadata": {}
        },
        {
          "output_type": "display_data",
          "data": {
            "text/plain": [
              "<IPython.core.display.HTML object>"
            ],
            "text/html": [
              " View run <strong style=\"color:#cdcd00\">ruby-sweep-11</strong> at: <a href='https://wandb.ai/kicza/flowers102-cnn/runs/vh4vj4ke' target=\"_blank\">https://wandb.ai/kicza/flowers102-cnn/runs/vh4vj4ke</a><br> View project at: <a href='https://wandb.ai/kicza/flowers102-cnn' target=\"_blank\">https://wandb.ai/kicza/flowers102-cnn</a><br>Synced 5 W&B file(s), 0 media file(s), 0 artifact file(s) and 0 other file(s)"
            ]
          },
          "metadata": {}
        },
        {
          "output_type": "display_data",
          "data": {
            "text/plain": [
              "<IPython.core.display.HTML object>"
            ],
            "text/html": [
              "Find logs at: <code>./wandb/run-20250409_215418-vh4vj4ke/logs</code>"
            ]
          },
          "metadata": {}
        },
        {
          "output_type": "stream",
          "name": "stderr",
          "text": [
            "\u001b[34m\u001b[1mwandb\u001b[0m: Agent Starting Run: 4uky3owr with config:\n",
            "\u001b[34m\u001b[1mwandb\u001b[0m: \tbatch_size: 64\n",
            "\u001b[34m\u001b[1mwandb\u001b[0m: \tlearning_rate: 0.0004832912908061893\n",
            "\u001b[34m\u001b[1mwandb\u001b[0m: \tnum_epochs: 20\n",
            "\u001b[34m\u001b[1mwandb\u001b[0m: \toptimizer: SGD\n"
          ]
        },
        {
          "output_type": "display_data",
          "data": {
            "text/plain": [
              "<IPython.core.display.HTML object>"
            ],
            "text/html": [
              "Ignoring project 'flowers102-cnn' when running a sweep."
            ]
          },
          "metadata": {}
        },
        {
          "output_type": "display_data",
          "data": {
            "text/plain": [
              "<IPython.core.display.HTML object>"
            ],
            "text/html": [
              "Tracking run with wandb version 0.19.9"
            ]
          },
          "metadata": {}
        },
        {
          "output_type": "display_data",
          "data": {
            "text/plain": [
              "<IPython.core.display.HTML object>"
            ],
            "text/html": [
              "Run data is saved locally in <code>/content/wandb/run-20250409_215726-4uky3owr</code>"
            ]
          },
          "metadata": {}
        },
        {
          "output_type": "display_data",
          "data": {
            "text/plain": [
              "<IPython.core.display.HTML object>"
            ],
            "text/html": [
              "Syncing run <strong><a href='https://wandb.ai/kicza/flowers102-cnn/runs/4uky3owr' target=\"_blank\">cerulean-sweep-12</a></strong> to <a href='https://wandb.ai/kicza/flowers102-cnn' target=\"_blank\">Weights & Biases</a> (<a href='https://wandb.me/developer-guide' target=\"_blank\">docs</a>)<br>Sweep page: <a href='https://wandb.ai/kicza/flowers102-cnn/sweeps/vr3xpu9o' target=\"_blank\">https://wandb.ai/kicza/flowers102-cnn/sweeps/vr3xpu9o</a>"
            ]
          },
          "metadata": {}
        },
        {
          "output_type": "display_data",
          "data": {
            "text/plain": [
              "<IPython.core.display.HTML object>"
            ],
            "text/html": [
              " View project at <a href='https://wandb.ai/kicza/flowers102-cnn' target=\"_blank\">https://wandb.ai/kicza/flowers102-cnn</a>"
            ]
          },
          "metadata": {}
        },
        {
          "output_type": "display_data",
          "data": {
            "text/plain": [
              "<IPython.core.display.HTML object>"
            ],
            "text/html": [
              " View sweep at <a href='https://wandb.ai/kicza/flowers102-cnn/sweeps/vr3xpu9o' target=\"_blank\">https://wandb.ai/kicza/flowers102-cnn/sweeps/vr3xpu9o</a>"
            ]
          },
          "metadata": {}
        },
        {
          "output_type": "display_data",
          "data": {
            "text/plain": [
              "<IPython.core.display.HTML object>"
            ],
            "text/html": [
              " View run at <a href='https://wandb.ai/kicza/flowers102-cnn/runs/4uky3owr' target=\"_blank\">https://wandb.ai/kicza/flowers102-cnn/runs/4uky3owr</a>"
            ]
          },
          "metadata": {}
        },
        {
          "output_type": "display_data",
          "data": {
            "text/plain": [
              "<IPython.core.display.HTML object>"
            ],
            "text/html": []
          },
          "metadata": {}
        },
        {
          "output_type": "display_data",
          "data": {
            "text/plain": [
              "<IPython.core.display.HTML object>"
            ],
            "text/html": [
              "<br>    <style><br>        .wandb-row {<br>            display: flex;<br>            flex-direction: row;<br>            flex-wrap: wrap;<br>            justify-content: flex-start;<br>            width: 100%;<br>        }<br>        .wandb-col {<br>            display: flex;<br>            flex-direction: column;<br>            flex-basis: 100%;<br>            flex: 1;<br>            padding: 10px;<br>        }<br>    </style><br><div class=\"wandb-row\"><div class=\"wandb-col\"><h3>Run history:</h3><br/><table class=\"wandb\"><tr><td>epoch</td><td>▁▁▂▂▂▃▃▄▄▄▅▅▅▆▆▇▇▇██</td></tr><tr><td>test_accuracy</td><td>▁</td></tr><tr><td>test_loss</td><td>▁</td></tr><tr><td>train_accuracy</td><td>▁▃▁▁▆▆▆▆▆▆▆▆████████</td></tr><tr><td>train_loss</td><td>█▇▅▄▃▂▂▂▁▁▁▁▁▁▁▁▁▁▁▁</td></tr><tr><td>val_accuracy</td><td>▁▅▅█████████████████</td></tr><tr><td>val_loss</td><td>█▆▅▃▂▂▁▁▁▁▁▁▁▁▁▁▁▁▁▁</td></tr></table><br/></div><div class=\"wandb-col\"><h3>Run summary:</h3><br/><table class=\"wandb\"><tr><td>epoch</td><td>20</td></tr><tr><td>test_accuracy</td><td>0.53667</td></tr><tr><td>test_loss</td><td>4.62107</td></tr><tr><td>train_accuracy</td><td>1.17647</td></tr><tr><td>train_loss</td><td>4.62283</td></tr><tr><td>val_accuracy</td><td>0.98039</td></tr><tr><td>val_loss</td><td>4.62424</td></tr></table><br/></div></div>"
            ]
          },
          "metadata": {}
        },
        {
          "output_type": "display_data",
          "data": {
            "text/plain": [
              "<IPython.core.display.HTML object>"
            ],
            "text/html": [
              " View run <strong style=\"color:#cdcd00\">cerulean-sweep-12</strong> at: <a href='https://wandb.ai/kicza/flowers102-cnn/runs/4uky3owr' target=\"_blank\">https://wandb.ai/kicza/flowers102-cnn/runs/4uky3owr</a><br> View project at: <a href='https://wandb.ai/kicza/flowers102-cnn' target=\"_blank\">https://wandb.ai/kicza/flowers102-cnn</a><br>Synced 5 W&B file(s), 0 media file(s), 0 artifact file(s) and 0 other file(s)"
            ]
          },
          "metadata": {}
        },
        {
          "output_type": "display_data",
          "data": {
            "text/plain": [
              "<IPython.core.display.HTML object>"
            ],
            "text/html": [
              "Find logs at: <code>./wandb/run-20250409_215726-4uky3owr/logs</code>"
            ]
          },
          "metadata": {}
        },
        {
          "output_type": "stream",
          "name": "stderr",
          "text": [
            "\u001b[34m\u001b[1mwandb\u001b[0m: Agent Starting Run: h9c4rtjx with config:\n",
            "\u001b[34m\u001b[1mwandb\u001b[0m: \tbatch_size: 64\n",
            "\u001b[34m\u001b[1mwandb\u001b[0m: \tlearning_rate: 0.0005743977300598621\n",
            "\u001b[34m\u001b[1mwandb\u001b[0m: \tnum_epochs: 20\n",
            "\u001b[34m\u001b[1mwandb\u001b[0m: \toptimizer: SGD\n"
          ]
        },
        {
          "output_type": "display_data",
          "data": {
            "text/plain": [
              "<IPython.core.display.HTML object>"
            ],
            "text/html": [
              "Ignoring project 'flowers102-cnn' when running a sweep."
            ]
          },
          "metadata": {}
        },
        {
          "output_type": "display_data",
          "data": {
            "text/plain": [
              "<IPython.core.display.HTML object>"
            ],
            "text/html": [
              "Tracking run with wandb version 0.19.9"
            ]
          },
          "metadata": {}
        },
        {
          "output_type": "display_data",
          "data": {
            "text/plain": [
              "<IPython.core.display.HTML object>"
            ],
            "text/html": [
              "Run data is saved locally in <code>/content/wandb/run-20250409_220219-h9c4rtjx</code>"
            ]
          },
          "metadata": {}
        },
        {
          "output_type": "display_data",
          "data": {
            "text/plain": [
              "<IPython.core.display.HTML object>"
            ],
            "text/html": [
              "Syncing run <strong><a href='https://wandb.ai/kicza/flowers102-cnn/runs/h9c4rtjx' target=\"_blank\">proud-sweep-13</a></strong> to <a href='https://wandb.ai/kicza/flowers102-cnn' target=\"_blank\">Weights & Biases</a> (<a href='https://wandb.me/developer-guide' target=\"_blank\">docs</a>)<br>Sweep page: <a href='https://wandb.ai/kicza/flowers102-cnn/sweeps/vr3xpu9o' target=\"_blank\">https://wandb.ai/kicza/flowers102-cnn/sweeps/vr3xpu9o</a>"
            ]
          },
          "metadata": {}
        },
        {
          "output_type": "display_data",
          "data": {
            "text/plain": [
              "<IPython.core.display.HTML object>"
            ],
            "text/html": [
              " View project at <a href='https://wandb.ai/kicza/flowers102-cnn' target=\"_blank\">https://wandb.ai/kicza/flowers102-cnn</a>"
            ]
          },
          "metadata": {}
        },
        {
          "output_type": "display_data",
          "data": {
            "text/plain": [
              "<IPython.core.display.HTML object>"
            ],
            "text/html": [
              " View sweep at <a href='https://wandb.ai/kicza/flowers102-cnn/sweeps/vr3xpu9o' target=\"_blank\">https://wandb.ai/kicza/flowers102-cnn/sweeps/vr3xpu9o</a>"
            ]
          },
          "metadata": {}
        },
        {
          "output_type": "display_data",
          "data": {
            "text/plain": [
              "<IPython.core.display.HTML object>"
            ],
            "text/html": [
              " View run at <a href='https://wandb.ai/kicza/flowers102-cnn/runs/h9c4rtjx' target=\"_blank\">https://wandb.ai/kicza/flowers102-cnn/runs/h9c4rtjx</a>"
            ]
          },
          "metadata": {}
        },
        {
          "output_type": "display_data",
          "data": {
            "text/plain": [
              "<IPython.core.display.HTML object>"
            ],
            "text/html": []
          },
          "metadata": {}
        },
        {
          "output_type": "display_data",
          "data": {
            "text/plain": [
              "<IPython.core.display.HTML object>"
            ],
            "text/html": [
              "<br>    <style><br>        .wandb-row {<br>            display: flex;<br>            flex-direction: row;<br>            flex-wrap: wrap;<br>            justify-content: flex-start;<br>            width: 100%;<br>        }<br>        .wandb-col {<br>            display: flex;<br>            flex-direction: column;<br>            flex-basis: 100%;<br>            flex: 1;<br>            padding: 10px;<br>        }<br>    </style><br><div class=\"wandb-row\"><div class=\"wandb-col\"><h3>Run history:</h3><br/><table class=\"wandb\"><tr><td>epoch</td><td>▁▁▂▂▂▃▃▄▄▄▅▅▅▆▆▇▇▇██</td></tr><tr><td>test_accuracy</td><td>▁</td></tr><tr><td>test_loss</td><td>▁</td></tr><tr><td>train_accuracy</td><td>▃▁▄▆█▆▆▇▇▇▇▇▇▇▇▇▇▇▇▇</td></tr><tr><td>train_loss</td><td>█▇▅▄▃▂▂▁▁▁▁▁▁▁▁▁▁▁▁▁</td></tr><tr><td>val_accuracy</td><td>▁▁▁▆████████████████</td></tr><tr><td>val_loss</td><td>█▆▅▃▂▂▂▁▁▁▁▁▁▁▁▁▁▁▁▁</td></tr></table><br/></div><div class=\"wandb-col\"><h3>Run summary:</h3><br/><table class=\"wandb\"><tr><td>epoch</td><td>20</td></tr><tr><td>test_accuracy</td><td>1.62628</td></tr><tr><td>test_loss</td><td>4.63156</td></tr><tr><td>train_accuracy</td><td>1.56863</td></tr><tr><td>train_loss</td><td>4.61758</td></tr><tr><td>val_accuracy</td><td>0.98039</td></tr><tr><td>val_loss</td><td>4.62147</td></tr></table><br/></div></div>"
            ]
          },
          "metadata": {}
        },
        {
          "output_type": "display_data",
          "data": {
            "text/plain": [
              "<IPython.core.display.HTML object>"
            ],
            "text/html": [
              " View run <strong style=\"color:#cdcd00\">proud-sweep-13</strong> at: <a href='https://wandb.ai/kicza/flowers102-cnn/runs/h9c4rtjx' target=\"_blank\">https://wandb.ai/kicza/flowers102-cnn/runs/h9c4rtjx</a><br> View project at: <a href='https://wandb.ai/kicza/flowers102-cnn' target=\"_blank\">https://wandb.ai/kicza/flowers102-cnn</a><br>Synced 5 W&B file(s), 0 media file(s), 0 artifact file(s) and 0 other file(s)"
            ]
          },
          "metadata": {}
        },
        {
          "output_type": "display_data",
          "data": {
            "text/plain": [
              "<IPython.core.display.HTML object>"
            ],
            "text/html": [
              "Find logs at: <code>./wandb/run-20250409_220219-h9c4rtjx/logs</code>"
            ]
          },
          "metadata": {}
        },
        {
          "output_type": "stream",
          "name": "stderr",
          "text": [
            "\u001b[34m\u001b[1mwandb\u001b[0m: Sweep Agent: Waiting for job.\n",
            "\u001b[34m\u001b[1mwandb\u001b[0m: Job received.\n",
            "\u001b[34m\u001b[1mwandb\u001b[0m: Agent Starting Run: h95yr8h0 with config:\n",
            "\u001b[34m\u001b[1mwandb\u001b[0m: \tbatch_size: 64\n",
            "\u001b[34m\u001b[1mwandb\u001b[0m: \tlearning_rate: 0.0005566669489973419\n",
            "\u001b[34m\u001b[1mwandb\u001b[0m: \tnum_epochs: 20\n",
            "\u001b[34m\u001b[1mwandb\u001b[0m: \toptimizer: SGD\n"
          ]
        },
        {
          "output_type": "display_data",
          "data": {
            "text/plain": [
              "<IPython.core.display.HTML object>"
            ],
            "text/html": [
              "Ignoring project 'flowers102-cnn' when running a sweep."
            ]
          },
          "metadata": {}
        },
        {
          "output_type": "display_data",
          "data": {
            "text/plain": [
              "<IPython.core.display.HTML object>"
            ],
            "text/html": [
              "Tracking run with wandb version 0.19.9"
            ]
          },
          "metadata": {}
        },
        {
          "output_type": "display_data",
          "data": {
            "text/plain": [
              "<IPython.core.display.HTML object>"
            ],
            "text/html": [
              "Run data is saved locally in <code>/content/wandb/run-20250409_220813-h95yr8h0</code>"
            ]
          },
          "metadata": {}
        },
        {
          "output_type": "display_data",
          "data": {
            "text/plain": [
              "<IPython.core.display.HTML object>"
            ],
            "text/html": [
              "Syncing run <strong><a href='https://wandb.ai/kicza/flowers102-cnn/runs/h95yr8h0' target=\"_blank\">logical-sweep-14</a></strong> to <a href='https://wandb.ai/kicza/flowers102-cnn' target=\"_blank\">Weights & Biases</a> (<a href='https://wandb.me/developer-guide' target=\"_blank\">docs</a>)<br>Sweep page: <a href='https://wandb.ai/kicza/flowers102-cnn/sweeps/vr3xpu9o' target=\"_blank\">https://wandb.ai/kicza/flowers102-cnn/sweeps/vr3xpu9o</a>"
            ]
          },
          "metadata": {}
        },
        {
          "output_type": "display_data",
          "data": {
            "text/plain": [
              "<IPython.core.display.HTML object>"
            ],
            "text/html": [
              " View project at <a href='https://wandb.ai/kicza/flowers102-cnn' target=\"_blank\">https://wandb.ai/kicza/flowers102-cnn</a>"
            ]
          },
          "metadata": {}
        },
        {
          "output_type": "display_data",
          "data": {
            "text/plain": [
              "<IPython.core.display.HTML object>"
            ],
            "text/html": [
              " View sweep at <a href='https://wandb.ai/kicza/flowers102-cnn/sweeps/vr3xpu9o' target=\"_blank\">https://wandb.ai/kicza/flowers102-cnn/sweeps/vr3xpu9o</a>"
            ]
          },
          "metadata": {}
        },
        {
          "output_type": "display_data",
          "data": {
            "text/plain": [
              "<IPython.core.display.HTML object>"
            ],
            "text/html": [
              " View run at <a href='https://wandb.ai/kicza/flowers102-cnn/runs/h95yr8h0' target=\"_blank\">https://wandb.ai/kicza/flowers102-cnn/runs/h95yr8h0</a>"
            ]
          },
          "metadata": {}
        },
        {
          "output_type": "display_data",
          "data": {
            "text/plain": [
              "<IPython.core.display.HTML object>"
            ],
            "text/html": []
          },
          "metadata": {}
        },
        {
          "output_type": "display_data",
          "data": {
            "text/plain": [
              "<IPython.core.display.HTML object>"
            ],
            "text/html": [
              "<br>    <style><br>        .wandb-row {<br>            display: flex;<br>            flex-direction: row;<br>            flex-wrap: wrap;<br>            justify-content: flex-start;<br>            width: 100%;<br>        }<br>        .wandb-col {<br>            display: flex;<br>            flex-direction: column;<br>            flex-basis: 100%;<br>            flex: 1;<br>            padding: 10px;<br>        }<br>    </style><br><div class=\"wandb-row\"><div class=\"wandb-col\"><h3>Run history:</h3><br/><table class=\"wandb\"><tr><td>epoch</td><td>▁▁▂▂▂▃▃▄▄▄▅▅▅▆▆▇▇▇██</td></tr><tr><td>test_accuracy</td><td>▁</td></tr><tr><td>test_loss</td><td>▁</td></tr><tr><td>train_accuracy</td><td>▁▆▄▇████████████████</td></tr><tr><td>train_loss</td><td>█▇▅▄▃▂▂▁▁▁▁▁▁▁▁▁▁▁▁▁</td></tr><tr><td>val_accuracy</td><td>▁▂▄▄▄▆▆▆▇▇▇▇▇███████</td></tr><tr><td>val_loss</td><td>█▆▅▃▂▂▁▁▁▁▁▁▁▁▁▁▁▁▁▁</td></tr></table><br/></div><div class=\"wandb-col\"><h3>Run summary:</h3><br/><table class=\"wandb\"><tr><td>epoch</td><td>20</td></tr><tr><td>test_accuracy</td><td>0.91072</td></tr><tr><td>test_loss</td><td>4.62553</td></tr><tr><td>train_accuracy</td><td>1.56863</td></tr><tr><td>train_loss</td><td>4.61768</td></tr><tr><td>val_accuracy</td><td>1.76471</td></tr><tr><td>val_loss</td><td>4.6212</td></tr></table><br/></div></div>"
            ]
          },
          "metadata": {}
        },
        {
          "output_type": "display_data",
          "data": {
            "text/plain": [
              "<IPython.core.display.HTML object>"
            ],
            "text/html": [
              " View run <strong style=\"color:#cdcd00\">logical-sweep-14</strong> at: <a href='https://wandb.ai/kicza/flowers102-cnn/runs/h95yr8h0' target=\"_blank\">https://wandb.ai/kicza/flowers102-cnn/runs/h95yr8h0</a><br> View project at: <a href='https://wandb.ai/kicza/flowers102-cnn' target=\"_blank\">https://wandb.ai/kicza/flowers102-cnn</a><br>Synced 5 W&B file(s), 0 media file(s), 0 artifact file(s) and 0 other file(s)"
            ]
          },
          "metadata": {}
        },
        {
          "output_type": "display_data",
          "data": {
            "text/plain": [
              "<IPython.core.display.HTML object>"
            ],
            "text/html": [
              "Find logs at: <code>./wandb/run-20250409_220813-h95yr8h0/logs</code>"
            ]
          },
          "metadata": {}
        },
        {
          "output_type": "stream",
          "name": "stderr",
          "text": [
            "\u001b[34m\u001b[1mwandb\u001b[0m: Agent Starting Run: 15foqroz with config:\n",
            "\u001b[34m\u001b[1mwandb\u001b[0m: \tbatch_size: 64\n",
            "\u001b[34m\u001b[1mwandb\u001b[0m: \tlearning_rate: 0.0009619985771814636\n",
            "\u001b[34m\u001b[1mwandb\u001b[0m: \tnum_epochs: 20\n",
            "\u001b[34m\u001b[1mwandb\u001b[0m: \toptimizer: Adam\n"
          ]
        },
        {
          "output_type": "display_data",
          "data": {
            "text/plain": [
              "<IPython.core.display.HTML object>"
            ],
            "text/html": [
              "Ignoring project 'flowers102-cnn' when running a sweep."
            ]
          },
          "metadata": {}
        },
        {
          "output_type": "display_data",
          "data": {
            "text/plain": [
              "<IPython.core.display.HTML object>"
            ],
            "text/html": [
              "Tracking run with wandb version 0.19.9"
            ]
          },
          "metadata": {}
        },
        {
          "output_type": "display_data",
          "data": {
            "text/plain": [
              "<IPython.core.display.HTML object>"
            ],
            "text/html": [
              "Run data is saved locally in <code>/content/wandb/run-20250409_221309-15foqroz</code>"
            ]
          },
          "metadata": {}
        },
        {
          "output_type": "display_data",
          "data": {
            "text/plain": [
              "<IPython.core.display.HTML object>"
            ],
            "text/html": [
              "Syncing run <strong><a href='https://wandb.ai/kicza/flowers102-cnn/runs/15foqroz' target=\"_blank\">cosmic-sweep-15</a></strong> to <a href='https://wandb.ai/kicza/flowers102-cnn' target=\"_blank\">Weights & Biases</a> (<a href='https://wandb.me/developer-guide' target=\"_blank\">docs</a>)<br>Sweep page: <a href='https://wandb.ai/kicza/flowers102-cnn/sweeps/vr3xpu9o' target=\"_blank\">https://wandb.ai/kicza/flowers102-cnn/sweeps/vr3xpu9o</a>"
            ]
          },
          "metadata": {}
        },
        {
          "output_type": "display_data",
          "data": {
            "text/plain": [
              "<IPython.core.display.HTML object>"
            ],
            "text/html": [
              " View project at <a href='https://wandb.ai/kicza/flowers102-cnn' target=\"_blank\">https://wandb.ai/kicza/flowers102-cnn</a>"
            ]
          },
          "metadata": {}
        },
        {
          "output_type": "display_data",
          "data": {
            "text/plain": [
              "<IPython.core.display.HTML object>"
            ],
            "text/html": [
              " View sweep at <a href='https://wandb.ai/kicza/flowers102-cnn/sweeps/vr3xpu9o' target=\"_blank\">https://wandb.ai/kicza/flowers102-cnn/sweeps/vr3xpu9o</a>"
            ]
          },
          "metadata": {}
        },
        {
          "output_type": "display_data",
          "data": {
            "text/plain": [
              "<IPython.core.display.HTML object>"
            ],
            "text/html": [
              " View run at <a href='https://wandb.ai/kicza/flowers102-cnn/runs/15foqroz' target=\"_blank\">https://wandb.ai/kicza/flowers102-cnn/runs/15foqroz</a>"
            ]
          },
          "metadata": {}
        },
        {
          "output_type": "stream",
          "name": "stdout",
          "text": [
            "Early stopping at epoch 11\n"
          ]
        },
        {
          "output_type": "display_data",
          "data": {
            "text/plain": [
              "<IPython.core.display.HTML object>"
            ],
            "text/html": []
          },
          "metadata": {}
        },
        {
          "output_type": "display_data",
          "data": {
            "text/plain": [
              "<IPython.core.display.HTML object>"
            ],
            "text/html": [
              "<br>    <style><br>        .wandb-row {<br>            display: flex;<br>            flex-direction: row;<br>            flex-wrap: wrap;<br>            justify-content: flex-start;<br>            width: 100%;<br>        }<br>        .wandb-col {<br>            display: flex;<br>            flex-direction: column;<br>            flex-basis: 100%;<br>            flex: 1;<br>            padding: 10px;<br>        }<br>    </style><br><div class=\"wandb-row\"><div class=\"wandb-col\"><h3>Run history:</h3><br/><table class=\"wandb\"><tr><td>epoch</td><td>▁▂▂▃▄▅▅▆▇▇█</td></tr><tr><td>test_accuracy</td><td>▁</td></tr><tr><td>test_loss</td><td>▁</td></tr><tr><td>train_accuracy</td><td>▁▁▁▂▄▆▇▇███</td></tr><tr><td>train_loss</td><td>█▇▇▅▄▂▂▂▁▁▁</td></tr><tr><td>val_accuracy</td><td>▁▂▃▅▆▇█████</td></tr><tr><td>val_loss</td><td>█▇▄▁▃▁▁▂▃▃▄</td></tr></table><br/></div><div class=\"wandb-col\"><h3>Run summary:</h3><br/><table class=\"wandb\"><tr><td>epoch</td><td>11</td></tr><tr><td>test_accuracy</td><td>13.17287</td></tr><tr><td>test_loss</td><td>4.42766</td></tr><tr><td>train_accuracy</td><td>85.09804</td></tr><tr><td>train_loss</td><td>0.88369</td></tr><tr><td>val_accuracy</td><td>16.37255</td></tr><tr><td>val_loss</td><td>4.22063</td></tr></table><br/></div></div>"
            ]
          },
          "metadata": {}
        },
        {
          "output_type": "display_data",
          "data": {
            "text/plain": [
              "<IPython.core.display.HTML object>"
            ],
            "text/html": [
              " View run <strong style=\"color:#cdcd00\">cosmic-sweep-15</strong> at: <a href='https://wandb.ai/kicza/flowers102-cnn/runs/15foqroz' target=\"_blank\">https://wandb.ai/kicza/flowers102-cnn/runs/15foqroz</a><br> View project at: <a href='https://wandb.ai/kicza/flowers102-cnn' target=\"_blank\">https://wandb.ai/kicza/flowers102-cnn</a><br>Synced 5 W&B file(s), 0 media file(s), 0 artifact file(s) and 0 other file(s)"
            ]
          },
          "metadata": {}
        },
        {
          "output_type": "display_data",
          "data": {
            "text/plain": [
              "<IPython.core.display.HTML object>"
            ],
            "text/html": [
              "Find logs at: <code>./wandb/run-20250409_221309-15foqroz/logs</code>"
            ]
          },
          "metadata": {}
        },
        {
          "output_type": "stream",
          "name": "stderr",
          "text": [
            "\u001b[34m\u001b[1mwandb\u001b[0m: Agent Starting Run: kwcjcabl with config:\n",
            "\u001b[34m\u001b[1mwandb\u001b[0m: \tbatch_size: 64\n",
            "\u001b[34m\u001b[1mwandb\u001b[0m: \tlearning_rate: 0.000942188467343355\n",
            "\u001b[34m\u001b[1mwandb\u001b[0m: \tnum_epochs: 20\n",
            "\u001b[34m\u001b[1mwandb\u001b[0m: \toptimizer: Adam\n"
          ]
        },
        {
          "output_type": "display_data",
          "data": {
            "text/plain": [
              "<IPython.core.display.HTML object>"
            ],
            "text/html": [
              "Ignoring project 'flowers102-cnn' when running a sweep."
            ]
          },
          "metadata": {}
        },
        {
          "output_type": "display_data",
          "data": {
            "text/plain": [
              "<IPython.core.display.HTML object>"
            ],
            "text/html": [
              "Tracking run with wandb version 0.19.9"
            ]
          },
          "metadata": {}
        },
        {
          "output_type": "display_data",
          "data": {
            "text/plain": [
              "<IPython.core.display.HTML object>"
            ],
            "text/html": [
              "Run data is saved locally in <code>/content/wandb/run-20250409_221607-kwcjcabl</code>"
            ]
          },
          "metadata": {}
        },
        {
          "output_type": "display_data",
          "data": {
            "text/plain": [
              "<IPython.core.display.HTML object>"
            ],
            "text/html": [
              "Syncing run <strong><a href='https://wandb.ai/kicza/flowers102-cnn/runs/kwcjcabl' target=\"_blank\">ancient-sweep-16</a></strong> to <a href='https://wandb.ai/kicza/flowers102-cnn' target=\"_blank\">Weights & Biases</a> (<a href='https://wandb.me/developer-guide' target=\"_blank\">docs</a>)<br>Sweep page: <a href='https://wandb.ai/kicza/flowers102-cnn/sweeps/vr3xpu9o' target=\"_blank\">https://wandb.ai/kicza/flowers102-cnn/sweeps/vr3xpu9o</a>"
            ]
          },
          "metadata": {}
        },
        {
          "output_type": "display_data",
          "data": {
            "text/plain": [
              "<IPython.core.display.HTML object>"
            ],
            "text/html": [
              " View project at <a href='https://wandb.ai/kicza/flowers102-cnn' target=\"_blank\">https://wandb.ai/kicza/flowers102-cnn</a>"
            ]
          },
          "metadata": {}
        },
        {
          "output_type": "display_data",
          "data": {
            "text/plain": [
              "<IPython.core.display.HTML object>"
            ],
            "text/html": [
              " View sweep at <a href='https://wandb.ai/kicza/flowers102-cnn/sweeps/vr3xpu9o' target=\"_blank\">https://wandb.ai/kicza/flowers102-cnn/sweeps/vr3xpu9o</a>"
            ]
          },
          "metadata": {}
        },
        {
          "output_type": "display_data",
          "data": {
            "text/plain": [
              "<IPython.core.display.HTML object>"
            ],
            "text/html": [
              " View run at <a href='https://wandb.ai/kicza/flowers102-cnn/runs/kwcjcabl' target=\"_blank\">https://wandb.ai/kicza/flowers102-cnn/runs/kwcjcabl</a>"
            ]
          },
          "metadata": {}
        },
        {
          "output_type": "stream",
          "name": "stdout",
          "text": [
            "Early stopping at epoch 12\n"
          ]
        },
        {
          "output_type": "display_data",
          "data": {
            "text/plain": [
              "<IPython.core.display.HTML object>"
            ],
            "text/html": []
          },
          "metadata": {}
        },
        {
          "output_type": "display_data",
          "data": {
            "text/plain": [
              "<IPython.core.display.HTML object>"
            ],
            "text/html": [
              "<br>    <style><br>        .wandb-row {<br>            display: flex;<br>            flex-direction: row;<br>            flex-wrap: wrap;<br>            justify-content: flex-start;<br>            width: 100%;<br>        }<br>        .wandb-col {<br>            display: flex;<br>            flex-direction: column;<br>            flex-basis: 100%;<br>            flex: 1;<br>            padding: 10px;<br>        }<br>    </style><br><div class=\"wandb-row\"><div class=\"wandb-col\"><h3>Run history:</h3><br/><table class=\"wandb\"><tr><td>epoch</td><td>▁▂▂▃▄▄▅▅▆▇▇█</td></tr><tr><td>test_accuracy</td><td>▁</td></tr><tr><td>test_loss</td><td>▁</td></tr><tr><td>train_accuracy</td><td>▁▁▂▂▄▆▇▇▇███</td></tr><tr><td>train_loss</td><td>█▇▇▆▄▃▂▂▁▁▁▁</td></tr><tr><td>val_accuracy</td><td>▁▂▄▅▆▇██████</td></tr><tr><td>val_loss</td><td>█▇▅▃▄▁▁▂▂▃▃▃</td></tr></table><br/></div><div class=\"wandb-col\"><h3>Run summary:</h3><br/><table class=\"wandb\"><tr><td>epoch</td><td>12</td></tr><tr><td>test_accuracy</td><td>14.44137</td></tr><tr><td>test_loss</td><td>4.34527</td></tr><tr><td>train_accuracy</td><td>83.82353</td></tr><tr><td>train_loss</td><td>0.91744</td></tr><tr><td>val_accuracy</td><td>15</td></tr><tr><td>val_loss</td><td>4.12725</td></tr></table><br/></div></div>"
            ]
          },
          "metadata": {}
        },
        {
          "output_type": "display_data",
          "data": {
            "text/plain": [
              "<IPython.core.display.HTML object>"
            ],
            "text/html": [
              " View run <strong style=\"color:#cdcd00\">ancient-sweep-16</strong> at: <a href='https://wandb.ai/kicza/flowers102-cnn/runs/kwcjcabl' target=\"_blank\">https://wandb.ai/kicza/flowers102-cnn/runs/kwcjcabl</a><br> View project at: <a href='https://wandb.ai/kicza/flowers102-cnn' target=\"_blank\">https://wandb.ai/kicza/flowers102-cnn</a><br>Synced 5 W&B file(s), 0 media file(s), 0 artifact file(s) and 0 other file(s)"
            ]
          },
          "metadata": {}
        },
        {
          "output_type": "display_data",
          "data": {
            "text/plain": [
              "<IPython.core.display.HTML object>"
            ],
            "text/html": [
              "Find logs at: <code>./wandb/run-20250409_221607-kwcjcabl/logs</code>"
            ]
          },
          "metadata": {}
        },
        {
          "output_type": "stream",
          "name": "stderr",
          "text": [
            "\u001b[34m\u001b[1mwandb\u001b[0m: Agent Starting Run: v82a89ne with config:\n",
            "\u001b[34m\u001b[1mwandb\u001b[0m: \tbatch_size: 64\n",
            "\u001b[34m\u001b[1mwandb\u001b[0m: \tlearning_rate: 0.0009919371362704752\n",
            "\u001b[34m\u001b[1mwandb\u001b[0m: \tnum_epochs: 20\n",
            "\u001b[34m\u001b[1mwandb\u001b[0m: \toptimizer: SGD\n"
          ]
        },
        {
          "output_type": "display_data",
          "data": {
            "text/plain": [
              "<IPython.core.display.HTML object>"
            ],
            "text/html": [
              "Ignoring project 'flowers102-cnn' when running a sweep."
            ]
          },
          "metadata": {}
        },
        {
          "output_type": "display_data",
          "data": {
            "text/plain": [
              "<IPython.core.display.HTML object>"
            ],
            "text/html": [
              "Tracking run with wandb version 0.19.9"
            ]
          },
          "metadata": {}
        },
        {
          "output_type": "display_data",
          "data": {
            "text/plain": [
              "<IPython.core.display.HTML object>"
            ],
            "text/html": [
              "Run data is saved locally in <code>/content/wandb/run-20250409_221923-v82a89ne</code>"
            ]
          },
          "metadata": {}
        },
        {
          "output_type": "display_data",
          "data": {
            "text/plain": [
              "<IPython.core.display.HTML object>"
            ],
            "text/html": [
              "Syncing run <strong><a href='https://wandb.ai/kicza/flowers102-cnn/runs/v82a89ne' target=\"_blank\">royal-sweep-17</a></strong> to <a href='https://wandb.ai/kicza/flowers102-cnn' target=\"_blank\">Weights & Biases</a> (<a href='https://wandb.me/developer-guide' target=\"_blank\">docs</a>)<br>Sweep page: <a href='https://wandb.ai/kicza/flowers102-cnn/sweeps/vr3xpu9o' target=\"_blank\">https://wandb.ai/kicza/flowers102-cnn/sweeps/vr3xpu9o</a>"
            ]
          },
          "metadata": {}
        },
        {
          "output_type": "display_data",
          "data": {
            "text/plain": [
              "<IPython.core.display.HTML object>"
            ],
            "text/html": [
              " View project at <a href='https://wandb.ai/kicza/flowers102-cnn' target=\"_blank\">https://wandb.ai/kicza/flowers102-cnn</a>"
            ]
          },
          "metadata": {}
        },
        {
          "output_type": "display_data",
          "data": {
            "text/plain": [
              "<IPython.core.display.HTML object>"
            ],
            "text/html": [
              " View sweep at <a href='https://wandb.ai/kicza/flowers102-cnn/sweeps/vr3xpu9o' target=\"_blank\">https://wandb.ai/kicza/flowers102-cnn/sweeps/vr3xpu9o</a>"
            ]
          },
          "metadata": {}
        },
        {
          "output_type": "display_data",
          "data": {
            "text/plain": [
              "<IPython.core.display.HTML object>"
            ],
            "text/html": [
              " View run at <a href='https://wandb.ai/kicza/flowers102-cnn/runs/v82a89ne' target=\"_blank\">https://wandb.ai/kicza/flowers102-cnn/runs/v82a89ne</a>"
            ]
          },
          "metadata": {}
        },
        {
          "output_type": "display_data",
          "data": {
            "text/plain": [
              "<IPython.core.display.HTML object>"
            ],
            "text/html": []
          },
          "metadata": {}
        },
        {
          "output_type": "display_data",
          "data": {
            "text/plain": [
              "<IPython.core.display.HTML object>"
            ],
            "text/html": [
              "<br>    <style><br>        .wandb-row {<br>            display: flex;<br>            flex-direction: row;<br>            flex-wrap: wrap;<br>            justify-content: flex-start;<br>            width: 100%;<br>        }<br>        .wandb-col {<br>            display: flex;<br>            flex-direction: column;<br>            flex-basis: 100%;<br>            flex: 1;<br>            padding: 10px;<br>        }<br>    </style><br><div class=\"wandb-row\"><div class=\"wandb-col\"><h3>Run history:</h3><br/><table class=\"wandb\"><tr><td>epoch</td><td>▁▁▂▂▂▃▃▄▄▄▅▅▅▆▆▇▇▇██</td></tr><tr><td>test_accuracy</td><td>▁</td></tr><tr><td>test_loss</td><td>▁</td></tr><tr><td>train_accuracy</td><td>▁▇▄▂█▅▅▅▅▅▅▅▅▅▅▅▅▅▅▅</td></tr><tr><td>train_loss</td><td>█▇▅▄▃▂▂▁▁▁▁▁▁▁▁▁▁▁▁▁</td></tr><tr><td>val_accuracy</td><td>▅█▅█▁▁▁▅▅▅▅▅▅▅▅▅▅▅▅▅</td></tr><tr><td>val_loss</td><td>█▆▅▃▂▂▂▁▁▁▁▁▁▁▁▁▁▁▁▁</td></tr></table><br/></div><div class=\"wandb-col\"><h3>Run summary:</h3><br/><table class=\"wandb\"><tr><td>epoch</td><td>20</td></tr><tr><td>test_accuracy</td><td>1.47992</td></tr><tr><td>test_loss</td><td>4.62943</td></tr><tr><td>train_accuracy</td><td>1.27451</td></tr><tr><td>train_loss</td><td>4.62052</td></tr><tr><td>val_accuracy</td><td>0.58824</td></tr><tr><td>val_loss</td><td>4.62345</td></tr></table><br/></div></div>"
            ]
          },
          "metadata": {}
        },
        {
          "output_type": "display_data",
          "data": {
            "text/plain": [
              "<IPython.core.display.HTML object>"
            ],
            "text/html": [
              " View run <strong style=\"color:#cdcd00\">royal-sweep-17</strong> at: <a href='https://wandb.ai/kicza/flowers102-cnn/runs/v82a89ne' target=\"_blank\">https://wandb.ai/kicza/flowers102-cnn/runs/v82a89ne</a><br> View project at: <a href='https://wandb.ai/kicza/flowers102-cnn' target=\"_blank\">https://wandb.ai/kicza/flowers102-cnn</a><br>Synced 5 W&B file(s), 0 media file(s), 0 artifact file(s) and 0 other file(s)"
            ]
          },
          "metadata": {}
        },
        {
          "output_type": "display_data",
          "data": {
            "text/plain": [
              "<IPython.core.display.HTML object>"
            ],
            "text/html": [
              "Find logs at: <code>./wandb/run-20250409_221923-v82a89ne/logs</code>"
            ]
          },
          "metadata": {}
        },
        {
          "output_type": "stream",
          "name": "stderr",
          "text": [
            "\u001b[34m\u001b[1mwandb\u001b[0m: Agent Starting Run: hwi6ofk4 with config:\n",
            "\u001b[34m\u001b[1mwandb\u001b[0m: \tbatch_size: 64\n",
            "\u001b[34m\u001b[1mwandb\u001b[0m: \tlearning_rate: 0.0009934467941463024\n",
            "\u001b[34m\u001b[1mwandb\u001b[0m: \tnum_epochs: 20\n",
            "\u001b[34m\u001b[1mwandb\u001b[0m: \toptimizer: SGD\n"
          ]
        },
        {
          "output_type": "display_data",
          "data": {
            "text/plain": [
              "<IPython.core.display.HTML object>"
            ],
            "text/html": [
              "Ignoring project 'flowers102-cnn' when running a sweep."
            ]
          },
          "metadata": {}
        },
        {
          "output_type": "display_data",
          "data": {
            "text/plain": [
              "<IPython.core.display.HTML object>"
            ],
            "text/html": [
              "Tracking run with wandb version 0.19.9"
            ]
          },
          "metadata": {}
        },
        {
          "output_type": "display_data",
          "data": {
            "text/plain": [
              "<IPython.core.display.HTML object>"
            ],
            "text/html": [
              "Run data is saved locally in <code>/content/wandb/run-20250409_222421-hwi6ofk4</code>"
            ]
          },
          "metadata": {}
        },
        {
          "output_type": "display_data",
          "data": {
            "text/plain": [
              "<IPython.core.display.HTML object>"
            ],
            "text/html": [
              "Syncing run <strong><a href='https://wandb.ai/kicza/flowers102-cnn/runs/hwi6ofk4' target=\"_blank\">magic-sweep-18</a></strong> to <a href='https://wandb.ai/kicza/flowers102-cnn' target=\"_blank\">Weights & Biases</a> (<a href='https://wandb.me/developer-guide' target=\"_blank\">docs</a>)<br>Sweep page: <a href='https://wandb.ai/kicza/flowers102-cnn/sweeps/vr3xpu9o' target=\"_blank\">https://wandb.ai/kicza/flowers102-cnn/sweeps/vr3xpu9o</a>"
            ]
          },
          "metadata": {}
        },
        {
          "output_type": "display_data",
          "data": {
            "text/plain": [
              "<IPython.core.display.HTML object>"
            ],
            "text/html": [
              " View project at <a href='https://wandb.ai/kicza/flowers102-cnn' target=\"_blank\">https://wandb.ai/kicza/flowers102-cnn</a>"
            ]
          },
          "metadata": {}
        },
        {
          "output_type": "display_data",
          "data": {
            "text/plain": [
              "<IPython.core.display.HTML object>"
            ],
            "text/html": [
              " View sweep at <a href='https://wandb.ai/kicza/flowers102-cnn/sweeps/vr3xpu9o' target=\"_blank\">https://wandb.ai/kicza/flowers102-cnn/sweeps/vr3xpu9o</a>"
            ]
          },
          "metadata": {}
        },
        {
          "output_type": "display_data",
          "data": {
            "text/plain": [
              "<IPython.core.display.HTML object>"
            ],
            "text/html": [
              " View run at <a href='https://wandb.ai/kicza/flowers102-cnn/runs/hwi6ofk4' target=\"_blank\">https://wandb.ai/kicza/flowers102-cnn/runs/hwi6ofk4</a>"
            ]
          },
          "metadata": {}
        },
        {
          "output_type": "display_data",
          "data": {
            "text/plain": [
              "<IPython.core.display.HTML object>"
            ],
            "text/html": []
          },
          "metadata": {}
        },
        {
          "output_type": "display_data",
          "data": {
            "text/plain": [
              "<IPython.core.display.HTML object>"
            ],
            "text/html": [
              "<br>    <style><br>        .wandb-row {<br>            display: flex;<br>            flex-direction: row;<br>            flex-wrap: wrap;<br>            justify-content: flex-start;<br>            width: 100%;<br>        }<br>        .wandb-col {<br>            display: flex;<br>            flex-direction: column;<br>            flex-basis: 100%;<br>            flex: 1;<br>            padding: 10px;<br>        }<br>    </style><br><div class=\"wandb-row\"><div class=\"wandb-col\"><h3>Run history:</h3><br/><table class=\"wandb\"><tr><td>epoch</td><td>▁▁▂▂▂▃▃▄▄▄▅▅▅▆▆▇▇▇██</td></tr><tr><td>test_accuracy</td><td>▁</td></tr><tr><td>test_loss</td><td>▁</td></tr><tr><td>train_accuracy</td><td>▁▂▃▅█▆▇█████████████</td></tr><tr><td>train_loss</td><td>█▇▅▄▃▂▂▁▁▁▁▁▁▁▁▁▁▁▁▁</td></tr><tr><td>val_accuracy</td><td>█▅▂▁▂▂▂▂▂▂▂▂▂▂▂▂▂▂▂▂</td></tr><tr><td>val_loss</td><td>█▆▅▃▂▂▂▁▁▁▁▁▁▁▁▁▁▁▁▁</td></tr></table><br/></div><div class=\"wandb-col\"><h3>Run summary:</h3><br/><table class=\"wandb\"><tr><td>epoch</td><td>20</td></tr><tr><td>test_accuracy</td><td>1.31729</td></tr><tr><td>test_loss</td><td>4.62478</td></tr><tr><td>train_accuracy</td><td>1.66667</td></tr><tr><td>train_loss</td><td>4.61929</td></tr><tr><td>val_accuracy</td><td>1.17647</td></tr><tr><td>val_loss</td><td>4.62326</td></tr></table><br/></div></div>"
            ]
          },
          "metadata": {}
        },
        {
          "output_type": "display_data",
          "data": {
            "text/plain": [
              "<IPython.core.display.HTML object>"
            ],
            "text/html": [
              " View run <strong style=\"color:#cdcd00\">magic-sweep-18</strong> at: <a href='https://wandb.ai/kicza/flowers102-cnn/runs/hwi6ofk4' target=\"_blank\">https://wandb.ai/kicza/flowers102-cnn/runs/hwi6ofk4</a><br> View project at: <a href='https://wandb.ai/kicza/flowers102-cnn' target=\"_blank\">https://wandb.ai/kicza/flowers102-cnn</a><br>Synced 5 W&B file(s), 0 media file(s), 0 artifact file(s) and 0 other file(s)"
            ]
          },
          "metadata": {}
        },
        {
          "output_type": "display_data",
          "data": {
            "text/plain": [
              "<IPython.core.display.HTML object>"
            ],
            "text/html": [
              "Find logs at: <code>./wandb/run-20250409_222421-hwi6ofk4/logs</code>"
            ]
          },
          "metadata": {}
        },
        {
          "output_type": "stream",
          "name": "stderr",
          "text": [
            "\u001b[34m\u001b[1mwandb\u001b[0m: Sweep Agent: Waiting for job.\n",
            "\u001b[34m\u001b[1mwandb\u001b[0m: Job received.\n",
            "\u001b[34m\u001b[1mwandb\u001b[0m: Agent Starting Run: a8mjzdo5 with config:\n",
            "\u001b[34m\u001b[1mwandb\u001b[0m: \tbatch_size: 32\n",
            "\u001b[34m\u001b[1mwandb\u001b[0m: \tlearning_rate: 0.0005924126640116611\n",
            "\u001b[34m\u001b[1mwandb\u001b[0m: \tnum_epochs: 20\n",
            "\u001b[34m\u001b[1mwandb\u001b[0m: \toptimizer: Adam\n"
          ]
        },
        {
          "output_type": "display_data",
          "data": {
            "text/plain": [
              "<IPython.core.display.HTML object>"
            ],
            "text/html": [
              "Ignoring project 'flowers102-cnn' when running a sweep."
            ]
          },
          "metadata": {}
        },
        {
          "output_type": "display_data",
          "data": {
            "text/plain": [
              "<IPython.core.display.HTML object>"
            ],
            "text/html": [
              "Tracking run with wandb version 0.19.9"
            ]
          },
          "metadata": {}
        },
        {
          "output_type": "display_data",
          "data": {
            "text/plain": [
              "<IPython.core.display.HTML object>"
            ],
            "text/html": [
              "Run data is saved locally in <code>/content/wandb/run-20250409_222923-a8mjzdo5</code>"
            ]
          },
          "metadata": {}
        },
        {
          "output_type": "display_data",
          "data": {
            "text/plain": [
              "<IPython.core.display.HTML object>"
            ],
            "text/html": [
              "Syncing run <strong><a href='https://wandb.ai/kicza/flowers102-cnn/runs/a8mjzdo5' target=\"_blank\">vague-sweep-19</a></strong> to <a href='https://wandb.ai/kicza/flowers102-cnn' target=\"_blank\">Weights & Biases</a> (<a href='https://wandb.me/developer-guide' target=\"_blank\">docs</a>)<br>Sweep page: <a href='https://wandb.ai/kicza/flowers102-cnn/sweeps/vr3xpu9o' target=\"_blank\">https://wandb.ai/kicza/flowers102-cnn/sweeps/vr3xpu9o</a>"
            ]
          },
          "metadata": {}
        },
        {
          "output_type": "display_data",
          "data": {
            "text/plain": [
              "<IPython.core.display.HTML object>"
            ],
            "text/html": [
              " View project at <a href='https://wandb.ai/kicza/flowers102-cnn' target=\"_blank\">https://wandb.ai/kicza/flowers102-cnn</a>"
            ]
          },
          "metadata": {}
        },
        {
          "output_type": "display_data",
          "data": {
            "text/plain": [
              "<IPython.core.display.HTML object>"
            ],
            "text/html": [
              " View sweep at <a href='https://wandb.ai/kicza/flowers102-cnn/sweeps/vr3xpu9o' target=\"_blank\">https://wandb.ai/kicza/flowers102-cnn/sweeps/vr3xpu9o</a>"
            ]
          },
          "metadata": {}
        },
        {
          "output_type": "display_data",
          "data": {
            "text/plain": [
              "<IPython.core.display.HTML object>"
            ],
            "text/html": [
              " View run at <a href='https://wandb.ai/kicza/flowers102-cnn/runs/a8mjzdo5' target=\"_blank\">https://wandb.ai/kicza/flowers102-cnn/runs/a8mjzdo5</a>"
            ]
          },
          "metadata": {}
        },
        {
          "output_type": "stream",
          "name": "stdout",
          "text": [
            "Early stopping at epoch 8\n"
          ]
        },
        {
          "output_type": "display_data",
          "data": {
            "text/plain": [
              "<IPython.core.display.HTML object>"
            ],
            "text/html": []
          },
          "metadata": {}
        },
        {
          "output_type": "display_data",
          "data": {
            "text/plain": [
              "<IPython.core.display.HTML object>"
            ],
            "text/html": [
              "<br>    <style><br>        .wandb-row {<br>            display: flex;<br>            flex-direction: row;<br>            flex-wrap: wrap;<br>            justify-content: flex-start;<br>            width: 100%;<br>        }<br>        .wandb-col {<br>            display: flex;<br>            flex-direction: column;<br>            flex-basis: 100%;<br>            flex: 1;<br>            padding: 10px;<br>        }<br>    </style><br><div class=\"wandb-row\"><div class=\"wandb-col\"><h3>Run history:</h3><br/><table class=\"wandb\"><tr><td>epoch</td><td>▁▂▃▄▅▆▇█</td></tr><tr><td>test_accuracy</td><td>▁</td></tr><tr><td>test_loss</td><td>▁</td></tr><tr><td>train_accuracy</td><td>▁▁▃▅▇███</td></tr><tr><td>train_loss</td><td>█▇▆▄▂▁▁▁</td></tr><tr><td>val_accuracy</td><td>▁▂▅▇▆▇██</td></tr><tr><td>val_loss</td><td>▇▃▁▃█▅▅▅</td></tr></table><br/></div><div class=\"wandb-col\"><h3>Run summary:</h3><br/><table class=\"wandb\"><tr><td>epoch</td><td>8</td></tr><tr><td>test_accuracy</td><td>14.83168</td></tr><tr><td>test_loss</td><td>4.63435</td></tr><tr><td>train_accuracy</td><td>99.60784</td></tr><tr><td>train_loss</td><td>0.1095</td></tr><tr><td>val_accuracy</td><td>17.35294</td></tr><tr><td>val_loss</td><td>4.39337</td></tr></table><br/></div></div>"
            ]
          },
          "metadata": {}
        },
        {
          "output_type": "display_data",
          "data": {
            "text/plain": [
              "<IPython.core.display.HTML object>"
            ],
            "text/html": [
              " View run <strong style=\"color:#cdcd00\">vague-sweep-19</strong> at: <a href='https://wandb.ai/kicza/flowers102-cnn/runs/a8mjzdo5' target=\"_blank\">https://wandb.ai/kicza/flowers102-cnn/runs/a8mjzdo5</a><br> View project at: <a href='https://wandb.ai/kicza/flowers102-cnn' target=\"_blank\">https://wandb.ai/kicza/flowers102-cnn</a><br>Synced 5 W&B file(s), 0 media file(s), 0 artifact file(s) and 0 other file(s)"
            ]
          },
          "metadata": {}
        },
        {
          "output_type": "display_data",
          "data": {
            "text/plain": [
              "<IPython.core.display.HTML object>"
            ],
            "text/html": [
              "Find logs at: <code>./wandb/run-20250409_222923-a8mjzdo5/logs</code>"
            ]
          },
          "metadata": {}
        },
        {
          "output_type": "stream",
          "name": "stderr",
          "text": [
            "\u001b[34m\u001b[1mwandb\u001b[0m: Agent Starting Run: p09dipmd with config:\n",
            "\u001b[34m\u001b[1mwandb\u001b[0m: \tbatch_size: 32\n",
            "\u001b[34m\u001b[1mwandb\u001b[0m: \tlearning_rate: 0.0001822255460030121\n",
            "\u001b[34m\u001b[1mwandb\u001b[0m: \tnum_epochs: 20\n",
            "\u001b[34m\u001b[1mwandb\u001b[0m: \toptimizer: SGD\n"
          ]
        },
        {
          "output_type": "display_data",
          "data": {
            "text/plain": [
              "<IPython.core.display.HTML object>"
            ],
            "text/html": [
              "Ignoring project 'flowers102-cnn' when running a sweep."
            ]
          },
          "metadata": {}
        },
        {
          "output_type": "display_data",
          "data": {
            "text/plain": [
              "<IPython.core.display.HTML object>"
            ],
            "text/html": [
              "Tracking run with wandb version 0.19.9"
            ]
          },
          "metadata": {}
        },
        {
          "output_type": "display_data",
          "data": {
            "text/plain": [
              "<IPython.core.display.HTML object>"
            ],
            "text/html": [
              "Run data is saved locally in <code>/content/wandb/run-20250409_223141-p09dipmd</code>"
            ]
          },
          "metadata": {}
        },
        {
          "output_type": "display_data",
          "data": {
            "text/plain": [
              "<IPython.core.display.HTML object>"
            ],
            "text/html": [
              "Syncing run <strong><a href='https://wandb.ai/kicza/flowers102-cnn/runs/p09dipmd' target=\"_blank\">crisp-sweep-20</a></strong> to <a href='https://wandb.ai/kicza/flowers102-cnn' target=\"_blank\">Weights & Biases</a> (<a href='https://wandb.me/developer-guide' target=\"_blank\">docs</a>)<br>Sweep page: <a href='https://wandb.ai/kicza/flowers102-cnn/sweeps/vr3xpu9o' target=\"_blank\">https://wandb.ai/kicza/flowers102-cnn/sweeps/vr3xpu9o</a>"
            ]
          },
          "metadata": {}
        },
        {
          "output_type": "display_data",
          "data": {
            "text/plain": [
              "<IPython.core.display.HTML object>"
            ],
            "text/html": [
              " View project at <a href='https://wandb.ai/kicza/flowers102-cnn' target=\"_blank\">https://wandb.ai/kicza/flowers102-cnn</a>"
            ]
          },
          "metadata": {}
        },
        {
          "output_type": "display_data",
          "data": {
            "text/plain": [
              "<IPython.core.display.HTML object>"
            ],
            "text/html": [
              " View sweep at <a href='https://wandb.ai/kicza/flowers102-cnn/sweeps/vr3xpu9o' target=\"_blank\">https://wandb.ai/kicza/flowers102-cnn/sweeps/vr3xpu9o</a>"
            ]
          },
          "metadata": {}
        },
        {
          "output_type": "display_data",
          "data": {
            "text/plain": [
              "<IPython.core.display.HTML object>"
            ],
            "text/html": [
              " View run at <a href='https://wandb.ai/kicza/flowers102-cnn/runs/p09dipmd' target=\"_blank\">https://wandb.ai/kicza/flowers102-cnn/runs/p09dipmd</a>"
            ]
          },
          "metadata": {}
        },
        {
          "output_type": "display_data",
          "data": {
            "text/plain": [
              "<IPython.core.display.HTML object>"
            ],
            "text/html": []
          },
          "metadata": {}
        },
        {
          "output_type": "display_data",
          "data": {
            "text/plain": [
              "<IPython.core.display.HTML object>"
            ],
            "text/html": [
              "<br>    <style><br>        .wandb-row {<br>            display: flex;<br>            flex-direction: row;<br>            flex-wrap: wrap;<br>            justify-content: flex-start;<br>            width: 100%;<br>        }<br>        .wandb-col {<br>            display: flex;<br>            flex-direction: column;<br>            flex-basis: 100%;<br>            flex: 1;<br>            padding: 10px;<br>        }<br>    </style><br><div class=\"wandb-row\"><div class=\"wandb-col\"><h3>Run history:</h3><br/><table class=\"wandb\"><tr><td>epoch</td><td>▁▁▂▂▂▃▃▄▄▄▅▅▅▆▆▇▇▇██</td></tr><tr><td>test_accuracy</td><td>▁</td></tr><tr><td>test_loss</td><td>▁</td></tr><tr><td>train_accuracy</td><td>▁▂▃▆▆███████████████</td></tr><tr><td>train_loss</td><td>█▆▅▄▃▂▂▁▁▁▁▁▁▁▁▁▁▁▁▁</td></tr><tr><td>val_accuracy</td><td>▂▁▄█▆▆▆▆▆▆▆▆▆▆▆▆▆▆▆▆</td></tr><tr><td>val_loss</td><td>█▆▄▃▂▂▁▁▁▁▁▁▁▁▁▁▁▁▁▁</td></tr></table><br/></div><div class=\"wandb-col\"><h3>Run summary:</h3><br/><table class=\"wandb\"><tr><td>epoch</td><td>20</td></tr><tr><td>test_accuracy</td><td>2.52074</td></tr><tr><td>test_loss</td><td>4.61806</td></tr><tr><td>train_accuracy</td><td>2.45098</td></tr><tr><td>train_loss</td><td>4.61666</td></tr><tr><td>val_accuracy</td><td>1.56863</td></tr><tr><td>val_loss</td><td>4.62222</td></tr></table><br/></div></div>"
            ]
          },
          "metadata": {}
        },
        {
          "output_type": "display_data",
          "data": {
            "text/plain": [
              "<IPython.core.display.HTML object>"
            ],
            "text/html": [
              " View run <strong style=\"color:#cdcd00\">crisp-sweep-20</strong> at: <a href='https://wandb.ai/kicza/flowers102-cnn/runs/p09dipmd' target=\"_blank\">https://wandb.ai/kicza/flowers102-cnn/runs/p09dipmd</a><br> View project at: <a href='https://wandb.ai/kicza/flowers102-cnn' target=\"_blank\">https://wandb.ai/kicza/flowers102-cnn</a><br>Synced 5 W&B file(s), 0 media file(s), 0 artifact file(s) and 0 other file(s)"
            ]
          },
          "metadata": {}
        },
        {
          "output_type": "display_data",
          "data": {
            "text/plain": [
              "<IPython.core.display.HTML object>"
            ],
            "text/html": [
              "Find logs at: <code>./wandb/run-20250409_223141-p09dipmd/logs</code>"
            ]
          },
          "metadata": {}
        },
        {
          "output_type": "stream",
          "name": "stderr",
          "text": [
            "\u001b[34m\u001b[1mwandb\u001b[0m: Agent Starting Run: lyq77xdb with config:\n",
            "\u001b[34m\u001b[1mwandb\u001b[0m: \tbatch_size: 32\n",
            "\u001b[34m\u001b[1mwandb\u001b[0m: \tlearning_rate: 0.0009203507666035653\n",
            "\u001b[34m\u001b[1mwandb\u001b[0m: \tnum_epochs: 20\n",
            "\u001b[34m\u001b[1mwandb\u001b[0m: \toptimizer: Adam\n"
          ]
        },
        {
          "output_type": "display_data",
          "data": {
            "text/plain": [
              "<IPython.core.display.HTML object>"
            ],
            "text/html": [
              "Ignoring project 'flowers102-cnn' when running a sweep."
            ]
          },
          "metadata": {}
        },
        {
          "output_type": "display_data",
          "data": {
            "text/plain": [
              "<IPython.core.display.HTML object>"
            ],
            "text/html": [
              "Tracking run with wandb version 0.19.9"
            ]
          },
          "metadata": {}
        },
        {
          "output_type": "display_data",
          "data": {
            "text/plain": [
              "<IPython.core.display.HTML object>"
            ],
            "text/html": [
              "Run data is saved locally in <code>/content/wandb/run-20250409_223619-lyq77xdb</code>"
            ]
          },
          "metadata": {}
        },
        {
          "output_type": "display_data",
          "data": {
            "text/plain": [
              "<IPython.core.display.HTML object>"
            ],
            "text/html": [
              "Syncing run <strong><a href='https://wandb.ai/kicza/flowers102-cnn/runs/lyq77xdb' target=\"_blank\">gallant-sweep-21</a></strong> to <a href='https://wandb.ai/kicza/flowers102-cnn' target=\"_blank\">Weights & Biases</a> (<a href='https://wandb.me/developer-guide' target=\"_blank\">docs</a>)<br>Sweep page: <a href='https://wandb.ai/kicza/flowers102-cnn/sweeps/vr3xpu9o' target=\"_blank\">https://wandb.ai/kicza/flowers102-cnn/sweeps/vr3xpu9o</a>"
            ]
          },
          "metadata": {}
        },
        {
          "output_type": "display_data",
          "data": {
            "text/plain": [
              "<IPython.core.display.HTML object>"
            ],
            "text/html": [
              " View project at <a href='https://wandb.ai/kicza/flowers102-cnn' target=\"_blank\">https://wandb.ai/kicza/flowers102-cnn</a>"
            ]
          },
          "metadata": {}
        },
        {
          "output_type": "display_data",
          "data": {
            "text/plain": [
              "<IPython.core.display.HTML object>"
            ],
            "text/html": [
              " View sweep at <a href='https://wandb.ai/kicza/flowers102-cnn/sweeps/vr3xpu9o' target=\"_blank\">https://wandb.ai/kicza/flowers102-cnn/sweeps/vr3xpu9o</a>"
            ]
          },
          "metadata": {}
        },
        {
          "output_type": "display_data",
          "data": {
            "text/plain": [
              "<IPython.core.display.HTML object>"
            ],
            "text/html": [
              " View run at <a href='https://wandb.ai/kicza/flowers102-cnn/runs/lyq77xdb' target=\"_blank\">https://wandb.ai/kicza/flowers102-cnn/runs/lyq77xdb</a>"
            ]
          },
          "metadata": {}
        },
        {
          "output_type": "stream",
          "name": "stdout",
          "text": [
            "Early stopping at epoch 8\n"
          ]
        },
        {
          "output_type": "display_data",
          "data": {
            "text/plain": [
              "<IPython.core.display.HTML object>"
            ],
            "text/html": []
          },
          "metadata": {}
        },
        {
          "output_type": "display_data",
          "data": {
            "text/plain": [
              "<IPython.core.display.HTML object>"
            ],
            "text/html": [
              "<br>    <style><br>        .wandb-row {<br>            display: flex;<br>            flex-direction: row;<br>            flex-wrap: wrap;<br>            justify-content: flex-start;<br>            width: 100%;<br>        }<br>        .wandb-col {<br>            display: flex;<br>            flex-direction: column;<br>            flex-basis: 100%;<br>            flex: 1;<br>            padding: 10px;<br>        }<br>    </style><br><div class=\"wandb-row\"><div class=\"wandb-col\"><h3>Run history:</h3><br/><table class=\"wandb\"><tr><td>epoch</td><td>▁▂▃▄▅▆▇█</td></tr><tr><td>test_accuracy</td><td>▁</td></tr><tr><td>test_loss</td><td>▁</td></tr><tr><td>train_accuracy</td><td>▁▁▂▄▆███</td></tr><tr><td>train_loss</td><td>█▇▆▄▂▁▁▁</td></tr><tr><td>val_accuracy</td><td>▁▃▅▆▇███</td></tr><tr><td>val_loss</td><td>▇▄▁▂█▄▄▅</td></tr></table><br/></div><div class=\"wandb-col\"><h3>Run summary:</h3><br/><table class=\"wandb\"><tr><td>epoch</td><td>8</td></tr><tr><td>test_accuracy</td><td>16.45796</td></tr><tr><td>test_loss</td><td>4.65848</td></tr><tr><td>train_accuracy</td><td>99.5098</td></tr><tr><td>train_loss</td><td>0.1117</td></tr><tr><td>val_accuracy</td><td>18.82353</td></tr><tr><td>val_loss</td><td>4.35741</td></tr></table><br/></div></div>"
            ]
          },
          "metadata": {}
        },
        {
          "output_type": "display_data",
          "data": {
            "text/plain": [
              "<IPython.core.display.HTML object>"
            ],
            "text/html": [
              " View run <strong style=\"color:#cdcd00\">gallant-sweep-21</strong> at: <a href='https://wandb.ai/kicza/flowers102-cnn/runs/lyq77xdb' target=\"_blank\">https://wandb.ai/kicza/flowers102-cnn/runs/lyq77xdb</a><br> View project at: <a href='https://wandb.ai/kicza/flowers102-cnn' target=\"_blank\">https://wandb.ai/kicza/flowers102-cnn</a><br>Synced 5 W&B file(s), 0 media file(s), 0 artifact file(s) and 0 other file(s)"
            ]
          },
          "metadata": {}
        },
        {
          "output_type": "display_data",
          "data": {
            "text/plain": [
              "<IPython.core.display.HTML object>"
            ],
            "text/html": [
              "Find logs at: <code>./wandb/run-20250409_223619-lyq77xdb/logs</code>"
            ]
          },
          "metadata": {}
        },
        {
          "output_type": "stream",
          "name": "stderr",
          "text": [
            "\u001b[34m\u001b[1mwandb\u001b[0m: Agent Starting Run: 48z5tosd with config:\n",
            "\u001b[34m\u001b[1mwandb\u001b[0m: \tbatch_size: 32\n",
            "\u001b[34m\u001b[1mwandb\u001b[0m: \tlearning_rate: 0.00036867976907399585\n",
            "\u001b[34m\u001b[1mwandb\u001b[0m: \tnum_epochs: 20\n",
            "\u001b[34m\u001b[1mwandb\u001b[0m: \toptimizer: SGD\n"
          ]
        },
        {
          "output_type": "display_data",
          "data": {
            "text/plain": [
              "<IPython.core.display.HTML object>"
            ],
            "text/html": [
              "Ignoring project 'flowers102-cnn' when running a sweep."
            ]
          },
          "metadata": {}
        },
        {
          "output_type": "display_data",
          "data": {
            "text/plain": [
              "<IPython.core.display.HTML object>"
            ],
            "text/html": [
              "Tracking run with wandb version 0.19.9"
            ]
          },
          "metadata": {}
        },
        {
          "output_type": "display_data",
          "data": {
            "text/plain": [
              "<IPython.core.display.HTML object>"
            ],
            "text/html": [
              "Run data is saved locally in <code>/content/wandb/run-20250409_223839-48z5tosd</code>"
            ]
          },
          "metadata": {}
        },
        {
          "output_type": "display_data",
          "data": {
            "text/plain": [
              "<IPython.core.display.HTML object>"
            ],
            "text/html": [
              "Syncing run <strong><a href='https://wandb.ai/kicza/flowers102-cnn/runs/48z5tosd' target=\"_blank\">easy-sweep-22</a></strong> to <a href='https://wandb.ai/kicza/flowers102-cnn' target=\"_blank\">Weights & Biases</a> (<a href='https://wandb.me/developer-guide' target=\"_blank\">docs</a>)<br>Sweep page: <a href='https://wandb.ai/kicza/flowers102-cnn/sweeps/vr3xpu9o' target=\"_blank\">https://wandb.ai/kicza/flowers102-cnn/sweeps/vr3xpu9o</a>"
            ]
          },
          "metadata": {}
        },
        {
          "output_type": "display_data",
          "data": {
            "text/plain": [
              "<IPython.core.display.HTML object>"
            ],
            "text/html": [
              " View project at <a href='https://wandb.ai/kicza/flowers102-cnn' target=\"_blank\">https://wandb.ai/kicza/flowers102-cnn</a>"
            ]
          },
          "metadata": {}
        },
        {
          "output_type": "display_data",
          "data": {
            "text/plain": [
              "<IPython.core.display.HTML object>"
            ],
            "text/html": [
              " View sweep at <a href='https://wandb.ai/kicza/flowers102-cnn/sweeps/vr3xpu9o' target=\"_blank\">https://wandb.ai/kicza/flowers102-cnn/sweeps/vr3xpu9o</a>"
            ]
          },
          "metadata": {}
        },
        {
          "output_type": "display_data",
          "data": {
            "text/plain": [
              "<IPython.core.display.HTML object>"
            ],
            "text/html": [
              " View run at <a href='https://wandb.ai/kicza/flowers102-cnn/runs/48z5tosd' target=\"_blank\">https://wandb.ai/kicza/flowers102-cnn/runs/48z5tosd</a>"
            ]
          },
          "metadata": {}
        },
        {
          "output_type": "display_data",
          "data": {
            "text/plain": [
              "<IPython.core.display.HTML object>"
            ],
            "text/html": []
          },
          "metadata": {}
        },
        {
          "output_type": "display_data",
          "data": {
            "text/plain": [
              "<IPython.core.display.HTML object>"
            ],
            "text/html": [
              "<br>    <style><br>        .wandb-row {<br>            display: flex;<br>            flex-direction: row;<br>            flex-wrap: wrap;<br>            justify-content: flex-start;<br>            width: 100%;<br>        }<br>        .wandb-col {<br>            display: flex;<br>            flex-direction: column;<br>            flex-basis: 100%;<br>            flex: 1;<br>            padding: 10px;<br>        }<br>    </style><br><div class=\"wandb-row\"><div class=\"wandb-col\"><h3>Run history:</h3><br/><table class=\"wandb\"><tr><td>epoch</td><td>▁▁▂▂▂▃▃▄▄▄▅▅▅▆▆▇▇▇██</td></tr><tr><td>test_accuracy</td><td>▁</td></tr><tr><td>test_loss</td><td>▁</td></tr><tr><td>train_accuracy</td><td>▁▂▁▂▅▅▅▇▇▇██████████</td></tr><tr><td>train_loss</td><td>█▇▆▄▃▂▂▁▁▁▁▁▁▁▁▁▁▁▁▁</td></tr><tr><td>val_accuracy</td><td>▁▆█▆████████████████</td></tr><tr><td>val_loss</td><td>█▆▅▃▂▂▂▁▁▁▁▁▁▁▁▁▁▁▁▁</td></tr></table><br/></div><div class=\"wandb-col\"><h3>Run summary:</h3><br/><table class=\"wandb\"><tr><td>epoch</td><td>20</td></tr><tr><td>test_accuracy</td><td>1.1384</td></tr><tr><td>test_loss</td><td>4.63014</td></tr><tr><td>train_accuracy</td><td>1.47059</td></tr><tr><td>train_loss</td><td>4.62279</td></tr><tr><td>val_accuracy</td><td>1.47059</td></tr><tr><td>val_loss</td><td>4.62457</td></tr></table><br/></div></div>"
            ]
          },
          "metadata": {}
        },
        {
          "output_type": "display_data",
          "data": {
            "text/plain": [
              "<IPython.core.display.HTML object>"
            ],
            "text/html": [
              " View run <strong style=\"color:#cdcd00\">easy-sweep-22</strong> at: <a href='https://wandb.ai/kicza/flowers102-cnn/runs/48z5tosd' target=\"_blank\">https://wandb.ai/kicza/flowers102-cnn/runs/48z5tosd</a><br> View project at: <a href='https://wandb.ai/kicza/flowers102-cnn' target=\"_blank\">https://wandb.ai/kicza/flowers102-cnn</a><br>Synced 5 W&B file(s), 0 media file(s), 0 artifact file(s) and 0 other file(s)"
            ]
          },
          "metadata": {}
        },
        {
          "output_type": "display_data",
          "data": {
            "text/plain": [
              "<IPython.core.display.HTML object>"
            ],
            "text/html": [
              "Find logs at: <code>./wandb/run-20250409_223839-48z5tosd/logs</code>"
            ]
          },
          "metadata": {}
        },
        {
          "output_type": "stream",
          "name": "stderr",
          "text": [
            "\u001b[34m\u001b[1mwandb\u001b[0m: Agent Starting Run: vb4s9xtm with config:\n",
            "\u001b[34m\u001b[1mwandb\u001b[0m: \tbatch_size: 32\n",
            "\u001b[34m\u001b[1mwandb\u001b[0m: \tlearning_rate: 0.0007789411718121428\n",
            "\u001b[34m\u001b[1mwandb\u001b[0m: \tnum_epochs: 20\n",
            "\u001b[34m\u001b[1mwandb\u001b[0m: \toptimizer: SGD\n"
          ]
        },
        {
          "output_type": "display_data",
          "data": {
            "text/plain": [
              "<IPython.core.display.HTML object>"
            ],
            "text/html": [
              "Ignoring project 'flowers102-cnn' when running a sweep."
            ]
          },
          "metadata": {}
        },
        {
          "output_type": "display_data",
          "data": {
            "text/plain": [
              "<IPython.core.display.HTML object>"
            ],
            "text/html": [
              "Tracking run with wandb version 0.19.9"
            ]
          },
          "metadata": {}
        },
        {
          "output_type": "display_data",
          "data": {
            "text/plain": [
              "<IPython.core.display.HTML object>"
            ],
            "text/html": [
              "Run data is saved locally in <code>/content/wandb/run-20250409_224321-vb4s9xtm</code>"
            ]
          },
          "metadata": {}
        },
        {
          "output_type": "display_data",
          "data": {
            "text/plain": [
              "<IPython.core.display.HTML object>"
            ],
            "text/html": [
              "Syncing run <strong><a href='https://wandb.ai/kicza/flowers102-cnn/runs/vb4s9xtm' target=\"_blank\">clean-sweep-23</a></strong> to <a href='https://wandb.ai/kicza/flowers102-cnn' target=\"_blank\">Weights & Biases</a> (<a href='https://wandb.me/developer-guide' target=\"_blank\">docs</a>)<br>Sweep page: <a href='https://wandb.ai/kicza/flowers102-cnn/sweeps/vr3xpu9o' target=\"_blank\">https://wandb.ai/kicza/flowers102-cnn/sweeps/vr3xpu9o</a>"
            ]
          },
          "metadata": {}
        },
        {
          "output_type": "display_data",
          "data": {
            "text/plain": [
              "<IPython.core.display.HTML object>"
            ],
            "text/html": [
              " View project at <a href='https://wandb.ai/kicza/flowers102-cnn' target=\"_blank\">https://wandb.ai/kicza/flowers102-cnn</a>"
            ]
          },
          "metadata": {}
        },
        {
          "output_type": "display_data",
          "data": {
            "text/plain": [
              "<IPython.core.display.HTML object>"
            ],
            "text/html": [
              " View sweep at <a href='https://wandb.ai/kicza/flowers102-cnn/sweeps/vr3xpu9o' target=\"_blank\">https://wandb.ai/kicza/flowers102-cnn/sweeps/vr3xpu9o</a>"
            ]
          },
          "metadata": {}
        },
        {
          "output_type": "display_data",
          "data": {
            "text/plain": [
              "<IPython.core.display.HTML object>"
            ],
            "text/html": [
              " View run at <a href='https://wandb.ai/kicza/flowers102-cnn/runs/vb4s9xtm' target=\"_blank\">https://wandb.ai/kicza/flowers102-cnn/runs/vb4s9xtm</a>"
            ]
          },
          "metadata": {}
        },
        {
          "output_type": "display_data",
          "data": {
            "text/plain": [
              "<IPython.core.display.HTML object>"
            ],
            "text/html": []
          },
          "metadata": {}
        },
        {
          "output_type": "display_data",
          "data": {
            "text/plain": [
              "<IPython.core.display.HTML object>"
            ],
            "text/html": [
              "<br>    <style><br>        .wandb-row {<br>            display: flex;<br>            flex-direction: row;<br>            flex-wrap: wrap;<br>            justify-content: flex-start;<br>            width: 100%;<br>        }<br>        .wandb-col {<br>            display: flex;<br>            flex-direction: column;<br>            flex-basis: 100%;<br>            flex: 1;<br>            padding: 10px;<br>        }<br>    </style><br><div class=\"wandb-row\"><div class=\"wandb-col\"><h3>Run history:</h3><br/><table class=\"wandb\"><tr><td>epoch</td><td>▁▁▂▂▂▃▃▄▄▄▅▅▅▆▆▇▇▇██</td></tr><tr><td>test_accuracy</td><td>▁</td></tr><tr><td>test_loss</td><td>▁</td></tr><tr><td>train_accuracy</td><td>▁▁▂▂▂▅▅▆▇▆██████████</td></tr><tr><td>train_loss</td><td>█▇▆▅▃▂▂▂▁▁▁▁▁▁▁▁▁▁▁▁</td></tr><tr><td>val_accuracy</td><td>▁▁▅▆▇▇██▇▇▇▇▇▇▇▇▇▇▇▇</td></tr><tr><td>val_loss</td><td>█▇▅▄▂▂▂▁▁▁▁▁▁▁▁▁▁▁▁▁</td></tr></table><br/></div><div class=\"wandb-col\"><h3>Run summary:</h3><br/><table class=\"wandb\"><tr><td>epoch</td><td>20</td></tr><tr><td>test_accuracy</td><td>1.34981</td></tr><tr><td>test_loss</td><td>4.62564</td></tr><tr><td>train_accuracy</td><td>2.45098</td></tr><tr><td>train_loss</td><td>4.61378</td></tr><tr><td>val_accuracy</td><td>2.2549</td></tr><tr><td>val_loss</td><td>4.61954</td></tr></table><br/></div></div>"
            ]
          },
          "metadata": {}
        },
        {
          "output_type": "display_data",
          "data": {
            "text/plain": [
              "<IPython.core.display.HTML object>"
            ],
            "text/html": [
              " View run <strong style=\"color:#cdcd00\">clean-sweep-23</strong> at: <a href='https://wandb.ai/kicza/flowers102-cnn/runs/vb4s9xtm' target=\"_blank\">https://wandb.ai/kicza/flowers102-cnn/runs/vb4s9xtm</a><br> View project at: <a href='https://wandb.ai/kicza/flowers102-cnn' target=\"_blank\">https://wandb.ai/kicza/flowers102-cnn</a><br>Synced 5 W&B file(s), 0 media file(s), 0 artifact file(s) and 0 other file(s)"
            ]
          },
          "metadata": {}
        },
        {
          "output_type": "display_data",
          "data": {
            "text/plain": [
              "<IPython.core.display.HTML object>"
            ],
            "text/html": [
              "Find logs at: <code>./wandb/run-20250409_224321-vb4s9xtm/logs</code>"
            ]
          },
          "metadata": {}
        },
        {
          "output_type": "stream",
          "name": "stderr",
          "text": [
            "\u001b[34m\u001b[1mwandb\u001b[0m: Agent Starting Run: 0ayv9lod with config:\n",
            "\u001b[34m\u001b[1mwandb\u001b[0m: \tbatch_size: 32\n",
            "\u001b[34m\u001b[1mwandb\u001b[0m: \tlearning_rate: 0.0007581489125021393\n",
            "\u001b[34m\u001b[1mwandb\u001b[0m: \tnum_epochs: 20\n",
            "\u001b[34m\u001b[1mwandb\u001b[0m: \toptimizer: Adam\n"
          ]
        },
        {
          "output_type": "display_data",
          "data": {
            "text/plain": [
              "<IPython.core.display.HTML object>"
            ],
            "text/html": [
              "Ignoring project 'flowers102-cnn' when running a sweep."
            ]
          },
          "metadata": {}
        },
        {
          "output_type": "display_data",
          "data": {
            "text/plain": [
              "<IPython.core.display.HTML object>"
            ],
            "text/html": [
              "Tracking run with wandb version 0.19.9"
            ]
          },
          "metadata": {}
        },
        {
          "output_type": "display_data",
          "data": {
            "text/plain": [
              "<IPython.core.display.HTML object>"
            ],
            "text/html": [
              "Run data is saved locally in <code>/content/wandb/run-20250409_224804-0ayv9lod</code>"
            ]
          },
          "metadata": {}
        },
        {
          "output_type": "display_data",
          "data": {
            "text/plain": [
              "<IPython.core.display.HTML object>"
            ],
            "text/html": [
              "Syncing run <strong><a href='https://wandb.ai/kicza/flowers102-cnn/runs/0ayv9lod' target=\"_blank\">celestial-sweep-24</a></strong> to <a href='https://wandb.ai/kicza/flowers102-cnn' target=\"_blank\">Weights & Biases</a> (<a href='https://wandb.me/developer-guide' target=\"_blank\">docs</a>)<br>Sweep page: <a href='https://wandb.ai/kicza/flowers102-cnn/sweeps/vr3xpu9o' target=\"_blank\">https://wandb.ai/kicza/flowers102-cnn/sweeps/vr3xpu9o</a>"
            ]
          },
          "metadata": {}
        },
        {
          "output_type": "display_data",
          "data": {
            "text/plain": [
              "<IPython.core.display.HTML object>"
            ],
            "text/html": [
              " View project at <a href='https://wandb.ai/kicza/flowers102-cnn' target=\"_blank\">https://wandb.ai/kicza/flowers102-cnn</a>"
            ]
          },
          "metadata": {}
        },
        {
          "output_type": "display_data",
          "data": {
            "text/plain": [
              "<IPython.core.display.HTML object>"
            ],
            "text/html": [
              " View sweep at <a href='https://wandb.ai/kicza/flowers102-cnn/sweeps/vr3xpu9o' target=\"_blank\">https://wandb.ai/kicza/flowers102-cnn/sweeps/vr3xpu9o</a>"
            ]
          },
          "metadata": {}
        },
        {
          "output_type": "display_data",
          "data": {
            "text/plain": [
              "<IPython.core.display.HTML object>"
            ],
            "text/html": [
              " View run at <a href='https://wandb.ai/kicza/flowers102-cnn/runs/0ayv9lod' target=\"_blank\">https://wandb.ai/kicza/flowers102-cnn/runs/0ayv9lod</a>"
            ]
          },
          "metadata": {}
        },
        {
          "output_type": "stream",
          "name": "stdout",
          "text": [
            "Early stopping at epoch 11\n"
          ]
        },
        {
          "output_type": "display_data",
          "data": {
            "text/plain": [
              "<IPython.core.display.HTML object>"
            ],
            "text/html": []
          },
          "metadata": {}
        },
        {
          "output_type": "display_data",
          "data": {
            "text/plain": [
              "<IPython.core.display.HTML object>"
            ],
            "text/html": [
              "<br>    <style><br>        .wandb-row {<br>            display: flex;<br>            flex-direction: row;<br>            flex-wrap: wrap;<br>            justify-content: flex-start;<br>            width: 100%;<br>        }<br>        .wandb-col {<br>            display: flex;<br>            flex-direction: column;<br>            flex-basis: 100%;<br>            flex: 1;<br>            padding: 10px;<br>        }<br>    </style><br><div class=\"wandb-row\"><div class=\"wandb-col\"><h3>Run history:</h3><br/><table class=\"wandb\"><tr><td>epoch</td><td>▁▂▂▃▄▅▅▆▇▇█</td></tr><tr><td>test_accuracy</td><td>▁</td></tr><tr><td>test_loss</td><td>▁</td></tr><tr><td>train_accuracy</td><td>▁▁▂▄▆██████</td></tr><tr><td>train_loss</td><td>█▇▆▄▃▁▁▁▁▁▁</td></tr><tr><td>val_accuracy</td><td>▁▂▄▆▆▇█████</td></tr><tr><td>val_loss</td><td>█▅▁▁▅▁▂▂▃▄▄</td></tr></table><br/></div><div class=\"wandb-col\"><h3>Run summary:</h3><br/><table class=\"wandb\"><tr><td>epoch</td><td>11</td></tr><tr><td>test_accuracy</td><td>18.05172</td></tr><tr><td>test_loss</td><td>4.3554</td></tr><tr><td>train_accuracy</td><td>99.70588</td></tr><tr><td>train_loss</td><td>0.0988</td></tr><tr><td>val_accuracy</td><td>20.19608</td></tr><tr><td>val_loss</td><td>4.17755</td></tr></table><br/></div></div>"
            ]
          },
          "metadata": {}
        },
        {
          "output_type": "display_data",
          "data": {
            "text/plain": [
              "<IPython.core.display.HTML object>"
            ],
            "text/html": [
              " View run <strong style=\"color:#cdcd00\">celestial-sweep-24</strong> at: <a href='https://wandb.ai/kicza/flowers102-cnn/runs/0ayv9lod' target=\"_blank\">https://wandb.ai/kicza/flowers102-cnn/runs/0ayv9lod</a><br> View project at: <a href='https://wandb.ai/kicza/flowers102-cnn' target=\"_blank\">https://wandb.ai/kicza/flowers102-cnn</a><br>Synced 5 W&B file(s), 0 media file(s), 0 artifact file(s) and 0 other file(s)"
            ]
          },
          "metadata": {}
        },
        {
          "output_type": "display_data",
          "data": {
            "text/plain": [
              "<IPython.core.display.HTML object>"
            ],
            "text/html": [
              "Find logs at: <code>./wandb/run-20250409_224804-0ayv9lod/logs</code>"
            ]
          },
          "metadata": {}
        },
        {
          "output_type": "stream",
          "name": "stderr",
          "text": [
            "\u001b[34m\u001b[1mwandb\u001b[0m: Agent Starting Run: ks9gnc2p with config:\n",
            "\u001b[34m\u001b[1mwandb\u001b[0m: \tbatch_size: 64\n",
            "\u001b[34m\u001b[1mwandb\u001b[0m: \tlearning_rate: 0.0007120591942196387\n",
            "\u001b[34m\u001b[1mwandb\u001b[0m: \tnum_epochs: 20\n",
            "\u001b[34m\u001b[1mwandb\u001b[0m: \toptimizer: SGD\n"
          ]
        },
        {
          "output_type": "display_data",
          "data": {
            "text/plain": [
              "<IPython.core.display.HTML object>"
            ],
            "text/html": [
              "Ignoring project 'flowers102-cnn' when running a sweep."
            ]
          },
          "metadata": {}
        },
        {
          "output_type": "display_data",
          "data": {
            "text/plain": [
              "<IPython.core.display.HTML object>"
            ],
            "text/html": [
              "Tracking run with wandb version 0.19.9"
            ]
          },
          "metadata": {}
        },
        {
          "output_type": "display_data",
          "data": {
            "text/plain": [
              "<IPython.core.display.HTML object>"
            ],
            "text/html": [
              "Run data is saved locally in <code>/content/wandb/run-20250409_225057-ks9gnc2p</code>"
            ]
          },
          "metadata": {}
        },
        {
          "output_type": "display_data",
          "data": {
            "text/plain": [
              "<IPython.core.display.HTML object>"
            ],
            "text/html": [
              "Syncing run <strong><a href='https://wandb.ai/kicza/flowers102-cnn/runs/ks9gnc2p' target=\"_blank\">noble-sweep-25</a></strong> to <a href='https://wandb.ai/kicza/flowers102-cnn' target=\"_blank\">Weights & Biases</a> (<a href='https://wandb.me/developer-guide' target=\"_blank\">docs</a>)<br>Sweep page: <a href='https://wandb.ai/kicza/flowers102-cnn/sweeps/vr3xpu9o' target=\"_blank\">https://wandb.ai/kicza/flowers102-cnn/sweeps/vr3xpu9o</a>"
            ]
          },
          "metadata": {}
        },
        {
          "output_type": "display_data",
          "data": {
            "text/plain": [
              "<IPython.core.display.HTML object>"
            ],
            "text/html": [
              " View project at <a href='https://wandb.ai/kicza/flowers102-cnn' target=\"_blank\">https://wandb.ai/kicza/flowers102-cnn</a>"
            ]
          },
          "metadata": {}
        },
        {
          "output_type": "display_data",
          "data": {
            "text/plain": [
              "<IPython.core.display.HTML object>"
            ],
            "text/html": [
              " View sweep at <a href='https://wandb.ai/kicza/flowers102-cnn/sweeps/vr3xpu9o' target=\"_blank\">https://wandb.ai/kicza/flowers102-cnn/sweeps/vr3xpu9o</a>"
            ]
          },
          "metadata": {}
        },
        {
          "output_type": "display_data",
          "data": {
            "text/plain": [
              "<IPython.core.display.HTML object>"
            ],
            "text/html": [
              " View run at <a href='https://wandb.ai/kicza/flowers102-cnn/runs/ks9gnc2p' target=\"_blank\">https://wandb.ai/kicza/flowers102-cnn/runs/ks9gnc2p</a>"
            ]
          },
          "metadata": {}
        },
        {
          "output_type": "display_data",
          "data": {
            "text/plain": [
              "<IPython.core.display.HTML object>"
            ],
            "text/html": []
          },
          "metadata": {}
        },
        {
          "output_type": "display_data",
          "data": {
            "text/plain": [
              "<IPython.core.display.HTML object>"
            ],
            "text/html": [
              "<br>    <style><br>        .wandb-row {<br>            display: flex;<br>            flex-direction: row;<br>            flex-wrap: wrap;<br>            justify-content: flex-start;<br>            width: 100%;<br>        }<br>        .wandb-col {<br>            display: flex;<br>            flex-direction: column;<br>            flex-basis: 100%;<br>            flex: 1;<br>            padding: 10px;<br>        }<br>    </style><br><div class=\"wandb-row\"><div class=\"wandb-col\"><h3>Run history:</h3><br/><table class=\"wandb\"><tr><td>epoch</td><td>▁▁▂▂▂▃▃▄▄▄▅▅▅▆▆▇▇▇██</td></tr><tr><td>test_accuracy</td><td>▁</td></tr><tr><td>test_loss</td><td>▁</td></tr><tr><td>train_accuracy</td><td>▁▄▅▇▇▇▇█████████████</td></tr><tr><td>train_loss</td><td>█▇▅▄▃▂▂▁▁▁▁▁▁▁▁▁▁▁▁▁</td></tr><tr><td>val_accuracy</td><td>█▁██▁▁██████████████</td></tr><tr><td>val_loss</td><td>█▆▅▃▂▂▂▁▁▁▁▁▁▁▁▁▁▁▁▁</td></tr></table><br/></div><div class=\"wandb-col\"><h3>Run summary:</h3><br/><table class=\"wandb\"><tr><td>epoch</td><td>20</td></tr><tr><td>test_accuracy</td><td>1.85396</td></tr><tr><td>test_loss</td><td>4.62265</td></tr><tr><td>train_accuracy</td><td>2.15686</td></tr><tr><td>train_loss</td><td>4.61647</td></tr><tr><td>val_accuracy</td><td>2.15686</td></tr><tr><td>val_loss</td><td>4.61998</td></tr></table><br/></div></div>"
            ]
          },
          "metadata": {}
        },
        {
          "output_type": "display_data",
          "data": {
            "text/plain": [
              "<IPython.core.display.HTML object>"
            ],
            "text/html": [
              " View run <strong style=\"color:#cdcd00\">noble-sweep-25</strong> at: <a href='https://wandb.ai/kicza/flowers102-cnn/runs/ks9gnc2p' target=\"_blank\">https://wandb.ai/kicza/flowers102-cnn/runs/ks9gnc2p</a><br> View project at: <a href='https://wandb.ai/kicza/flowers102-cnn' target=\"_blank\">https://wandb.ai/kicza/flowers102-cnn</a><br>Synced 5 W&B file(s), 0 media file(s), 0 artifact file(s) and 0 other file(s)"
            ]
          },
          "metadata": {}
        },
        {
          "output_type": "display_data",
          "data": {
            "text/plain": [
              "<IPython.core.display.HTML object>"
            ],
            "text/html": [
              "Find logs at: <code>./wandb/run-20250409_225057-ks9gnc2p/logs</code>"
            ]
          },
          "metadata": {}
        },
        {
          "output_type": "stream",
          "name": "stderr",
          "text": [
            "\u001b[34m\u001b[1mwandb\u001b[0m: Agent Starting Run: pm7vi4jw with config:\n",
            "\u001b[34m\u001b[1mwandb\u001b[0m: \tbatch_size: 64\n",
            "\u001b[34m\u001b[1mwandb\u001b[0m: \tlearning_rate: 0.0008191304424974205\n",
            "\u001b[34m\u001b[1mwandb\u001b[0m: \tnum_epochs: 20\n",
            "\u001b[34m\u001b[1mwandb\u001b[0m: \toptimizer: SGD\n"
          ]
        },
        {
          "output_type": "display_data",
          "data": {
            "text/plain": [
              "<IPython.core.display.HTML object>"
            ],
            "text/html": [
              "Ignoring project 'flowers102-cnn' when running a sweep."
            ]
          },
          "metadata": {}
        },
        {
          "output_type": "display_data",
          "data": {
            "text/plain": [
              "<IPython.core.display.HTML object>"
            ],
            "text/html": [
              "Tracking run with wandb version 0.19.9"
            ]
          },
          "metadata": {}
        },
        {
          "output_type": "display_data",
          "data": {
            "text/plain": [
              "<IPython.core.display.HTML object>"
            ],
            "text/html": [
              "Run data is saved locally in <code>/content/wandb/run-20250409_225549-pm7vi4jw</code>"
            ]
          },
          "metadata": {}
        },
        {
          "output_type": "display_data",
          "data": {
            "text/plain": [
              "<IPython.core.display.HTML object>"
            ],
            "text/html": [
              "Syncing run <strong><a href='https://wandb.ai/kicza/flowers102-cnn/runs/pm7vi4jw' target=\"_blank\">lilac-sweep-26</a></strong> to <a href='https://wandb.ai/kicza/flowers102-cnn' target=\"_blank\">Weights & Biases</a> (<a href='https://wandb.me/developer-guide' target=\"_blank\">docs</a>)<br>Sweep page: <a href='https://wandb.ai/kicza/flowers102-cnn/sweeps/vr3xpu9o' target=\"_blank\">https://wandb.ai/kicza/flowers102-cnn/sweeps/vr3xpu9o</a>"
            ]
          },
          "metadata": {}
        },
        {
          "output_type": "display_data",
          "data": {
            "text/plain": [
              "<IPython.core.display.HTML object>"
            ],
            "text/html": [
              " View project at <a href='https://wandb.ai/kicza/flowers102-cnn' target=\"_blank\">https://wandb.ai/kicza/flowers102-cnn</a>"
            ]
          },
          "metadata": {}
        },
        {
          "output_type": "display_data",
          "data": {
            "text/plain": [
              "<IPython.core.display.HTML object>"
            ],
            "text/html": [
              " View sweep at <a href='https://wandb.ai/kicza/flowers102-cnn/sweeps/vr3xpu9o' target=\"_blank\">https://wandb.ai/kicza/flowers102-cnn/sweeps/vr3xpu9o</a>"
            ]
          },
          "metadata": {}
        },
        {
          "output_type": "display_data",
          "data": {
            "text/plain": [
              "<IPython.core.display.HTML object>"
            ],
            "text/html": [
              " View run at <a href='https://wandb.ai/kicza/flowers102-cnn/runs/pm7vi4jw' target=\"_blank\">https://wandb.ai/kicza/flowers102-cnn/runs/pm7vi4jw</a>"
            ]
          },
          "metadata": {}
        },
        {
          "output_type": "display_data",
          "data": {
            "text/plain": [
              "<IPython.core.display.HTML object>"
            ],
            "text/html": []
          },
          "metadata": {}
        },
        {
          "output_type": "display_data",
          "data": {
            "text/plain": [
              "<IPython.core.display.HTML object>"
            ],
            "text/html": [
              "<br>    <style><br>        .wandb-row {<br>            display: flex;<br>            flex-direction: row;<br>            flex-wrap: wrap;<br>            justify-content: flex-start;<br>            width: 100%;<br>        }<br>        .wandb-col {<br>            display: flex;<br>            flex-direction: column;<br>            flex-basis: 100%;<br>            flex: 1;<br>            padding: 10px;<br>        }<br>    </style><br><div class=\"wandb-row\"><div class=\"wandb-col\"><h3>Run history:</h3><br/><table class=\"wandb\"><tr><td>epoch</td><td>▁▁▂▂▂▃▃▄▄▄▅▅▅▆▆▇▇▇██</td></tr><tr><td>test_accuracy</td><td>▁</td></tr><tr><td>test_loss</td><td>▁</td></tr><tr><td>train_accuracy</td><td>▄▅▁▂▄██▇█▇▇▇▇▇▇▇▇▇▇▇</td></tr><tr><td>train_loss</td><td>█▇▅▄▃▂▂▁▁▁▁▁▁▁▁▁▁▁▁▁</td></tr><tr><td>val_accuracy</td><td>▇█▅▄▂▂▂▁▁▁▁▁▁▁▁▁▁▁▁▁</td></tr><tr><td>val_loss</td><td>█▆▅▃▂▂▂▁▁▁▁▁▁▁▁▁▁▁▁▁</td></tr></table><br/></div><div class=\"wandb-col\"><h3>Run summary:</h3><br/><table class=\"wandb\"><tr><td>epoch</td><td>20</td></tr><tr><td>test_accuracy</td><td>0.99203</td></tr><tr><td>test_loss</td><td>4.62161</td></tr><tr><td>train_accuracy</td><td>1.17647</td></tr><tr><td>train_loss</td><td>4.61434</td></tr><tr><td>val_accuracy</td><td>0.68627</td></tr><tr><td>val_loss</td><td>4.61841</td></tr></table><br/></div></div>"
            ]
          },
          "metadata": {}
        },
        {
          "output_type": "display_data",
          "data": {
            "text/plain": [
              "<IPython.core.display.HTML object>"
            ],
            "text/html": [
              " View run <strong style=\"color:#cdcd00\">lilac-sweep-26</strong> at: <a href='https://wandb.ai/kicza/flowers102-cnn/runs/pm7vi4jw' target=\"_blank\">https://wandb.ai/kicza/flowers102-cnn/runs/pm7vi4jw</a><br> View project at: <a href='https://wandb.ai/kicza/flowers102-cnn' target=\"_blank\">https://wandb.ai/kicza/flowers102-cnn</a><br>Synced 5 W&B file(s), 0 media file(s), 0 artifact file(s) and 0 other file(s)"
            ]
          },
          "metadata": {}
        },
        {
          "output_type": "display_data",
          "data": {
            "text/plain": [
              "<IPython.core.display.HTML object>"
            ],
            "text/html": [
              "Find logs at: <code>./wandb/run-20250409_225549-pm7vi4jw/logs</code>"
            ]
          },
          "metadata": {}
        },
        {
          "output_type": "stream",
          "name": "stderr",
          "text": [
            "\u001b[34m\u001b[1mwandb\u001b[0m: Agent Starting Run: yjnk5cbj with config:\n",
            "\u001b[34m\u001b[1mwandb\u001b[0m: \tbatch_size: 32\n",
            "\u001b[34m\u001b[1mwandb\u001b[0m: \tlearning_rate: 7.06025404160829e-05\n",
            "\u001b[34m\u001b[1mwandb\u001b[0m: \tnum_epochs: 20\n",
            "\u001b[34m\u001b[1mwandb\u001b[0m: \toptimizer: SGD\n"
          ]
        },
        {
          "output_type": "display_data",
          "data": {
            "text/plain": [
              "<IPython.core.display.HTML object>"
            ],
            "text/html": [
              "Ignoring project 'flowers102-cnn' when running a sweep."
            ]
          },
          "metadata": {}
        },
        {
          "output_type": "display_data",
          "data": {
            "text/plain": [
              "<IPython.core.display.HTML object>"
            ],
            "text/html": [
              "Tracking run with wandb version 0.19.9"
            ]
          },
          "metadata": {}
        },
        {
          "output_type": "display_data",
          "data": {
            "text/plain": [
              "<IPython.core.display.HTML object>"
            ],
            "text/html": [
              "Run data is saved locally in <code>/content/wandb/run-20250409_230047-yjnk5cbj</code>"
            ]
          },
          "metadata": {}
        },
        {
          "output_type": "display_data",
          "data": {
            "text/plain": [
              "<IPython.core.display.HTML object>"
            ],
            "text/html": [
              "Syncing run <strong><a href='https://wandb.ai/kicza/flowers102-cnn/runs/yjnk5cbj' target=\"_blank\">eager-sweep-27</a></strong> to <a href='https://wandb.ai/kicza/flowers102-cnn' target=\"_blank\">Weights & Biases</a> (<a href='https://wandb.me/developer-guide' target=\"_blank\">docs</a>)<br>Sweep page: <a href='https://wandb.ai/kicza/flowers102-cnn/sweeps/vr3xpu9o' target=\"_blank\">https://wandb.ai/kicza/flowers102-cnn/sweeps/vr3xpu9o</a>"
            ]
          },
          "metadata": {}
        },
        {
          "output_type": "display_data",
          "data": {
            "text/plain": [
              "<IPython.core.display.HTML object>"
            ],
            "text/html": [
              " View project at <a href='https://wandb.ai/kicza/flowers102-cnn' target=\"_blank\">https://wandb.ai/kicza/flowers102-cnn</a>"
            ]
          },
          "metadata": {}
        },
        {
          "output_type": "display_data",
          "data": {
            "text/plain": [
              "<IPython.core.display.HTML object>"
            ],
            "text/html": [
              " View sweep at <a href='https://wandb.ai/kicza/flowers102-cnn/sweeps/vr3xpu9o' target=\"_blank\">https://wandb.ai/kicza/flowers102-cnn/sweeps/vr3xpu9o</a>"
            ]
          },
          "metadata": {}
        },
        {
          "output_type": "display_data",
          "data": {
            "text/plain": [
              "<IPython.core.display.HTML object>"
            ],
            "text/html": [
              " View run at <a href='https://wandb.ai/kicza/flowers102-cnn/runs/yjnk5cbj' target=\"_blank\">https://wandb.ai/kicza/flowers102-cnn/runs/yjnk5cbj</a>"
            ]
          },
          "metadata": {}
        },
        {
          "output_type": "display_data",
          "data": {
            "text/plain": [
              "<IPython.core.display.HTML object>"
            ],
            "text/html": []
          },
          "metadata": {}
        },
        {
          "output_type": "display_data",
          "data": {
            "text/plain": [
              "<IPython.core.display.HTML object>"
            ],
            "text/html": [
              "<br>    <style><br>        .wandb-row {<br>            display: flex;<br>            flex-direction: row;<br>            flex-wrap: wrap;<br>            justify-content: flex-start;<br>            width: 100%;<br>        }<br>        .wandb-col {<br>            display: flex;<br>            flex-direction: column;<br>            flex-basis: 100%;<br>            flex: 1;<br>            padding: 10px;<br>        }<br>    </style><br><div class=\"wandb-row\"><div class=\"wandb-col\"><h3>Run history:</h3><br/><table class=\"wandb\"><tr><td>epoch</td><td>▁▁▂▂▂▃▃▄▄▄▅▅▅▆▆▇▇▇██</td></tr><tr><td>test_accuracy</td><td>▁</td></tr><tr><td>test_loss</td><td>▁</td></tr><tr><td>train_accuracy</td><td>████▁▁█▁▁▁▁▁▁▁▁▁▁▁▁▁</td></tr><tr><td>train_loss</td><td>█▇▅▄▃▂▂▂▁▁▁▁▁▁▁▁▁▁▁▁</td></tr><tr><td>val_accuracy</td><td>▁█▄█████████████████</td></tr><tr><td>val_loss</td><td>█▆▅▃▂▂▂▁▁▁▁▁▁▁▁▁▁▁▁▁</td></tr></table><br/></div><div class=\"wandb-col\"><h3>Run summary:</h3><br/><table class=\"wandb\"><tr><td>epoch</td><td>20</td></tr><tr><td>test_accuracy</td><td>0.52041</td></tr><tr><td>test_loss</td><td>4.62163</td></tr><tr><td>train_accuracy</td><td>0.98039</td></tr><tr><td>train_loss</td><td>4.62394</td></tr><tr><td>val_accuracy</td><td>1.17647</td></tr><tr><td>val_loss</td><td>4.62446</td></tr></table><br/></div></div>"
            ]
          },
          "metadata": {}
        },
        {
          "output_type": "display_data",
          "data": {
            "text/plain": [
              "<IPython.core.display.HTML object>"
            ],
            "text/html": [
              " View run <strong style=\"color:#cdcd00\">eager-sweep-27</strong> at: <a href='https://wandb.ai/kicza/flowers102-cnn/runs/yjnk5cbj' target=\"_blank\">https://wandb.ai/kicza/flowers102-cnn/runs/yjnk5cbj</a><br> View project at: <a href='https://wandb.ai/kicza/flowers102-cnn' target=\"_blank\">https://wandb.ai/kicza/flowers102-cnn</a><br>Synced 5 W&B file(s), 0 media file(s), 0 artifact file(s) and 0 other file(s)"
            ]
          },
          "metadata": {}
        },
        {
          "output_type": "display_data",
          "data": {
            "text/plain": [
              "<IPython.core.display.HTML object>"
            ],
            "text/html": [
              "Find logs at: <code>./wandb/run-20250409_230047-yjnk5cbj/logs</code>"
            ]
          },
          "metadata": {}
        },
        {
          "output_type": "stream",
          "name": "stderr",
          "text": [
            "\u001b[34m\u001b[1mwandb\u001b[0m: Agent Starting Run: y2w3v0j5 with config:\n",
            "\u001b[34m\u001b[1mwandb\u001b[0m: \tbatch_size: 64\n",
            "\u001b[34m\u001b[1mwandb\u001b[0m: \tlearning_rate: 0.00026121952319183375\n",
            "\u001b[34m\u001b[1mwandb\u001b[0m: \tnum_epochs: 20\n",
            "\u001b[34m\u001b[1mwandb\u001b[0m: \toptimizer: SGD\n"
          ]
        },
        {
          "output_type": "display_data",
          "data": {
            "text/plain": [
              "<IPython.core.display.HTML object>"
            ],
            "text/html": [
              "Ignoring project 'flowers102-cnn' when running a sweep."
            ]
          },
          "metadata": {}
        },
        {
          "output_type": "display_data",
          "data": {
            "text/plain": [
              "<IPython.core.display.HTML object>"
            ],
            "text/html": [
              "Tracking run with wandb version 0.19.9"
            ]
          },
          "metadata": {}
        },
        {
          "output_type": "display_data",
          "data": {
            "text/plain": [
              "<IPython.core.display.HTML object>"
            ],
            "text/html": [
              "Run data is saved locally in <code>/content/wandb/run-20250409_230529-y2w3v0j5</code>"
            ]
          },
          "metadata": {}
        },
        {
          "output_type": "display_data",
          "data": {
            "text/plain": [
              "<IPython.core.display.HTML object>"
            ],
            "text/html": [
              "Syncing run <strong><a href='https://wandb.ai/kicza/flowers102-cnn/runs/y2w3v0j5' target=\"_blank\">quiet-sweep-28</a></strong> to <a href='https://wandb.ai/kicza/flowers102-cnn' target=\"_blank\">Weights & Biases</a> (<a href='https://wandb.me/developer-guide' target=\"_blank\">docs</a>)<br>Sweep page: <a href='https://wandb.ai/kicza/flowers102-cnn/sweeps/vr3xpu9o' target=\"_blank\">https://wandb.ai/kicza/flowers102-cnn/sweeps/vr3xpu9o</a>"
            ]
          },
          "metadata": {}
        },
        {
          "output_type": "display_data",
          "data": {
            "text/plain": [
              "<IPython.core.display.HTML object>"
            ],
            "text/html": [
              " View project at <a href='https://wandb.ai/kicza/flowers102-cnn' target=\"_blank\">https://wandb.ai/kicza/flowers102-cnn</a>"
            ]
          },
          "metadata": {}
        },
        {
          "output_type": "display_data",
          "data": {
            "text/plain": [
              "<IPython.core.display.HTML object>"
            ],
            "text/html": [
              " View sweep at <a href='https://wandb.ai/kicza/flowers102-cnn/sweeps/vr3xpu9o' target=\"_blank\">https://wandb.ai/kicza/flowers102-cnn/sweeps/vr3xpu9o</a>"
            ]
          },
          "metadata": {}
        },
        {
          "output_type": "display_data",
          "data": {
            "text/plain": [
              "<IPython.core.display.HTML object>"
            ],
            "text/html": [
              " View run at <a href='https://wandb.ai/kicza/flowers102-cnn/runs/y2w3v0j5' target=\"_blank\">https://wandb.ai/kicza/flowers102-cnn/runs/y2w3v0j5</a>"
            ]
          },
          "metadata": {}
        }
      ]
    },
    {
      "cell_type": "markdown",
      "source": [
        "# ZAD. 6"
      ],
      "metadata": {
        "id": "ke9E05cIT-tr"
      }
    },
    {
      "cell_type": "code",
      "source": [
        "import torch\n",
        "import torch.nn as nn\n",
        "import torch.optim as optim\n",
        "from torchvision import datasets, transforms\n",
        "from torch.utils.data import DataLoader\n",
        "import wandb\n",
        "\n",
        "device = torch.device('cuda' if torch.cuda.is_available() else 'cpu')\n",
        "\n",
        "dropout_rates = [0.1, 0.2, 0.3]\n",
        "\n",
        "for dropout_rate in dropout_rates:\n",
        "    wandb.init(project='flowers102-cnn', entity='kicza', name=f'zad_dropout_{dropout_rate}')\n",
        "\n",
        "    transform = transforms.Compose([\n",
        "        transforms.Resize((224, 224)),\n",
        "        transforms.ToTensor(),\n",
        "        transforms.Normalize((0.5, 0.5, 0.5), (0.5, 0.5, 0.5))\n",
        "    ])\n",
        "\n",
        "\n",
        "    train_dataset = datasets.Flowers102(root='./data', split='train', download=True, transform=transform)\n",
        "    val_dataset = datasets.Flowers102(root='./data', split='val', download=True, transform=transform)\n",
        "    test_dataset = datasets.Flowers102(root='./data', split='test', download=True, transform=transform)\n",
        "\n",
        "    train_loader = DataLoader(train_dataset, batch_size=32, shuffle=True)\n",
        "    val_loader = DataLoader(val_dataset, batch_size=32, shuffle=False)\n",
        "    test_loader = DataLoader(test_dataset, batch_size=32, shuffle=False)\n",
        "\n",
        "    class SimpleCNN(nn.Module):\n",
        "        def __init__(self, num_classes=102, dropout_rate=0.5):\n",
        "            super(SimpleCNN, self).__init__()\n",
        "\n",
        "\n",
        "            self.conv1 = nn.Conv2d(in_channels=3, out_channels=16, kernel_size=3, stride=1, padding=1)\n",
        "            self.bn1 = nn.BatchNorm2d(16)\n",
        "            self.conv2 = nn.Conv2d(in_channels=16, out_channels=32, kernel_size=3, stride=1, padding=1)\n",
        "            self.bn2 = nn.BatchNorm2d(32)\n",
        "\n",
        "            self.pool = nn.MaxPool2d(2, 2)\n",
        "\n",
        "            self.fc1 = nn.Linear(32 * 56 * 56, 128)\n",
        "            self.fc2 = nn.Linear(128, num_classes)\n",
        "\n",
        "            self.dropout = nn.Dropout(p=dropout_rate)\n",
        "\n",
        "            self.relu = nn.ReLU()\n",
        "\n",
        "        def forward(self, x):\n",
        "            x = self.relu(self.bn1(self.conv1(x)))\n",
        "            x = self.pool(x)\n",
        "            x = self.relu(self.bn2(self.conv2(x)))\n",
        "            x = self.pool(x)\n",
        "\n",
        "            x = x.view(-1, 32 * 56 * 56)  # Flatten for fully connected layer\n",
        "            x = self.relu(self.fc1(x))\n",
        "\n",
        "            x = self.dropout(x)\n",
        "            x = self.fc2(x)\n",
        "            return x\n",
        "\n",
        "    model = SimpleCNN(num_classes=102, dropout_rate=dropout_rate)\n",
        "    model = model.to(device)\n",
        "\n",
        "    criterion = nn.CrossEntropyLoss()\n",
        "    optimizer = optim.Adam(model.parameters(), lr=0.00005)\n",
        "    scheduler = optim.lr_scheduler.StepLR(optimizer, step_size=5, gamma=0.1)\n",
        "\n",
        "\n",
        "    patience = 5\n",
        "    best_val_loss = float('inf')\n",
        "    epochs_without_improvement = 0\n",
        "    num_epochs = 30\n",
        "\n",
        "    for epoch in range(num_epochs):\n",
        "        model.train()\n",
        "        running_loss = 0.0\n",
        "        correct = 0\n",
        "        total = 0\n",
        "\n",
        "        for inputs, labels in train_loader:\n",
        "            inputs, labels = inputs.to(device), labels.to(device)\n",
        "            optimizer.zero_grad()\n",
        "            outputs = model(inputs)\n",
        "            loss = criterion(outputs, labels)\n",
        "            loss.backward()\n",
        "            optimizer.step()\n",
        "            running_loss += loss.item()\n",
        "            _, predicted = torch.max(outputs, 1)\n",
        "            total += labels.size(0)\n",
        "            correct += (predicted == labels).sum().item()\n",
        "\n",
        "        train_loss = running_loss / len(train_loader)\n",
        "        train_accuracy = 100 * correct / total\n",
        "\n",
        "        model.eval()\n",
        "        val_loss = 0.0\n",
        "        correct = 0\n",
        "        total = 0\n",
        "\n",
        "        with torch.no_grad():\n",
        "            for inputs, labels in val_loader:\n",
        "                inputs, labels = inputs.to(device), labels.to(device)\n",
        "                outputs = model(inputs)\n",
        "                loss = criterion(outputs, labels)\n",
        "                val_loss += loss.item()\n",
        "                _, predicted = torch.max(outputs, 1)\n",
        "                total += labels.size(0)\n",
        "                correct += (predicted == labels).sum().item()\n",
        "\n",
        "        val_loss = val_loss / len(val_loader)\n",
        "        val_accuracy = 100 * correct / total\n",
        "\n",
        "        wandb.log({\n",
        "            'epoch': epoch + 1,\n",
        "            'train_loss': train_loss,\n",
        "            'train_accuracy': train_accuracy,\n",
        "            'val_loss': val_loss,\n",
        "            'val_accuracy': val_accuracy,\n",
        "            'dropout_rate': dropout_rate\n",
        "        })\n",
        "\n",
        "        print(f'Epoch [{epoch+1}/{num_epochs}], '\n",
        "              f'Training Loss: {train_loss:.4f}, Training Accuracy: {train_accuracy:.2f}%, '\n",
        "              f'Validation Loss: {val_loss:.4f}, Validation Accuracy: {val_accuracy:.2f}%')\n",
        "\n",
        "        if val_loss < best_val_loss:\n",
        "            best_val_loss = val_loss\n",
        "            epochs_without_improvement = 0\n",
        "        else:\n",
        "            epochs_without_improvement += 1\n",
        "\n",
        "        if epochs_without_improvement >= patience:\n",
        "            print(f'Early stopping at epoch {epoch+1} due to no improvement in validation loss')\n",
        "            break\n",
        "\n",
        "        scheduler.step()\n",
        "\n",
        "    model.eval()\n",
        "    test_loss = 0.0\n",
        "    correct = 0\n",
        "    total = 0\n",
        "\n",
        "    with torch.no_grad():\n",
        "        for inputs, labels in test_loader:\n",
        "            inputs, labels = inputs.to(device), labels.to(device)\n",
        "            outputs = model(inputs)\n",
        "            loss = criterion(outputs, labels)\n",
        "            test_loss += loss.item()\n",
        "            _, predicted = torch.max(outputs, 1)\n",
        "            total += labels.size(0)\n",
        "            correct += (predicted == labels).sum().item()\n",
        "\n",
        "    test_loss = test_loss / len(test_loader)\n",
        "    test_accuracy = 100 * correct / total\n",
        "\n",
        "    wandb.log({\n",
        "        'test_loss': test_loss,\n",
        "        'test_accuracy': test_accuracy\n",
        "    })\n",
        "\n",
        "    print(f'Test Loss: {test_loss:.4f}, Test Accuracy: {test_accuracy:.2f}%')\n",
        "\n",
        "    wandb.finish()\n"
      ],
      "metadata": {
        "colab": {
          "base_uri": "https://localhost:8080/",
          "height": 1000
        },
        "id": "nE8HjzlTUBWl",
        "outputId": "66bc7f6e-bf4e-4084-df1b-f3669f8d7c5d"
      },
      "execution_count": null,
      "outputs": [
        {
          "output_type": "display_data",
          "data": {
            "text/plain": [
              "<IPython.core.display.HTML object>"
            ],
            "text/html": [
              "Tracking run with wandb version 0.19.9"
            ]
          },
          "metadata": {}
        },
        {
          "output_type": "display_data",
          "data": {
            "text/plain": [
              "<IPython.core.display.HTML object>"
            ],
            "text/html": [
              "Run data is saved locally in <code>/content/wandb/run-20250410_190327-73jn8k2o</code>"
            ]
          },
          "metadata": {}
        },
        {
          "output_type": "display_data",
          "data": {
            "text/plain": [
              "<IPython.core.display.HTML object>"
            ],
            "text/html": [
              "Syncing run <strong><a href='https://wandb.ai/kicza/flowers102-cnn/runs/73jn8k2o' target=\"_blank\">zad_dropout_0.1</a></strong> to <a href='https://wandb.ai/kicza/flowers102-cnn' target=\"_blank\">Weights & Biases</a> (<a href='https://wandb.me/developer-guide' target=\"_blank\">docs</a>)<br>"
            ]
          },
          "metadata": {}
        },
        {
          "output_type": "display_data",
          "data": {
            "text/plain": [
              "<IPython.core.display.HTML object>"
            ],
            "text/html": [
              " View project at <a href='https://wandb.ai/kicza/flowers102-cnn' target=\"_blank\">https://wandb.ai/kicza/flowers102-cnn</a>"
            ]
          },
          "metadata": {}
        },
        {
          "output_type": "display_data",
          "data": {
            "text/plain": [
              "<IPython.core.display.HTML object>"
            ],
            "text/html": [
              " View run at <a href='https://wandb.ai/kicza/flowers102-cnn/runs/73jn8k2o' target=\"_blank\">https://wandb.ai/kicza/flowers102-cnn/runs/73jn8k2o</a>"
            ]
          },
          "metadata": {}
        },
        {
          "output_type": "stream",
          "name": "stdout",
          "text": [
            "Epoch [1/30], Training Loss: 4.6682, Training Accuracy: 1.57%, Validation Loss: 4.5573, Validation Accuracy: 1.47%\n",
            "Epoch [2/30], Training Loss: 4.3536, Training Accuracy: 4.80%, Validation Loss: 4.4693, Validation Accuracy: 4.02%\n",
            "Epoch [3/30], Training Loss: 4.1878, Training Accuracy: 8.14%, Validation Loss: 4.4580, Validation Accuracy: 4.61%\n",
            "Epoch [4/30], Training Loss: 3.9635, Training Accuracy: 11.76%, Validation Loss: 4.4132, Validation Accuracy: 4.02%\n",
            "Epoch [5/30], Training Loss: 3.6847, Training Accuracy: 17.84%, Validation Loss: 4.3761, Validation Accuracy: 5.00%\n",
            "Epoch [6/30], Training Loss: 3.4216, Training Accuracy: 23.43%, Validation Loss: 4.3439, Validation Accuracy: 5.20%\n",
            "Epoch [7/30], Training Loss: 3.3418, Training Accuracy: 25.29%, Validation Loss: 4.3330, Validation Accuracy: 5.98%\n",
            "Epoch [8/30], Training Loss: 3.3111, Training Accuracy: 25.88%, Validation Loss: 4.3295, Validation Accuracy: 5.69%\n",
            "Epoch [9/30], Training Loss: 3.2834, Training Accuracy: 27.84%, Validation Loss: 4.3223, Validation Accuracy: 6.37%\n",
            "Epoch [10/30], Training Loss: 3.2293, Training Accuracy: 27.65%, Validation Loss: 4.3192, Validation Accuracy: 6.57%\n",
            "Epoch [11/30], Training Loss: 3.2040, Training Accuracy: 28.53%, Validation Loss: 4.3208, Validation Accuracy: 6.57%\n",
            "Epoch [12/30], Training Loss: 3.1968, Training Accuracy: 29.61%, Validation Loss: 4.3180, Validation Accuracy: 6.47%\n",
            "Epoch [13/30], Training Loss: 3.1726, Training Accuracy: 29.71%, Validation Loss: 4.3190, Validation Accuracy: 6.57%\n",
            "Epoch [14/30], Training Loss: 3.1926, Training Accuracy: 30.88%, Validation Loss: 4.3202, Validation Accuracy: 6.47%\n",
            "Epoch [15/30], Training Loss: 3.1787, Training Accuracy: 32.06%, Validation Loss: 4.3209, Validation Accuracy: 6.37%\n",
            "Epoch [16/30], Training Loss: 3.1824, Training Accuracy: 29.22%, Validation Loss: 4.3208, Validation Accuracy: 6.18%\n",
            "Epoch [17/30], Training Loss: 3.1630, Training Accuracy: 30.78%, Validation Loss: 4.3218, Validation Accuracy: 6.37%\n",
            "Early stopping at epoch 17 due to no improvement in validation loss\n",
            "Test Loss: 4.3482, Test Accuracy: 6.51%\n"
          ]
        },
        {
          "output_type": "display_data",
          "data": {
            "text/plain": [
              "<IPython.core.display.HTML object>"
            ],
            "text/html": []
          },
          "metadata": {}
        },
        {
          "output_type": "display_data",
          "data": {
            "text/plain": [
              "<IPython.core.display.HTML object>"
            ],
            "text/html": [
              "<br>    <style><br>        .wandb-row {<br>            display: flex;<br>            flex-direction: row;<br>            flex-wrap: wrap;<br>            justify-content: flex-start;<br>            width: 100%;<br>        }<br>        .wandb-col {<br>            display: flex;<br>            flex-direction: column;<br>            flex-basis: 100%;<br>            flex: 1;<br>            padding: 10px;<br>        }<br>    </style><br><div class=\"wandb-row\"><div class=\"wandb-col\"><h3>Run history:</h3><br/><table class=\"wandb\"><tr><td>dropout_rate</td><td>▁▁▁▁▁▁▁▁▁▁▁▁▁▁▁▁▁</td></tr><tr><td>epoch</td><td>▁▁▂▂▃▃▄▄▅▅▅▆▆▇▇██</td></tr><tr><td>test_accuracy</td><td>▁</td></tr><tr><td>test_loss</td><td>▁</td></tr><tr><td>train_accuracy</td><td>▁▂▃▃▅▆▆▇▇▇▇▇▇██▇█</td></tr><tr><td>train_loss</td><td>█▇▆▅▃▂▂▂▂▁▁▁▁▁▁▁▁</td></tr><tr><td>val_accuracy</td><td>▁▅▅▅▆▆▇▇███████▇█</td></tr><tr><td>val_loss</td><td>█▅▅▄▃▂▁▁▁▁▁▁▁▁▁▁▁</td></tr></table><br/></div><div class=\"wandb-col\"><h3>Run summary:</h3><br/><table class=\"wandb\"><tr><td>dropout_rate</td><td>0.1</td></tr><tr><td>epoch</td><td>17</td></tr><tr><td>test_accuracy</td><td>6.50512</td></tr><tr><td>test_loss</td><td>4.34823</td></tr><tr><td>train_accuracy</td><td>30.78431</td></tr><tr><td>train_loss</td><td>3.16295</td></tr><tr><td>val_accuracy</td><td>6.37255</td></tr><tr><td>val_loss</td><td>4.32177</td></tr></table><br/></div></div>"
            ]
          },
          "metadata": {}
        },
        {
          "output_type": "display_data",
          "data": {
            "text/plain": [
              "<IPython.core.display.HTML object>"
            ],
            "text/html": [
              " View run <strong style=\"color:#cdcd00\">zad_dropout_0.1</strong> at: <a href='https://wandb.ai/kicza/flowers102-cnn/runs/73jn8k2o' target=\"_blank\">https://wandb.ai/kicza/flowers102-cnn/runs/73jn8k2o</a><br> View project at: <a href='https://wandb.ai/kicza/flowers102-cnn' target=\"_blank\">https://wandb.ai/kicza/flowers102-cnn</a><br>Synced 5 W&B file(s), 0 media file(s), 0 artifact file(s) and 0 other file(s)"
            ]
          },
          "metadata": {}
        },
        {
          "output_type": "display_data",
          "data": {
            "text/plain": [
              "<IPython.core.display.HTML object>"
            ],
            "text/html": [
              "Find logs at: <code>./wandb/run-20250410_190327-73jn8k2o/logs</code>"
            ]
          },
          "metadata": {}
        },
        {
          "output_type": "display_data",
          "data": {
            "text/plain": [
              "<IPython.core.display.HTML object>"
            ],
            "text/html": [
              "Tracking run with wandb version 0.19.9"
            ]
          },
          "metadata": {}
        },
        {
          "output_type": "display_data",
          "data": {
            "text/plain": [
              "<IPython.core.display.HTML object>"
            ],
            "text/html": [
              "Run data is saved locally in <code>/content/wandb/run-20250410_190745-5cvami9i</code>"
            ]
          },
          "metadata": {}
        },
        {
          "output_type": "display_data",
          "data": {
            "text/plain": [
              "<IPython.core.display.HTML object>"
            ],
            "text/html": [
              "Syncing run <strong><a href='https://wandb.ai/kicza/flowers102-cnn/runs/5cvami9i' target=\"_blank\">zad_dropout_0.2</a></strong> to <a href='https://wandb.ai/kicza/flowers102-cnn' target=\"_blank\">Weights & Biases</a> (<a href='https://wandb.me/developer-guide' target=\"_blank\">docs</a>)<br>"
            ]
          },
          "metadata": {}
        },
        {
          "output_type": "display_data",
          "data": {
            "text/plain": [
              "<IPython.core.display.HTML object>"
            ],
            "text/html": [
              " View project at <a href='https://wandb.ai/kicza/flowers102-cnn' target=\"_blank\">https://wandb.ai/kicza/flowers102-cnn</a>"
            ]
          },
          "metadata": {}
        },
        {
          "output_type": "display_data",
          "data": {
            "text/plain": [
              "<IPython.core.display.HTML object>"
            ],
            "text/html": [
              " View run at <a href='https://wandb.ai/kicza/flowers102-cnn/runs/5cvami9i' target=\"_blank\">https://wandb.ai/kicza/flowers102-cnn/runs/5cvami9i</a>"
            ]
          },
          "metadata": {}
        },
        {
          "output_type": "stream",
          "name": "stdout",
          "text": [
            "Epoch [1/30], Training Loss: 4.6761, Training Accuracy: 1.76%, Validation Loss: 4.5601, Validation Accuracy: 2.16%\n",
            "Epoch [2/30], Training Loss: 4.4133, Training Accuracy: 3.43%, Validation Loss: 4.4853, Validation Accuracy: 2.94%\n",
            "Epoch [3/30], Training Loss: 4.2752, Training Accuracy: 5.98%, Validation Loss: 4.4701, Validation Accuracy: 4.12%\n",
            "Epoch [4/30], Training Loss: 4.1316, Training Accuracy: 8.04%, Validation Loss: 4.4503, Validation Accuracy: 3.73%\n",
            "Epoch [5/30], Training Loss: 3.9135, Training Accuracy: 12.06%, Validation Loss: 4.4098, Validation Accuracy: 4.61%\n",
            "Epoch [6/30], Training Loss: 3.7165, Training Accuracy: 16.76%, Validation Loss: 4.3989, Validation Accuracy: 4.41%\n",
            "Epoch [7/30], Training Loss: 3.6732, Training Accuracy: 17.06%, Validation Loss: 4.3991, Validation Accuracy: 4.71%\n",
            "Epoch [8/30], Training Loss: 3.6548, Training Accuracy: 17.25%, Validation Loss: 4.3919, Validation Accuracy: 4.90%\n",
            "Epoch [9/30], Training Loss: 3.6287, Training Accuracy: 18.73%, Validation Loss: 4.3863, Validation Accuracy: 5.20%\n",
            "Epoch [10/30], Training Loss: 3.5862, Training Accuracy: 20.49%, Validation Loss: 4.3900, Validation Accuracy: 5.29%\n",
            "Epoch [11/30], Training Loss: 3.6050, Training Accuracy: 18.14%, Validation Loss: 4.3891, Validation Accuracy: 5.29%\n",
            "Epoch [12/30], Training Loss: 3.5897, Training Accuracy: 19.02%, Validation Loss: 4.3875, Validation Accuracy: 5.29%\n",
            "Epoch [13/30], Training Loss: 3.5536, Training Accuracy: 20.78%, Validation Loss: 4.3867, Validation Accuracy: 5.20%\n",
            "Epoch [14/30], Training Loss: 3.5549, Training Accuracy: 20.59%, Validation Loss: 4.3856, Validation Accuracy: 5.10%\n",
            "Epoch [15/30], Training Loss: 3.5610, Training Accuracy: 21.18%, Validation Loss: 4.3857, Validation Accuracy: 5.20%\n",
            "Epoch [16/30], Training Loss: 3.5558, Training Accuracy: 20.39%, Validation Loss: 4.3870, Validation Accuracy: 5.39%\n",
            "Epoch [17/30], Training Loss: 3.5360, Training Accuracy: 21.47%, Validation Loss: 4.3860, Validation Accuracy: 5.29%\n",
            "Epoch [18/30], Training Loss: 3.5686, Training Accuracy: 19.41%, Validation Loss: 4.3865, Validation Accuracy: 5.29%\n",
            "Epoch [19/30], Training Loss: 3.5583, Training Accuracy: 21.27%, Validation Loss: 4.3864, Validation Accuracy: 5.20%\n",
            "Early stopping at epoch 19 due to no improvement in validation loss\n",
            "Test Loss: 4.4031, Test Accuracy: 4.93%\n"
          ]
        },
        {
          "output_type": "display_data",
          "data": {
            "text/plain": [
              "<IPython.core.display.HTML object>"
            ],
            "text/html": []
          },
          "metadata": {}
        },
        {
          "output_type": "display_data",
          "data": {
            "text/plain": [
              "<IPython.core.display.HTML object>"
            ],
            "text/html": [
              "<br>    <style><br>        .wandb-row {<br>            display: flex;<br>            flex-direction: row;<br>            flex-wrap: wrap;<br>            justify-content: flex-start;<br>            width: 100%;<br>        }<br>        .wandb-col {<br>            display: flex;<br>            flex-direction: column;<br>            flex-basis: 100%;<br>            flex: 1;<br>            padding: 10px;<br>        }<br>    </style><br><div class=\"wandb-row\"><div class=\"wandb-col\"><h3>Run history:</h3><br/><table class=\"wandb\"><tr><td>dropout_rate</td><td>▁▁▁▁▁▁▁▁▁▁▁▁▁▁▁▁▁▁▁</td></tr><tr><td>epoch</td><td>▁▁▂▂▃▃▃▄▄▅▅▅▆▆▆▇▇██</td></tr><tr><td>test_accuracy</td><td>▁</td></tr><tr><td>test_loss</td><td>▁</td></tr><tr><td>train_accuracy</td><td>▁▂▂▃▅▆▆▇▇█▇▇█████▇█</td></tr><tr><td>train_loss</td><td>█▆▆▅▃▂▂▂▂▁▁▁▁▁▁▁▁▁▁</td></tr><tr><td>val_accuracy</td><td>▁▃▅▄▆▆▇▇█████▇█████</td></tr><tr><td>val_loss</td><td>█▅▄▄▂▂▂▁▁▁▁▁▁▁▁▁▁▁▁</td></tr></table><br/></div><div class=\"wandb-col\"><h3>Run summary:</h3><br/><table class=\"wandb\"><tr><td>dropout_rate</td><td>0.2</td></tr><tr><td>epoch</td><td>19</td></tr><tr><td>test_accuracy</td><td>4.92763</td></tr><tr><td>test_loss</td><td>4.40314</td></tr><tr><td>train_accuracy</td><td>21.27451</td></tr><tr><td>train_loss</td><td>3.5583</td></tr><tr><td>val_accuracy</td><td>5.19608</td></tr><tr><td>val_loss</td><td>4.38639</td></tr></table><br/></div></div>"
            ]
          },
          "metadata": {}
        },
        {
          "output_type": "display_data",
          "data": {
            "text/plain": [
              "<IPython.core.display.HTML object>"
            ],
            "text/html": [
              " View run <strong style=\"color:#cdcd00\">zad_dropout_0.2</strong> at: <a href='https://wandb.ai/kicza/flowers102-cnn/runs/5cvami9i' target=\"_blank\">https://wandb.ai/kicza/flowers102-cnn/runs/5cvami9i</a><br> View project at: <a href='https://wandb.ai/kicza/flowers102-cnn' target=\"_blank\">https://wandb.ai/kicza/flowers102-cnn</a><br>Synced 5 W&B file(s), 0 media file(s), 0 artifact file(s) and 0 other file(s)"
            ]
          },
          "metadata": {}
        },
        {
          "output_type": "display_data",
          "data": {
            "text/plain": [
              "<IPython.core.display.HTML object>"
            ],
            "text/html": [
              "Find logs at: <code>./wandb/run-20250410_190745-5cvami9i/logs</code>"
            ]
          },
          "metadata": {}
        },
        {
          "output_type": "display_data",
          "data": {
            "text/plain": [
              "<IPython.core.display.HTML object>"
            ],
            "text/html": [
              "Tracking run with wandb version 0.19.9"
            ]
          },
          "metadata": {}
        },
        {
          "output_type": "display_data",
          "data": {
            "text/plain": [
              "<IPython.core.display.HTML object>"
            ],
            "text/html": [
              "Run data is saved locally in <code>/content/wandb/run-20250410_191224-rcre73c3</code>"
            ]
          },
          "metadata": {}
        },
        {
          "output_type": "display_data",
          "data": {
            "text/plain": [
              "<IPython.core.display.HTML object>"
            ],
            "text/html": [
              "Syncing run <strong><a href='https://wandb.ai/kicza/flowers102-cnn/runs/rcre73c3' target=\"_blank\">zad_dropout_0.3</a></strong> to <a href='https://wandb.ai/kicza/flowers102-cnn' target=\"_blank\">Weights & Biases</a> (<a href='https://wandb.me/developer-guide' target=\"_blank\">docs</a>)<br>"
            ]
          },
          "metadata": {}
        },
        {
          "output_type": "display_data",
          "data": {
            "text/plain": [
              "<IPython.core.display.HTML object>"
            ],
            "text/html": [
              " View project at <a href='https://wandb.ai/kicza/flowers102-cnn' target=\"_blank\">https://wandb.ai/kicza/flowers102-cnn</a>"
            ]
          },
          "metadata": {}
        },
        {
          "output_type": "display_data",
          "data": {
            "text/plain": [
              "<IPython.core.display.HTML object>"
            ],
            "text/html": [
              " View run at <a href='https://wandb.ai/kicza/flowers102-cnn/runs/rcre73c3' target=\"_blank\">https://wandb.ai/kicza/flowers102-cnn/runs/rcre73c3</a>"
            ]
          },
          "metadata": {}
        },
        {
          "output_type": "stream",
          "name": "stdout",
          "text": [
            "Epoch [1/30], Training Loss: 4.6721, Training Accuracy: 0.98%, Validation Loss: 4.5656, Validation Accuracy: 2.75%\n",
            "Epoch [2/30], Training Loss: 4.4447, Training Accuracy: 3.33%, Validation Loss: 4.4891, Validation Accuracy: 3.14%\n",
            "Epoch [3/30], Training Loss: 4.3024, Training Accuracy: 3.14%, Validation Loss: 4.4018, Validation Accuracy: 4.80%\n",
            "Epoch [4/30], Training Loss: 4.1755, Training Accuracy: 5.78%, Validation Loss: 4.3896, Validation Accuracy: 4.31%\n",
            "Epoch [5/30], Training Loss: 3.9758, Training Accuracy: 9.41%, Validation Loss: 4.3182, Validation Accuracy: 5.69%\n",
            "Epoch [6/30], Training Loss: 3.7664, Training Accuracy: 14.02%, Validation Loss: 4.2602, Validation Accuracy: 6.96%\n",
            "Epoch [7/30], Training Loss: 3.6744, Training Accuracy: 15.98%, Validation Loss: 4.2507, Validation Accuracy: 7.06%\n",
            "Epoch [8/30], Training Loss: 3.6326, Training Accuracy: 17.55%, Validation Loss: 4.2399, Validation Accuracy: 7.35%\n",
            "Epoch [9/30], Training Loss: 3.5926, Training Accuracy: 18.73%, Validation Loss: 4.2324, Validation Accuracy: 7.65%\n",
            "Epoch [10/30], Training Loss: 3.5425, Training Accuracy: 19.12%, Validation Loss: 4.2218, Validation Accuracy: 7.06%\n",
            "Epoch [11/30], Training Loss: 3.5057, Training Accuracy: 20.59%, Validation Loss: 4.2229, Validation Accuracy: 7.84%\n",
            "Epoch [12/30], Training Loss: 3.5161, Training Accuracy: 18.73%, Validation Loss: 4.2205, Validation Accuracy: 7.84%\n",
            "Epoch [13/30], Training Loss: 3.5599, Training Accuracy: 18.53%, Validation Loss: 4.2191, Validation Accuracy: 7.25%\n",
            "Epoch [14/30], Training Loss: 3.4965, Training Accuracy: 20.20%, Validation Loss: 4.2194, Validation Accuracy: 7.35%\n",
            "Epoch [15/30], Training Loss: 3.4976, Training Accuracy: 20.78%, Validation Loss: 4.2182, Validation Accuracy: 7.84%\n",
            "Epoch [16/30], Training Loss: 3.4842, Training Accuracy: 20.78%, Validation Loss: 4.2174, Validation Accuracy: 7.94%\n",
            "Epoch [17/30], Training Loss: 3.5031, Training Accuracy: 19.31%, Validation Loss: 4.2187, Validation Accuracy: 7.35%\n",
            "Epoch [18/30], Training Loss: 3.4866, Training Accuracy: 19.41%, Validation Loss: 4.2196, Validation Accuracy: 7.25%\n",
            "Epoch [19/30], Training Loss: 3.4863, Training Accuracy: 20.69%, Validation Loss: 4.2192, Validation Accuracy: 7.25%\n",
            "Epoch [20/30], Training Loss: 3.4925, Training Accuracy: 19.51%, Validation Loss: 4.2187, Validation Accuracy: 7.84%\n",
            "Epoch [21/30], Training Loss: 3.4712, Training Accuracy: 20.49%, Validation Loss: 4.2186, Validation Accuracy: 7.94%\n",
            "Early stopping at epoch 21 due to no improvement in validation loss\n",
            "Test Loss: 4.2512, Test Accuracy: 6.60%\n"
          ]
        },
        {
          "output_type": "display_data",
          "data": {
            "text/plain": [
              "<IPython.core.display.HTML object>"
            ],
            "text/html": []
          },
          "metadata": {}
        },
        {
          "output_type": "display_data",
          "data": {
            "text/plain": [
              "<IPython.core.display.HTML object>"
            ],
            "text/html": [
              "<br>    <style><br>        .wandb-row {<br>            display: flex;<br>            flex-direction: row;<br>            flex-wrap: wrap;<br>            justify-content: flex-start;<br>            width: 100%;<br>        }<br>        .wandb-col {<br>            display: flex;<br>            flex-direction: column;<br>            flex-basis: 100%;<br>            flex: 1;<br>            padding: 10px;<br>        }<br>    </style><br><div class=\"wandb-row\"><div class=\"wandb-col\"><h3>Run history:</h3><br/><table class=\"wandb\"><tr><td>dropout_rate</td><td>▁▁▁▁▁▁▁▁▁▁▁▁▁▁▁▁▁▁▁▁▁</td></tr><tr><td>epoch</td><td>▁▁▂▂▂▃▃▃▄▄▅▅▅▆▆▆▇▇▇██</td></tr><tr><td>test_accuracy</td><td>▁</td></tr><tr><td>test_loss</td><td>▁</td></tr><tr><td>train_accuracy</td><td>▁▂▂▃▄▆▆▇▇▇█▇▇███▇████</td></tr><tr><td>train_loss</td><td>█▇▆▅▄▃▂▂▂▁▁▁▂▁▁▁▁▁▁▁▁</td></tr><tr><td>val_accuracy</td><td>▁▂▄▃▅▇▇▇█▇██▇▇██▇▇▇██</td></tr><tr><td>val_loss</td><td>█▆▅▄▃▂▂▁▁▁▁▁▁▁▁▁▁▁▁▁▁</td></tr></table><br/></div><div class=\"wandb-col\"><h3>Run summary:</h3><br/><table class=\"wandb\"><tr><td>dropout_rate</td><td>0.3</td></tr><tr><td>epoch</td><td>21</td></tr><tr><td>test_accuracy</td><td>6.6027</td></tr><tr><td>test_loss</td><td>4.25116</td></tr><tr><td>train_accuracy</td><td>20.4902</td></tr><tr><td>train_loss</td><td>3.47118</td></tr><tr><td>val_accuracy</td><td>7.94118</td></tr><tr><td>val_loss</td><td>4.21858</td></tr></table><br/></div></div>"
            ]
          },
          "metadata": {}
        },
        {
          "output_type": "display_data",
          "data": {
            "text/plain": [
              "<IPython.core.display.HTML object>"
            ],
            "text/html": [
              " View run <strong style=\"color:#cdcd00\">zad_dropout_0.3</strong> at: <a href='https://wandb.ai/kicza/flowers102-cnn/runs/rcre73c3' target=\"_blank\">https://wandb.ai/kicza/flowers102-cnn/runs/rcre73c3</a><br> View project at: <a href='https://wandb.ai/kicza/flowers102-cnn' target=\"_blank\">https://wandb.ai/kicza/flowers102-cnn</a><br>Synced 5 W&B file(s), 0 media file(s), 0 artifact file(s) and 0 other file(s)"
            ]
          },
          "metadata": {}
        },
        {
          "output_type": "display_data",
          "data": {
            "text/plain": [
              "<IPython.core.display.HTML object>"
            ],
            "text/html": [
              "Find logs at: <code>./wandb/run-20250410_191224-rcre73c3/logs</code>"
            ]
          },
          "metadata": {}
        }
      ]
    },
    {
      "cell_type": "markdown",
      "source": [
        "# ZAD. 7"
      ],
      "metadata": {
        "id": "oL9cHS71cUjX"
      }
    },
    {
      "cell_type": "code",
      "source": [
        "import torch\n",
        "import torch.nn as nn\n",
        "import torch.optim as optim\n",
        "from torchvision import datasets, transforms\n",
        "from torch.utils.data import DataLoader\n",
        "import wandb\n",
        "\n",
        "wandb.init(project='flowers102-cnn', entity='kicza', name='zad.7')\n",
        "\n",
        "device = torch.device('cuda' if torch.cuda.is_available() else 'cpu')\n",
        "\n",
        "train_transform = transforms.Compose([\n",
        "    transforms.RandomResizedCrop(224, scale=(0.85, 1.0)),\n",
        "    transforms.RandomHorizontalFlip(p=0.5),\n",
        "    transforms.ColorJitter(brightness=0.2, contrast=0.2, saturation=0.2, hue=0.02),\n",
        "    transforms.RandomRotation(degrees=10),\n",
        "    transforms.ToTensor(),\n",
        "    transforms.Normalize((0.5, 0.5, 0.5), (0.5, 0.5, 0.5)),\n",
        "])\n",
        "\n",
        "\n",
        "# Validation and Test Data (no augmentation, only resizing and normalization)\n",
        "val_transform = transforms.Compose([\n",
        "    transforms.Resize((224, 224)),\n",
        "    transforms.ToTensor(),\n",
        "    transforms.Normalize((0.5, 0.5, 0.5), (0.5, 0.5, 0.5))\n",
        "])\n",
        "\n",
        "test_transform = transforms.Compose([\n",
        "    transforms.Resize((224, 224)),\n",
        "    transforms.ToTensor(),\n",
        "    transforms.Normalize((0.5, 0.5, 0.5), (0.5, 0.5, 0.5))\n",
        "])\n",
        "\n",
        "\n",
        "train_dataset = datasets.Flowers102(root='./data', split='train', download=True, transform=train_transform)\n",
        "val_dataset = datasets.Flowers102(root='./data', split='val', download=True, transform=val_transform)\n",
        "test_dataset = datasets.Flowers102(root='./data', split='test', download=True, transform=test_transform)\n",
        "\n",
        "train_loader = DataLoader(train_dataset, batch_size=32, shuffle=True)\n",
        "val_loader = DataLoader(val_dataset, batch_size=32, shuffle=False)\n",
        "test_loader = DataLoader(test_dataset, batch_size=32, shuffle=False)\n",
        "\n",
        "\n",
        "class SimpleCNN(nn.Module):\n",
        "    def __init__(self, num_classes=102):\n",
        "        super(SimpleCNN, self).__init__()\n",
        "        self.conv1 = nn.Conv2d(in_channels=3, out_channels=16, kernel_size=3, stride=1, padding=1)\n",
        "        self.conv2 = nn.Conv2d(in_channels=16, out_channels=32, kernel_size=3, stride=1, padding=1)\n",
        "        self.pool = nn.MaxPool2d(2, 2)\n",
        "        self.fc1 = nn.Linear(32 * 56 * 56, 128)\n",
        "        self.fc2 = nn.Linear(128, num_classes)\n",
        "        self.relu = nn.ReLU()\n",
        "\n",
        "    def forward(self, x):\n",
        "        x = self.relu(self.conv1(x))\n",
        "        x = self.pool(x)\n",
        "        x = self.relu(self.conv2(x))\n",
        "        x = self.pool(x)\n",
        "        x = x.view(-1, 32 * 56 * 56)\n",
        "        x = self.relu(self.fc1(x))\n",
        "        x = self.fc2(x)\n",
        "        return x\n",
        "\n",
        "model = SimpleCNN(num_classes=102)\n",
        "model = model.to(device)\n",
        "\n",
        "\n",
        "criterion = nn.CrossEntropyLoss()\n",
        "optimizer = optim.Adam(model.parameters(), lr=0.0001)\n",
        "\n",
        "scheduler = optim.lr_scheduler.StepLR(optimizer, step_size=5, gamma=0.1)\n",
        "\n",
        "\n",
        "patience = 5\n",
        "best_val_loss = float('inf')\n",
        "epochs_without_improvement = 0\n",
        "\n",
        "num_epochs = 20\n",
        "\n",
        "\n",
        "for epoch in range(num_epochs):\n",
        "    model.train()\n",
        "    running_loss = 0.0\n",
        "    correct = 0\n",
        "    total = 0\n",
        "\n",
        "    for inputs, labels in train_loader:\n",
        "        inputs, labels = inputs.to(device), labels.to(device)\n",
        "        optimizer.zero_grad()\n",
        "        outputs = model(inputs)\n",
        "        loss = criterion(outputs, labels)\n",
        "        loss.backward()\n",
        "        optimizer.step()\n",
        "        running_loss += loss.item()\n",
        "        _, predicted = torch.max(outputs, 1)\n",
        "        total += labels.size(0)\n",
        "        correct += (predicted == labels).sum().item()\n",
        "\n",
        "    train_loss = running_loss / len(train_loader)\n",
        "    train_accuracy = 100 * correct / total\n",
        "\n",
        "    # Validation Step\n",
        "    model.eval()\n",
        "    val_loss = 0.0\n",
        "    correct = 0\n",
        "    total = 0\n",
        "\n",
        "    with torch.no_grad():\n",
        "        for inputs, labels in val_loader:\n",
        "            inputs, labels = inputs.to(device), labels.to(device)\n",
        "            outputs = model(inputs)\n",
        "            loss = criterion(outputs, labels)\n",
        "            val_loss += loss.item()\n",
        "            _, predicted = torch.max(outputs, 1)\n",
        "            total += labels.size(0)\n",
        "            correct += (predicted == labels).sum().item()\n",
        "\n",
        "    val_loss = val_loss / len(val_loader)\n",
        "    val_accuracy = 100 * correct / total\n",
        "\n",
        "\n",
        "    wandb.log({\n",
        "        'epoch': epoch + 1,\n",
        "        'train_loss': train_loss,\n",
        "        'train_accuracy': train_accuracy,\n",
        "        'val_loss': val_loss,\n",
        "        'val_accuracy': val_accuracy\n",
        "    })\n",
        "\n",
        "    print(f'Epoch [{epoch+1}/{num_epochs}], '\n",
        "          f'Training Loss: {train_loss:.4f}, Training Accuracy: {train_accuracy:.2f}%, '\n",
        "          f'Validation Loss: {val_loss:.4f}, Validation Accuracy: {val_accuracy:.2f}%')\n",
        "\n",
        "\n",
        "    if val_loss < best_val_loss:\n",
        "        best_val_loss = val_loss\n",
        "        epochs_without_improvement = 0\n",
        "    else:\n",
        "        epochs_without_improvement += 1\n",
        "\n",
        "    if epochs_without_improvement >= patience:\n",
        "        print(f'Early stopping at epoch {epoch+1} due to no improvement in validation loss')\n",
        "        break\n",
        "\n",
        "    scheduler.step()\n",
        "\n",
        "\n",
        "model.eval()\n",
        "test_loss = 0.0\n",
        "correct = 0\n",
        "total = 0\n",
        "\n",
        "with torch.no_grad():\n",
        "    for inputs, labels in test_loader:\n",
        "        inputs, labels = inputs.to(device), labels.to(device)\n",
        "        outputs = model(inputs)\n",
        "        loss = criterion(outputs, labels)\n",
        "        test_loss += loss.item()\n",
        "        _, predicted = torch.max(outputs, 1)\n",
        "        total += labels.size(0)\n",
        "        correct += (predicted == labels).sum().item()\n",
        "\n",
        "test_loss = test_loss / len(test_loader)\n",
        "test_accuracy = 100 * correct / total\n",
        "\n",
        "wandb.log({\n",
        "    'test_loss': test_loss,\n",
        "    'test_accuracy': test_accuracy\n",
        "})\n",
        "\n",
        "print(f'Test Loss: {test_loss:.4f}, Test Accuracy: {test_accuracy:.2f}%')\n",
        "\n",
        "wandb.finish()\n"
      ],
      "metadata": {
        "id": "PZaWugxWdBjj",
        "colab": {
          "base_uri": "https://localhost:8080/",
          "height": 1000
        },
        "outputId": "b5ae9211-46bc-4416-ab87-52af4067a5b3"
      },
      "execution_count": null,
      "outputs": [
        {
          "output_type": "display_data",
          "data": {
            "text/plain": [
              "<IPython.core.display.HTML object>"
            ],
            "text/html": [
              "Tracking run with wandb version 0.19.9"
            ]
          },
          "metadata": {}
        },
        {
          "output_type": "display_data",
          "data": {
            "text/plain": [
              "<IPython.core.display.HTML object>"
            ],
            "text/html": [
              "Run data is saved locally in <code>/content/wandb/run-20250415_163318-rkp0tup8</code>"
            ]
          },
          "metadata": {}
        },
        {
          "output_type": "display_data",
          "data": {
            "text/plain": [
              "<IPython.core.display.HTML object>"
            ],
            "text/html": [
              "Syncing run <strong><a href='https://wandb.ai/kicza/flowers102-cnn/runs/rkp0tup8' target=\"_blank\">zad.7</a></strong> to <a href='https://wandb.ai/kicza/flowers102-cnn' target=\"_blank\">Weights & Biases</a> (<a href='https://wandb.me/developer-guide' target=\"_blank\">docs</a>)<br>"
            ]
          },
          "metadata": {}
        },
        {
          "output_type": "display_data",
          "data": {
            "text/plain": [
              "<IPython.core.display.HTML object>"
            ],
            "text/html": [
              " View project at <a href='https://wandb.ai/kicza/flowers102-cnn' target=\"_blank\">https://wandb.ai/kicza/flowers102-cnn</a>"
            ]
          },
          "metadata": {}
        },
        {
          "output_type": "display_data",
          "data": {
            "text/plain": [
              "<IPython.core.display.HTML object>"
            ],
            "text/html": [
              " View run at <a href='https://wandb.ai/kicza/flowers102-cnn/runs/rkp0tup8' target=\"_blank\">https://wandb.ai/kicza/flowers102-cnn/runs/rkp0tup8</a>"
            ]
          },
          "metadata": {}
        },
        {
          "output_type": "stream",
          "name": "stdout",
          "text": [
            "Epoch [1/20], Training Loss: 4.6432, Training Accuracy: 1.47%, Validation Loss: 4.5537, Validation Accuracy: 2.94%\n",
            "Epoch [2/20], Training Loss: 4.5298, Training Accuracy: 1.96%, Validation Loss: 4.4850, Validation Accuracy: 2.75%\n",
            "Epoch [3/20], Training Loss: 4.4357, Training Accuracy: 3.14%, Validation Loss: 4.4009, Validation Accuracy: 4.12%\n",
            "Epoch [4/20], Training Loss: 4.3300, Training Accuracy: 5.29%, Validation Loss: 4.3197, Validation Accuracy: 5.59%\n",
            "Epoch [5/20], Training Loss: 4.2016, Training Accuracy: 6.27%, Validation Loss: 4.2312, Validation Accuracy: 6.57%\n",
            "Epoch [6/20], Training Loss: 4.0642, Training Accuracy: 8.92%, Validation Loss: 4.2016, Validation Accuracy: 6.96%\n",
            "Epoch [7/20], Training Loss: 4.0102, Training Accuracy: 10.39%, Validation Loss: 4.1855, Validation Accuracy: 7.35%\n",
            "Epoch [8/20], Training Loss: 4.0055, Training Accuracy: 9.90%, Validation Loss: 4.1751, Validation Accuracy: 7.16%\n",
            "Epoch [9/20], Training Loss: 3.9927, Training Accuracy: 9.41%, Validation Loss: 4.1638, Validation Accuracy: 7.35%\n",
            "Epoch [10/20], Training Loss: 3.9641, Training Accuracy: 10.49%, Validation Loss: 4.1543, Validation Accuracy: 7.45%\n",
            "Epoch [11/20], Training Loss: 3.9507, Training Accuracy: 10.29%, Validation Loss: 4.1533, Validation Accuracy: 7.55%\n",
            "Epoch [12/20], Training Loss: 3.9479, Training Accuracy: 10.78%, Validation Loss: 4.1525, Validation Accuracy: 7.55%\n",
            "Epoch [13/20], Training Loss: 3.9410, Training Accuracy: 10.49%, Validation Loss: 4.1515, Validation Accuracy: 7.55%\n",
            "Epoch [14/20], Training Loss: 3.9378, Training Accuracy: 11.27%, Validation Loss: 4.1505, Validation Accuracy: 7.55%\n",
            "Epoch [15/20], Training Loss: 3.9494, Training Accuracy: 10.88%, Validation Loss: 4.1499, Validation Accuracy: 7.65%\n",
            "Epoch [16/20], Training Loss: 3.9451, Training Accuracy: 10.88%, Validation Loss: 4.1498, Validation Accuracy: 7.65%\n",
            "Epoch [17/20], Training Loss: 3.9522, Training Accuracy: 10.59%, Validation Loss: 4.1497, Validation Accuracy: 7.65%\n",
            "Epoch [18/20], Training Loss: 3.9380, Training Accuracy: 10.98%, Validation Loss: 4.1496, Validation Accuracy: 7.65%\n",
            "Epoch [19/20], Training Loss: 3.9487, Training Accuracy: 10.39%, Validation Loss: 4.1496, Validation Accuracy: 7.65%\n",
            "Epoch [20/20], Training Loss: 3.9386, Training Accuracy: 10.69%, Validation Loss: 4.1495, Validation Accuracy: 7.65%\n",
            "Test Loss: 4.2844, Test Accuracy: 4.46%\n"
          ]
        },
        {
          "output_type": "display_data",
          "data": {
            "text/plain": [
              "<IPython.core.display.HTML object>"
            ],
            "text/html": []
          },
          "metadata": {}
        },
        {
          "output_type": "display_data",
          "data": {
            "text/plain": [
              "<IPython.core.display.HTML object>"
            ],
            "text/html": [
              "<br>    <style><br>        .wandb-row {<br>            display: flex;<br>            flex-direction: row;<br>            flex-wrap: wrap;<br>            justify-content: flex-start;<br>            width: 100%;<br>        }<br>        .wandb-col {<br>            display: flex;<br>            flex-direction: column;<br>            flex-basis: 100%;<br>            flex: 1;<br>            padding: 10px;<br>        }<br>    </style><br><div class=\"wandb-row\"><div class=\"wandb-col\"><h3>Run history:</h3><br/><table class=\"wandb\"><tr><td>epoch</td><td>▁▁▂▂▂▃▃▄▄▄▅▅▅▆▆▇▇▇██</td></tr><tr><td>test_accuracy</td><td>▁</td></tr><tr><td>test_loss</td><td>▁</td></tr><tr><td>train_accuracy</td><td>▁▁▂▄▄▆▇▇▇▇▇█▇█████▇█</td></tr><tr><td>train_loss</td><td>█▇▆▅▄▂▂▂▂▁▁▁▁▁▁▁▁▁▁▁</td></tr><tr><td>val_accuracy</td><td>▁▁▃▅▆▇█▇████████████</td></tr><tr><td>val_loss</td><td>█▇▅▄▂▂▂▁▁▁▁▁▁▁▁▁▁▁▁▁</td></tr></table><br/></div><div class=\"wandb-col\"><h3>Run summary:</h3><br/><table class=\"wandb\"><tr><td>epoch</td><td>20</td></tr><tr><td>test_accuracy</td><td>4.45601</td></tr><tr><td>test_loss</td><td>4.28439</td></tr><tr><td>train_accuracy</td><td>10.68627</td></tr><tr><td>train_loss</td><td>3.93863</td></tr><tr><td>val_accuracy</td><td>7.64706</td></tr><tr><td>val_loss</td><td>4.14948</td></tr></table><br/></div></div>"
            ]
          },
          "metadata": {}
        },
        {
          "output_type": "display_data",
          "data": {
            "text/plain": [
              "<IPython.core.display.HTML object>"
            ],
            "text/html": [
              " View run <strong style=\"color:#cdcd00\">zad.7</strong> at: <a href='https://wandb.ai/kicza/flowers102-cnn/runs/rkp0tup8' target=\"_blank\">https://wandb.ai/kicza/flowers102-cnn/runs/rkp0tup8</a><br> View project at: <a href='https://wandb.ai/kicza/flowers102-cnn' target=\"_blank\">https://wandb.ai/kicza/flowers102-cnn</a><br>Synced 5 W&B file(s), 0 media file(s), 0 artifact file(s) and 0 other file(s)"
            ]
          },
          "metadata": {}
        },
        {
          "output_type": "display_data",
          "data": {
            "text/plain": [
              "<IPython.core.display.HTML object>"
            ],
            "text/html": [
              "Find logs at: <code>./wandb/run-20250415_163318-rkp0tup8/logs</code>"
            ]
          },
          "metadata": {}
        }
      ]
    }
  ],
  "metadata": {
    "accelerator": "GPU",
    "colab": {
      "provenance": [],
      "toc_visible": true
    },
    "hide_input": false,
    "kernelspec": {
      "display_name": "Python 3 (ipykernel)",
      "language": "python",
      "name": "python3"
    },
    "language_info": {
      "codemirror_mode": {
        "name": "ipython",
        "version": 3
      },
      "file_extension": ".py",
      "mimetype": "text/x-python",
      "name": "python",
      "nbconvert_exporter": "python",
      "pygments_lexer": "ipython3",
      "version": "3.9.16"
    },
    "toc": {
      "base_numbering": 1,
      "nav_menu": {},
      "number_sections": true,
      "sideBar": true,
      "skip_h1_title": false,
      "title_cell": "Table of Contents",
      "title_sidebar": "Contents",
      "toc_cell": false,
      "toc_position": {},
      "toc_section_display": true,
      "toc_window_display": false
    },
    "varInspector": {
      "cols": {
        "lenName": 16,
        "lenType": 16,
        "lenVar": 40
      },
      "kernels_config": {
        "python": {
          "delete_cmd_postfix": "",
          "delete_cmd_prefix": "del ",
          "library": "var_list.py",
          "varRefreshCmd": "print(var_dic_list())"
        },
        "r": {
          "delete_cmd_postfix": ") ",
          "delete_cmd_prefix": "rm(",
          "library": "var_list.r",
          "varRefreshCmd": "cat(var_dic_list()) "
        }
      },
      "types_to_exclude": [
        "module",
        "function",
        "builtin_function_or_method",
        "instance",
        "_Feature"
      ],
      "window_display": false
    }
  },
  "nbformat": 4,
  "nbformat_minor": 0
}