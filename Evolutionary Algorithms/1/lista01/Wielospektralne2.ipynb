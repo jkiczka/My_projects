{
 "cells": [
  {
   "cell_type": "code",
   "execution_count": 1,
   "id": "977af807-6d6f-4e39-96ee-e14ccad79e7f",
   "metadata": {},
   "outputs": [],
   "source": [
    "import random\n",
    "import numpy as np\n",
    "import matplotlib.pyplot as plt\n",
    "from scipy import stats\n",
    "from tqdm import tqdm"
   ]
  },
  {
   "cell_type": "code",
   "execution_count": 2,
   "id": "18033f0b-9a79-466a-9fbd-545a7ffabca5",
   "metadata": {},
   "outputs": [
    {
     "name": "stdout",
     "output_type": "stream",
     "text": [
      "266 9350\n"
     ]
    }
   ],
   "source": [
    "with open('ClassificationRules.txt', 'r') as file:\n",
    "    class_rules=[]\n",
    "    for line in file:\n",
    "        class_rules.append([int(float(n)) for n in line.strip().split()])\n",
    "        \n",
    "class_rules=np.array(class_rules)\n",
    "print(len(class_rules), len(class_rules[0])) #266 reguł klasyfikacji, każda to ciąg dł. 9350 zawierający liczby ze zbioru klas {1,2,3}"
   ]
  },
  {
   "cell_type": "code",
   "execution_count": 3,
   "id": "8c9b10be-782a-4b15-8d5d-f49f5ef135f1",
   "metadata": {},
   "outputs": [
    {
     "name": "stdout",
     "output_type": "stream",
     "text": [
      "9350\n"
     ]
    }
   ],
   "source": [
    "with open('ImageExpertReduced.txt', 'r') as file:\n",
    "    for line in file:\n",
    "        exemplary=np.array([float(n) for n in line.strip().split()]) #wzorcowa klasyfikacja\n",
    "print(len(exemplary))"
   ]
  },
  {
   "cell_type": "code",
   "execution_count": 4,
   "id": "25b697e6-d974-4934-830e-a8e394a29439",
   "metadata": {},
   "outputs": [],
   "source": [
    "def binary_random(p):\n",
    "    return (random.uniform(0, 1) < p)\n",
    "\n",
    "def initial_prob_vector(d):\n",
    "    return np.full(d, 0.5)\n",
    "\n",
    "def softmax(x):\n",
    "    exp_x = np.exp(x - np.max(x))\n",
    "    return exp_x / np.sum(exp_x)\n",
    "\n",
    "def random_individual(mean_vector, var, d):\n",
    "    weights = [random.gauss(mean_vector[i], var) for i in range(d)]\n",
    "    return softmax(weights)\n",
    "    \n",
    "def random_population(mean_vector, var, N,d):\n",
    "    return np.array([random_individual(mean_vector, var, d) for i in range(N)])\n",
    "\n",
    "def population_evaluation(P, f, exemplary, class_rules):\n",
    "    values = [f(i, exemplary, class_rules) for i in P]\n",
    "    return np.array(values)\n",
    "\n",
    "def pbil(f,N,T,t1,t2,t3,d, exemplary, class_rules):\n",
    "    mean_vector = np.ones(d) / d \n",
    "    var = 0.01\n",
    "    P = random_population(mean_vector,var,N,d)\n",
    "    pop_eval = population_evaluation(P,f, exemplary, class_rules)\n",
    "    \n",
    "    for t in tqdm(range(T)):\n",
    "        best = P[np.argmax(pop_eval)]\n",
    "        mean_vector = mean_vector*(1-t1)+best*t1\n",
    "        mutate_mask = np.random.rand(d) < t2\n",
    "        mean_vector[mutate_mask] = mean_vector[mutate_mask] * (1 - t3) + binary_random(0.5) * t3\n",
    "        P = random_population(mean_vector,var,N,d)\n",
    "        pop_eval = population_evaluation(P,f, exemplary, class_rules)\n",
    "        \n",
    "    return P[np.argmax(pop_eval)]\n",
    "\n",
    "def classification_quality(rules_weights, exemplary, class_rules):\n",
    "    d=len(class_rules[0])\n",
    "    vote_tab=np.zeros((3, d))\n",
    "    for num, rule in enumerate(class_rules) :\n",
    "        for i in range(d):\n",
    "            vote_tab[rule[i]-1][i]+=rules_weights[num]\n",
    "    \n",
    "    classification = np.argmax(vote_tab, axis=0)+1\n",
    "    return np.sum(classification == exemplary)\n",
    "    \n",
    "    "
   ]
  },
  {
   "cell_type": "code",
   "execution_count": 6,
   "id": "778cfc6b-8623-41eb-bfa4-63e84d1869da",
   "metadata": {},
   "outputs": [
    {
     "name": "stderr",
     "output_type": "stream",
     "text": [
      "100%|███████████████████████████████████████| 100/100 [2:11:27<00:00, 78.88s/it]\n"
     ]
    }
   ],
   "source": [
    "N=100\n",
    "T=100\n",
    "t1=0.3\n",
    "t2=0.3\n",
    "t3=0.2\n",
    "d=266\n",
    "'''\n",
    "θ1 - współczynnik uczenia\n",
    "θ2 - prawdopodobieństwo mutacji\n",
    "θ3 - współczynnik zaburzenia podczas mutacji\n",
    "'''\n",
    "result=pbil(classification_quality,N,T,t1,t2,t3,d, exemplary, class_rules)"
   ]
  },
  {
   "cell_type": "code",
   "execution_count": 9,
   "id": "99c9f076-2488-40d4-81f7-afdc567997d5",
   "metadata": {},
   "outputs": [
    {
     "data": {
      "text/plain": [
       "7968"
      ]
     },
     "execution_count": 9,
     "metadata": {},
     "output_type": "execute_result"
    }
   ],
   "source": [
    "classification_quality(result, exemplary, class_rules)"
   ]
  },
  {
   "cell_type": "code",
   "execution_count": 8,
   "id": "d70b1803-7ba3-41d2-ba45-5ff1258d59d9",
   "metadata": {},
   "outputs": [
    {
     "name": "stdout",
     "output_type": "stream",
     "text": [
      "0.8521925133689839\n"
     ]
    }
   ],
   "source": [
    "print(classification_quality(result, exemplary, class_rules)/9350)"
   ]
  },
  {
   "cell_type": "code",
   "execution_count": null,
   "id": "048e77e8-42dd-4946-81de-559d5fcd7ec7",
   "metadata": {},
   "outputs": [],
   "source": []
  },
  {
   "cell_type": "code",
   "execution_count": 36,
   "id": "ff361052-addf-4faf-9531-3c93afe6c96b",
   "metadata": {},
   "outputs": [
    {
     "name": "stdout",
     "output_type": "stream",
     "text": [
      "[[0.3 0.  0.  0.  0.3]\n",
      " [0.  0.3 0.3 0.  0. ]\n",
      " [0.  0.  0.  0.3 0. ]]\n",
      "[[0.3 0.  0.  0.2 0.5]\n",
      " [0.  0.3 0.3 0.  0. ]\n",
      " [0.2 0.2 0.2 0.3 0. ]]\n",
      "[[0.3 0.5 0.  0.2 0.5]\n",
      " [0.  0.3 0.8 0.  0. ]\n",
      " [0.7 0.2 0.2 0.8 0.5]]\n",
      "1\n"
     ]
    }
   ],
   "source": [
    "import numpy as np\n",
    "weights=[0.3,0.2,0.5]\n",
    "class_rules=[[1,2,2,3,1],[3,3,3,1,1], [3,1,2,3,3]]\n",
    "exemplary=[1,3,3,1,1]\n",
    "\n",
    "print(classification_quality(weights, exemplary, class_rules))\n",
    "\n"
   ]
  }
 ],
 "metadata": {
  "kernelspec": {
   "display_name": "Python 3 (ipykernel)",
   "language": "python",
   "name": "python3"
  },
  "language_info": {
   "codemirror_mode": {
    "name": "ipython",
    "version": 3
   },
   "file_extension": ".py",
   "mimetype": "text/x-python",
   "name": "python",
   "nbconvert_exporter": "python",
   "pygments_lexer": "ipython3",
   "version": "3.11.2"
  }
 },
 "nbformat": 4,
 "nbformat_minor": 5
}
