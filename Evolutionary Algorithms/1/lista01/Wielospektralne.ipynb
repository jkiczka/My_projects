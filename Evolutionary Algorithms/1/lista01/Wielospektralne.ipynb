{
 "cells": [
  {
   "cell_type": "code",
   "execution_count": 37,
   "id": "15c839d1-f8f2-4421-9673-d7625af47dd3",
   "metadata": {},
   "outputs": [],
   "source": [
    "import random\n",
    "import numpy as np\n",
    "import matplotlib.pyplot as plt\n",
    "from scipy import stats\n",
    "from tqdm import tqdm"
   ]
  },
  {
   "cell_type": "code",
   "execution_count": 38,
   "id": "cb7f565c-24ec-423c-b8b6-bb0b81f0234a",
   "metadata": {},
   "outputs": [
    {
     "name": "stdout",
     "output_type": "stream",
     "text": [
      "266 9350\n"
     ]
    }
   ],
   "source": [
    "with open('ClassificationRules.txt', 'r') as file:\n",
    "    class_rules=[]\n",
    "    for line in file:\n",
    "        class_rules.append([float(n) for n in line.strip().split()])\n",
    "        \n",
    "class_rules=np.array(class_rules)\n",
    "print(len(class_rules), len(class_rules[0])) #266 reguł klasyfikacji, każda to ciąg dł. 9350 zawierający liczby ze zbioru klas {1,2,3}"
   ]
  },
  {
   "cell_type": "code",
   "execution_count": 39,
   "id": "2f967fcf-87a1-4f19-b88f-2e1d7d2ca307",
   "metadata": {},
   "outputs": [
    {
     "name": "stdout",
     "output_type": "stream",
     "text": [
      "9350\n"
     ]
    }
   ],
   "source": [
    "with open('ImageExpertReduced.txt', 'r') as file:\n",
    "    for line in file:\n",
    "        exemplary=np.array([float(n) for n in line.strip().split()]) #wzorcowa klasyfikacja\n",
    "print(len(exemplary))"
   ]
  },
  {
   "cell_type": "code",
   "execution_count": 40,
   "id": "b0faa8dc-b7a2-450a-ac3e-92c8eff44bdb",
   "metadata": {},
   "outputs": [],
   "source": [
    "def binary_random(p):\n",
    "    return (random.uniform(0, 1) < p)\n",
    "\n",
    "def initial_prob_vector(d):\n",
    "    return np.array([0.5]*d)\n",
    "\n",
    "def random_individual(prob_vector,d):\n",
    "    return np.array([binary_random(prob_vector[i]) for i in range(d)])\n",
    "    \n",
    "def random_population(prob_vector,N,d):\n",
    "    return np.array([random_individual(prob_vector,d) for i in range(N)])\n",
    "\n",
    "def population_evaluation(P, f, exemplary, class_rules):\n",
    "    values = [f(i, exemplary, class_rules) for i in P]\n",
    "    return np.array(values)\n",
    "\n",
    "def pbil(f,N,T,t1,t2,t3,d, exemplary, class_rules):\n",
    "    prob_vector = initial_prob_vector(d)\n",
    "    P = random_population(prob_vector,N,d)\n",
    "    pop_eval = population_evaluation(P,f, exemplary, class_rules)\n",
    "    \n",
    "    for t in tqdm(range(T)):\n",
    "        best = P[np.argmax(pop_eval)]\n",
    "        prob_vector = prob_vector*(1-t1)+best*t1\n",
    "        for k in range(d):\n",
    "            if random.uniform(0, 1) < t2:\n",
    "                prob_vector[k]=prob_vector[k]*(1-t3)+binary_random(0.5)*t3\n",
    "        P = random_population(prob_vector,N,d)\n",
    "        pop_eval = population_evaluation(P,f, exemplary, class_rules)\n",
    "        \n",
    "    return P[np.argmax(pop_eval)]\n",
    "\n",
    "def classification_quality(chosen_rules, exemplary, class_rules):\n",
    "    classification = stats.mode(class_rules[chosen_rules], axis=0)[0]\n",
    "    return np.sum(classification == exemplary)\n",
    "    \n",
    "    "
   ]
  },
  {
   "cell_type": "code",
   "execution_count": 41,
   "id": "72325ae8-9a70-484c-9207-b75ece0a65da",
   "metadata": {},
   "outputs": [
    {
     "name": "stderr",
     "output_type": "stream",
     "text": [
      "100%|█████████████████████████████████████| 1000/1000 [2:50:51<00:00, 10.25s/it]\n"
     ]
    }
   ],
   "source": [
    "N=50\n",
    "T=1000\n",
    "t1=0.3\n",
    "t2=0.3\n",
    "t3=0.2\n",
    "d=266\n",
    "'''\n",
    "θ1 - współczynnik uczenia\n",
    "θ2 - prawdopodobieństwo mutacji\n",
    "θ3 - współczynnik zaburzenia podczas mutacji\n",
    "'''\n",
    "result=pbil(classification_quality,N,T,t1,t2,t3,d, exemplary, class_rules)"
   ]
  },
  {
   "cell_type": "code",
   "execution_count": 42,
   "id": "4aea72d2-3244-4559-b23a-49b39564e880",
   "metadata": {},
   "outputs": [
    {
     "data": {
      "text/plain": [
       "9146"
      ]
     },
     "execution_count": 42,
     "metadata": {},
     "output_type": "execute_result"
    }
   ],
   "source": [
    "classification_quality(result, exemplary, class_rules)"
   ]
  },
  {
   "cell_type": "code",
   "execution_count": 43,
   "id": "213811da-fd47-4c16-ab65-ba382d7ad9cc",
   "metadata": {},
   "outputs": [
    {
     "name": "stdout",
     "output_type": "stream",
     "text": [
      "0.9781818181818182\n"
     ]
    }
   ],
   "source": [
    "print(classification_quality(result, exemplary, class_rules)/9350)"
   ]
  },
  {
   "cell_type": "code",
   "execution_count": null,
   "id": "f70576ce-532f-44c0-a73c-f7bd1bfc2d27",
   "metadata": {},
   "outputs": [],
   "source": []
  }
 ],
 "metadata": {
  "kernelspec": {
   "display_name": "Python 3 (ipykernel)",
   "language": "python",
   "name": "python3"
  },
  "language_info": {
   "codemirror_mode": {
    "name": "ipython",
    "version": 3
   },
   "file_extension": ".py",
   "mimetype": "text/x-python",
   "name": "python",
   "nbconvert_exporter": "python",
   "pygments_lexer": "ipython3",
   "version": "3.11.2"
  }
 },
 "nbformat": 4,
 "nbformat_minor": 5
}
