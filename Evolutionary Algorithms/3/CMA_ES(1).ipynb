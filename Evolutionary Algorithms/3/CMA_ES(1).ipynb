{
 "cells": [
  {
   "cell_type": "code",
   "execution_count": null,
   "metadata": {},
   "outputs": [],
   "source": [
    "%load_ext autoreload\n",
    "%autoreload 2"
   ]
  },
  {
   "cell_type": "code",
   "execution_count": null,
   "metadata": {},
   "outputs": [],
   "source": [
    "import numpy as np\n",
    "import scipy\n",
    "import scipy.linalg\n",
    "\n",
    "import plotly.graph_objs as go\n",
    "import plotly.express as px"
   ]
  },
  {
   "cell_type": "code",
   "execution_count": null,
   "metadata": {},
   "outputs": [],
   "source": [
    "def plot_3d_function(f, a = 10, k = 100):\n",
    "    x = np.linspace(-a, a, k)\n",
    "    y = x.copy()\n",
    "    xy = np.transpose([np.tile(x, len(y)), np.repeat(y, len(x))])\n",
    "    z = f(xy)\n",
    "    fig = go.Figure(data=[go.Surface(x = x,  y= y, z=z.reshape((x.shape[0], -1)))])\n",
    "    fig.update_layout(title = f.__name__, margin=dict(l=65, r=50, b=65, t=90))\n",
    "    fig.show()"
   ]
  },
  {
   "cell_type": "markdown",
   "metadata": {},
   "source": [
    "# Funkcje celu"
   ]
  },
  {
   "cell_type": "code",
   "execution_count": null,
   "metadata": {},
   "outputs": [],
   "source": [
    "def sphere_function(X):\n",
    "    return np.sum(X**2, axis=1)"
   ]
  },
  {
   "cell_type": "code",
   "execution_count": null,
   "metadata": {},
   "outputs": [],
   "source": [
    "plot_3d_function(sphere_function)"
   ]
  },
  {
   "cell_type": "code",
   "execution_count": null,
   "metadata": {},
   "outputs": [],
   "source": [
    "def ellipsoid_function(X, a=2):\n",
    "    n = X.shape[-1]\n",
    "    return np.sum((a**(np.arange(n)/(n-1)))*X**2, axis=1)"
   ]
  },
  {
   "cell_type": "code",
   "execution_count": null,
   "metadata": {},
   "outputs": [],
   "source": [
    "plot_3d_function(ellipsoid_function, 20, 200)"
   ]
  },
  {
   "cell_type": "code",
   "execution_count": null,
   "metadata": {},
   "outputs": [],
   "source": [
    "def rastrigin_function(X):\n",
    "    return 10.0 * X.shape[1] + np.sum(X**2, axis=1) - 10.0 * np.sum(np.cos(2 * np.pi * X), axis=1)"
   ]
  },
  {
   "cell_type": "code",
   "execution_count": null,
   "metadata": {},
   "outputs": [],
   "source": [
    "plot_3d_function(rastrigin_function)"
   ]
  },
  {
   "cell_type": "code",
   "execution_count": null,
   "metadata": {},
   "outputs": [],
   "source": [
    "def schwefel_function(X):\n",
    "    return 418.9829 * X.shape[1] - np.sum(X * np.sin(np.sqrt(np.abs(X))), axis=1)"
   ]
  },
  {
   "cell_type": "code",
   "execution_count": null,
   "metadata": {},
   "outputs": [],
   "source": [
    "plot_3d_function(schwefel_function, 100, 1000)"
   ]
  },
  {
   "cell_type": "code",
   "execution_count": null,
   "metadata": {},
   "outputs": [],
   "source": [
    "def griewank_function(X):\n",
    "    return 1 + np.sum(X**2 / 4000, axis=1) - np.prod(np.cos(X / np.sqrt(np.linspace(1, X.shape[1], X.shape[1]))), axis=1)"
   ]
  },
  {
   "cell_type": "code",
   "execution_count": null,
   "metadata": {},
   "outputs": [],
   "source": [
    "plot_3d_function(griewank_function)"
   ]
  },
  {
   "cell_type": "code",
   "execution_count": null,
   "metadata": {},
   "outputs": [],
   "source": [
    "def cigar_function(X, a = 3):\n",
    "    if len(X.shape) == 1:\n",
    "        X = X[np.newaxis,:]\n",
    "    x1 = X[:,0]**2\n",
    "    x2 = np.sum(a*X[:,1:]**2, axis = 1)\n",
    "    return x1+x2"
   ]
  },
  {
   "cell_type": "code",
   "execution_count": null,
   "metadata": {},
   "outputs": [],
   "source": [
    "plot_3d_function(cigar_function, 100, 1000)"
   ]
  },
  {
   "cell_type": "code",
   "execution_count": null,
   "metadata": {},
   "outputs": [],
   "source": [
    "def discus_function(X, a = 3):\n",
    "    if len(X.shape) == 1:\n",
    "        X = X[np.newaxis,:]\n",
    "    x1 = a*X[:,0]**2\n",
    "    x2 = np.sum(X[:,1:]**2, axis = 1)\n",
    "    return x1+x2"
   ]
  },
  {
   "cell_type": "code",
   "execution_count": null,
   "metadata": {},
   "outputs": [],
   "source": [
    "plot_3d_function(discus_function, 100, 100)"
   ]
  },
  {
   "cell_type": "code",
   "execution_count": null,
   "metadata": {},
   "outputs": [],
   "source": [
    "def cigar_discus_function(X, a = 2):\n",
    "    if len(X.shape) == 1:\n",
    "        X = X[np.newaxis,:]\n",
    "    x1 = a*X[:,0]**2\n",
    "    x2 = np.sum((a**0.5)*X[:,1:-1]**2, axis = 1)\n",
    "    x3 = X[:,-1]**2\n",
    "    return x1+x2+x3"
   ]
  },
  {
   "cell_type": "code",
   "execution_count": null,
   "metadata": {},
   "outputs": [],
   "source": [
    "plot_3d_function(cigar_discus_function)"
   ]
  },
  {
   "cell_type": "code",
   "execution_count": null,
   "metadata": {},
   "outputs": [],
   "source": [
    "def parab_ridge_function(X):\n",
    "    if len(X.shape) == 1:\n",
    "        X = X[np.newaxis,:]\n",
    "    x1 = - X[:,0]\n",
    "    x2 = 100*np.sum(X[:,1:]**2, axis = 1)\n",
    "    return x1+x2"
   ]
  },
  {
   "cell_type": "code",
   "execution_count": null,
   "metadata": {},
   "outputs": [],
   "source": [
    "plot_3d_function(parab_ridge_function)"
   ]
  },
  {
   "cell_type": "code",
   "execution_count": null,
   "metadata": {},
   "outputs": [],
   "source": [
    "def two_axes_function(X, a = 5):\n",
    "    if len(X.shape) == 1:\n",
    "        X = X[np.newaxis,:]\n",
    "    n = X.shape[-1]\n",
    "    k = n//2\n",
    "    x1 = np.sum(a*X[:,:k]**2, axis = 1)\n",
    "    x2 = np.sum(X[:,k:]**2, axis = 1)\n",
    "    return x1+x2"
   ]
  },
  {
   "cell_type": "code",
   "execution_count": null,
   "metadata": {},
   "outputs": [],
   "source": [
    "plot_3d_function(two_axes_function, 10)"
   ]
  },
  {
   "cell_type": "markdown",
   "metadata": {},
   "source": [
    "# Implementacja CMA-ES"
   ]
  },
  {
   "cell_type": "code",
   "execution_count": 1,
   "metadata": {},
   "outputs": [],
   "source": [
    "class CMA_ES:\n",
    "    def __init__(self, x0, sigma, maxfevals = 10000, popsize = None, weights = None):\n",
    "        N = x0.shape[0]\n",
    "        self.dimension = N\n",
    "        self.chiN = N**0.5 * (1 - 1. / (4 * N) + 1. / (21 * N**2))\n",
    "        self.lam = 4 + int(3 * np.log(N)) if not popsize else popsize\n",
    "        print(f\"Popsize: {self.lam}\")\n",
    "        self.mu = int(self.lam / 2)\n",
    "        \n",
    "        if weights:\n",
    "            self.weights = weights\n",
    "        else:\n",
    "            self.weights = np.array([np.log(self.lam / 2 + 0.5) - np.log(i + 1) if i < self.mu else 0\n",
    "                        for i in range(self.lam)])\n",
    "            self.weights /= np.sum(self.weights)\n",
    "        self.mueff = np.sum(self.weights)**2 / np.sum(self.weights**2)\n",
    "        \n",
    "        self.cc = (4 + self.mueff/N) / (N+4 + 2 * self.mueff/N)\n",
    "        self.cs = (self.mueff + 2) / (N + self.mueff + 5)\n",
    "        self.c1 = 2 / ((N + 1.3)**2 + self.mueff) \n",
    "        self.cmu = min([1 - self.c1, 2 * (self.mueff - 2 + 1/self.mueff) / ((N + 2)**2 + self.mueff)])\n",
    "        self.damps = 2 * self.mueff/self.lam + 0.3 + self.cs\n",
    "\n",
    "        self.xmean = x0[:]\n",
    "        self.sigma = sigma\n",
    "        self.pc = np.zeros(N) \n",
    "        self.ps =np.zeros(N) \n",
    "        self.lazy_gap_evals = 0.5 * N * self.lam * (self.c1 + self.cmu)**-1 / N**2\n",
    "        self.maxfevals = maxfevals\n",
    "        self.C = np.identity(N)\n",
    "        self.counteval = 0 \n",
    "        self.fitvals = []   \n",
    "        self.best = (x0, None)\n",
    "        self.condition_number = 1\n",
    "        self.eigen_values = np.ones(N)\n",
    "        self.eigen_vectors = np.identity(N)\n",
    "        self.updated_eval = 0\n",
    "        self.inv_sqrt = np.ones(N)\n",
    "\n",
    "    def _update_eigensystem(self, current_eval, lazy_gap_evals):\n",
    "        if current_eval <= self.updated_eval + lazy_gap_evals:\n",
    "            return self\n",
    "        self.eigen_values, self.eigen_vectors = np.linalg.eig(self.C)\n",
    "        self.inv_sqrt = self.eigen_vectors @ np.diag(self.eigen_values**-0.5) @ self.eigen_vectors.T\n",
    "        self.condition_number = self.eigen_values.max() / self.eigen_values.min()\n",
    "         \n",
    "    def sample(self):\n",
    "        \"\"\"Wylosuj próbkę nowych osobników\"\"\"\n",
    "        # TODO\n",
    "        return y\n",
    "    \n",
    "    def update(self, x, fitvals):\n",
    "        \"\"\"Zaktualizuj wartości uzyskanych parametrów\"\"\"\n",
    "        self.counteval += fitvals.shape[0] # Zwiększamy licznik wykonań\n",
    "        N = self.xmean.shape[0]\n",
    "        x_old = self.xmean.copy()\n",
    "        \n",
    "        # Posortuj osobniki po wartości funkcji celu\n",
    "        # TODD\n",
    "        self.fitvals = #TODO Wartości funkcji celu dla posortowanych użytkowników\n",
    "        self.best = (x[0], self.fitvals[0])\n",
    "        \n",
    "        self.xmean = (self.weights @ x).ravel()\n",
    "        y = # Wektor przesunięcia średniej\n",
    "        z = # TODO\n",
    "        \n",
    "        # Aktualizacja ścieżki ewolucji dla sigmy\n",
    "        self.ps = #TODO\n",
    " \n",
    "        # Aktualizacja ścieżki ewolucji dla macierzy kowariancji\n",
    "        self.pc = #TODO\n",
    "        \n",
    "        #Aktualizacja macierzy kowariancji\n",
    "        self.C = #TODO\n",
    "\n",
    "        self.C = (self.C + self.C.T)/2.0 # Upewniamy się, że macierz jest symetryczna\n",
    "        \n",
    "        # Aktualizacja rozmiaru kroku\n",
    "        \n",
    "        self.sigma = # TODO\n",
    "        \n",
    "    def terminate(self):\n",
    "        \"\"\"Zakończ algorytm\"\"\"\n",
    "        if self.counteval <= 0:\n",
    "            return False\n",
    "        if self.counteval >= self.maxfevals:\n",
    "            return True\n",
    "        if self.condition_number > 1e13:\n",
    "            return True\n",
    "        if self.sigma * np.max(self.eigen_values)**0.5 < 1e-13:\n",
    "            return True\n",
    "        return False"
   ]
  },
  {
   "cell_type": "code",
   "execution_count": 2,
   "metadata": {},
   "outputs": [],
   "source": [
    "def optimize(func, x0, sigma, maxfevals = 1000, popsize = None, weights = None):\n",
    "    cma_es = CMA_ES(x0, sigma, maxfevals, popsize, weights)\n",
    "    res = []\n",
    "    cntr = 0\n",
    "    while not cma_es.terminate():\n",
    "        cntr+=1\n",
    "        x = cma_es.sample()\n",
    "        f_eval = func(x)\n",
    "        cma_es.update(x, f_eval)\n",
    "        res.append(cma_es.best)\n",
    "        if cntr % 100 == 0:\n",
    "            print(f\"Iteration {cntr:5d}: {res[-1][1]}\")\n",
    "    return res"
   ]
  },
  {
   "cell_type": "code",
   "execution_count": 3,
   "metadata": {},
   "outputs": [],
   "source": [
    "def optimize_and_plot(f, sigma = 1, d = 10, popsize = None):\n",
    "    x0 = np.repeat(100.0, d)\n",
    "    res = optimize(f, x0, sigma, popsize = popsize)\n",
    "    print(f\"Best: {res[-1][0]}, value: {res[-1][1]}\")\n",
    "    y = np.array([nd for st, nd in res])\n",
    "    fig = px.line(x = np.arange(y.shape[0]) + 1, y = y)\n",
    "    fig.show()"
   ]
  },
  {
   "cell_type": "markdown",
   "metadata": {},
   "source": [
    "# Ewaluacja CMA-ES"
   ]
  },
  {
   "cell_type": "code",
   "execution_count": 4,
   "metadata": {},
   "outputs": [
    {
     "ename": "NameError",
     "evalue": "name 'sphere_function' is not defined",
     "output_type": "error",
     "traceback": [
      "\u001b[0;31m---------------------------------------------------------------------------\u001b[0m",
      "\u001b[0;31mNameError\u001b[0m                                 Traceback (most recent call last)",
      "Cell \u001b[0;32mIn[4], line 1\u001b[0m\n\u001b[0;32m----> 1\u001b[0m optimize_and_plot(\u001b[43msphere_function\u001b[49m, d \u001b[38;5;241m=\u001b[39m \u001b[38;5;241m2\u001b[39m)\n",
      "\u001b[0;31mNameError\u001b[0m: name 'sphere_function' is not defined"
     ]
    }
   ],
   "source": [
    "optimize_and_plot(sphere_function, d = 2)"
   ]
  },
  {
   "cell_type": "code",
   "execution_count": null,
   "metadata": {},
   "outputs": [],
   "source": [
    "optimize_and_plot(sphere_function, sigma = 200)"
   ]
  },
  {
   "cell_type": "code",
   "execution_count": null,
   "metadata": {},
   "outputs": [],
   "source": [
    "optimize_and_plot(sphere_function)"
   ]
  },
  {
   "cell_type": "code",
   "execution_count": null,
   "metadata": {},
   "outputs": [],
   "source": [
    "optimize_and_plot(ellipsoid_function)"
   ]
  },
  {
   "cell_type": "code",
   "execution_count": null,
   "metadata": {},
   "outputs": [],
   "source": [
    "optimize_and_plot(griewank_function)"
   ]
  },
  {
   "cell_type": "code",
   "execution_count": null,
   "metadata": {},
   "outputs": [],
   "source": [
    "optimize_and_plot(rastrigin_function)"
   ]
  },
  {
   "cell_type": "code",
   "execution_count": null,
   "metadata": {},
   "outputs": [],
   "source": []
  }
 ],
 "metadata": {
  "kernelspec": {
   "display_name": "Python 3 (ipykernel)",
   "language": "python",
   "name": "python3"
  },
  "language_info": {
   "codemirror_mode": {
    "name": "ipython",
    "version": 3
   },
   "file_extension": ".py",
   "mimetype": "text/x-python",
   "name": "python",
   "nbconvert_exporter": "python",
   "pygments_lexer": "ipython3",
   "version": "3.11.2"
  }
 },
 "nbformat": 4,
 "nbformat_minor": 4
}
