{
  "nbformat": 4,
  "nbformat_minor": 0,
  "metadata": {
    "colab": {
      "provenance": []
    },
    "kernelspec": {
      "name": "python3",
      "display_name": "Python 3"
    },
    "language_info": {
      "name": "python"
    }
  },
  "cells": [
    {
      "cell_type": "code",
      "source": [
        "import torch\n",
        "from transformers import AutoTokenizer, AutoModelForCausalLM\n",
        "from torch.nn import functional as F\n",
        "import random\n",
        "\n",
        "model_name = 'flax-community/papuGaPT2'\n",
        "device = 'cuda'\n",
        "device = 'cpu'\n",
        "\n",
        "tokenizer = AutoTokenizer.from_pretrained(model_name)\n",
        "model = AutoModelForCausalLM.from_pretrained(model_name).to(device)\n",
        "\n",
        "def log_probs_from_logits(logits, labels):\n",
        "    logp = F.log_softmax(logits, dim=-1)\n",
        "    logp_label = torch.gather(logp, 2, labels.unsqueeze(2)).squeeze(-1)\n",
        "    return logp_label\n",
        "\n",
        "\n",
        "def sentence_prob(sentence_txt):\n",
        "    input_ids = tokenizer(sentence_txt, return_tensors='pt')['input_ids'].to(device)\n",
        "    with torch.no_grad():\n",
        "        output = model(input_ids=input_ids)\n",
        "        log_probs = log_probs_from_logits(output.logits[:, :-1, :], input_ids[:, 1:])\n",
        "        seq_log_probs = torch.sum(log_probs)\n",
        "    return seq_log_probs.cpu().numpy()\n",
        "\n",
        "sentences = [\n",
        "  'To jest zwykłe polskie zdanie.',\n",
        "  'This is a normal English sentence.',\n",
        "  'iweryuiiu hrfw3eieur fr'\n",
        "]\n",
        "\n",
        "print ()\n",
        "for s in sentences:\n",
        "    print (s, sentence_prob(s))"
      ],
      "metadata": {
        "colab": {
          "base_uri": "https://localhost:8080/"
        },
        "id": "-dkJXXDM-b0h",
        "outputId": "f4dcfab4-1877-4979-f1d9-1c1b339835fd"
      },
      "execution_count": null,
      "outputs": [
        {
          "output_type": "stream",
          "name": "stderr",
          "text": [
            "/usr/local/lib/python3.10/dist-packages/transformers/tokenization_utils_base.py:1601: FutureWarning: `clean_up_tokenization_spaces` was not set. It will be set to `True` by default. This behavior will be depracted in transformers v4.45, and will be then set to `False` by default. For more details check this issue: https://github.com/huggingface/transformers/issues/31884\n",
            "  warnings.warn(\n"
          ]
        },
        {
          "output_type": "stream",
          "name": "stdout",
          "text": [
            "\n",
            "To jest zwykłe polskie zdanie. -26.38755\n",
            "This is a normal English sentence. -37.866207\n",
            "iweryuiiu hrfw3eieur fr -88.53769\n"
          ]
        }
      ]
    },
    {
      "cell_type": "code",
      "source": [
        "import itertools\n",
        "\n",
        "def sentance_perm_prob(sentence_txt):\n",
        "    words = sentence_txt.split()\n",
        "    first_word = words[0]\n",
        "    last_word = words[-1]\n",
        "    words = words[1:-1]\n",
        "    permutations = list(itertools.permutations(words))\n",
        "\n",
        "    perm_prob_list = []\n",
        "\n",
        "    for perm in permutations:\n",
        "        perm = list(perm)\n",
        "        perm.insert(0, first_word)\n",
        "        perm.append(last_word)\n",
        "        sentence = ' '.join(perm)\n",
        "        prob = sentence_prob(sentence)\n",
        "        perm_prob_list.append((sentence, prob))\n",
        "\n",
        "    perm_prob_list.sort(key=lambda x: x[1], reverse=True)\n",
        "\n",
        "    for sentence, prob in perm_prob_list:\n",
        "        print(sentence, prob)\n",
        "\n",
        "\n"
      ],
      "metadata": {
        "id": "EeOyXTqaDZFX"
      },
      "execution_count": null,
      "outputs": []
    },
    {
      "cell_type": "code",
      "source": [
        "sentance_perm_prob('Babuleńka miała dwa rogate koziołki.')"
      ],
      "metadata": {
        "colab": {
          "base_uri": "https://localhost:8080/"
        },
        "id": "ZrWkISMfDvJj",
        "outputId": "c1c446ad-8074-42fd-f9e2-36b472ed002c"
      },
      "execution_count": null,
      "outputs": [
        {
          "output_type": "stream",
          "name": "stdout",
          "text": [
            "Babuleńka miała dwa rogate koziołki. -47.872154\n",
            "Babuleńka rogate miała dwa koziołki. -53.9367\n",
            "Babuleńka miała rogate dwa koziołki. -54.771545\n",
            "Babuleńka dwa miała rogate koziołki. -59.53631\n",
            "Babuleńka dwa rogate miała koziołki. -61.18611\n",
            "Babuleńka rogate dwa miała koziołki. -62.98913\n"
          ]
        }
      ]
    },
    {
      "cell_type": "code",
      "source": [
        "sentance_perm_prob('Wiewiórki w parku zaczepiają przechodniów.')"
      ],
      "metadata": {
        "colab": {
          "base_uri": "https://localhost:8080/"
        },
        "id": "qPfHvD9HDzkI",
        "outputId": "3e77d803-2b66-4d43-fdca-dbbfa2f65faa"
      },
      "execution_count": null,
      "outputs": [
        {
          "output_type": "stream",
          "name": "stdout",
          "text": [
            "Wiewiórki w parku zaczepiają przechodniów. -36.76458\n",
            "Wiewiórki zaczepiają w parku przechodniów. -39.45515\n",
            "Wiewiórki parku zaczepiają w przechodniów. -52.0282\n",
            "Wiewiórki parku w zaczepiają przechodniów. -52.809307\n",
            "Wiewiórki zaczepiają parku w przechodniów. -52.88163\n",
            "Wiewiórki w zaczepiają parku przechodniów. -54.88536\n"
          ]
        }
      ]
    },
    {
      "cell_type": "code",
      "source": [
        "sentance_perm_prob('Mam do napisania sporo kodu dzisiaj.')"
      ],
      "metadata": {
        "colab": {
          "base_uri": "https://localhost:8080/"
        },
        "id": "qsaPJ6FGFr9x",
        "outputId": "5cd9453d-6aca-43c0-87c5-b99e2195a2d2"
      },
      "execution_count": null,
      "outputs": [
        {
          "output_type": "stream",
          "name": "stdout",
          "text": [
            "Mam sporo kodu do napisania dzisiaj. -32.671482\n",
            "Mam do napisania sporo kodu dzisiaj. -35.88851\n",
            "Mam sporo do napisania kodu dzisiaj. -36.844543\n",
            "Mam sporo napisania kodu do dzisiaj. -39.314842\n",
            "Mam sporo kodu napisania do dzisiaj. -40.192787\n",
            "Mam kodu sporo do napisania dzisiaj. -40.204655\n",
            "Mam napisania sporo kodu do dzisiaj. -41.18543\n",
            "Mam kodu do napisania sporo dzisiaj. -42.243862\n",
            "Mam sporo napisania do kodu dzisiaj. -42.65522\n",
            "Mam sporo do kodu napisania dzisiaj. -44.292297\n",
            "Mam do napisania kodu sporo dzisiaj. -45.677986\n",
            "Mam napisania kodu sporo do dzisiaj. -47.079617\n",
            "Mam kodu napisania sporo do dzisiaj. -47.745163\n",
            "Mam napisania sporo do kodu dzisiaj. -48.003754\n",
            "Mam kodu sporo napisania do dzisiaj. -48.31304\n",
            "Mam do kodu napisania sporo dzisiaj. -48.407894\n",
            "Mam kodu do sporo napisania dzisiaj. -48.616055\n",
            "Mam napisania do kodu sporo dzisiaj. -49.37549\n",
            "Mam do kodu sporo napisania dzisiaj. -49.44188\n",
            "Mam napisania kodu do sporo dzisiaj. -51.31284\n",
            "Mam do sporo kodu napisania dzisiaj. -51.358986\n",
            "Mam do sporo napisania kodu dzisiaj. -52.660446\n",
            "Mam napisania do sporo kodu dzisiaj. -53.248863\n",
            "Mam kodu napisania do sporo dzisiaj. -53.75451\n"
          ]
        }
      ]
    },
    {
      "cell_type": "code",
      "source": [
        "def merge_triples(triples):\n",
        "    chains = []\n",
        "\n",
        "    pairs = [(i, j) for i, j, key in triples]\n",
        "\n",
        "    while pairs:\n",
        "        current_chain = list(pairs.pop(0))\n",
        "\n",
        "        while True:\n",
        "            extended = False\n",
        "\n",
        "            for i, (a, b) in enumerate(pairs):\n",
        "                if current_chain[-1] == a:\n",
        "                    current_chain.append(b)\n",
        "                    pairs.pop(i)\n",
        "                    extended = True\n",
        "                    break\n",
        "\n",
        "                elif current_chain[0] == b:\n",
        "                    current_chain.insert(0, a)\n",
        "                    pairs.pop(i)\n",
        "                    extended = True\n",
        "                    break\n",
        "\n",
        "            if not extended:\n",
        "                break\n",
        "\n",
        "        chains.append(current_chain)\n",
        "\n",
        "    return chains\n",
        "\n",
        "triples = [(1, 2, 'key1'), (2, 3, 'key2'), (3, 4, 'key3'), (5, 6, 'key4'), (6, 7, 'key5'), (7, 8, 'key6')]\n",
        "\n",
        "chains = merge_triples(triples)\n",
        "\n",
        "print(chains)\n"
      ],
      "metadata": {
        "id": "LH2HLUib02Or"
      },
      "execution_count": null,
      "outputs": []
    },
    {
      "cell_type": "code",
      "source": [
        "import itertools\n",
        "\n",
        "def sentence_perm_prob2(sentence_txt):\n",
        "    words = sentence_txt.split()\n",
        "    first_word = words[0]\n",
        "    last_word = words[-1]\n",
        "\n",
        "    treshold = -17\n",
        "    similar_pairs = []\n",
        "\n",
        "\n",
        "    for i in range(len(words)):\n",
        "        max_pair = None\n",
        "        for j in range(len(words)):\n",
        "            if i != j and len(words[i])>1 and len(words[j])>1:\n",
        "                pair_prob = sentence_prob(words[i] + ' ' + words[j])\n",
        "                if pair_prob > treshold and (max_pair is None or pair_prob > max_pair[2]):\n",
        "                    max_pair = (i, j, pair_prob)\n",
        "\n",
        "        if max_pair:\n",
        "            similar_pairs.append(max_pair)\n",
        "\n",
        "    similar_pairs_sorted = sorted(similar_pairs, key=lambda x: x[2], reverse=True)\n",
        "\n",
        "    for pair in similar_pairs_sorted:\n",
        "        print(f\"Para: {words[pair[0]]} {words[pair[1]]}, Prawdopodobieństwo: {pair[2]}\")\n",
        "\n",
        "\n",
        "    duplicates=[]\n",
        "    for i in range(len(similar_pairs_sorted)):\n",
        "      for j in range(i+1, len(similar_pairs_sorted)):\n",
        "        if (similar_pairs_sorted[i][0]==similar_pairs_sorted[j][0] or similar_pairs_sorted[i][1]==similar_pairs_sorted[j][1]):\n",
        "            duplicates.append(j)\n",
        "\n",
        "    similar_pairs = [item for index, item in enumerate(similar_pairs_sorted) if index not in duplicates]\n",
        "    similar_pairs=merge_triples(similar_pairs)\n",
        "    words_chunks=[]\n",
        "    all_used=[]\n",
        "\n",
        "    for j in similar_pairs:\n",
        "      chunk=[]\n",
        "      for i in j:\n",
        "        chunk.append(words[i])\n",
        "        all_used.append(words[i])\n",
        "      words_chunks.append(' '.join(chunk))\n",
        "\n",
        "    new_bigwords=[]\n",
        "    remaining_words=list(filter(lambda x: x not in all_used, words))\n",
        "    if (last_word in remaining_words):\n",
        "      remaining_words.remove(last_word)\n",
        "\n",
        "    for i in words_chunks:\n",
        "      if i.split()[0]==first_word:\n",
        "        new_bigwords.append(i)\n",
        "        words_chunks.remove(i)\n",
        "        if (first_word in remaining_words):\n",
        "          remaining_words.remove(first_word)\n",
        "    new_bigwords+=remaining_words\n",
        "\n",
        "    happened=0\n",
        "    for i in words_chunks:\n",
        "      if i.split()[-1]==last_word:\n",
        "        happened=1\n",
        "        words_chunks.remove(i)\n",
        "        new_bigwords+=words_chunks\n",
        "        new_bigwords.append(i)\n",
        "        break\n",
        "\n",
        "\n",
        "    if happened==0:\n",
        "      new_bigwords+=words_chunks\n",
        "      new_bigwords.append(last_word)\n",
        "\n",
        "\n",
        "\n",
        "    return new_bigwords"
      ],
      "metadata": {
        "id": "wImh7e5vmxzG"
      },
      "execution_count": null,
      "outputs": []
    },
    {
      "cell_type": "code",
      "source": [
        "res=sentence_perm_prob2('Wczoraj wieczorem spotkałem pewną wspaniałą kobietę, która z pasją opowiadała o modelach językowych')"
      ],
      "metadata": {
        "colab": {
          "base_uri": "https://localhost:8080/"
        },
        "id": "Y4vpaw3jW442",
        "outputId": "4271b86c-1605-4d59-933d-634b76fe79e9"
      },
      "execution_count": null,
      "outputs": [
        {
          "output_type": "stream",
          "name": "stdout",
          "text": [
            "Para: Wczoraj wieczorem, Prawdopodobieństwo: -3.4624459743499756\n",
            "Para: kobietę, która, Prawdopodobieństwo: -7.233433246612549\n",
            "Para: która opowiadała, Prawdopodobieństwo: -10.009255409240723\n",
            "Para: wspaniałą kobietę,, Prawdopodobieństwo: -10.627364158630371\n",
            "Para: pewną pasją, Prawdopodobieństwo: -12.615326881408691\n",
            "Para: pasją która, Prawdopodobieństwo: -15.735908508300781\n",
            "Para: modelach językowych, Prawdopodobieństwo: -15.765219688415527\n",
            "Para: wieczorem spotkałem, Prawdopodobieństwo: -16.668071746826172\n",
            "Para: językowych pasją, Prawdopodobieństwo: -16.88479232788086\n",
            "sim pairs sorted [(0, 1, array(-3.462446, dtype=float32)), (5, 6, array(-7.2334332, dtype=float32)), (6, 9, array(-10.009255, dtype=float32)), (4, 5, array(-10.627364, dtype=float32)), (3, 8, array(-12.615327, dtype=float32)), (8, 6, array(-15.7359085, dtype=float32)), (11, 12, array(-15.76522, dtype=float32)), (1, 2, array(-16.668072, dtype=float32)), (12, 8, array(-16.884792, dtype=float32))]\n",
            "duplicates [5, 8]\n",
            "sim pairs sorted [(0, 1, array(-3.462446, dtype=float32)), (5, 6, array(-7.2334332, dtype=float32)), (6, 9, array(-10.009255, dtype=float32)), (4, 5, array(-10.627364, dtype=float32)), (3, 8, array(-12.615327, dtype=float32)), (11, 12, array(-15.76522, dtype=float32)), (1, 2, array(-16.668072, dtype=float32))]\n",
            "[[0, 1, 2], [4, 5, 6, 9], [3, 8], [11, 12]]\n"
          ]
        }
      ]
    },
    {
      "cell_type": "code",
      "source": [
        "res"
      ],
      "metadata": {
        "colab": {
          "base_uri": "https://localhost:8080/"
        },
        "id": "4yqN3YKE3UIe",
        "outputId": "21c1e76e-bb9b-4e10-904b-3681443a77b3"
      },
      "execution_count": null,
      "outputs": [
        {
          "output_type": "execute_result",
          "data": {
            "text/plain": [
              "['Wczoraj wieczorem spotkałem',\n",
              " 'z',\n",
              " 'o',\n",
              " 'wspaniałą kobietę, która opowiadała',\n",
              " 'pewną pasją',\n",
              " 'modelach językowych']"
            ]
          },
          "metadata": {},
          "execution_count": 331
        }
      ]
    },
    {
      "cell_type": "code",
      "source": [
        "words=res\n",
        "first_word = words[0]\n",
        "last_word = words[-1]\n",
        "words = words[1:-1]\n",
        "permutations = list(itertools.permutations(words))\n",
        "\n",
        "perm_prob_list = []\n",
        "\n",
        "for perm in permutations:\n",
        "        perm = list(perm)\n",
        "        perm.insert(0, first_word)\n",
        "        perm.append(last_word)\n",
        "        sentence = ' '.join(perm)\n",
        "        prob = sentence_prob(sentence)\n",
        "        perm_prob_list.append((sentence, prob))\n",
        "\n",
        "perm_prob_list.sort(key=lambda x: x[1], reverse=True)\n",
        "\n",
        "for sentence, prob in perm_prob_list:\n",
        "        print(sentence, prob)"
      ],
      "metadata": {
        "colab": {
          "base_uri": "https://localhost:8080/"
        },
        "id": "u3KGK_fIu6mE",
        "outputId": "1a1c0c45-6e10-4a47-d44d-2e4651850788"
      },
      "execution_count": null,
      "outputs": [
        {
          "output_type": "stream",
          "name": "stdout",
          "text": [
            "Wczoraj wieczorem spotkałem wspaniałą kobietę, która opowiadała z pewną pasją o modelach językowych -65.14698\n",
            "Wczoraj wieczorem spotkałem z pewną pasją wspaniałą kobietę, która opowiadała o modelach językowych -69.48961\n",
            "Wczoraj wieczorem spotkałem wspaniałą kobietę, która opowiadała o z pewną pasją modelach językowych -76.20907\n",
            "Wczoraj wieczorem spotkałem o wspaniałą kobietę, która opowiadała z pewną pasją modelach językowych -84.4624\n",
            "Wczoraj wieczorem spotkałem pewną pasją wspaniałą kobietę, która opowiadała o z modelach językowych -84.66511\n",
            "Wczoraj wieczorem spotkałem wspaniałą kobietę, która opowiadała pewną pasją o z modelach językowych -84.90758\n",
            "Wczoraj wieczorem spotkałem wspaniałą kobietę, która opowiadała o pewną pasją z modelach językowych -86.83674\n",
            "Wczoraj wieczorem spotkałem wspaniałą kobietę, która opowiadała pewną pasją z o modelach językowych -87.40142\n",
            "Wczoraj wieczorem spotkałem pewną pasją z wspaniałą kobietę, która opowiadała o modelach językowych -87.40903\n",
            "Wczoraj wieczorem spotkałem wspaniałą kobietę, która opowiadała z o pewną pasją modelach językowych -87.73712\n",
            "Wczoraj wieczorem spotkałem pewną pasją wspaniałą kobietę, która opowiadała z o modelach językowych -88.04335\n",
            "Wczoraj wieczorem spotkałem z wspaniałą kobietę, która opowiadała pewną pasją o modelach językowych -88.64864\n",
            "Wczoraj wieczorem spotkałem z pewną pasją o wspaniałą kobietę, która opowiadała modelach językowych -90.82473\n",
            "Wczoraj wieczorem spotkałem o wspaniałą kobietę, która opowiadała pewną pasją z modelach językowych -93.33078\n",
            "Wczoraj wieczorem spotkałem o z pewną pasją wspaniałą kobietę, która opowiadała modelach językowych -93.73588\n",
            "Wczoraj wieczorem spotkałem o pewną pasją wspaniałą kobietę, która opowiadała z modelach językowych -94.77351\n",
            "Wczoraj wieczorem spotkałem pewną pasją o wspaniałą kobietę, która opowiadała z modelach językowych -94.944786\n",
            "Wczoraj wieczorem spotkałem z o pewną pasją wspaniałą kobietę, która opowiadała modelach językowych -96.58661\n",
            "Wczoraj wieczorem spotkałem z wspaniałą kobietę, która opowiadała o pewną pasją modelach językowych -99.03106\n",
            "Wczoraj wieczorem spotkałem z o wspaniałą kobietę, która opowiadała pewną pasją modelach językowych -99.386696\n",
            "Wczoraj wieczorem spotkałem pewną pasją z o wspaniałą kobietę, która opowiadała modelach językowych -102.38201\n",
            "Wczoraj wieczorem spotkałem o z wspaniałą kobietę, która opowiadała pewną pasją modelach językowych -102.49327\n",
            "Wczoraj wieczorem spotkałem pewną pasją o z wspaniałą kobietę, która opowiadała modelach językowych -105.997475\n",
            "Wczoraj wieczorem spotkałem o pewną pasją z wspaniałą kobietę, która opowiadała modelach językowych -107.90632\n"
          ]
        }
      ]
    },
    {
      "cell_type": "code",
      "source": [
        "res=sentence_perm_prob2('Bardzo dużo ludzi kupuje kamienie szlachetne, ale przecież to ogromna strata pieniędzy')"
      ],
      "metadata": {
        "colab": {
          "base_uri": "https://localhost:8080/"
        },
        "id": "joBMPKlo5W2c",
        "outputId": "dd81608f-302a-4dde-ab05-41ddc3b80d7c"
      },
      "execution_count": null,
      "outputs": [
        {
          "output_type": "stream",
          "name": "stdout",
          "text": [
            "Para: ale to, Prawdopodobieństwo: -3.560964584350586\n",
            "Para: Bardzo dużo, Prawdopodobieństwo: -3.982808828353882\n",
            "Para: to przecież, Prawdopodobieństwo: -8.428681373596191\n",
            "Para: przecież to, Prawdopodobieństwo: -9.125630378723145\n",
            "Para: szlachetne, ale, Prawdopodobieństwo: -9.283679962158203\n",
            "Para: strata to, Prawdopodobieństwo: -9.899646759033203\n",
            "Para: ludzi to, Prawdopodobieństwo: -11.406978607177734\n",
            "Para: dużo ludzi, Prawdopodobieństwo: -11.496063232421875\n",
            "Para: pieniędzy to, Prawdopodobieństwo: -13.878985404968262\n",
            "Para: kamienie to, Prawdopodobieństwo: -14.648480415344238\n",
            "Para: kupuje to, Prawdopodobieństwo: -15.84277057647705\n",
            "sim pairs sorted [(6, 8, array(-3.5609646, dtype=float32)), (0, 1, array(-3.9828088, dtype=float32)), (8, 7, array(-8.428681, dtype=float32)), (7, 8, array(-9.12563, dtype=float32)), (5, 6, array(-9.28368, dtype=float32)), (10, 8, array(-9.899647, dtype=float32)), (2, 8, array(-11.406979, dtype=float32)), (1, 2, array(-11.496063, dtype=float32)), (11, 8, array(-13.878985, dtype=float32)), (4, 8, array(-14.64848, dtype=float32)), (3, 8, array(-15.842771, dtype=float32))]\n",
            "duplicates [3, 5, 6, 8, 9, 10, 5, 6, 8, 9, 10, 6, 8, 9, 10, 8, 9, 10, 9, 10, 10]\n",
            "sim pairs sorted [(6, 8, array(-3.5609646, dtype=float32)), (0, 1, array(-3.9828088, dtype=float32)), (8, 7, array(-8.428681, dtype=float32)), (5, 6, array(-9.28368, dtype=float32)), (1, 2, array(-11.496063, dtype=float32))]\n",
            "[[5, 6, 8, 7], [0, 1, 2]]\n"
          ]
        }
      ]
    },
    {
      "cell_type": "code",
      "source": [
        "res"
      ],
      "metadata": {
        "colab": {
          "base_uri": "https://localhost:8080/"
        },
        "id": "68_JzwiO6LlM",
        "outputId": "f9aa5d00-c481-4ad5-eb97-65a5257a5657"
      },
      "execution_count": null,
      "outputs": [
        {
          "output_type": "execute_result",
          "data": {
            "text/plain": [
              "['Bardzo dużo ludzi',\n",
              " 'kupuje',\n",
              " 'kamienie',\n",
              " 'ogromna',\n",
              " 'strata',\n",
              " 'szlachetne, ale to przecież',\n",
              " 'pieniędzy']"
            ]
          },
          "metadata": {},
          "execution_count": 334
        }
      ]
    },
    {
      "cell_type": "code",
      "source": [
        "words=res\n",
        "first_word = words[0]\n",
        "last_word = words[-1]\n",
        "words = words[1:-1]\n",
        "permutations = list(itertools.permutations(words))\n",
        "\n",
        "perm_prob_list = []\n",
        "\n",
        "for perm in permutations:\n",
        "        perm = list(perm)\n",
        "        perm.insert(0, first_word)\n",
        "        perm.append(last_word)\n",
        "        sentence = ' '.join(perm)\n",
        "        prob = sentence_prob(sentence)\n",
        "        perm_prob_list.append((sentence, prob))\n",
        "\n",
        "perm_prob_list.sort(key=lambda x: x[1], reverse=True)\n",
        "\n",
        "for sentence, prob in perm_prob_list:\n",
        "        print(sentence, prob)"
      ],
      "metadata": {
        "colab": {
          "base_uri": "https://localhost:8080/"
        },
        "id": "A1lA_2alzIWH",
        "outputId": "1b5589cf-d5aa-4227-ef03-4d2d7bf3310a"
      },
      "execution_count": null,
      "outputs": [
        {
          "output_type": "stream",
          "name": "stdout",
          "text": [
            "Bardzo dużo ludzi kupuje kamienie szlachetne, ale to przecież ogromna strata pieniędzy -50.43991\n",
            "Bardzo dużo ludzi kupuje kamienie szlachetne, ale to przecież strata ogromna pieniędzy -55.16678\n",
            "Bardzo dużo ludzi kupuje ogromna kamienie szlachetne, ale to przecież strata pieniędzy -61.396873\n",
            "Bardzo dużo ludzi ogromna kupuje kamienie szlachetne, ale to przecież strata pieniędzy -64.52615\n",
            "Bardzo dużo ludzi kamienie kupuje szlachetne, ale to przecież ogromna strata pieniędzy -69.16112\n",
            "Bardzo dużo ludzi kamienie kupuje szlachetne, ale to przecież strata ogromna pieniędzy -73.14443\n",
            "Bardzo dużo ludzi ogromna strata kupuje kamienie szlachetne, ale to przecież pieniędzy -75.89797\n",
            "Bardzo dużo ludzi kupuje szlachetne, ale to przecież kamienie ogromna strata pieniędzy -76.08854\n",
            "Bardzo dużo ludzi kupuje kamienie ogromna szlachetne, ale to przecież strata pieniędzy -76.418625\n",
            "Bardzo dużo ludzi kupuje ogromna strata kamienie szlachetne, ale to przecież pieniędzy -76.98062\n",
            "Bardzo dużo ludzi kamienie szlachetne, ale to przecież kupuje ogromna strata pieniędzy -77.53793\n",
            "Bardzo dużo ludzi kupuje strata ogromna kamienie szlachetne, ale to przecież pieniędzy -78.21519\n",
            "Bardzo dużo ludzi kupuje szlachetne, ale to przecież kamienie strata ogromna pieniędzy -78.237305\n",
            "Bardzo dużo ludzi strata ogromna kupuje kamienie szlachetne, ale to przecież pieniędzy -78.497185\n",
            "Bardzo dużo ludzi kamienie szlachetne, ale to przecież ogromna kupuje strata pieniędzy -78.49779\n",
            "Bardzo dużo ludzi kupuje szlachetne, ale to przecież ogromna kamienie strata pieniędzy -79.07609\n",
            "Bardzo dużo ludzi ogromna kamienie kupuje szlachetne, ale to przecież strata pieniędzy -79.572914\n",
            "Bardzo dużo ludzi kupuje strata kamienie szlachetne, ale to przecież ogromna pieniędzy -79.589355\n",
            "Bardzo dużo ludzi strata kupuje kamienie szlachetne, ale to przecież ogromna pieniędzy -80.006874\n",
            "Bardzo dużo ludzi kupuje szlachetne, ale to przecież ogromna strata kamienie pieniędzy -80.10317\n",
            "Bardzo dużo ludzi ogromna kamienie szlachetne, ale to przecież kupuje strata pieniędzy -80.80283\n",
            "Bardzo dużo ludzi kamienie szlachetne, ale to przecież kupuje strata ogromna pieniędzy -81.33417\n",
            "Bardzo dużo ludzi kamienie szlachetne, ale to przecież ogromna strata kupuje pieniędzy -81.51497\n",
            "Bardzo dużo ludzi ogromna strata kamienie szlachetne, ale to przecież kupuje pieniędzy -82.24617\n",
            "Bardzo dużo ludzi kamienie ogromna kupuje szlachetne, ale to przecież strata pieniędzy -82.7428\n",
            "Bardzo dużo ludzi szlachetne, ale to przecież kamienie kupuje ogromna strata pieniędzy -83.06311\n",
            "Bardzo dużo ludzi kupuje kamienie strata szlachetne, ale to przecież ogromna pieniędzy -83.17563\n",
            "Bardzo dużo ludzi kamienie kupuje ogromna szlachetne, ale to przecież strata pieniędzy -83.60665\n",
            "Bardzo dużo ludzi kupuje szlachetne, ale to przecież strata ogromna kamienie pieniędzy -84.16414\n",
            "Bardzo dużo ludzi kamienie szlachetne, ale to przecież strata ogromna kupuje pieniędzy -84.392975\n",
            "Bardzo dużo ludzi kupuje kamienie ogromna strata szlachetne, ale to przecież pieniędzy -85.053825\n",
            "Bardzo dużo ludzi kupuje kamienie strata ogromna szlachetne, ale to przecież pieniędzy -85.11911\n",
            "Bardzo dużo ludzi kupuje ogromna szlachetne, ale to przecież kamienie strata pieniędzy -85.265884\n",
            "Bardzo dużo ludzi strata kupuje ogromna kamienie szlachetne, ale to przecież pieniędzy -85.32154\n",
            "Bardzo dużo ludzi ogromna kupuje szlachetne, ale to przecież kamienie strata pieniędzy -85.920906\n",
            "Bardzo dużo ludzi ogromna kupuje strata kamienie szlachetne, ale to przecież pieniędzy -86.17491\n",
            "Bardzo dużo ludzi strata kamienie szlachetne, ale to przecież ogromna kupuje pieniędzy -86.26803\n",
            "Bardzo dużo ludzi szlachetne, ale to przecież ogromna strata kupuje kamienie pieniędzy -86.66295\n",
            "Bardzo dużo ludzi strata ogromna kamienie szlachetne, ale to przecież kupuje pieniędzy -86.83253\n",
            "Bardzo dużo ludzi strata kamienie szlachetne, ale to przecież kupuje ogromna pieniędzy -86.920525\n",
            "Bardzo dużo ludzi kupuje ogromna kamienie strata szlachetne, ale to przecież pieniędzy -87.36269\n",
            "Bardzo dużo ludzi ogromna kamienie szlachetne, ale to przecież strata kupuje pieniędzy -87.41251\n",
            "Bardzo dużo ludzi szlachetne, ale to przecież kupuje kamienie ogromna strata pieniędzy -87.45558\n",
            "Bardzo dużo ludzi kupuje ogromna strata szlachetne, ale to przecież kamienie pieniędzy -87.490776\n",
            "Bardzo dużo ludzi szlachetne, ale to przecież kamienie kupuje strata ogromna pieniędzy -87.666084\n",
            "Bardzo dużo ludzi kupuje szlachetne, ale to przecież strata kamienie ogromna pieniędzy -87.96816\n",
            "Bardzo dużo ludzi ogromna strata kupuje szlachetne, ale to przecież kamienie pieniędzy -88.06821\n",
            "Bardzo dużo ludzi kupuje strata ogromna szlachetne, ale to przecież kamienie pieniędzy -88.104485\n",
            "Bardzo dużo ludzi ogromna strata szlachetne, ale to przecież kupuje kamienie pieniędzy -88.21356\n",
            "Bardzo dużo ludzi kamienie szlachetne, ale to przecież strata kupuje ogromna pieniędzy -88.55315\n",
            "Bardzo dużo ludzi szlachetne, ale to przecież ogromna strata kamienie kupuje pieniędzy -89.08012\n",
            "Bardzo dużo ludzi ogromna strata kamienie kupuje szlachetne, ale to przecież pieniędzy -89.16634\n",
            "Bardzo dużo ludzi szlachetne, ale to przecież kupuje kamienie strata ogromna pieniędzy -89.52414\n",
            "Bardzo dużo ludzi szlachetne, ale to przecież strata ogromna kupuje kamienie pieniędzy -89.68517\n",
            "Bardzo dużo ludzi szlachetne, ale to przecież ogromna kupuje kamienie strata pieniędzy -90.25532\n",
            "Bardzo dużo ludzi kamienie strata ogromna kupuje szlachetne, ale to przecież pieniędzy -90.335625\n",
            "Bardzo dużo ludzi strata ogromna kupuje szlachetne, ale to przecież kamienie pieniędzy -90.45556\n",
            "Bardzo dużo ludzi kupuje ogromna szlachetne, ale to przecież strata kamienie pieniędzy -90.84789\n",
            "Bardzo dużo ludzi kamienie kupuje ogromna strata szlachetne, ale to przecież pieniędzy -91.23963\n",
            "Bardzo dużo ludzi ogromna kupuje kamienie strata szlachetne, ale to przecież pieniędzy -91.30263\n",
            "Bardzo dużo ludzi kupuje strata szlachetne, ale to przecież ogromna kamienie pieniędzy -91.3939\n",
            "Bardzo dużo ludzi ogromna strata szlachetne, ale to przecież kamienie kupuje pieniędzy -91.71718\n",
            "Bardzo dużo ludzi strata ogromna kamienie kupuje szlachetne, ale to przecież pieniędzy -91.81466\n",
            "Bardzo dużo ludzi kamienie ogromna strata kupuje szlachetne, ale to przecież pieniędzy -91.85026\n",
            "Bardzo dużo ludzi kamienie kupuje strata ogromna szlachetne, ale to przecież pieniędzy -91.92072\n",
            "Bardzo dużo ludzi ogromna kamienie strata kupuje szlachetne, ale to przecież pieniędzy -91.94185\n",
            "Bardzo dużo ludzi szlachetne, ale to przecież kamienie ogromna kupuje strata pieniędzy -92.1278\n",
            "Bardzo dużo ludzi ogromna szlachetne, ale to przecież kupuje kamienie strata pieniędzy -92.14032\n",
            "Bardzo dużo ludzi szlachetne, ale to przecież strata kamienie kupuje ogromna pieniędzy -92.29522\n",
            "Bardzo dużo ludzi ogromna szlachetne, ale to przecież kamienie kupuje strata pieniędzy -92.45436\n",
            "Bardzo dużo ludzi ogromna kupuje szlachetne, ale to przecież strata kamienie pieniędzy -92.52639\n",
            "Bardzo dużo ludzi kamienie strata kupuje szlachetne, ale to przecież ogromna pieniędzy -92.61871\n",
            "Bardzo dużo ludzi szlachetne, ale to przecież strata ogromna kamienie kupuje pieniędzy -92.98962\n",
            "Bardzo dużo ludzi strata kamienie kupuje szlachetne, ale to przecież ogromna pieniędzy -92.991\n",
            "Bardzo dużo ludzi strata ogromna szlachetne, ale to przecież kupuje kamienie pieniędzy -93.20167\n",
            "Bardzo dużo ludzi ogromna kamienie strata szlachetne, ale to przecież kupuje pieniędzy -93.215126\n",
            "Bardzo dużo ludzi kamienie kupuje strata szlachetne, ale to przecież ogromna pieniędzy -93.40219\n",
            "Bardzo dużo ludzi kamienie ogromna strata szlachetne, ale to przecież kupuje pieniędzy -93.59855\n",
            "Bardzo dużo ludzi strata szlachetne, ale to przecież ogromna kupuje kamienie pieniędzy -93.79963\n",
            "Bardzo dużo ludzi szlachetne, ale to przecież kupuje ogromna kamienie strata pieniędzy -94.4022\n",
            "Bardzo dużo ludzi szlachetne, ale to przecież ogromna kamienie kupuje strata pieniędzy -94.47547\n",
            "Bardzo dużo ludzi szlachetne, ale to przecież kamienie strata ogromna kupuje pieniędzy -94.67516\n",
            "Bardzo dużo ludzi kupuje strata kamienie ogromna szlachetne, ale to przecież pieniędzy -94.70755\n",
            "Bardzo dużo ludzi kamienie strata ogromna szlachetne, ale to przecież kupuje pieniędzy -94.785095\n",
            "Bardzo dużo ludzi kamienie ogromna szlachetne, ale to przecież kupuje strata pieniędzy -94.82758\n",
            "Bardzo dużo ludzi szlachetne, ale to przecież kamienie ogromna strata kupuje pieniędzy -94.83834\n",
            "Bardzo dużo ludzi kupuje strata szlachetne, ale to przecież kamienie ogromna pieniędzy -95.26285\n",
            "Bardzo dużo ludzi strata szlachetne, ale to przecież kamienie kupuje ogromna pieniędzy -95.36242\n",
            "Bardzo dużo ludzi szlachetne, ale to przecież kamienie strata kupuje ogromna pieniędzy -95.549065\n",
            "Bardzo dużo ludzi szlachetne, ale to przecież kupuje ogromna strata kamienie pieniędzy -95.745735\n",
            "Bardzo dużo ludzi szlachetne, ale to przecież ogromna kupuje strata kamienie pieniędzy -95.78092\n",
            "Bardzo dużo ludzi strata szlachetne, ale to przecież kupuje ogromna kamienie pieniędzy -95.809525\n",
            "Bardzo dużo ludzi ogromna szlachetne, ale to przecież strata kupuje kamienie pieniędzy -95.816696\n",
            "Bardzo dużo ludzi kamienie strata szlachetne, ale to przecież kupuje ogromna pieniędzy -95.873245\n",
            "Bardzo dużo ludzi kamienie strata szlachetne, ale to przecież ogromna kupuje pieniędzy -96.0294\n",
            "Bardzo dużo ludzi strata kupuje szlachetne, ale to przecież ogromna kamienie pieniędzy -96.042564\n",
            "Bardzo dużo ludzi ogromna kupuje strata szlachetne, ale to przecież kamienie pieniędzy -96.059555\n",
            "Bardzo dużo ludzi szlachetne, ale to przecież kupuje strata ogromna kamienie pieniędzy -96.08889\n",
            "Bardzo dużo ludzi strata ogromna szlachetne, ale to przecież kamienie kupuje pieniędzy -96.102165\n",
            "Bardzo dużo ludzi strata szlachetne, ale to przecież kupuje kamienie ogromna pieniędzy -96.13803\n",
            "Bardzo dużo ludzi ogromna szlachetne, ale to przecież strata kamienie kupuje pieniędzy -96.15943\n",
            "Bardzo dużo ludzi strata kamienie ogromna kupuje szlachetne, ale to przecież pieniędzy -96.52767\n",
            "Bardzo dużo ludzi ogromna kamienie kupuje strata szlachetne, ale to przecież pieniędzy -96.60252\n",
            "Bardzo dużo ludzi szlachetne, ale to przecież strata kupuje kamienie ogromna pieniędzy -97.25132\n",
            "Bardzo dużo ludzi szlachetne, ale to przecież ogromna kamienie strata kupuje pieniędzy -97.33456\n",
            "Bardzo dużo ludzi szlachetne, ale to przecież strata kupuje ogromna kamienie pieniędzy -97.58164\n",
            "Bardzo dużo ludzi kamienie strata kupuje ogromna szlachetne, ale to przecież pieniędzy -97.766914\n",
            "Bardzo dużo ludzi ogromna szlachetne, ale to przecież kupuje strata kamienie pieniędzy -98.34147\n",
            "Bardzo dużo ludzi strata kamienie kupuje ogromna szlachetne, ale to przecież pieniędzy -98.363144\n",
            "Bardzo dużo ludzi szlachetne, ale to przecież strata kamienie ogromna kupuje pieniędzy -98.59446\n",
            "Bardzo dużo ludzi strata kupuje szlachetne, ale to przecież kamienie ogromna pieniędzy -98.80566\n",
            "Bardzo dużo ludzi strata szlachetne, ale to przecież kamienie ogromna kupuje pieniędzy -98.97238\n",
            "Bardzo dużo ludzi ogromna szlachetne, ale to przecież kamienie strata kupuje pieniędzy -99.13396\n",
            "Bardzo dużo ludzi strata kupuje ogromna szlachetne, ale to przecież kamienie pieniędzy -99.137985\n",
            "Bardzo dużo ludzi strata szlachetne, ale to przecież ogromna kamienie kupuje pieniędzy -99.27312\n",
            "Bardzo dużo ludzi strata kupuje kamienie ogromna szlachetne, ale to przecież pieniędzy -99.49652\n",
            "Bardzo dużo ludzi szlachetne, ale to przecież kupuje strata kamienie ogromna pieniędzy -99.567604\n",
            "Bardzo dużo ludzi kamienie ogromna kupuje strata szlachetne, ale to przecież pieniędzy -99.662865\n",
            "Bardzo dużo ludzi strata kamienie ogromna szlachetne, ale to przecież kupuje pieniędzy -100.583015\n",
            "Bardzo dużo ludzi kamienie ogromna szlachetne, ale to przecież strata kupuje pieniędzy -100.88333\n"
          ]
        }
      ]
    },
    {
      "cell_type": "code",
      "source": [
        "res=sentence_perm_prob2('Dzień dobry moja droga przyjaciółko, chcę pożyczyć tę czerwoną sukienkę, którą ostatnio kupiłaś')\n",
        "words=res\n",
        "print(res)\n",
        "first_word = words[0]\n",
        "last_word = words[-1]\n",
        "words = words[1:-1]\n",
        "permutations = list(itertools.permutations(words))\n",
        "\n",
        "perm_prob_list = []\n",
        "\n",
        "for perm in permutations:\n",
        "        perm = list(perm)\n",
        "        perm.insert(0, first_word)\n",
        "        perm.append(last_word)\n",
        "        sentence = ' '.join(perm)\n",
        "        prob = sentence_prob(sentence)\n",
        "        perm_prob_list.append((sentence, prob))\n",
        "\n",
        "perm_prob_list.sort(key=lambda x: x[1], reverse=True)\n",
        "\n",
        "for sentence, prob in perm_prob_list:\n",
        "        print(sentence, prob)"
      ],
      "metadata": {
        "colab": {
          "base_uri": "https://localhost:8080/"
        },
        "id": "uYo-kc3SPYGE",
        "outputId": "2a25917f-8523-407d-a8f9-454cd72e5883"
      },
      "execution_count": null,
      "outputs": [
        {
          "output_type": "stream",
          "name": "stdout",
          "text": [
            "Para: Dzień dobry, Prawdopodobieństwo: -4.132632255554199\n",
            "Para: moja droga, Prawdopodobieństwo: -5.2572245597839355\n",
            "Para: dobry droga, Prawdopodobieństwo: -8.590896606445312\n",
            "Para: tę którą, Prawdopodobieństwo: -8.9304780960083\n",
            "Para: czerwoną sukienkę,, Prawdopodobieństwo: -9.017252922058105\n",
            "Para: ostatnio moja, Prawdopodobieństwo: -9.221725463867188\n",
            "Para: którą ostatnio, Prawdopodobieństwo: -9.934356689453125\n",
            "Para: pożyczyć tę, Prawdopodobieństwo: -10.57879638671875\n",
            "Para: droga którą, Prawdopodobieństwo: -14.28562068939209\n",
            "Para: chcę pożyczyć, Prawdopodobieństwo: -15.522771835327148\n",
            "Para: przyjaciółko, moja, Prawdopodobieństwo: -16.68511199951172\n",
            "sim pairs sorted [(0, 1, array(-4.1326323, dtype=float32)), (2, 3, array(-5.2572246, dtype=float32)), (1, 3, array(-8.590897, dtype=float32)), (7, 10, array(-8.930478, dtype=float32)), (8, 9, array(-9.017253, dtype=float32)), (11, 2, array(-9.221725, dtype=float32)), (10, 11, array(-9.934357, dtype=float32)), (6, 7, array(-10.578796, dtype=float32)), (3, 10, array(-14.285621, dtype=float32)), (5, 6, array(-15.522772, dtype=float32)), (4, 2, array(-16.685112, dtype=float32))]\n",
            "duplicates [2, 8, 10]\n",
            "sim pairs sorted [(0, 1, array(-4.1326323, dtype=float32)), (2, 3, array(-5.2572246, dtype=float32)), (7, 10, array(-8.930478, dtype=float32)), (8, 9, array(-9.017253, dtype=float32)), (11, 2, array(-9.221725, dtype=float32)), (10, 11, array(-9.934357, dtype=float32)), (6, 7, array(-10.578796, dtype=float32)), (5, 6, array(-15.522772, dtype=float32))]\n",
            "[[0, 1], [5, 6, 7, 10, 11, 2, 3], [8, 9]]\n",
            "['Dzień dobry', 'przyjaciółko,', 'chcę pożyczyć tę którą ostatnio moja droga', 'czerwoną sukienkę,', 'kupiłaś']\n",
            "Dzień dobry czerwoną sukienkę, chcę pożyczyć tę którą ostatnio moja droga przyjaciółko, kupiłaś -88.40391\n",
            "Dzień dobry przyjaciółko, czerwoną sukienkę, chcę pożyczyć tę którą ostatnio moja droga kupiłaś -90.20094\n",
            "Dzień dobry przyjaciółko, chcę pożyczyć tę którą ostatnio moja droga czerwoną sukienkę, kupiłaś -93.94975\n",
            "Dzień dobry chcę pożyczyć tę którą ostatnio moja droga przyjaciółko, czerwoną sukienkę, kupiłaś -94.92994\n",
            "Dzień dobry czerwoną sukienkę, przyjaciółko, chcę pożyczyć tę którą ostatnio moja droga kupiłaś -95.22015\n",
            "Dzień dobry chcę pożyczyć tę którą ostatnio moja droga czerwoną sukienkę, przyjaciółko, kupiłaś -102.891556\n"
          ]
        }
      ]
    }
  ]
}